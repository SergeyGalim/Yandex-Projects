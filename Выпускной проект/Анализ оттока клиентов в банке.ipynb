{
 "cells": [
  {
   "cell_type": "markdown",
   "metadata": {},
   "source": [
    "<center><b><font size=\"5\">Выпускной проект: Анализ оттока клиентов в банке</font></b></center>"
   ]
  },
  {
   "cell_type": "markdown",
   "metadata": {
    "toc": true
   },
   "source": [
    "<h1>Оглавление<span class=\"tocSkip\"></span></h1>\n",
    "<div class=\"toc\"><ul class=\"toc-item\"><li><span><a href=\"#Предобработка-данных\" data-toc-modified-id=\"Предобработка-данных-1\"><span class=\"toc-item-num\">1&nbsp;&nbsp;</span>Предобработка данных</a></span><ul class=\"toc-item\"><li><span><a href=\"#Аномальные-значения\" data-toc-modified-id=\"Аномальные-значения-1.1\"><span class=\"toc-item-num\">1.1&nbsp;&nbsp;</span>Аномальные значения</a></span></li><li><span><a href=\"#Пропуски-в-данных\" data-toc-modified-id=\"Пропуски-в-данных-1.2\"><span class=\"toc-item-num\">1.2&nbsp;&nbsp;</span>Пропуски в данных</a></span></li><li><span><a href=\"#Дубликаты\" data-toc-modified-id=\"Дубликаты-1.3\"><span class=\"toc-item-num\">1.3&nbsp;&nbsp;</span>Дубликаты</a></span></li><li><span><a href=\"#Типы-данных-столбцов\" data-toc-modified-id=\"Типы-данных-столбцов-1.4\"><span class=\"toc-item-num\">1.4&nbsp;&nbsp;</span>Типы данных столбцов</a></span></li><li><span><a href=\"#Колонки\" data-toc-modified-id=\"Колонки-1.5\"><span class=\"toc-item-num\">1.5&nbsp;&nbsp;</span>Колонки</a></span></li><li><span><a href=\"#Промежуточный-вывод\" data-toc-modified-id=\"Промежуточный-вывод-1.6\"><span class=\"toc-item-num\">1.6&nbsp;&nbsp;</span>Промежуточный вывод</a></span></li></ul></li><li><span><a href=\"#Исследовательский-анализ-данных\" data-toc-modified-id=\"Исследовательский-анализ-данных-2\"><span class=\"toc-item-num\">2&nbsp;&nbsp;</span>Исследовательский анализ данных</a></span><ul class=\"toc-item\"><li><span><a href=\"#Распределение-клиентов-по-различным-признакам-в-разрезе-оттока\" data-toc-modified-id=\"Распределение-клиентов-по-различным-признакам-в-разрезе-оттока-2.1\"><span class=\"toc-item-num\">2.1&nbsp;&nbsp;</span>Распределение клиентов по различным признакам в разрезе оттока</a></span></li><li><span><a href=\"#Корреляция\" data-toc-modified-id=\"Корреляция-2.2\"><span class=\"toc-item-num\">2.2&nbsp;&nbsp;</span>Корреляция</a></span></li><li><span><a href=\"#Портреты-клиентов\" data-toc-modified-id=\"Портреты-клиентов-2.3\"><span class=\"toc-item-num\">2.3&nbsp;&nbsp;</span>Портреты клиентов</a></span></li></ul></li><li><span><a href=\"#Проверка-статистических-гипотез\" data-toc-modified-id=\"Проверка-статистических-гипотез-3\"><span class=\"toc-item-num\">3&nbsp;&nbsp;</span>Проверка статистических гипотез</a></span><ul class=\"toc-item\"><li><span><a href=\"#Гипотеза-1\" data-toc-modified-id=\"Гипотеза-1-3.1\"><span class=\"toc-item-num\">3.1&nbsp;&nbsp;</span>Гипотеза 1</a></span></li><li><span><a href=\"#Гипотеза-2\" data-toc-modified-id=\"Гипотеза-2-3.2\"><span class=\"toc-item-num\">3.2&nbsp;&nbsp;</span>Гипотеза 2</a></span></li></ul></li><li><span><a href=\"#Общий-вывод\" data-toc-modified-id=\"Общий-вывод-4\"><span class=\"toc-item-num\">4&nbsp;&nbsp;</span>Общий вывод</a></span></li></ul></div>"
   ]
  },
  {
   "cell_type": "markdown",
   "metadata": {},
   "source": [
    "<center><b><font size=\"4\">Дополнительные материалы</font></b></center>"
   ]
  },
  {
   "cell_type": "markdown",
   "metadata": {},
   "source": [
    "<b><font size=\"3\">Ссылка на презентацию: https://docs.google.com/presentation/d/19TYpreflsGZJTTXlPKrPHq3x7MCDt5Kv/edit?usp=share_link&ouid=116710672781737415280&rtpof=true&sd=true</font></b>"
   ]
  },
  {
   "cell_type": "markdown",
   "metadata": {},
   "source": [
    "<b><font size=\"3\">Ссылка на дашборд: https://public.tableau.com/app/profile/ivan.ivanov1536/viz/Finalproject_16846586085550/Dashboard1</font></b>"
   ]
  },
  {
   "cell_type": "markdown",
   "metadata": {},
   "source": [
    "<center><b><font size=\"4\">Загрузка библиотек</font></b></center>"
   ]
  },
  {
   "cell_type": "code",
   "execution_count": 1,
   "metadata": {},
   "outputs": [],
   "source": [
    "# загрузим необходимые для работы библиотеки\n",
    "import pandas as pd\n",
    "import seaborn as sns\n",
    "import matplotlib.pyplot as plt\n",
    "import itertools\n",
    "import phik\n",
    "from phik.report import plot_correlation_matrix\n",
    "from phik import report\n",
    "from scipy import stats as st\n",
    "import numpy as np"
   ]
  },
  {
   "cell_type": "code",
   "execution_count": 2,
   "metadata": {},
   "outputs": [],
   "source": [
    "# сбросим ограничения на количество выводимых рядов\n",
    "pd.set_option('display.max_rows', None)\n",
    " \n",
    "# сбросим ограничения на число столбцов\n",
    "pd.set_option('display.max_columns', None)\n",
    " \n",
    "# сбросим ограничения на количество символов в записи\n",
    "pd.set_option('display.max_colwidth', None)"
   ]
  },
  {
   "cell_type": "code",
   "execution_count": 3,
   "metadata": {},
   "outputs": [],
   "source": [
    "# установим стиль графиков и размер фигур\n",
    "plt.style.use(\"dark_background\")\n",
    "plt.rcParams['figure.figsize'] = (10, 6)"
   ]
  },
  {
   "cell_type": "markdown",
   "metadata": {},
   "source": [
    "### Предобработка данных"
   ]
  },
  {
   "cell_type": "code",
   "execution_count": null,
   "metadata": {},
   "outputs": [],
   "source": [
    "# загрузим данные в переменную df\n",
    "df = pd.read_csv('bank.csv')"
   ]
  },
  {
   "cell_type": "markdown",
   "metadata": {},
   "source": [
    "#### Аномальные значения"
   ]
  },
  {
   "cell_type": "code",
   "execution_count": 5,
   "metadata": {},
   "outputs": [
    {
     "data": {
      "text/html": [
       "<div>\n",
       "<style scoped>\n",
       "    .dataframe tbody tr th:only-of-type {\n",
       "        vertical-align: middle;\n",
       "    }\n",
       "\n",
       "    .dataframe tbody tr th {\n",
       "        vertical-align: top;\n",
       "    }\n",
       "\n",
       "    .dataframe thead th {\n",
       "        text-align: right;\n",
       "    }\n",
       "</style>\n",
       "<table border=\"1\" class=\"dataframe\">\n",
       "  <thead>\n",
       "    <tr style=\"text-align: right;\">\n",
       "      <th></th>\n",
       "      <th>USERID</th>\n",
       "      <th>score</th>\n",
       "      <th>age</th>\n",
       "      <th>equity</th>\n",
       "      <th>balance</th>\n",
       "      <th>products</th>\n",
       "      <th>credit_card</th>\n",
       "      <th>last_activity</th>\n",
       "      <th>EST_SALARY</th>\n",
       "      <th>churn</th>\n",
       "    </tr>\n",
       "  </thead>\n",
       "  <tbody>\n",
       "    <tr>\n",
       "      <th>count</th>\n",
       "      <td>10000.00</td>\n",
       "      <td>10000.00</td>\n",
       "      <td>9974.00</td>\n",
       "      <td>10000.00</td>\n",
       "      <td>7705.00</td>\n",
       "      <td>10000.00</td>\n",
       "      <td>10000.00</td>\n",
       "      <td>10000.00</td>\n",
       "      <td>10000.00</td>\n",
       "      <td>10000.00</td>\n",
       "    </tr>\n",
       "    <tr>\n",
       "      <th>mean</th>\n",
       "      <td>171814.71</td>\n",
       "      <td>848.70</td>\n",
       "      <td>42.73</td>\n",
       "      <td>2.63</td>\n",
       "      <td>827794.31</td>\n",
       "      <td>1.87</td>\n",
       "      <td>0.68</td>\n",
       "      <td>0.52</td>\n",
       "      <td>147866.89</td>\n",
       "      <td>0.18</td>\n",
       "    </tr>\n",
       "    <tr>\n",
       "      <th>std</th>\n",
       "      <td>33708.24</td>\n",
       "      <td>65.45</td>\n",
       "      <td>12.18</td>\n",
       "      <td>1.98</td>\n",
       "      <td>1980614.15</td>\n",
       "      <td>0.79</td>\n",
       "      <td>0.47</td>\n",
       "      <td>0.50</td>\n",
       "      <td>139388.51</td>\n",
       "      <td>0.39</td>\n",
       "    </tr>\n",
       "    <tr>\n",
       "      <th>min</th>\n",
       "      <td>94561.00</td>\n",
       "      <td>642.00</td>\n",
       "      <td>18.00</td>\n",
       "      <td>0.00</td>\n",
       "      <td>0.00</td>\n",
       "      <td>0.00</td>\n",
       "      <td>0.00</td>\n",
       "      <td>0.00</td>\n",
       "      <td>2546.30</td>\n",
       "      <td>0.00</td>\n",
       "    </tr>\n",
       "    <tr>\n",
       "      <th>25%</th>\n",
       "      <td>142810.25</td>\n",
       "      <td>802.00</td>\n",
       "      <td>33.00</td>\n",
       "      <td>0.00</td>\n",
       "      <td>295554.16</td>\n",
       "      <td>1.00</td>\n",
       "      <td>0.00</td>\n",
       "      <td>0.00</td>\n",
       "      <td>75251.90</td>\n",
       "      <td>0.00</td>\n",
       "    </tr>\n",
       "    <tr>\n",
       "      <th>50%</th>\n",
       "      <td>172728.00</td>\n",
       "      <td>853.00</td>\n",
       "      <td>40.00</td>\n",
       "      <td>3.00</td>\n",
       "      <td>524272.20</td>\n",
       "      <td>2.00</td>\n",
       "      <td>1.00</td>\n",
       "      <td>1.00</td>\n",
       "      <td>119658.10</td>\n",
       "      <td>0.00</td>\n",
       "    </tr>\n",
       "    <tr>\n",
       "      <th>75%</th>\n",
       "      <td>201261.75</td>\n",
       "      <td>900.00</td>\n",
       "      <td>51.00</td>\n",
       "      <td>4.00</td>\n",
       "      <td>980705.85</td>\n",
       "      <td>2.00</td>\n",
       "      <td>1.00</td>\n",
       "      <td>1.00</td>\n",
       "      <td>174500.54</td>\n",
       "      <td>0.00</td>\n",
       "    </tr>\n",
       "    <tr>\n",
       "      <th>max</th>\n",
       "      <td>229145.00</td>\n",
       "      <td>1000.00</td>\n",
       "      <td>86.00</td>\n",
       "      <td>9.00</td>\n",
       "      <td>119113552.01</td>\n",
       "      <td>5.00</td>\n",
       "      <td>1.00</td>\n",
       "      <td>1.00</td>\n",
       "      <td>1395064.45</td>\n",
       "      <td>1.00</td>\n",
       "    </tr>\n",
       "  </tbody>\n",
       "</table>\n",
       "</div>"
      ],
      "text/plain": [
       "         USERID    score     age   equity      balance  products  credit_card  \\\n",
       "count  10000.00 10000.00 9974.00 10000.00      7705.00  10000.00     10000.00   \n",
       "mean  171814.71   848.70   42.73     2.63    827794.31      1.87         0.68   \n",
       "std    33708.24    65.45   12.18     1.98   1980614.15      0.79         0.47   \n",
       "min    94561.00   642.00   18.00     0.00         0.00      0.00         0.00   \n",
       "25%   142810.25   802.00   33.00     0.00    295554.16      1.00         0.00   \n",
       "50%   172728.00   853.00   40.00     3.00    524272.20      2.00         1.00   \n",
       "75%   201261.75   900.00   51.00     4.00    980705.85      2.00         1.00   \n",
       "max   229145.00  1000.00   86.00     9.00 119113552.01      5.00         1.00   \n",
       "\n",
       "       last_activity  EST_SALARY    churn  \n",
       "count       10000.00    10000.00 10000.00  \n",
       "mean            0.52   147866.89     0.18  \n",
       "std             0.50   139388.51     0.39  \n",
       "min             0.00     2546.30     0.00  \n",
       "25%             0.00    75251.90     0.00  \n",
       "50%             1.00   119658.10     0.00  \n",
       "75%             1.00   174500.54     0.00  \n",
       "max             1.00  1395064.45     1.00  "
      ]
     },
     "execution_count": 5,
     "metadata": {},
     "output_type": "execute_result"
    }
   ],
   "source": [
    "# выведем значения столбцов полностью, без сокращений, с 2 знаками после запятой\n",
    "pd.options.display.float_format = '{:.2f}'.format\n",
    "df.describe()"
   ]
  },
  {
   "cell_type": "markdown",
   "metadata": {},
   "source": [
    "Аномалии встречаются в столбцах products. У клиентов не может быть 0 продуктов. Посчитаем, сколько таких клиентов и примем решение, стоит ли их удалять."
   ]
  },
  {
   "cell_type": "code",
   "execution_count": 6,
   "metadata": {},
   "outputs": [
    {
     "data": {
      "text/plain": [
       "1"
      ]
     },
     "execution_count": 6,
     "metadata": {},
     "output_type": "execute_result"
    }
   ],
   "source": [
    "df.query('products == 0').shape[0]"
   ]
  },
  {
   "cell_type": "markdown",
   "metadata": {},
   "source": [
    "Лишь 1 клиент имеет 0 продуктов. Удаление не приведет к масштабным изменениям в датасете."
   ]
  },
  {
   "cell_type": "code",
   "execution_count": 7,
   "metadata": {},
   "outputs": [],
   "source": [
    "# избавимся от аномальных значений\n",
    "df.query('products > 0', inplace=True)"
   ]
  },
  {
   "cell_type": "code",
   "execution_count": 8,
   "metadata": {},
   "outputs": [
    {
     "data": {
      "text/html": [
       "<div>\n",
       "<style scoped>\n",
       "    .dataframe tbody tr th:only-of-type {\n",
       "        vertical-align: middle;\n",
       "    }\n",
       "\n",
       "    .dataframe tbody tr th {\n",
       "        vertical-align: top;\n",
       "    }\n",
       "\n",
       "    .dataframe thead th {\n",
       "        text-align: right;\n",
       "    }\n",
       "</style>\n",
       "<table border=\"1\" class=\"dataframe\">\n",
       "  <thead>\n",
       "    <tr style=\"text-align: right;\">\n",
       "      <th></th>\n",
       "      <th>USERID</th>\n",
       "      <th>score</th>\n",
       "      <th>age</th>\n",
       "      <th>equity</th>\n",
       "      <th>balance</th>\n",
       "      <th>products</th>\n",
       "      <th>credit_card</th>\n",
       "      <th>last_activity</th>\n",
       "      <th>EST_SALARY</th>\n",
       "      <th>churn</th>\n",
       "    </tr>\n",
       "  </thead>\n",
       "  <tbody>\n",
       "    <tr>\n",
       "      <th>count</th>\n",
       "      <td>9999.00</td>\n",
       "      <td>9999.00</td>\n",
       "      <td>9973.00</td>\n",
       "      <td>9999.00</td>\n",
       "      <td>7705.00</td>\n",
       "      <td>9999.00</td>\n",
       "      <td>9999.00</td>\n",
       "      <td>9999.00</td>\n",
       "      <td>9999.00</td>\n",
       "      <td>9999.00</td>\n",
       "    </tr>\n",
       "    <tr>\n",
       "      <th>mean</th>\n",
       "      <td>171817.11</td>\n",
       "      <td>848.69</td>\n",
       "      <td>42.73</td>\n",
       "      <td>2.63</td>\n",
       "      <td>827794.31</td>\n",
       "      <td>1.87</td>\n",
       "      <td>0.68</td>\n",
       "      <td>0.52</td>\n",
       "      <td>147879.17</td>\n",
       "      <td>0.18</td>\n",
       "    </tr>\n",
       "    <tr>\n",
       "      <th>std</th>\n",
       "      <td>33709.07</td>\n",
       "      <td>65.44</td>\n",
       "      <td>12.18</td>\n",
       "      <td>1.98</td>\n",
       "      <td>1980614.15</td>\n",
       "      <td>0.79</td>\n",
       "      <td>0.47</td>\n",
       "      <td>0.50</td>\n",
       "      <td>139390.07</td>\n",
       "      <td>0.39</td>\n",
       "    </tr>\n",
       "    <tr>\n",
       "      <th>min</th>\n",
       "      <td>94561.00</td>\n",
       "      <td>642.00</td>\n",
       "      <td>18.00</td>\n",
       "      <td>0.00</td>\n",
       "      <td>0.00</td>\n",
       "      <td>1.00</td>\n",
       "      <td>0.00</td>\n",
       "      <td>0.00</td>\n",
       "      <td>2546.30</td>\n",
       "      <td>0.00</td>\n",
       "    </tr>\n",
       "    <tr>\n",
       "      <th>25%</th>\n",
       "      <td>142809.50</td>\n",
       "      <td>802.00</td>\n",
       "      <td>33.00</td>\n",
       "      <td>0.00</td>\n",
       "      <td>295554.16</td>\n",
       "      <td>1.00</td>\n",
       "      <td>0.00</td>\n",
       "      <td>0.00</td>\n",
       "      <td>75252.12</td>\n",
       "      <td>0.00</td>\n",
       "    </tr>\n",
       "    <tr>\n",
       "      <th>50%</th>\n",
       "      <td>172740.00</td>\n",
       "      <td>853.00</td>\n",
       "      <td>40.00</td>\n",
       "      <td>3.00</td>\n",
       "      <td>524272.20</td>\n",
       "      <td>2.00</td>\n",
       "      <td>1.00</td>\n",
       "      <td>1.00</td>\n",
       "      <td>119661.51</td>\n",
       "      <td>0.00</td>\n",
       "    </tr>\n",
       "    <tr>\n",
       "      <th>75%</th>\n",
       "      <td>201262.50</td>\n",
       "      <td>900.00</td>\n",
       "      <td>51.00</td>\n",
       "      <td>4.00</td>\n",
       "      <td>980705.85</td>\n",
       "      <td>2.00</td>\n",
       "      <td>1.00</td>\n",
       "      <td>1.00</td>\n",
       "      <td>174501.12</td>\n",
       "      <td>0.00</td>\n",
       "    </tr>\n",
       "    <tr>\n",
       "      <th>max</th>\n",
       "      <td>229145.00</td>\n",
       "      <td>1000.00</td>\n",
       "      <td>86.00</td>\n",
       "      <td>9.00</td>\n",
       "      <td>119113552.01</td>\n",
       "      <td>5.00</td>\n",
       "      <td>1.00</td>\n",
       "      <td>1.00</td>\n",
       "      <td>1395064.45</td>\n",
       "      <td>1.00</td>\n",
       "    </tr>\n",
       "  </tbody>\n",
       "</table>\n",
       "</div>"
      ],
      "text/plain": [
       "         USERID   score     age  equity      balance  products  credit_card  \\\n",
       "count   9999.00 9999.00 9973.00 9999.00      7705.00   9999.00      9999.00   \n",
       "mean  171817.11  848.69   42.73    2.63    827794.31      1.87         0.68   \n",
       "std    33709.07   65.44   12.18    1.98   1980614.15      0.79         0.47   \n",
       "min    94561.00  642.00   18.00    0.00         0.00      1.00         0.00   \n",
       "25%   142809.50  802.00   33.00    0.00    295554.16      1.00         0.00   \n",
       "50%   172740.00  853.00   40.00    3.00    524272.20      2.00         1.00   \n",
       "75%   201262.50  900.00   51.00    4.00    980705.85      2.00         1.00   \n",
       "max   229145.00 1000.00   86.00    9.00 119113552.01      5.00         1.00   \n",
       "\n",
       "       last_activity  EST_SALARY   churn  \n",
       "count        9999.00     9999.00 9999.00  \n",
       "mean            0.52   147879.17    0.18  \n",
       "std             0.50   139390.07    0.39  \n",
       "min             0.00     2546.30    0.00  \n",
       "25%             0.00    75252.12    0.00  \n",
       "50%             1.00   119661.51    0.00  \n",
       "75%             1.00   174501.12    0.00  \n",
       "max             1.00  1395064.45    1.00  "
      ]
     },
     "execution_count": 8,
     "metadata": {},
     "output_type": "execute_result"
    }
   ],
   "source": [
    "df.describe()"
   ]
  },
  {
   "cell_type": "markdown",
   "metadata": {},
   "source": [
    "Итак мы избавились от аномальных значений."
   ]
  },
  {
   "cell_type": "markdown",
   "metadata": {},
   "source": [
    "#### Пропуски в данных"
   ]
  },
  {
   "cell_type": "code",
   "execution_count": 9,
   "metadata": {},
   "outputs": [
    {
     "name": "stdout",
     "output_type": "stream",
     "text": [
      "<class 'pandas.core.frame.DataFrame'>\n",
      "Int64Index: 9999 entries, 0 to 9999\n",
      "Data columns (total 12 columns):\n",
      " #   Column         Non-Null Count  Dtype  \n",
      "---  ------         --------------  -----  \n",
      " 0   USERID         9999 non-null   int64  \n",
      " 1   score          9999 non-null   float64\n",
      " 2   city           9999 non-null   object \n",
      " 3   gender         9999 non-null   object \n",
      " 4   age            9973 non-null   float64\n",
      " 5   equity         9999 non-null   int64  \n",
      " 6   balance        7705 non-null   float64\n",
      " 7   products       9999 non-null   int64  \n",
      " 8   credit_card    9999 non-null   int64  \n",
      " 9   last_activity  9999 non-null   int64  \n",
      " 10  EST_SALARY     9999 non-null   float64\n",
      " 11  churn          9999 non-null   int64  \n",
      "dtypes: float64(4), int64(6), object(2)\n",
      "memory usage: 1015.5+ KB\n"
     ]
    }
   ],
   "source": [
    "# просмотрим количество пропусков в датасете \n",
    "df.info()"
   ]
  },
  {
   "cell_type": "markdown",
   "metadata": {},
   "source": [
    "Пропуски встречаются в столбцах age (26 пропусков) и balance (более 2000 пропусков). Пропуски в столбце age можно удалить, так как это не сильно повлияет на распределение возраста. Пропуски в столбце balance нельзя удалять и заменять на 0, так как это сильно скажется на датасете. Оставим эти пропуски без изменений."
   ]
  },
  {
   "cell_type": "code",
   "execution_count": 10,
   "metadata": {},
   "outputs": [],
   "source": [
    "# удалим пропуски в столбце age \n",
    "df.dropna(subset=['age'], inplace=True)"
   ]
  },
  {
   "cell_type": "code",
   "execution_count": 11,
   "metadata": {},
   "outputs": [
    {
     "name": "stdout",
     "output_type": "stream",
     "text": [
      "<class 'pandas.core.frame.DataFrame'>\n",
      "Int64Index: 9973 entries, 0 to 9999\n",
      "Data columns (total 12 columns):\n",
      " #   Column         Non-Null Count  Dtype  \n",
      "---  ------         --------------  -----  \n",
      " 0   USERID         9973 non-null   int64  \n",
      " 1   score          9973 non-null   float64\n",
      " 2   city           9973 non-null   object \n",
      " 3   gender         9973 non-null   object \n",
      " 4   age            9973 non-null   float64\n",
      " 5   equity         9973 non-null   int64  \n",
      " 6   balance        7695 non-null   float64\n",
      " 7   products       9973 non-null   int64  \n",
      " 8   credit_card    9973 non-null   int64  \n",
      " 9   last_activity  9973 non-null   int64  \n",
      " 10  EST_SALARY     9973 non-null   float64\n",
      " 11  churn          9973 non-null   int64  \n",
      "dtypes: float64(4), int64(6), object(2)\n",
      "memory usage: 1012.9+ KB\n"
     ]
    }
   ],
   "source": [
    "df.info()"
   ]
  },
  {
   "cell_type": "markdown",
   "metadata": {},
   "source": [
    "Теперь пропуски остались только в столбце balance"
   ]
  },
  {
   "cell_type": "markdown",
   "metadata": {},
   "source": [
    "#### Дубликаты"
   ]
  },
  {
   "cell_type": "markdown",
   "metadata": {},
   "source": [
    "Выведем количество явных дубликатов в датасете"
   ]
  },
  {
   "cell_type": "code",
   "execution_count": 12,
   "metadata": {},
   "outputs": [
    {
     "data": {
      "text/plain": [
       "0"
      ]
     },
     "execution_count": 12,
     "metadata": {},
     "output_type": "execute_result"
    }
   ],
   "source": [
    "df.duplicated().sum()"
   ]
  },
  {
   "cell_type": "markdown",
   "metadata": {},
   "source": [
    "Явный дубликатов в датасете нет. Остается проверить неявные дубликаты. Проверять нужно колонку USERID, так как только в ней все значения(клиенты) должны быть уникальными."
   ]
  },
  {
   "cell_type": "code",
   "execution_count": 13,
   "metadata": {},
   "outputs": [
    {
     "data": {
      "text/plain": [
       "50"
      ]
     },
     "execution_count": 13,
     "metadata": {},
     "output_type": "execute_result"
    }
   ],
   "source": [
    "# выведем количество дубликатов столбца USERID\n",
    "df['USERID'].duplicated().sum()"
   ]
  },
  {
   "cell_type": "markdown",
   "metadata": {},
   "source": [
    "Итого мы имеем 50 явных дубликата id пользователей. Выведем на экран записи с дублирующими id."
   ]
  },
  {
   "cell_type": "code",
   "execution_count": 14,
   "metadata": {},
   "outputs": [],
   "source": [
    "# создадим список дублирующихся id пользователей\n",
    "user_id = df[df['USERID'].duplicated()]['USERID'].unique()"
   ]
  },
  {
   "cell_type": "code",
   "execution_count": 15,
   "metadata": {},
   "outputs": [
    {
     "data": {
      "text/html": [
       "<div>\n",
       "<style scoped>\n",
       "    .dataframe tbody tr th:only-of-type {\n",
       "        vertical-align: middle;\n",
       "    }\n",
       "\n",
       "    .dataframe tbody tr th {\n",
       "        vertical-align: top;\n",
       "    }\n",
       "\n",
       "    .dataframe thead th {\n",
       "        text-align: right;\n",
       "    }\n",
       "</style>\n",
       "<table border=\"1\" class=\"dataframe\">\n",
       "  <thead>\n",
       "    <tr style=\"text-align: right;\">\n",
       "      <th></th>\n",
       "      <th>USERID</th>\n",
       "      <th>score</th>\n",
       "      <th>city</th>\n",
       "      <th>gender</th>\n",
       "      <th>age</th>\n",
       "      <th>equity</th>\n",
       "      <th>balance</th>\n",
       "      <th>products</th>\n",
       "      <th>credit_card</th>\n",
       "      <th>last_activity</th>\n",
       "      <th>EST_SALARY</th>\n",
       "      <th>churn</th>\n",
       "    </tr>\n",
       "  </thead>\n",
       "  <tbody>\n",
       "    <tr>\n",
       "      <th>1893</th>\n",
       "      <td>116540</td>\n",
       "      <td>883.00</td>\n",
       "      <td>Рыбинск</td>\n",
       "      <td>Ж</td>\n",
       "      <td>55.00</td>\n",
       "      <td>1</td>\n",
       "      <td>362756.49</td>\n",
       "      <td>3</td>\n",
       "      <td>0</td>\n",
       "      <td>1</td>\n",
       "      <td>175920.48</td>\n",
       "      <td>1</td>\n",
       "    </tr>\n",
       "    <tr>\n",
       "      <th>7694</th>\n",
       "      <td>116540</td>\n",
       "      <td>887.00</td>\n",
       "      <td>Ярославль</td>\n",
       "      <td>Ж</td>\n",
       "      <td>38.00</td>\n",
       "      <td>0</td>\n",
       "      <td>NaN</td>\n",
       "      <td>1</td>\n",
       "      <td>0</td>\n",
       "      <td>1</td>\n",
       "      <td>119247.61</td>\n",
       "      <td>0</td>\n",
       "    </tr>\n",
       "    <tr>\n",
       "      <th>4866</th>\n",
       "      <td>117943</td>\n",
       "      <td>855.00</td>\n",
       "      <td>Рыбинск</td>\n",
       "      <td>Ж</td>\n",
       "      <td>32.00</td>\n",
       "      <td>6</td>\n",
       "      <td>1036832.93</td>\n",
       "      <td>4</td>\n",
       "      <td>1</td>\n",
       "      <td>1</td>\n",
       "      <td>107792.71</td>\n",
       "      <td>1</td>\n",
       "    </tr>\n",
       "    <tr>\n",
       "      <th>7542</th>\n",
       "      <td>117943</td>\n",
       "      <td>880.00</td>\n",
       "      <td>Ярославль</td>\n",
       "      <td>Ж</td>\n",
       "      <td>40.00</td>\n",
       "      <td>0</td>\n",
       "      <td>NaN</td>\n",
       "      <td>1</td>\n",
       "      <td>1</td>\n",
       "      <td>0</td>\n",
       "      <td>137718.93</td>\n",
       "      <td>0</td>\n",
       "    </tr>\n",
       "    <tr>\n",
       "      <th>5863</th>\n",
       "      <td>120258</td>\n",
       "      <td>908.00</td>\n",
       "      <td>Рыбинск</td>\n",
       "      <td>Ж</td>\n",
       "      <td>38.00</td>\n",
       "      <td>4</td>\n",
       "      <td>2213581.63</td>\n",
       "      <td>2</td>\n",
       "      <td>0</td>\n",
       "      <td>1</td>\n",
       "      <td>160327.77</td>\n",
       "      <td>1</td>\n",
       "    </tr>\n",
       "    <tr>\n",
       "      <th>5896</th>\n",
       "      <td>120258</td>\n",
       "      <td>905.00</td>\n",
       "      <td>Ярославль</td>\n",
       "      <td>М</td>\n",
       "      <td>30.00</td>\n",
       "      <td>0</td>\n",
       "      <td>NaN</td>\n",
       "      <td>1</td>\n",
       "      <td>1</td>\n",
       "      <td>1</td>\n",
       "      <td>146427.96</td>\n",
       "      <td>0</td>\n",
       "    </tr>\n",
       "    <tr>\n",
       "      <th>1411</th>\n",
       "      <td>123461</td>\n",
       "      <td>829.00</td>\n",
       "      <td>Ярославль</td>\n",
       "      <td>Ж</td>\n",
       "      <td>59.00</td>\n",
       "      <td>0</td>\n",
       "      <td>96222.44</td>\n",
       "      <td>2</td>\n",
       "      <td>0</td>\n",
       "      <td>1</td>\n",
       "      <td>102771.55</td>\n",
       "      <td>1</td>\n",
       "    </tr>\n",
       "    <tr>\n",
       "      <th>8638</th>\n",
       "      <td>123461</td>\n",
       "      <td>934.00</td>\n",
       "      <td>Рыбинск</td>\n",
       "      <td>М</td>\n",
       "      <td>34.00</td>\n",
       "      <td>0</td>\n",
       "      <td>NaN</td>\n",
       "      <td>2</td>\n",
       "      <td>1</td>\n",
       "      <td>0</td>\n",
       "      <td>291619.27</td>\n",
       "      <td>0</td>\n",
       "    </tr>\n",
       "    <tr>\n",
       "      <th>9775</th>\n",
       "      <td>124450</td>\n",
       "      <td>758.00</td>\n",
       "      <td>Рыбинск</td>\n",
       "      <td>Ж</td>\n",
       "      <td>36.00</td>\n",
       "      <td>0</td>\n",
       "      <td>73574.07</td>\n",
       "      <td>2</td>\n",
       "      <td>0</td>\n",
       "      <td>1</td>\n",
       "      <td>79963.59</td>\n",
       "      <td>0</td>\n",
       "    </tr>\n",
       "    <tr>\n",
       "      <th>8164</th>\n",
       "      <td>124450</td>\n",
       "      <td>859.00</td>\n",
       "      <td>Ярославль</td>\n",
       "      <td>Ж</td>\n",
       "      <td>38.00</td>\n",
       "      <td>6</td>\n",
       "      <td>516811.20</td>\n",
       "      <td>1</td>\n",
       "      <td>1</td>\n",
       "      <td>1</td>\n",
       "      <td>95144.63</td>\n",
       "      <td>1</td>\n",
       "    </tr>\n",
       "    <tr>\n",
       "      <th>4850</th>\n",
       "      <td>126368</td>\n",
       "      <td>909.00</td>\n",
       "      <td>Ярославль</td>\n",
       "      <td>Ж</td>\n",
       "      <td>30.00</td>\n",
       "      <td>4</td>\n",
       "      <td>1322623.29</td>\n",
       "      <td>2</td>\n",
       "      <td>0</td>\n",
       "      <td>1</td>\n",
       "      <td>140675.66</td>\n",
       "      <td>1</td>\n",
       "    </tr>\n",
       "    <tr>\n",
       "      <th>5420</th>\n",
       "      <td>126368</td>\n",
       "      <td>832.00</td>\n",
       "      <td>Рыбинск</td>\n",
       "      <td>Ж</td>\n",
       "      <td>33.00</td>\n",
       "      <td>0</td>\n",
       "      <td>NaN</td>\n",
       "      <td>1</td>\n",
       "      <td>0</td>\n",
       "      <td>0</td>\n",
       "      <td>118465.34</td>\n",
       "      <td>0</td>\n",
       "    </tr>\n",
       "    <tr>\n",
       "      <th>3988</th>\n",
       "      <td>129785</td>\n",
       "      <td>904.00</td>\n",
       "      <td>Рыбинск</td>\n",
       "      <td>М</td>\n",
       "      <td>33.00</td>\n",
       "      <td>5</td>\n",
       "      <td>2427737.60</td>\n",
       "      <td>3</td>\n",
       "      <td>0</td>\n",
       "      <td>1</td>\n",
       "      <td>188856.75</td>\n",
       "      <td>1</td>\n",
       "    </tr>\n",
       "    <tr>\n",
       "      <th>9504</th>\n",
       "      <td>129785</td>\n",
       "      <td>949.00</td>\n",
       "      <td>Ярославль</td>\n",
       "      <td>М</td>\n",
       "      <td>43.00</td>\n",
       "      <td>0</td>\n",
       "      <td>NaN</td>\n",
       "      <td>1</td>\n",
       "      <td>1</td>\n",
       "      <td>1</td>\n",
       "      <td>166845.37</td>\n",
       "      <td>0</td>\n",
       "    </tr>\n",
       "    <tr>\n",
       "      <th>2138</th>\n",
       "      <td>131419</td>\n",
       "      <td>739.00</td>\n",
       "      <td>Рыбинск</td>\n",
       "      <td>Ж</td>\n",
       "      <td>37.00</td>\n",
       "      <td>3</td>\n",
       "      <td>1307941.65</td>\n",
       "      <td>3</td>\n",
       "      <td>0</td>\n",
       "      <td>0</td>\n",
       "      <td>103867.47</td>\n",
       "      <td>0</td>\n",
       "    </tr>\n",
       "    <tr>\n",
       "      <th>904</th>\n",
       "      <td>131419</td>\n",
       "      <td>934.00</td>\n",
       "      <td>Ярославль</td>\n",
       "      <td>М</td>\n",
       "      <td>35.00</td>\n",
       "      <td>5</td>\n",
       "      <td>2348335.95</td>\n",
       "      <td>2</td>\n",
       "      <td>0</td>\n",
       "      <td>0</td>\n",
       "      <td>217105.13</td>\n",
       "      <td>1</td>\n",
       "    </tr>\n",
       "    <tr>\n",
       "      <th>1608</th>\n",
       "      <td>140377</td>\n",
       "      <td>802.00</td>\n",
       "      <td>Ярославль</td>\n",
       "      <td>М</td>\n",
       "      <td>26.00</td>\n",
       "      <td>3</td>\n",
       "      <td>539863.29</td>\n",
       "      <td>4</td>\n",
       "      <td>1</td>\n",
       "      <td>1</td>\n",
       "      <td>112167.83</td>\n",
       "      <td>1</td>\n",
       "    </tr>\n",
       "    <tr>\n",
       "      <th>7487</th>\n",
       "      <td>140377</td>\n",
       "      <td>930.00</td>\n",
       "      <td>Рыбинск</td>\n",
       "      <td>Ж</td>\n",
       "      <td>34.00</td>\n",
       "      <td>5</td>\n",
       "      <td>1123967.02</td>\n",
       "      <td>1</td>\n",
       "      <td>1</td>\n",
       "      <td>1</td>\n",
       "      <td>148336.26</td>\n",
       "      <td>0</td>\n",
       "    </tr>\n",
       "    <tr>\n",
       "      <th>2276</th>\n",
       "      <td>141265</td>\n",
       "      <td>858.00</td>\n",
       "      <td>Ярославль</td>\n",
       "      <td>М</td>\n",
       "      <td>37.00</td>\n",
       "      <td>4</td>\n",
       "      <td>471599.16</td>\n",
       "      <td>2</td>\n",
       "      <td>1</td>\n",
       "      <td>1</td>\n",
       "      <td>148806.88</td>\n",
       "      <td>1</td>\n",
       "    </tr>\n",
       "    <tr>\n",
       "      <th>5569</th>\n",
       "      <td>141265</td>\n",
       "      <td>811.00</td>\n",
       "      <td>Рыбинск</td>\n",
       "      <td>Ж</td>\n",
       "      <td>33.00</td>\n",
       "      <td>3</td>\n",
       "      <td>1044316.88</td>\n",
       "      <td>2</td>\n",
       "      <td>1</td>\n",
       "      <td>0</td>\n",
       "      <td>46055.32</td>\n",
       "      <td>0</td>\n",
       "    </tr>\n",
       "    <tr>\n",
       "      <th>5369</th>\n",
       "      <td>143592</td>\n",
       "      <td>885.00</td>\n",
       "      <td>Рыбинск</td>\n",
       "      <td>Ж</td>\n",
       "      <td>56.00</td>\n",
       "      <td>4</td>\n",
       "      <td>1201087.46</td>\n",
       "      <td>2</td>\n",
       "      <td>1</td>\n",
       "      <td>1</td>\n",
       "      <td>88223.89</td>\n",
       "      <td>1</td>\n",
       "    </tr>\n",
       "    <tr>\n",
       "      <th>5557</th>\n",
       "      <td>143592</td>\n",
       "      <td>764.00</td>\n",
       "      <td>Ярославль</td>\n",
       "      <td>Ж</td>\n",
       "      <td>68.00</td>\n",
       "      <td>3</td>\n",
       "      <td>508919.15</td>\n",
       "      <td>2</td>\n",
       "      <td>0</td>\n",
       "      <td>1</td>\n",
       "      <td>71211.66</td>\n",
       "      <td>0</td>\n",
       "    </tr>\n",
       "    <tr>\n",
       "      <th>8364</th>\n",
       "      <td>148826</td>\n",
       "      <td>909.00</td>\n",
       "      <td>Рыбинск</td>\n",
       "      <td>Ж</td>\n",
       "      <td>32.00</td>\n",
       "      <td>0</td>\n",
       "      <td>NaN</td>\n",
       "      <td>3</td>\n",
       "      <td>1</td>\n",
       "      <td>0</td>\n",
       "      <td>28843.54</td>\n",
       "      <td>0</td>\n",
       "    </tr>\n",
       "    <tr>\n",
       "      <th>5252</th>\n",
       "      <td>148826</td>\n",
       "      <td>895.00</td>\n",
       "      <td>Ярославль</td>\n",
       "      <td>М</td>\n",
       "      <td>32.00</td>\n",
       "      <td>5</td>\n",
       "      <td>1470273.14</td>\n",
       "      <td>2</td>\n",
       "      <td>0</td>\n",
       "      <td>0</td>\n",
       "      <td>118058.52</td>\n",
       "      <td>1</td>\n",
       "    </tr>\n",
       "    <tr>\n",
       "      <th>946</th>\n",
       "      <td>149365</td>\n",
       "      <td>877.00</td>\n",
       "      <td>Ярославль</td>\n",
       "      <td>М</td>\n",
       "      <td>41.00</td>\n",
       "      <td>5</td>\n",
       "      <td>819182.01</td>\n",
       "      <td>2</td>\n",
       "      <td>0</td>\n",
       "      <td>0</td>\n",
       "      <td>212316.47</td>\n",
       "      <td>1</td>\n",
       "    </tr>\n",
       "    <tr>\n",
       "      <th>8272</th>\n",
       "      <td>149365</td>\n",
       "      <td>793.00</td>\n",
       "      <td>Рыбинск</td>\n",
       "      <td>Ж</td>\n",
       "      <td>61.00</td>\n",
       "      <td>0</td>\n",
       "      <td>476496.99</td>\n",
       "      <td>2</td>\n",
       "      <td>1</td>\n",
       "      <td>1</td>\n",
       "      <td>46147.06</td>\n",
       "      <td>0</td>\n",
       "    </tr>\n",
       "    <tr>\n",
       "      <th>2439</th>\n",
       "      <td>150667</td>\n",
       "      <td>813.00</td>\n",
       "      <td>Рыбинск</td>\n",
       "      <td>Ж</td>\n",
       "      <td>44.00</td>\n",
       "      <td>0</td>\n",
       "      <td>62504.47</td>\n",
       "      <td>4</td>\n",
       "      <td>1</td>\n",
       "      <td>0</td>\n",
       "      <td>152393.79</td>\n",
       "      <td>1</td>\n",
       "    </tr>\n",
       "    <tr>\n",
       "      <th>9267</th>\n",
       "      <td>150667</td>\n",
       "      <td>931.00</td>\n",
       "      <td>Ярославль</td>\n",
       "      <td>М</td>\n",
       "      <td>41.00</td>\n",
       "      <td>0</td>\n",
       "      <td>NaN</td>\n",
       "      <td>1</td>\n",
       "      <td>0</td>\n",
       "      <td>0</td>\n",
       "      <td>261904.44</td>\n",
       "      <td>0</td>\n",
       "    </tr>\n",
       "    <tr>\n",
       "      <th>690</th>\n",
       "      <td>152479</td>\n",
       "      <td>768.00</td>\n",
       "      <td>Рыбинск</td>\n",
       "      <td>Ж</td>\n",
       "      <td>42.00</td>\n",
       "      <td>0</td>\n",
       "      <td>126787.79</td>\n",
       "      <td>4</td>\n",
       "      <td>1</td>\n",
       "      <td>1</td>\n",
       "      <td>143233.23</td>\n",
       "      <td>1</td>\n",
       "    </tr>\n",
       "    <tr>\n",
       "      <th>5705</th>\n",
       "      <td>152479</td>\n",
       "      <td>723.00</td>\n",
       "      <td>Ярославль</td>\n",
       "      <td>Ж</td>\n",
       "      <td>22.00</td>\n",
       "      <td>0</td>\n",
       "      <td>NaN</td>\n",
       "      <td>1</td>\n",
       "      <td>1</td>\n",
       "      <td>0</td>\n",
       "      <td>83955.65</td>\n",
       "      <td>0</td>\n",
       "    </tr>\n",
       "    <tr>\n",
       "      <th>3274</th>\n",
       "      <td>155765</td>\n",
       "      <td>863.00</td>\n",
       "      <td>Ярославль</td>\n",
       "      <td>М</td>\n",
       "      <td>30.00</td>\n",
       "      <td>5</td>\n",
       "      <td>1036114.50</td>\n",
       "      <td>5</td>\n",
       "      <td>1</td>\n",
       "      <td>1</td>\n",
       "      <td>150744.50</td>\n",
       "      <td>1</td>\n",
       "    </tr>\n",
       "    <tr>\n",
       "      <th>5197</th>\n",
       "      <td>155765</td>\n",
       "      <td>923.00</td>\n",
       "      <td>Рыбинск</td>\n",
       "      <td>М</td>\n",
       "      <td>30.00</td>\n",
       "      <td>0</td>\n",
       "      <td>NaN</td>\n",
       "      <td>1</td>\n",
       "      <td>1</td>\n",
       "      <td>1</td>\n",
       "      <td>120296.60</td>\n",
       "      <td>0</td>\n",
       "    </tr>\n",
       "    <tr>\n",
       "      <th>1080</th>\n",
       "      <td>155872</td>\n",
       "      <td>896.00</td>\n",
       "      <td>Ярославль</td>\n",
       "      <td>М</td>\n",
       "      <td>36.00</td>\n",
       "      <td>3</td>\n",
       "      <td>1113656.92</td>\n",
       "      <td>3</td>\n",
       "      <td>0</td>\n",
       "      <td>1</td>\n",
       "      <td>291176.85</td>\n",
       "      <td>1</td>\n",
       "    </tr>\n",
       "    <tr>\n",
       "      <th>9363</th>\n",
       "      <td>155872</td>\n",
       "      <td>714.00</td>\n",
       "      <td>Рыбинск</td>\n",
       "      <td>Ж</td>\n",
       "      <td>29.00</td>\n",
       "      <td>0</td>\n",
       "      <td>NaN</td>\n",
       "      <td>1</td>\n",
       "      <td>1</td>\n",
       "      <td>0</td>\n",
       "      <td>118052.84</td>\n",
       "      <td>0</td>\n",
       "    </tr>\n",
       "    <tr>\n",
       "      <th>3936</th>\n",
       "      <td>160075</td>\n",
       "      <td>899.00</td>\n",
       "      <td>Ярославль</td>\n",
       "      <td>М</td>\n",
       "      <td>34.00</td>\n",
       "      <td>4</td>\n",
       "      <td>1647814.67</td>\n",
       "      <td>4</td>\n",
       "      <td>1</td>\n",
       "      <td>0</td>\n",
       "      <td>151888.42</td>\n",
       "      <td>1</td>\n",
       "    </tr>\n",
       "    <tr>\n",
       "      <th>9508</th>\n",
       "      <td>160075</td>\n",
       "      <td>824.00</td>\n",
       "      <td>Рыбинск</td>\n",
       "      <td>Ж</td>\n",
       "      <td>57.00</td>\n",
       "      <td>3</td>\n",
       "      <td>355047.33</td>\n",
       "      <td>2</td>\n",
       "      <td>0</td>\n",
       "      <td>0</td>\n",
       "      <td>64351.81</td>\n",
       "      <td>0</td>\n",
       "    </tr>\n",
       "    <tr>\n",
       "      <th>8733</th>\n",
       "      <td>162053</td>\n",
       "      <td>786.00</td>\n",
       "      <td>Ярославль</td>\n",
       "      <td>М</td>\n",
       "      <td>29.00</td>\n",
       "      <td>4</td>\n",
       "      <td>205824.97</td>\n",
       "      <td>3</td>\n",
       "      <td>1</td>\n",
       "      <td>0</td>\n",
       "      <td>121371.73</td>\n",
       "      <td>0</td>\n",
       "    </tr>\n",
       "    <tr>\n",
       "      <th>5629</th>\n",
       "      <td>162053</td>\n",
       "      <td>921.00</td>\n",
       "      <td>Рыбинск</td>\n",
       "      <td>М</td>\n",
       "      <td>33.00</td>\n",
       "      <td>3</td>\n",
       "      <td>857011.13</td>\n",
       "      <td>2</td>\n",
       "      <td>1</td>\n",
       "      <td>1</td>\n",
       "      <td>113512.57</td>\n",
       "      <td>1</td>\n",
       "    </tr>\n",
       "    <tr>\n",
       "      <th>6786</th>\n",
       "      <td>163207</td>\n",
       "      <td>838.00</td>\n",
       "      <td>Ярославль</td>\n",
       "      <td>Ж</td>\n",
       "      <td>42.00</td>\n",
       "      <td>4</td>\n",
       "      <td>652776.60</td>\n",
       "      <td>2</td>\n",
       "      <td>1</td>\n",
       "      <td>1</td>\n",
       "      <td>97545.36</td>\n",
       "      <td>0</td>\n",
       "    </tr>\n",
       "    <tr>\n",
       "      <th>3564</th>\n",
       "      <td>163207</td>\n",
       "      <td>853.00</td>\n",
       "      <td>Рыбинск</td>\n",
       "      <td>М</td>\n",
       "      <td>42.00</td>\n",
       "      <td>4</td>\n",
       "      <td>543839.62</td>\n",
       "      <td>1</td>\n",
       "      <td>1</td>\n",
       "      <td>1</td>\n",
       "      <td>105281.97</td>\n",
       "      <td>1</td>\n",
       "    </tr>\n",
       "    <tr>\n",
       "      <th>7271</th>\n",
       "      <td>164676</td>\n",
       "      <td>790.00</td>\n",
       "      <td>Рыбинск</td>\n",
       "      <td>Ж</td>\n",
       "      <td>77.00</td>\n",
       "      <td>1</td>\n",
       "      <td>111202.01</td>\n",
       "      <td>1</td>\n",
       "      <td>1</td>\n",
       "      <td>0</td>\n",
       "      <td>32835.45</td>\n",
       "      <td>0</td>\n",
       "    </tr>\n",
       "    <tr>\n",
       "      <th>58</th>\n",
       "      <td>164676</td>\n",
       "      <td>860.00</td>\n",
       "      <td>Ярославль</td>\n",
       "      <td>М</td>\n",
       "      <td>37.00</td>\n",
       "      <td>5</td>\n",
       "      <td>648594.03</td>\n",
       "      <td>2</td>\n",
       "      <td>1</td>\n",
       "      <td>1</td>\n",
       "      <td>213586.86</td>\n",
       "      <td>1</td>\n",
       "    </tr>\n",
       "    <tr>\n",
       "      <th>9785</th>\n",
       "      <td>168998</td>\n",
       "      <td>895.00</td>\n",
       "      <td>Рыбинск</td>\n",
       "      <td>М</td>\n",
       "      <td>44.00</td>\n",
       "      <td>0</td>\n",
       "      <td>282653.53</td>\n",
       "      <td>3</td>\n",
       "      <td>0</td>\n",
       "      <td>0</td>\n",
       "      <td>255296.47</td>\n",
       "      <td>0</td>\n",
       "    </tr>\n",
       "    <tr>\n",
       "      <th>5020</th>\n",
       "      <td>168998</td>\n",
       "      <td>886.00</td>\n",
       "      <td>Ярославль</td>\n",
       "      <td>Ж</td>\n",
       "      <td>35.00</td>\n",
       "      <td>4</td>\n",
       "      <td>394780.61</td>\n",
       "      <td>2</td>\n",
       "      <td>1</td>\n",
       "      <td>1</td>\n",
       "      <td>510577.10</td>\n",
       "      <td>1</td>\n",
       "    </tr>\n",
       "    <tr>\n",
       "      <th>790</th>\n",
       "      <td>170312</td>\n",
       "      <td>901.00</td>\n",
       "      <td>Ярославль</td>\n",
       "      <td>М</td>\n",
       "      <td>33.00</td>\n",
       "      <td>4</td>\n",
       "      <td>3276783.93</td>\n",
       "      <td>3</td>\n",
       "      <td>0</td>\n",
       "      <td>1</td>\n",
       "      <td>358700.96</td>\n",
       "      <td>1</td>\n",
       "    </tr>\n",
       "    <tr>\n",
       "      <th>3039</th>\n",
       "      <td>170312</td>\n",
       "      <td>813.00</td>\n",
       "      <td>Рыбинск</td>\n",
       "      <td>Ж</td>\n",
       "      <td>47.00</td>\n",
       "      <td>3</td>\n",
       "      <td>370027.67</td>\n",
       "      <td>2</td>\n",
       "      <td>0</td>\n",
       "      <td>0</td>\n",
       "      <td>129835.56</td>\n",
       "      <td>0</td>\n",
       "    </tr>\n",
       "    <tr>\n",
       "      <th>4587</th>\n",
       "      <td>171751</td>\n",
       "      <td>874.00</td>\n",
       "      <td>Рыбинск</td>\n",
       "      <td>Ж</td>\n",
       "      <td>26.00</td>\n",
       "      <td>5</td>\n",
       "      <td>292054.42</td>\n",
       "      <td>2</td>\n",
       "      <td>0</td>\n",
       "      <td>1</td>\n",
       "      <td>20528.56</td>\n",
       "      <td>1</td>\n",
       "    </tr>\n",
       "    <tr>\n",
       "      <th>9653</th>\n",
       "      <td>171751</td>\n",
       "      <td>862.00</td>\n",
       "      <td>Ярославль</td>\n",
       "      <td>М</td>\n",
       "      <td>42.00</td>\n",
       "      <td>4</td>\n",
       "      <td>481992.19</td>\n",
       "      <td>2</td>\n",
       "      <td>1</td>\n",
       "      <td>0</td>\n",
       "      <td>71816.86</td>\n",
       "      <td>0</td>\n",
       "    </tr>\n",
       "    <tr>\n",
       "      <th>6756</th>\n",
       "      <td>172142</td>\n",
       "      <td>751.00</td>\n",
       "      <td>Рыбинск</td>\n",
       "      <td>Ж</td>\n",
       "      <td>69.00</td>\n",
       "      <td>3</td>\n",
       "      <td>396568.03</td>\n",
       "      <td>2</td>\n",
       "      <td>0</td>\n",
       "      <td>1</td>\n",
       "      <td>45608.45</td>\n",
       "      <td>0</td>\n",
       "    </tr>\n",
       "    <tr>\n",
       "      <th>2941</th>\n",
       "      <td>172142</td>\n",
       "      <td>896.00</td>\n",
       "      <td>Ярославль</td>\n",
       "      <td>Ж</td>\n",
       "      <td>30.00</td>\n",
       "      <td>4</td>\n",
       "      <td>1009073.14</td>\n",
       "      <td>4</td>\n",
       "      <td>1</td>\n",
       "      <td>0</td>\n",
       "      <td>70866.29</td>\n",
       "      <td>1</td>\n",
       "    </tr>\n",
       "    <tr>\n",
       "      <th>7753</th>\n",
       "      <td>175730</td>\n",
       "      <td>846.00</td>\n",
       "      <td>Ярославль</td>\n",
       "      <td>Ж</td>\n",
       "      <td>32.00</td>\n",
       "      <td>7</td>\n",
       "      <td>216764.74</td>\n",
       "      <td>4</td>\n",
       "      <td>1</td>\n",
       "      <td>1</td>\n",
       "      <td>77100.85</td>\n",
       "      <td>1</td>\n",
       "    </tr>\n",
       "    <tr>\n",
       "      <th>9970</th>\n",
       "      <td>175730</td>\n",
       "      <td>816.00</td>\n",
       "      <td>Рыбинск</td>\n",
       "      <td>М</td>\n",
       "      <td>36.00</td>\n",
       "      <td>4</td>\n",
       "      <td>477892.07</td>\n",
       "      <td>3</td>\n",
       "      <td>1</td>\n",
       "      <td>0</td>\n",
       "      <td>81100.60</td>\n",
       "      <td>0</td>\n",
       "    </tr>\n",
       "    <tr>\n",
       "      <th>8705</th>\n",
       "      <td>181526</td>\n",
       "      <td>895.00</td>\n",
       "      <td>Рыбинск</td>\n",
       "      <td>М</td>\n",
       "      <td>29.00</td>\n",
       "      <td>0</td>\n",
       "      <td>NaN</td>\n",
       "      <td>1</td>\n",
       "      <td>1</td>\n",
       "      <td>1</td>\n",
       "      <td>124786.53</td>\n",
       "      <td>0</td>\n",
       "    </tr>\n",
       "    <tr>\n",
       "      <th>2989</th>\n",
       "      <td>181526</td>\n",
       "      <td>918.00</td>\n",
       "      <td>Ярославль</td>\n",
       "      <td>Ж</td>\n",
       "      <td>37.00</td>\n",
       "      <td>5</td>\n",
       "      <td>1366382.35</td>\n",
       "      <td>4</td>\n",
       "      <td>1</td>\n",
       "      <td>1</td>\n",
       "      <td>97932.95</td>\n",
       "      <td>1</td>\n",
       "    </tr>\n",
       "    <tr>\n",
       "      <th>9146</th>\n",
       "      <td>183510</td>\n",
       "      <td>800.00</td>\n",
       "      <td>Рыбинск</td>\n",
       "      <td>Ж</td>\n",
       "      <td>42.00</td>\n",
       "      <td>7</td>\n",
       "      <td>473293.81</td>\n",
       "      <td>2</td>\n",
       "      <td>1</td>\n",
       "      <td>0</td>\n",
       "      <td>54049.88</td>\n",
       "      <td>0</td>\n",
       "    </tr>\n",
       "    <tr>\n",
       "      <th>8584</th>\n",
       "      <td>183510</td>\n",
       "      <td>922.00</td>\n",
       "      <td>Ярославль</td>\n",
       "      <td>М</td>\n",
       "      <td>26.00</td>\n",
       "      <td>5</td>\n",
       "      <td>448542.42</td>\n",
       "      <td>3</td>\n",
       "      <td>0</td>\n",
       "      <td>1</td>\n",
       "      <td>66063.13</td>\n",
       "      <td>1</td>\n",
       "    </tr>\n",
       "    <tr>\n",
       "      <th>3106</th>\n",
       "      <td>185748</td>\n",
       "      <td>912.00</td>\n",
       "      <td>Ярославль</td>\n",
       "      <td>Ж</td>\n",
       "      <td>47.00</td>\n",
       "      <td>5</td>\n",
       "      <td>1598218.98</td>\n",
       "      <td>2</td>\n",
       "      <td>0</td>\n",
       "      <td>0</td>\n",
       "      <td>180256.98</td>\n",
       "      <td>0</td>\n",
       "    </tr>\n",
       "    <tr>\n",
       "      <th>150</th>\n",
       "      <td>185748</td>\n",
       "      <td>850.00</td>\n",
       "      <td>Рыбинск</td>\n",
       "      <td>М</td>\n",
       "      <td>36.00</td>\n",
       "      <td>5</td>\n",
       "      <td>1203376.67</td>\n",
       "      <td>2</td>\n",
       "      <td>0</td>\n",
       "      <td>1</td>\n",
       "      <td>89401.82</td>\n",
       "      <td>1</td>\n",
       "    </tr>\n",
       "    <tr>\n",
       "      <th>5454</th>\n",
       "      <td>188957</td>\n",
       "      <td>853.00</td>\n",
       "      <td>Ярославль</td>\n",
       "      <td>М</td>\n",
       "      <td>35.00</td>\n",
       "      <td>1</td>\n",
       "      <td>374959.62</td>\n",
       "      <td>2</td>\n",
       "      <td>1</td>\n",
       "      <td>1</td>\n",
       "      <td>197600.97</td>\n",
       "      <td>1</td>\n",
       "    </tr>\n",
       "    <tr>\n",
       "      <th>6005</th>\n",
       "      <td>188957</td>\n",
       "      <td>882.00</td>\n",
       "      <td>Рыбинск</td>\n",
       "      <td>Ж</td>\n",
       "      <td>64.00</td>\n",
       "      <td>3</td>\n",
       "      <td>893392.91</td>\n",
       "      <td>3</td>\n",
       "      <td>1</td>\n",
       "      <td>0</td>\n",
       "      <td>69622.58</td>\n",
       "      <td>0</td>\n",
       "    </tr>\n",
       "    <tr>\n",
       "      <th>1583</th>\n",
       "      <td>190253</td>\n",
       "      <td>726.00</td>\n",
       "      <td>Ярославль</td>\n",
       "      <td>М</td>\n",
       "      <td>49.00</td>\n",
       "      <td>0</td>\n",
       "      <td>NaN</td>\n",
       "      <td>1</td>\n",
       "      <td>1</td>\n",
       "      <td>1</td>\n",
       "      <td>177700.78</td>\n",
       "      <td>0</td>\n",
       "    </tr>\n",
       "    <tr>\n",
       "      <th>231</th>\n",
       "      <td>190253</td>\n",
       "      <td>823.00</td>\n",
       "      <td>Рыбинск</td>\n",
       "      <td>М</td>\n",
       "      <td>37.00</td>\n",
       "      <td>4</td>\n",
       "      <td>373348.39</td>\n",
       "      <td>2</td>\n",
       "      <td>0</td>\n",
       "      <td>1</td>\n",
       "      <td>131947.92</td>\n",
       "      <td>1</td>\n",
       "    </tr>\n",
       "    <tr>\n",
       "      <th>3859</th>\n",
       "      <td>191520</td>\n",
       "      <td>773.00</td>\n",
       "      <td>Рыбинск</td>\n",
       "      <td>М</td>\n",
       "      <td>36.00</td>\n",
       "      <td>3</td>\n",
       "      <td>1219918.08</td>\n",
       "      <td>4</td>\n",
       "      <td>1</td>\n",
       "      <td>1</td>\n",
       "      <td>119933.13</td>\n",
       "      <td>1</td>\n",
       "    </tr>\n",
       "    <tr>\n",
       "      <th>7931</th>\n",
       "      <td>191520</td>\n",
       "      <td>767.00</td>\n",
       "      <td>Ярославль</td>\n",
       "      <td>М</td>\n",
       "      <td>45.00</td>\n",
       "      <td>0</td>\n",
       "      <td>NaN</td>\n",
       "      <td>1</td>\n",
       "      <td>1</td>\n",
       "      <td>1</td>\n",
       "      <td>880005.05</td>\n",
       "      <td>0</td>\n",
       "    </tr>\n",
       "    <tr>\n",
       "      <th>9659</th>\n",
       "      <td>195884</td>\n",
       "      <td>767.00</td>\n",
       "      <td>Рыбинск</td>\n",
       "      <td>Ж</td>\n",
       "      <td>45.00</td>\n",
       "      <td>1</td>\n",
       "      <td>335652.56</td>\n",
       "      <td>3</td>\n",
       "      <td>1</td>\n",
       "      <td>1</td>\n",
       "      <td>100197.67</td>\n",
       "      <td>0</td>\n",
       "    </tr>\n",
       "    <tr>\n",
       "      <th>2226</th>\n",
       "      <td>195884</td>\n",
       "      <td>906.00</td>\n",
       "      <td>Ярославль</td>\n",
       "      <td>М</td>\n",
       "      <td>49.00</td>\n",
       "      <td>6</td>\n",
       "      <td>1354552.83</td>\n",
       "      <td>2</td>\n",
       "      <td>0</td>\n",
       "      <td>0</td>\n",
       "      <td>270678.42</td>\n",
       "      <td>1</td>\n",
       "    </tr>\n",
       "    <tr>\n",
       "      <th>4870</th>\n",
       "      <td>197364</td>\n",
       "      <td>889.00</td>\n",
       "      <td>Ярославль</td>\n",
       "      <td>М</td>\n",
       "      <td>33.00</td>\n",
       "      <td>0</td>\n",
       "      <td>NaN</td>\n",
       "      <td>2</td>\n",
       "      <td>1</td>\n",
       "      <td>1</td>\n",
       "      <td>96173.48</td>\n",
       "      <td>0</td>\n",
       "    </tr>\n",
       "    <tr>\n",
       "      <th>161</th>\n",
       "      <td>197364</td>\n",
       "      <td>928.00</td>\n",
       "      <td>Рыбинск</td>\n",
       "      <td>Ж</td>\n",
       "      <td>53.00</td>\n",
       "      <td>6</td>\n",
       "      <td>1347183.86</td>\n",
       "      <td>2</td>\n",
       "      <td>0</td>\n",
       "      <td>1</td>\n",
       "      <td>168189.49</td>\n",
       "      <td>1</td>\n",
       "    </tr>\n",
       "    <tr>\n",
       "      <th>8822</th>\n",
       "      <td>199312</td>\n",
       "      <td>911.00</td>\n",
       "      <td>Рыбинск</td>\n",
       "      <td>Ж</td>\n",
       "      <td>43.00</td>\n",
       "      <td>0</td>\n",
       "      <td>NaN</td>\n",
       "      <td>2</td>\n",
       "      <td>1</td>\n",
       "      <td>1</td>\n",
       "      <td>152189.72</td>\n",
       "      <td>0</td>\n",
       "    </tr>\n",
       "    <tr>\n",
       "      <th>2499</th>\n",
       "      <td>199312</td>\n",
       "      <td>948.00</td>\n",
       "      <td>Ярославль</td>\n",
       "      <td>М</td>\n",
       "      <td>41.00</td>\n",
       "      <td>5</td>\n",
       "      <td>3095721.85</td>\n",
       "      <td>4</td>\n",
       "      <td>1</td>\n",
       "      <td>1</td>\n",
       "      <td>307234.69</td>\n",
       "      <td>1</td>\n",
       "    </tr>\n",
       "    <tr>\n",
       "      <th>9035</th>\n",
       "      <td>200863</td>\n",
       "      <td>933.00</td>\n",
       "      <td>Рыбинск</td>\n",
       "      <td>М</td>\n",
       "      <td>29.00</td>\n",
       "      <td>7</td>\n",
       "      <td>766924.56</td>\n",
       "      <td>2</td>\n",
       "      <td>0</td>\n",
       "      <td>1</td>\n",
       "      <td>89323.33</td>\n",
       "      <td>1</td>\n",
       "    </tr>\n",
       "    <tr>\n",
       "      <th>9175</th>\n",
       "      <td>200863</td>\n",
       "      <td>832.00</td>\n",
       "      <td>Ярославль</td>\n",
       "      <td>М</td>\n",
       "      <td>42.00</td>\n",
       "      <td>5</td>\n",
       "      <td>620064.73</td>\n",
       "      <td>2</td>\n",
       "      <td>0</td>\n",
       "      <td>0</td>\n",
       "      <td>188054.46</td>\n",
       "      <td>0</td>\n",
       "    </tr>\n",
       "    <tr>\n",
       "      <th>1513</th>\n",
       "      <td>208081</td>\n",
       "      <td>873.00</td>\n",
       "      <td>Ярославль</td>\n",
       "      <td>М</td>\n",
       "      <td>31.00</td>\n",
       "      <td>2</td>\n",
       "      <td>232814.75</td>\n",
       "      <td>2</td>\n",
       "      <td>1</td>\n",
       "      <td>1</td>\n",
       "      <td>122505.86</td>\n",
       "      <td>1</td>\n",
       "    </tr>\n",
       "    <tr>\n",
       "      <th>2998</th>\n",
       "      <td>208081</td>\n",
       "      <td>821.00</td>\n",
       "      <td>Рыбинск</td>\n",
       "      <td>Ж</td>\n",
       "      <td>62.00</td>\n",
       "      <td>3</td>\n",
       "      <td>493608.26</td>\n",
       "      <td>2</td>\n",
       "      <td>1</td>\n",
       "      <td>1</td>\n",
       "      <td>33491.45</td>\n",
       "      <td>0</td>\n",
       "    </tr>\n",
       "    <tr>\n",
       "      <th>5840</th>\n",
       "      <td>208738</td>\n",
       "      <td>839.00</td>\n",
       "      <td>Ярославль</td>\n",
       "      <td>М</td>\n",
       "      <td>60.00</td>\n",
       "      <td>5</td>\n",
       "      <td>1102438.37</td>\n",
       "      <td>2</td>\n",
       "      <td>0</td>\n",
       "      <td>1</td>\n",
       "      <td>116500.81</td>\n",
       "      <td>0</td>\n",
       "    </tr>\n",
       "    <tr>\n",
       "      <th>1580</th>\n",
       "      <td>208738</td>\n",
       "      <td>897.00</td>\n",
       "      <td>Рыбинск</td>\n",
       "      <td>Ж</td>\n",
       "      <td>45.00</td>\n",
       "      <td>5</td>\n",
       "      <td>859018.19</td>\n",
       "      <td>2</td>\n",
       "      <td>1</td>\n",
       "      <td>1</td>\n",
       "      <td>145510.08</td>\n",
       "      <td>1</td>\n",
       "    </tr>\n",
       "    <tr>\n",
       "      <th>3350</th>\n",
       "      <td>208815</td>\n",
       "      <td>877.00</td>\n",
       "      <td>Рыбинск</td>\n",
       "      <td>М</td>\n",
       "      <td>25.00</td>\n",
       "      <td>4</td>\n",
       "      <td>239421.18</td>\n",
       "      <td>1</td>\n",
       "      <td>1</td>\n",
       "      <td>1</td>\n",
       "      <td>48638.00</td>\n",
       "      <td>1</td>\n",
       "    </tr>\n",
       "    <tr>\n",
       "      <th>5570</th>\n",
       "      <td>208815</td>\n",
       "      <td>773.00</td>\n",
       "      <td>Ярославль</td>\n",
       "      <td>М</td>\n",
       "      <td>39.00</td>\n",
       "      <td>4</td>\n",
       "      <td>288110.09</td>\n",
       "      <td>2</td>\n",
       "      <td>1</td>\n",
       "      <td>0</td>\n",
       "      <td>56971.91</td>\n",
       "      <td>0</td>\n",
       "    </tr>\n",
       "    <tr>\n",
       "      <th>7453</th>\n",
       "      <td>210627</td>\n",
       "      <td>864.00</td>\n",
       "      <td>Ярославль</td>\n",
       "      <td>Ж</td>\n",
       "      <td>38.00</td>\n",
       "      <td>4</td>\n",
       "      <td>1527225.32</td>\n",
       "      <td>4</td>\n",
       "      <td>1</td>\n",
       "      <td>1</td>\n",
       "      <td>162999.17</td>\n",
       "      <td>1</td>\n",
       "    </tr>\n",
       "    <tr>\n",
       "      <th>8521</th>\n",
       "      <td>210627</td>\n",
       "      <td>804.00</td>\n",
       "      <td>Рыбинск</td>\n",
       "      <td>М</td>\n",
       "      <td>30.00</td>\n",
       "      <td>2</td>\n",
       "      <td>347818.88</td>\n",
       "      <td>3</td>\n",
       "      <td>1</td>\n",
       "      <td>0</td>\n",
       "      <td>129015.25</td>\n",
       "      <td>0</td>\n",
       "    </tr>\n",
       "    <tr>\n",
       "      <th>869</th>\n",
       "      <td>210662</td>\n",
       "      <td>962.00</td>\n",
       "      <td>Ярославль</td>\n",
       "      <td>Ж</td>\n",
       "      <td>54.00</td>\n",
       "      <td>5</td>\n",
       "      <td>5069231.39</td>\n",
       "      <td>1</td>\n",
       "      <td>1</td>\n",
       "      <td>1</td>\n",
       "      <td>955144.85</td>\n",
       "      <td>1</td>\n",
       "    </tr>\n",
       "    <tr>\n",
       "      <th>1837</th>\n",
       "      <td>210662</td>\n",
       "      <td>896.00</td>\n",
       "      <td>Рыбинск</td>\n",
       "      <td>Ж</td>\n",
       "      <td>37.00</td>\n",
       "      <td>0</td>\n",
       "      <td>NaN</td>\n",
       "      <td>2</td>\n",
       "      <td>0</td>\n",
       "      <td>0</td>\n",
       "      <td>90916.04</td>\n",
       "      <td>0</td>\n",
       "    </tr>\n",
       "    <tr>\n",
       "      <th>4986</th>\n",
       "      <td>210792</td>\n",
       "      <td>884.00</td>\n",
       "      <td>Рыбинск</td>\n",
       "      <td>М</td>\n",
       "      <td>48.00</td>\n",
       "      <td>4</td>\n",
       "      <td>2228037.20</td>\n",
       "      <td>2</td>\n",
       "      <td>0</td>\n",
       "      <td>1</td>\n",
       "      <td>207978.09</td>\n",
       "      <td>1</td>\n",
       "    </tr>\n",
       "    <tr>\n",
       "      <th>7814</th>\n",
       "      <td>210792</td>\n",
       "      <td>839.00</td>\n",
       "      <td>Ярославль</td>\n",
       "      <td>М</td>\n",
       "      <td>42.00</td>\n",
       "      <td>2</td>\n",
       "      <td>662646.97</td>\n",
       "      <td>1</td>\n",
       "      <td>1</td>\n",
       "      <td>0</td>\n",
       "      <td>138403.60</td>\n",
       "      <td>0</td>\n",
       "    </tr>\n",
       "    <tr>\n",
       "      <th>1359</th>\n",
       "      <td>211130</td>\n",
       "      <td>833.00</td>\n",
       "      <td>Ярославль</td>\n",
       "      <td>М</td>\n",
       "      <td>55.00</td>\n",
       "      <td>3</td>\n",
       "      <td>1231184.90</td>\n",
       "      <td>4</td>\n",
       "      <td>0</td>\n",
       "      <td>1</td>\n",
       "      <td>187758.38</td>\n",
       "      <td>1</td>\n",
       "    </tr>\n",
       "    <tr>\n",
       "      <th>3817</th>\n",
       "      <td>211130</td>\n",
       "      <td>918.00</td>\n",
       "      <td>Рыбинск</td>\n",
       "      <td>Ж</td>\n",
       "      <td>55.00</td>\n",
       "      <td>0</td>\n",
       "      <td>NaN</td>\n",
       "      <td>2</td>\n",
       "      <td>1</td>\n",
       "      <td>1</td>\n",
       "      <td>244202.04</td>\n",
       "      <td>0</td>\n",
       "    </tr>\n",
       "    <tr>\n",
       "      <th>9880</th>\n",
       "      <td>217412</td>\n",
       "      <td>886.00</td>\n",
       "      <td>Ярославль</td>\n",
       "      <td>Ж</td>\n",
       "      <td>35.00</td>\n",
       "      <td>3</td>\n",
       "      <td>1026172.14</td>\n",
       "      <td>2</td>\n",
       "      <td>1</td>\n",
       "      <td>0</td>\n",
       "      <td>53099.16</td>\n",
       "      <td>0</td>\n",
       "    </tr>\n",
       "    <tr>\n",
       "      <th>7055</th>\n",
       "      <td>217412</td>\n",
       "      <td>879.00</td>\n",
       "      <td>Рыбинск</td>\n",
       "      <td>М</td>\n",
       "      <td>42.00</td>\n",
       "      <td>5</td>\n",
       "      <td>568140.15</td>\n",
       "      <td>3</td>\n",
       "      <td>0</td>\n",
       "      <td>0</td>\n",
       "      <td>231658.67</td>\n",
       "      <td>1</td>\n",
       "    </tr>\n",
       "    <tr>\n",
       "      <th>4611</th>\n",
       "      <td>217619</td>\n",
       "      <td>903.00</td>\n",
       "      <td>Рыбинск</td>\n",
       "      <td>Ж</td>\n",
       "      <td>59.00</td>\n",
       "      <td>5</td>\n",
       "      <td>844055.83</td>\n",
       "      <td>2</td>\n",
       "      <td>0</td>\n",
       "      <td>1</td>\n",
       "      <td>133999.76</td>\n",
       "      <td>1</td>\n",
       "    </tr>\n",
       "    <tr>\n",
       "      <th>5807</th>\n",
       "      <td>217619</td>\n",
       "      <td>766.00</td>\n",
       "      <td>Ярославль</td>\n",
       "      <td>М</td>\n",
       "      <td>52.00</td>\n",
       "      <td>2</td>\n",
       "      <td>218199.47</td>\n",
       "      <td>1</td>\n",
       "      <td>1</td>\n",
       "      <td>0</td>\n",
       "      <td>120356.44</td>\n",
       "      <td>0</td>\n",
       "    </tr>\n",
       "    <tr>\n",
       "      <th>4186</th>\n",
       "      <td>217643</td>\n",
       "      <td>804.00</td>\n",
       "      <td>Рыбинск</td>\n",
       "      <td>Ж</td>\n",
       "      <td>40.00</td>\n",
       "      <td>2</td>\n",
       "      <td>301836.65</td>\n",
       "      <td>2</td>\n",
       "      <td>1</td>\n",
       "      <td>1</td>\n",
       "      <td>81137.22</td>\n",
       "      <td>0</td>\n",
       "    </tr>\n",
       "    <tr>\n",
       "      <th>1970</th>\n",
       "      <td>217643</td>\n",
       "      <td>845.00</td>\n",
       "      <td>Ярославль</td>\n",
       "      <td>М</td>\n",
       "      <td>29.00</td>\n",
       "      <td>5</td>\n",
       "      <td>733098.45</td>\n",
       "      <td>4</td>\n",
       "      <td>1</td>\n",
       "      <td>1</td>\n",
       "      <td>41443.01</td>\n",
       "      <td>1</td>\n",
       "    </tr>\n",
       "    <tr>\n",
       "      <th>9406</th>\n",
       "      <td>217826</td>\n",
       "      <td>790.00</td>\n",
       "      <td>Рыбинск</td>\n",
       "      <td>Ж</td>\n",
       "      <td>46.00</td>\n",
       "      <td>4</td>\n",
       "      <td>430414.80</td>\n",
       "      <td>2</td>\n",
       "      <td>1</td>\n",
       "      <td>1</td>\n",
       "      <td>49400.37</td>\n",
       "      <td>0</td>\n",
       "    </tr>\n",
       "    <tr>\n",
       "      <th>4623</th>\n",
       "      <td>217826</td>\n",
       "      <td>842.00</td>\n",
       "      <td>Ярославль</td>\n",
       "      <td>М</td>\n",
       "      <td>39.00</td>\n",
       "      <td>4</td>\n",
       "      <td>439747.65</td>\n",
       "      <td>2</td>\n",
       "      <td>0</td>\n",
       "      <td>1</td>\n",
       "      <td>116736.75</td>\n",
       "      <td>1</td>\n",
       "    </tr>\n",
       "    <tr>\n",
       "      <th>1740</th>\n",
       "      <td>220816</td>\n",
       "      <td>840.00</td>\n",
       "      <td>Ярославль</td>\n",
       "      <td>Ж</td>\n",
       "      <td>41.00</td>\n",
       "      <td>3</td>\n",
       "      <td>1193287.13</td>\n",
       "      <td>2</td>\n",
       "      <td>1</td>\n",
       "      <td>1</td>\n",
       "      <td>76434.94</td>\n",
       "      <td>1</td>\n",
       "    </tr>\n",
       "    <tr>\n",
       "      <th>2302</th>\n",
       "      <td>220816</td>\n",
       "      <td>934.00</td>\n",
       "      <td>Рыбинск</td>\n",
       "      <td>Ж</td>\n",
       "      <td>74.00</td>\n",
       "      <td>5</td>\n",
       "      <td>1294285.39</td>\n",
       "      <td>3</td>\n",
       "      <td>1</td>\n",
       "      <td>0</td>\n",
       "      <td>95606.80</td>\n",
       "      <td>0</td>\n",
       "    </tr>\n",
       "    <tr>\n",
       "      <th>2597</th>\n",
       "      <td>226719</td>\n",
       "      <td>990.00</td>\n",
       "      <td>Ярославль</td>\n",
       "      <td>М</td>\n",
       "      <td>37.00</td>\n",
       "      <td>4</td>\n",
       "      <td>14648692.14</td>\n",
       "      <td>2</td>\n",
       "      <td>0</td>\n",
       "      <td>0</td>\n",
       "      <td>934412.61</td>\n",
       "      <td>1</td>\n",
       "    </tr>\n",
       "    <tr>\n",
       "      <th>4216</th>\n",
       "      <td>226719</td>\n",
       "      <td>903.00</td>\n",
       "      <td>Рыбинск</td>\n",
       "      <td>Ж</td>\n",
       "      <td>63.00</td>\n",
       "      <td>0</td>\n",
       "      <td>NaN</td>\n",
       "      <td>1</td>\n",
       "      <td>1</td>\n",
       "      <td>0</td>\n",
       "      <td>138582.58</td>\n",
       "      <td>0</td>\n",
       "    </tr>\n",
       "    <tr>\n",
       "      <th>8205</th>\n",
       "      <td>227795</td>\n",
       "      <td>840.00</td>\n",
       "      <td>Рыбинск</td>\n",
       "      <td>М</td>\n",
       "      <td>34.00</td>\n",
       "      <td>2</td>\n",
       "      <td>350768.03</td>\n",
       "      <td>1</td>\n",
       "      <td>1</td>\n",
       "      <td>0</td>\n",
       "      <td>102036.14</td>\n",
       "      <td>1</td>\n",
       "    </tr>\n",
       "    <tr>\n",
       "      <th>8497</th>\n",
       "      <td>227795</td>\n",
       "      <td>839.00</td>\n",
       "      <td>Ярославль</td>\n",
       "      <td>М</td>\n",
       "      <td>34.00</td>\n",
       "      <td>2</td>\n",
       "      <td>326593.14</td>\n",
       "      <td>2</td>\n",
       "      <td>1</td>\n",
       "      <td>0</td>\n",
       "      <td>103314.92</td>\n",
       "      <td>0</td>\n",
       "    </tr>\n",
       "  </tbody>\n",
       "</table>\n",
       "</div>"
      ],
      "text/plain": [
       "      USERID  score       city gender   age  equity     balance  products  \\\n",
       "1893  116540 883.00    Рыбинск      Ж 55.00       1   362756.49         3   \n",
       "7694  116540 887.00  Ярославль      Ж 38.00       0         NaN         1   \n",
       "4866  117943 855.00    Рыбинск      Ж 32.00       6  1036832.93         4   \n",
       "7542  117943 880.00  Ярославль      Ж 40.00       0         NaN         1   \n",
       "5863  120258 908.00    Рыбинск      Ж 38.00       4  2213581.63         2   \n",
       "5896  120258 905.00  Ярославль      М 30.00       0         NaN         1   \n",
       "1411  123461 829.00  Ярославль      Ж 59.00       0    96222.44         2   \n",
       "8638  123461 934.00    Рыбинск      М 34.00       0         NaN         2   \n",
       "9775  124450 758.00    Рыбинск      Ж 36.00       0    73574.07         2   \n",
       "8164  124450 859.00  Ярославль      Ж 38.00       6   516811.20         1   \n",
       "4850  126368 909.00  Ярославль      Ж 30.00       4  1322623.29         2   \n",
       "5420  126368 832.00    Рыбинск      Ж 33.00       0         NaN         1   \n",
       "3988  129785 904.00    Рыбинск      М 33.00       5  2427737.60         3   \n",
       "9504  129785 949.00  Ярославль      М 43.00       0         NaN         1   \n",
       "2138  131419 739.00    Рыбинск      Ж 37.00       3  1307941.65         3   \n",
       "904   131419 934.00  Ярославль      М 35.00       5  2348335.95         2   \n",
       "1608  140377 802.00  Ярославль      М 26.00       3   539863.29         4   \n",
       "7487  140377 930.00    Рыбинск      Ж 34.00       5  1123967.02         1   \n",
       "2276  141265 858.00  Ярославль      М 37.00       4   471599.16         2   \n",
       "5569  141265 811.00    Рыбинск      Ж 33.00       3  1044316.88         2   \n",
       "5369  143592 885.00    Рыбинск      Ж 56.00       4  1201087.46         2   \n",
       "5557  143592 764.00  Ярославль      Ж 68.00       3   508919.15         2   \n",
       "8364  148826 909.00    Рыбинск      Ж 32.00       0         NaN         3   \n",
       "5252  148826 895.00  Ярославль      М 32.00       5  1470273.14         2   \n",
       "946   149365 877.00  Ярославль      М 41.00       5   819182.01         2   \n",
       "8272  149365 793.00    Рыбинск      Ж 61.00       0   476496.99         2   \n",
       "2439  150667 813.00    Рыбинск      Ж 44.00       0    62504.47         4   \n",
       "9267  150667 931.00  Ярославль      М 41.00       0         NaN         1   \n",
       "690   152479 768.00    Рыбинск      Ж 42.00       0   126787.79         4   \n",
       "5705  152479 723.00  Ярославль      Ж 22.00       0         NaN         1   \n",
       "3274  155765 863.00  Ярославль      М 30.00       5  1036114.50         5   \n",
       "5197  155765 923.00    Рыбинск      М 30.00       0         NaN         1   \n",
       "1080  155872 896.00  Ярославль      М 36.00       3  1113656.92         3   \n",
       "9363  155872 714.00    Рыбинск      Ж 29.00       0         NaN         1   \n",
       "3936  160075 899.00  Ярославль      М 34.00       4  1647814.67         4   \n",
       "9508  160075 824.00    Рыбинск      Ж 57.00       3   355047.33         2   \n",
       "8733  162053 786.00  Ярославль      М 29.00       4   205824.97         3   \n",
       "5629  162053 921.00    Рыбинск      М 33.00       3   857011.13         2   \n",
       "6786  163207 838.00  Ярославль      Ж 42.00       4   652776.60         2   \n",
       "3564  163207 853.00    Рыбинск      М 42.00       4   543839.62         1   \n",
       "7271  164676 790.00    Рыбинск      Ж 77.00       1   111202.01         1   \n",
       "58    164676 860.00  Ярославль      М 37.00       5   648594.03         2   \n",
       "9785  168998 895.00    Рыбинск      М 44.00       0   282653.53         3   \n",
       "5020  168998 886.00  Ярославль      Ж 35.00       4   394780.61         2   \n",
       "790   170312 901.00  Ярославль      М 33.00       4  3276783.93         3   \n",
       "3039  170312 813.00    Рыбинск      Ж 47.00       3   370027.67         2   \n",
       "4587  171751 874.00    Рыбинск      Ж 26.00       5   292054.42         2   \n",
       "9653  171751 862.00  Ярославль      М 42.00       4   481992.19         2   \n",
       "6756  172142 751.00    Рыбинск      Ж 69.00       3   396568.03         2   \n",
       "2941  172142 896.00  Ярославль      Ж 30.00       4  1009073.14         4   \n",
       "7753  175730 846.00  Ярославль      Ж 32.00       7   216764.74         4   \n",
       "9970  175730 816.00    Рыбинск      М 36.00       4   477892.07         3   \n",
       "8705  181526 895.00    Рыбинск      М 29.00       0         NaN         1   \n",
       "2989  181526 918.00  Ярославль      Ж 37.00       5  1366382.35         4   \n",
       "9146  183510 800.00    Рыбинск      Ж 42.00       7   473293.81         2   \n",
       "8584  183510 922.00  Ярославль      М 26.00       5   448542.42         3   \n",
       "3106  185748 912.00  Ярославль      Ж 47.00       5  1598218.98         2   \n",
       "150   185748 850.00    Рыбинск      М 36.00       5  1203376.67         2   \n",
       "5454  188957 853.00  Ярославль      М 35.00       1   374959.62         2   \n",
       "6005  188957 882.00    Рыбинск      Ж 64.00       3   893392.91         3   \n",
       "1583  190253 726.00  Ярославль      М 49.00       0         NaN         1   \n",
       "231   190253 823.00    Рыбинск      М 37.00       4   373348.39         2   \n",
       "3859  191520 773.00    Рыбинск      М 36.00       3  1219918.08         4   \n",
       "7931  191520 767.00  Ярославль      М 45.00       0         NaN         1   \n",
       "9659  195884 767.00    Рыбинск      Ж 45.00       1   335652.56         3   \n",
       "2226  195884 906.00  Ярославль      М 49.00       6  1354552.83         2   \n",
       "4870  197364 889.00  Ярославль      М 33.00       0         NaN         2   \n",
       "161   197364 928.00    Рыбинск      Ж 53.00       6  1347183.86         2   \n",
       "8822  199312 911.00    Рыбинск      Ж 43.00       0         NaN         2   \n",
       "2499  199312 948.00  Ярославль      М 41.00       5  3095721.85         4   \n",
       "9035  200863 933.00    Рыбинск      М 29.00       7   766924.56         2   \n",
       "9175  200863 832.00  Ярославль      М 42.00       5   620064.73         2   \n",
       "1513  208081 873.00  Ярославль      М 31.00       2   232814.75         2   \n",
       "2998  208081 821.00    Рыбинск      Ж 62.00       3   493608.26         2   \n",
       "5840  208738 839.00  Ярославль      М 60.00       5  1102438.37         2   \n",
       "1580  208738 897.00    Рыбинск      Ж 45.00       5   859018.19         2   \n",
       "3350  208815 877.00    Рыбинск      М 25.00       4   239421.18         1   \n",
       "5570  208815 773.00  Ярославль      М 39.00       4   288110.09         2   \n",
       "7453  210627 864.00  Ярославль      Ж 38.00       4  1527225.32         4   \n",
       "8521  210627 804.00    Рыбинск      М 30.00       2   347818.88         3   \n",
       "869   210662 962.00  Ярославль      Ж 54.00       5  5069231.39         1   \n",
       "1837  210662 896.00    Рыбинск      Ж 37.00       0         NaN         2   \n",
       "4986  210792 884.00    Рыбинск      М 48.00       4  2228037.20         2   \n",
       "7814  210792 839.00  Ярославль      М 42.00       2   662646.97         1   \n",
       "1359  211130 833.00  Ярославль      М 55.00       3  1231184.90         4   \n",
       "3817  211130 918.00    Рыбинск      Ж 55.00       0         NaN         2   \n",
       "9880  217412 886.00  Ярославль      Ж 35.00       3  1026172.14         2   \n",
       "7055  217412 879.00    Рыбинск      М 42.00       5   568140.15         3   \n",
       "4611  217619 903.00    Рыбинск      Ж 59.00       5   844055.83         2   \n",
       "5807  217619 766.00  Ярославль      М 52.00       2   218199.47         1   \n",
       "4186  217643 804.00    Рыбинск      Ж 40.00       2   301836.65         2   \n",
       "1970  217643 845.00  Ярославль      М 29.00       5   733098.45         4   \n",
       "9406  217826 790.00    Рыбинск      Ж 46.00       4   430414.80         2   \n",
       "4623  217826 842.00  Ярославль      М 39.00       4   439747.65         2   \n",
       "1740  220816 840.00  Ярославль      Ж 41.00       3  1193287.13         2   \n",
       "2302  220816 934.00    Рыбинск      Ж 74.00       5  1294285.39         3   \n",
       "2597  226719 990.00  Ярославль      М 37.00       4 14648692.14         2   \n",
       "4216  226719 903.00    Рыбинск      Ж 63.00       0         NaN         1   \n",
       "8205  227795 840.00    Рыбинск      М 34.00       2   350768.03         1   \n",
       "8497  227795 839.00  Ярославль      М 34.00       2   326593.14         2   \n",
       "\n",
       "      credit_card  last_activity  EST_SALARY  churn  \n",
       "1893            0              1   175920.48      1  \n",
       "7694            0              1   119247.61      0  \n",
       "4866            1              1   107792.71      1  \n",
       "7542            1              0   137718.93      0  \n",
       "5863            0              1   160327.77      1  \n",
       "5896            1              1   146427.96      0  \n",
       "1411            0              1   102771.55      1  \n",
       "8638            1              0   291619.27      0  \n",
       "9775            0              1    79963.59      0  \n",
       "8164            1              1    95144.63      1  \n",
       "4850            0              1   140675.66      1  \n",
       "5420            0              0   118465.34      0  \n",
       "3988            0              1   188856.75      1  \n",
       "9504            1              1   166845.37      0  \n",
       "2138            0              0   103867.47      0  \n",
       "904             0              0   217105.13      1  \n",
       "1608            1              1   112167.83      1  \n",
       "7487            1              1   148336.26      0  \n",
       "2276            1              1   148806.88      1  \n",
       "5569            1              0    46055.32      0  \n",
       "5369            1              1    88223.89      1  \n",
       "5557            0              1    71211.66      0  \n",
       "8364            1              0    28843.54      0  \n",
       "5252            0              0   118058.52      1  \n",
       "946             0              0   212316.47      1  \n",
       "8272            1              1    46147.06      0  \n",
       "2439            1              0   152393.79      1  \n",
       "9267            0              0   261904.44      0  \n",
       "690             1              1   143233.23      1  \n",
       "5705            1              0    83955.65      0  \n",
       "3274            1              1   150744.50      1  \n",
       "5197            1              1   120296.60      0  \n",
       "1080            0              1   291176.85      1  \n",
       "9363            1              0   118052.84      0  \n",
       "3936            1              0   151888.42      1  \n",
       "9508            0              0    64351.81      0  \n",
       "8733            1              0   121371.73      0  \n",
       "5629            1              1   113512.57      1  \n",
       "6786            1              1    97545.36      0  \n",
       "3564            1              1   105281.97      1  \n",
       "7271            1              0    32835.45      0  \n",
       "58              1              1   213586.86      1  \n",
       "9785            0              0   255296.47      0  \n",
       "5020            1              1   510577.10      1  \n",
       "790             0              1   358700.96      1  \n",
       "3039            0              0   129835.56      0  \n",
       "4587            0              1    20528.56      1  \n",
       "9653            1              0    71816.86      0  \n",
       "6756            0              1    45608.45      0  \n",
       "2941            1              0    70866.29      1  \n",
       "7753            1              1    77100.85      1  \n",
       "9970            1              0    81100.60      0  \n",
       "8705            1              1   124786.53      0  \n",
       "2989            1              1    97932.95      1  \n",
       "9146            1              0    54049.88      0  \n",
       "8584            0              1    66063.13      1  \n",
       "3106            0              0   180256.98      0  \n",
       "150             0              1    89401.82      1  \n",
       "5454            1              1   197600.97      1  \n",
       "6005            1              0    69622.58      0  \n",
       "1583            1              1   177700.78      0  \n",
       "231             0              1   131947.92      1  \n",
       "3859            1              1   119933.13      1  \n",
       "7931            1              1   880005.05      0  \n",
       "9659            1              1   100197.67      0  \n",
       "2226            0              0   270678.42      1  \n",
       "4870            1              1    96173.48      0  \n",
       "161             0              1   168189.49      1  \n",
       "8822            1              1   152189.72      0  \n",
       "2499            1              1   307234.69      1  \n",
       "9035            0              1    89323.33      1  \n",
       "9175            0              0   188054.46      0  \n",
       "1513            1              1   122505.86      1  \n",
       "2998            1              1    33491.45      0  \n",
       "5840            0              1   116500.81      0  \n",
       "1580            1              1   145510.08      1  \n",
       "3350            1              1    48638.00      1  \n",
       "5570            1              0    56971.91      0  \n",
       "7453            1              1   162999.17      1  \n",
       "8521            1              0   129015.25      0  \n",
       "869             1              1   955144.85      1  \n",
       "1837            0              0    90916.04      0  \n",
       "4986            0              1   207978.09      1  \n",
       "7814            1              0   138403.60      0  \n",
       "1359            0              1   187758.38      1  \n",
       "3817            1              1   244202.04      0  \n",
       "9880            1              0    53099.16      0  \n",
       "7055            0              0   231658.67      1  \n",
       "4611            0              1   133999.76      1  \n",
       "5807            1              0   120356.44      0  \n",
       "4186            1              1    81137.22      0  \n",
       "1970            1              1    41443.01      1  \n",
       "9406            1              1    49400.37      0  \n",
       "4623            0              1   116736.75      1  \n",
       "1740            1              1    76434.94      1  \n",
       "2302            1              0    95606.80      0  \n",
       "2597            0              0   934412.61      1  \n",
       "4216            1              0   138582.58      0  \n",
       "8205            1              0   102036.14      1  \n",
       "8497            1              0   103314.92      0  "
      ]
     },
     "execution_count": 15,
     "metadata": {},
     "output_type": "execute_result"
    }
   ],
   "source": [
    "# выведем на экран записи с дублирующимися записями\n",
    "df.query('USERID in @user_id').sort_values(by='USERID')"
   ]
  },
  {
   "cell_type": "markdown",
   "metadata": {},
   "source": [
    "Как видно из данных, дублирующиеся id имеют пользователи из разных городов (Ярославль и Рыбинск), также пользователи имеют разный пол. Предположение о том, что это одни и те же пользователи в разный период времени - нельзя. Проще всего удалить 50 записей, что не сильно отразится на датасете."
   ]
  },
  {
   "cell_type": "code",
   "execution_count": 16,
   "metadata": {},
   "outputs": [],
   "source": [
    "# удалим из датасета записи с дублирующимся id пользователей\n",
    "df.drop_duplicates(subset='USERID', inplace=True)"
   ]
  },
  {
   "cell_type": "code",
   "execution_count": 17,
   "metadata": {},
   "outputs": [
    {
     "data": {
      "text/plain": [
       "0"
      ]
     },
     "execution_count": 17,
     "metadata": {},
     "output_type": "execute_result"
    }
   ],
   "source": [
    "# проверим количество дубликатов в столбце после удаления\n",
    "df['USERID'].duplicated().sum()"
   ]
  },
  {
   "cell_type": "code",
   "execution_count": 18,
   "metadata": {},
   "outputs": [
    {
     "name": "stdout",
     "output_type": "stream",
     "text": [
      "<class 'pandas.core.frame.DataFrame'>\n",
      "Int64Index: 9923 entries, 0 to 9999\n",
      "Data columns (total 12 columns):\n",
      " #   Column         Non-Null Count  Dtype  \n",
      "---  ------         --------------  -----  \n",
      " 0   USERID         9923 non-null   int64  \n",
      " 1   score          9923 non-null   float64\n",
      " 2   city           9923 non-null   object \n",
      " 3   gender         9923 non-null   object \n",
      " 4   age            9923 non-null   float64\n",
      " 5   equity         9923 non-null   int64  \n",
      " 6   balance        7664 non-null   float64\n",
      " 7   products       9923 non-null   int64  \n",
      " 8   credit_card    9923 non-null   int64  \n",
      " 9   last_activity  9923 non-null   int64  \n",
      " 10  EST_SALARY     9923 non-null   float64\n",
      " 11  churn          9923 non-null   int64  \n",
      "dtypes: float64(4), int64(6), object(2)\n",
      "memory usage: 1007.8+ KB\n"
     ]
    }
   ],
   "source": [
    "df.info()"
   ]
  },
  {
   "cell_type": "markdown",
   "metadata": {},
   "source": [
    "Итого мы удалили 50 записей с дубликатами из исходного датасета."
   ]
  },
  {
   "cell_type": "markdown",
   "metadata": {},
   "source": [
    "#### Типы данных столбцов"
   ]
  },
  {
   "cell_type": "code",
   "execution_count": 19,
   "metadata": {},
   "outputs": [
    {
     "name": "stdout",
     "output_type": "stream",
     "text": [
      "<class 'pandas.core.frame.DataFrame'>\n",
      "Int64Index: 9923 entries, 0 to 9999\n",
      "Data columns (total 12 columns):\n",
      " #   Column         Non-Null Count  Dtype  \n",
      "---  ------         --------------  -----  \n",
      " 0   USERID         9923 non-null   int64  \n",
      " 1   score          9923 non-null   float64\n",
      " 2   city           9923 non-null   object \n",
      " 3   gender         9923 non-null   object \n",
      " 4   age            9923 non-null   float64\n",
      " 5   equity         9923 non-null   int64  \n",
      " 6   balance        7664 non-null   float64\n",
      " 7   products       9923 non-null   int64  \n",
      " 8   credit_card    9923 non-null   int64  \n",
      " 9   last_activity  9923 non-null   int64  \n",
      " 10  EST_SALARY     9923 non-null   float64\n",
      " 11  churn          9923 non-null   int64  \n",
      "dtypes: float64(4), int64(6), object(2)\n",
      "memory usage: 1007.8+ KB\n"
     ]
    }
   ],
   "source": [
    "# выведем типы данных столбцов \n",
    "df.info()"
   ]
  },
  {
   "cell_type": "markdown",
   "metadata": {},
   "source": [
    "Есть лишь один столбец с неправильным типом данных - age. Заменим тип данных float на int"
   ]
  },
  {
   "cell_type": "code",
   "execution_count": 20,
   "metadata": {},
   "outputs": [],
   "source": [
    "df['age'] = df['age'].astype('int')"
   ]
  },
  {
   "cell_type": "code",
   "execution_count": 21,
   "metadata": {},
   "outputs": [
    {
     "name": "stdout",
     "output_type": "stream",
     "text": [
      "<class 'pandas.core.frame.DataFrame'>\n",
      "Int64Index: 9923 entries, 0 to 9999\n",
      "Data columns (total 12 columns):\n",
      " #   Column         Non-Null Count  Dtype  \n",
      "---  ------         --------------  -----  \n",
      " 0   USERID         9923 non-null   int64  \n",
      " 1   score          9923 non-null   float64\n",
      " 2   city           9923 non-null   object \n",
      " 3   gender         9923 non-null   object \n",
      " 4   age            9923 non-null   int32  \n",
      " 5   equity         9923 non-null   int64  \n",
      " 6   balance        7664 non-null   float64\n",
      " 7   products       9923 non-null   int64  \n",
      " 8   credit_card    9923 non-null   int64  \n",
      " 9   last_activity  9923 non-null   int64  \n",
      " 10  EST_SALARY     9923 non-null   float64\n",
      " 11  churn          9923 non-null   int64  \n",
      "dtypes: float64(3), int32(1), int64(6), object(2)\n",
      "memory usage: 969.0+ KB\n"
     ]
    }
   ],
   "source": [
    "df.info()"
   ]
  },
  {
   "cell_type": "markdown",
   "metadata": {},
   "source": [
    "Теперь все столбцы имеют верный тип данных."
   ]
  },
  {
   "cell_type": "markdown",
   "metadata": {},
   "source": [
    "#### Колонки"
   ]
  },
  {
   "cell_type": "markdown",
   "metadata": {},
   "source": [
    "Необходимо привести колонки к нижнему регистру."
   ]
  },
  {
   "cell_type": "code",
   "execution_count": 22,
   "metadata": {},
   "outputs": [],
   "source": [
    "df.columns = df.columns.str.lower()"
   ]
  },
  {
   "cell_type": "code",
   "execution_count": 23,
   "metadata": {},
   "outputs": [
    {
     "name": "stdout",
     "output_type": "stream",
     "text": [
      "<class 'pandas.core.frame.DataFrame'>\n",
      "Int64Index: 9923 entries, 0 to 9999\n",
      "Data columns (total 12 columns):\n",
      " #   Column         Non-Null Count  Dtype  \n",
      "---  ------         --------------  -----  \n",
      " 0   userid         9923 non-null   int64  \n",
      " 1   score          9923 non-null   float64\n",
      " 2   city           9923 non-null   object \n",
      " 3   gender         9923 non-null   object \n",
      " 4   age            9923 non-null   int32  \n",
      " 5   equity         9923 non-null   int64  \n",
      " 6   balance        7664 non-null   float64\n",
      " 7   products       9923 non-null   int64  \n",
      " 8   credit_card    9923 non-null   int64  \n",
      " 9   last_activity  9923 non-null   int64  \n",
      " 10  est_salary     9923 non-null   float64\n",
      " 11  churn          9923 non-null   int64  \n",
      "dtypes: float64(3), int32(1), int64(6), object(2)\n",
      "memory usage: 969.0+ KB\n"
     ]
    }
   ],
   "source": [
    "df.info()"
   ]
  },
  {
   "cell_type": "markdown",
   "metadata": {},
   "source": [
    "Все колонки приведены к правильному формату."
   ]
  },
  {
   "cell_type": "markdown",
   "metadata": {},
   "source": [
    "#### Промежуточный вывод"
   ]
  },
  {
   "cell_type": "markdown",
   "metadata": {},
   "source": [
    "В ходе предобработки данных были выполнены следющие действия:\n",
    "   - удален клиент с одним продуктом;\n",
    "   - пропуски в столбце age удалены, а в столбце balance остались без изменений, так как это может повлиять распределение и анализ в будущем;\n",
    "   - удалены дубликаты в столбце id пользователей в связи с их незначительным числом;\n",
    "   - данные приведены к нужному типу;\n",
    "   - названия колонок приведены к правильному формату.\n",
    "\n",
    "Теперь датасет готов к исследовательскому анализу."
   ]
  },
  {
   "cell_type": "markdown",
   "metadata": {},
   "source": [
    "### Исследовательский анализ данных"
   ]
  },
  {
   "cell_type": "markdown",
   "metadata": {},
   "source": [
    "#### Распределение клиентов по различным признакам в разрезе оттока"
   ]
  },
  {
   "cell_type": "markdown",
   "metadata": {},
   "source": [
    "Создадим функцию для построения графиков нормированной гистограммы по различным признакам в разрезе оттока."
   ]
  },
  {
   "cell_type": "code",
   "execution_count": 24,
   "metadata": {},
   "outputs": [
    {
     "data": {
      "image/png": "[encoded data removed]",
      "text/plain": [
       "<Figure size 1200x1500 with 10 Axes>"
      ]
     },
     "metadata": {},
     "output_type": "display_data"
    }
   ],
   "source": [
    "def sns_hist(data):\n",
    "    # создадим сетку графиков\n",
    "    num_rows = len(data.columns[1:-1])//2\n",
    "    fig, axes = plt.subplots(num_rows, 2, figsize=(12, 15))\n",
    "    # приведем переменную axes к одномерному массиву для удобства\n",
    "    axes = axes.flatten()\n",
    "\n",
    "    # создадим цикл для рисования гистограммы для каждого столбца\n",
    "    for i, column in enumerate(data.columns[1:-1]):\n",
    "        sns.histplot(data, x=column, hue='churn', stat='density', common_norm=False, palette='flag', ax=axes[i])\n",
    "        # в качестве названия гистограммы - название столбца\n",
    "        axes[i].set_title(column)\n",
    "\n",
    "    # выведем графики на экран\n",
    "    plt.tight_layout()\n",
    "    plt.show()\n",
    "\n",
    "# применим функцию к нашему датасету, но для удобства уберем выбросы из графиков\n",
    "sns_hist(df.query('balance <= 10000000 and est_salary <= 1000000'))"
   ]
  },
  {
   "cell_type": "markdown",
   "metadata": {},
   "source": [
    "По данным графикам можно выделить отточные категории клиентов по различным признакам.\n",
    "\n",
    "Баллы кредитного скоринга:\n",
    "- 830-910;\n",
    "- 930-940.\n",
    "\n",
    "Город: \n",
    "- Ярославль.\n",
    "\n",
    "Пол:\n",
    "- мужчины.\n",
    "\n",
    "Возраст:\n",
    "- 25-35;\n",
    "- 50-60.\n",
    "\n",
    "Приблизительная оценка собственности клиента:\n",
    "- от 3.\n",
    "\n",
    "Баланс:\n",
    "- от 1 млн.\n",
    "\n",
    "Количество продуктов:\n",
    "- от 2.\n",
    "\n",
    "Кредитная карта:\n",
    "- отсутствует.\n",
    "\n",
    "Был ли клиент активен в последнее время:\n",
    "- был.\n",
    "\n",
    "Оценочная з/п:\n",
    "- от 100 000."
   ]
  },
  {
   "cell_type": "markdown",
   "metadata": {},
   "source": [
    "#### Корреляция"
   ]
  },
  {
   "cell_type": "markdown",
   "metadata": {},
   "source": [
    "Построим матрицу корреляции для определения признаков, которые сильнее всего влияют на отток. Возьмем тольо те столбцы, которые могут повлиять на отток."
   ]
  },
  {
   "cell_type": "code",
   "execution_count": 25,
   "metadata": {},
   "outputs": [
    {
     "name": "stdout",
     "output_type": "stream",
     "text": [
      "interval columns not set, guessing: ['score', 'age', 'equity', 'balance', 'products', 'credit_card', 'last_activity', 'est_salary', 'churn']\n"
     ]
    },
    {
     "data": {
      "text/html": [
       "<div>\n",
       "<style scoped>\n",
       "    .dataframe tbody tr th:only-of-type {\n",
       "        vertical-align: middle;\n",
       "    }\n",
       "\n",
       "    .dataframe tbody tr th {\n",
       "        vertical-align: top;\n",
       "    }\n",
       "\n",
       "    .dataframe thead th {\n",
       "        text-align: right;\n",
       "    }\n",
       "</style>\n",
       "<table border=\"1\" class=\"dataframe\">\n",
       "  <thead>\n",
       "    <tr style=\"text-align: right;\">\n",
       "      <th></th>\n",
       "      <th>score</th>\n",
       "      <th>city</th>\n",
       "      <th>gender</th>\n",
       "      <th>age</th>\n",
       "      <th>equity</th>\n",
       "      <th>balance</th>\n",
       "      <th>products</th>\n",
       "      <th>credit_card</th>\n",
       "      <th>last_activity</th>\n",
       "      <th>est_salary</th>\n",
       "      <th>churn</th>\n",
       "    </tr>\n",
       "  </thead>\n",
       "  <tbody>\n",
       "    <tr>\n",
       "      <th>score</th>\n",
       "      <td>1.00</td>\n",
       "      <td>0.09</td>\n",
       "      <td>0.07</td>\n",
       "      <td>0.04</td>\n",
       "      <td>0.53</td>\n",
       "      <td>0.17</td>\n",
       "      <td>0.42</td>\n",
       "      <td>0.21</td>\n",
       "      <td>0.05</td>\n",
       "      <td>0.39</td>\n",
       "      <td>0.23</td>\n",
       "    </tr>\n",
       "    <tr>\n",
       "      <th>city</th>\n",
       "      <td>0.09</td>\n",
       "      <td>1.00</td>\n",
       "      <td>0.01</td>\n",
       "      <td>0.09</td>\n",
       "      <td>0.06</td>\n",
       "      <td>0.04</td>\n",
       "      <td>0.13</td>\n",
       "      <td>0.07</td>\n",
       "      <td>0.03</td>\n",
       "      <td>0.17</td>\n",
       "      <td>0.02</td>\n",
       "    </tr>\n",
       "    <tr>\n",
       "      <th>gender</th>\n",
       "      <td>0.07</td>\n",
       "      <td>0.01</td>\n",
       "      <td>1.00</td>\n",
       "      <td>0.28</td>\n",
       "      <td>0.06</td>\n",
       "      <td>0.05</td>\n",
       "      <td>0.07</td>\n",
       "      <td>0.20</td>\n",
       "      <td>0.01</td>\n",
       "      <td>0.14</td>\n",
       "      <td>0.22</td>\n",
       "    </tr>\n",
       "    <tr>\n",
       "      <th>age</th>\n",
       "      <td>0.04</td>\n",
       "      <td>0.09</td>\n",
       "      <td>0.28</td>\n",
       "      <td>1.00</td>\n",
       "      <td>0.04</td>\n",
       "      <td>0.02</td>\n",
       "      <td>0.14</td>\n",
       "      <td>0.16</td>\n",
       "      <td>0.09</td>\n",
       "      <td>0.36</td>\n",
       "      <td>0.18</td>\n",
       "    </tr>\n",
       "    <tr>\n",
       "      <th>equity</th>\n",
       "      <td>0.53</td>\n",
       "      <td>0.06</td>\n",
       "      <td>0.06</td>\n",
       "      <td>0.04</td>\n",
       "      <td>1.00</td>\n",
       "      <td>0.00</td>\n",
       "      <td>0.58</td>\n",
       "      <td>0.22</td>\n",
       "      <td>0.05</td>\n",
       "      <td>0.29</td>\n",
       "      <td>0.35</td>\n",
       "    </tr>\n",
       "    <tr>\n",
       "      <th>balance</th>\n",
       "      <td>0.17</td>\n",
       "      <td>0.04</td>\n",
       "      <td>0.05</td>\n",
       "      <td>0.02</td>\n",
       "      <td>0.00</td>\n",
       "      <td>1.00</td>\n",
       "      <td>0.00</td>\n",
       "      <td>0.00</td>\n",
       "      <td>0.00</td>\n",
       "      <td>0.37</td>\n",
       "      <td>0.02</td>\n",
       "    </tr>\n",
       "    <tr>\n",
       "      <th>products</th>\n",
       "      <td>0.42</td>\n",
       "      <td>0.13</td>\n",
       "      <td>0.07</td>\n",
       "      <td>0.14</td>\n",
       "      <td>0.58</td>\n",
       "      <td>0.00</td>\n",
       "      <td>1.00</td>\n",
       "      <td>0.27</td>\n",
       "      <td>0.11</td>\n",
       "      <td>0.22</td>\n",
       "      <td>0.26</td>\n",
       "    </tr>\n",
       "    <tr>\n",
       "      <th>credit_card</th>\n",
       "      <td>0.21</td>\n",
       "      <td>0.07</td>\n",
       "      <td>0.20</td>\n",
       "      <td>0.16</td>\n",
       "      <td>0.22</td>\n",
       "      <td>0.00</td>\n",
       "      <td>0.27</td>\n",
       "      <td>1.00</td>\n",
       "      <td>0.05</td>\n",
       "      <td>0.04</td>\n",
       "      <td>0.20</td>\n",
       "    </tr>\n",
       "    <tr>\n",
       "      <th>last_activity</th>\n",
       "      <td>0.05</td>\n",
       "      <td>0.03</td>\n",
       "      <td>0.01</td>\n",
       "      <td>0.09</td>\n",
       "      <td>0.05</td>\n",
       "      <td>0.00</td>\n",
       "      <td>0.11</td>\n",
       "      <td>0.05</td>\n",
       "      <td>1.00</td>\n",
       "      <td>0.04</td>\n",
       "      <td>0.26</td>\n",
       "    </tr>\n",
       "    <tr>\n",
       "      <th>est_salary</th>\n",
       "      <td>0.39</td>\n",
       "      <td>0.17</td>\n",
       "      <td>0.14</td>\n",
       "      <td>0.36</td>\n",
       "      <td>0.29</td>\n",
       "      <td>0.37</td>\n",
       "      <td>0.22</td>\n",
       "      <td>0.04</td>\n",
       "      <td>0.04</td>\n",
       "      <td>1.00</td>\n",
       "      <td>0.05</td>\n",
       "    </tr>\n",
       "    <tr>\n",
       "      <th>churn</th>\n",
       "      <td>0.23</td>\n",
       "      <td>0.02</td>\n",
       "      <td>0.22</td>\n",
       "      <td>0.18</td>\n",
       "      <td>0.35</td>\n",
       "      <td>0.02</td>\n",
       "      <td>0.26</td>\n",
       "      <td>0.20</td>\n",
       "      <td>0.26</td>\n",
       "      <td>0.05</td>\n",
       "      <td>1.00</td>\n",
       "    </tr>\n",
       "  </tbody>\n",
       "</table>\n",
       "</div>"
      ],
      "text/plain": [
       "               score  city  gender  age  equity  balance  products  \\\n",
       "score           1.00  0.09    0.07 0.04    0.53     0.17      0.42   \n",
       "city            0.09  1.00    0.01 0.09    0.06     0.04      0.13   \n",
       "gender          0.07  0.01    1.00 0.28    0.06     0.05      0.07   \n",
       "age             0.04  0.09    0.28 1.00    0.04     0.02      0.14   \n",
       "equity          0.53  0.06    0.06 0.04    1.00     0.00      0.58   \n",
       "balance         0.17  0.04    0.05 0.02    0.00     1.00      0.00   \n",
       "products        0.42  0.13    0.07 0.14    0.58     0.00      1.00   \n",
       "credit_card     0.21  0.07    0.20 0.16    0.22     0.00      0.27   \n",
       "last_activity   0.05  0.03    0.01 0.09    0.05     0.00      0.11   \n",
       "est_salary      0.39  0.17    0.14 0.36    0.29     0.37      0.22   \n",
       "churn           0.23  0.02    0.22 0.18    0.35     0.02      0.26   \n",
       "\n",
       "               credit_card  last_activity  est_salary  churn  \n",
       "score                 0.21           0.05        0.39   0.23  \n",
       "city                  0.07           0.03        0.17   0.02  \n",
       "gender                0.20           0.01        0.14   0.22  \n",
       "age                   0.16           0.09        0.36   0.18  \n",
       "equity                0.22           0.05        0.29   0.35  \n",
       "balance               0.00           0.00        0.37   0.02  \n",
       "products              0.27           0.11        0.22   0.26  \n",
       "credit_card           1.00           0.05        0.04   0.20  \n",
       "last_activity         0.05           1.00        0.04   0.26  \n",
       "est_salary            0.04           0.04        1.00   0.05  \n",
       "churn                 0.20           0.26        0.05   1.00  "
      ]
     },
     "execution_count": 25,
     "metadata": {},
     "output_type": "execute_result"
    }
   ],
   "source": [
    "phik_overview = df.drop('userid', axis=1).phik_matrix()\n",
    "phik_overview.round(2)"
   ]
  },
  {
   "cell_type": "code",
   "execution_count": 26,
   "metadata": {},
   "outputs": [
    {
     "data": {
      "image/png": "[encoded data removed]",
      "text/plain": [
       "<Figure size 1000x800 with 2 Axes>"
      ]
     },
     "metadata": {},
     "output_type": "display_data"
    }
   ],
   "source": [
    "plot_correlation_matrix(phik_overview.values, \n",
    "                        x_labels=phik_overview.columns, \n",
    "                        y_labels=phik_overview.index, \n",
    "                        vmin=0, vmax=1, color_map=\"Greens\", \n",
    "                        title=r\"correlation $\\phi_K$\", \n",
    "                        fontsize_factor=1.5, \n",
    "                        figsize=(10, 8))\n",
    "plt.tight_layout()"
   ]
  },
  {
   "cell_type": "markdown",
   "metadata": {},
   "source": [
    "На отток влияют следующие показатели:\n",
    "- был ли клиент активен в последнее время;\n",
    "- наличие кредитной карты;\n",
    "- количество продуктов;\n",
    "- приблизительная оценка собственности клиента (влияет сильнее всего);\n",
    "- возраст;\n",
    "- пол;\n",
    "- баллы кредитного скоринга."
   ]
  },
  {
   "cell_type": "markdown",
   "metadata": {},
   "source": [
    "#### Портреты клиентов"
   ]
  },
  {
   "cell_type": "markdown",
   "metadata": {},
   "source": [
    "Для составления портретов уходящих клиентов будем комбинировать по 2 признака, при этом главным условием будет являться количество клиентов, подходящих под данный потрет, примерно от 500 до 2000, и процент оттока не меньше значения по всему датасету."
   ]
  },
  {
   "cell_type": "markdown",
   "metadata": {},
   "source": [
    "Посчитаем процент уходящих клиентов во всем датасете."
   ]
  },
  {
   "cell_type": "code",
   "execution_count": 36,
   "metadata": {},
   "outputs": [
    {
     "name": "stdout",
     "output_type": "stream",
     "text": [
      "Процент уходящих пользователей составляет: 18\n"
     ]
    }
   ],
   "source": [
    "percent_churn = round(df.query('churn == 1').shape[0]/df.shape[0]*100)\n",
    "print(f'Процент уходящих пользователей составляет: {percent_churn}')"
   ]
  },
  {
   "cell_type": "code",
   "execution_count": 28,
   "metadata": {},
   "outputs": [],
   "source": [
    "# составим запросы для каждого признака\n",
    "query1 = 'score >= 830 and score <= 910'\n",
    "query2 = 'score >= 930 and score <= 940'\n",
    "query3 = 'est_salary >= 100000'\n",
    "query4 = 'city == \"Ярославль\"'\n",
    "query5 = 'gender == \"М\"'\n",
    "query6 = 'age >= 25 and age <= 35'\n",
    "query7 = 'age >= 50 and age <= 60'\n",
    "query8 = 'equity >= 3'\n",
    "query9 = 'balance >= 1000000'\n",
    "query10 = 'products >= 2'\n",
    "query11 = 'credit_card == 0'\n",
    "query12 = 'last_activity == 1'\n",
    "\n",
    "# поместим их в список для последующей комбинации\n",
    "queries = [query1, \n",
    "          query2,\n",
    "          query3,\n",
    "          query4,\n",
    "          query5,\n",
    "          query6,\n",
    "          query7,\n",
    "          query8,\n",
    "          query9,\n",
    "          query10,\n",
    "          query11, \n",
    "          query12]"
   ]
  },
  {
   "cell_type": "code",
   "execution_count": 29,
   "metadata": {
    "scrolled": true
   },
   "outputs": [],
   "source": [
    "# скомбинируем все признаки между собой по 2 \n",
    "query_combinations = list(itertools.combinations(queries, 2))"
   ]
  },
  {
   "cell_type": "code",
   "execution_count": 30,
   "metadata": {},
   "outputs": [],
   "source": [
    "# создадим пустой список комбинаций\n",
    "combination_list = []\n",
    "\n",
    "# напишем цикл перебора комбинаций и их фильтрации\n",
    "for combination in query_combinations:\n",
    "    # задаем минимальное и максимальное число клиентов данной категории\n",
    "    min_number = 500\n",
    "    max_number = 2000\n",
    "    \n",
    "    # занесем общее количество клиентов данной категории в переменную combination_total\n",
    "    combination_total = df.query(combination[0] + 'and ' + combination[1]).shape[0]\n",
    "    \n",
    "    # занесем общее количество уходящих клиентов данной категории в переменную combination_churn\n",
    "    combination_churn = df.query(combination[0] + 'and ' + combination[1] + 'and churn == 1').shape[0]\n",
    "    \n",
    "    # для нахождения процента уходящих в данной категории уберем категории с 0 пользователей\n",
    "    if combination_total != 0:\n",
    "        combination_percent_churn = round(combination_churn/combination_total*100, 2)\n",
    "    \n",
    "    # отфильтруем категории\n",
    "    if (combination_total >= min_number \n",
    "    and combination_total <= max_number\n",
    "    and  combination_percent_churn >= percent_churn):\n",
    "        \n",
    "        #занесем результат в переменную combination_list в виде списка\n",
    "        combination_list.append([combination, combination_total, combination_percent_churn])"
   ]
  },
  {
   "cell_type": "code",
   "execution_count": 31,
   "metadata": {},
   "outputs": [
    {
     "data": {
      "text/html": [
       "<div>\n",
       "<style scoped>\n",
       "    .dataframe tbody tr th:only-of-type {\n",
       "        vertical-align: middle;\n",
       "    }\n",
       "\n",
       "    .dataframe tbody tr th {\n",
       "        vertical-align: top;\n",
       "    }\n",
       "\n",
       "    .dataframe thead th {\n",
       "        text-align: right;\n",
       "    }\n",
       "</style>\n",
       "<table border=\"1\" class=\"dataframe\">\n",
       "  <thead>\n",
       "    <tr style=\"text-align: right;\">\n",
       "      <th></th>\n",
       "      <th>features</th>\n",
       "      <th>total</th>\n",
       "      <th>churn_percent</th>\n",
       "    </tr>\n",
       "  </thead>\n",
       "  <tbody>\n",
       "    <tr>\n",
       "      <th>0</th>\n",
       "      <td>(score &gt;= 830 and score &lt;= 910, age &gt;= 25 and age &lt;= 35)</td>\n",
       "      <td>1366</td>\n",
       "      <td>29.87</td>\n",
       "    </tr>\n",
       "    <tr>\n",
       "      <th>1</th>\n",
       "      <td>(score &gt;= 830 and score &lt;= 910, age &gt;= 50 and age &lt;= 60)</td>\n",
       "      <td>759</td>\n",
       "      <td>33.20</td>\n",
       "    </tr>\n",
       "    <tr>\n",
       "      <th>2</th>\n",
       "      <td>(score &gt;= 830 and score &lt;= 910, balance &gt;= 1000000)</td>\n",
       "      <td>876</td>\n",
       "      <td>45.21</td>\n",
       "    </tr>\n",
       "    <tr>\n",
       "      <th>3</th>\n",
       "      <td>(score &gt;= 830 and score &lt;= 910, credit_card == 0)</td>\n",
       "      <td>1579</td>\n",
       "      <td>32.93</td>\n",
       "    </tr>\n",
       "    <tr>\n",
       "      <th>4</th>\n",
       "      <td>(est_salary &gt;= 100000, age &gt;= 25 and age &lt;= 35)</td>\n",
       "      <td>1556</td>\n",
       "      <td>25.58</td>\n",
       "    </tr>\n",
       "    <tr>\n",
       "      <th>5</th>\n",
       "      <td>(est_salary &gt;= 100000, age &gt;= 50 and age &lt;= 60)</td>\n",
       "      <td>963</td>\n",
       "      <td>26.69</td>\n",
       "    </tr>\n",
       "    <tr>\n",
       "      <th>6</th>\n",
       "      <td>(est_salary &gt;= 100000, balance &gt;= 1000000)</td>\n",
       "      <td>1405</td>\n",
       "      <td>43.42</td>\n",
       "    </tr>\n",
       "    <tr>\n",
       "      <th>7</th>\n",
       "      <td>(est_salary &gt;= 100000, credit_card == 0)</td>\n",
       "      <td>1884</td>\n",
       "      <td>29.78</td>\n",
       "    </tr>\n",
       "    <tr>\n",
       "      <th>8</th>\n",
       "      <td>(city == \"Ярославль\", age &gt;= 25 and age &lt;= 35)</td>\n",
       "      <td>1904</td>\n",
       "      <td>23.21</td>\n",
       "    </tr>\n",
       "    <tr>\n",
       "      <th>9</th>\n",
       "      <td>(city == \"Ярославль\", age &gt;= 50 and age &lt;= 60)</td>\n",
       "      <td>955</td>\n",
       "      <td>27.43</td>\n",
       "    </tr>\n",
       "    <tr>\n",
       "      <th>10</th>\n",
       "      <td>(city == \"Ярославль\", balance &gt;= 1000000)</td>\n",
       "      <td>1144</td>\n",
       "      <td>41.61</td>\n",
       "    </tr>\n",
       "    <tr>\n",
       "      <th>11</th>\n",
       "      <td>(city == \"Ярославль\", credit_card == 0)</td>\n",
       "      <td>1610</td>\n",
       "      <td>29.13</td>\n",
       "    </tr>\n",
       "    <tr>\n",
       "      <th>12</th>\n",
       "      <td>(gender == \"М\", age &gt;= 25 and age &lt;= 35)</td>\n",
       "      <td>1772</td>\n",
       "      <td>25.62</td>\n",
       "    </tr>\n",
       "    <tr>\n",
       "      <th>13</th>\n",
       "      <td>(gender == \"М\", age &gt;= 50 and age &lt;= 60)</td>\n",
       "      <td>775</td>\n",
       "      <td>33.42</td>\n",
       "    </tr>\n",
       "    <tr>\n",
       "      <th>14</th>\n",
       "      <td>(gender == \"М\", balance &gt;= 1000000)</td>\n",
       "      <td>973</td>\n",
       "      <td>49.02</td>\n",
       "    </tr>\n",
       "    <tr>\n",
       "      <th>15</th>\n",
       "      <td>(gender == \"М\", credit_card == 0)</td>\n",
       "      <td>1299</td>\n",
       "      <td>35.18</td>\n",
       "    </tr>\n",
       "    <tr>\n",
       "      <th>16</th>\n",
       "      <td>(age &gt;= 25 and age &lt;= 35, equity &gt;= 3)</td>\n",
       "      <td>1714</td>\n",
       "      <td>32.91</td>\n",
       "    </tr>\n",
       "    <tr>\n",
       "      <th>17</th>\n",
       "      <td>(age &gt;= 25 and age &lt;= 35, products &gt;= 2)</td>\n",
       "      <td>1999</td>\n",
       "      <td>28.91</td>\n",
       "    </tr>\n",
       "    <tr>\n",
       "      <th>18</th>\n",
       "      <td>(age &gt;= 25 and age &lt;= 35, credit_card == 0)</td>\n",
       "      <td>826</td>\n",
       "      <td>35.71</td>\n",
       "    </tr>\n",
       "    <tr>\n",
       "      <th>19</th>\n",
       "      <td>(age &gt;= 25 and age &lt;= 35, last_activity == 1)</td>\n",
       "      <td>1653</td>\n",
       "      <td>31.88</td>\n",
       "    </tr>\n",
       "    <tr>\n",
       "      <th>20</th>\n",
       "      <td>(age &gt;= 50 and age &lt;= 60, equity &gt;= 3)</td>\n",
       "      <td>1030</td>\n",
       "      <td>35.83</td>\n",
       "    </tr>\n",
       "    <tr>\n",
       "      <th>21</th>\n",
       "      <td>(age &gt;= 50 and age &lt;= 60, products &gt;= 2)</td>\n",
       "      <td>1252</td>\n",
       "      <td>33.15</td>\n",
       "    </tr>\n",
       "    <tr>\n",
       "      <th>22</th>\n",
       "      <td>(age &gt;= 50 and age &lt;= 60, credit_card == 0)</td>\n",
       "      <td>703</td>\n",
       "      <td>35.56</td>\n",
       "    </tr>\n",
       "    <tr>\n",
       "      <th>23</th>\n",
       "      <td>(age &gt;= 50 and age &lt;= 60, last_activity == 1)</td>\n",
       "      <td>918</td>\n",
       "      <td>32.68</td>\n",
       "    </tr>\n",
       "    <tr>\n",
       "      <th>24</th>\n",
       "      <td>(equity &gt;= 3, balance &gt;= 1000000)</td>\n",
       "      <td>1734</td>\n",
       "      <td>39.33</td>\n",
       "    </tr>\n",
       "    <tr>\n",
       "      <th>25</th>\n",
       "      <td>(balance &gt;= 1000000, products &gt;= 2)</td>\n",
       "      <td>1670</td>\n",
       "      <td>41.14</td>\n",
       "    </tr>\n",
       "    <tr>\n",
       "      <th>26</th>\n",
       "      <td>(balance &gt;= 1000000, credit_card == 0)</td>\n",
       "      <td>896</td>\n",
       "      <td>44.08</td>\n",
       "    </tr>\n",
       "    <tr>\n",
       "      <th>27</th>\n",
       "      <td>(balance &gt;= 1000000, last_activity == 1)</td>\n",
       "      <td>983</td>\n",
       "      <td>52.29</td>\n",
       "    </tr>\n",
       "    <tr>\n",
       "      <th>28</th>\n",
       "      <td>(credit_card == 0, last_activity == 1)</td>\n",
       "      <td>1740</td>\n",
       "      <td>35.17</td>\n",
       "    </tr>\n",
       "  </tbody>\n",
       "</table>\n",
       "</div>"
      ],
      "text/plain": [
       "                                                    features  total  \\\n",
       "0   (score >= 830 and score <= 910, age >= 25 and age <= 35)   1366   \n",
       "1   (score >= 830 and score <= 910, age >= 50 and age <= 60)    759   \n",
       "2        (score >= 830 and score <= 910, balance >= 1000000)    876   \n",
       "3          (score >= 830 and score <= 910, credit_card == 0)   1579   \n",
       "4            (est_salary >= 100000, age >= 25 and age <= 35)   1556   \n",
       "5            (est_salary >= 100000, age >= 50 and age <= 60)    963   \n",
       "6                 (est_salary >= 100000, balance >= 1000000)   1405   \n",
       "7                   (est_salary >= 100000, credit_card == 0)   1884   \n",
       "8             (city == \"Ярославль\", age >= 25 and age <= 35)   1904   \n",
       "9             (city == \"Ярославль\", age >= 50 and age <= 60)    955   \n",
       "10                 (city == \"Ярославль\", balance >= 1000000)   1144   \n",
       "11                   (city == \"Ярославль\", credit_card == 0)   1610   \n",
       "12                  (gender == \"М\", age >= 25 and age <= 35)   1772   \n",
       "13                  (gender == \"М\", age >= 50 and age <= 60)    775   \n",
       "14                       (gender == \"М\", balance >= 1000000)    973   \n",
       "15                         (gender == \"М\", credit_card == 0)   1299   \n",
       "16                    (age >= 25 and age <= 35, equity >= 3)   1714   \n",
       "17                  (age >= 25 and age <= 35, products >= 2)   1999   \n",
       "18               (age >= 25 and age <= 35, credit_card == 0)    826   \n",
       "19             (age >= 25 and age <= 35, last_activity == 1)   1653   \n",
       "20                    (age >= 50 and age <= 60, equity >= 3)   1030   \n",
       "21                  (age >= 50 and age <= 60, products >= 2)   1252   \n",
       "22               (age >= 50 and age <= 60, credit_card == 0)    703   \n",
       "23             (age >= 50 and age <= 60, last_activity == 1)    918   \n",
       "24                         (equity >= 3, balance >= 1000000)   1734   \n",
       "25                       (balance >= 1000000, products >= 2)   1670   \n",
       "26                    (balance >= 1000000, credit_card == 0)    896   \n",
       "27                  (balance >= 1000000, last_activity == 1)    983   \n",
       "28                    (credit_card == 0, last_activity == 1)   1740   \n",
       "\n",
       "    churn_percent  \n",
       "0           29.87  \n",
       "1           33.20  \n",
       "2           45.21  \n",
       "3           32.93  \n",
       "4           25.58  \n",
       "5           26.69  \n",
       "6           43.42  \n",
       "7           29.78  \n",
       "8           23.21  \n",
       "9           27.43  \n",
       "10          41.61  \n",
       "11          29.13  \n",
       "12          25.62  \n",
       "13          33.42  \n",
       "14          49.02  \n",
       "15          35.18  \n",
       "16          32.91  \n",
       "17          28.91  \n",
       "18          35.71  \n",
       "19          31.88  \n",
       "20          35.83  \n",
       "21          33.15  \n",
       "22          35.56  \n",
       "23          32.68  \n",
       "24          39.33  \n",
       "25          41.14  \n",
       "26          44.08  \n",
       "27          52.29  \n",
       "28          35.17  "
      ]
     },
     "execution_count": 31,
     "metadata": {},
     "output_type": "execute_result"
    }
   ],
   "source": [
    "# на основе полученного списка создадим датафрейм с колонками 'features', 'total' и 'churn_percent'\n",
    "combination_df = pd.DataFrame(combination_list, columns=['features', 'total', 'churn_percent'])\n",
    "combination_df"
   ]
  },
  {
   "cell_type": "markdown",
   "metadata": {},
   "source": [
    "Итого нашли 29 комбинаций признаков уходящих клиентов. Оставим топ-15 по оттоку."
   ]
  },
  {
   "cell_type": "code",
   "execution_count": 32,
   "metadata": {},
   "outputs": [
    {
     "data": {
      "text/html": [
       "<div>\n",
       "<style scoped>\n",
       "    .dataframe tbody tr th:only-of-type {\n",
       "        vertical-align: middle;\n",
       "    }\n",
       "\n",
       "    .dataframe tbody tr th {\n",
       "        vertical-align: top;\n",
       "    }\n",
       "\n",
       "    .dataframe thead th {\n",
       "        text-align: right;\n",
       "    }\n",
       "</style>\n",
       "<table border=\"1\" class=\"dataframe\">\n",
       "  <thead>\n",
       "    <tr style=\"text-align: right;\">\n",
       "      <th></th>\n",
       "      <th>features</th>\n",
       "      <th>total</th>\n",
       "      <th>churn_percent</th>\n",
       "    </tr>\n",
       "  </thead>\n",
       "  <tbody>\n",
       "    <tr>\n",
       "      <th>27</th>\n",
       "      <td>(balance &gt;= 1000000, last_activity == 1)</td>\n",
       "      <td>983</td>\n",
       "      <td>52.29</td>\n",
       "    </tr>\n",
       "    <tr>\n",
       "      <th>14</th>\n",
       "      <td>(gender == \"М\", balance &gt;= 1000000)</td>\n",
       "      <td>973</td>\n",
       "      <td>49.02</td>\n",
       "    </tr>\n",
       "    <tr>\n",
       "      <th>2</th>\n",
       "      <td>(score &gt;= 830 and score &lt;= 910, balance &gt;= 1000000)</td>\n",
       "      <td>876</td>\n",
       "      <td>45.21</td>\n",
       "    </tr>\n",
       "    <tr>\n",
       "      <th>26</th>\n",
       "      <td>(balance &gt;= 1000000, credit_card == 0)</td>\n",
       "      <td>896</td>\n",
       "      <td>44.08</td>\n",
       "    </tr>\n",
       "    <tr>\n",
       "      <th>6</th>\n",
       "      <td>(est_salary &gt;= 100000, balance &gt;= 1000000)</td>\n",
       "      <td>1405</td>\n",
       "      <td>43.42</td>\n",
       "    </tr>\n",
       "    <tr>\n",
       "      <th>10</th>\n",
       "      <td>(city == \"Ярославль\", balance &gt;= 1000000)</td>\n",
       "      <td>1144</td>\n",
       "      <td>41.61</td>\n",
       "    </tr>\n",
       "    <tr>\n",
       "      <th>25</th>\n",
       "      <td>(balance &gt;= 1000000, products &gt;= 2)</td>\n",
       "      <td>1670</td>\n",
       "      <td>41.14</td>\n",
       "    </tr>\n",
       "    <tr>\n",
       "      <th>24</th>\n",
       "      <td>(equity &gt;= 3, balance &gt;= 1000000)</td>\n",
       "      <td>1734</td>\n",
       "      <td>39.33</td>\n",
       "    </tr>\n",
       "    <tr>\n",
       "      <th>20</th>\n",
       "      <td>(age &gt;= 50 and age &lt;= 60, equity &gt;= 3)</td>\n",
       "      <td>1030</td>\n",
       "      <td>35.83</td>\n",
       "    </tr>\n",
       "    <tr>\n",
       "      <th>18</th>\n",
       "      <td>(age &gt;= 25 and age &lt;= 35, credit_card == 0)</td>\n",
       "      <td>826</td>\n",
       "      <td>35.71</td>\n",
       "    </tr>\n",
       "    <tr>\n",
       "      <th>22</th>\n",
       "      <td>(age &gt;= 50 and age &lt;= 60, credit_card == 0)</td>\n",
       "      <td>703</td>\n",
       "      <td>35.56</td>\n",
       "    </tr>\n",
       "    <tr>\n",
       "      <th>15</th>\n",
       "      <td>(gender == \"М\", credit_card == 0)</td>\n",
       "      <td>1299</td>\n",
       "      <td>35.18</td>\n",
       "    </tr>\n",
       "    <tr>\n",
       "      <th>28</th>\n",
       "      <td>(credit_card == 0, last_activity == 1)</td>\n",
       "      <td>1740</td>\n",
       "      <td>35.17</td>\n",
       "    </tr>\n",
       "    <tr>\n",
       "      <th>13</th>\n",
       "      <td>(gender == \"М\", age &gt;= 50 and age &lt;= 60)</td>\n",
       "      <td>775</td>\n",
       "      <td>33.42</td>\n",
       "    </tr>\n",
       "    <tr>\n",
       "      <th>1</th>\n",
       "      <td>(score &gt;= 830 and score &lt;= 910, age &gt;= 50 and age &lt;= 60)</td>\n",
       "      <td>759</td>\n",
       "      <td>33.20</td>\n",
       "    </tr>\n",
       "  </tbody>\n",
       "</table>\n",
       "</div>"
      ],
      "text/plain": [
       "                                                    features  total  \\\n",
       "27                  (balance >= 1000000, last_activity == 1)    983   \n",
       "14                       (gender == \"М\", balance >= 1000000)    973   \n",
       "2        (score >= 830 and score <= 910, balance >= 1000000)    876   \n",
       "26                    (balance >= 1000000, credit_card == 0)    896   \n",
       "6                 (est_salary >= 100000, balance >= 1000000)   1405   \n",
       "10                 (city == \"Ярославль\", balance >= 1000000)   1144   \n",
       "25                       (balance >= 1000000, products >= 2)   1670   \n",
       "24                         (equity >= 3, balance >= 1000000)   1734   \n",
       "20                    (age >= 50 and age <= 60, equity >= 3)   1030   \n",
       "18               (age >= 25 and age <= 35, credit_card == 0)    826   \n",
       "22               (age >= 50 and age <= 60, credit_card == 0)    703   \n",
       "15                         (gender == \"М\", credit_card == 0)   1299   \n",
       "28                    (credit_card == 0, last_activity == 1)   1740   \n",
       "13                  (gender == \"М\", age >= 50 and age <= 60)    775   \n",
       "1   (score >= 830 and score <= 910, age >= 50 and age <= 60)    759   \n",
       "\n",
       "    churn_percent  \n",
       "27          52.29  \n",
       "14          49.02  \n",
       "2           45.21  \n",
       "26          44.08  \n",
       "6           43.42  \n",
       "10          41.61  \n",
       "25          41.14  \n",
       "24          39.33  \n",
       "20          35.83  \n",
       "18          35.71  \n",
       "22          35.56  \n",
       "15          35.18  \n",
       "28          35.17  \n",
       "13          33.42  \n",
       "1           33.20  "
      ]
     },
     "execution_count": 32,
     "metadata": {},
     "output_type": "execute_result"
    }
   ],
   "source": [
    "combination_df_t15 = combination_df.sort_values(by='churn_percent', ascending=False).head(15)\n",
    "combination_df_t15"
   ]
  },
  {
   "cell_type": "markdown",
   "metadata": {},
   "source": [
    "Таким образом, мы нашли портреты клиентов, наиболее склонных к уходу. К таким относятся:\n",
    "- клиенты с балансом >= 1 млн. и активностью в последнее время;\n",
    "- мужчины с балансом >= 1 млн.;\n",
    "- клиенты с кредитным рейтингом от 830 до 910 включительно и балансом >= 1 млн.;\n",
    "- клиенты с балансом >= 1 млн. и без кредитной карты;\n",
    "- клиенты с оценочной з/п >= 100000 и балансом >= 1 млн.;\n",
    "- клиенты из Ярославля с балансом >= 1 млн.;\n",
    "- клиенты с балансом >= 1 млн. и >= 2 продуктами;\n",
    "- клиенты с оценкой собственности >= 3 и балансом >= 1 млн.;\n",
    "- клиенты от 50 до 60 лет включительно и оценкой собственности >= 3;\n",
    "- клиенты от 25 до 35 лет включительно без кредитной карты;\n",
    "- клиенты от 50 до 60 лет включительно без кредитной карты;\n",
    "- мужчины без кредитной карты;\n",
    "- клиенты без кредитной карты и активностью в последнее время;\n",
    "- мужчины от 50 до 60 лет включительно;\n",
    "- клиенты с кредитным рейтингом от 830 до 910 включительно от 50 до 60 лет включительно."
   ]
  },
  {
   "cell_type": "markdown",
   "metadata": {},
   "source": [
    "### Проверка статистических гипотез"
   ]
  },
  {
   "cell_type": "markdown",
   "metadata": {},
   "source": [
    "#### Гипотеза 1"
   ]
  },
  {
   "cell_type": "markdown",
   "metadata": {},
   "source": [
    "Формулировка гипотезы: доходы ушедших и оставшихся клиентов различаются.\n",
    "\n",
    "<b>H0</b>: Между доходами ушедших и оставшихся клиентов нет разницы\n",
    "\n",
    "<b>H1</b>: Между доходами ушедших и оставшихся клиентов есть разница\n",
    "\n",
    "Возьмем alpha = 0.05"
   ]
  },
  {
   "cell_type": "code",
   "execution_count": 34,
   "metadata": {},
   "outputs": [
    {
     "name": "stdout",
     "output_type": "stream",
     "text": [
      "p-значение: 0.8626784591490475\n",
      "Не получилось отвергнуть нулевую гипотезу\n"
     ]
    }
   ],
   "source": [
    "# зададим уровень статистической значимости\n",
    "alpha = 0.05 \n",
    "\n",
    "# зададим 2 выборки (з/п оставшихся и ушедших клиентов)\n",
    "\n",
    "sample_1 = df.query('churn == 0')['est_salary']\n",
    "sample_2 = df.query('churn == 1')['est_salary']\n",
    "\n",
    "# проведем t тест\n",
    "results = st.ttest_ind(sample_1, sample_2, equal_var=False)\n",
    "\n",
    "print('p-значение:', results.pvalue)\n",
    "\n",
    "if results.pvalue < alpha:\n",
    "    print('Отвергаем нулевую гипотезу')\n",
    "else:\n",
    "    print('Не получилось отвергнуть нулевую гипотезу') "
   ]
  },
  {
   "cell_type": "markdown",
   "metadata": {},
   "source": [
    "Не получилось отвергнуть нулевую гипотезу, следовательно нельзя утверждать о наличии разницы доходов между ушедшими и оставшимися клиентами."
   ]
  },
  {
   "cell_type": "markdown",
   "metadata": {},
   "source": [
    "#### Гипотеза 2"
   ]
  },
  {
   "cell_type": "markdown",
   "metadata": {},
   "source": [
    "Формулировка гипотезы: возраст ушедших и оставшихся клиентов различается.\n",
    "\n",
    "<b>H0</b>: Между возрастом ушедших и оставшихся клиентов нет разницы\n",
    "\n",
    "<b>H1</b>: Между возрастом ушедших и оставшихся клиентов есть разница\n",
    "\n",
    "Возьмем alpha = 0.05"
   ]
  },
  {
   "cell_type": "code",
   "execution_count": 35,
   "metadata": {},
   "outputs": [
    {
     "name": "stdout",
     "output_type": "stream",
     "text": [
      "p-значение: 8.430740947372699e-08\n",
      "Отвергаем нулевую гипотезу\n"
     ]
    }
   ],
   "source": [
    "# зададим 2 выборки (возрасты оставшихся и ушедших клиентов)\n",
    "\n",
    "sample_1 = df.query('churn == 0')['age']\n",
    "sample_2 = df.query('churn == 1')['age']\n",
    "\n",
    "# проведем t тест\n",
    "results = st.ttest_ind(sample_1, sample_2, equal_var=False)\n",
    "\n",
    "print('p-значение:', results.pvalue)\n",
    "\n",
    "if results.pvalue < alpha:\n",
    "    print('Отвергаем нулевую гипотезу')\n",
    "else:\n",
    "    print('Не получилось отвергнуть нулевую гипотезу') "
   ]
  },
  {
   "cell_type": "markdown",
   "metadata": {},
   "source": [
    "Нулевая гипотеза отвергается. Следовательно, можно полагать, что между ушедшими и оставшимися клиентами есть разница в возрасте."
   ]
  },
  {
   "cell_type": "markdown",
   "metadata": {},
   "source": [
    "### Общий вывод"
   ]
  },
  {
   "cell_type": "markdown",
   "metadata": {},
   "source": [
    "В результате выполнения проекта была выполнена предобработка данных, в ходе которой были удалены аномалии в датасете, дубликаты, заменены или оставлены пропуски в данных, столбцы приведены к правильному типу данных и формату названий.\n",
    "\n",
    "Корреляция зависимости оттока от признаков показала, что уход клиента в первую очередь зависит от:\n",
    "- приблизительной оценки собственности клиента (0.35);\n",
    "- количества продуктов (0.26);\n",
    "- был ли клиент активен в последнее время (0.26);\n",
    "- баллов кредитного скоринга (0.23);\n",
    "- пола (0.22);\n",
    "- наличия кредитной карты (0.2);\n",
    "- возраста (0.18).\n",
    "\n",
    "В ходе анализа главной задачи выделены топ-15 сегментов клиентов по оттоку. К ним относятся: \n",
    "- клиенты с балансом >= 1 млн. и активностью в последнее время;\n",
    "- мужчины с балансом >= 1 млн.;\n",
    "- клиенты с кредитным рейтингом от 830 до 910 включительно и балансом >= 1 млн.;\n",
    "- клиенты с балансом >= 1 млн. и без кредитной карты;\n",
    "- клиенты с оценочной з/п >= 100000 и балансом >= 1 млн.;\n",
    "- клиенты из Ярославля с балансом >= 1 млн.;\n",
    "- клиенты с балансом >= 1 млн. и >= 2 продуктами;\n",
    "- клиенты с оценкой собственности >= 3 и балансом >= 1 млн.;\n",
    "- клиенты от 50 до 60 лет включительно и оценкой собственности >= 3;\n",
    "- клиенты от 25 до 35 лет включительно без кредитной карты;\n",
    "- клиенты от 50 до 60 лет включительно без кредитной карты;\n",
    "- мужчины без кредитной карты;\n",
    "- клиенты без кредитной карты и активностью в последнее время;\n",
    "- мужчины от 50 до 60 лет включительно;\n",
    "- клиенты с кредитным рейтингом от 830 до 910 включительно от 50 до 60 лет включительно.\n",
    "\n",
    "В качестве рекомендация для удержания сегментов клиентов, чаще подверженных оттоку, можно предложить следующее:\n",
    "- для активных клиентов - новые карты с наличием скидки или кэшбэка при оплате товаров у партнеров банка;\n",
    "- для клиентов с высоким кредитным рейтингом - более высокие суммы кредита с низкими процентами, упрощение способа получения кредита (возможно прямо из мобильного приложения);\n",
    "- клиентам без кредитной карты - кредитные карты с выгодными условиями;\n",
    "- клиентам с оценочной з/п более 100 тыс. - предложение открытия накопительного счета с высокими процентами годовых или же вохможность получения кэшбэка или скидки у партнеров при оплате картой банка;\n",
    "- клиентам с более чем 2 банковскими продуктами - дополнительные бонусы для этих продуктов, такие как повышенный кэшбэк или снижение стоимости обслуживания данных продуктов;\n",
    "- клиентам с оценкой собственности более 3 - предложения о возможности страхования собственности в банке по выгодным условиям;\n",
    "- клиентам от 50 до 60 лет - кэшбэк при оплате бензина, покупке билетов как авиа, так и жд. Высокие процентные ставки по пенсионному вкладу. \n",
    "- клиентам от 25 до 35 лет - повышенный кэшбэк в заведениях общественного питания, кинотеатрах, театрах, музеях и других местах отдыха. Также возможность взятия ипотеки на большой срок под маленький процент или кредита;\n",
    "- для клиентов мужского пола - кэшбэк на покупки в магазинах рыболовных товаров, охотничьих магазинах. Предложение кредита на покупку транспорта, как наземного, так и водного. "
   ]
  }
 ],
 "metadata": {
  "ExecuteTimeLog": [
   {
    "duration": 1435,
    "start_time": "2023-05-16T05:32:47.954Z"
   },
   {
    "duration": 48,
    "start_time": "2023-05-16T05:36:42.414Z"
   },
   {
    "duration": 1370,
    "start_time": "2023-05-16T05:41:15.980Z"
   },
   {
    "duration": 1514,
    "start_time": "2023-05-16T05:41:45.652Z"
   },
   {
    "duration": 1008,
    "start_time": "2023-05-16T05:42:25.352Z"
   },
   {
    "duration": 17,
    "start_time": "2023-05-16T05:42:29.311Z"
   },
   {
    "duration": 3,
    "start_time": "2023-05-16T05:52:28.607Z"
   },
   {
    "duration": 1162,
    "start_time": "2023-05-16T05:52:29.069Z"
   },
   {
    "duration": 1430,
    "start_time": "2023-05-16T05:53:30.174Z"
   },
   {
    "duration": 40,
    "start_time": "2023-05-16T05:54:29.153Z"
   },
   {
    "duration": 33,
    "start_time": "2023-05-16T06:09:43.066Z"
   },
   {
    "duration": 36,
    "start_time": "2023-05-16T06:12:40.017Z"
   },
   {
    "duration": 36,
    "start_time": "2023-05-16T06:12:45.492Z"
   },
   {
    "duration": 11,
    "start_time": "2023-05-16T06:13:13.076Z"
   },
   {
    "duration": 9,
    "start_time": "2023-05-16T06:13:21.354Z"
   },
   {
    "duration": 12,
    "start_time": "2023-05-16T06:13:31.409Z"
   },
   {
    "duration": 9,
    "start_time": "2023-05-16T06:13:44.103Z"
   },
   {
    "duration": 12,
    "start_time": "2023-05-16T06:14:45.880Z"
   },
   {
    "duration": 8,
    "start_time": "2023-05-16T06:14:55.469Z"
   },
   {
    "duration": 6,
    "start_time": "2023-05-16T06:15:23.024Z"
   },
   {
    "duration": 12,
    "start_time": "2023-05-16T06:16:26.104Z"
   },
   {
    "duration": 5,
    "start_time": "2023-05-16T06:27:06.718Z"
   },
   {
    "duration": 8,
    "start_time": "2023-05-16T06:27:51.010Z"
   },
   {
    "duration": 16,
    "start_time": "2023-05-16T06:27:58.981Z"
   },
   {
    "duration": 4,
    "start_time": "2023-05-16T06:28:07.382Z"
   },
   {
    "duration": 11,
    "start_time": "2023-05-16T06:28:08.654Z"
   },
   {
    "duration": 6,
    "start_time": "2023-05-16T06:29:20.479Z"
   },
   {
    "duration": 13,
    "start_time": "2023-05-16T06:31:11.966Z"
   },
   {
    "duration": 6,
    "start_time": "2023-05-16T06:32:32.189Z"
   },
   {
    "duration": 15,
    "start_time": "2023-05-16T06:36:20.912Z"
   },
   {
    "duration": 14,
    "start_time": "2023-05-16T06:36:22.980Z"
   },
   {
    "duration": 8,
    "start_time": "2023-05-16T06:36:25.109Z"
   },
   {
    "duration": 21,
    "start_time": "2023-05-16T06:36:35.197Z"
   },
   {
    "duration": 3,
    "start_time": "2023-05-16T06:38:24.792Z"
   },
   {
    "duration": 23,
    "start_time": "2023-05-16T06:38:28.304Z"
   },
   {
    "duration": 14,
    "start_time": "2023-05-16T06:38:41.396Z"
   },
   {
    "duration": 11,
    "start_time": "2023-05-16T06:38:57.479Z"
   },
   {
    "duration": 29,
    "start_time": "2023-05-16T06:39:15.120Z"
   },
   {
    "duration": 5,
    "start_time": "2023-05-16T06:39:30.542Z"
   },
   {
    "duration": 6,
    "start_time": "2023-05-16T06:40:25.372Z"
   },
   {
    "duration": 4,
    "start_time": "2023-05-16T06:40:34.066Z"
   },
   {
    "duration": 65,
    "start_time": "2023-05-16T06:40:59.812Z"
   },
   {
    "duration": 25,
    "start_time": "2023-05-16T06:41:50.215Z"
   },
   {
    "duration": 4,
    "start_time": "2023-05-16T06:42:14.994Z"
   },
   {
    "duration": 5,
    "start_time": "2023-05-16T06:42:22.402Z"
   },
   {
    "duration": 30,
    "start_time": "2023-05-16T06:42:43.727Z"
   },
   {
    "duration": 26,
    "start_time": "2023-05-16T06:42:46.662Z"
   },
   {
    "duration": 29,
    "start_time": "2023-05-16T06:42:56.682Z"
   },
   {
    "duration": 4,
    "start_time": "2023-05-16T06:43:03.999Z"
   },
   {
    "duration": 24,
    "start_time": "2023-05-16T06:43:04.458Z"
   },
   {
    "duration": 65,
    "start_time": "2023-05-16T06:43:05.780Z"
   },
   {
    "duration": 13,
    "start_time": "2023-05-16T06:43:16.002Z"
   },
   {
    "duration": 9,
    "start_time": "2023-05-16T06:43:18.625Z"
   },
   {
    "duration": 8,
    "start_time": "2023-05-16T06:43:22.506Z"
   },
   {
    "duration": 53,
    "start_time": "2023-05-16T06:47:43.758Z"
   },
   {
    "duration": 44,
    "start_time": "2023-05-16T06:48:35.287Z"
   },
   {
    "duration": 4,
    "start_time": "2023-05-16T06:49:45.363Z"
   },
   {
    "duration": 5,
    "start_time": "2023-05-16T07:02:07.503Z"
   },
   {
    "duration": 12,
    "start_time": "2023-05-16T07:02:14.054Z"
   },
   {
    "duration": 7,
    "start_time": "2023-05-16T07:02:20.658Z"
   },
   {
    "duration": 6,
    "start_time": "2023-05-16T07:02:21.182Z"
   },
   {
    "duration": 12,
    "start_time": "2023-05-16T07:02:24.799Z"
   },
   {
    "duration": 6,
    "start_time": "2023-05-16T07:04:50.603Z"
   },
   {
    "duration": 8,
    "start_time": "2023-05-16T07:04:51.765Z"
   },
   {
    "duration": 21,
    "start_time": "2023-05-16T07:04:58.907Z"
   },
   {
    "duration": 4,
    "start_time": "2023-05-16T07:05:50.755Z"
   },
   {
    "duration": 4,
    "start_time": "2023-05-16T07:05:50.793Z"
   },
   {
    "duration": 997,
    "start_time": "2023-05-16T07:05:50.799Z"
   },
   {
    "duration": 46,
    "start_time": "2023-05-16T07:05:51.798Z"
   },
   {
    "duration": 7,
    "start_time": "2023-05-16T07:05:51.846Z"
   },
   {
    "duration": 28,
    "start_time": "2023-05-16T07:05:51.863Z"
   },
   {
    "duration": 12,
    "start_time": "2023-05-16T07:05:51.894Z"
   },
   {
    "duration": 7,
    "start_time": "2023-05-16T07:05:51.908Z"
   },
   {
    "duration": 16,
    "start_time": "2023-05-16T07:05:51.916Z"
   },
   {
    "duration": 12,
    "start_time": "2023-05-16T07:06:01.352Z"
   },
   {
    "duration": 14,
    "start_time": "2023-05-16T07:06:29.319Z"
   },
   {
    "duration": 6,
    "start_time": "2023-05-16T07:07:10.506Z"
   },
   {
    "duration": 6,
    "start_time": "2023-05-16T07:07:31.817Z"
   },
   {
    "duration": 44,
    "start_time": "2023-05-16T07:07:33.403Z"
   },
   {
    "duration": 10,
    "start_time": "2023-05-16T07:07:36.813Z"
   },
   {
    "duration": 12,
    "start_time": "2023-05-16T07:07:37.185Z"
   },
   {
    "duration": 20,
    "start_time": "2023-05-16T07:09:19.646Z"
   },
   {
    "duration": 14,
    "start_time": "2023-05-16T07:09:31.926Z"
   },
   {
    "duration": 23,
    "start_time": "2023-05-16T07:10:45.191Z"
   },
   {
    "duration": 11,
    "start_time": "2023-05-16T07:10:51.247Z"
   },
   {
    "duration": 6,
    "start_time": "2023-05-16T07:11:28.285Z"
   },
   {
    "duration": 12,
    "start_time": "2023-05-16T07:11:33.621Z"
   },
   {
    "duration": 11,
    "start_time": "2023-05-16T07:12:07.022Z"
   },
   {
    "duration": 5,
    "start_time": "2023-05-16T07:12:45.882Z"
   },
   {
    "duration": 9,
    "start_time": "2023-05-16T07:13:00.382Z"
   },
   {
    "duration": 4,
    "start_time": "2023-05-16T07:13:52.431Z"
   },
   {
    "duration": 16,
    "start_time": "2023-05-16T07:13:56.089Z"
   },
   {
    "duration": 14,
    "start_time": "2023-05-16T08:24:47.357Z"
   },
   {
    "duration": 328,
    "start_time": "2023-05-16T08:25:49.416Z"
   },
   {
    "duration": 318,
    "start_time": "2023-05-16T08:26:07.921Z"
   },
   {
    "duration": 339,
    "start_time": "2023-05-16T08:26:16.268Z"
   },
   {
    "duration": 421,
    "start_time": "2023-05-16T08:26:28.837Z"
   },
   {
    "duration": 11,
    "start_time": "2023-05-16T08:27:05.712Z"
   },
   {
    "duration": 9,
    "start_time": "2023-05-16T08:27:08.004Z"
   },
   {
    "duration": 391,
    "start_time": "2023-05-16T08:27:18.868Z"
   },
   {
    "duration": 9,
    "start_time": "2023-05-16T08:28:42.182Z"
   },
   {
    "duration": 4,
    "start_time": "2023-05-16T08:28:54.219Z"
   },
   {
    "duration": 3,
    "start_time": "2023-05-16T08:28:55.660Z"
   },
   {
    "duration": 326,
    "start_time": "2023-05-16T08:29:00.291Z"
   },
   {
    "duration": 301,
    "start_time": "2023-05-16T08:29:02.728Z"
   },
   {
    "duration": 344,
    "start_time": "2023-05-16T08:31:44.383Z"
   },
   {
    "duration": 11,
    "start_time": "2023-05-16T08:32:07.291Z"
   },
   {
    "duration": 7,
    "start_time": "2023-05-16T08:32:11.192Z"
   },
   {
    "duration": 353,
    "start_time": "2023-05-16T08:32:50.483Z"
   },
   {
    "duration": 9,
    "start_time": "2023-05-16T08:33:10.431Z"
   },
   {
    "duration": 392,
    "start_time": "2023-05-16T08:33:16.330Z"
   },
   {
    "duration": 364,
    "start_time": "2023-05-16T08:33:29.919Z"
   },
   {
    "duration": 358,
    "start_time": "2023-05-16T08:33:34.539Z"
   },
   {
    "duration": 772,
    "start_time": "2023-05-16T08:34:23.878Z"
   },
   {
    "duration": 345,
    "start_time": "2023-05-16T08:34:30.518Z"
   },
   {
    "duration": 333,
    "start_time": "2023-05-16T08:34:34.506Z"
   },
   {
    "duration": 333,
    "start_time": "2023-05-16T08:34:40.575Z"
   },
   {
    "duration": 363,
    "start_time": "2023-05-16T08:34:45.958Z"
   },
   {
    "duration": 454,
    "start_time": "2023-05-16T08:34:48.887Z"
   },
   {
    "duration": 494,
    "start_time": "2023-05-16T08:35:30.038Z"
   },
   {
    "duration": 425,
    "start_time": "2023-05-16T08:35:41.007Z"
   },
   {
    "duration": 3,
    "start_time": "2023-05-16T08:36:00.311Z"
   },
   {
    "duration": 44,
    "start_time": "2023-05-16T08:36:00.318Z"
   },
   {
    "duration": 80,
    "start_time": "2023-05-16T08:36:00.364Z"
   },
   {
    "duration": 1360,
    "start_time": "2023-05-16T08:36:00.447Z"
   },
   {
    "duration": 38,
    "start_time": "2023-05-16T08:36:01.809Z"
   },
   {
    "duration": 15,
    "start_time": "2023-05-16T08:36:01.849Z"
   },
   {
    "duration": 33,
    "start_time": "2023-05-16T08:36:01.866Z"
   },
   {
    "duration": 28,
    "start_time": "2023-05-16T08:36:01.901Z"
   },
   {
    "duration": 18,
    "start_time": "2023-05-16T08:36:01.931Z"
   },
   {
    "duration": 63,
    "start_time": "2023-05-16T08:36:01.951Z"
   },
   {
    "duration": 64,
    "start_time": "2023-05-16T08:36:02.016Z"
   },
   {
    "duration": 57,
    "start_time": "2023-05-16T08:36:02.082Z"
   },
   {
    "duration": 44,
    "start_time": "2023-05-16T08:36:02.141Z"
   },
   {
    "duration": 187,
    "start_time": "2023-05-16T08:36:02.187Z"
   },
   {
    "duration": 37,
    "start_time": "2023-05-16T08:36:02.376Z"
   },
   {
    "duration": 63,
    "start_time": "2023-05-16T08:36:02.415Z"
   },
   {
    "duration": 53,
    "start_time": "2023-05-16T08:36:02.480Z"
   },
   {
    "duration": 41,
    "start_time": "2023-05-16T08:36:02.535Z"
   },
   {
    "duration": 35,
    "start_time": "2023-05-16T08:36:02.578Z"
   },
   {
    "duration": 34,
    "start_time": "2023-05-16T08:36:02.615Z"
   },
   {
    "duration": 35,
    "start_time": "2023-05-16T08:36:02.651Z"
   },
   {
    "duration": 22,
    "start_time": "2023-05-16T08:36:02.688Z"
   },
   {
    "duration": 40,
    "start_time": "2023-05-16T08:36:02.711Z"
   },
   {
    "duration": 332,
    "start_time": "2023-05-16T08:36:04.747Z"
   },
   {
    "duration": 6,
    "start_time": "2023-05-16T08:36:40.290Z"
   },
   {
    "duration": 360,
    "start_time": "2023-05-16T08:36:47.626Z"
   },
   {
    "duration": 347,
    "start_time": "2023-05-16T08:36:51.351Z"
   },
   {
    "duration": 6,
    "start_time": "2023-05-16T08:37:07.246Z"
   },
   {
    "duration": 8,
    "start_time": "2023-05-16T08:37:11.823Z"
   },
   {
    "duration": 899,
    "start_time": "2023-05-16T08:37:13.610Z"
   },
   {
    "duration": 7,
    "start_time": "2023-05-16T08:37:15.762Z"
   },
   {
    "duration": 7,
    "start_time": "2023-05-16T08:37:16.602Z"
   },
   {
    "duration": 8,
    "start_time": "2023-05-16T08:37:17.382Z"
   },
   {
    "duration": 9,
    "start_time": "2023-05-16T08:37:18.107Z"
   },
   {
    "duration": 7,
    "start_time": "2023-05-16T08:37:19.330Z"
   },
   {
    "duration": 5,
    "start_time": "2023-05-16T08:42:09.235Z"
   },
   {
    "duration": 968,
    "start_time": "2023-05-16T08:42:12.077Z"
   },
   {
    "duration": 454,
    "start_time": "2023-05-16T08:43:09.249Z"
   },
   {
    "duration": 13,
    "start_time": "2023-05-16T08:45:35.804Z"
   },
   {
    "duration": 14,
    "start_time": "2023-05-16T08:47:06.075Z"
   },
   {
    "duration": 13,
    "start_time": "2023-05-16T08:47:14.339Z"
   },
   {
    "duration": 15,
    "start_time": "2023-05-16T08:47:19.923Z"
   },
   {
    "duration": 8,
    "start_time": "2023-05-16T08:47:23.025Z"
   },
   {
    "duration": 5,
    "start_time": "2023-05-16T08:47:25.825Z"
   },
   {
    "duration": 7,
    "start_time": "2023-05-16T08:48:20.629Z"
   },
   {
    "duration": 8,
    "start_time": "2023-05-16T08:48:53.370Z"
   },
   {
    "duration": 5,
    "start_time": "2023-05-16T08:59:42.625Z"
   },
   {
    "duration": 385,
    "start_time": "2023-05-16T08:59:45.376Z"
   },
   {
    "duration": 6,
    "start_time": "2023-05-16T09:00:45.227Z"
   },
   {
    "duration": 4,
    "start_time": "2023-05-16T09:00:47.888Z"
   },
   {
    "duration": 5,
    "start_time": "2023-05-16T09:00:56.940Z"
   },
   {
    "duration": 6,
    "start_time": "2023-05-16T09:01:00.424Z"
   },
   {
    "duration": 5,
    "start_time": "2023-05-16T09:01:47.652Z"
   },
   {
    "duration": 18,
    "start_time": "2023-05-16T09:01:56.475Z"
   },
   {
    "duration": 27,
    "start_time": "2023-05-16T09:02:03.325Z"
   },
   {
    "duration": 4,
    "start_time": "2023-05-16T09:02:10.674Z"
   },
   {
    "duration": 23,
    "start_time": "2023-05-16T09:02:11.966Z"
   },
   {
    "duration": 1901,
    "start_time": "2023-05-16T09:02:47.723Z"
   },
   {
    "duration": 18,
    "start_time": "2023-05-16T09:03:02.924Z"
   },
   {
    "duration": 1349,
    "start_time": "2023-05-16T09:03:15.553Z"
   },
   {
    "duration": 3,
    "start_time": "2023-05-16T09:03:16.905Z"
   },
   {
    "duration": 5,
    "start_time": "2023-05-16T09:03:16.912Z"
   },
   {
    "duration": 1328,
    "start_time": "2023-05-16T09:03:16.918Z"
   },
   {
    "duration": 44,
    "start_time": "2023-05-16T09:03:18.249Z"
   },
   {
    "duration": 9,
    "start_time": "2023-05-16T09:03:18.294Z"
   },
   {
    "duration": 22,
    "start_time": "2023-05-16T09:03:18.305Z"
   },
   {
    "duration": 39,
    "start_time": "2023-05-16T09:03:18.329Z"
   },
   {
    "duration": 8,
    "start_time": "2023-05-16T09:03:18.372Z"
   },
   {
    "duration": 30,
    "start_time": "2023-05-16T09:03:18.383Z"
   },
   {
    "duration": 11,
    "start_time": "2023-05-16T09:03:18.415Z"
   },
   {
    "duration": 6,
    "start_time": "2023-05-16T09:03:18.428Z"
   },
   {
    "duration": 8,
    "start_time": "2023-05-16T09:03:18.436Z"
   },
   {
    "duration": 81,
    "start_time": "2023-05-16T09:03:18.456Z"
   },
   {
    "duration": 7,
    "start_time": "2023-05-16T09:03:18.539Z"
   },
   {
    "duration": 14,
    "start_time": "2023-05-16T09:03:18.548Z"
   },
   {
    "duration": 26,
    "start_time": "2023-05-16T09:03:18.566Z"
   },
   {
    "duration": 17,
    "start_time": "2023-05-16T09:03:18.594Z"
   },
   {
    "duration": 12,
    "start_time": "2023-05-16T09:03:18.613Z"
   },
   {
    "duration": 15,
    "start_time": "2023-05-16T09:03:18.627Z"
   },
   {
    "duration": 3,
    "start_time": "2023-05-16T09:03:18.644Z"
   },
   {
    "duration": 22,
    "start_time": "2023-05-16T09:03:18.649Z"
   },
   {
    "duration": 16,
    "start_time": "2023-05-16T09:03:18.674Z"
   },
   {
    "duration": 412,
    "start_time": "2023-05-16T09:03:18.691Z"
   },
   {
    "duration": 6,
    "start_time": "2023-05-16T09:03:19.105Z"
   },
   {
    "duration": 6,
    "start_time": "2023-05-16T09:03:19.113Z"
   },
   {
    "duration": 175,
    "start_time": "2023-05-16T09:03:19.122Z"
   },
   {
    "duration": 0,
    "start_time": "2023-05-16T09:03:19.299Z"
   },
   {
    "duration": 11,
    "start_time": "2023-05-16T09:05:26.506Z"
   },
   {
    "duration": 254,
    "start_time": "2023-05-16T09:05:31.419Z"
   },
   {
    "duration": 4,
    "start_time": "2023-05-16T09:05:38.479Z"
   },
   {
    "duration": 268,
    "start_time": "2023-05-16T09:05:39.752Z"
   },
   {
    "duration": 4,
    "start_time": "2023-05-16T09:06:39.153Z"
   },
   {
    "duration": 362,
    "start_time": "2023-05-16T09:06:43.913Z"
   },
   {
    "duration": 4,
    "start_time": "2023-05-16T09:07:03.415Z"
   },
   {
    "duration": 4,
    "start_time": "2023-05-16T09:07:08.547Z"
   },
   {
    "duration": 9405,
    "start_time": "2023-05-16T09:07:17.823Z"
   },
   {
    "duration": 11,
    "start_time": "2023-05-16T09:12:21.784Z"
   },
   {
    "duration": 64,
    "start_time": "2023-05-16T09:15:40.835Z"
   },
   {
    "duration": 5,
    "start_time": "2023-05-16T09:15:45.380Z"
   },
   {
    "duration": 68,
    "start_time": "2023-05-16T09:15:51.550Z"
   },
   {
    "duration": 12,
    "start_time": "2023-05-16T09:16:04.252Z"
   },
   {
    "duration": 680,
    "start_time": "2023-05-16T09:16:05.603Z"
   },
   {
    "duration": 5,
    "start_time": "2023-05-16T09:16:16.004Z"
   },
   {
    "duration": 1218,
    "start_time": "2023-05-16T09:16:17.383Z"
   },
   {
    "duration": 5,
    "start_time": "2023-05-16T09:16:35.320Z"
   },
   {
    "duration": 956,
    "start_time": "2023-05-16T09:16:36.374Z"
   },
   {
    "duration": 1359,
    "start_time": "2023-05-17T06:58:54.273Z"
   },
   {
    "duration": 2,
    "start_time": "2023-05-17T06:58:55.634Z"
   },
   {
    "duration": 5,
    "start_time": "2023-05-17T06:58:55.638Z"
   },
   {
    "duration": 1172,
    "start_time": "2023-05-17T06:58:55.645Z"
   },
   {
    "duration": 36,
    "start_time": "2023-05-17T06:58:56.818Z"
   },
   {
    "duration": 8,
    "start_time": "2023-05-17T06:58:56.856Z"
   },
   {
    "duration": 32,
    "start_time": "2023-05-17T06:58:56.866Z"
   },
   {
    "duration": 16,
    "start_time": "2023-05-17T06:58:56.900Z"
   },
   {
    "duration": 5,
    "start_time": "2023-05-17T06:58:56.917Z"
   },
   {
    "duration": 13,
    "start_time": "2023-05-17T06:58:56.924Z"
   },
   {
    "duration": 21,
    "start_time": "2023-05-17T06:58:56.938Z"
   },
   {
    "duration": 8,
    "start_time": "2023-05-17T06:58:56.960Z"
   },
   {
    "duration": 10,
    "start_time": "2023-05-17T06:58:56.970Z"
   },
   {
    "duration": 53,
    "start_time": "2023-05-17T06:58:56.982Z"
   },
   {
    "duration": 6,
    "start_time": "2023-05-17T06:58:57.037Z"
   },
   {
    "duration": 20,
    "start_time": "2023-05-17T06:58:57.044Z"
   },
   {
    "duration": 10,
    "start_time": "2023-05-17T06:58:57.066Z"
   },
   {
    "duration": 11,
    "start_time": "2023-05-17T06:58:57.078Z"
   },
   {
    "duration": 9,
    "start_time": "2023-05-17T06:58:57.090Z"
   },
   {
    "duration": 25,
    "start_time": "2023-05-17T06:58:57.101Z"
   },
   {
    "duration": 2,
    "start_time": "2023-05-17T06:58:57.128Z"
   },
   {
    "duration": 21,
    "start_time": "2023-05-17T06:58:57.132Z"
   },
   {
    "duration": 11,
    "start_time": "2023-05-17T06:58:57.157Z"
   },
   {
    "duration": 329,
    "start_time": "2023-05-17T06:58:57.170Z"
   },
   {
    "duration": 5,
    "start_time": "2023-05-17T06:58:57.501Z"
   },
   {
    "duration": 4,
    "start_time": "2023-05-17T07:02:25.612Z"
   },
   {
    "duration": 7,
    "start_time": "2023-05-17T07:03:40.611Z"
   },
   {
    "duration": 5,
    "start_time": "2023-05-17T07:04:45.324Z"
   },
   {
    "duration": 5,
    "start_time": "2023-05-17T07:09:17.234Z"
   },
   {
    "duration": 15134,
    "start_time": "2023-05-17T07:12:13.186Z"
   },
   {
    "duration": 877,
    "start_time": "2023-05-17T07:13:46.076Z"
   },
   {
    "duration": 923,
    "start_time": "2023-05-17T07:14:23.185Z"
   },
   {
    "duration": 10232,
    "start_time": "2023-05-17T07:14:45.377Z"
   },
   {
    "duration": 744,
    "start_time": "2023-05-17T07:18:03.352Z"
   },
   {
    "duration": 8837,
    "start_time": "2023-05-17T07:19:41.908Z"
   },
   {
    "duration": 654,
    "start_time": "2023-05-17T07:32:42.601Z"
   },
   {
    "duration": 9670,
    "start_time": "2023-05-17T07:32:58.481Z"
   },
   {
    "duration": 10133,
    "start_time": "2023-05-17T07:33:15.972Z"
   },
   {
    "duration": 10460,
    "start_time": "2023-05-17T07:33:37.233Z"
   },
   {
    "duration": 58,
    "start_time": "2023-05-17T07:40:31.180Z"
   },
   {
    "duration": 10899,
    "start_time": "2023-05-17T07:40:34.843Z"
   },
   {
    "duration": 10974,
    "start_time": "2023-05-17T07:41:01.248Z"
   },
   {
    "duration": 11104,
    "start_time": "2023-05-17T07:41:24.330Z"
   },
   {
    "duration": 4,
    "start_time": "2023-05-17T07:56:21.504Z"
   },
   {
    "duration": 16,
    "start_time": "2023-05-17T07:56:21.512Z"
   },
   {
    "duration": 21,
    "start_time": "2023-05-17T07:56:21.531Z"
   },
   {
    "duration": 1288,
    "start_time": "2023-05-17T07:56:21.554Z"
   },
   {
    "duration": 46,
    "start_time": "2023-05-17T07:56:22.844Z"
   },
   {
    "duration": 34,
    "start_time": "2023-05-17T07:56:51.424Z"
   },
   {
    "duration": 10,
    "start_time": "2023-05-17T07:56:55.088Z"
   },
   {
    "duration": 7,
    "start_time": "2023-05-17T07:56:59.704Z"
   },
   {
    "duration": 7,
    "start_time": "2023-05-17T07:57:26.049Z"
   },
   {
    "duration": 9,
    "start_time": "2023-05-17T07:57:35.460Z"
   },
   {
    "duration": 8,
    "start_time": "2023-05-17T07:57:39.192Z"
   },
   {
    "duration": 6,
    "start_time": "2023-05-17T07:58:25.616Z"
   },
   {
    "duration": 7,
    "start_time": "2023-05-17T07:58:33.804Z"
   },
   {
    "duration": 7,
    "start_time": "2023-05-17T07:59:07.600Z"
   },
   {
    "duration": 9,
    "start_time": "2023-05-17T08:00:50.220Z"
   },
   {
    "duration": 35,
    "start_time": "2023-05-17T08:01:00.791Z"
   },
   {
    "duration": 4,
    "start_time": "2023-05-17T08:06:44.219Z"
   },
   {
    "duration": 14,
    "start_time": "2023-05-17T08:06:44.226Z"
   },
   {
    "duration": 7,
    "start_time": "2023-05-17T08:06:44.242Z"
   },
   {
    "duration": 1167,
    "start_time": "2023-05-17T08:06:44.252Z"
   },
   {
    "duration": 47,
    "start_time": "2023-05-17T08:06:45.421Z"
   },
   {
    "duration": 8,
    "start_time": "2023-05-17T08:06:45.473Z"
   },
   {
    "duration": 15,
    "start_time": "2023-05-17T08:06:45.483Z"
   },
   {
    "duration": 13,
    "start_time": "2023-05-17T08:06:45.499Z"
   },
   {
    "duration": 41,
    "start_time": "2023-05-17T08:06:49.631Z"
   },
   {
    "duration": 39,
    "start_time": "2023-05-17T08:06:58.449Z"
   },
   {
    "duration": 34,
    "start_time": "2023-05-17T08:11:54.590Z"
   },
   {
    "duration": 35,
    "start_time": "2023-05-17T08:12:00.083Z"
   },
   {
    "duration": 92,
    "start_time": "2023-05-17T08:13:03.740Z"
   },
   {
    "duration": 35,
    "start_time": "2023-05-17T08:13:05.414Z"
   },
   {
    "duration": 13,
    "start_time": "2023-05-17T08:13:44.379Z"
   },
   {
    "duration": 10,
    "start_time": "2023-05-17T08:14:07.702Z"
   },
   {
    "duration": 12,
    "start_time": "2023-05-17T08:14:16.626Z"
   },
   {
    "duration": 13,
    "start_time": "2023-05-17T08:14:33.875Z"
   },
   {
    "duration": 5,
    "start_time": "2023-05-17T08:14:36.378Z"
   },
   {
    "duration": 5,
    "start_time": "2023-05-17T08:14:41.206Z"
   },
   {
    "duration": 44,
    "start_time": "2023-05-17T08:14:41.776Z"
   },
   {
    "duration": 8,
    "start_time": "2023-05-17T08:14:51.373Z"
   },
   {
    "duration": 6,
    "start_time": "2023-05-17T08:14:58.002Z"
   },
   {
    "duration": 12,
    "start_time": "2023-05-17T08:14:59.326Z"
   },
   {
    "duration": 3,
    "start_time": "2023-05-17T08:15:15.949Z"
   },
   {
    "duration": 4,
    "start_time": "2023-05-17T08:15:16.305Z"
   },
   {
    "duration": 3,
    "start_time": "2023-05-17T08:15:16.638Z"
   },
   {
    "duration": 1119,
    "start_time": "2023-05-17T08:15:16.976Z"
   },
   {
    "duration": 39,
    "start_time": "2023-05-17T08:15:19.450Z"
   },
   {
    "duration": 16,
    "start_time": "2023-05-17T08:15:24.557Z"
   },
   {
    "duration": 7,
    "start_time": "2023-05-17T08:15:25.209Z"
   },
   {
    "duration": 7,
    "start_time": "2023-05-17T08:15:25.649Z"
   },
   {
    "duration": 101,
    "start_time": "2023-05-17T08:15:38.393Z"
   },
   {
    "duration": 38,
    "start_time": "2023-05-17T08:15:40.093Z"
   },
   {
    "duration": 12,
    "start_time": "2023-05-17T08:15:46.433Z"
   },
   {
    "duration": 9,
    "start_time": "2023-05-17T08:15:49.053Z"
   },
   {
    "duration": 13,
    "start_time": "2023-05-17T08:15:51.010Z"
   },
   {
    "duration": 10,
    "start_time": "2023-05-17T08:16:01.089Z"
   },
   {
    "duration": 6,
    "start_time": "2023-05-17T08:16:02.536Z"
   },
   {
    "duration": 6,
    "start_time": "2023-05-17T08:16:04.045Z"
   },
   {
    "duration": 40,
    "start_time": "2023-05-17T08:16:04.357Z"
   },
   {
    "duration": 6,
    "start_time": "2023-05-17T08:16:07.402Z"
   },
   {
    "duration": 5,
    "start_time": "2023-05-17T08:16:08.725Z"
   },
   {
    "duration": 13,
    "start_time": "2023-05-17T08:16:14.580Z"
   },
   {
    "duration": 12,
    "start_time": "2023-05-17T08:16:19.976Z"
   },
   {
    "duration": 5,
    "start_time": "2023-05-17T08:16:24.948Z"
   },
   {
    "duration": 13,
    "start_time": "2023-05-17T08:16:25.874Z"
   },
   {
    "duration": 4,
    "start_time": "2023-05-17T08:16:31.582Z"
   },
   {
    "duration": 12,
    "start_time": "2023-05-17T08:16:32.025Z"
   },
   {
    "duration": 4342,
    "start_time": "2023-05-17T08:17:06.681Z"
   },
   {
    "duration": 8,
    "start_time": "2023-05-17T08:33:02.533Z"
   },
   {
    "duration": 5199,
    "start_time": "2023-05-17T08:41:41.496Z"
   },
   {
    "duration": 1582,
    "start_time": "2023-05-17T08:42:00.997Z"
   },
   {
    "duration": 7,
    "start_time": "2023-05-17T08:42:02.585Z"
   },
   {
    "duration": 103,
    "start_time": "2023-05-17T08:42:02.597Z"
   },
   {
    "duration": 1503,
    "start_time": "2023-05-17T08:42:02.701Z"
   },
   {
    "duration": 53,
    "start_time": "2023-05-17T08:42:04.210Z"
   },
   {
    "duration": 12,
    "start_time": "2023-05-17T08:42:04.267Z"
   },
   {
    "duration": 23,
    "start_time": "2023-05-17T08:42:04.294Z"
   },
   {
    "duration": 8,
    "start_time": "2023-05-17T08:42:04.319Z"
   },
   {
    "duration": 97,
    "start_time": "2023-05-17T08:42:04.329Z"
   },
   {
    "duration": 48,
    "start_time": "2023-05-17T08:42:04.428Z"
   },
   {
    "duration": 18,
    "start_time": "2023-05-17T08:42:04.477Z"
   },
   {
    "duration": 5,
    "start_time": "2023-05-17T08:42:04.500Z"
   },
   {
    "duration": 23,
    "start_time": "2023-05-17T08:42:04.507Z"
   },
   {
    "duration": 28,
    "start_time": "2023-05-17T08:42:04.534Z"
   },
   {
    "duration": 8,
    "start_time": "2023-05-17T08:42:04.564Z"
   },
   {
    "duration": 14,
    "start_time": "2023-05-17T08:42:04.575Z"
   },
   {
    "duration": 65,
    "start_time": "2023-05-17T08:42:04.597Z"
   },
   {
    "duration": 11,
    "start_time": "2023-05-17T08:42:04.667Z"
   },
   {
    "duration": 23,
    "start_time": "2023-05-17T08:42:04.679Z"
   },
   {
    "duration": 32,
    "start_time": "2023-05-17T08:42:04.704Z"
   },
   {
    "duration": 52,
    "start_time": "2023-05-17T08:42:04.738Z"
   },
   {
    "duration": 7,
    "start_time": "2023-05-17T08:42:04.792Z"
   },
   {
    "duration": 17,
    "start_time": "2023-05-17T08:42:04.801Z"
   },
   {
    "duration": 4,
    "start_time": "2023-05-17T08:42:04.820Z"
   },
   {
    "duration": 16,
    "start_time": "2023-05-17T08:42:04.826Z"
   },
   {
    "duration": 3892,
    "start_time": "2023-05-17T08:42:04.843Z"
   },
   {
    "duration": 8,
    "start_time": "2023-05-17T08:42:08.737Z"
   },
   {
    "duration": 2486,
    "start_time": "2023-05-17T08:42:08.747Z"
   },
   {
    "duration": 225,
    "start_time": "2023-05-17T08:42:11.237Z"
   },
   {
    "duration": 679,
    "start_time": "2023-05-17T08:42:54.993Z"
   },
   {
    "duration": 1936,
    "start_time": "2023-05-17T08:43:36.744Z"
   },
   {
    "duration": 12,
    "start_time": "2023-05-17T08:56:10.197Z"
   },
   {
    "duration": 11,
    "start_time": "2023-05-17T08:56:22.078Z"
   },
   {
    "duration": 125,
    "start_time": "2023-05-17T08:56:30.657Z"
   },
   {
    "duration": 5,
    "start_time": "2023-05-17T08:56:33.181Z"
   },
   {
    "duration": 9,
    "start_time": "2023-05-17T08:56:54.046Z"
   },
   {
    "duration": 752,
    "start_time": "2023-05-17T08:59:29.496Z"
   },
   {
    "duration": 9,
    "start_time": "2023-05-17T08:59:39.456Z"
   },
   {
    "duration": 5,
    "start_time": "2023-05-17T09:10:51.911Z"
   },
   {
    "duration": 10,
    "start_time": "2023-05-17T09:13:05.334Z"
   },
   {
    "duration": 8,
    "start_time": "2023-05-17T09:15:28.510Z"
   },
   {
    "duration": 7,
    "start_time": "2023-05-17T09:17:07.490Z"
   },
   {
    "duration": 60,
    "start_time": "2023-05-17T09:17:20.198Z"
   },
   {
    "duration": 7,
    "start_time": "2023-05-17T09:17:26.014Z"
   },
   {
    "duration": 5,
    "start_time": "2023-05-17T09:17:38.526Z"
   },
   {
    "duration": 8,
    "start_time": "2023-05-17T09:18:01.729Z"
   },
   {
    "duration": 7,
    "start_time": "2023-05-17T09:18:04.472Z"
   },
   {
    "duration": 4,
    "start_time": "2023-05-17T09:18:31.901Z"
   },
   {
    "duration": 5,
    "start_time": "2023-05-17T09:18:35.506Z"
   },
   {
    "duration": 4,
    "start_time": "2023-05-17T09:23:07.684Z"
   },
   {
    "duration": 5,
    "start_time": "2023-05-17T09:25:37.984Z"
   },
   {
    "duration": 4,
    "start_time": "2023-05-17T09:25:59.780Z"
   },
   {
    "duration": 13,
    "start_time": "2023-05-17T09:26:03.988Z"
   },
   {
    "duration": 4,
    "start_time": "2023-05-17T09:26:06.348Z"
   },
   {
    "duration": 1830,
    "start_time": "2023-05-18T07:37:02.051Z"
   },
   {
    "duration": 0,
    "start_time": "2023-05-18T07:37:03.890Z"
   },
   {
    "duration": 0,
    "start_time": "2023-05-18T07:37:03.891Z"
   },
   {
    "duration": 0,
    "start_time": "2023-05-18T07:37:03.893Z"
   },
   {
    "duration": 0,
    "start_time": "2023-05-18T07:37:03.893Z"
   },
   {
    "duration": 0,
    "start_time": "2023-05-18T07:37:03.897Z"
   },
   {
    "duration": 0,
    "start_time": "2023-05-18T07:37:03.898Z"
   },
   {
    "duration": 0,
    "start_time": "2023-05-18T07:37:03.903Z"
   },
   {
    "duration": 0,
    "start_time": "2023-05-18T07:37:03.906Z"
   },
   {
    "duration": 0,
    "start_time": "2023-05-18T07:37:03.910Z"
   },
   {
    "duration": 0,
    "start_time": "2023-05-18T07:37:03.912Z"
   },
   {
    "duration": 0,
    "start_time": "2023-05-18T07:37:03.916Z"
   },
   {
    "duration": 0,
    "start_time": "2023-05-18T07:37:03.917Z"
   },
   {
    "duration": 0,
    "start_time": "2023-05-18T07:37:03.919Z"
   },
   {
    "duration": 0,
    "start_time": "2023-05-18T07:37:03.920Z"
   },
   {
    "duration": 0,
    "start_time": "2023-05-18T07:37:03.927Z"
   },
   {
    "duration": 0,
    "start_time": "2023-05-18T07:37:03.928Z"
   },
   {
    "duration": 0,
    "start_time": "2023-05-18T07:37:03.928Z"
   },
   {
    "duration": 0,
    "start_time": "2023-05-18T07:37:03.929Z"
   },
   {
    "duration": 0,
    "start_time": "2023-05-18T07:37:03.930Z"
   },
   {
    "duration": 0,
    "start_time": "2023-05-18T07:37:03.931Z"
   },
   {
    "duration": 0,
    "start_time": "2023-05-18T07:37:03.934Z"
   },
   {
    "duration": 0,
    "start_time": "2023-05-18T07:37:03.935Z"
   },
   {
    "duration": 0,
    "start_time": "2023-05-18T07:37:03.936Z"
   },
   {
    "duration": 0,
    "start_time": "2023-05-18T07:37:03.937Z"
   },
   {
    "duration": 0,
    "start_time": "2023-05-18T07:37:03.939Z"
   },
   {
    "duration": 0,
    "start_time": "2023-05-18T07:37:03.940Z"
   },
   {
    "duration": 4889,
    "start_time": "2023-05-18T07:37:41.498Z"
   },
   {
    "duration": 2834,
    "start_time": "2023-05-18T07:37:58.260Z"
   },
   {
    "duration": 81,
    "start_time": "2023-05-18T07:38:01.097Z"
   },
   {
    "duration": 37,
    "start_time": "2023-05-18T07:38:01.185Z"
   },
   {
    "duration": 99,
    "start_time": "2023-05-18T07:38:01.224Z"
   },
   {
    "duration": 1311,
    "start_time": "2023-05-18T07:38:01.326Z"
   },
   {
    "duration": 56,
    "start_time": "2023-05-18T07:38:02.640Z"
   },
   {
    "duration": 10,
    "start_time": "2023-05-18T07:38:02.698Z"
   },
   {
    "duration": 16,
    "start_time": "2023-05-18T07:38:02.710Z"
   },
   {
    "duration": 61,
    "start_time": "2023-05-18T07:38:02.730Z"
   },
   {
    "duration": 100,
    "start_time": "2023-05-18T07:38:02.794Z"
   },
   {
    "duration": 40,
    "start_time": "2023-05-18T07:38:02.896Z"
   },
   {
    "duration": 46,
    "start_time": "2023-05-18T07:38:02.938Z"
   },
   {
    "duration": 15,
    "start_time": "2023-05-18T07:38:02.986Z"
   },
   {
    "duration": 33,
    "start_time": "2023-05-18T07:38:03.003Z"
   },
   {
    "duration": 58,
    "start_time": "2023-05-18T07:38:03.038Z"
   },
   {
    "duration": 70,
    "start_time": "2023-05-18T07:38:03.097Z"
   },
   {
    "duration": 16,
    "start_time": "2023-05-18T07:38:03.170Z"
   },
   {
    "duration": 68,
    "start_time": "2023-05-18T07:38:03.188Z"
   },
   {
    "duration": 19,
    "start_time": "2023-05-18T07:38:03.258Z"
   },
   {
    "duration": 18,
    "start_time": "2023-05-18T07:38:03.279Z"
   },
   {
    "duration": 30,
    "start_time": "2023-05-18T07:38:03.300Z"
   },
   {
    "duration": 50,
    "start_time": "2023-05-18T07:38:03.337Z"
   },
   {
    "duration": 17,
    "start_time": "2023-05-18T07:38:03.389Z"
   },
   {
    "duration": 17,
    "start_time": "2023-05-18T07:38:03.408Z"
   },
   {
    "duration": 43,
    "start_time": "2023-05-18T07:38:03.433Z"
   },
   {
    "duration": 33,
    "start_time": "2023-05-18T07:38:03.479Z"
   },
   {
    "duration": 4740,
    "start_time": "2023-05-18T07:38:03.514Z"
   },
   {
    "duration": 10,
    "start_time": "2023-05-18T07:38:08.258Z"
   },
   {
    "duration": 5,
    "start_time": "2023-05-18T07:38:18.491Z"
   },
   {
    "duration": 26,
    "start_time": "2023-05-18T07:39:01.426Z"
   },
   {
    "duration": 4,
    "start_time": "2023-05-18T07:39:05.617Z"
   },
   {
    "duration": 5,
    "start_time": "2023-05-18T07:39:11.611Z"
   },
   {
    "duration": 6,
    "start_time": "2023-05-18T07:39:53.971Z"
   },
   {
    "duration": 105,
    "start_time": "2023-05-18T07:40:32.973Z"
   },
   {
    "duration": 435,
    "start_time": "2023-05-18T07:41:19.353Z"
   },
   {
    "duration": 36,
    "start_time": "2023-05-18T07:41:55.861Z"
   },
   {
    "duration": 545,
    "start_time": "2023-05-18T07:42:48.474Z"
   },
   {
    "duration": 36,
    "start_time": "2023-05-18T07:42:52.454Z"
   },
   {
    "duration": 9,
    "start_time": "2023-05-18T07:43:37.966Z"
   },
   {
    "duration": 9,
    "start_time": "2023-05-18T07:44:04.063Z"
   },
   {
    "duration": 8,
    "start_time": "2023-05-18T07:49:56.054Z"
   },
   {
    "duration": 3,
    "start_time": "2023-05-18T07:50:05.306Z"
   },
   {
    "duration": 3,
    "start_time": "2023-05-18T07:50:14.608Z"
   },
   {
    "duration": 10,
    "start_time": "2023-05-18T07:50:22.212Z"
   },
   {
    "duration": 15,
    "start_time": "2023-05-18T07:51:13.251Z"
   },
   {
    "duration": 15,
    "start_time": "2023-05-18T07:52:08.354Z"
   },
   {
    "duration": 6,
    "start_time": "2023-05-18T07:52:25.255Z"
   },
   {
    "duration": 12,
    "start_time": "2023-05-18T07:52:26.795Z"
   },
   {
    "duration": 6,
    "start_time": "2023-05-18T07:52:29.535Z"
   },
   {
    "duration": 3,
    "start_time": "2023-05-18T07:52:29.798Z"
   },
   {
    "duration": 3,
    "start_time": "2023-05-18T07:52:30.067Z"
   },
   {
    "duration": 14,
    "start_time": "2023-05-18T07:52:30.291Z"
   },
   {
    "duration": 672,
    "start_time": "2023-05-18T07:54:22.794Z"
   },
   {
    "duration": 1780,
    "start_time": "2023-05-18T07:54:25.690Z"
   },
   {
    "duration": 4,
    "start_time": "2023-05-18T07:57:09.551Z"
   },
   {
    "duration": 5,
    "start_time": "2023-05-18T07:58:33.197Z"
   },
   {
    "duration": 4,
    "start_time": "2023-05-18T08:05:13.369Z"
   },
   {
    "duration": 14,
    "start_time": "2023-05-18T08:05:16.946Z"
   },
   {
    "duration": 2,
    "start_time": "2023-05-18T08:05:17.699Z"
   },
   {
    "duration": 11,
    "start_time": "2023-05-18T08:05:18.653Z"
   },
   {
    "duration": 5,
    "start_time": "2023-05-18T08:05:19.407Z"
   },
   {
    "duration": 8,
    "start_time": "2023-05-18T08:05:52.675Z"
   },
   {
    "duration": 4,
    "start_time": "2023-05-18T08:06:08.354Z"
   },
   {
    "duration": 3,
    "start_time": "2023-05-18T08:06:08.652Z"
   },
   {
    "duration": 2,
    "start_time": "2023-05-18T08:06:08.987Z"
   },
   {
    "duration": 3,
    "start_time": "2023-05-18T08:06:09.290Z"
   },
   {
    "duration": 8,
    "start_time": "2023-05-18T08:06:14.265Z"
   },
   {
    "duration": 5,
    "start_time": "2023-05-18T08:06:32.006Z"
   },
   {
    "duration": 7,
    "start_time": "2023-05-18T08:06:39.079Z"
   },
   {
    "duration": 53,
    "start_time": "2023-05-18T08:07:52.910Z"
   },
   {
    "duration": 17,
    "start_time": "2023-05-18T08:08:06.253Z"
   },
   {
    "duration": 3208,
    "start_time": "2023-05-19T06:39:43.432Z"
   },
   {
    "duration": 1328,
    "start_time": "2023-05-19T06:39:46.643Z"
   },
   {
    "duration": 2,
    "start_time": "2023-05-19T06:39:47.973Z"
   },
   {
    "duration": 5,
    "start_time": "2023-05-19T06:39:47.977Z"
   },
   {
    "duration": 1190,
    "start_time": "2023-05-19T06:39:47.984Z"
   },
   {
    "duration": 38,
    "start_time": "2023-05-19T06:39:49.176Z"
   },
   {
    "duration": 7,
    "start_time": "2023-05-19T06:39:49.215Z"
   },
   {
    "duration": 6,
    "start_time": "2023-05-19T06:39:49.224Z"
   },
   {
    "duration": 20,
    "start_time": "2023-05-19T06:39:49.232Z"
   },
   {
    "duration": 83,
    "start_time": "2023-05-19T06:39:49.253Z"
   },
   {
    "duration": 35,
    "start_time": "2023-05-19T06:39:49.337Z"
   },
   {
    "duration": 11,
    "start_time": "2023-05-19T06:39:49.374Z"
   },
   {
    "duration": 10,
    "start_time": "2023-05-19T06:39:49.387Z"
   },
   {
    "duration": 30,
    "start_time": "2023-05-19T06:39:49.400Z"
   },
   {
    "duration": 10,
    "start_time": "2023-05-19T06:39:49.431Z"
   },
   {
    "duration": 5,
    "start_time": "2023-05-19T06:39:49.443Z"
   },
   {
    "duration": 14,
    "start_time": "2023-05-19T06:39:49.449Z"
   },
   {
    "duration": 50,
    "start_time": "2023-05-19T06:39:49.465Z"
   },
   {
    "duration": 6,
    "start_time": "2023-05-19T06:39:49.525Z"
   },
   {
    "duration": 6,
    "start_time": "2023-05-19T06:39:49.532Z"
   },
   {
    "duration": 16,
    "start_time": "2023-05-19T06:39:49.540Z"
   },
   {
    "duration": 12,
    "start_time": "2023-05-19T06:39:49.558Z"
   },
   {
    "duration": 4,
    "start_time": "2023-05-19T06:39:49.572Z"
   },
   {
    "duration": 47,
    "start_time": "2023-05-19T06:39:49.578Z"
   },
   {
    "duration": 4,
    "start_time": "2023-05-19T06:39:49.626Z"
   },
   {
    "duration": 17,
    "start_time": "2023-05-19T06:39:49.632Z"
   },
   {
    "duration": 3458,
    "start_time": "2023-05-19T06:39:49.651Z"
   },
   {
    "duration": 495,
    "start_time": "2023-05-19T06:39:53.111Z"
   },
   {
    "duration": 1559,
    "start_time": "2023-05-19T06:39:53.608Z"
   },
   {
    "duration": 6,
    "start_time": "2023-05-19T06:39:55.168Z"
   },
   {
    "duration": 4,
    "start_time": "2023-05-19T06:39:59.827Z"
   },
   {
    "duration": 102,
    "start_time": "2023-05-19T06:40:52.380Z"
   },
   {
    "duration": 8,
    "start_time": "2023-05-19T06:40:58.798Z"
   },
   {
    "duration": 4,
    "start_time": "2023-05-19T06:41:43.264Z"
   },
   {
    "duration": 72,
    "start_time": "2023-05-19T06:41:59.223Z"
   },
   {
    "duration": 3,
    "start_time": "2023-05-19T06:42:03.083Z"
   },
   {
    "duration": 4,
    "start_time": "2023-05-19T06:44:59.010Z"
   },
   {
    "duration": 10,
    "start_time": "2023-05-19T06:47:18.850Z"
   },
   {
    "duration": 83,
    "start_time": "2023-05-19T06:48:00.266Z"
   },
   {
    "duration": 15,
    "start_time": "2023-05-19T06:48:03.025Z"
   },
   {
    "duration": 9,
    "start_time": "2023-05-19T06:49:42.581Z"
   },
   {
    "duration": 10,
    "start_time": "2023-05-19T06:49:44.633Z"
   },
   {
    "duration": 178,
    "start_time": "2023-05-19T06:50:02.538Z"
   },
   {
    "duration": 83,
    "start_time": "2023-05-19T06:50:12.082Z"
   },
   {
    "duration": 111,
    "start_time": "2023-05-19T06:50:59.953Z"
   },
   {
    "duration": 7,
    "start_time": "2023-05-19T06:51:03.621Z"
   },
   {
    "duration": 4,
    "start_time": "2023-05-19T06:51:19.381Z"
   },
   {
    "duration": 2,
    "start_time": "2023-05-19T06:56:01.312Z"
   },
   {
    "duration": 9,
    "start_time": "2023-05-19T06:56:28.612Z"
   },
   {
    "duration": 2,
    "start_time": "2023-05-19T06:56:33.248Z"
   },
   {
    "duration": 12,
    "start_time": "2023-05-19T06:56:46.415Z"
   },
   {
    "duration": 4,
    "start_time": "2023-05-19T07:00:51.722Z"
   },
   {
    "duration": 4,
    "start_time": "2023-05-19T07:00:55.234Z"
   },
   {
    "duration": 4,
    "start_time": "2023-05-19T07:01:00.087Z"
   },
   {
    "duration": 3,
    "start_time": "2023-05-19T07:01:44.635Z"
   },
   {
    "duration": 3,
    "start_time": "2023-05-19T07:01:50.543Z"
   },
   {
    "duration": 12,
    "start_time": "2023-05-19T07:01:51.126Z"
   },
   {
    "duration": 4,
    "start_time": "2023-05-19T07:01:57.691Z"
   },
   {
    "duration": 3,
    "start_time": "2023-05-19T07:02:00.202Z"
   },
   {
    "duration": 11,
    "start_time": "2023-05-19T07:02:00.755Z"
   },
   {
    "duration": 3,
    "start_time": "2023-05-19T07:02:37.610Z"
   },
   {
    "duration": 13,
    "start_time": "2023-05-19T07:03:10.326Z"
   },
   {
    "duration": 4,
    "start_time": "2023-05-19T07:03:59.042Z"
   },
   {
    "duration": 3,
    "start_time": "2023-05-19T07:03:59.457Z"
   },
   {
    "duration": 9,
    "start_time": "2023-05-19T07:04:12.826Z"
   },
   {
    "duration": 9,
    "start_time": "2023-05-19T07:04:36.293Z"
   },
   {
    "duration": 4,
    "start_time": "2023-05-19T07:04:51.701Z"
   },
   {
    "duration": 72,
    "start_time": "2023-05-19T07:04:55.000Z"
   },
   {
    "duration": 3,
    "start_time": "2023-05-19T07:05:33.626Z"
   },
   {
    "duration": 11,
    "start_time": "2023-05-19T07:05:56.282Z"
   },
   {
    "duration": 10,
    "start_time": "2023-05-19T07:05:58.048Z"
   },
   {
    "duration": 5,
    "start_time": "2023-05-19T07:06:15.282Z"
   },
   {
    "duration": 4,
    "start_time": "2023-05-19T07:06:19.539Z"
   },
   {
    "duration": 5,
    "start_time": "2023-05-19T07:06:56.986Z"
   },
   {
    "duration": 3,
    "start_time": "2023-05-19T07:06:59.822Z"
   },
   {
    "duration": 9,
    "start_time": "2023-05-19T07:07:00.558Z"
   },
   {
    "duration": 191,
    "start_time": "2023-05-19T07:07:06.054Z"
   },
   {
    "duration": 11,
    "start_time": "2023-05-19T07:07:26.449Z"
   },
   {
    "duration": 9,
    "start_time": "2023-05-19T07:08:10.994Z"
   },
   {
    "duration": 13,
    "start_time": "2023-05-19T07:08:32.578Z"
   },
   {
    "duration": 9,
    "start_time": "2023-05-19T07:08:42.997Z"
   },
   {
    "duration": 4,
    "start_time": "2023-05-19T07:11:02.149Z"
   },
   {
    "duration": 4,
    "start_time": "2023-05-19T07:11:09.197Z"
   },
   {
    "duration": 3,
    "start_time": "2023-05-19T07:11:29.021Z"
   },
   {
    "duration": 3,
    "start_time": "2023-05-19T07:11:29.637Z"
   },
   {
    "duration": 4,
    "start_time": "2023-05-19T07:11:35.240Z"
   },
   {
    "duration": 3,
    "start_time": "2023-05-19T07:11:43.201Z"
   },
   {
    "duration": 7,
    "start_time": "2023-05-19T07:11:47.589Z"
   },
   {
    "duration": 9,
    "start_time": "2023-05-19T07:11:57.341Z"
   },
   {
    "duration": 15,
    "start_time": "2023-05-19T07:12:10.717Z"
   },
   {
    "duration": 3,
    "start_time": "2023-05-19T07:12:30.045Z"
   },
   {
    "duration": 109,
    "start_time": "2023-05-19T07:12:32.901Z"
   },
   {
    "duration": 7,
    "start_time": "2023-05-19T07:12:37.677Z"
   },
   {
    "duration": 4,
    "start_time": "2023-05-19T07:12:42.241Z"
   },
   {
    "duration": 3,
    "start_time": "2023-05-19T07:12:42.487Z"
   },
   {
    "duration": 9,
    "start_time": "2023-05-19T07:12:46.596Z"
   },
   {
    "duration": 2,
    "start_time": "2023-05-19T07:15:31.905Z"
   },
   {
    "duration": 862,
    "start_time": "2023-05-19T07:15:47.528Z"
   },
   {
    "duration": 5,
    "start_time": "2023-05-19T07:16:39.508Z"
   },
   {
    "duration": 4,
    "start_time": "2023-05-19T07:19:10.555Z"
   },
   {
    "duration": 3,
    "start_time": "2023-05-19T07:20:01.741Z"
   },
   {
    "duration": 98,
    "start_time": "2023-05-19T07:20:17.155Z"
   },
   {
    "duration": 5,
    "start_time": "2023-05-19T07:20:21.502Z"
   },
   {
    "duration": 13,
    "start_time": "2023-05-19T07:22:43.291Z"
   },
   {
    "duration": 73,
    "start_time": "2023-05-19T07:23:56.942Z"
   },
   {
    "duration": 3,
    "start_time": "2023-05-19T07:24:43.309Z"
   },
   {
    "duration": 3,
    "start_time": "2023-05-19T07:24:44.199Z"
   },
   {
    "duration": 210,
    "start_time": "2023-05-19T07:24:45.814Z"
   },
   {
    "duration": 238,
    "start_time": "2023-05-19T07:25:52.210Z"
   },
   {
    "duration": 7,
    "start_time": "2023-05-19T07:26:44.494Z"
   },
   {
    "duration": 237,
    "start_time": "2023-05-19T07:27:11.388Z"
   },
   {
    "duration": 7,
    "start_time": "2023-05-19T07:27:26.922Z"
   },
   {
    "duration": 9,
    "start_time": "2023-05-19T07:29:12.694Z"
   },
   {
    "duration": 234,
    "start_time": "2023-05-19T07:29:14.019Z"
   },
   {
    "duration": 8,
    "start_time": "2023-05-19T07:29:27.894Z"
   },
   {
    "duration": 7,
    "start_time": "2023-05-19T07:29:34.114Z"
   },
   {
    "duration": 230,
    "start_time": "2023-05-19T07:30:21.522Z"
   },
   {
    "duration": 10,
    "start_time": "2023-05-19T07:30:34.788Z"
   },
   {
    "duration": 250,
    "start_time": "2023-05-19T07:30:43.941Z"
   },
   {
    "duration": 253,
    "start_time": "2023-05-19T07:30:58.097Z"
   },
   {
    "duration": 222,
    "start_time": "2023-05-19T07:32:06.187Z"
   },
   {
    "duration": 6,
    "start_time": "2023-05-19T07:33:28.836Z"
   },
   {
    "duration": 122,
    "start_time": "2023-05-19T07:36:05.320Z"
   },
   {
    "duration": 125,
    "start_time": "2023-05-19T07:36:41.928Z"
   },
   {
    "duration": 17,
    "start_time": "2023-05-19T07:37:30.100Z"
   },
   {
    "duration": 93,
    "start_time": "2023-05-19T07:39:14.888Z"
   },
   {
    "duration": 10,
    "start_time": "2023-05-19T07:39:43.627Z"
   },
   {
    "duration": 777,
    "start_time": "2023-05-19T07:40:10.987Z"
   },
   {
    "duration": 7,
    "start_time": "2023-05-19T07:40:40.012Z"
   },
   {
    "duration": 8,
    "start_time": "2023-05-19T07:40:44.738Z"
   },
   {
    "duration": 10,
    "start_time": "2023-05-19T07:41:09.149Z"
   },
   {
    "duration": 9,
    "start_time": "2023-05-19T07:41:13.594Z"
   },
   {
    "duration": 7,
    "start_time": "2023-05-19T07:42:26.286Z"
   },
   {
    "duration": 9,
    "start_time": "2023-05-19T07:43:00.994Z"
   },
   {
    "duration": 7,
    "start_time": "2023-05-19T07:43:06.914Z"
   },
   {
    "duration": 3,
    "start_time": "2023-05-19T07:43:20.804Z"
   },
   {
    "duration": 7,
    "start_time": "2023-05-19T07:43:23.496Z"
   },
   {
    "duration": 7,
    "start_time": "2023-05-19T07:43:24.028Z"
   },
   {
    "duration": 294,
    "start_time": "2023-05-19T07:43:40.954Z"
   },
   {
    "duration": 75,
    "start_time": "2023-05-19T07:43:45.978Z"
   },
   {
    "duration": 42,
    "start_time": "2023-05-19T07:44:27.795Z"
   },
   {
    "duration": 68,
    "start_time": "2023-05-19T07:44:35.622Z"
   },
   {
    "duration": 7,
    "start_time": "2023-05-19T07:44:45.286Z"
   },
   {
    "duration": 8,
    "start_time": "2023-05-19T07:44:49.642Z"
   },
   {
    "duration": 321,
    "start_time": "2023-05-19T07:45:15.907Z"
   },
   {
    "duration": 299,
    "start_time": "2023-05-19T07:47:20.529Z"
   },
   {
    "duration": 70,
    "start_time": "2023-05-19T07:47:46.113Z"
   },
   {
    "duration": 298,
    "start_time": "2023-05-19T07:47:54.120Z"
   },
   {
    "duration": 272,
    "start_time": "2023-05-19T07:50:09.296Z"
   },
   {
    "duration": 310,
    "start_time": "2023-05-19T07:50:46.396Z"
   },
   {
    "duration": 353,
    "start_time": "2023-05-19T07:50:58.787Z"
   },
   {
    "duration": 176,
    "start_time": "2023-05-19T08:00:11.344Z"
   },
   {
    "duration": 628,
    "start_time": "2023-05-19T08:03:54.283Z"
   },
   {
    "duration": 385,
    "start_time": "2023-05-19T08:14:10.222Z"
   },
   {
    "duration": 408,
    "start_time": "2023-05-19T08:15:21.473Z"
   },
   {
    "duration": 1495,
    "start_time": "2023-05-19T08:53:03.771Z"
   },
   {
    "duration": 367,
    "start_time": "2023-05-19T08:53:27.143Z"
   },
   {
    "duration": 377,
    "start_time": "2023-05-19T08:58:45.362Z"
   },
   {
    "duration": 431,
    "start_time": "2023-05-19T08:59:00.779Z"
   },
   {
    "duration": 355,
    "start_time": "2023-05-19T08:59:21.938Z"
   },
   {
    "duration": 378,
    "start_time": "2023-05-19T08:59:27.706Z"
   },
   {
    "duration": 402,
    "start_time": "2023-05-19T08:59:35.298Z"
   },
   {
    "duration": 415,
    "start_time": "2023-05-19T08:59:39.415Z"
   },
   {
    "duration": 74,
    "start_time": "2023-05-19T09:02:05.582Z"
   },
   {
    "duration": 19,
    "start_time": "2023-05-19T09:03:17.610Z"
   },
   {
    "duration": 108,
    "start_time": "2023-05-19T09:03:44.017Z"
   },
   {
    "duration": 18,
    "start_time": "2023-05-19T09:04:04.438Z"
   },
   {
    "duration": 374,
    "start_time": "2023-05-19T09:04:16.337Z"
   },
   {
    "duration": 552,
    "start_time": "2023-05-19T09:05:38.133Z"
   },
   {
    "duration": 18,
    "start_time": "2023-05-19T09:06:32.433Z"
   },
   {
    "duration": 670,
    "start_time": "2023-05-19T09:07:36.980Z"
   },
   {
    "duration": 393,
    "start_time": "2023-05-19T09:09:27.617Z"
   },
   {
    "duration": 703,
    "start_time": "2023-05-19T09:10:08.796Z"
   },
   {
    "duration": 73,
    "start_time": "2023-05-19T09:12:09.276Z"
   },
   {
    "duration": 729,
    "start_time": "2023-05-19T09:12:20.232Z"
   },
   {
    "duration": 706,
    "start_time": "2023-05-19T09:12:47.323Z"
   },
   {
    "duration": 638,
    "start_time": "2023-05-19T09:12:55.948Z"
   },
   {
    "duration": 726,
    "start_time": "2023-05-19T09:13:13.255Z"
   },
   {
    "duration": 660,
    "start_time": "2023-05-19T09:13:55.679Z"
   },
   {
    "duration": 681,
    "start_time": "2023-05-19T09:14:03.987Z"
   },
   {
    "duration": 5,
    "start_time": "2023-05-19T09:15:11.439Z"
   },
   {
    "duration": 5,
    "start_time": "2023-05-19T09:15:21.055Z"
   },
   {
    "duration": 9,
    "start_time": "2023-05-19T09:15:25.019Z"
   },
   {
    "duration": 7,
    "start_time": "2023-05-19T09:15:36.683Z"
   },
   {
    "duration": 7,
    "start_time": "2023-05-19T09:15:39.209Z"
   },
   {
    "duration": 72,
    "start_time": "2023-05-19T09:16:33.567Z"
   },
   {
    "duration": 2,
    "start_time": "2023-05-19T09:16:44.203Z"
   },
   {
    "duration": 1343,
    "start_time": "2023-05-19T09:16:46.038Z"
   },
   {
    "duration": 98,
    "start_time": "2023-05-19T09:17:15.482Z"
   },
   {
    "duration": 12,
    "start_time": "2023-05-19T09:17:22.167Z"
   },
   {
    "duration": 2,
    "start_time": "2023-05-19T09:18:39.799Z"
   },
   {
    "duration": 62,
    "start_time": "2023-05-19T09:19:00.102Z"
   },
   {
    "duration": 690,
    "start_time": "2023-05-19T09:19:03.961Z"
   },
   {
    "duration": 6,
    "start_time": "2023-05-19T09:19:07.130Z"
   },
   {
    "duration": 4,
    "start_time": "2023-05-19T09:19:42.579Z"
   },
   {
    "duration": 12,
    "start_time": "2023-05-19T09:19:44.326Z"
   },
   {
    "duration": 75,
    "start_time": "2023-05-19T09:20:01.482Z"
   },
   {
    "duration": 682,
    "start_time": "2023-05-19T09:20:07.142Z"
   },
   {
    "duration": 18,
    "start_time": "2023-05-19T09:20:08.810Z"
   },
   {
    "duration": 10,
    "start_time": "2023-05-19T09:20:31.990Z"
   },
   {
    "duration": 12,
    "start_time": "2023-05-19T09:20:43.606Z"
   },
   {
    "duration": 661,
    "start_time": "2023-05-19T09:20:56.758Z"
   },
   {
    "duration": 13,
    "start_time": "2023-05-19T09:20:57.420Z"
   },
   {
    "duration": 673,
    "start_time": "2023-05-19T09:21:24.090Z"
   },
   {
    "duration": 14,
    "start_time": "2023-05-19T09:21:24.766Z"
   },
   {
    "duration": 3,
    "start_time": "2023-05-19T09:25:22.697Z"
   },
   {
    "duration": 17,
    "start_time": "2023-05-19T09:31:48.339Z"
   },
   {
    "duration": 280,
    "start_time": "2023-05-19T09:32:45.567Z"
   },
   {
    "duration": 305,
    "start_time": "2023-05-19T09:33:40.980Z"
   },
   {
    "duration": 13,
    "start_time": "2023-05-19T09:33:42.659Z"
   },
   {
    "duration": 3,
    "start_time": "2023-05-19T09:33:53.559Z"
   },
   {
    "duration": 312,
    "start_time": "2023-05-19T09:33:53.923Z"
   },
   {
    "duration": 13,
    "start_time": "2023-05-19T09:33:54.991Z"
   },
   {
    "duration": 345,
    "start_time": "2023-05-19T09:34:11.211Z"
   },
   {
    "duration": 16,
    "start_time": "2023-05-19T09:34:11.683Z"
   },
   {
    "duration": 4,
    "start_time": "2023-05-19T09:34:52.871Z"
   },
   {
    "duration": 13,
    "start_time": "2023-05-19T09:34:58.826Z"
   },
   {
    "duration": 6,
    "start_time": "2023-05-19T09:35:48.122Z"
   },
   {
    "duration": 10,
    "start_time": "2023-05-19T09:35:52.163Z"
   },
   {
    "duration": 12,
    "start_time": "2023-05-19T09:36:01.851Z"
   },
   {
    "duration": 11,
    "start_time": "2023-05-19T09:36:06.147Z"
   },
   {
    "duration": 3,
    "start_time": "2023-05-19T09:36:09.237Z"
   },
   {
    "duration": 343,
    "start_time": "2023-05-19T09:36:09.699Z"
   },
   {
    "duration": 16,
    "start_time": "2023-05-19T09:36:10.574Z"
   },
   {
    "duration": 11,
    "start_time": "2023-05-19T09:36:12.667Z"
   },
   {
    "duration": 6,
    "start_time": "2023-05-19T09:40:55.478Z"
   },
   {
    "duration": 4,
    "start_time": "2023-05-19T09:40:55.962Z"
   },
   {
    "duration": 3,
    "start_time": "2023-05-19T09:40:57.241Z"
   },
   {
    "duration": 316,
    "start_time": "2023-05-19T09:40:57.674Z"
   },
   {
    "duration": 14,
    "start_time": "2023-05-19T09:40:58.734Z"
   },
   {
    "duration": 11,
    "start_time": "2023-05-19T09:41:01.458Z"
   },
   {
    "duration": 3114,
    "start_time": "2023-05-19T15:01:09.576Z"
   },
   {
    "duration": 1496,
    "start_time": "2023-05-19T15:01:12.692Z"
   },
   {
    "duration": 3,
    "start_time": "2023-05-19T15:01:14.191Z"
   },
   {
    "duration": 4,
    "start_time": "2023-05-19T15:01:14.197Z"
   },
   {
    "duration": 1045,
    "start_time": "2023-05-19T15:01:14.203Z"
   },
   {
    "duration": 42,
    "start_time": "2023-05-19T15:01:15.249Z"
   },
   {
    "duration": 9,
    "start_time": "2023-05-19T15:01:15.293Z"
   },
   {
    "duration": 6,
    "start_time": "2023-05-19T15:01:15.304Z"
   },
   {
    "duration": 6,
    "start_time": "2023-05-19T15:01:15.312Z"
   },
   {
    "duration": 92,
    "start_time": "2023-05-19T15:01:15.321Z"
   },
   {
    "duration": 37,
    "start_time": "2023-05-19T15:01:15.415Z"
   },
   {
    "duration": 13,
    "start_time": "2023-05-19T15:01:15.453Z"
   },
   {
    "duration": 24,
    "start_time": "2023-05-19T15:01:15.467Z"
   },
   {
    "duration": 18,
    "start_time": "2023-05-19T15:01:15.492Z"
   },
   {
    "duration": 10,
    "start_time": "2023-05-19T15:01:15.512Z"
   },
   {
    "duration": 5,
    "start_time": "2023-05-19T15:01:15.523Z"
   },
   {
    "duration": 11,
    "start_time": "2023-05-19T15:01:15.529Z"
   },
   {
    "duration": 61,
    "start_time": "2023-05-19T15:01:15.541Z"
   },
   {
    "duration": 5,
    "start_time": "2023-05-19T15:01:15.604Z"
   },
   {
    "duration": 6,
    "start_time": "2023-05-19T15:01:15.611Z"
   },
   {
    "duration": 13,
    "start_time": "2023-05-19T15:01:15.619Z"
   },
   {
    "duration": 13,
    "start_time": "2023-05-19T15:01:15.634Z"
   },
   {
    "duration": 40,
    "start_time": "2023-05-19T15:01:15.648Z"
   },
   {
    "duration": 18,
    "start_time": "2023-05-19T15:01:15.690Z"
   },
   {
    "duration": 7,
    "start_time": "2023-05-19T15:01:15.710Z"
   },
   {
    "duration": 14,
    "start_time": "2023-05-19T15:01:15.719Z"
   },
   {
    "duration": 3797,
    "start_time": "2023-05-19T15:01:15.735Z"
   },
   {
    "duration": 8,
    "start_time": "2023-05-19T15:01:19.537Z"
   },
   {
    "duration": 21,
    "start_time": "2023-05-19T15:01:19.547Z"
   },
   {
    "duration": 29,
    "start_time": "2023-05-19T15:01:19.570Z"
   },
   {
    "duration": 326,
    "start_time": "2023-05-19T15:01:19.602Z"
   },
   {
    "duration": 16,
    "start_time": "2023-05-19T15:01:19.930Z"
   },
   {
    "duration": 22,
    "start_time": "2023-05-19T15:01:19.948Z"
   },
   {
    "duration": 649,
    "start_time": "2023-05-19T15:01:19.972Z"
   },
   {
    "duration": 1704,
    "start_time": "2023-05-19T15:01:20.623Z"
   },
   {
    "duration": 3,
    "start_time": "2023-05-19T15:16:16.165Z"
   },
   {
    "duration": 5,
    "start_time": "2023-05-19T15:16:56.264Z"
   },
   {
    "duration": 11,
    "start_time": "2023-05-19T15:17:12.001Z"
   },
   {
    "duration": 7,
    "start_time": "2023-05-19T15:22:45.199Z"
   },
   {
    "duration": 5,
    "start_time": "2023-05-19T15:22:45.671Z"
   },
   {
    "duration": 3,
    "start_time": "2023-05-19T15:22:47.152Z"
   },
   {
    "duration": 340,
    "start_time": "2023-05-19T15:23:26.071Z"
   },
   {
    "duration": 16,
    "start_time": "2023-05-19T15:23:26.767Z"
   },
   {
    "duration": 12,
    "start_time": "2023-05-19T15:23:37.603Z"
   },
   {
    "duration": 3,
    "start_time": "2023-05-19T15:29:18.766Z"
   },
   {
    "duration": 15,
    "start_time": "2023-05-19T15:35:00.373Z"
   },
   {
    "duration": 13,
    "start_time": "2023-05-19T15:37:44.342Z"
   },
   {
    "duration": 4185,
    "start_time": "2023-05-19T16:15:29.867Z"
   },
   {
    "duration": 4175,
    "start_time": "2023-05-19T16:15:42.827Z"
   },
   {
    "duration": 2517,
    "start_time": "2023-05-19T17:00:43.763Z"
   },
   {
    "duration": 1434,
    "start_time": "2023-05-19T17:00:46.282Z"
   },
   {
    "duration": 4,
    "start_time": "2023-05-19T17:00:47.719Z"
   },
   {
    "duration": 5,
    "start_time": "2023-05-19T17:00:47.725Z"
   },
   {
    "duration": 1895,
    "start_time": "2023-05-19T17:00:47.732Z"
   },
   {
    "duration": 44,
    "start_time": "2023-05-19T17:00:49.629Z"
   },
   {
    "duration": 9,
    "start_time": "2023-05-19T17:00:49.674Z"
   },
   {
    "duration": 12,
    "start_time": "2023-05-19T17:00:49.685Z"
   },
   {
    "duration": 27,
    "start_time": "2023-05-19T17:00:49.699Z"
   },
   {
    "duration": 86,
    "start_time": "2023-05-19T17:00:49.729Z"
   },
   {
    "duration": 37,
    "start_time": "2023-05-19T17:00:49.818Z"
   },
   {
    "duration": 13,
    "start_time": "2023-05-19T17:00:49.857Z"
   },
   {
    "duration": 20,
    "start_time": "2023-05-19T17:00:49.872Z"
   },
   {
    "duration": 20,
    "start_time": "2023-05-19T17:00:49.894Z"
   },
   {
    "duration": 16,
    "start_time": "2023-05-19T17:00:49.916Z"
   },
   {
    "duration": 5,
    "start_time": "2023-05-19T17:00:49.934Z"
   },
   {
    "duration": 5,
    "start_time": "2023-05-19T17:00:49.940Z"
   },
   {
    "duration": 83,
    "start_time": "2023-05-19T17:00:49.946Z"
   },
   {
    "duration": 6,
    "start_time": "2023-05-19T17:00:50.030Z"
   },
   {
    "duration": 13,
    "start_time": "2023-05-19T17:00:50.038Z"
   },
   {
    "duration": 15,
    "start_time": "2023-05-19T17:00:50.053Z"
   },
   {
    "duration": 24,
    "start_time": "2023-05-19T17:00:50.070Z"
   },
   {
    "duration": 23,
    "start_time": "2023-05-19T17:00:50.095Z"
   },
   {
    "duration": 30,
    "start_time": "2023-05-19T17:00:50.120Z"
   },
   {
    "duration": 14,
    "start_time": "2023-05-19T17:00:50.151Z"
   },
   {
    "duration": 20,
    "start_time": "2023-05-19T17:00:50.167Z"
   },
   {
    "duration": 4441,
    "start_time": "2023-05-19T17:00:50.191Z"
   },
   {
    "duration": 8,
    "start_time": "2023-05-19T17:00:54.635Z"
   },
   {
    "duration": 5,
    "start_time": "2023-05-19T17:00:54.645Z"
   },
   {
    "duration": 14,
    "start_time": "2023-05-19T17:00:54.651Z"
   },
   {
    "duration": 457,
    "start_time": "2023-05-19T17:00:54.667Z"
   },
   {
    "duration": 26,
    "start_time": "2023-05-19T17:00:55.127Z"
   },
   {
    "duration": 46,
    "start_time": "2023-05-19T17:00:55.155Z"
   },
   {
    "duration": 716,
    "start_time": "2023-05-19T17:00:55.204Z"
   },
   {
    "duration": 2106,
    "start_time": "2023-05-19T17:00:55.923Z"
   },
   {
    "duration": 5,
    "start_time": "2023-05-19T17:00:58.031Z"
   },
   {
    "duration": 19,
    "start_time": "2023-05-19T17:00:58.038Z"
   },
   {
    "duration": 23,
    "start_time": "2023-05-19T17:00:58.058Z"
   },
   {
    "duration": 5921,
    "start_time": "2023-05-20T17:29:17.794Z"
   },
   {
    "duration": 4877,
    "start_time": "2023-05-20T17:29:23.719Z"
   },
   {
    "duration": 5,
    "start_time": "2023-05-20T17:29:28.600Z"
   },
   {
    "duration": 38,
    "start_time": "2023-05-20T17:29:28.607Z"
   },
   {
    "duration": 1020,
    "start_time": "2023-05-20T17:29:28.648Z"
   },
   {
    "duration": 69,
    "start_time": "2023-05-20T17:29:29.670Z"
   },
   {
    "duration": 18,
    "start_time": "2023-05-20T17:29:32.982Z"
   },
   {
    "duration": 10,
    "start_time": "2023-05-20T17:29:54.867Z"
   },
   {
    "duration": 57,
    "start_time": "2023-05-20T17:29:56.095Z"
   },
   {
    "duration": 23,
    "start_time": "2023-05-20T17:30:41.724Z"
   },
   {
    "duration": 5,
    "start_time": "2023-05-20T17:31:25.897Z"
   },
   {
    "duration": 24,
    "start_time": "2023-05-20T17:31:28.466Z"
   },
   {
    "duration": 14,
    "start_time": "2023-05-20T17:32:10.062Z"
   },
   {
    "duration": 147,
    "start_time": "2023-05-20T17:35:21.482Z"
   },
   {
    "duration": 129,
    "start_time": "2023-05-20T17:35:49.153Z"
   },
   {
    "duration": 5,
    "start_time": "2023-05-20T17:35:57.870Z"
   },
   {
    "duration": 13,
    "start_time": "2023-05-20T17:35:59.912Z"
   },
   {
    "duration": 2026,
    "start_time": "2023-05-20T17:37:04.595Z"
   },
   {
    "duration": 7,
    "start_time": "2023-05-20T17:37:22.689Z"
   },
   {
    "duration": 15,
    "start_time": "2023-05-20T17:37:24.806Z"
   },
   {
    "duration": 11,
    "start_time": "2023-05-20T17:37:56.790Z"
   },
   {
    "duration": 3824,
    "start_time": "2023-05-20T17:38:21.473Z"
   },
   {
    "duration": 5,
    "start_time": "2023-05-20T17:38:25.301Z"
   },
   {
    "duration": 18,
    "start_time": "2023-05-20T17:38:25.309Z"
   },
   {
    "duration": 9,
    "start_time": "2023-05-20T17:38:25.330Z"
   },
   {
    "duration": 999,
    "start_time": "2023-05-20T17:38:25.342Z"
   },
   {
    "duration": 52,
    "start_time": "2023-05-20T17:38:26.343Z"
   },
   {
    "duration": 8,
    "start_time": "2023-05-20T17:38:26.397Z"
   },
   {
    "duration": 13,
    "start_time": "2023-05-20T17:38:26.408Z"
   },
   {
    "duration": 70,
    "start_time": "2023-05-20T17:38:26.423Z"
   },
   {
    "duration": 14,
    "start_time": "2023-05-20T17:38:26.497Z"
   },
   {
    "duration": 7,
    "start_time": "2023-05-20T17:38:26.513Z"
   },
   {
    "duration": 19,
    "start_time": "2023-05-20T17:38:26.522Z"
   },
   {
    "duration": 46,
    "start_time": "2023-05-20T17:38:26.543Z"
   },
   {
    "duration": 5,
    "start_time": "2023-05-20T17:38:26.593Z"
   },
   {
    "duration": 18,
    "start_time": "2023-05-20T17:38:26.600Z"
   },
   {
    "duration": 69,
    "start_time": "2023-05-20T17:38:26.620Z"
   },
   {
    "duration": 8,
    "start_time": "2023-05-20T17:38:26.691Z"
   },
   {
    "duration": 9,
    "start_time": "2023-05-20T17:38:26.701Z"
   },
   {
    "duration": 20,
    "start_time": "2023-05-20T17:38:26.712Z"
   },
   {
    "duration": 12,
    "start_time": "2023-05-20T17:38:26.734Z"
   },
   {
    "duration": 9,
    "start_time": "2023-05-20T17:38:26.775Z"
   },
   {
    "duration": 20,
    "start_time": "2023-05-20T17:38:26.786Z"
   },
   {
    "duration": 5,
    "start_time": "2023-05-20T17:38:26.809Z"
   },
   {
    "duration": 41,
    "start_time": "2023-05-20T17:38:26.816Z"
   },
   {
    "duration": 11539,
    "start_time": "2023-05-20T17:38:26.860Z"
   },
   {
    "duration": 8,
    "start_time": "2023-05-20T17:38:38.401Z"
   },
   {
    "duration": 15,
    "start_time": "2023-05-20T17:38:38.411Z"
   },
   {
    "duration": 4,
    "start_time": "2023-05-20T17:38:38.429Z"
   },
   {
    "duration": 404,
    "start_time": "2023-05-20T17:38:38.435Z"
   },
   {
    "duration": 16,
    "start_time": "2023-05-20T17:38:38.841Z"
   },
   {
    "duration": 30,
    "start_time": "2023-05-20T17:38:38.859Z"
   },
   {
    "duration": 2590,
    "start_time": "2023-05-20T17:43:52.559Z"
   },
   {
    "duration": 5,
    "start_time": "2023-05-20T17:43:55.153Z"
   },
   {
    "duration": 16,
    "start_time": "2023-05-20T17:43:55.160Z"
   },
   {
    "duration": 41,
    "start_time": "2023-05-20T17:43:55.181Z"
   },
   {
    "duration": 1171,
    "start_time": "2023-05-20T17:43:55.226Z"
   },
   {
    "duration": 54,
    "start_time": "2023-05-20T17:43:56.400Z"
   },
   {
    "duration": 28,
    "start_time": "2023-05-20T17:43:56.456Z"
   },
   {
    "duration": 34,
    "start_time": "2023-05-20T17:43:56.487Z"
   },
   {
    "duration": 56,
    "start_time": "2023-05-20T17:43:56.523Z"
   },
   {
    "duration": 25,
    "start_time": "2023-05-20T17:43:56.583Z"
   },
   {
    "duration": 12,
    "start_time": "2023-05-20T17:43:56.610Z"
   },
   {
    "duration": 15,
    "start_time": "2023-05-20T17:43:56.624Z"
   },
   {
    "duration": 15,
    "start_time": "2023-05-20T17:43:56.642Z"
   },
   {
    "duration": 22,
    "start_time": "2023-05-20T17:43:56.660Z"
   },
   {
    "duration": 20,
    "start_time": "2023-05-20T17:43:56.689Z"
   },
   {
    "duration": 39,
    "start_time": "2023-05-20T17:43:56.711Z"
   },
   {
    "duration": 6,
    "start_time": "2023-05-20T17:43:56.752Z"
   },
   {
    "duration": 15,
    "start_time": "2023-05-20T17:43:56.760Z"
   },
   {
    "duration": 38,
    "start_time": "2023-05-20T17:43:56.778Z"
   },
   {
    "duration": 13,
    "start_time": "2023-05-20T17:43:56.818Z"
   },
   {
    "duration": 5,
    "start_time": "2023-05-20T17:43:56.833Z"
   },
   {
    "duration": 26,
    "start_time": "2023-05-20T17:43:56.840Z"
   },
   {
    "duration": 6,
    "start_time": "2023-05-20T17:43:56.868Z"
   },
   {
    "duration": 46,
    "start_time": "2023-05-20T17:43:56.876Z"
   },
   {
    "duration": 107,
    "start_time": "2023-05-20T17:45:38.522Z"
   },
   {
    "duration": 13942,
    "start_time": "2023-05-20T17:45:46.397Z"
   },
   {
    "duration": 12971,
    "start_time": "2023-05-20T17:46:33.293Z"
   },
   {
    "duration": 1722,
    "start_time": "2023-05-20T17:47:23.121Z"
   },
   {
    "duration": 11346,
    "start_time": "2023-05-20T17:47:41.085Z"
   },
   {
    "duration": 12254,
    "start_time": "2023-05-20T17:48:08.070Z"
   },
   {
    "duration": 8052,
    "start_time": "2023-05-20T17:49:17.185Z"
   },
   {
    "duration": 4642,
    "start_time": "2023-05-20T17:50:24.108Z"
   },
   {
    "duration": 3414,
    "start_time": "2023-05-20T17:50:40.553Z"
   },
   {
    "duration": 15,
    "start_time": "2023-05-20T17:50:43.969Z"
   },
   {
    "duration": 11,
    "start_time": "2023-05-20T17:50:43.989Z"
   },
   {
    "duration": 40,
    "start_time": "2023-05-20T17:50:44.003Z"
   },
   {
    "duration": 922,
    "start_time": "2023-05-20T17:50:44.045Z"
   },
   {
    "duration": 47,
    "start_time": "2023-05-20T17:50:44.969Z"
   },
   {
    "duration": 9,
    "start_time": "2023-05-20T17:50:45.018Z"
   },
   {
    "duration": 33,
    "start_time": "2023-05-20T17:50:45.028Z"
   },
   {
    "duration": 72,
    "start_time": "2023-05-20T17:50:45.063Z"
   },
   {
    "duration": 14,
    "start_time": "2023-05-20T17:50:45.139Z"
   },
   {
    "duration": 7,
    "start_time": "2023-05-20T17:50:45.155Z"
   },
   {
    "duration": 34,
    "start_time": "2023-05-20T17:50:45.164Z"
   },
   {
    "duration": 18,
    "start_time": "2023-05-20T17:50:45.200Z"
   },
   {
    "duration": 7,
    "start_time": "2023-05-20T17:50:45.220Z"
   },
   {
    "duration": 26,
    "start_time": "2023-05-20T17:50:45.229Z"
   },
   {
    "duration": 73,
    "start_time": "2023-05-20T17:50:45.257Z"
   },
   {
    "duration": 6,
    "start_time": "2023-05-20T17:50:45.332Z"
   },
   {
    "duration": 10,
    "start_time": "2023-05-20T17:50:45.340Z"
   },
   {
    "duration": 32,
    "start_time": "2023-05-20T17:50:45.352Z"
   },
   {
    "duration": 23,
    "start_time": "2023-05-20T17:50:45.387Z"
   },
   {
    "duration": 5,
    "start_time": "2023-05-20T17:50:45.412Z"
   },
   {
    "duration": 51,
    "start_time": "2023-05-20T17:50:45.419Z"
   },
   {
    "duration": 21,
    "start_time": "2023-05-20T17:50:45.473Z"
   },
   {
    "duration": 27,
    "start_time": "2023-05-20T17:50:45.496Z"
   },
   {
    "duration": 4287,
    "start_time": "2023-05-20T17:50:45.526Z"
   },
   {
    "duration": 11,
    "start_time": "2023-05-20T17:50:49.815Z"
   },
   {
    "duration": 36,
    "start_time": "2023-05-20T17:50:49.828Z"
   },
   {
    "duration": 31,
    "start_time": "2023-05-20T17:50:49.867Z"
   },
   {
    "duration": 407,
    "start_time": "2023-05-20T17:50:49.899Z"
   },
   {
    "duration": 16,
    "start_time": "2023-05-20T17:50:50.307Z"
   },
   {
    "duration": 18,
    "start_time": "2023-05-20T17:50:50.325Z"
   },
   {
    "duration": 15,
    "start_time": "2023-05-20T17:53:04.257Z"
   },
   {
    "duration": 3,
    "start_time": "2023-05-20T17:53:18.123Z"
   },
   {
    "duration": 10,
    "start_time": "2023-05-20T17:53:24.559Z"
   },
   {
    "duration": 23,
    "start_time": "2023-05-20T17:54:21.798Z"
   },
   {
    "duration": 19,
    "start_time": "2023-05-20T17:54:29.990Z"
   },
   {
    "duration": 17,
    "start_time": "2023-05-20T17:54:42.697Z"
   },
   {
    "duration": 627,
    "start_time": "2023-05-20T17:54:52.553Z"
   },
   {
    "duration": 1773,
    "start_time": "2023-05-20T17:54:56.069Z"
   },
   {
    "duration": 19,
    "start_time": "2023-05-20T17:56:31.571Z"
   },
   {
    "duration": 4,
    "start_time": "2023-05-20T17:56:32.261Z"
   },
   {
    "duration": 3,
    "start_time": "2023-05-20T17:56:33.426Z"
   },
   {
    "duration": 387,
    "start_time": "2023-05-20T17:56:33.777Z"
   },
   {
    "duration": 16,
    "start_time": "2023-05-20T17:56:35.619Z"
   },
   {
    "duration": 29,
    "start_time": "2023-05-20T17:56:38.166Z"
   },
   {
    "duration": 5,
    "start_time": "2023-05-20T17:58:57.121Z"
   },
   {
    "duration": 20,
    "start_time": "2023-05-20T17:58:57.675Z"
   },
   {
    "duration": 13,
    "start_time": "2023-05-20T17:58:59.969Z"
   },
   {
    "duration": 3549,
    "start_time": "2023-05-21T04:18:16.114Z"
   },
   {
    "duration": 1479,
    "start_time": "2023-05-21T04:18:19.666Z"
   },
   {
    "duration": 3,
    "start_time": "2023-05-21T04:18:21.146Z"
   },
   {
    "duration": 9,
    "start_time": "2023-05-21T04:18:21.151Z"
   },
   {
    "duration": 1030,
    "start_time": "2023-05-21T04:18:21.161Z"
   },
   {
    "duration": 51,
    "start_time": "2023-05-21T04:18:22.193Z"
   },
   {
    "duration": 6,
    "start_time": "2023-05-21T04:18:22.246Z"
   },
   {
    "duration": 4,
    "start_time": "2023-05-21T04:18:22.254Z"
   },
   {
    "duration": 63,
    "start_time": "2023-05-21T04:18:22.259Z"
   },
   {
    "duration": 10,
    "start_time": "2023-05-21T04:18:22.325Z"
   },
   {
    "duration": 5,
    "start_time": "2023-05-21T04:18:22.337Z"
   },
   {
    "duration": 11,
    "start_time": "2023-05-21T04:18:22.343Z"
   },
   {
    "duration": 9,
    "start_time": "2023-05-21T04:18:22.355Z"
   },
   {
    "duration": 4,
    "start_time": "2023-05-21T04:18:22.365Z"
   },
   {
    "duration": 26,
    "start_time": "2023-05-21T04:18:22.371Z"
   },
   {
    "duration": 41,
    "start_time": "2023-05-21T04:18:22.399Z"
   },
   {
    "duration": 5,
    "start_time": "2023-05-21T04:18:22.442Z"
   },
   {
    "duration": 5,
    "start_time": "2023-05-21T04:18:22.448Z"
   },
   {
    "duration": 13,
    "start_time": "2023-05-21T04:18:22.455Z"
   },
   {
    "duration": 40,
    "start_time": "2023-05-21T04:18:22.469Z"
   },
   {
    "duration": 7,
    "start_time": "2023-05-21T04:18:22.512Z"
   },
   {
    "duration": 13,
    "start_time": "2023-05-21T04:18:22.520Z"
   },
   {
    "duration": 3,
    "start_time": "2023-05-21T04:18:22.535Z"
   },
   {
    "duration": 13,
    "start_time": "2023-05-21T04:18:22.540Z"
   },
   {
    "duration": 3730,
    "start_time": "2023-05-21T04:18:22.554Z"
   },
   {
    "duration": 465,
    "start_time": "2023-05-21T04:18:26.285Z"
   },
   {
    "duration": 1407,
    "start_time": "2023-05-21T04:18:26.752Z"
   },
   {
    "duration": 8,
    "start_time": "2023-05-21T04:24:18.891Z"
   },
   {
    "duration": 4,
    "start_time": "2023-05-21T04:24:19.636Z"
   },
   {
    "duration": 3,
    "start_time": "2023-05-21T04:24:21.247Z"
   },
   {
    "duration": 526,
    "start_time": "2023-05-21T04:24:21.812Z"
   },
   {
    "duration": 24,
    "start_time": "2023-05-21T04:24:23.499Z"
   },
   {
    "duration": 11,
    "start_time": "2023-05-21T04:24:33.063Z"
   },
   {
    "duration": 4,
    "start_time": "2023-05-21T04:24:45.925Z"
   },
   {
    "duration": 13,
    "start_time": "2023-05-21T04:24:47.139Z"
   },
   {
    "duration": 9,
    "start_time": "2023-05-21T04:24:48.057Z"
   },
   {
    "duration": 2060,
    "start_time": "2023-05-21T04:32:29.121Z"
   },
   {
    "duration": 1175,
    "start_time": "2023-05-21T04:32:31.183Z"
   },
   {
    "duration": 3,
    "start_time": "2023-05-21T04:32:32.359Z"
   },
   {
    "duration": 31,
    "start_time": "2023-05-21T04:32:32.364Z"
   },
   {
    "duration": 810,
    "start_time": "2023-05-21T04:32:32.396Z"
   },
   {
    "duration": 36,
    "start_time": "2023-05-21T04:32:33.207Z"
   },
   {
    "duration": 8,
    "start_time": "2023-05-21T04:32:33.245Z"
   },
   {
    "duration": 5,
    "start_time": "2023-05-21T04:32:33.255Z"
   },
   {
    "duration": 53,
    "start_time": "2023-05-21T04:32:33.262Z"
   },
   {
    "duration": 11,
    "start_time": "2023-05-21T04:32:33.317Z"
   },
   {
    "duration": 5,
    "start_time": "2023-05-21T04:32:33.330Z"
   },
   {
    "duration": 12,
    "start_time": "2023-05-21T04:32:33.336Z"
   },
   {
    "duration": 9,
    "start_time": "2023-05-21T04:32:33.349Z"
   },
   {
    "duration": 4,
    "start_time": "2023-05-21T04:32:33.359Z"
   },
   {
    "duration": 31,
    "start_time": "2023-05-21T04:32:33.364Z"
   },
   {
    "duration": 30,
    "start_time": "2023-05-21T04:32:33.397Z"
   },
   {
    "duration": 4,
    "start_time": "2023-05-21T04:32:33.429Z"
   },
   {
    "duration": 8,
    "start_time": "2023-05-21T04:32:33.435Z"
   },
   {
    "duration": 12,
    "start_time": "2023-05-21T04:32:33.444Z"
   },
   {
    "duration": 16,
    "start_time": "2023-05-21T04:32:33.458Z"
   },
   {
    "duration": 19,
    "start_time": "2023-05-21T04:32:33.476Z"
   },
   {
    "duration": 11,
    "start_time": "2023-05-21T04:32:33.496Z"
   },
   {
    "duration": 3,
    "start_time": "2023-05-21T04:32:33.509Z"
   },
   {
    "duration": 12,
    "start_time": "2023-05-21T04:32:33.514Z"
   },
   {
    "duration": 3044,
    "start_time": "2023-05-21T04:32:33.527Z"
   },
   {
    "duration": 401,
    "start_time": "2023-05-21T04:32:36.573Z"
   },
   {
    "duration": 1296,
    "start_time": "2023-05-21T04:32:36.975Z"
   },
   {
    "duration": 7,
    "start_time": "2023-05-21T04:32:38.274Z"
   },
   {
    "duration": 4,
    "start_time": "2023-05-21T04:32:38.294Z"
   },
   {
    "duration": 7,
    "start_time": "2023-05-21T04:32:38.299Z"
   },
   {
    "duration": 291,
    "start_time": "2023-05-21T04:32:38.308Z"
   },
   {
    "duration": 14,
    "start_time": "2023-05-21T04:32:38.600Z"
   },
   {
    "duration": 14,
    "start_time": "2023-05-21T04:32:38.616Z"
   },
   {
    "duration": 13,
    "start_time": "2023-05-21T04:32:38.632Z"
   },
   {
    "duration": 25,
    "start_time": "2023-05-21T04:32:38.647Z"
   },
   {
    "duration": 11,
    "start_time": "2023-05-21T04:32:38.673Z"
   }
  ],
  "kernelspec": {
   "display_name": "Python 3 (ipykernel)",
   "language": "python",
   "name": "python3"
  },
  "language_info": {
   "codemirror_mode": {
    "name": "ipython",
    "version": 3
   },
   "file_extension": ".py",
   "mimetype": "text/x-python",
   "name": "python",
   "nbconvert_exporter": "python",
   "pygments_lexer": "ipython3",
   "version": "3.9.13"
  },
  "toc": {
   "base_numbering": 1,
   "nav_menu": {},
   "number_sections": true,
   "sideBar": true,
   "skip_h1_title": true,
   "title_cell": "Оглавление",
   "title_sidebar": "Contents",
   "toc_cell": true,
   "toc_position": {
    "height": "calc(100% - 180px)",
    "left": "10px",
    "top": "150px",
    "width": "254px"
   },
   "toc_section_display": true,
   "toc_window_display": true
  }
 },
 "nbformat": 4,
 "nbformat_minor": 2
}
