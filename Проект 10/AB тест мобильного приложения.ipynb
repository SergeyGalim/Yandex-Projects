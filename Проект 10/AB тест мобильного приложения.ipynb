{
 "cells": [
  {
   "cell_type": "markdown",
   "metadata": {},
   "source": [
    "<center><b><font size=\"5\">Проект 10: A/B тест мобильного приложения</font></b></center>"
   ]
  },
  {
   "cell_type": "markdown",
   "metadata": {
    "toc": true
   },
   "source": [
    "<h1>Содержание<span class=\"tocSkip\"></span></h1>\n",
    "<div class=\"toc\"><ul class=\"toc-item\"><li><span><a href=\"#Общая-информация-о-данных\" data-toc-modified-id=\"Общая-информация-о-данных-1\"><span class=\"toc-item-num\">1&nbsp;&nbsp;</span>Общая информация о данных</a></span></li><li><span><a href=\"#Подготовка-данных\" data-toc-modified-id=\"Подготовка-данных-2\"><span class=\"toc-item-num\">2&nbsp;&nbsp;</span>Подготовка данных</a></span><ul class=\"toc-item\"><li><span><a href=\"#Замена-названия-столбцов\" data-toc-modified-id=\"Замена-названия-столбцов-2.1\"><span class=\"toc-item-num\">2.1&nbsp;&nbsp;</span>Замена названия столбцов</a></span></li><li><span><a href=\"#Замена-типов-данных\" data-toc-modified-id=\"Замена-типов-данных-2.2\"><span class=\"toc-item-num\">2.2&nbsp;&nbsp;</span>Замена типов данных</a></span></li><li><span><a href=\"#Добавление-столбца-дат\" data-toc-modified-id=\"Добавление-столбца-дат-2.3\"><span class=\"toc-item-num\">2.3&nbsp;&nbsp;</span>Добавление столбца дат</a></span></li></ul></li><li><span><a href=\"#Изучение-и-проверка-данных\" data-toc-modified-id=\"Изучение-и-проверка-данных-3\"><span class=\"toc-item-num\">3&nbsp;&nbsp;</span>Изучение и проверка данных</a></span><ul class=\"toc-item\"><li><span><a href=\"#Количество-событий-в-логе\" data-toc-modified-id=\"Количество-событий-в-логе-3.1\"><span class=\"toc-item-num\">3.1&nbsp;&nbsp;</span>Количество событий в логе</a></span></li><li><span><a href=\"#Количество-пользователей-в-логе\" data-toc-modified-id=\"Количество-пользователей-в-логе-3.2\"><span class=\"toc-item-num\">3.2&nbsp;&nbsp;</span>Количество пользователей в логе</a></span></li><li><span><a href=\"#Среднее-количество-событий-на-пользователя\" data-toc-modified-id=\"Среднее-количество-событий-на-пользователя-3.3\"><span class=\"toc-item-num\">3.3&nbsp;&nbsp;</span>Среднее количество событий на пользователя</a></span></li><li><span><a href=\"#Период-данных\" data-toc-modified-id=\"Период-данных-3.4\"><span class=\"toc-item-num\">3.4&nbsp;&nbsp;</span>Период данных</a></span></li><li><span><a href=\"#Пользователи-в-трех-экспериментальных-группах\" data-toc-modified-id=\"Пользователи-в-трех-экспериментальных-группах-3.5\"><span class=\"toc-item-num\">3.5&nbsp;&nbsp;</span>Пользователи в трех экспериментальных группах</a></span></li></ul></li><li><span><a href=\"#Воронка-событий\" data-toc-modified-id=\"Воронка-событий-4\"><span class=\"toc-item-num\">4&nbsp;&nbsp;</span>Воронка событий</a></span><ul class=\"toc-item\"><li><span><a href=\"#События-по-частоте\" data-toc-modified-id=\"События-по-частоте-4.1\"><span class=\"toc-item-num\">4.1&nbsp;&nbsp;</span>События по частоте</a></span></li><li><span><a href=\"#Количество-пользователей-на-событие\" data-toc-modified-id=\"Количество-пользователей-на-событие-4.2\"><span class=\"toc-item-num\">4.2&nbsp;&nbsp;</span>Количество пользователей на событие</a></span></li><li><span><a href=\"#Доля-пользователей-по-отношению-к-предыдущему-шагу\" data-toc-modified-id=\"Доля-пользователей-по-отношению-к-предыдущему-шагу-4.3\"><span class=\"toc-item-num\">4.3&nbsp;&nbsp;</span>Доля пользователей по отношению к предыдущему шагу</a></span></li></ul></li><li><span><a href=\"#Изучение-результатов-эксперимента\" data-toc-modified-id=\"Изучение-результатов-эксперимента-5\"><span class=\"toc-item-num\">5&nbsp;&nbsp;</span>Изучение результатов эксперимента</a></span><ul class=\"toc-item\"><li><span><a href=\"#Количество-пользователей-в-каждой-экспериментальной-группе\" data-toc-modified-id=\"Количество-пользователей-в-каждой-экспериментальной-группе-5.1\"><span class=\"toc-item-num\">5.1&nbsp;&nbsp;</span>Количество пользователей в каждой экспериментальной группе</a></span></li><li><span><a href=\"#A/B-тест\" data-toc-modified-id=\"A/B-тест-5.2\"><span class=\"toc-item-num\">5.2&nbsp;&nbsp;</span>A/B тест</a></span></li></ul></li><li><span><a href=\"#Вывод\" data-toc-modified-id=\"Вывод-6\"><span class=\"toc-item-num\">6&nbsp;&nbsp;</span>Вывод</a></span></li></ul></div>"
   ]
  },
  {
   "cell_type": "markdown",
   "metadata": {},
   "source": [
    "### Общая информация о данных"
   ]
  },
  {
   "cell_type": "code",
   "execution_count": 106,
   "metadata": {},
   "outputs": [],
   "source": [
    "# загрузим необходимые библиотеки\n",
    "import pandas as pd\n",
    "import numpy as np\n",
    "from datetime import datetime as dt\n",
    "import matplotlib.pyplot as plt\n",
    "import seaborn as sns\n",
    "import plotly.express as px\n",
    "from plotly import graph_objects as go\n",
    "import scipy.stats as st\n",
    "from statsmodels.stats.proportion import proportions_ztest\n",
    "import math as mth\n",
    "import warnings\n",
    "warnings.filterwarnings('ignore')\n",
    "pd.set_option('display.max_colwidth', None)\n",
    "plt.rcParams['figure.figsize'] = (10, 7)"
   ]
  },
  {
   "cell_type": "code",
   "execution_count": 107,
   "metadata": {},
   "outputs": [
    {
     "data": {
      "text/html": [
       "<div>\n",
       "<style scoped>\n",
       "    .dataframe tbody tr th:only-of-type {\n",
       "        vertical-align: middle;\n",
       "    }\n",
       "\n",
       "    .dataframe tbody tr th {\n",
       "        vertical-align: top;\n",
       "    }\n",
       "\n",
       "    .dataframe thead th {\n",
       "        text-align: right;\n",
       "    }\n",
       "</style>\n",
       "<table border=\"1\" class=\"dataframe\">\n",
       "  <thead>\n",
       "    <tr style=\"text-align: right;\">\n",
       "      <th></th>\n",
       "      <th>EventName</th>\n",
       "      <th>DeviceIDHash</th>\n",
       "      <th>EventTimestamp</th>\n",
       "      <th>ExpId</th>\n",
       "    </tr>\n",
       "  </thead>\n",
       "  <tbody>\n",
       "    <tr>\n",
       "      <th>0</th>\n",
       "      <td>MainScreenAppear</td>\n",
       "      <td>4575588528974610257</td>\n",
       "      <td>1564029816</td>\n",
       "      <td>246</td>\n",
       "    </tr>\n",
       "    <tr>\n",
       "      <th>1</th>\n",
       "      <td>MainScreenAppear</td>\n",
       "      <td>7416695313311560658</td>\n",
       "      <td>1564053102</td>\n",
       "      <td>246</td>\n",
       "    </tr>\n",
       "    <tr>\n",
       "      <th>2</th>\n",
       "      <td>PaymentScreenSuccessful</td>\n",
       "      <td>3518123091307005509</td>\n",
       "      <td>1564054127</td>\n",
       "      <td>248</td>\n",
       "    </tr>\n",
       "    <tr>\n",
       "      <th>3</th>\n",
       "      <td>CartScreenAppear</td>\n",
       "      <td>3518123091307005509</td>\n",
       "      <td>1564054127</td>\n",
       "      <td>248</td>\n",
       "    </tr>\n",
       "    <tr>\n",
       "      <th>4</th>\n",
       "      <td>PaymentScreenSuccessful</td>\n",
       "      <td>6217807653094995999</td>\n",
       "      <td>1564055322</td>\n",
       "      <td>248</td>\n",
       "    </tr>\n",
       "  </tbody>\n",
       "</table>\n",
       "</div>"
      ],
      "text/plain": [
       "                 EventName         DeviceIDHash  EventTimestamp  ExpId\n",
       "0         MainScreenAppear  4575588528974610257      1564029816    246\n",
       "1         MainScreenAppear  7416695313311560658      1564053102    246\n",
       "2  PaymentScreenSuccessful  3518123091307005509      1564054127    248\n",
       "3         CartScreenAppear  3518123091307005509      1564054127    248\n",
       "4  PaymentScreenSuccessful  6217807653094995999      1564055322    248"
      ]
     },
     "execution_count": 107,
     "metadata": {},
     "output_type": "execute_result"
    }
   ],
   "source": [
    "# выгрузим датасет в переменную df\n",
    "df = pd.read_csv('data.csv', sep='\\t')\n",
    "df.head()"
   ]
  },
  {
   "cell_type": "code",
   "execution_count": 108,
   "metadata": {},
   "outputs": [
    {
     "name": "stdout",
     "output_type": "stream",
     "text": [
      "<class 'pandas.core.frame.DataFrame'>\n",
      "RangeIndex: 244126 entries, 0 to 244125\n",
      "Data columns (total 4 columns):\n",
      " #   Column          Non-Null Count   Dtype \n",
      "---  ------          --------------   ----- \n",
      " 0   EventName       244126 non-null  object\n",
      " 1   DeviceIDHash    244126 non-null  int64 \n",
      " 2   EventTimestamp  244126 non-null  int64 \n",
      " 3   ExpId           244126 non-null  int64 \n",
      "dtypes: int64(3), object(1)\n",
      "memory usage: 7.5+ MB\n"
     ]
    }
   ],
   "source": [
    "df.info()"
   ]
  },
  {
   "cell_type": "markdown",
   "metadata": {},
   "source": [
    "По информации из датасета можно сказать, что в даннных нет пропусков и нулевых значений, названия столбцов необходимо привести к нижнему регистру и переименовать, указать правильный формат даты и привести ее к нужному типу данных."
   ]
  },
  {
   "cell_type": "markdown",
   "metadata": {},
   "source": [
    "### Подготовка данных"
   ]
  },
  {
   "cell_type": "markdown",
   "metadata": {},
   "source": [
    "#### Замена названия столбцов"
   ]
  },
  {
   "cell_type": "code",
   "execution_count": 109,
   "metadata": {},
   "outputs": [],
   "source": [
    "# заменим названия столбцов\n",
    "df.columns = ['event_name', 'user_id', 'event_time', 'group']"
   ]
  },
  {
   "cell_type": "code",
   "execution_count": 110,
   "metadata": {},
   "outputs": [
    {
     "data": {
      "text/html": [
       "<div>\n",
       "<style scoped>\n",
       "    .dataframe tbody tr th:only-of-type {\n",
       "        vertical-align: middle;\n",
       "    }\n",
       "\n",
       "    .dataframe tbody tr th {\n",
       "        vertical-align: top;\n",
       "    }\n",
       "\n",
       "    .dataframe thead th {\n",
       "        text-align: right;\n",
       "    }\n",
       "</style>\n",
       "<table border=\"1\" class=\"dataframe\">\n",
       "  <thead>\n",
       "    <tr style=\"text-align: right;\">\n",
       "      <th></th>\n",
       "      <th>event_name</th>\n",
       "      <th>user_id</th>\n",
       "      <th>event_time</th>\n",
       "      <th>group</th>\n",
       "    </tr>\n",
       "  </thead>\n",
       "  <tbody>\n",
       "    <tr>\n",
       "      <th>0</th>\n",
       "      <td>MainScreenAppear</td>\n",
       "      <td>4575588528974610257</td>\n",
       "      <td>1564029816</td>\n",
       "      <td>246</td>\n",
       "    </tr>\n",
       "    <tr>\n",
       "      <th>1</th>\n",
       "      <td>MainScreenAppear</td>\n",
       "      <td>7416695313311560658</td>\n",
       "      <td>1564053102</td>\n",
       "      <td>246</td>\n",
       "    </tr>\n",
       "    <tr>\n",
       "      <th>2</th>\n",
       "      <td>PaymentScreenSuccessful</td>\n",
       "      <td>3518123091307005509</td>\n",
       "      <td>1564054127</td>\n",
       "      <td>248</td>\n",
       "    </tr>\n",
       "    <tr>\n",
       "      <th>3</th>\n",
       "      <td>CartScreenAppear</td>\n",
       "      <td>3518123091307005509</td>\n",
       "      <td>1564054127</td>\n",
       "      <td>248</td>\n",
       "    </tr>\n",
       "    <tr>\n",
       "      <th>4</th>\n",
       "      <td>PaymentScreenSuccessful</td>\n",
       "      <td>6217807653094995999</td>\n",
       "      <td>1564055322</td>\n",
       "      <td>248</td>\n",
       "    </tr>\n",
       "  </tbody>\n",
       "</table>\n",
       "</div>"
      ],
      "text/plain": [
       "                event_name              user_id  event_time  group\n",
       "0         MainScreenAppear  4575588528974610257  1564029816    246\n",
       "1         MainScreenAppear  7416695313311560658  1564053102    246\n",
       "2  PaymentScreenSuccessful  3518123091307005509  1564054127    248\n",
       "3         CartScreenAppear  3518123091307005509  1564054127    248\n",
       "4  PaymentScreenSuccessful  6217807653094995999  1564055322    248"
      ]
     },
     "execution_count": 110,
     "metadata": {},
     "output_type": "execute_result"
    }
   ],
   "source": [
    "df.head()"
   ]
  },
  {
   "cell_type": "markdown",
   "metadata": {},
   "source": [
    "#### Замена типов данных"
   ]
  },
  {
   "cell_type": "code",
   "execution_count": 111,
   "metadata": {},
   "outputs": [],
   "source": [
    "# переведем дату из формата unix в дату и время\n",
    "df['event_time'] = pd.to_datetime(df['event_time'], unit='s')"
   ]
  },
  {
   "cell_type": "code",
   "execution_count": 112,
   "metadata": {},
   "outputs": [
    {
     "name": "stdout",
     "output_type": "stream",
     "text": [
      "<class 'pandas.core.frame.DataFrame'>\n",
      "RangeIndex: 244126 entries, 0 to 244125\n",
      "Data columns (total 4 columns):\n",
      " #   Column      Non-Null Count   Dtype         \n",
      "---  ------      --------------   -----         \n",
      " 0   event_name  244126 non-null  object        \n",
      " 1   user_id     244126 non-null  int64         \n",
      " 2   event_time  244126 non-null  datetime64[ns]\n",
      " 3   group       244126 non-null  int64         \n",
      "dtypes: datetime64[ns](1), int64(2), object(1)\n",
      "memory usage: 7.5+ MB\n"
     ]
    }
   ],
   "source": [
    "df.head()\n",
    "df.info()"
   ]
  },
  {
   "cell_type": "markdown",
   "metadata": {},
   "source": [
    "#### Добавление столбца дат"
   ]
  },
  {
   "cell_type": "code",
   "execution_count": 113,
   "metadata": {},
   "outputs": [],
   "source": [
    "df['date'] = df['event_time'].dt.date"
   ]
  },
  {
   "cell_type": "code",
   "execution_count": 114,
   "metadata": {},
   "outputs": [
    {
     "data": {
      "text/html": [
       "<div>\n",
       "<style scoped>\n",
       "    .dataframe tbody tr th:only-of-type {\n",
       "        vertical-align: middle;\n",
       "    }\n",
       "\n",
       "    .dataframe tbody tr th {\n",
       "        vertical-align: top;\n",
       "    }\n",
       "\n",
       "    .dataframe thead th {\n",
       "        text-align: right;\n",
       "    }\n",
       "</style>\n",
       "<table border=\"1\" class=\"dataframe\">\n",
       "  <thead>\n",
       "    <tr style=\"text-align: right;\">\n",
       "      <th></th>\n",
       "      <th>event_name</th>\n",
       "      <th>user_id</th>\n",
       "      <th>event_time</th>\n",
       "      <th>group</th>\n",
       "      <th>date</th>\n",
       "    </tr>\n",
       "  </thead>\n",
       "  <tbody>\n",
       "    <tr>\n",
       "      <th>0</th>\n",
       "      <td>MainScreenAppear</td>\n",
       "      <td>4575588528974610257</td>\n",
       "      <td>2019-07-25 04:43:36</td>\n",
       "      <td>246</td>\n",
       "      <td>2019-07-25</td>\n",
       "    </tr>\n",
       "    <tr>\n",
       "      <th>1</th>\n",
       "      <td>MainScreenAppear</td>\n",
       "      <td>7416695313311560658</td>\n",
       "      <td>2019-07-25 11:11:42</td>\n",
       "      <td>246</td>\n",
       "      <td>2019-07-25</td>\n",
       "    </tr>\n",
       "    <tr>\n",
       "      <th>2</th>\n",
       "      <td>PaymentScreenSuccessful</td>\n",
       "      <td>3518123091307005509</td>\n",
       "      <td>2019-07-25 11:28:47</td>\n",
       "      <td>248</td>\n",
       "      <td>2019-07-25</td>\n",
       "    </tr>\n",
       "    <tr>\n",
       "      <th>3</th>\n",
       "      <td>CartScreenAppear</td>\n",
       "      <td>3518123091307005509</td>\n",
       "      <td>2019-07-25 11:28:47</td>\n",
       "      <td>248</td>\n",
       "      <td>2019-07-25</td>\n",
       "    </tr>\n",
       "    <tr>\n",
       "      <th>4</th>\n",
       "      <td>PaymentScreenSuccessful</td>\n",
       "      <td>6217807653094995999</td>\n",
       "      <td>2019-07-25 11:48:42</td>\n",
       "      <td>248</td>\n",
       "      <td>2019-07-25</td>\n",
       "    </tr>\n",
       "  </tbody>\n",
       "</table>\n",
       "</div>"
      ],
      "text/plain": [
       "                event_name              user_id          event_time  group  \\\n",
       "0         MainScreenAppear  4575588528974610257 2019-07-25 04:43:36    246   \n",
       "1         MainScreenAppear  7416695313311560658 2019-07-25 11:11:42    246   \n",
       "2  PaymentScreenSuccessful  3518123091307005509 2019-07-25 11:28:47    248   \n",
       "3         CartScreenAppear  3518123091307005509 2019-07-25 11:28:47    248   \n",
       "4  PaymentScreenSuccessful  6217807653094995999 2019-07-25 11:48:42    248   \n",
       "\n",
       "         date  \n",
       "0  2019-07-25  \n",
       "1  2019-07-25  \n",
       "2  2019-07-25  \n",
       "3  2019-07-25  \n",
       "4  2019-07-25  "
      ]
     },
     "execution_count": 114,
     "metadata": {},
     "output_type": "execute_result"
    }
   ],
   "source": [
    "df.head()"
   ]
  },
  {
   "cell_type": "code",
   "execution_count": 115,
   "metadata": {},
   "outputs": [
    {
     "data": {
      "text/plain": [
       "413"
      ]
     },
     "execution_count": 115,
     "metadata": {},
     "output_type": "execute_result"
    }
   ],
   "source": [
    "# проверим наличие дубликатов\n",
    "df.duplicated().sum()"
   ]
  },
  {
   "cell_type": "code",
   "execution_count": 116,
   "metadata": {},
   "outputs": [],
   "source": [
    "# удалим дубликаты\n",
    "df.drop_duplicates(inplace=True)"
   ]
  },
  {
   "cell_type": "code",
   "execution_count": 117,
   "metadata": {},
   "outputs": [],
   "source": [
    "df.reset_index(drop=True, inplace=True)"
   ]
  },
  {
   "cell_type": "code",
   "execution_count": 118,
   "metadata": {},
   "outputs": [
    {
     "name": "stdout",
     "output_type": "stream",
     "text": [
      "<class 'pandas.core.frame.DataFrame'>\n",
      "RangeIndex: 243713 entries, 0 to 243712\n",
      "Data columns (total 5 columns):\n",
      " #   Column      Non-Null Count   Dtype         \n",
      "---  ------      --------------   -----         \n",
      " 0   event_name  243713 non-null  object        \n",
      " 1   user_id     243713 non-null  int64         \n",
      " 2   event_time  243713 non-null  datetime64[ns]\n",
      " 3   group       243713 non-null  int64         \n",
      " 4   date        243713 non-null  object        \n",
      "dtypes: datetime64[ns](1), int64(2), object(2)\n",
      "memory usage: 9.3+ MB\n"
     ]
    }
   ],
   "source": [
    "df.info()"
   ]
  },
  {
   "cell_type": "markdown",
   "metadata": {},
   "source": [
    "В ходе предобработки данных были заменены названия столбцов на более понятный и правильный формат, заменен тип данных даты и времени событий на datetime, добавлен столбец с датой, а также удалены дубликаты."
   ]
  },
  {
   "cell_type": "markdown",
   "metadata": {},
   "source": [
    "### Изучение и проверка данных"
   ]
  },
  {
   "cell_type": "markdown",
   "metadata": {},
   "source": [
    "#### Количество событий в логе"
   ]
  },
  {
   "cell_type": "code",
   "execution_count": 119,
   "metadata": {},
   "outputs": [
    {
     "data": {
      "text/plain": [
       "5"
      ]
     },
     "execution_count": 119,
     "metadata": {},
     "output_type": "execute_result"
    }
   ],
   "source": [
    "df['event_name'].nunique()"
   ]
  },
  {
   "cell_type": "code",
   "execution_count": 120,
   "metadata": {},
   "outputs": [
    {
     "data": {
      "text/plain": [
       "array(['MainScreenAppear', 'PaymentScreenSuccessful', 'CartScreenAppear',\n",
       "       'OffersScreenAppear', 'Tutorial'], dtype=object)"
      ]
     },
     "execution_count": 120,
     "metadata": {},
     "output_type": "execute_result"
    }
   ],
   "source": [
    "df['event_name'].unique()"
   ]
  },
  {
   "cell_type": "code",
   "execution_count": 121,
   "metadata": {},
   "outputs": [
    {
     "data": {
      "text/plain": [
       "array(['Главная страница', 'Успешная оплата', 'Корзина',\n",
       "       'Страница товаров', 'Обучение'], dtype=object)"
      ]
     },
     "execution_count": 121,
     "metadata": {},
     "output_type": "execute_result"
    }
   ],
   "source": [
    "# переименуем события для удобства\n",
    "df.replace({'Tutorial': 'Обучение', 'MainScreenAppear': 'Главная страница', 'OffersScreenAppear': 'Страница товаров',\n",
    "       'CartScreenAppear': 'Корзина', 'PaymentScreenSuccessful': 'Успешная оплата'}, inplace=True)\n",
    "df['event_name'].unique()"
   ]
  },
  {
   "cell_type": "markdown",
   "metadata": {},
   "source": [
    "Всего в логе содержится информация о 5 событиях."
   ]
  },
  {
   "cell_type": "markdown",
   "metadata": {},
   "source": [
    "#### Количество пользователей в логе"
   ]
  },
  {
   "cell_type": "code",
   "execution_count": 122,
   "metadata": {},
   "outputs": [
    {
     "data": {
      "text/plain": [
       "7551"
      ]
     },
     "execution_count": 122,
     "metadata": {},
     "output_type": "execute_result"
    }
   ],
   "source": [
    "df['user_id'].nunique()"
   ]
  },
  {
   "cell_type": "markdown",
   "metadata": {},
   "source": [
    "Всего в логе 7551 пользователей. "
   ]
  },
  {
   "cell_type": "markdown",
   "metadata": {},
   "source": [
    "#### Среднее количество событий на пользователя"
   ]
  },
  {
   "cell_type": "code",
   "execution_count": 123,
   "metadata": {},
   "outputs": [
    {
     "data": {
      "image/png": "[encoded data removed]",
      "text/plain": [
       "<Figure size 1000x700 with 1 Axes>"
      ]
     },
     "metadata": {},
     "output_type": "display_data"
    }
   ],
   "source": [
    "plt.hist(df.groupby('user_id')['event_name'].count(), bins=100)\n",
    "plt.xlabel('Количество событий')\n",
    "plt.ylabel('Количество пользователей')\n",
    "plt.title('Количесвто событий на пользователя');"
   ]
  },
  {
   "cell_type": "markdown",
   "metadata": {},
   "source": [
    "По графику видно, что большинство пользователей имеет менее 100 событий. Присутствуют аномальные значения количества событий возможно слишком активных пользователей, которые могут исказить результат. Для избежания искажения используем медиану."
   ]
  },
  {
   "cell_type": "code",
   "execution_count": 124,
   "metadata": {},
   "outputs": [
    {
     "data": {
      "text/plain": [
       "20.0"
      ]
     },
     "execution_count": 124,
     "metadata": {},
     "output_type": "execute_result"
    }
   ],
   "source": [
    "df.groupby('user_id')['event_name'].count().median()"
   ]
  },
  {
   "cell_type": "markdown",
   "metadata": {},
   "source": [
    "В среднем на каждого пользователя приходится около 20 событий."
   ]
  },
  {
   "cell_type": "markdown",
   "metadata": {},
   "source": [
    "#### Период данных"
   ]
  },
  {
   "cell_type": "code",
   "execution_count": 125,
   "metadata": {},
   "outputs": [
    {
     "name": "stdout",
     "output_type": "stream",
     "text": [
      "Начало: 2019-07-25 \n",
      " Конец: 2019-08-07\n"
     ]
    }
   ],
   "source": [
    "# найдем минимальное и максимальное значение даты\n",
    "print('Начало: {} \\n Конец: {}'.format(df['date'].min(), df['date'].max()))"
   ]
  },
  {
   "cell_type": "markdown",
   "metadata": {},
   "source": [
    "В датасете содержатся данные с 25 июля по 7 августа 2019 года. Построим гистограмму по дате и времени, чтобы проанализировать количество данных за каждый день."
   ]
  },
  {
   "cell_type": "code",
   "execution_count": 126,
   "metadata": {},
   "outputs": [
    {
     "data": {
      "image/png": "[encoded data removed]",
      "text/plain": [
       "<Figure size 1400x500 with 1 Axes>"
      ]
     },
     "metadata": {},
     "output_type": "display_data"
    }
   ],
   "source": [
    "df['event_time'].hist(bins=14*24, figsize=(14, 5));\n",
    "plt.xticks(rotation=45)\n",
    "plt.xlabel('Дата')\n",
    "plt.ylabel('Количество событий')\n",
    "plt.title('Распределение количества событий ежедневно');"
   ]
  },
  {
   "cell_type": "markdown",
   "metadata": {},
   "source": [
    "Из гистограммы видно не равное распределение количества записей на определенные даты. Более полные данные начинаются с 1 августа. Отсеим данные за предыдущие дни из датасета."
   ]
  },
  {
   "cell_type": "code",
   "execution_count": 127,
   "metadata": {},
   "outputs": [
    {
     "data": {
      "text/plain": [
       "datetime.date(2019, 8, 1)"
      ]
     },
     "execution_count": 127,
     "metadata": {},
     "output_type": "execute_result"
    }
   ],
   "source": [
    "first_date = dt.strptime('2019-08-01', '%Y-%m-%d').date()\n",
    "first_date"
   ]
  },
  {
   "cell_type": "code",
   "execution_count": 128,
   "metadata": {},
   "outputs": [],
   "source": [
    "df_last = df.copy()\n",
    "df.query('date >= @first_date', inplace=True)"
   ]
  },
  {
   "cell_type": "code",
   "execution_count": 129,
   "metadata": {},
   "outputs": [],
   "source": [
    "# посчитаем количество потерянных пользователей\n",
    "lost_users = df_last[~df_last['user_id'].isin(df['user_id'])]['user_id'].nunique()"
   ]
  },
  {
   "cell_type": "code",
   "execution_count": 130,
   "metadata": {},
   "outputs": [
    {
     "name": "stdout",
     "output_type": "stream",
     "text": [
      "После удаления мы потеряли 17 пользователей\n",
      "Сокращение датасета после удаления старых неполных данных =  1.17%\n"
     ]
    }
   ],
   "source": [
    "print(f'После удаления мы потеряли {lost_users} пользователей')\n",
    "print(f'Сокращение датасета после удаления старых неполных данных = {df_last.shape[0] / df.shape[0] - 1 : .2%}')"
   ]
  },
  {
   "cell_type": "markdown",
   "metadata": {},
   "source": [
    "Мы обладаем данными с 1 по 7 августа 2019 года. Сокращение событий составило 1.17%, потеряли 17 пользователей. Это не критично."
   ]
  },
  {
   "cell_type": "markdown",
   "metadata": {},
   "source": [
    "#### Пользователи в трех экспериментальных группах"
   ]
  },
  {
   "cell_type": "markdown",
   "metadata": {},
   "source": [
    "Проверим, есть ли у нас пользователи, состоящие сразу в трех экспериментальных группах."
   ]
  },
  {
   "cell_type": "code",
   "execution_count": 131,
   "metadata": {},
   "outputs": [
    {
     "data": {
      "text/plain": [
       "user_id    0\n",
       "group      0\n",
       "dtype: int64"
      ]
     },
     "execution_count": 131,
     "metadata": {},
     "output_type": "execute_result"
    }
   ],
   "source": [
    "(\n",
    "    df.groupby('user_id', as_index=False)\n",
    "    .agg({'group': 'nunique'})\n",
    "    .query('group > 1')\n",
    "    .count()\n",
    ")"
   ]
  },
  {
   "cell_type": "markdown",
   "metadata": {},
   "source": [
    "Каждый пользователь состоит только в одной экспериментальной группе. Следовательно, сбор данных для эксперимента был произведен корректно."
   ]
  },
  {
   "cell_type": "markdown",
   "metadata": {},
   "source": [
    "### Воронка событий"
   ]
  },
  {
   "cell_type": "markdown",
   "metadata": {},
   "source": [
    "#### События по частоте"
   ]
  },
  {
   "cell_type": "code",
   "execution_count": 132,
   "metadata": {},
   "outputs": [
    {
     "data": {
      "text/html": [
       "<div>\n",
       "<style scoped>\n",
       "    .dataframe tbody tr th:only-of-type {\n",
       "        vertical-align: middle;\n",
       "    }\n",
       "\n",
       "    .dataframe tbody tr th {\n",
       "        vertical-align: top;\n",
       "    }\n",
       "\n",
       "    .dataframe thead th {\n",
       "        text-align: right;\n",
       "    }\n",
       "</style>\n",
       "<table border=\"1\" class=\"dataframe\">\n",
       "  <thead>\n",
       "    <tr style=\"text-align: right;\">\n",
       "      <th></th>\n",
       "      <th>event_name</th>\n",
       "      <th>count</th>\n",
       "    </tr>\n",
       "  </thead>\n",
       "  <tbody>\n",
       "    <tr>\n",
       "      <th>0</th>\n",
       "      <td>Главная страница</td>\n",
       "      <td>117328</td>\n",
       "    </tr>\n",
       "    <tr>\n",
       "      <th>1</th>\n",
       "      <td>Страница товаров</td>\n",
       "      <td>46333</td>\n",
       "    </tr>\n",
       "    <tr>\n",
       "      <th>2</th>\n",
       "      <td>Корзина</td>\n",
       "      <td>42303</td>\n",
       "    </tr>\n",
       "    <tr>\n",
       "      <th>3</th>\n",
       "      <td>Успешная оплата</td>\n",
       "      <td>33918</td>\n",
       "    </tr>\n",
       "    <tr>\n",
       "      <th>4</th>\n",
       "      <td>Обучение</td>\n",
       "      <td>1005</td>\n",
       "    </tr>\n",
       "  </tbody>\n",
       "</table>\n",
       "</div>"
      ],
      "text/plain": [
       "         event_name   count\n",
       "0  Главная страница  117328\n",
       "1  Страница товаров   46333\n",
       "2           Корзина   42303\n",
       "3   Успешная оплата   33918\n",
       "4          Обучение    1005"
      ]
     },
     "execution_count": 132,
     "metadata": {},
     "output_type": "execute_result"
    }
   ],
   "source": [
    "event_count = pd.DataFrame(df['event_name'].value_counts().sort_values(ascending=False).reset_index())\n",
    "event_count.columns = ['event_name', 'count']\n",
    "event_count"
   ]
  },
  {
   "cell_type": "code",
   "execution_count": 133,
   "metadata": {},
   "outputs": [
    {
     "data": {
      "image/png": "[encoded data removed]",
      "text/plain": [
       "<Figure size 1000x700 with 1 Axes>"
      ]
     },
     "metadata": {},
     "output_type": "display_data"
    }
   ],
   "source": [
    "sns.barplot(data=event_count, x='count', y='event_name')\n",
    "plt.xlabel('Количество событий')\n",
    "plt.ylabel('Событие')\n",
    "plt.title('График количества событий');"
   ]
  },
  {
   "cell_type": "markdown",
   "metadata": {},
   "source": [
    "Наиболее частым событием является посещение Главной страницы, наименее частым - Обучение"
   ]
  },
  {
   "cell_type": "markdown",
   "metadata": {},
   "source": [
    "#### Количество пользователей на событие"
   ]
  },
  {
   "cell_type": "code",
   "execution_count": 134,
   "metadata": {},
   "outputs": [
    {
     "data": {
      "text/html": [
       "<div>\n",
       "<style scoped>\n",
       "    .dataframe tbody tr th:only-of-type {\n",
       "        vertical-align: middle;\n",
       "    }\n",
       "\n",
       "    .dataframe tbody tr th {\n",
       "        vertical-align: top;\n",
       "    }\n",
       "\n",
       "    .dataframe thead th {\n",
       "        text-align: right;\n",
       "    }\n",
       "</style>\n",
       "<table border=\"1\" class=\"dataframe\">\n",
       "  <thead>\n",
       "    <tr style=\"text-align: right;\">\n",
       "      <th></th>\n",
       "      <th>event_name</th>\n",
       "      <th>u_count</th>\n",
       "    </tr>\n",
       "  </thead>\n",
       "  <tbody>\n",
       "    <tr>\n",
       "      <th>0</th>\n",
       "      <td>Главная страница</td>\n",
       "      <td>7419</td>\n",
       "    </tr>\n",
       "    <tr>\n",
       "      <th>3</th>\n",
       "      <td>Страница товаров</td>\n",
       "      <td>4593</td>\n",
       "    </tr>\n",
       "    <tr>\n",
       "      <th>1</th>\n",
       "      <td>Корзина</td>\n",
       "      <td>3734</td>\n",
       "    </tr>\n",
       "    <tr>\n",
       "      <th>4</th>\n",
       "      <td>Успешная оплата</td>\n",
       "      <td>3539</td>\n",
       "    </tr>\n",
       "    <tr>\n",
       "      <th>2</th>\n",
       "      <td>Обучение</td>\n",
       "      <td>840</td>\n",
       "    </tr>\n",
       "  </tbody>\n",
       "</table>\n",
       "</div>"
      ],
      "text/plain": [
       "         event_name  u_count\n",
       "0  Главная страница     7419\n",
       "3  Страница товаров     4593\n",
       "1           Корзина     3734\n",
       "4   Успешная оплата     3539\n",
       "2          Обучение      840"
      ]
     },
     "execution_count": 134,
     "metadata": {},
     "output_type": "execute_result"
    }
   ],
   "source": [
    "user_count = (\n",
    "    df.groupby('event_name', as_index=False)\n",
    "    .agg({'user_id': 'nunique'})\n",
    "    .sort_values(by='user_id', ascending=False)\n",
    ")\n",
    "user_count.columns = ['event_name', 'u_count']\n",
    "user_count"
   ]
  },
  {
   "cell_type": "markdown",
   "metadata": {},
   "source": [
    "Большинство пользователей совершают заход на Главную страницу, меньшеньство - Обучение. Порядок такой же, как и при вычислении частоты событий в датасете. "
   ]
  },
  {
   "cell_type": "code",
   "execution_count": 135,
   "metadata": {},
   "outputs": [
    {
     "data": {
      "text/html": [
       "<div>\n",
       "<style scoped>\n",
       "    .dataframe tbody tr th:only-of-type {\n",
       "        vertical-align: middle;\n",
       "    }\n",
       "\n",
       "    .dataframe tbody tr th {\n",
       "        vertical-align: top;\n",
       "    }\n",
       "\n",
       "    .dataframe thead th {\n",
       "        text-align: right;\n",
       "    }\n",
       "</style>\n",
       "<table border=\"1\" class=\"dataframe\">\n",
       "  <thead>\n",
       "    <tr style=\"text-align: right;\">\n",
       "      <th></th>\n",
       "      <th>event_name</th>\n",
       "      <th>u_count</th>\n",
       "      <th>percent</th>\n",
       "    </tr>\n",
       "  </thead>\n",
       "  <tbody>\n",
       "    <tr>\n",
       "      <th>0</th>\n",
       "      <td>Главная страница</td>\n",
       "      <td>7419</td>\n",
       "      <td>98.47%</td>\n",
       "    </tr>\n",
       "    <tr>\n",
       "      <th>1</th>\n",
       "      <td>Страница товаров</td>\n",
       "      <td>4593</td>\n",
       "      <td>60.96%</td>\n",
       "    </tr>\n",
       "    <tr>\n",
       "      <th>2</th>\n",
       "      <td>Корзина</td>\n",
       "      <td>3734</td>\n",
       "      <td>49.56%</td>\n",
       "    </tr>\n",
       "    <tr>\n",
       "      <th>3</th>\n",
       "      <td>Успешная оплата</td>\n",
       "      <td>3539</td>\n",
       "      <td>46.97%</td>\n",
       "    </tr>\n",
       "    <tr>\n",
       "      <th>4</th>\n",
       "      <td>Обучение</td>\n",
       "      <td>840</td>\n",
       "      <td>11.15%</td>\n",
       "    </tr>\n",
       "  </tbody>\n",
       "</table>\n",
       "</div>"
      ],
      "text/plain": [
       "         event_name  u_count percent\n",
       "0  Главная страница     7419  98.47%\n",
       "1  Страница товаров     4593  60.96%\n",
       "2           Корзина     3734  49.56%\n",
       "3   Успешная оплата     3539  46.97%\n",
       "4          Обучение      840  11.15%"
      ]
     },
     "execution_count": 135,
     "metadata": {},
     "output_type": "execute_result"
    }
   ],
   "source": [
    "# доля пользователей, которая хоть раз совершала событие\n",
    "user_count['percent'] = user_count['u_count'].map(lambda x: '{:.2f}%'.format(x / df[\"user_id\"].nunique() * 100))\n",
    "user_count.reset_index(drop=True, inplace=True)\n",
    "user_count"
   ]
  },
  {
   "cell_type": "code",
   "execution_count": 136,
   "metadata": {
    "scrolled": true
   },
   "outputs": [
    {
     "data": {
      "application/vnd.plotly.v1+json": {
       "config": {
        "plotlyServerURL": "https://plot.ly"
       },
       "data": [
        {
         "hovertemplate": "u_count=%{x}<br>event_name=%{y}<extra></extra>",
         "legendgroup": "",
         "marker": {
          "color": "#636efa"
         },
         "name": "",
         "orientation": "h",
         "showlegend": false,
         "type": "funnel",
         "x": [
          7419,
          4593,
          3734,
          3539
         ],
         "xaxis": "x",
         "y": [
          "Главная страница",
          "Страница товаров",
          "Корзина",
          "Успешная оплата"
         ],
         "yaxis": "y"
        }
       ],
       "layout": {
        "legend": {
         "tracegroupgap": 0
        },
        "margin": {
         "t": 60
        },
        "template": {
         "data": {
          "bar": [
           {
            "error_x": {
             "color": "#2a3f5f"
            },
            "error_y": {
             "color": "#2a3f5f"
            },
            "marker": {
             "line": {
              "color": "#E5ECF6",
              "width": 0.5
             },
             "pattern": {
              "fillmode": "overlay",
              "size": 10,
              "solidity": 0.2
             }
            },
            "type": "bar"
           }
          ],
          "barpolar": [
           {
            "marker": {
             "line": {
              "color": "#E5ECF6",
              "width": 0.5
             },
             "pattern": {
              "fillmode": "overlay",
              "size": 10,
              "solidity": 0.2
             }
            },
            "type": "barpolar"
           }
          ],
          "carpet": [
           {
            "aaxis": {
             "endlinecolor": "#2a3f5f",
             "gridcolor": "white",
             "linecolor": "white",
             "minorgridcolor": "white",
             "startlinecolor": "#2a3f5f"
            },
            "baxis": {
             "endlinecolor": "#2a3f5f",
             "gridcolor": "white",
             "linecolor": "white",
             "minorgridcolor": "white",
             "startlinecolor": "#2a3f5f"
            },
            "type": "carpet"
           }
          ],
          "choropleth": [
           {
            "colorbar": {
             "outlinewidth": 0,
             "ticks": ""
            },
            "type": "choropleth"
           }
          ],
          "contour": [
           {
            "colorbar": {
             "outlinewidth": 0,
             "ticks": ""
            },
            "colorscale": [
             [
              0,
              "#0d0887"
             ],
             [
              0.1111111111111111,
              "#46039f"
             ],
             [
              0.2222222222222222,
              "#7201a8"
             ],
             [
              0.3333333333333333,
              "#9c179e"
             ],
             [
              0.4444444444444444,
              "#bd3786"
             ],
             [
              0.5555555555555556,
              "#d8576b"
             ],
             [
              0.6666666666666666,
              "#ed7953"
             ],
             [
              0.7777777777777778,
              "#fb9f3a"
             ],
             [
              0.8888888888888888,
              "#fdca26"
             ],
             [
              1,
              "#f0f921"
             ]
            ],
            "type": "contour"
           }
          ],
          "contourcarpet": [
           {
            "colorbar": {
             "outlinewidth": 0,
             "ticks": ""
            },
            "type": "contourcarpet"
           }
          ],
          "heatmap": [
           {
            "colorbar": {
             "outlinewidth": 0,
             "ticks": ""
            },
            "colorscale": [
             [
              0,
              "#0d0887"
             ],
             [
              0.1111111111111111,
              "#46039f"
             ],
             [
              0.2222222222222222,
              "#7201a8"
             ],
             [
              0.3333333333333333,
              "#9c179e"
             ],
             [
              0.4444444444444444,
              "#bd3786"
             ],
             [
              0.5555555555555556,
              "#d8576b"
             ],
             [
              0.6666666666666666,
              "#ed7953"
             ],
             [
              0.7777777777777778,
              "#fb9f3a"
             ],
             [
              0.8888888888888888,
              "#fdca26"
             ],
             [
              1,
              "#f0f921"
             ]
            ],
            "type": "heatmap"
           }
          ],
          "heatmapgl": [
           {
            "colorbar": {
             "outlinewidth": 0,
             "ticks": ""
            },
            "colorscale": [
             [
              0,
              "#0d0887"
             ],
             [
              0.1111111111111111,
              "#46039f"
             ],
             [
              0.2222222222222222,
              "#7201a8"
             ],
             [
              0.3333333333333333,
              "#9c179e"
             ],
             [
              0.4444444444444444,
              "#bd3786"
             ],
             [
              0.5555555555555556,
              "#d8576b"
             ],
             [
              0.6666666666666666,
              "#ed7953"
             ],
             [
              0.7777777777777778,
              "#fb9f3a"
             ],
             [
              0.8888888888888888,
              "#fdca26"
             ],
             [
              1,
              "#f0f921"
             ]
            ],
            "type": "heatmapgl"
           }
          ],
          "histogram": [
           {
            "marker": {
             "pattern": {
              "fillmode": "overlay",
              "size": 10,
              "solidity": 0.2
             }
            },
            "type": "histogram"
           }
          ],
          "histogram2d": [
           {
            "colorbar": {
             "outlinewidth": 0,
             "ticks": ""
            },
            "colorscale": [
             [
              0,
              "#0d0887"
             ],
             [
              0.1111111111111111,
              "#46039f"
             ],
             [
              0.2222222222222222,
              "#7201a8"
             ],
             [
              0.3333333333333333,
              "#9c179e"
             ],
             [
              0.4444444444444444,
              "#bd3786"
             ],
             [
              0.5555555555555556,
              "#d8576b"
             ],
             [
              0.6666666666666666,
              "#ed7953"
             ],
             [
              0.7777777777777778,
              "#fb9f3a"
             ],
             [
              0.8888888888888888,
              "#fdca26"
             ],
             [
              1,
              "#f0f921"
             ]
            ],
            "type": "histogram2d"
           }
          ],
          "histogram2dcontour": [
           {
            "colorbar": {
             "outlinewidth": 0,
             "ticks": ""
            },
            "colorscale": [
             [
              0,
              "#0d0887"
             ],
             [
              0.1111111111111111,
              "#46039f"
             ],
             [
              0.2222222222222222,
              "#7201a8"
             ],
             [
              0.3333333333333333,
              "#9c179e"
             ],
             [
              0.4444444444444444,
              "#bd3786"
             ],
             [
              0.5555555555555556,
              "#d8576b"
             ],
             [
              0.6666666666666666,
              "#ed7953"
             ],
             [
              0.7777777777777778,
              "#fb9f3a"
             ],
             [
              0.8888888888888888,
              "#fdca26"
             ],
             [
              1,
              "#f0f921"
             ]
            ],
            "type": "histogram2dcontour"
           }
          ],
          "mesh3d": [
           {
            "colorbar": {
             "outlinewidth": 0,
             "ticks": ""
            },
            "type": "mesh3d"
           }
          ],
          "parcoords": [
           {
            "line": {
             "colorbar": {
              "outlinewidth": 0,
              "ticks": ""
             }
            },
            "type": "parcoords"
           }
          ],
          "pie": [
           {
            "automargin": true,
            "type": "pie"
           }
          ],
          "scatter": [
           {
            "fillpattern": {
             "fillmode": "overlay",
             "size": 10,
             "solidity": 0.2
            },
            "type": "scatter"
           }
          ],
          "scatter3d": [
           {
            "line": {
             "colorbar": {
              "outlinewidth": 0,
              "ticks": ""
             }
            },
            "marker": {
             "colorbar": {
              "outlinewidth": 0,
              "ticks": ""
             }
            },
            "type": "scatter3d"
           }
          ],
          "scattercarpet": [
           {
            "marker": {
             "colorbar": {
              "outlinewidth": 0,
              "ticks": ""
             }
            },
            "type": "scattercarpet"
           }
          ],
          "scattergeo": [
           {
            "marker": {
             "colorbar": {
              "outlinewidth": 0,
              "ticks": ""
             }
            },
            "type": "scattergeo"
           }
          ],
          "scattergl": [
           {
            "marker": {
             "colorbar": {
              "outlinewidth": 0,
              "ticks": ""
             }
            },
            "type": "scattergl"
           }
          ],
          "scattermapbox": [
           {
            "marker": {
             "colorbar": {
              "outlinewidth": 0,
              "ticks": ""
             }
            },
            "type": "scattermapbox"
           }
          ],
          "scatterpolar": [
           {
            "marker": {
             "colorbar": {
              "outlinewidth": 0,
              "ticks": ""
             }
            },
            "type": "scatterpolar"
           }
          ],
          "scatterpolargl": [
           {
            "marker": {
             "colorbar": {
              "outlinewidth": 0,
              "ticks": ""
             }
            },
            "type": "scatterpolargl"
           }
          ],
          "scatterternary": [
           {
            "marker": {
             "colorbar": {
              "outlinewidth": 0,
              "ticks": ""
             }
            },
            "type": "scatterternary"
           }
          ],
          "surface": [
           {
            "colorbar": {
             "outlinewidth": 0,
             "ticks": ""
            },
            "colorscale": [
             [
              0,
              "#0d0887"
             ],
             [
              0.1111111111111111,
              "#46039f"
             ],
             [
              0.2222222222222222,
              "#7201a8"
             ],
             [
              0.3333333333333333,
              "#9c179e"
             ],
             [
              0.4444444444444444,
              "#bd3786"
             ],
             [
              0.5555555555555556,
              "#d8576b"
             ],
             [
              0.6666666666666666,
              "#ed7953"
             ],
             [
              0.7777777777777778,
              "#fb9f3a"
             ],
             [
              0.8888888888888888,
              "#fdca26"
             ],
             [
              1,
              "#f0f921"
             ]
            ],
            "type": "surface"
           }
          ],
          "table": [
           {
            "cells": {
             "fill": {
              "color": "#EBF0F8"
             },
             "line": {
              "color": "white"
             }
            },
            "header": {
             "fill": {
              "color": "#C8D4E3"
             },
             "line": {
              "color": "white"
             }
            },
            "type": "table"
           }
          ]
         },
         "layout": {
          "annotationdefaults": {
           "arrowcolor": "#2a3f5f",
           "arrowhead": 0,
           "arrowwidth": 1
          },
          "autotypenumbers": "strict",
          "coloraxis": {
           "colorbar": {
            "outlinewidth": 0,
            "ticks": ""
           }
          },
          "colorscale": {
           "diverging": [
            [
             0,
             "#8e0152"
            ],
            [
             0.1,
             "#c51b7d"
            ],
            [
             0.2,
             "#de77ae"
            ],
            [
             0.3,
             "#f1b6da"
            ],
            [
             0.4,
             "#fde0ef"
            ],
            [
             0.5,
             "#f7f7f7"
            ],
            [
             0.6,
             "#e6f5d0"
            ],
            [
             0.7,
             "#b8e186"
            ],
            [
             0.8,
             "#7fbc41"
            ],
            [
             0.9,
             "#4d9221"
            ],
            [
             1,
             "#276419"
            ]
           ],
           "sequential": [
            [
             0,
             "#0d0887"
            ],
            [
             0.1111111111111111,
             "#46039f"
            ],
            [
             0.2222222222222222,
             "#7201a8"
            ],
            [
             0.3333333333333333,
             "#9c179e"
            ],
            [
             0.4444444444444444,
             "#bd3786"
            ],
            [
             0.5555555555555556,
             "#d8576b"
            ],
            [
             0.6666666666666666,
             "#ed7953"
            ],
            [
             0.7777777777777778,
             "#fb9f3a"
            ],
            [
             0.8888888888888888,
             "#fdca26"
            ],
            [
             1,
             "#f0f921"
            ]
           ],
           "sequentialminus": [
            [
             0,
             "#0d0887"
            ],
            [
             0.1111111111111111,
             "#46039f"
            ],
            [
             0.2222222222222222,
             "#7201a8"
            ],
            [
             0.3333333333333333,
             "#9c179e"
            ],
            [
             0.4444444444444444,
             "#bd3786"
            ],
            [
             0.5555555555555556,
             "#d8576b"
            ],
            [
             0.6666666666666666,
             "#ed7953"
            ],
            [
             0.7777777777777778,
             "#fb9f3a"
            ],
            [
             0.8888888888888888,
             "#fdca26"
            ],
            [
             1,
             "#f0f921"
            ]
           ]
          },
          "colorway": [
           "#636efa",
           "#EF553B",
           "#00cc96",
           "#ab63fa",
           "#FFA15A",
           "#19d3f3",
           "#FF6692",
           "#B6E880",
           "#FF97FF",
           "#FECB52"
          ],
          "font": {
           "color": "#2a3f5f"
          },
          "geo": {
           "bgcolor": "white",
           "lakecolor": "white",
           "landcolor": "#E5ECF6",
           "showlakes": true,
           "showland": true,
           "subunitcolor": "white"
          },
          "hoverlabel": {
           "align": "left"
          },
          "hovermode": "closest",
          "mapbox": {
           "style": "light"
          },
          "paper_bgcolor": "white",
          "plot_bgcolor": "#E5ECF6",
          "polar": {
           "angularaxis": {
            "gridcolor": "white",
            "linecolor": "white",
            "ticks": ""
           },
           "bgcolor": "#E5ECF6",
           "radialaxis": {
            "gridcolor": "white",
            "linecolor": "white",
            "ticks": ""
           }
          },
          "scene": {
           "xaxis": {
            "backgroundcolor": "#E5ECF6",
            "gridcolor": "white",
            "gridwidth": 2,
            "linecolor": "white",
            "showbackground": true,
            "ticks": "",
            "zerolinecolor": "white"
           },
           "yaxis": {
            "backgroundcolor": "#E5ECF6",
            "gridcolor": "white",
            "gridwidth": 2,
            "linecolor": "white",
            "showbackground": true,
            "ticks": "",
            "zerolinecolor": "white"
           },
           "zaxis": {
            "backgroundcolor": "#E5ECF6",
            "gridcolor": "white",
            "gridwidth": 2,
            "linecolor": "white",
            "showbackground": true,
            "ticks": "",
            "zerolinecolor": "white"
           }
          },
          "shapedefaults": {
           "line": {
            "color": "#2a3f5f"
           }
          },
          "ternary": {
           "aaxis": {
            "gridcolor": "white",
            "linecolor": "white",
            "ticks": ""
           },
           "baxis": {
            "gridcolor": "white",
            "linecolor": "white",
            "ticks": ""
           },
           "bgcolor": "#E5ECF6",
           "caxis": {
            "gridcolor": "white",
            "linecolor": "white",
            "ticks": ""
           }
          },
          "title": {
           "x": 0.05
          },
          "xaxis": {
           "automargin": true,
           "gridcolor": "white",
           "linecolor": "white",
           "ticks": "",
           "title": {
            "standoff": 15
           },
           "zerolinecolor": "white",
           "zerolinewidth": 2
          },
          "yaxis": {
           "automargin": true,
           "gridcolor": "white",
           "linecolor": "white",
           "ticks": "",
           "title": {
            "standoff": 15
           },
           "zerolinecolor": "white",
           "zerolinewidth": 2
          }
         }
        },
        "xaxis": {
         "anchor": "y",
         "domain": [
          0,
          1
         ],
         "title": {
          "text": "u_count"
         }
        },
        "yaxis": {
         "anchor": "x",
         "domain": [
          0,
          1
         ],
         "title": {
          "text": "event_name"
         }
        }
       }
      },
      "text/html": [
       "<div>                            <div id=\"bcd8698c-8329-454e-8411-d1c0d6187992\" class=\"plotly-graph-div\" style=\"height:525px; width:100%;\"></div>            <script type=\"text/javascript\">                require([\"plotly\"], function(Plotly) {                    window.PLOTLYENV=window.PLOTLYENV || {};                                    if (document.getElementById(\"bcd8698c-8329-454e-8411-d1c0d6187992\")) {                    Plotly.newPlot(                        \"bcd8698c-8329-454e-8411-d1c0d6187992\",                        [{\"hovertemplate\":\"u_count=%{x}<br>event_name=%{y}<extra></extra>\",\"legendgroup\":\"\",\"marker\":{\"color\":\"#636efa\"},\"name\":\"\",\"orientation\":\"h\",\"showlegend\":false,\"x\":[7419,4593,3734,3539],\"xaxis\":\"x\",\"y\":[\"\\u0413\\u043b\\u0430\\u0432\\u043d\\u0430\\u044f \\u0441\\u0442\\u0440\\u0430\\u043d\\u0438\\u0446\\u0430\",\"\\u0421\\u0442\\u0440\\u0430\\u043d\\u0438\\u0446\\u0430 \\u0442\\u043e\\u0432\\u0430\\u0440\\u043e\\u0432\",\"\\u041a\\u043e\\u0440\\u0437\\u0438\\u043d\\u0430\",\"\\u0423\\u0441\\u043f\\u0435\\u0448\\u043d\\u0430\\u044f \\u043e\\u043f\\u043b\\u0430\\u0442\\u0430\"],\"yaxis\":\"y\",\"type\":\"funnel\"}],                        {\"template\":{\"data\":{\"histogram2dcontour\":[{\"type\":\"histogram2dcontour\",\"colorbar\":{\"outlinewidth\":0,\"ticks\":\"\"},\"colorscale\":[[0.0,\"#0d0887\"],[0.1111111111111111,\"#46039f\"],[0.2222222222222222,\"#7201a8\"],[0.3333333333333333,\"#9c179e\"],[0.4444444444444444,\"#bd3786\"],[0.5555555555555556,\"#d8576b\"],[0.6666666666666666,\"#ed7953\"],[0.7777777777777778,\"#fb9f3a\"],[0.8888888888888888,\"#fdca26\"],[1.0,\"#f0f921\"]]}],\"choropleth\":[{\"type\":\"choropleth\",\"colorbar\":{\"outlinewidth\":0,\"ticks\":\"\"}}],\"histogram2d\":[{\"type\":\"histogram2d\",\"colorbar\":{\"outlinewidth\":0,\"ticks\":\"\"},\"colorscale\":[[0.0,\"#0d0887\"],[0.1111111111111111,\"#46039f\"],[0.2222222222222222,\"#7201a8\"],[0.3333333333333333,\"#9c179e\"],[0.4444444444444444,\"#bd3786\"],[0.5555555555555556,\"#d8576b\"],[0.6666666666666666,\"#ed7953\"],[0.7777777777777778,\"#fb9f3a\"],[0.8888888888888888,\"#fdca26\"],[1.0,\"#f0f921\"]]}],\"heatmap\":[{\"type\":\"heatmap\",\"colorbar\":{\"outlinewidth\":0,\"ticks\":\"\"},\"colorscale\":[[0.0,\"#0d0887\"],[0.1111111111111111,\"#46039f\"],[0.2222222222222222,\"#7201a8\"],[0.3333333333333333,\"#9c179e\"],[0.4444444444444444,\"#bd3786\"],[0.5555555555555556,\"#d8576b\"],[0.6666666666666666,\"#ed7953\"],[0.7777777777777778,\"#fb9f3a\"],[0.8888888888888888,\"#fdca26\"],[1.0,\"#f0f921\"]]}],\"heatmapgl\":[{\"type\":\"heatmapgl\",\"colorbar\":{\"outlinewidth\":0,\"ticks\":\"\"},\"colorscale\":[[0.0,\"#0d0887\"],[0.1111111111111111,\"#46039f\"],[0.2222222222222222,\"#7201a8\"],[0.3333333333333333,\"#9c179e\"],[0.4444444444444444,\"#bd3786\"],[0.5555555555555556,\"#d8576b\"],[0.6666666666666666,\"#ed7953\"],[0.7777777777777778,\"#fb9f3a\"],[0.8888888888888888,\"#fdca26\"],[1.0,\"#f0f921\"]]}],\"contourcarpet\":[{\"type\":\"contourcarpet\",\"colorbar\":{\"outlinewidth\":0,\"ticks\":\"\"}}],\"contour\":[{\"type\":\"contour\",\"colorbar\":{\"outlinewidth\":0,\"ticks\":\"\"},\"colorscale\":[[0.0,\"#0d0887\"],[0.1111111111111111,\"#46039f\"],[0.2222222222222222,\"#7201a8\"],[0.3333333333333333,\"#9c179e\"],[0.4444444444444444,\"#bd3786\"],[0.5555555555555556,\"#d8576b\"],[0.6666666666666666,\"#ed7953\"],[0.7777777777777778,\"#fb9f3a\"],[0.8888888888888888,\"#fdca26\"],[1.0,\"#f0f921\"]]}],\"surface\":[{\"type\":\"surface\",\"colorbar\":{\"outlinewidth\":0,\"ticks\":\"\"},\"colorscale\":[[0.0,\"#0d0887\"],[0.1111111111111111,\"#46039f\"],[0.2222222222222222,\"#7201a8\"],[0.3333333333333333,\"#9c179e\"],[0.4444444444444444,\"#bd3786\"],[0.5555555555555556,\"#d8576b\"],[0.6666666666666666,\"#ed7953\"],[0.7777777777777778,\"#fb9f3a\"],[0.8888888888888888,\"#fdca26\"],[1.0,\"#f0f921\"]]}],\"mesh3d\":[{\"type\":\"mesh3d\",\"colorbar\":{\"outlinewidth\":0,\"ticks\":\"\"}}],\"scatter\":[{\"fillpattern\":{\"fillmode\":\"overlay\",\"size\":10,\"solidity\":0.2},\"type\":\"scatter\"}],\"parcoords\":[{\"type\":\"parcoords\",\"line\":{\"colorbar\":{\"outlinewidth\":0,\"ticks\":\"\"}}}],\"scatterpolargl\":[{\"type\":\"scatterpolargl\",\"marker\":{\"colorbar\":{\"outlinewidth\":0,\"ticks\":\"\"}}}],\"bar\":[{\"error_x\":{\"color\":\"#2a3f5f\"},\"error_y\":{\"color\":\"#2a3f5f\"},\"marker\":{\"line\":{\"color\":\"#E5ECF6\",\"width\":0.5},\"pattern\":{\"fillmode\":\"overlay\",\"size\":10,\"solidity\":0.2}},\"type\":\"bar\"}],\"scattergeo\":[{\"type\":\"scattergeo\",\"marker\":{\"colorbar\":{\"outlinewidth\":0,\"ticks\":\"\"}}}],\"scatterpolar\":[{\"type\":\"scatterpolar\",\"marker\":{\"colorbar\":{\"outlinewidth\":0,\"ticks\":\"\"}}}],\"histogram\":[{\"marker\":{\"pattern\":{\"fillmode\":\"overlay\",\"size\":10,\"solidity\":0.2}},\"type\":\"histogram\"}],\"scattergl\":[{\"type\":\"scattergl\",\"marker\":{\"colorbar\":{\"outlinewidth\":0,\"ticks\":\"\"}}}],\"scatter3d\":[{\"type\":\"scatter3d\",\"line\":{\"colorbar\":{\"outlinewidth\":0,\"ticks\":\"\"}},\"marker\":{\"colorbar\":{\"outlinewidth\":0,\"ticks\":\"\"}}}],\"scattermapbox\":[{\"type\":\"scattermapbox\",\"marker\":{\"colorbar\":{\"outlinewidth\":0,\"ticks\":\"\"}}}],\"scatterternary\":[{\"type\":\"scatterternary\",\"marker\":{\"colorbar\":{\"outlinewidth\":0,\"ticks\":\"\"}}}],\"scattercarpet\":[{\"type\":\"scattercarpet\",\"marker\":{\"colorbar\":{\"outlinewidth\":0,\"ticks\":\"\"}}}],\"carpet\":[{\"aaxis\":{\"endlinecolor\":\"#2a3f5f\",\"gridcolor\":\"white\",\"linecolor\":\"white\",\"minorgridcolor\":\"white\",\"startlinecolor\":\"#2a3f5f\"},\"baxis\":{\"endlinecolor\":\"#2a3f5f\",\"gridcolor\":\"white\",\"linecolor\":\"white\",\"minorgridcolor\":\"white\",\"startlinecolor\":\"#2a3f5f\"},\"type\":\"carpet\"}],\"table\":[{\"cells\":{\"fill\":{\"color\":\"#EBF0F8\"},\"line\":{\"color\":\"white\"}},\"header\":{\"fill\":{\"color\":\"#C8D4E3\"},\"line\":{\"color\":\"white\"}},\"type\":\"table\"}],\"barpolar\":[{\"marker\":{\"line\":{\"color\":\"#E5ECF6\",\"width\":0.5},\"pattern\":{\"fillmode\":\"overlay\",\"size\":10,\"solidity\":0.2}},\"type\":\"barpolar\"}],\"pie\":[{\"automargin\":true,\"type\":\"pie\"}]},\"layout\":{\"autotypenumbers\":\"strict\",\"colorway\":[\"#636efa\",\"#EF553B\",\"#00cc96\",\"#ab63fa\",\"#FFA15A\",\"#19d3f3\",\"#FF6692\",\"#B6E880\",\"#FF97FF\",\"#FECB52\"],\"font\":{\"color\":\"#2a3f5f\"},\"hovermode\":\"closest\",\"hoverlabel\":{\"align\":\"left\"},\"paper_bgcolor\":\"white\",\"plot_bgcolor\":\"#E5ECF6\",\"polar\":{\"bgcolor\":\"#E5ECF6\",\"angularaxis\":{\"gridcolor\":\"white\",\"linecolor\":\"white\",\"ticks\":\"\"},\"radialaxis\":{\"gridcolor\":\"white\",\"linecolor\":\"white\",\"ticks\":\"\"}},\"ternary\":{\"bgcolor\":\"#E5ECF6\",\"aaxis\":{\"gridcolor\":\"white\",\"linecolor\":\"white\",\"ticks\":\"\"},\"baxis\":{\"gridcolor\":\"white\",\"linecolor\":\"white\",\"ticks\":\"\"},\"caxis\":{\"gridcolor\":\"white\",\"linecolor\":\"white\",\"ticks\":\"\"}},\"coloraxis\":{\"colorbar\":{\"outlinewidth\":0,\"ticks\":\"\"}},\"colorscale\":{\"sequential\":[[0.0,\"#0d0887\"],[0.1111111111111111,\"#46039f\"],[0.2222222222222222,\"#7201a8\"],[0.3333333333333333,\"#9c179e\"],[0.4444444444444444,\"#bd3786\"],[0.5555555555555556,\"#d8576b\"],[0.6666666666666666,\"#ed7953\"],[0.7777777777777778,\"#fb9f3a\"],[0.8888888888888888,\"#fdca26\"],[1.0,\"#f0f921\"]],\"sequentialminus\":[[0.0,\"#0d0887\"],[0.1111111111111111,\"#46039f\"],[0.2222222222222222,\"#7201a8\"],[0.3333333333333333,\"#9c179e\"],[0.4444444444444444,\"#bd3786\"],[0.5555555555555556,\"#d8576b\"],[0.6666666666666666,\"#ed7953\"],[0.7777777777777778,\"#fb9f3a\"],[0.8888888888888888,\"#fdca26\"],[1.0,\"#f0f921\"]],\"diverging\":[[0,\"#8e0152\"],[0.1,\"#c51b7d\"],[0.2,\"#de77ae\"],[0.3,\"#f1b6da\"],[0.4,\"#fde0ef\"],[0.5,\"#f7f7f7\"],[0.6,\"#e6f5d0\"],[0.7,\"#b8e186\"],[0.8,\"#7fbc41\"],[0.9,\"#4d9221\"],[1,\"#276419\"]]},\"xaxis\":{\"gridcolor\":\"white\",\"linecolor\":\"white\",\"ticks\":\"\",\"title\":{\"standoff\":15},\"zerolinecolor\":\"white\",\"automargin\":true,\"zerolinewidth\":2},\"yaxis\":{\"gridcolor\":\"white\",\"linecolor\":\"white\",\"ticks\":\"\",\"title\":{\"standoff\":15},\"zerolinecolor\":\"white\",\"automargin\":true,\"zerolinewidth\":2},\"scene\":{\"xaxis\":{\"backgroundcolor\":\"#E5ECF6\",\"gridcolor\":\"white\",\"linecolor\":\"white\",\"showbackground\":true,\"ticks\":\"\",\"zerolinecolor\":\"white\",\"gridwidth\":2},\"yaxis\":{\"backgroundcolor\":\"#E5ECF6\",\"gridcolor\":\"white\",\"linecolor\":\"white\",\"showbackground\":true,\"ticks\":\"\",\"zerolinecolor\":\"white\",\"gridwidth\":2},\"zaxis\":{\"backgroundcolor\":\"#E5ECF6\",\"gridcolor\":\"white\",\"linecolor\":\"white\",\"showbackground\":true,\"ticks\":\"\",\"zerolinecolor\":\"white\",\"gridwidth\":2}},\"shapedefaults\":{\"line\":{\"color\":\"#2a3f5f\"}},\"annotationdefaults\":{\"arrowcolor\":\"#2a3f5f\",\"arrowhead\":0,\"arrowwidth\":1},\"geo\":{\"bgcolor\":\"white\",\"landcolor\":\"#E5ECF6\",\"subunitcolor\":\"white\",\"showland\":true,\"showlakes\":true,\"lakecolor\":\"white\"},\"title\":{\"x\":0.05},\"mapbox\":{\"style\":\"light\"}}},\"xaxis\":{\"anchor\":\"y\",\"domain\":[0.0,1.0],\"title\":{\"text\":\"u_count\"}},\"yaxis\":{\"anchor\":\"x\",\"domain\":[0.0,1.0],\"title\":{\"text\":\"event_name\"}},\"legend\":{\"tracegroupgap\":0},\"margin\":{\"t\":60}},                        {\"responsive\": true}                    ).then(function(){\n",
       "                            \n",
       "var gd = document.getElementById('bcd8698c-8329-454e-8411-d1c0d6187992');\n",
       "var x = new MutationObserver(function (mutations, observer) {{\n",
       "        var display = window.getComputedStyle(gd).display;\n",
       "        if (!display || display === 'none') {{\n",
       "            console.log([gd, 'removed!']);\n",
       "            Plotly.purge(gd);\n",
       "            observer.disconnect();\n",
       "        }}\n",
       "}});\n",
       "\n",
       "// Listen for the removal of the full notebook cells\n",
       "var notebookContainer = gd.closest('#notebook-container');\n",
       "if (notebookContainer) {{\n",
       "    x.observe(notebookContainer, {childList: true});\n",
       "}}\n",
       "\n",
       "// Listen for the clearing of the current output cell\n",
       "var outputEl = gd.closest('.output');\n",
       "if (outputEl) {{\n",
       "    x.observe(outputEl, {childList: true});\n",
       "}}\n",
       "\n",
       "                        })                };                });            </script>        </div>"
      ]
     },
     "metadata": {},
     "output_type": "display_data"
    }
   ],
   "source": [
    "# построим воронку событий по числу пользователей\n",
    "px.funnel(user_count[user_count['event_name'] != \"Обучение\"], x = 'u_count', y = 'event_name')"
   ]
  },
  {
   "attachments": {
    "image.png": {
     "image/png": "[encoded data removed]"
    }
   },
   "cell_type": "markdown",
   "metadata": {},
   "source": [
    "![image.png](attachment:image.png)"
   ]
  },
  {
   "cell_type": "markdown",
   "metadata": {},
   "source": [
    "Главную страницу посещают 98% пользователей, страницу товаров - около 61%, корзину - около 50%, оплачивают товар около 47%, а страницу обучения посещают лишь 11%.\n",
    "\n",
    "Можно предположить, что события происходят в следующем порядке:\n",
    "\n",
    "    - посещение главной страницы;\n",
    "    - просмотр товаров;\n",
    "    - переход в корзину;\n",
    "    - успешная оплата.\n",
    "    \n",
    "Страницу с обучением пользователи открывают по желанию. Малое число пользователей говорит о том, что обучение не является обязательным в приложении. Можно не учитывать данное событие в следующих шагах."
   ]
  },
  {
   "cell_type": "markdown",
   "metadata": {},
   "source": [
    "#### Доля пользователей по отношению к предыдущему шагу"
   ]
  },
  {
   "cell_type": "code",
   "execution_count": 137,
   "metadata": {},
   "outputs": [
    {
     "data": {
      "text/html": [
       "<div>\n",
       "<style scoped>\n",
       "    .dataframe tbody tr th:only-of-type {\n",
       "        vertical-align: middle;\n",
       "    }\n",
       "\n",
       "    .dataframe tbody tr th {\n",
       "        vertical-align: top;\n",
       "    }\n",
       "\n",
       "    .dataframe thead th {\n",
       "        text-align: right;\n",
       "    }\n",
       "</style>\n",
       "<table border=\"1\" class=\"dataframe\">\n",
       "  <thead>\n",
       "    <tr style=\"text-align: right;\">\n",
       "      <th></th>\n",
       "      <th>event_name</th>\n",
       "      <th>u_count</th>\n",
       "      <th>percent</th>\n",
       "    </tr>\n",
       "  </thead>\n",
       "  <tbody>\n",
       "    <tr>\n",
       "      <th>0</th>\n",
       "      <td>Главная страница</td>\n",
       "      <td>7419</td>\n",
       "      <td>98.47%</td>\n",
       "    </tr>\n",
       "    <tr>\n",
       "      <th>1</th>\n",
       "      <td>Страница товаров</td>\n",
       "      <td>4593</td>\n",
       "      <td>60.96%</td>\n",
       "    </tr>\n",
       "    <tr>\n",
       "      <th>2</th>\n",
       "      <td>Корзина</td>\n",
       "      <td>3734</td>\n",
       "      <td>49.56%</td>\n",
       "    </tr>\n",
       "    <tr>\n",
       "      <th>3</th>\n",
       "      <td>Успешная оплата</td>\n",
       "      <td>3539</td>\n",
       "      <td>46.97%</td>\n",
       "    </tr>\n",
       "  </tbody>\n",
       "</table>\n",
       "</div>"
      ],
      "text/plain": [
       "         event_name  u_count percent\n",
       "0  Главная страница     7419  98.47%\n",
       "1  Страница товаров     4593  60.96%\n",
       "2           Корзина     3734  49.56%\n",
       "3   Успешная оплата     3539  46.97%"
      ]
     },
     "execution_count": 137,
     "metadata": {},
     "output_type": "execute_result"
    }
   ],
   "source": [
    "# удалим обучение из нашей воронки\n",
    "user_count.query('event_name != \"Обучение\"', inplace=True)\n",
    "user_count"
   ]
  },
  {
   "cell_type": "code",
   "execution_count": 138,
   "metadata": {},
   "outputs": [],
   "source": [
    "# посчитаем долю пользователей по отношению к предыдущему шагу\n",
    "user_count['percent_to_last'] = user_count['u_count'] / user_count['u_count'].shift(periods=1).fillna(user_count['u_count'][0]) * 100\n",
    "user_count['percent_to_last'] = user_count['percent_to_last'].map(lambda x: '{:.2f}%'.format(x))"
   ]
  },
  {
   "cell_type": "code",
   "execution_count": 139,
   "metadata": {},
   "outputs": [
    {
     "data": {
      "text/html": [
       "<div>\n",
       "<style scoped>\n",
       "    .dataframe tbody tr th:only-of-type {\n",
       "        vertical-align: middle;\n",
       "    }\n",
       "\n",
       "    .dataframe tbody tr th {\n",
       "        vertical-align: top;\n",
       "    }\n",
       "\n",
       "    .dataframe thead th {\n",
       "        text-align: right;\n",
       "    }\n",
       "</style>\n",
       "<table border=\"1\" class=\"dataframe\">\n",
       "  <thead>\n",
       "    <tr style=\"text-align: right;\">\n",
       "      <th></th>\n",
       "      <th>event_name</th>\n",
       "      <th>u_count</th>\n",
       "      <th>percent</th>\n",
       "      <th>percent_to_last</th>\n",
       "    </tr>\n",
       "  </thead>\n",
       "  <tbody>\n",
       "    <tr>\n",
       "      <th>0</th>\n",
       "      <td>Главная страница</td>\n",
       "      <td>7419</td>\n",
       "      <td>98.47%</td>\n",
       "      <td>100.00%</td>\n",
       "    </tr>\n",
       "    <tr>\n",
       "      <th>1</th>\n",
       "      <td>Страница товаров</td>\n",
       "      <td>4593</td>\n",
       "      <td>60.96%</td>\n",
       "      <td>61.91%</td>\n",
       "    </tr>\n",
       "    <tr>\n",
       "      <th>2</th>\n",
       "      <td>Корзина</td>\n",
       "      <td>3734</td>\n",
       "      <td>49.56%</td>\n",
       "      <td>81.30%</td>\n",
       "    </tr>\n",
       "    <tr>\n",
       "      <th>3</th>\n",
       "      <td>Успешная оплата</td>\n",
       "      <td>3539</td>\n",
       "      <td>46.97%</td>\n",
       "      <td>94.78%</td>\n",
       "    </tr>\n",
       "  </tbody>\n",
       "</table>\n",
       "</div>"
      ],
      "text/plain": [
       "         event_name  u_count percent percent_to_last\n",
       "0  Главная страница     7419  98.47%         100.00%\n",
       "1  Страница товаров     4593  60.96%          61.91%\n",
       "2           Корзина     3734  49.56%          81.30%\n",
       "3   Успешная оплата     3539  46.97%          94.78%"
      ]
     },
     "execution_count": 139,
     "metadata": {},
     "output_type": "execute_result"
    }
   ],
   "source": [
    "user_count.head()"
   ]
  },
  {
   "cell_type": "code",
   "execution_count": 140,
   "metadata": {},
   "outputs": [
    {
     "data": {
      "application/vnd.plotly.v1+json": {
       "config": {
        "plotlyServerURL": "https://plot.ly"
       },
       "data": [
        {
         "marker": {
          "color": [
           "deepskyblue",
           "lightsalmon",
           "tan",
           "teal",
           "silver"
          ]
         },
         "opacity": 0.65,
         "textinfo": "value+percent initial+percent previous",
         "textposition": "inside",
         "type": "funnel",
         "x": [
          7419,
          4593,
          3734,
          3539
         ],
         "y": [
          "Главная страница",
          "Страница товаров",
          "Корзина",
          "Успешная оплата"
         ]
        }
       ],
       "layout": {
        "template": {
         "data": {
          "bar": [
           {
            "error_x": {
             "color": "#2a3f5f"
            },
            "error_y": {
             "color": "#2a3f5f"
            },
            "marker": {
             "line": {
              "color": "#E5ECF6",
              "width": 0.5
             },
             "pattern": {
              "fillmode": "overlay",
              "size": 10,
              "solidity": 0.2
             }
            },
            "type": "bar"
           }
          ],
          "barpolar": [
           {
            "marker": {
             "line": {
              "color": "#E5ECF6",
              "width": 0.5
             },
             "pattern": {
              "fillmode": "overlay",
              "size": 10,
              "solidity": 0.2
             }
            },
            "type": "barpolar"
           }
          ],
          "carpet": [
           {
            "aaxis": {
             "endlinecolor": "#2a3f5f",
             "gridcolor": "white",
             "linecolor": "white",
             "minorgridcolor": "white",
             "startlinecolor": "#2a3f5f"
            },
            "baxis": {
             "endlinecolor": "#2a3f5f",
             "gridcolor": "white",
             "linecolor": "white",
             "minorgridcolor": "white",
             "startlinecolor": "#2a3f5f"
            },
            "type": "carpet"
           }
          ],
          "choropleth": [
           {
            "colorbar": {
             "outlinewidth": 0,
             "ticks": ""
            },
            "type": "choropleth"
           }
          ],
          "contour": [
           {
            "colorbar": {
             "outlinewidth": 0,
             "ticks": ""
            },
            "colorscale": [
             [
              0,
              "#0d0887"
             ],
             [
              0.1111111111111111,
              "#46039f"
             ],
             [
              0.2222222222222222,
              "#7201a8"
             ],
             [
              0.3333333333333333,
              "#9c179e"
             ],
             [
              0.4444444444444444,
              "#bd3786"
             ],
             [
              0.5555555555555556,
              "#d8576b"
             ],
             [
              0.6666666666666666,
              "#ed7953"
             ],
             [
              0.7777777777777778,
              "#fb9f3a"
             ],
             [
              0.8888888888888888,
              "#fdca26"
             ],
             [
              1,
              "#f0f921"
             ]
            ],
            "type": "contour"
           }
          ],
          "contourcarpet": [
           {
            "colorbar": {
             "outlinewidth": 0,
             "ticks": ""
            },
            "type": "contourcarpet"
           }
          ],
          "heatmap": [
           {
            "colorbar": {
             "outlinewidth": 0,
             "ticks": ""
            },
            "colorscale": [
             [
              0,
              "#0d0887"
             ],
             [
              0.1111111111111111,
              "#46039f"
             ],
             [
              0.2222222222222222,
              "#7201a8"
             ],
             [
              0.3333333333333333,
              "#9c179e"
             ],
             [
              0.4444444444444444,
              "#bd3786"
             ],
             [
              0.5555555555555556,
              "#d8576b"
             ],
             [
              0.6666666666666666,
              "#ed7953"
             ],
             [
              0.7777777777777778,
              "#fb9f3a"
             ],
             [
              0.8888888888888888,
              "#fdca26"
             ],
             [
              1,
              "#f0f921"
             ]
            ],
            "type": "heatmap"
           }
          ],
          "heatmapgl": [
           {
            "colorbar": {
             "outlinewidth": 0,
             "ticks": ""
            },
            "colorscale": [
             [
              0,
              "#0d0887"
             ],
             [
              0.1111111111111111,
              "#46039f"
             ],
             [
              0.2222222222222222,
              "#7201a8"
             ],
             [
              0.3333333333333333,
              "#9c179e"
             ],
             [
              0.4444444444444444,
              "#bd3786"
             ],
             [
              0.5555555555555556,
              "#d8576b"
             ],
             [
              0.6666666666666666,
              "#ed7953"
             ],
             [
              0.7777777777777778,
              "#fb9f3a"
             ],
             [
              0.8888888888888888,
              "#fdca26"
             ],
             [
              1,
              "#f0f921"
             ]
            ],
            "type": "heatmapgl"
           }
          ],
          "histogram": [
           {
            "marker": {
             "pattern": {
              "fillmode": "overlay",
              "size": 10,
              "solidity": 0.2
             }
            },
            "type": "histogram"
           }
          ],
          "histogram2d": [
           {
            "colorbar": {
             "outlinewidth": 0,
             "ticks": ""
            },
            "colorscale": [
             [
              0,
              "#0d0887"
             ],
             [
              0.1111111111111111,
              "#46039f"
             ],
             [
              0.2222222222222222,
              "#7201a8"
             ],
             [
              0.3333333333333333,
              "#9c179e"
             ],
             [
              0.4444444444444444,
              "#bd3786"
             ],
             [
              0.5555555555555556,
              "#d8576b"
             ],
             [
              0.6666666666666666,
              "#ed7953"
             ],
             [
              0.7777777777777778,
              "#fb9f3a"
             ],
             [
              0.8888888888888888,
              "#fdca26"
             ],
             [
              1,
              "#f0f921"
             ]
            ],
            "type": "histogram2d"
           }
          ],
          "histogram2dcontour": [
           {
            "colorbar": {
             "outlinewidth": 0,
             "ticks": ""
            },
            "colorscale": [
             [
              0,
              "#0d0887"
             ],
             [
              0.1111111111111111,
              "#46039f"
             ],
             [
              0.2222222222222222,
              "#7201a8"
             ],
             [
              0.3333333333333333,
              "#9c179e"
             ],
             [
              0.4444444444444444,
              "#bd3786"
             ],
             [
              0.5555555555555556,
              "#d8576b"
             ],
             [
              0.6666666666666666,
              "#ed7953"
             ],
             [
              0.7777777777777778,
              "#fb9f3a"
             ],
             [
              0.8888888888888888,
              "#fdca26"
             ],
             [
              1,
              "#f0f921"
             ]
            ],
            "type": "histogram2dcontour"
           }
          ],
          "mesh3d": [
           {
            "colorbar": {
             "outlinewidth": 0,
             "ticks": ""
            },
            "type": "mesh3d"
           }
          ],
          "parcoords": [
           {
            "line": {
             "colorbar": {
              "outlinewidth": 0,
              "ticks": ""
             }
            },
            "type": "parcoords"
           }
          ],
          "pie": [
           {
            "automargin": true,
            "type": "pie"
           }
          ],
          "scatter": [
           {
            "fillpattern": {
             "fillmode": "overlay",
             "size": 10,
             "solidity": 0.2
            },
            "type": "scatter"
           }
          ],
          "scatter3d": [
           {
            "line": {
             "colorbar": {
              "outlinewidth": 0,
              "ticks": ""
             }
            },
            "marker": {
             "colorbar": {
              "outlinewidth": 0,
              "ticks": ""
             }
            },
            "type": "scatter3d"
           }
          ],
          "scattercarpet": [
           {
            "marker": {
             "colorbar": {
              "outlinewidth": 0,
              "ticks": ""
             }
            },
            "type": "scattercarpet"
           }
          ],
          "scattergeo": [
           {
            "marker": {
             "colorbar": {
              "outlinewidth": 0,
              "ticks": ""
             }
            },
            "type": "scattergeo"
           }
          ],
          "scattergl": [
           {
            "marker": {
             "colorbar": {
              "outlinewidth": 0,
              "ticks": ""
             }
            },
            "type": "scattergl"
           }
          ],
          "scattermapbox": [
           {
            "marker": {
             "colorbar": {
              "outlinewidth": 0,
              "ticks": ""
             }
            },
            "type": "scattermapbox"
           }
          ],
          "scatterpolar": [
           {
            "marker": {
             "colorbar": {
              "outlinewidth": 0,
              "ticks": ""
             }
            },
            "type": "scatterpolar"
           }
          ],
          "scatterpolargl": [
           {
            "marker": {
             "colorbar": {
              "outlinewidth": 0,
              "ticks": ""
             }
            },
            "type": "scatterpolargl"
           }
          ],
          "scatterternary": [
           {
            "marker": {
             "colorbar": {
              "outlinewidth": 0,
              "ticks": ""
             }
            },
            "type": "scatterternary"
           }
          ],
          "surface": [
           {
            "colorbar": {
             "outlinewidth": 0,
             "ticks": ""
            },
            "colorscale": [
             [
              0,
              "#0d0887"
             ],
             [
              0.1111111111111111,
              "#46039f"
             ],
             [
              0.2222222222222222,
              "#7201a8"
             ],
             [
              0.3333333333333333,
              "#9c179e"
             ],
             [
              0.4444444444444444,
              "#bd3786"
             ],
             [
              0.5555555555555556,
              "#d8576b"
             ],
             [
              0.6666666666666666,
              "#ed7953"
             ],
             [
              0.7777777777777778,
              "#fb9f3a"
             ],
             [
              0.8888888888888888,
              "#fdca26"
             ],
             [
              1,
              "#f0f921"
             ]
            ],
            "type": "surface"
           }
          ],
          "table": [
           {
            "cells": {
             "fill": {
              "color": "#EBF0F8"
             },
             "line": {
              "color": "white"
             }
            },
            "header": {
             "fill": {
              "color": "#C8D4E3"
             },
             "line": {
              "color": "white"
             }
            },
            "type": "table"
           }
          ]
         },
         "layout": {
          "annotationdefaults": {
           "arrowcolor": "#2a3f5f",
           "arrowhead": 0,
           "arrowwidth": 1
          },
          "autotypenumbers": "strict",
          "coloraxis": {
           "colorbar": {
            "outlinewidth": 0,
            "ticks": ""
           }
          },
          "colorscale": {
           "diverging": [
            [
             0,
             "#8e0152"
            ],
            [
             0.1,
             "#c51b7d"
            ],
            [
             0.2,
             "#de77ae"
            ],
            [
             0.3,
             "#f1b6da"
            ],
            [
             0.4,
             "#fde0ef"
            ],
            [
             0.5,
             "#f7f7f7"
            ],
            [
             0.6,
             "#e6f5d0"
            ],
            [
             0.7,
             "#b8e186"
            ],
            [
             0.8,
             "#7fbc41"
            ],
            [
             0.9,
             "#4d9221"
            ],
            [
             1,
             "#276419"
            ]
           ],
           "sequential": [
            [
             0,
             "#0d0887"
            ],
            [
             0.1111111111111111,
             "#46039f"
            ],
            [
             0.2222222222222222,
             "#7201a8"
            ],
            [
             0.3333333333333333,
             "#9c179e"
            ],
            [
             0.4444444444444444,
             "#bd3786"
            ],
            [
             0.5555555555555556,
             "#d8576b"
            ],
            [
             0.6666666666666666,
             "#ed7953"
            ],
            [
             0.7777777777777778,
             "#fb9f3a"
            ],
            [
             0.8888888888888888,
             "#fdca26"
            ],
            [
             1,
             "#f0f921"
            ]
           ],
           "sequentialminus": [
            [
             0,
             "#0d0887"
            ],
            [
             0.1111111111111111,
             "#46039f"
            ],
            [
             0.2222222222222222,
             "#7201a8"
            ],
            [
             0.3333333333333333,
             "#9c179e"
            ],
            [
             0.4444444444444444,
             "#bd3786"
            ],
            [
             0.5555555555555556,
             "#d8576b"
            ],
            [
             0.6666666666666666,
             "#ed7953"
            ],
            [
             0.7777777777777778,
             "#fb9f3a"
            ],
            [
             0.8888888888888888,
             "#fdca26"
            ],
            [
             1,
             "#f0f921"
            ]
           ]
          },
          "colorway": [
           "#636efa",
           "#EF553B",
           "#00cc96",
           "#ab63fa",
           "#FFA15A",
           "#19d3f3",
           "#FF6692",
           "#B6E880",
           "#FF97FF",
           "#FECB52"
          ],
          "font": {
           "color": "#2a3f5f"
          },
          "geo": {
           "bgcolor": "white",
           "lakecolor": "white",
           "landcolor": "#E5ECF6",
           "showlakes": true,
           "showland": true,
           "subunitcolor": "white"
          },
          "hoverlabel": {
           "align": "left"
          },
          "hovermode": "closest",
          "mapbox": {
           "style": "light"
          },
          "paper_bgcolor": "white",
          "plot_bgcolor": "#E5ECF6",
          "polar": {
           "angularaxis": {
            "gridcolor": "white",
            "linecolor": "white",
            "ticks": ""
           },
           "bgcolor": "#E5ECF6",
           "radialaxis": {
            "gridcolor": "white",
            "linecolor": "white",
            "ticks": ""
           }
          },
          "scene": {
           "xaxis": {
            "backgroundcolor": "#E5ECF6",
            "gridcolor": "white",
            "gridwidth": 2,
            "linecolor": "white",
            "showbackground": true,
            "ticks": "",
            "zerolinecolor": "white"
           },
           "yaxis": {
            "backgroundcolor": "#E5ECF6",
            "gridcolor": "white",
            "gridwidth": 2,
            "linecolor": "white",
            "showbackground": true,
            "ticks": "",
            "zerolinecolor": "white"
           },
           "zaxis": {
            "backgroundcolor": "#E5ECF6",
            "gridcolor": "white",
            "gridwidth": 2,
            "linecolor": "white",
            "showbackground": true,
            "ticks": "",
            "zerolinecolor": "white"
           }
          },
          "shapedefaults": {
           "line": {
            "color": "#2a3f5f"
           }
          },
          "ternary": {
           "aaxis": {
            "gridcolor": "white",
            "linecolor": "white",
            "ticks": ""
           },
           "baxis": {
            "gridcolor": "white",
            "linecolor": "white",
            "ticks": ""
           },
           "bgcolor": "#E5ECF6",
           "caxis": {
            "gridcolor": "white",
            "linecolor": "white",
            "ticks": ""
           }
          },
          "title": {
           "x": 0.05
          },
          "xaxis": {
           "automargin": true,
           "gridcolor": "white",
           "linecolor": "white",
           "ticks": "",
           "title": {
            "standoff": 15
           },
           "zerolinecolor": "white",
           "zerolinewidth": 2
          },
          "yaxis": {
           "automargin": true,
           "gridcolor": "white",
           "linecolor": "white",
           "ticks": "",
           "title": {
            "standoff": 15
           },
           "zerolinecolor": "white",
           "zerolinewidth": 2
          }
         }
        }
       }
      },
      "text/html": [
       "<div>                            <div id=\"f29ebc0b-f422-435f-99b7-6fe06004e4e6\" class=\"plotly-graph-div\" style=\"height:525px; width:100%;\"></div>            <script type=\"text/javascript\">                require([\"plotly\"], function(Plotly) {                    window.PLOTLYENV=window.PLOTLYENV || {};                                    if (document.getElementById(\"f29ebc0b-f422-435f-99b7-6fe06004e4e6\")) {                    Plotly.newPlot(                        \"f29ebc0b-f422-435f-99b7-6fe06004e4e6\",                        [{\"marker\":{\"color\":[\"deepskyblue\",\"lightsalmon\",\"tan\",\"teal\",\"silver\"]},\"opacity\":0.65,\"textinfo\":\"value+percent initial+percent previous\",\"textposition\":\"inside\",\"x\":[7419,4593,3734,3539],\"y\":[\"\\u0413\\u043b\\u0430\\u0432\\u043d\\u0430\\u044f \\u0441\\u0442\\u0440\\u0430\\u043d\\u0438\\u0446\\u0430\",\"\\u0421\\u0442\\u0440\\u0430\\u043d\\u0438\\u0446\\u0430 \\u0442\\u043e\\u0432\\u0430\\u0440\\u043e\\u0432\",\"\\u041a\\u043e\\u0440\\u0437\\u0438\\u043d\\u0430\",\"\\u0423\\u0441\\u043f\\u0435\\u0448\\u043d\\u0430\\u044f \\u043e\\u043f\\u043b\\u0430\\u0442\\u0430\"],\"type\":\"funnel\"}],                        {\"template\":{\"data\":{\"histogram2dcontour\":[{\"type\":\"histogram2dcontour\",\"colorbar\":{\"outlinewidth\":0,\"ticks\":\"\"},\"colorscale\":[[0.0,\"#0d0887\"],[0.1111111111111111,\"#46039f\"],[0.2222222222222222,\"#7201a8\"],[0.3333333333333333,\"#9c179e\"],[0.4444444444444444,\"#bd3786\"],[0.5555555555555556,\"#d8576b\"],[0.6666666666666666,\"#ed7953\"],[0.7777777777777778,\"#fb9f3a\"],[0.8888888888888888,\"#fdca26\"],[1.0,\"#f0f921\"]]}],\"choropleth\":[{\"type\":\"choropleth\",\"colorbar\":{\"outlinewidth\":0,\"ticks\":\"\"}}],\"histogram2d\":[{\"type\":\"histogram2d\",\"colorbar\":{\"outlinewidth\":0,\"ticks\":\"\"},\"colorscale\":[[0.0,\"#0d0887\"],[0.1111111111111111,\"#46039f\"],[0.2222222222222222,\"#7201a8\"],[0.3333333333333333,\"#9c179e\"],[0.4444444444444444,\"#bd3786\"],[0.5555555555555556,\"#d8576b\"],[0.6666666666666666,\"#ed7953\"],[0.7777777777777778,\"#fb9f3a\"],[0.8888888888888888,\"#fdca26\"],[1.0,\"#f0f921\"]]}],\"heatmap\":[{\"type\":\"heatmap\",\"colorbar\":{\"outlinewidth\":0,\"ticks\":\"\"},\"colorscale\":[[0.0,\"#0d0887\"],[0.1111111111111111,\"#46039f\"],[0.2222222222222222,\"#7201a8\"],[0.3333333333333333,\"#9c179e\"],[0.4444444444444444,\"#bd3786\"],[0.5555555555555556,\"#d8576b\"],[0.6666666666666666,\"#ed7953\"],[0.7777777777777778,\"#fb9f3a\"],[0.8888888888888888,\"#fdca26\"],[1.0,\"#f0f921\"]]}],\"heatmapgl\":[{\"type\":\"heatmapgl\",\"colorbar\":{\"outlinewidth\":0,\"ticks\":\"\"},\"colorscale\":[[0.0,\"#0d0887\"],[0.1111111111111111,\"#46039f\"],[0.2222222222222222,\"#7201a8\"],[0.3333333333333333,\"#9c179e\"],[0.4444444444444444,\"#bd3786\"],[0.5555555555555556,\"#d8576b\"],[0.6666666666666666,\"#ed7953\"],[0.7777777777777778,\"#fb9f3a\"],[0.8888888888888888,\"#fdca26\"],[1.0,\"#f0f921\"]]}],\"contourcarpet\":[{\"type\":\"contourcarpet\",\"colorbar\":{\"outlinewidth\":0,\"ticks\":\"\"}}],\"contour\":[{\"type\":\"contour\",\"colorbar\":{\"outlinewidth\":0,\"ticks\":\"\"},\"colorscale\":[[0.0,\"#0d0887\"],[0.1111111111111111,\"#46039f\"],[0.2222222222222222,\"#7201a8\"],[0.3333333333333333,\"#9c179e\"],[0.4444444444444444,\"#bd3786\"],[0.5555555555555556,\"#d8576b\"],[0.6666666666666666,\"#ed7953\"],[0.7777777777777778,\"#fb9f3a\"],[0.8888888888888888,\"#fdca26\"],[1.0,\"#f0f921\"]]}],\"surface\":[{\"type\":\"surface\",\"colorbar\":{\"outlinewidth\":0,\"ticks\":\"\"},\"colorscale\":[[0.0,\"#0d0887\"],[0.1111111111111111,\"#46039f\"],[0.2222222222222222,\"#7201a8\"],[0.3333333333333333,\"#9c179e\"],[0.4444444444444444,\"#bd3786\"],[0.5555555555555556,\"#d8576b\"],[0.6666666666666666,\"#ed7953\"],[0.7777777777777778,\"#fb9f3a\"],[0.8888888888888888,\"#fdca26\"],[1.0,\"#f0f921\"]]}],\"mesh3d\":[{\"type\":\"mesh3d\",\"colorbar\":{\"outlinewidth\":0,\"ticks\":\"\"}}],\"scatter\":[{\"fillpattern\":{\"fillmode\":\"overlay\",\"size\":10,\"solidity\":0.2},\"type\":\"scatter\"}],\"parcoords\":[{\"type\":\"parcoords\",\"line\":{\"colorbar\":{\"outlinewidth\":0,\"ticks\":\"\"}}}],\"scatterpolargl\":[{\"type\":\"scatterpolargl\",\"marker\":{\"colorbar\":{\"outlinewidth\":0,\"ticks\":\"\"}}}],\"bar\":[{\"error_x\":{\"color\":\"#2a3f5f\"},\"error_y\":{\"color\":\"#2a3f5f\"},\"marker\":{\"line\":{\"color\":\"#E5ECF6\",\"width\":0.5},\"pattern\":{\"fillmode\":\"overlay\",\"size\":10,\"solidity\":0.2}},\"type\":\"bar\"}],\"scattergeo\":[{\"type\":\"scattergeo\",\"marker\":{\"colorbar\":{\"outlinewidth\":0,\"ticks\":\"\"}}}],\"scatterpolar\":[{\"type\":\"scatterpolar\",\"marker\":{\"colorbar\":{\"outlinewidth\":0,\"ticks\":\"\"}}}],\"histogram\":[{\"marker\":{\"pattern\":{\"fillmode\":\"overlay\",\"size\":10,\"solidity\":0.2}},\"type\":\"histogram\"}],\"scattergl\":[{\"type\":\"scattergl\",\"marker\":{\"colorbar\":{\"outlinewidth\":0,\"ticks\":\"\"}}}],\"scatter3d\":[{\"type\":\"scatter3d\",\"line\":{\"colorbar\":{\"outlinewidth\":0,\"ticks\":\"\"}},\"marker\":{\"colorbar\":{\"outlinewidth\":0,\"ticks\":\"\"}}}],\"scattermapbox\":[{\"type\":\"scattermapbox\",\"marker\":{\"colorbar\":{\"outlinewidth\":0,\"ticks\":\"\"}}}],\"scatterternary\":[{\"type\":\"scatterternary\",\"marker\":{\"colorbar\":{\"outlinewidth\":0,\"ticks\":\"\"}}}],\"scattercarpet\":[{\"type\":\"scattercarpet\",\"marker\":{\"colorbar\":{\"outlinewidth\":0,\"ticks\":\"\"}}}],\"carpet\":[{\"aaxis\":{\"endlinecolor\":\"#2a3f5f\",\"gridcolor\":\"white\",\"linecolor\":\"white\",\"minorgridcolor\":\"white\",\"startlinecolor\":\"#2a3f5f\"},\"baxis\":{\"endlinecolor\":\"#2a3f5f\",\"gridcolor\":\"white\",\"linecolor\":\"white\",\"minorgridcolor\":\"white\",\"startlinecolor\":\"#2a3f5f\"},\"type\":\"carpet\"}],\"table\":[{\"cells\":{\"fill\":{\"color\":\"#EBF0F8\"},\"line\":{\"color\":\"white\"}},\"header\":{\"fill\":{\"color\":\"#C8D4E3\"},\"line\":{\"color\":\"white\"}},\"type\":\"table\"}],\"barpolar\":[{\"marker\":{\"line\":{\"color\":\"#E5ECF6\",\"width\":0.5},\"pattern\":{\"fillmode\":\"overlay\",\"size\":10,\"solidity\":0.2}},\"type\":\"barpolar\"}],\"pie\":[{\"automargin\":true,\"type\":\"pie\"}]},\"layout\":{\"autotypenumbers\":\"strict\",\"colorway\":[\"#636efa\",\"#EF553B\",\"#00cc96\",\"#ab63fa\",\"#FFA15A\",\"#19d3f3\",\"#FF6692\",\"#B6E880\",\"#FF97FF\",\"#FECB52\"],\"font\":{\"color\":\"#2a3f5f\"},\"hovermode\":\"closest\",\"hoverlabel\":{\"align\":\"left\"},\"paper_bgcolor\":\"white\",\"plot_bgcolor\":\"#E5ECF6\",\"polar\":{\"bgcolor\":\"#E5ECF6\",\"angularaxis\":{\"gridcolor\":\"white\",\"linecolor\":\"white\",\"ticks\":\"\"},\"radialaxis\":{\"gridcolor\":\"white\",\"linecolor\":\"white\",\"ticks\":\"\"}},\"ternary\":{\"bgcolor\":\"#E5ECF6\",\"aaxis\":{\"gridcolor\":\"white\",\"linecolor\":\"white\",\"ticks\":\"\"},\"baxis\":{\"gridcolor\":\"white\",\"linecolor\":\"white\",\"ticks\":\"\"},\"caxis\":{\"gridcolor\":\"white\",\"linecolor\":\"white\",\"ticks\":\"\"}},\"coloraxis\":{\"colorbar\":{\"outlinewidth\":0,\"ticks\":\"\"}},\"colorscale\":{\"sequential\":[[0.0,\"#0d0887\"],[0.1111111111111111,\"#46039f\"],[0.2222222222222222,\"#7201a8\"],[0.3333333333333333,\"#9c179e\"],[0.4444444444444444,\"#bd3786\"],[0.5555555555555556,\"#d8576b\"],[0.6666666666666666,\"#ed7953\"],[0.7777777777777778,\"#fb9f3a\"],[0.8888888888888888,\"#fdca26\"],[1.0,\"#f0f921\"]],\"sequentialminus\":[[0.0,\"#0d0887\"],[0.1111111111111111,\"#46039f\"],[0.2222222222222222,\"#7201a8\"],[0.3333333333333333,\"#9c179e\"],[0.4444444444444444,\"#bd3786\"],[0.5555555555555556,\"#d8576b\"],[0.6666666666666666,\"#ed7953\"],[0.7777777777777778,\"#fb9f3a\"],[0.8888888888888888,\"#fdca26\"],[1.0,\"#f0f921\"]],\"diverging\":[[0,\"#8e0152\"],[0.1,\"#c51b7d\"],[0.2,\"#de77ae\"],[0.3,\"#f1b6da\"],[0.4,\"#fde0ef\"],[0.5,\"#f7f7f7\"],[0.6,\"#e6f5d0\"],[0.7,\"#b8e186\"],[0.8,\"#7fbc41\"],[0.9,\"#4d9221\"],[1,\"#276419\"]]},\"xaxis\":{\"gridcolor\":\"white\",\"linecolor\":\"white\",\"ticks\":\"\",\"title\":{\"standoff\":15},\"zerolinecolor\":\"white\",\"automargin\":true,\"zerolinewidth\":2},\"yaxis\":{\"gridcolor\":\"white\",\"linecolor\":\"white\",\"ticks\":\"\",\"title\":{\"standoff\":15},\"zerolinecolor\":\"white\",\"automargin\":true,\"zerolinewidth\":2},\"scene\":{\"xaxis\":{\"backgroundcolor\":\"#E5ECF6\",\"gridcolor\":\"white\",\"linecolor\":\"white\",\"showbackground\":true,\"ticks\":\"\",\"zerolinecolor\":\"white\",\"gridwidth\":2},\"yaxis\":{\"backgroundcolor\":\"#E5ECF6\",\"gridcolor\":\"white\",\"linecolor\":\"white\",\"showbackground\":true,\"ticks\":\"\",\"zerolinecolor\":\"white\",\"gridwidth\":2},\"zaxis\":{\"backgroundcolor\":\"#E5ECF6\",\"gridcolor\":\"white\",\"linecolor\":\"white\",\"showbackground\":true,\"ticks\":\"\",\"zerolinecolor\":\"white\",\"gridwidth\":2}},\"shapedefaults\":{\"line\":{\"color\":\"#2a3f5f\"}},\"annotationdefaults\":{\"arrowcolor\":\"#2a3f5f\",\"arrowhead\":0,\"arrowwidth\":1},\"geo\":{\"bgcolor\":\"white\",\"landcolor\":\"#E5ECF6\",\"subunitcolor\":\"white\",\"showland\":true,\"showlakes\":true,\"lakecolor\":\"white\"},\"title\":{\"x\":0.05},\"mapbox\":{\"style\":\"light\"}}}},                        {\"responsive\": true}                    ).then(function(){\n",
       "                            \n",
       "var gd = document.getElementById('f29ebc0b-f422-435f-99b7-6fe06004e4e6');\n",
       "var x = new MutationObserver(function (mutations, observer) {{\n",
       "        var display = window.getComputedStyle(gd).display;\n",
       "        if (!display || display === 'none') {{\n",
       "            console.log([gd, 'removed!']);\n",
       "            Plotly.purge(gd);\n",
       "            observer.disconnect();\n",
       "        }}\n",
       "}});\n",
       "\n",
       "// Listen for the removal of the full notebook cells\n",
       "var notebookContainer = gd.closest('#notebook-container');\n",
       "if (notebookContainer) {{\n",
       "    x.observe(notebookContainer, {childList: true});\n",
       "}}\n",
       "\n",
       "// Listen for the clearing of the current output cell\n",
       "var outputEl = gd.closest('.output');\n",
       "if (outputEl) {{\n",
       "    x.observe(outputEl, {childList: true});\n",
       "}}\n",
       "\n",
       "                        })                };                });            </script>        </div>"
      ]
     },
     "metadata": {},
     "output_type": "display_data"
    }
   ],
   "source": [
    "# построим воронку событий с отношением к общему количеству пользователей и к количеству пользователей на предыдущем шаге\n",
    "go.Figure(go.Funnel(\n",
    "    y = user_count['event_name'],\n",
    "    x = user_count['u_count'],\n",
    "    textposition = \"inside\",\n",
    "    textinfo = \"value+percent initial+percent previous\",\n",
    "    opacity = 0.65, marker = {\"color\": [\"deepskyblue\", \"lightsalmon\", \"tan\", \"teal\", \"silver\"]})\n",
    ")"
   ]
  },
  {
   "attachments": {
    "image.png": {
     "image/png": "[encoded data removed]"
    }
   },
   "cell_type": "markdown",
   "metadata": {},
   "source": [
    "![image.png](attachment:image.png)"
   ]
  },
  {
   "cell_type": "markdown",
   "metadata": {},
   "source": [
    "Больше всего пользователей мы теряем на шаге перехода с главной страницы на страницу товара. От первого события до оплаты доходит лишь 48% пользователей."
   ]
  },
  {
   "cell_type": "markdown",
   "metadata": {},
   "source": [
    "### Изучение результатов эксперимента"
   ]
  },
  {
   "cell_type": "markdown",
   "metadata": {},
   "source": [
    "#### Количество пользователей в каждой экспериментальной группе"
   ]
  },
  {
   "cell_type": "code",
   "execution_count": 141,
   "metadata": {},
   "outputs": [
    {
     "data": {
      "text/plain": [
       "group\n",
       "246    2484\n",
       "247    2513\n",
       "248    2537\n",
       "Name: user_id, dtype: int64"
      ]
     },
     "execution_count": 141,
     "metadata": {},
     "output_type": "execute_result"
    }
   ],
   "source": [
    "group_ucount = df.groupby('group')['user_id'].agg('nunique')\n",
    "group_ucount"
   ]
  },
  {
   "cell_type": "markdown",
   "metadata": {},
   "source": [
    "В контрольных группах 246 и 247 находятся 2484 и 2513 пользователей соответственно. В экспериментальной группе 248 - 2537 пользователей."
   ]
  },
  {
   "cell_type": "markdown",
   "metadata": {},
   "source": [
    "#### A/B тест"
   ]
  },
  {
   "cell_type": "markdown",
   "metadata": {},
   "source": [
    "Сформулируем гипотезы: \n",
    "    \n",
    "    H0: доли уникальных посетителей, побывавших на этапе воронки, одинаковы.\n",
    "    H1: между долями уникальных посетителей, побывавших на этапе воронки, есть значимая разница.\n",
    "    \n",
    "Для проверки будем использовать proportion_ztest    "
   ]
  },
  {
   "cell_type": "code",
   "execution_count": 142,
   "metadata": {},
   "outputs": [
    {
     "data": {
      "text/plain": [
       "array(['Главная страница', 'Страница товаров', 'Корзина',\n",
       "       'Успешная оплата'], dtype=object)"
      ]
     },
     "execution_count": 142,
     "metadata": {},
     "output_type": "execute_result"
    }
   ],
   "source": [
    "# удалим из логов событие \"Обучение\"\n",
    "df_new = df.query('event_name != \"Обучение\"')\n",
    "df_new['event_name'].unique()"
   ]
  },
  {
   "cell_type": "markdown",
   "metadata": {},
   "source": [
    "Для удобства заменим цифры, обозначающие группы, на буквы."
   ]
  },
  {
   "cell_type": "code",
   "execution_count": 143,
   "metadata": {},
   "outputs": [
    {
     "data": {
      "text/plain": [
       "array(['A1', 'A2', 'B'], dtype=object)"
      ]
     },
     "execution_count": 143,
     "metadata": {},
     "output_type": "execute_result"
    }
   ],
   "source": [
    "df_new.replace({246: 'A1', 247: 'A2', 248: 'B'}, inplace=True)\n",
    "df_new['group'].unique()"
   ]
  },
  {
   "cell_type": "code",
   "execution_count": 144,
   "metadata": {},
   "outputs": [
    {
     "data": {
      "text/html": [
       "<div>\n",
       "<style scoped>\n",
       "    .dataframe tbody tr th:only-of-type {\n",
       "        vertical-align: middle;\n",
       "    }\n",
       "\n",
       "    .dataframe tbody tr th {\n",
       "        vertical-align: top;\n",
       "    }\n",
       "\n",
       "    .dataframe thead th {\n",
       "        text-align: right;\n",
       "    }\n",
       "</style>\n",
       "<table border=\"1\" class=\"dataframe\">\n",
       "  <thead>\n",
       "    <tr style=\"text-align: right;\">\n",
       "      <th>group</th>\n",
       "      <th>event_name</th>\n",
       "      <th>A1</th>\n",
       "      <th>A2</th>\n",
       "      <th>B</th>\n",
       "      <th>All</th>\n",
       "    </tr>\n",
       "  </thead>\n",
       "  <tbody>\n",
       "    <tr>\n",
       "      <th>0</th>\n",
       "      <td>Главная страница</td>\n",
       "      <td>2450</td>\n",
       "      <td>2476</td>\n",
       "      <td>2493</td>\n",
       "      <td>7419</td>\n",
       "    </tr>\n",
       "    <tr>\n",
       "      <th>1</th>\n",
       "      <td>Корзина</td>\n",
       "      <td>1266</td>\n",
       "      <td>1238</td>\n",
       "      <td>1230</td>\n",
       "      <td>3734</td>\n",
       "    </tr>\n",
       "    <tr>\n",
       "      <th>2</th>\n",
       "      <td>Страница товаров</td>\n",
       "      <td>1542</td>\n",
       "      <td>1520</td>\n",
       "      <td>1531</td>\n",
       "      <td>4593</td>\n",
       "    </tr>\n",
       "    <tr>\n",
       "      <th>3</th>\n",
       "      <td>Успешная оплата</td>\n",
       "      <td>1200</td>\n",
       "      <td>1158</td>\n",
       "      <td>1181</td>\n",
       "      <td>3539</td>\n",
       "    </tr>\n",
       "    <tr>\n",
       "      <th>4</th>\n",
       "      <td>All</td>\n",
       "      <td>2483</td>\n",
       "      <td>2512</td>\n",
       "      <td>2535</td>\n",
       "      <td>7530</td>\n",
       "    </tr>\n",
       "  </tbody>\n",
       "</table>\n",
       "</div>"
      ],
      "text/plain": [
       "group        event_name    A1    A2     B   All\n",
       "0      Главная страница  2450  2476  2493  7419\n",
       "1               Корзина  1266  1238  1230  3734\n",
       "2      Страница товаров  1542  1520  1531  4593\n",
       "3       Успешная оплата  1200  1158  1181  3539\n",
       "4                   All  2483  2512  2535  7530"
      ]
     },
     "execution_count": 144,
     "metadata": {},
     "output_type": "execute_result"
    }
   ],
   "source": [
    "# для удобства создадим сводную таблицу с количеством пользователей для каждого события в каждой группе\n",
    "event_grouped = df_new.pivot_table(\n",
    "    index='event_name', \n",
    "    columns='group', \n",
    "    values='user_id', \n",
    "    aggfunc='nunique',\n",
    "    margins=True\n",
    ").reset_index()\n",
    "event_grouped"
   ]
  },
  {
   "cell_type": "code",
   "execution_count": 145,
   "metadata": {},
   "outputs": [
    {
     "data": {
      "text/html": [
       "<div>\n",
       "<style scoped>\n",
       "    .dataframe tbody tr th:only-of-type {\n",
       "        vertical-align: middle;\n",
       "    }\n",
       "\n",
       "    .dataframe tbody tr th {\n",
       "        vertical-align: top;\n",
       "    }\n",
       "\n",
       "    .dataframe thead th {\n",
       "        text-align: right;\n",
       "    }\n",
       "</style>\n",
       "<table border=\"1\" class=\"dataframe\">\n",
       "  <thead>\n",
       "    <tr style=\"text-align: right;\">\n",
       "      <th>group</th>\n",
       "      <th>event_name</th>\n",
       "      <th>A1</th>\n",
       "      <th>A2</th>\n",
       "      <th>B</th>\n",
       "      <th>All</th>\n",
       "      <th>A</th>\n",
       "    </tr>\n",
       "  </thead>\n",
       "  <tbody>\n",
       "    <tr>\n",
       "      <th>0</th>\n",
       "      <td>Главная страница</td>\n",
       "      <td>2450</td>\n",
       "      <td>2476</td>\n",
       "      <td>2493</td>\n",
       "      <td>7419</td>\n",
       "      <td>4926</td>\n",
       "    </tr>\n",
       "    <tr>\n",
       "      <th>1</th>\n",
       "      <td>Корзина</td>\n",
       "      <td>1266</td>\n",
       "      <td>1238</td>\n",
       "      <td>1230</td>\n",
       "      <td>3734</td>\n",
       "      <td>2504</td>\n",
       "    </tr>\n",
       "    <tr>\n",
       "      <th>2</th>\n",
       "      <td>Страница товаров</td>\n",
       "      <td>1542</td>\n",
       "      <td>1520</td>\n",
       "      <td>1531</td>\n",
       "      <td>4593</td>\n",
       "      <td>3062</td>\n",
       "    </tr>\n",
       "    <tr>\n",
       "      <th>3</th>\n",
       "      <td>Успешная оплата</td>\n",
       "      <td>1200</td>\n",
       "      <td>1158</td>\n",
       "      <td>1181</td>\n",
       "      <td>3539</td>\n",
       "      <td>2358</td>\n",
       "    </tr>\n",
       "    <tr>\n",
       "      <th>4</th>\n",
       "      <td>All</td>\n",
       "      <td>2483</td>\n",
       "      <td>2512</td>\n",
       "      <td>2535</td>\n",
       "      <td>7530</td>\n",
       "      <td>4995</td>\n",
       "    </tr>\n",
       "  </tbody>\n",
       "</table>\n",
       "</div>"
      ],
      "text/plain": [
       "group        event_name    A1    A2     B   All     A\n",
       "0      Главная страница  2450  2476  2493  7419  4926\n",
       "1               Корзина  1266  1238  1230  3734  2504\n",
       "2      Страница товаров  1542  1520  1531  4593  3062\n",
       "3       Успешная оплата  1200  1158  1181  3539  2358\n",
       "4                   All  2483  2512  2535  7530  4995"
      ]
     },
     "execution_count": 145,
     "metadata": {},
     "output_type": "execute_result"
    }
   ],
   "source": [
    "# создадим столбец, в котором объединим количество уникальных пользователей для двух контрольных групп\n",
    "event_grouped['A'] = event_grouped['A1'] + event_grouped['A2']\n",
    "event_grouped"
   ]
  },
  {
   "cell_type": "code",
   "execution_count": 146,
   "metadata": {},
   "outputs": [],
   "source": [
    "event_grouped.drop(columns='All', inplace=True)"
   ]
  },
  {
   "cell_type": "code",
   "execution_count": 147,
   "metadata": {},
   "outputs": [],
   "source": [
    "event_grouped['event_name'].replace({'All': 'Всего пользователей'}, inplace=True)"
   ]
  },
  {
   "cell_type": "code",
   "execution_count": 148,
   "metadata": {},
   "outputs": [
    {
     "data": {
      "text/html": [
       "<div>\n",
       "<style scoped>\n",
       "    .dataframe tbody tr th:only-of-type {\n",
       "        vertical-align: middle;\n",
       "    }\n",
       "\n",
       "    .dataframe tbody tr th {\n",
       "        vertical-align: top;\n",
       "    }\n",
       "\n",
       "    .dataframe thead th {\n",
       "        text-align: right;\n",
       "    }\n",
       "</style>\n",
       "<table border=\"1\" class=\"dataframe\">\n",
       "  <thead>\n",
       "    <tr style=\"text-align: right;\">\n",
       "      <th>group</th>\n",
       "      <th>event_name</th>\n",
       "      <th>A1</th>\n",
       "      <th>A2</th>\n",
       "      <th>B</th>\n",
       "      <th>A</th>\n",
       "    </tr>\n",
       "  </thead>\n",
       "  <tbody>\n",
       "    <tr>\n",
       "      <th>0</th>\n",
       "      <td>Главная страница</td>\n",
       "      <td>2450</td>\n",
       "      <td>2476</td>\n",
       "      <td>2493</td>\n",
       "      <td>4926</td>\n",
       "    </tr>\n",
       "    <tr>\n",
       "      <th>1</th>\n",
       "      <td>Корзина</td>\n",
       "      <td>1266</td>\n",
       "      <td>1238</td>\n",
       "      <td>1230</td>\n",
       "      <td>2504</td>\n",
       "    </tr>\n",
       "    <tr>\n",
       "      <th>2</th>\n",
       "      <td>Страница товаров</td>\n",
       "      <td>1542</td>\n",
       "      <td>1520</td>\n",
       "      <td>1531</td>\n",
       "      <td>3062</td>\n",
       "    </tr>\n",
       "    <tr>\n",
       "      <th>3</th>\n",
       "      <td>Успешная оплата</td>\n",
       "      <td>1200</td>\n",
       "      <td>1158</td>\n",
       "      <td>1181</td>\n",
       "      <td>2358</td>\n",
       "    </tr>\n",
       "    <tr>\n",
       "      <th>4</th>\n",
       "      <td>Всего пользователей</td>\n",
       "      <td>2483</td>\n",
       "      <td>2512</td>\n",
       "      <td>2535</td>\n",
       "      <td>4995</td>\n",
       "    </tr>\n",
       "  </tbody>\n",
       "</table>\n",
       "</div>"
      ],
      "text/plain": [
       "group           event_name    A1    A2     B     A\n",
       "0         Главная страница  2450  2476  2493  4926\n",
       "1                  Корзина  1266  1238  1230  2504\n",
       "2         Страница товаров  1542  1520  1531  3062\n",
       "3          Успешная оплата  1200  1158  1181  2358\n",
       "4      Всего пользователей  2483  2512  2535  4995"
      ]
     },
     "execution_count": 148,
     "metadata": {},
     "output_type": "execute_result"
    }
   ],
   "source": [
    "event_grouped"
   ]
  },
  {
   "cell_type": "code",
   "execution_count": 149,
   "metadata": {},
   "outputs": [],
   "source": [
    "# для удобства создадим функцию проведения z-test`а\n",
    "def z_test(df, exp_group1, exp_group2, event, alpha):\n",
    "    count = np.array(\n",
    "        [df.query('event_name == @event')[exp_group1].sum(), \n",
    "         df.query('event_name == @event')[exp_group2].sum()]\n",
    "    )\n",
    "\n",
    "    nobs = np.array(\n",
    "        [df.query('event_name == \"Всего пользователей\"')[exp_group1].sum(), \n",
    "         df.query('event_name == \"Всего пользователей\"')[exp_group2].sum()]\n",
    "    )\n",
    "    \n",
    "    \n",
    "    \n",
    "    stat, p_value = proportions_ztest(count, nobs, alternative='two-sided')\n",
    "    \n",
    "    # найдем статистическую значимость при помощи поправки Бонферрони\n",
    "    alpha = alpha / 16\n",
    "    \n",
    "    if p_value >= alpha:\n",
    "        print(f'p_value = {p_value: .2f}, \\nalpha = {alpha}', '\\nНе отвергаем нулевую гипотезу')\n",
    "    else:\n",
    "        print(f'p_value = {p_value: .2f}, \\nalpha = {alpha}', '\\nОтвергаем нулевую гипотезу')"
   ]
  },
  {
   "cell_type": "code",
   "execution_count": 150,
   "metadata": {},
   "outputs": [
    {
     "name": "stdout",
     "output_type": "stream",
     "text": [
      "p_value =  0.23, \n",
      "alpha = 0.003125 \n",
      "Не отвергаем нулевую гипотезу\n"
     ]
    }
   ],
   "source": [
    "z_test(event_grouped, 'A1', 'A2', 'Корзина', 0.05)"
   ]
  },
  {
   "cell_type": "markdown",
   "metadata": {},
   "source": [
    "Так как сравнение будет проводиться 16 раз (4 раза сравнение контрольных(по числу событий в логах), 8 раз сравнение контрольных с экспериментальной, 4 раза сравнения объединенных контрольных с экспериментальной), воспользуемся методом Бонферрони и разделим уровень статистической значимости на 16."
   ]
  },
  {
   "cell_type": "code",
   "execution_count": 151,
   "metadata": {},
   "outputs": [],
   "source": [
    "# создадим функцию, выводящую общий результат сравнения групп\n",
    "def result(group1, group2):\n",
    "    for event in df_new['event_name'].unique():\n",
    "        print('Группы {}/{}'.format(group1, group2), f'\\nСобытие: {event}')\n",
    "        z_test(event_grouped, group1, group2, event, 0.05)\n",
    "        print('')"
   ]
  },
  {
   "cell_type": "code",
   "execution_count": 152,
   "metadata": {},
   "outputs": [
    {
     "name": "stdout",
     "output_type": "stream",
     "text": [
      "Группы A1/A2 \n",
      "Событие: Главная страница\n",
      "p_value =  0.75, \n",
      "alpha = 0.003125 \n",
      "Не отвергаем нулевую гипотезу\n",
      "\n",
      "Группы A1/A2 \n",
      "Событие: Страница товаров\n",
      "p_value =  0.25, \n",
      "alpha = 0.003125 \n",
      "Не отвергаем нулевую гипотезу\n",
      "\n",
      "Группы A1/A2 \n",
      "Событие: Корзина\n",
      "p_value =  0.23, \n",
      "alpha = 0.003125 \n",
      "Не отвергаем нулевую гипотезу\n",
      "\n",
      "Группы A1/A2 \n",
      "Событие: Успешная оплата\n",
      "p_value =  0.11, \n",
      "alpha = 0.003125 \n",
      "Не отвергаем нулевую гипотезу\n",
      "\n"
     ]
    }
   ],
   "source": [
    "# сравним контрольные группы\n",
    "result('A1', 'A2')"
   ]
  },
  {
   "cell_type": "markdown",
   "metadata": {},
   "source": [
    "Во всех четырех тестах не обнаружено статистической разницы. Следовательно, можно сказать, что разбиение на контрольные группы работает корректно."
   ]
  },
  {
   "cell_type": "code",
   "execution_count": 153,
   "metadata": {},
   "outputs": [
    {
     "name": "stdout",
     "output_type": "stream",
     "text": [
      "Группы A1/B \n",
      "Событие: Главная страница\n",
      "p_value =  0.34, \n",
      "alpha = 0.003125 \n",
      "Не отвергаем нулевую гипотезу\n",
      "\n",
      "Группы A1/B \n",
      "Событие: Страница товаров\n",
      "p_value =  0.21, \n",
      "alpha = 0.003125 \n",
      "Не отвергаем нулевую гипотезу\n",
      "\n",
      "Группы A1/B \n",
      "Событие: Корзина\n",
      "p_value =  0.08, \n",
      "alpha = 0.003125 \n",
      "Не отвергаем нулевую гипотезу\n",
      "\n",
      "Группы A1/B \n",
      "Событие: Успешная оплата\n",
      "p_value =  0.22, \n",
      "alpha = 0.003125 \n",
      "Не отвергаем нулевую гипотезу\n",
      "\n"
     ]
    }
   ],
   "source": [
    "# проверим статистическую разницу для контрольной группы A1 и экспериментальной B\n",
    "result('A1', 'B')"
   ]
  },
  {
   "cell_type": "code",
   "execution_count": 154,
   "metadata": {},
   "outputs": [
    {
     "name": "stdout",
     "output_type": "stream",
     "text": [
      "Группы A2/B \n",
      "Событие: Главная страница\n",
      "p_value =  0.52, \n",
      "alpha = 0.003125 \n",
      "Не отвергаем нулевую гипотезу\n",
      "\n",
      "Группы A2/B \n",
      "Событие: Страница товаров\n",
      "p_value =  0.93, \n",
      "alpha = 0.003125 \n",
      "Не отвергаем нулевую гипотезу\n",
      "\n",
      "Группы A2/B \n",
      "Событие: Корзина\n",
      "p_value =  0.59, \n",
      "alpha = 0.003125 \n",
      "Не отвергаем нулевую гипотезу\n",
      "\n",
      "Группы A2/B \n",
      "Событие: Успешная оплата\n",
      "p_value =  0.73, \n",
      "alpha = 0.003125 \n",
      "Не отвергаем нулевую гипотезу\n",
      "\n"
     ]
    }
   ],
   "source": [
    "# проверим статистическую разницу для контрольной группы A2 и экспериментальной B\n",
    "result('A2', 'B')"
   ]
  },
  {
   "cell_type": "code",
   "execution_count": 155,
   "metadata": {},
   "outputs": [
    {
     "name": "stdout",
     "output_type": "stream",
     "text": [
      "Группы A/B \n",
      "Событие: Главная страница\n",
      "p_value =  0.35, \n",
      "alpha = 0.003125 \n",
      "Не отвергаем нулевую гипотезу\n",
      "\n",
      "Группы A/B \n",
      "Событие: Страница товаров\n",
      "p_value =  0.45, \n",
      "alpha = 0.003125 \n",
      "Не отвергаем нулевую гипотезу\n",
      "\n",
      "Группы A/B \n",
      "Событие: Корзина\n",
      "p_value =  0.19, \n",
      "alpha = 0.003125 \n",
      "Не отвергаем нулевую гипотезу\n",
      "\n",
      "Группы A/B \n",
      "Событие: Успешная оплата\n",
      "p_value =  0.61, \n",
      "alpha = 0.003125 \n",
      "Не отвергаем нулевую гипотезу\n",
      "\n"
     ]
    }
   ],
   "source": [
    "# проверим статистическую разницу для контрольной группы A и экспериментальной B\n",
    "result('A', 'B')"
   ]
  },
  {
   "cell_type": "markdown",
   "metadata": {},
   "source": [
    "### Вывод"
   ]
  },
  {
   "cell_type": "markdown",
   "metadata": {},
   "source": [
    "В ходе выполнения проекта была выполнена предобработка данных. Выяснено, что в логах содержится информация только о 5 событиях: Посещение главной страницы (самое популярное), Страницы товаров, Корзины, Успешной оплаты и Обучения (самое непопулярное). Обучение в приложении не является обязательным.\n",
    "\n",
    "Всего 7551 пользователь. В виду неполноты данных за все время, представленное в датасете, для исследования был взят период с 1 по 7 августа. После отсечения потеряли 17 пользователей и 1.17% данных, что не критично.\n",
    "\n",
    "Каждый пользователь состоит лишь в одной группе, что говорит о корректности сбора данных.\n",
    "\n",
    "В ходе изучения воронки событий было выяснено, что большинство пользователей теряются при переходе с главной страницы на страницу товаров. До покупки доходят почти 47% пользователей.\n",
    "\n",
    "В резульате проведения экспериментов выяснили, что разницы между контрольными группами и группами A и B нет (между долями уникальных посетителей, побывавших на этапе воронки, нет значимой разницы).  \n",
    "\n",
    "В качестве уровня статистической значимости использовали значение 0.05, так как 5% не критичный результат возможных ошибок в данном случае. В виду проведения эксперимента 16 раз разделил параметр alpha на 16 (метод Бонферрони).\n",
    "\n",
    "Рекомендуется изменить оформление главной страницы. Сделать переход на страницы товаров более простым и интуитивно понятным, так как именно на этом шаге теряем большинство пользователей. Если исправление главной страницы слишком затратно, то рекомендуется при первом запуске приложения запустить обучение."
   ]
  }
 ],
 "metadata": {
  "ExecuteTimeLog": [
   {
    "duration": 1519,
    "start_time": "2023-03-31T06:26:59.780Z"
   },
   {
    "duration": 13,
    "start_time": "2023-03-31T06:29:46.253Z"
   },
   {
    "duration": 87,
    "start_time": "2023-03-31T06:29:48.652Z"
   },
   {
    "duration": 8,
    "start_time": "2023-03-31T06:29:51.416Z"
   },
   {
    "duration": 88,
    "start_time": "2023-03-31T06:32:39.263Z"
   },
   {
    "duration": 5,
    "start_time": "2023-03-31T06:32:56.571Z"
   },
   {
    "duration": 4,
    "start_time": "2023-03-31T06:33:34.873Z"
   },
   {
    "duration": 717,
    "start_time": "2023-03-31T06:33:56.580Z"
   },
   {
    "duration": 95,
    "start_time": "2023-03-31T06:34:07.352Z"
   },
   {
    "duration": 138,
    "start_time": "2023-03-31T06:34:21.687Z"
   },
   {
    "duration": 307,
    "start_time": "2023-03-31T06:34:26.519Z"
   },
   {
    "duration": 172,
    "start_time": "2023-03-31T06:34:35.383Z"
   },
   {
    "duration": 4,
    "start_time": "2023-03-31T06:38:49.171Z"
   },
   {
    "duration": 29,
    "start_time": "2023-03-31T06:39:04.174Z"
   },
   {
    "duration": 124,
    "start_time": "2023-03-31T06:50:11.711Z"
   },
   {
    "duration": 32,
    "start_time": "2023-03-31T06:50:29.630Z"
   },
   {
    "duration": 11,
    "start_time": "2023-03-31T06:52:04.425Z"
   },
   {
    "duration": 4,
    "start_time": "2023-03-31T06:57:21.610Z"
   },
   {
    "duration": 11,
    "start_time": "2023-03-31T06:58:14.441Z"
   },
   {
    "duration": 116,
    "start_time": "2023-03-31T06:59:00.514Z"
   },
   {
    "duration": 9,
    "start_time": "2023-03-31T06:59:11.205Z"
   },
   {
    "duration": 8,
    "start_time": "2023-03-31T06:59:14.323Z"
   },
   {
    "duration": 21,
    "start_time": "2023-03-31T06:59:48.181Z"
   },
   {
    "duration": 12,
    "start_time": "2023-03-31T07:07:44.503Z"
   },
   {
    "duration": 12,
    "start_time": "2023-03-31T07:09:37.457Z"
   },
   {
    "duration": 11,
    "start_time": "2023-03-31T07:09:44.304Z"
   },
   {
    "duration": 102,
    "start_time": "2023-03-31T07:10:00.674Z"
   },
   {
    "duration": 10,
    "start_time": "2023-03-31T07:10:02.121Z"
   },
   {
    "duration": 32,
    "start_time": "2023-03-31T07:12:05.315Z"
   },
   {
    "duration": 41,
    "start_time": "2023-03-31T07:13:55.589Z"
   },
   {
    "duration": 35,
    "start_time": "2023-03-31T07:13:58.080Z"
   },
   {
    "duration": 9,
    "start_time": "2023-03-31T07:14:01.820Z"
   },
   {
    "duration": 7,
    "start_time": "2023-03-31T07:14:04.828Z"
   },
   {
    "duration": 19,
    "start_time": "2023-03-31T07:14:28.246Z"
   },
   {
    "duration": 23,
    "start_time": "2023-03-31T07:14:42.447Z"
   },
   {
    "duration": 33,
    "start_time": "2023-03-31T07:15:22.451Z"
   },
   {
    "duration": 26,
    "start_time": "2023-03-31T07:15:29.275Z"
   },
   {
    "duration": 174,
    "start_time": "2023-03-31T07:27:37.103Z"
   },
   {
    "duration": 117,
    "start_time": "2023-03-31T07:27:48.319Z"
   },
   {
    "duration": 34,
    "start_time": "2023-03-31T07:27:56.311Z"
   },
   {
    "duration": 50,
    "start_time": "2023-03-31T07:27:59.714Z"
   },
   {
    "duration": 66,
    "start_time": "2023-03-31T07:28:05.382Z"
   },
   {
    "duration": 103,
    "start_time": "2023-03-31T07:38:25.577Z"
   },
   {
    "duration": 54,
    "start_time": "2023-03-31T07:38:26.041Z"
   },
   {
    "duration": 14,
    "start_time": "2023-03-31T07:40:07.883Z"
   },
   {
    "duration": 13,
    "start_time": "2023-03-31T07:41:05.751Z"
   },
   {
    "duration": 20,
    "start_time": "2023-03-31T07:41:21.103Z"
   },
   {
    "duration": 20,
    "start_time": "2023-03-31T07:41:26.639Z"
   },
   {
    "duration": 22,
    "start_time": "2023-03-31T07:41:30.739Z"
   },
   {
    "duration": 20,
    "start_time": "2023-03-31T07:41:35.668Z"
   },
   {
    "duration": 10,
    "start_time": "2023-03-31T07:42:11.077Z"
   },
   {
    "duration": 4,
    "start_time": "2023-03-31T07:42:13.747Z"
   },
   {
    "duration": 5,
    "start_time": "2023-03-31T07:42:16.955Z"
   },
   {
    "duration": 15,
    "start_time": "2023-03-31T07:42:28.089Z"
   },
   {
    "duration": 62,
    "start_time": "2023-03-31T07:44:02.271Z"
   },
   {
    "duration": 126,
    "start_time": "2023-03-31T07:44:55.263Z"
   },
   {
    "duration": 57,
    "start_time": "2023-03-31T07:45:18.011Z"
   },
   {
    "duration": 48,
    "start_time": "2023-03-31T07:45:25.475Z"
   },
   {
    "duration": 35,
    "start_time": "2023-03-31T07:45:29.524Z"
   },
   {
    "duration": 29,
    "start_time": "2023-03-31T07:48:27.741Z"
   },
   {
    "duration": 56,
    "start_time": "2023-03-31T07:48:37.470Z"
   },
   {
    "duration": 598,
    "start_time": "2023-03-31T07:49:26.421Z"
   },
   {
    "duration": 478,
    "start_time": "2023-03-31T07:49:42.706Z"
   },
   {
    "duration": 501,
    "start_time": "2023-03-31T07:49:45.512Z"
   },
   {
    "duration": 221,
    "start_time": "2023-03-31T07:52:21.263Z"
   },
   {
    "duration": 470,
    "start_time": "2023-03-31T07:52:38.325Z"
   },
   {
    "duration": 77,
    "start_time": "2023-03-31T07:53:02.279Z"
   },
   {
    "duration": 725,
    "start_time": "2023-03-31T07:53:11.517Z"
   },
   {
    "duration": 5,
    "start_time": "2023-03-31T07:53:37.737Z"
   },
   {
    "duration": 481,
    "start_time": "2023-03-31T07:53:41.527Z"
   },
   {
    "duration": 87,
    "start_time": "2023-03-31T07:54:08.145Z"
   },
   {
    "duration": 53,
    "start_time": "2023-03-31T07:54:13.781Z"
   },
   {
    "duration": 5,
    "start_time": "2023-03-31T07:54:58.769Z"
   },
   {
    "duration": 10,
    "start_time": "2023-03-31T07:55:03.123Z"
   },
   {
    "duration": 9,
    "start_time": "2023-03-31T07:57:11.869Z"
   },
   {
    "duration": 8,
    "start_time": "2023-03-31T07:58:55.713Z"
   },
   {
    "duration": 3,
    "start_time": "2023-03-31T07:58:57.834Z"
   },
   {
    "duration": 206,
    "start_time": "2023-03-31T07:58:57.839Z"
   },
   {
    "duration": 21,
    "start_time": "2023-03-31T07:58:58.047Z"
   },
   {
    "duration": 21,
    "start_time": "2023-03-31T07:58:58.070Z"
   },
   {
    "duration": 48,
    "start_time": "2023-03-31T07:58:58.095Z"
   },
   {
    "duration": 15,
    "start_time": "2023-03-31T07:58:58.145Z"
   },
   {
    "duration": 32,
    "start_time": "2023-03-31T07:58:58.162Z"
   },
   {
    "duration": 163,
    "start_time": "2023-03-31T07:58:58.196Z"
   },
   {
    "duration": 11,
    "start_time": "2023-03-31T07:58:58.361Z"
   },
   {
    "duration": 65,
    "start_time": "2023-03-31T07:58:58.374Z"
   },
   {
    "duration": 21,
    "start_time": "2023-03-31T07:58:58.441Z"
   },
   {
    "duration": 143,
    "start_time": "2023-03-31T07:58:58.464Z"
   },
   {
    "duration": 54,
    "start_time": "2023-03-31T07:58:58.616Z"
   },
   {
    "duration": 7,
    "start_time": "2023-03-31T07:58:58.673Z"
   },
   {
    "duration": 39,
    "start_time": "2023-03-31T07:58:58.689Z"
   },
   {
    "duration": 41,
    "start_time": "2023-03-31T07:58:58.731Z"
   },
   {
    "duration": 499,
    "start_time": "2023-03-31T07:58:58.774Z"
   },
   {
    "duration": 3,
    "start_time": "2023-03-31T07:58:59.275Z"
   },
   {
    "duration": 46,
    "start_time": "2023-03-31T07:58:59.280Z"
   },
   {
    "duration": 5,
    "start_time": "2023-03-31T07:59:08.814Z"
   },
   {
    "duration": 4,
    "start_time": "2023-03-31T07:59:14.174Z"
   },
   {
    "duration": 9,
    "start_time": "2023-03-31T07:59:16.185Z"
   },
   {
    "duration": 39,
    "start_time": "2023-03-31T07:59:43.232Z"
   },
   {
    "duration": 511,
    "start_time": "2023-03-31T08:16:58.436Z"
   },
   {
    "duration": 566,
    "start_time": "2023-03-31T08:19:21.980Z"
   },
   {
    "duration": 13,
    "start_time": "2023-03-31T08:19:30.780Z"
   },
   {
    "duration": 37,
    "start_time": "2023-03-31T08:19:32.068Z"
   },
   {
    "duration": 5,
    "start_time": "2023-03-31T08:19:54.715Z"
   },
   {
    "duration": 321,
    "start_time": "2023-03-31T08:19:54.722Z"
   },
   {
    "duration": 24,
    "start_time": "2023-03-31T08:19:55.044Z"
   },
   {
    "duration": 72,
    "start_time": "2023-03-31T08:19:55.070Z"
   },
   {
    "duration": 117,
    "start_time": "2023-03-31T08:19:55.144Z"
   },
   {
    "duration": 69,
    "start_time": "2023-03-31T08:19:55.264Z"
   },
   {
    "duration": 37,
    "start_time": "2023-03-31T08:19:55.335Z"
   },
   {
    "duration": 164,
    "start_time": "2023-03-31T08:19:55.374Z"
   },
   {
    "duration": 92,
    "start_time": "2023-03-31T08:19:55.542Z"
   },
   {
    "duration": 66,
    "start_time": "2023-03-31T08:19:55.636Z"
   },
   {
    "duration": 37,
    "start_time": "2023-03-31T08:19:55.704Z"
   },
   {
    "duration": 142,
    "start_time": "2023-03-31T08:19:55.743Z"
   },
   {
    "duration": 82,
    "start_time": "2023-03-31T08:19:55.886Z"
   },
   {
    "duration": 31,
    "start_time": "2023-03-31T08:19:55.970Z"
   },
   {
    "duration": 56,
    "start_time": "2023-03-31T08:19:56.003Z"
   },
   {
    "duration": 56,
    "start_time": "2023-03-31T08:19:56.062Z"
   },
   {
    "duration": 608,
    "start_time": "2023-03-31T08:19:56.120Z"
   },
   {
    "duration": 4,
    "start_time": "2023-03-31T08:19:56.731Z"
   },
   {
    "duration": 26,
    "start_time": "2023-03-31T08:20:10.026Z"
   },
   {
    "duration": 12,
    "start_time": "2023-03-31T08:20:16.897Z"
   },
   {
    "duration": 5,
    "start_time": "2023-03-31T08:20:35.136Z"
   },
   {
    "duration": 5,
    "start_time": "2023-03-31T08:20:39.925Z"
   },
   {
    "duration": 6,
    "start_time": "2023-03-31T08:20:47.013Z"
   },
   {
    "duration": 4,
    "start_time": "2023-03-31T08:20:52.276Z"
   },
   {
    "duration": 9,
    "start_time": "2023-03-31T08:20:56.848Z"
   },
   {
    "duration": 222,
    "start_time": "2023-03-31T08:20:56.860Z"
   },
   {
    "duration": 42,
    "start_time": "2023-03-31T08:20:57.084Z"
   },
   {
    "duration": 7,
    "start_time": "2023-03-31T08:20:57.129Z"
   },
   {
    "duration": 12,
    "start_time": "2023-03-31T08:20:57.138Z"
   },
   {
    "duration": 15,
    "start_time": "2023-03-31T08:20:57.152Z"
   },
   {
    "duration": 48,
    "start_time": "2023-03-31T08:20:57.169Z"
   },
   {
    "duration": 124,
    "start_time": "2023-03-31T08:20:57.219Z"
   },
   {
    "duration": 9,
    "start_time": "2023-03-31T08:20:57.345Z"
   },
   {
    "duration": 49,
    "start_time": "2023-03-31T08:20:57.357Z"
   },
   {
    "duration": 35,
    "start_time": "2023-03-31T08:20:57.410Z"
   },
   {
    "duration": 127,
    "start_time": "2023-03-31T08:20:57.447Z"
   },
   {
    "duration": 74,
    "start_time": "2023-03-31T08:20:57.576Z"
   },
   {
    "duration": 8,
    "start_time": "2023-03-31T08:20:57.652Z"
   },
   {
    "duration": 60,
    "start_time": "2023-03-31T08:20:57.662Z"
   },
   {
    "duration": 47,
    "start_time": "2023-03-31T08:20:57.724Z"
   },
   {
    "duration": 558,
    "start_time": "2023-03-31T08:20:57.773Z"
   },
   {
    "duration": 4,
    "start_time": "2023-03-31T08:20:58.333Z"
   },
   {
    "duration": 49,
    "start_time": "2023-03-31T08:21:01.224Z"
   },
   {
    "duration": 18,
    "start_time": "2023-03-31T08:21:02.596Z"
   },
   {
    "duration": 4,
    "start_time": "2023-03-31T08:21:17.120Z"
   },
   {
    "duration": 4,
    "start_time": "2023-03-31T08:21:22.472Z"
   },
   {
    "duration": 5,
    "start_time": "2023-03-31T08:21:29.720Z"
   },
   {
    "duration": 5,
    "start_time": "2023-03-31T08:21:38.515Z"
   },
   {
    "duration": 89,
    "start_time": "2023-03-31T08:22:06.713Z"
   },
   {
    "duration": 4,
    "start_time": "2023-03-31T08:22:12.947Z"
   },
   {
    "duration": 243,
    "start_time": "2023-03-31T08:23:33.405Z"
   },
   {
    "duration": 5,
    "start_time": "2023-03-31T08:23:42.584Z"
   },
   {
    "duration": 4,
    "start_time": "2023-03-31T08:23:46.859Z"
   },
   {
    "duration": 4,
    "start_time": "2023-03-31T08:23:49.575Z"
   },
   {
    "duration": 8,
    "start_time": "2023-03-31T08:25:18.408Z"
   },
   {
    "duration": 10,
    "start_time": "2023-03-31T08:30:45.029Z"
   },
   {
    "duration": 7,
    "start_time": "2023-03-31T08:30:56.315Z"
   },
   {
    "duration": 54,
    "start_time": "2023-03-31T08:32:53.606Z"
   },
   {
    "duration": 61,
    "start_time": "2023-03-31T08:33:05.012Z"
   },
   {
    "duration": 154,
    "start_time": "2023-03-31T08:33:39.090Z"
   },
   {
    "duration": 318,
    "start_time": "2023-03-31T08:35:49.394Z"
   },
   {
    "duration": 58,
    "start_time": "2023-03-31T08:37:49.656Z"
   },
   {
    "duration": 4,
    "start_time": "2023-03-31T08:38:04.758Z"
   },
   {
    "duration": 9,
    "start_time": "2023-03-31T08:38:15.557Z"
   },
   {
    "duration": 5,
    "start_time": "2023-03-31T08:38:29.816Z"
   },
   {
    "duration": 242,
    "start_time": "2023-03-31T08:38:29.823Z"
   },
   {
    "duration": 39,
    "start_time": "2023-03-31T08:38:30.067Z"
   },
   {
    "duration": 31,
    "start_time": "2023-03-31T08:38:30.109Z"
   },
   {
    "duration": 35,
    "start_time": "2023-03-31T08:38:30.142Z"
   },
   {
    "duration": 91,
    "start_time": "2023-03-31T08:38:30.180Z"
   },
   {
    "duration": 109,
    "start_time": "2023-03-31T08:38:30.273Z"
   },
   {
    "duration": 176,
    "start_time": "2023-03-31T08:38:30.385Z"
   },
   {
    "duration": 63,
    "start_time": "2023-03-31T08:38:30.564Z"
   },
   {
    "duration": 85,
    "start_time": "2023-03-31T08:38:30.641Z"
   },
   {
    "duration": 79,
    "start_time": "2023-03-31T08:38:30.729Z"
   },
   {
    "duration": 260,
    "start_time": "2023-03-31T08:38:30.811Z"
   },
   {
    "duration": 94,
    "start_time": "2023-03-31T08:38:31.073Z"
   },
   {
    "duration": 85,
    "start_time": "2023-03-31T08:38:31.169Z"
   },
   {
    "duration": 88,
    "start_time": "2023-03-31T08:38:31.256Z"
   },
   {
    "duration": 40,
    "start_time": "2023-03-31T08:38:31.346Z"
   },
   {
    "duration": 642,
    "start_time": "2023-03-31T08:38:31.395Z"
   },
   {
    "duration": 5,
    "start_time": "2023-03-31T08:38:32.039Z"
   },
   {
    "duration": 106,
    "start_time": "2023-03-31T08:38:32.046Z"
   },
   {
    "duration": 4,
    "start_time": "2023-03-31T08:38:32.154Z"
   },
   {
    "duration": 70,
    "start_time": "2023-03-31T08:38:32.159Z"
   },
   {
    "duration": 71,
    "start_time": "2023-03-31T08:38:47.979Z"
   },
   {
    "duration": 138,
    "start_time": "2023-03-31T08:38:52.723Z"
   },
   {
    "duration": 57,
    "start_time": "2023-03-31T08:39:02.160Z"
   },
   {
    "duration": 77,
    "start_time": "2023-03-31T08:40:01.184Z"
   },
   {
    "duration": 44,
    "start_time": "2023-03-31T08:40:03.722Z"
   },
   {
    "duration": 68,
    "start_time": "2023-03-31T08:40:05.869Z"
   },
   {
    "duration": 54,
    "start_time": "2023-03-31T08:40:27.211Z"
   },
   {
    "duration": 29,
    "start_time": "2023-03-31T08:58:15.885Z"
   },
   {
    "duration": 60,
    "start_time": "2023-03-31T09:02:29.650Z"
   },
   {
    "duration": 66,
    "start_time": "2023-03-31T09:02:50.433Z"
   },
   {
    "duration": 3,
    "start_time": "2023-03-31T09:04:49.092Z"
   },
   {
    "duration": 59,
    "start_time": "2023-03-31T09:05:19.536Z"
   },
   {
    "duration": 56,
    "start_time": "2023-03-31T09:07:29.619Z"
   },
   {
    "duration": 64,
    "start_time": "2023-03-31T09:07:34.452Z"
   },
   {
    "duration": 55,
    "start_time": "2023-03-31T09:07:51.835Z"
   },
   {
    "duration": 55,
    "start_time": "2023-03-31T09:07:55.251Z"
   },
   {
    "duration": 59,
    "start_time": "2023-03-31T09:08:00.398Z"
   },
   {
    "duration": 149,
    "start_time": "2023-03-31T09:10:49.154Z"
   },
   {
    "duration": 337,
    "start_time": "2023-03-31T09:11:09.593Z"
   },
   {
    "duration": 188,
    "start_time": "2023-03-31T09:12:34.883Z"
   },
   {
    "duration": 1021,
    "start_time": "2023-03-31T09:12:38.194Z"
   },
   {
    "duration": 19,
    "start_time": "2023-03-31T09:13:04.221Z"
   },
   {
    "duration": 8,
    "start_time": "2023-03-31T09:13:08.506Z"
   },
   {
    "duration": 18,
    "start_time": "2023-03-31T09:13:13.741Z"
   },
   {
    "duration": 7,
    "start_time": "2023-03-31T09:13:14.242Z"
   },
   {
    "duration": 981,
    "start_time": "2023-03-31T09:13:24.465Z"
   },
   {
    "duration": 8,
    "start_time": "2023-03-31T09:13:25.521Z"
   },
   {
    "duration": 133,
    "start_time": "2023-03-31T09:14:15.984Z"
   },
   {
    "duration": 625,
    "start_time": "2023-03-31T09:14:34.016Z"
   },
   {
    "duration": 774,
    "start_time": "2023-03-31T09:15:39.169Z"
   },
   {
    "duration": 81,
    "start_time": "2023-03-31T09:15:47.195Z"
   },
   {
    "duration": 103,
    "start_time": "2023-03-31T09:17:42.668Z"
   },
   {
    "duration": 19,
    "start_time": "2023-03-31T09:18:00.232Z"
   },
   {
    "duration": 8,
    "start_time": "2023-03-31T09:18:01.492Z"
   },
   {
    "duration": 27,
    "start_time": "2023-03-31T09:18:30.648Z"
   },
   {
    "duration": 11,
    "start_time": "2023-03-31T09:18:31.700Z"
   },
   {
    "duration": 7,
    "start_time": "2023-03-31T09:19:21.925Z"
   },
   {
    "duration": 9,
    "start_time": "2023-03-31T09:33:51.391Z"
   },
   {
    "duration": 122,
    "start_time": "2023-03-31T09:34:16.172Z"
   },
   {
    "duration": 133,
    "start_time": "2023-03-31T09:34:39.633Z"
   },
   {
    "duration": 112,
    "start_time": "2023-03-31T09:39:23.967Z"
   },
   {
    "duration": 59,
    "start_time": "2023-03-31T09:40:01.199Z"
   },
   {
    "duration": 702,
    "start_time": "2023-03-31T09:40:14.891Z"
   },
   {
    "duration": 47,
    "start_time": "2023-03-31T09:42:31.779Z"
   },
   {
    "duration": 93,
    "start_time": "2023-03-31T09:42:51.231Z"
   },
   {
    "duration": 43,
    "start_time": "2023-03-31T09:43:08.031Z"
   },
   {
    "duration": 4,
    "start_time": "2023-03-31T09:58:22.067Z"
   },
   {
    "duration": 18,
    "start_time": "2023-03-31T09:58:29.635Z"
   },
   {
    "duration": 44,
    "start_time": "2023-03-31T09:58:44.283Z"
   },
   {
    "duration": 45,
    "start_time": "2023-03-31T09:58:59.219Z"
   },
   {
    "duration": 44,
    "start_time": "2023-03-31T09:59:11.504Z"
   },
   {
    "duration": 4,
    "start_time": "2023-03-31T10:03:49.666Z"
   },
   {
    "duration": 14,
    "start_time": "2023-03-31T10:03:53.681Z"
   },
   {
    "duration": 5,
    "start_time": "2023-03-31T10:04:07.614Z"
   },
   {
    "duration": 589,
    "start_time": "2023-03-31T10:04:07.621Z"
   },
   {
    "duration": 23,
    "start_time": "2023-03-31T10:04:08.212Z"
   },
   {
    "duration": 20,
    "start_time": "2023-03-31T10:04:08.237Z"
   },
   {
    "duration": 25,
    "start_time": "2023-03-31T10:04:08.259Z"
   },
   {
    "duration": 19,
    "start_time": "2023-03-31T10:04:08.286Z"
   },
   {
    "duration": 34,
    "start_time": "2023-03-31T10:04:08.307Z"
   },
   {
    "duration": 73,
    "start_time": "2023-03-31T10:04:08.343Z"
   },
   {
    "duration": 33,
    "start_time": "2023-03-31T10:04:08.417Z"
   },
   {
    "duration": 35,
    "start_time": "2023-03-31T10:04:08.452Z"
   },
   {
    "duration": 31,
    "start_time": "2023-03-31T10:04:08.490Z"
   },
   {
    "duration": 441,
    "start_time": "2023-03-31T10:04:08.523Z"
   },
   {
    "duration": 5,
    "start_time": "2023-03-31T10:04:08.966Z"
   },
   {
    "duration": 43,
    "start_time": "2023-03-31T10:04:08.987Z"
   },
   {
    "duration": 4,
    "start_time": "2023-03-31T10:04:09.032Z"
   },
   {
    "duration": 62,
    "start_time": "2023-03-31T10:04:09.038Z"
   },
   {
    "duration": 24,
    "start_time": "2023-03-31T10:04:09.102Z"
   },
   {
    "duration": 80,
    "start_time": "2023-03-31T10:04:09.127Z"
   },
   {
    "duration": 20,
    "start_time": "2023-03-31T10:04:09.209Z"
   },
   {
    "duration": 64,
    "start_time": "2023-03-31T10:04:09.231Z"
   },
   {
    "duration": 59,
    "start_time": "2023-03-31T10:04:09.297Z"
   },
   {
    "duration": 1404,
    "start_time": "2023-04-01T07:20:58.617Z"
   },
   {
    "duration": 958,
    "start_time": "2023-04-01T07:21:00.023Z"
   },
   {
    "duration": 36,
    "start_time": "2023-04-01T07:21:00.983Z"
   },
   {
    "duration": 8,
    "start_time": "2023-04-01T07:21:01.020Z"
   },
   {
    "duration": 65,
    "start_time": "2023-04-01T07:21:01.030Z"
   },
   {
    "duration": 44,
    "start_time": "2023-04-01T07:21:01.100Z"
   },
   {
    "duration": 85,
    "start_time": "2023-04-01T07:21:01.146Z"
   },
   {
    "duration": 110,
    "start_time": "2023-04-01T07:21:01.233Z"
   },
   {
    "duration": 77,
    "start_time": "2023-04-01T07:21:01.345Z"
   },
   {
    "duration": 187,
    "start_time": "2023-04-01T07:21:01.423Z"
   },
   {
    "duration": 117,
    "start_time": "2023-04-01T07:21:01.612Z"
   },
   {
    "duration": 589,
    "start_time": "2023-04-01T07:21:01.730Z"
   },
   {
    "duration": 5,
    "start_time": "2023-04-01T07:21:02.320Z"
   },
   {
    "duration": 87,
    "start_time": "2023-04-01T07:21:02.327Z"
   },
   {
    "duration": 7,
    "start_time": "2023-04-01T07:21:02.415Z"
   },
   {
    "duration": 85,
    "start_time": "2023-04-01T07:21:02.423Z"
   },
   {
    "duration": 21,
    "start_time": "2023-04-01T07:21:02.510Z"
   },
   {
    "duration": 68,
    "start_time": "2023-04-01T07:21:02.533Z"
   },
   {
    "duration": 24,
    "start_time": "2023-04-01T07:21:02.603Z"
   },
   {
    "duration": 493,
    "start_time": "2023-04-01T07:21:02.629Z"
   },
   {
    "duration": 78,
    "start_time": "2023-04-01T07:21:03.123Z"
   },
   {
    "duration": 77,
    "start_time": "2023-04-01T07:22:07.370Z"
   },
   {
    "duration": 79,
    "start_time": "2023-04-01T07:22:32.518Z"
   },
   {
    "duration": 55,
    "start_time": "2023-04-01T07:22:37.514Z"
   },
   {
    "duration": 122,
    "start_time": "2023-04-01T07:22:46.425Z"
   },
   {
    "duration": 38,
    "start_time": "2023-04-01T07:23:08.207Z"
   },
   {
    "duration": 459,
    "start_time": "2023-04-01T07:23:34.042Z"
   },
   {
    "duration": 37,
    "start_time": "2023-04-01T07:23:45.022Z"
   },
   {
    "duration": 4,
    "start_time": "2023-04-01T07:23:55.821Z"
   },
   {
    "duration": 197,
    "start_time": "2023-04-01T07:23:55.826Z"
   },
   {
    "duration": 19,
    "start_time": "2023-04-01T07:23:56.025Z"
   },
   {
    "duration": 10,
    "start_time": "2023-04-01T07:23:56.046Z"
   },
   {
    "duration": 63,
    "start_time": "2023-04-01T07:23:56.058Z"
   },
   {
    "duration": 14,
    "start_time": "2023-04-01T07:23:56.123Z"
   },
   {
    "duration": 27,
    "start_time": "2023-04-01T07:23:56.138Z"
   },
   {
    "duration": 83,
    "start_time": "2023-04-01T07:23:56.167Z"
   },
   {
    "duration": 16,
    "start_time": "2023-04-01T07:23:56.252Z"
   },
   {
    "duration": 83,
    "start_time": "2023-04-01T07:23:56.270Z"
   },
   {
    "duration": 49,
    "start_time": "2023-04-01T07:23:56.356Z"
   },
   {
    "duration": 471,
    "start_time": "2023-04-01T07:23:56.410Z"
   },
   {
    "duration": 3,
    "start_time": "2023-04-01T07:23:56.882Z"
   },
   {
    "duration": 55,
    "start_time": "2023-04-01T07:23:56.886Z"
   },
   {
    "duration": 3,
    "start_time": "2023-04-01T07:23:56.943Z"
   },
   {
    "duration": 60,
    "start_time": "2023-04-01T07:23:56.948Z"
   },
   {
    "duration": 23,
    "start_time": "2023-04-01T07:23:57.009Z"
   },
   {
    "duration": 80,
    "start_time": "2023-04-01T07:23:57.033Z"
   },
   {
    "duration": 22,
    "start_time": "2023-04-01T07:23:57.115Z"
   },
   {
    "duration": 68,
    "start_time": "2023-04-01T07:23:57.138Z"
   },
   {
    "duration": 200,
    "start_time": "2023-04-01T07:24:12.518Z"
   },
   {
    "duration": 43,
    "start_time": "2023-04-01T07:24:15.617Z"
   },
   {
    "duration": 5,
    "start_time": "2023-04-01T07:25:53.805Z"
   },
   {
    "duration": 21,
    "start_time": "2023-04-01T07:26:33.998Z"
   },
   {
    "duration": 14,
    "start_time": "2023-04-01T07:26:50.199Z"
   },
   {
    "duration": 10,
    "start_time": "2023-04-01T07:26:59.029Z"
   },
   {
    "duration": 41,
    "start_time": "2023-04-01T07:27:21.565Z"
   },
   {
    "duration": 115,
    "start_time": "2023-04-01T07:27:45.316Z"
   },
   {
    "duration": 16,
    "start_time": "2023-04-01T07:28:08.094Z"
   },
   {
    "duration": 107,
    "start_time": "2023-04-01T07:28:17.316Z"
   },
   {
    "duration": 9,
    "start_time": "2023-04-01T07:28:47.556Z"
   },
   {
    "duration": 10,
    "start_time": "2023-04-01T07:29:11.804Z"
   },
   {
    "duration": 4,
    "start_time": "2023-04-01T07:29:22.312Z"
   },
   {
    "duration": 35,
    "start_time": "2023-04-01T07:29:33.511Z"
   },
   {
    "duration": 55,
    "start_time": "2023-04-01T07:29:45.012Z"
   },
   {
    "duration": 36,
    "start_time": "2023-04-01T07:29:47.836Z"
   },
   {
    "duration": 41,
    "start_time": "2023-04-01T07:29:50.109Z"
   },
   {
    "duration": 30,
    "start_time": "2023-04-01T07:33:37.798Z"
   },
   {
    "duration": 27,
    "start_time": "2023-04-01T07:33:39.911Z"
   },
   {
    "duration": 50,
    "start_time": "2023-04-01T07:33:47.159Z"
   },
   {
    "duration": 22,
    "start_time": "2023-04-01T07:33:57.907Z"
   },
   {
    "duration": 109,
    "start_time": "2023-04-01T07:35:08.638Z"
   },
   {
    "duration": 148,
    "start_time": "2023-04-01T07:35:13.961Z"
   },
   {
    "duration": 7,
    "start_time": "2023-04-01T07:36:15.111Z"
   },
   {
    "duration": 4,
    "start_time": "2023-04-01T07:36:26.517Z"
   },
   {
    "duration": 189,
    "start_time": "2023-04-01T07:36:26.523Z"
   },
   {
    "duration": 16,
    "start_time": "2023-04-01T07:36:26.714Z"
   },
   {
    "duration": 2,
    "start_time": "2023-04-01T07:36:26.731Z"
   },
   {
    "duration": 12,
    "start_time": "2023-04-01T07:36:26.735Z"
   },
   {
    "duration": 12,
    "start_time": "2023-04-01T07:36:26.748Z"
   },
   {
    "duration": 43,
    "start_time": "2023-04-01T07:36:26.761Z"
   },
   {
    "duration": 88,
    "start_time": "2023-04-01T07:36:26.809Z"
   },
   {
    "duration": 17,
    "start_time": "2023-04-01T07:36:26.902Z"
   },
   {
    "duration": 33,
    "start_time": "2023-04-01T07:36:26.920Z"
   },
   {
    "duration": 26,
    "start_time": "2023-04-01T07:36:26.955Z"
   },
   {
    "duration": 167,
    "start_time": "2023-04-01T07:36:26.982Z"
   },
   {
    "duration": 6,
    "start_time": "2023-04-01T07:36:27.151Z"
   },
   {
    "duration": 63,
    "start_time": "2023-04-01T07:36:27.158Z"
   },
   {
    "duration": 23,
    "start_time": "2023-04-01T07:36:27.222Z"
   },
   {
    "duration": 464,
    "start_time": "2023-04-01T07:36:27.246Z"
   },
   {
    "duration": 4,
    "start_time": "2023-04-01T07:36:27.711Z"
   },
   {
    "duration": 46,
    "start_time": "2023-04-01T07:36:27.717Z"
   },
   {
    "duration": 2,
    "start_time": "2023-04-01T07:36:27.765Z"
   },
   {
    "duration": 81,
    "start_time": "2023-04-01T07:36:27.769Z"
   },
   {
    "duration": 18,
    "start_time": "2023-04-01T07:36:27.852Z"
   },
   {
    "duration": 106,
    "start_time": "2023-04-01T07:36:27.872Z"
   },
   {
    "duration": 37,
    "start_time": "2023-04-01T07:36:27.983Z"
   },
   {
    "duration": 67,
    "start_time": "2023-04-01T07:36:28.022Z"
   },
   {
    "duration": 28,
    "start_time": "2023-04-01T07:38:21.795Z"
   },
   {
    "duration": 28,
    "start_time": "2023-04-01T07:38:38.500Z"
   },
   {
    "duration": 26,
    "start_time": "2023-04-01T07:38:46.609Z"
   },
   {
    "duration": 33,
    "start_time": "2023-04-01T07:38:49.501Z"
   },
   {
    "duration": 42,
    "start_time": "2023-04-01T07:38:59.563Z"
   },
   {
    "duration": 59,
    "start_time": "2023-04-01T07:39:03.065Z"
   },
   {
    "duration": 23,
    "start_time": "2023-04-01T07:39:09.321Z"
   },
   {
    "duration": 33,
    "start_time": "2023-04-01T07:39:29.860Z"
   },
   {
    "duration": 37,
    "start_time": "2023-04-01T07:39:54.011Z"
   },
   {
    "duration": 75,
    "start_time": "2023-04-01T07:40:07.568Z"
   },
   {
    "duration": 23,
    "start_time": "2023-04-01T07:40:09.511Z"
   },
   {
    "duration": 64,
    "start_time": "2023-04-01T07:40:10.452Z"
   },
   {
    "duration": 49,
    "start_time": "2023-04-01T07:48:44.298Z"
   },
   {
    "duration": 1079,
    "start_time": "2023-04-01T07:48:49.790Z"
   },
   {
    "duration": 180,
    "start_time": "2023-04-01T07:48:50.871Z"
   },
   {
    "duration": 17,
    "start_time": "2023-04-01T07:48:51.053Z"
   },
   {
    "duration": 19,
    "start_time": "2023-04-01T07:48:51.071Z"
   },
   {
    "duration": 37,
    "start_time": "2023-04-01T07:48:51.092Z"
   },
   {
    "duration": 16,
    "start_time": "2023-04-01T07:48:51.130Z"
   },
   {
    "duration": 17,
    "start_time": "2023-04-01T07:48:51.147Z"
   },
   {
    "duration": 76,
    "start_time": "2023-04-01T07:48:51.165Z"
   },
   {
    "duration": 9,
    "start_time": "2023-04-01T07:48:51.242Z"
   },
   {
    "duration": 61,
    "start_time": "2023-04-01T07:48:51.253Z"
   },
   {
    "duration": 19,
    "start_time": "2023-04-01T07:48:51.315Z"
   },
   {
    "duration": 153,
    "start_time": "2023-04-01T07:48:51.336Z"
   },
   {
    "duration": 24,
    "start_time": "2023-04-01T07:48:51.490Z"
   },
   {
    "duration": 28,
    "start_time": "2023-04-01T07:48:51.516Z"
   },
   {
    "duration": 512,
    "start_time": "2023-04-01T07:48:51.546Z"
   },
   {
    "duration": 4,
    "start_time": "2023-04-01T07:48:52.060Z"
   },
   {
    "duration": 71,
    "start_time": "2023-04-01T07:48:52.065Z"
   },
   {
    "duration": 28,
    "start_time": "2023-04-01T07:48:54.315Z"
   },
   {
    "duration": 3,
    "start_time": "2023-04-01T07:49:00.209Z"
   },
   {
    "duration": 38,
    "start_time": "2023-04-01T07:49:33.718Z"
   },
   {
    "duration": 22,
    "start_time": "2023-04-01T07:50:01.013Z"
   },
   {
    "duration": 54,
    "start_time": "2023-04-01T07:50:18.902Z"
   },
   {
    "duration": 24,
    "start_time": "2023-04-01T07:50:28.854Z"
   },
   {
    "duration": 354,
    "start_time": "2023-04-01T07:50:33.805Z"
   },
   {
    "duration": 178,
    "start_time": "2023-04-01T07:51:19.031Z"
   },
   {
    "duration": 27,
    "start_time": "2023-04-01T07:51:41.558Z"
   },
   {
    "duration": 39,
    "start_time": "2023-04-01T07:51:57.718Z"
   },
   {
    "duration": 69,
    "start_time": "2023-04-01T07:53:54.645Z"
   },
   {
    "duration": 92,
    "start_time": "2023-04-01T07:56:37.829Z"
   },
   {
    "duration": 14,
    "start_time": "2023-04-01T07:57:39.172Z"
   },
   {
    "duration": 5,
    "start_time": "2023-04-01T07:57:42.710Z"
   },
   {
    "duration": 230,
    "start_time": "2023-04-01T07:57:42.717Z"
   },
   {
    "duration": 21,
    "start_time": "2023-04-01T07:57:42.948Z"
   },
   {
    "duration": 42,
    "start_time": "2023-04-01T07:57:42.974Z"
   },
   {
    "duration": 28,
    "start_time": "2023-04-01T07:57:43.018Z"
   },
   {
    "duration": 9,
    "start_time": "2023-04-01T07:57:43.048Z"
   },
   {
    "duration": 84,
    "start_time": "2023-04-01T07:57:43.058Z"
   },
   {
    "duration": 87,
    "start_time": "2023-04-01T07:57:43.144Z"
   },
   {
    "duration": 9,
    "start_time": "2023-04-01T07:57:43.233Z"
   },
   {
    "duration": 39,
    "start_time": "2023-04-01T07:57:43.243Z"
   },
   {
    "duration": 30,
    "start_time": "2023-04-01T07:57:43.283Z"
   },
   {
    "duration": 127,
    "start_time": "2023-04-01T07:57:43.314Z"
   },
   {
    "duration": 6,
    "start_time": "2023-04-01T07:57:43.443Z"
   },
   {
    "duration": 38,
    "start_time": "2023-04-01T07:57:43.451Z"
   },
   {
    "duration": 43,
    "start_time": "2023-04-01T07:57:43.490Z"
   },
   {
    "duration": 529,
    "start_time": "2023-04-01T07:57:43.535Z"
   },
   {
    "duration": 4,
    "start_time": "2023-04-01T07:57:44.066Z"
   },
   {
    "duration": 66,
    "start_time": "2023-04-01T07:57:44.073Z"
   },
   {
    "duration": 3,
    "start_time": "2023-04-01T07:57:44.141Z"
   },
   {
    "duration": 51,
    "start_time": "2023-04-01T07:57:44.145Z"
   },
   {
    "duration": 34,
    "start_time": "2023-04-01T07:57:44.197Z"
   },
   {
    "duration": 51,
    "start_time": "2023-04-01T07:57:44.232Z"
   },
   {
    "duration": 67,
    "start_time": "2023-04-01T07:57:44.284Z"
   },
   {
    "duration": 28,
    "start_time": "2023-04-01T07:57:44.353Z"
   },
   {
    "duration": 42,
    "start_time": "2023-04-01T07:57:44.382Z"
   },
   {
    "duration": 4,
    "start_time": "2023-04-01T07:59:01.212Z"
   },
   {
    "duration": 62,
    "start_time": "2023-04-01T07:59:19.664Z"
   },
   {
    "duration": 42,
    "start_time": "2023-04-01T07:59:33.596Z"
   },
   {
    "duration": 22,
    "start_time": "2023-04-01T08:01:29.801Z"
   },
   {
    "duration": 12,
    "start_time": "2023-04-01T08:01:52.345Z"
   },
   {
    "duration": 11,
    "start_time": "2023-04-01T08:02:02.053Z"
   },
   {
    "duration": 14,
    "start_time": "2023-04-01T08:16:23.219Z"
   },
   {
    "duration": 26,
    "start_time": "2023-04-01T08:16:33.435Z"
   },
   {
    "duration": 1733,
    "start_time": "2023-04-02T11:52:09.170Z"
   },
   {
    "duration": 1070,
    "start_time": "2023-04-02T11:52:10.905Z"
   },
   {
    "duration": 26,
    "start_time": "2023-04-02T11:52:11.977Z"
   },
   {
    "duration": 4,
    "start_time": "2023-04-02T11:52:12.004Z"
   },
   {
    "duration": 14,
    "start_time": "2023-04-02T11:52:12.010Z"
   },
   {
    "duration": 31,
    "start_time": "2023-04-02T11:52:12.026Z"
   },
   {
    "duration": 47,
    "start_time": "2023-04-02T11:52:12.058Z"
   },
   {
    "duration": 117,
    "start_time": "2023-04-02T11:52:12.107Z"
   },
   {
    "duration": 30,
    "start_time": "2023-04-02T11:52:12.226Z"
   },
   {
    "duration": 63,
    "start_time": "2023-04-02T11:52:12.259Z"
   },
   {
    "duration": 19,
    "start_time": "2023-04-02T11:52:12.324Z"
   },
   {
    "duration": 191,
    "start_time": "2023-04-02T11:52:12.345Z"
   },
   {
    "duration": 31,
    "start_time": "2023-04-02T11:52:12.538Z"
   },
   {
    "duration": 36,
    "start_time": "2023-04-02T11:52:12.575Z"
   },
   {
    "duration": 52,
    "start_time": "2023-04-02T11:52:12.613Z"
   },
   {
    "duration": 669,
    "start_time": "2023-04-02T11:52:12.674Z"
   },
   {
    "duration": 4,
    "start_time": "2023-04-02T11:52:13.345Z"
   },
   {
    "duration": 42,
    "start_time": "2023-04-02T11:52:13.351Z"
   },
   {
    "duration": 7,
    "start_time": "2023-04-02T11:52:13.395Z"
   },
   {
    "duration": 82,
    "start_time": "2023-04-02T11:52:13.404Z"
   },
   {
    "duration": 28,
    "start_time": "2023-04-02T11:52:13.490Z"
   },
   {
    "duration": 477,
    "start_time": "2023-04-02T11:52:13.520Z"
   },
   {
    "duration": 143,
    "start_time": "2023-04-02T11:52:13.999Z"
   },
   {
    "duration": 54,
    "start_time": "2023-04-02T11:52:14.146Z"
   },
   {
    "duration": 80,
    "start_time": "2023-04-02T11:52:14.202Z"
   },
   {
    "duration": 21,
    "start_time": "2023-04-02T11:52:14.288Z"
   },
   {
    "duration": 82,
    "start_time": "2023-04-02T11:52:14.311Z"
   },
   {
    "duration": 1550,
    "start_time": "2023-04-03T06:43:38.327Z"
   },
   {
    "duration": 845,
    "start_time": "2023-04-03T06:43:39.880Z"
   },
   {
    "duration": 32,
    "start_time": "2023-04-03T06:43:40.727Z"
   },
   {
    "duration": 57,
    "start_time": "2023-04-03T06:43:40.761Z"
   },
   {
    "duration": 11,
    "start_time": "2023-04-03T06:43:40.820Z"
   },
   {
    "duration": 39,
    "start_time": "2023-04-03T06:43:40.833Z"
   },
   {
    "duration": 31,
    "start_time": "2023-04-03T06:43:40.918Z"
   },
   {
    "duration": 179,
    "start_time": "2023-04-03T06:43:40.951Z"
   },
   {
    "duration": 27,
    "start_time": "2023-04-03T06:43:41.132Z"
   },
   {
    "duration": 81,
    "start_time": "2023-04-03T06:43:41.161Z"
   },
   {
    "duration": 76,
    "start_time": "2023-04-03T06:43:41.243Z"
   },
   {
    "duration": 299,
    "start_time": "2023-04-03T06:43:41.320Z"
   },
   {
    "duration": 12,
    "start_time": "2023-04-03T06:43:41.621Z"
   },
   {
    "duration": 85,
    "start_time": "2023-04-03T06:43:41.634Z"
   },
   {
    "duration": 38,
    "start_time": "2023-04-03T06:43:41.721Z"
   },
   {
    "duration": 1052,
    "start_time": "2023-04-03T06:43:41.761Z"
   },
   {
    "duration": 6,
    "start_time": "2023-04-03T06:43:42.817Z"
   },
   {
    "duration": 42,
    "start_time": "2023-04-03T06:43:42.825Z"
   },
   {
    "duration": 4,
    "start_time": "2023-04-03T06:43:42.869Z"
   },
   {
    "duration": 68,
    "start_time": "2023-04-03T06:43:42.876Z"
   },
   {
    "duration": 29,
    "start_time": "2023-04-03T06:43:42.945Z"
   },
   {
    "duration": 580,
    "start_time": "2023-04-03T06:43:42.976Z"
   },
   {
    "duration": 96,
    "start_time": "2023-04-03T06:43:43.559Z"
   },
   {
    "duration": 97,
    "start_time": "2023-04-03T06:43:43.657Z"
   },
   {
    "duration": 66,
    "start_time": "2023-04-03T06:43:43.756Z"
   },
   {
    "duration": 12,
    "start_time": "2023-04-03T06:43:43.824Z"
   },
   {
    "duration": 46,
    "start_time": "2023-04-03T06:43:43.838Z"
   },
   {
    "duration": 1517,
    "start_time": "2023-04-03T06:53:56.788Z"
   },
   {
    "duration": 4,
    "start_time": "2023-04-03T06:54:18.387Z"
   },
   {
    "duration": 200,
    "start_time": "2023-04-03T06:54:18.409Z"
   },
   {
    "duration": 24,
    "start_time": "2023-04-03T06:54:18.611Z"
   },
   {
    "duration": 4,
    "start_time": "2023-04-03T06:54:18.637Z"
   },
   {
    "duration": 21,
    "start_time": "2023-04-03T06:54:18.643Z"
   },
   {
    "duration": 24,
    "start_time": "2023-04-03T06:54:18.667Z"
   },
   {
    "duration": 26,
    "start_time": "2023-04-03T06:54:18.694Z"
   },
   {
    "duration": 70,
    "start_time": "2023-04-03T06:54:18.722Z"
   },
   {
    "duration": 9,
    "start_time": "2023-04-03T06:54:18.795Z"
   },
   {
    "duration": 31,
    "start_time": "2023-04-03T06:54:18.818Z"
   },
   {
    "duration": 19,
    "start_time": "2023-04-03T06:54:18.850Z"
   },
   {
    "duration": 151,
    "start_time": "2023-04-03T06:54:18.871Z"
   },
   {
    "duration": 8,
    "start_time": "2023-04-03T06:54:19.023Z"
   },
   {
    "duration": 26,
    "start_time": "2023-04-03T06:54:19.033Z"
   },
   {
    "duration": 33,
    "start_time": "2023-04-03T06:54:19.061Z"
   },
   {
    "duration": 542,
    "start_time": "2023-04-03T06:54:19.117Z"
   },
   {
    "duration": 4,
    "start_time": "2023-04-03T06:54:19.661Z"
   },
   {
    "duration": 45,
    "start_time": "2023-04-03T06:54:19.667Z"
   },
   {
    "duration": 3,
    "start_time": "2023-04-03T06:54:19.714Z"
   },
   {
    "duration": 61,
    "start_time": "2023-04-03T06:54:19.720Z"
   },
   {
    "duration": 30,
    "start_time": "2023-04-03T06:54:19.782Z"
   },
   {
    "duration": 47,
    "start_time": "2023-04-03T06:54:19.818Z"
   },
   {
    "duration": 86,
    "start_time": "2023-04-03T06:54:19.867Z"
   },
   {
    "duration": 25,
    "start_time": "2023-04-03T06:54:19.955Z"
   },
   {
    "duration": 59,
    "start_time": "2023-04-03T06:54:19.982Z"
   },
   {
    "duration": 1487,
    "start_time": "2023-04-03T06:54:21.859Z"
   },
   {
    "duration": 31,
    "start_time": "2023-04-03T06:56:11.727Z"
   },
   {
    "duration": 25,
    "start_time": "2023-04-03T06:56:17.242Z"
   },
   {
    "duration": 8,
    "start_time": "2023-04-03T06:57:40.720Z"
   },
   {
    "duration": 8,
    "start_time": "2023-04-03T06:57:48.754Z"
   },
   {
    "duration": 3,
    "start_time": "2023-04-03T06:57:57.022Z"
   },
   {
    "duration": 8,
    "start_time": "2023-04-03T06:57:58.224Z"
   },
   {
    "duration": 23,
    "start_time": "2023-04-03T06:58:13.524Z"
   },
   {
    "duration": 8,
    "start_time": "2023-04-03T06:58:35.550Z"
   },
   {
    "duration": 8,
    "start_time": "2023-04-03T06:58:49.025Z"
   },
   {
    "duration": 11,
    "start_time": "2023-04-03T07:01:35.893Z"
   },
   {
    "duration": 3,
    "start_time": "2023-04-03T07:03:27.933Z"
   },
   {
    "duration": 10,
    "start_time": "2023-04-03T07:03:34.622Z"
   },
   {
    "duration": 3498,
    "start_time": "2023-04-03T07:04:46.373Z"
   },
   {
    "duration": 5,
    "start_time": "2023-04-03T07:04:59.065Z"
   },
   {
    "duration": 217,
    "start_time": "2023-04-03T07:04:59.076Z"
   },
   {
    "duration": 31,
    "start_time": "2023-04-03T07:04:59.295Z"
   },
   {
    "duration": 15,
    "start_time": "2023-04-03T07:04:59.329Z"
   },
   {
    "duration": 31,
    "start_time": "2023-04-03T07:04:59.346Z"
   },
   {
    "duration": 21,
    "start_time": "2023-04-03T07:04:59.380Z"
   },
   {
    "duration": 36,
    "start_time": "2023-04-03T07:04:59.403Z"
   },
   {
    "duration": 100,
    "start_time": "2023-04-03T07:04:59.441Z"
   },
   {
    "duration": 23,
    "start_time": "2023-04-03T07:04:59.543Z"
   },
   {
    "duration": 47,
    "start_time": "2023-04-03T07:04:59.567Z"
   },
   {
    "duration": 20,
    "start_time": "2023-04-03T07:04:59.616Z"
   },
   {
    "duration": 153,
    "start_time": "2023-04-03T07:04:59.638Z"
   },
   {
    "duration": 8,
    "start_time": "2023-04-03T07:04:59.793Z"
   },
   {
    "duration": 28,
    "start_time": "2023-04-03T07:04:59.803Z"
   },
   {
    "duration": 79,
    "start_time": "2023-04-03T07:04:59.835Z"
   },
   {
    "duration": 462,
    "start_time": "2023-04-03T07:04:59.917Z"
   },
   {
    "duration": 5,
    "start_time": "2023-04-03T07:05:00.381Z"
   },
   {
    "duration": 69,
    "start_time": "2023-04-03T07:05:00.388Z"
   },
   {
    "duration": 12,
    "start_time": "2023-04-03T07:05:00.459Z"
   },
   {
    "duration": 85,
    "start_time": "2023-04-03T07:05:00.473Z"
   },
   {
    "duration": 62,
    "start_time": "2023-04-03T07:05:00.560Z"
   },
   {
    "duration": 152,
    "start_time": "2023-04-03T07:05:00.624Z"
   },
   {
    "duration": 104,
    "start_time": "2023-04-03T07:05:00.779Z"
   },
   {
    "duration": 36,
    "start_time": "2023-04-03T07:05:00.887Z"
   },
   {
    "duration": 91,
    "start_time": "2023-04-03T07:05:00.926Z"
   },
   {
    "duration": 51,
    "start_time": "2023-04-03T07:05:01.019Z"
   },
   {
    "duration": 2952,
    "start_time": "2023-04-03T07:05:03.529Z"
   },
   {
    "duration": 9,
    "start_time": "2023-04-03T07:07:10.153Z"
   },
   {
    "duration": 13,
    "start_time": "2023-04-03T07:08:35.540Z"
   },
   {
    "duration": 7,
    "start_time": "2023-04-03T07:08:38.748Z"
   },
   {
    "duration": 7,
    "start_time": "2023-04-03T07:08:43.343Z"
   },
   {
    "duration": 6,
    "start_time": "2023-04-03T07:11:40.463Z"
   },
   {
    "duration": 124,
    "start_time": "2023-04-03T07:13:41.336Z"
   },
   {
    "duration": 22,
    "start_time": "2023-04-03T07:13:45.420Z"
   },
   {
    "duration": 19,
    "start_time": "2023-04-03T07:13:55.758Z"
   },
   {
    "duration": 445,
    "start_time": "2023-04-03T07:14:33.464Z"
   },
   {
    "duration": 6,
    "start_time": "2023-04-03T07:15:09.314Z"
   },
   {
    "duration": 414,
    "start_time": "2023-04-03T07:15:26.513Z"
   },
   {
    "duration": 12,
    "start_time": "2023-04-03T07:19:21.270Z"
   },
   {
    "duration": 15,
    "start_time": "2023-04-03T07:22:37.372Z"
   },
   {
    "duration": 5,
    "start_time": "2023-04-03T07:22:41.900Z"
   },
   {
    "duration": 297,
    "start_time": "2023-04-03T07:22:41.912Z"
   },
   {
    "duration": 39,
    "start_time": "2023-04-03T07:22:42.211Z"
   },
   {
    "duration": 19,
    "start_time": "2023-04-03T07:22:42.254Z"
   },
   {
    "duration": 19,
    "start_time": "2023-04-03T07:22:42.276Z"
   },
   {
    "duration": 27,
    "start_time": "2023-04-03T07:22:42.298Z"
   },
   {
    "duration": 44,
    "start_time": "2023-04-03T07:22:42.327Z"
   },
   {
    "duration": 100,
    "start_time": "2023-04-03T07:22:42.373Z"
   },
   {
    "duration": 15,
    "start_time": "2023-04-03T07:22:42.476Z"
   },
   {
    "duration": 69,
    "start_time": "2023-04-03T07:22:42.493Z"
   },
   {
    "duration": 29,
    "start_time": "2023-04-03T07:22:42.566Z"
   },
   {
    "duration": 191,
    "start_time": "2023-04-03T07:22:42.598Z"
   },
   {
    "duration": 11,
    "start_time": "2023-04-03T07:22:42.791Z"
   },
   {
    "duration": 58,
    "start_time": "2023-04-03T07:22:42.804Z"
   },
   {
    "duration": 74,
    "start_time": "2023-04-03T07:22:42.868Z"
   },
   {
    "duration": 581,
    "start_time": "2023-04-03T07:22:42.948Z"
   },
   {
    "duration": 8,
    "start_time": "2023-04-03T07:22:43.531Z"
   },
   {
    "duration": 51,
    "start_time": "2023-04-03T07:22:43.542Z"
   },
   {
    "duration": 5,
    "start_time": "2023-04-03T07:22:43.596Z"
   },
   {
    "duration": 62,
    "start_time": "2023-04-03T07:22:43.603Z"
   },
   {
    "duration": 34,
    "start_time": "2023-04-03T07:22:43.667Z"
   },
   {
    "duration": 59,
    "start_time": "2023-04-03T07:22:43.718Z"
   },
   {
    "duration": 91,
    "start_time": "2023-04-03T07:22:43.779Z"
   },
   {
    "duration": 26,
    "start_time": "2023-04-03T07:22:43.871Z"
   },
   {
    "duration": 67,
    "start_time": "2023-04-03T07:22:43.898Z"
   },
   {
    "duration": 17,
    "start_time": "2023-04-03T07:23:16.108Z"
   },
   {
    "duration": 13,
    "start_time": "2023-04-03T07:23:47.636Z"
   },
   {
    "duration": 33,
    "start_time": "2023-04-03T07:25:04.548Z"
   },
   {
    "duration": 12,
    "start_time": "2023-04-03T07:42:33.853Z"
   },
   {
    "duration": 25,
    "start_time": "2023-04-03T07:51:36.907Z"
   },
   {
    "duration": 2,
    "start_time": "2023-04-03T07:58:41.481Z"
   },
   {
    "duration": 10,
    "start_time": "2023-04-03T08:19:19.680Z"
   },
   {
    "duration": 67,
    "start_time": "2023-04-03T08:20:18.744Z"
   },
   {
    "duration": 42,
    "start_time": "2023-04-03T08:20:31.248Z"
   },
   {
    "duration": 9,
    "start_time": "2023-04-03T08:20:47.847Z"
   },
   {
    "duration": 23,
    "start_time": "2023-04-03T08:21:36.239Z"
   },
   {
    "duration": 36,
    "start_time": "2023-04-03T08:21:42.092Z"
   },
   {
    "duration": 4,
    "start_time": "2023-04-03T08:29:07.980Z"
   },
   {
    "duration": 222,
    "start_time": "2023-04-03T08:29:07.989Z"
   },
   {
    "duration": 39,
    "start_time": "2023-04-03T08:29:08.213Z"
   },
   {
    "duration": 21,
    "start_time": "2023-04-03T08:29:08.254Z"
   },
   {
    "duration": 26,
    "start_time": "2023-04-03T08:29:08.277Z"
   },
   {
    "duration": 59,
    "start_time": "2023-04-03T08:29:08.305Z"
   },
   {
    "duration": 42,
    "start_time": "2023-04-03T08:29:08.366Z"
   },
   {
    "duration": 116,
    "start_time": "2023-04-03T08:29:08.410Z"
   },
   {
    "duration": 12,
    "start_time": "2023-04-03T08:29:08.528Z"
   },
   {
    "duration": 110,
    "start_time": "2023-04-03T08:29:17.794Z"
   },
   {
    "duration": 98,
    "start_time": "2023-04-03T08:29:35.373Z"
   },
   {
    "duration": 15,
    "start_time": "2023-04-03T08:29:38.684Z"
   },
   {
    "duration": 11,
    "start_time": "2023-04-03T08:29:54.486Z"
   },
   {
    "duration": 104,
    "start_time": "2023-04-03T08:30:04.847Z"
   },
   {
    "duration": 108,
    "start_time": "2023-04-03T08:30:10.687Z"
   },
   {
    "duration": 111,
    "start_time": "2023-04-03T08:30:55.388Z"
   },
   {
    "duration": 36,
    "start_time": "2023-04-03T08:31:07.742Z"
   },
   {
    "duration": 107,
    "start_time": "2023-04-03T08:31:13.956Z"
   },
   {
    "duration": 40,
    "start_time": "2023-04-03T08:31:14.899Z"
   },
   {
    "duration": 5,
    "start_time": "2023-04-03T08:32:39.682Z"
   },
   {
    "duration": 261,
    "start_time": "2023-04-03T08:32:39.689Z"
   },
   {
    "duration": 30,
    "start_time": "2023-04-03T08:32:39.955Z"
   },
   {
    "duration": 11,
    "start_time": "2023-04-03T08:32:39.987Z"
   },
   {
    "duration": 37,
    "start_time": "2023-04-03T08:32:40.000Z"
   },
   {
    "duration": 18,
    "start_time": "2023-04-03T08:32:40.044Z"
   },
   {
    "duration": 38,
    "start_time": "2023-04-03T08:32:40.063Z"
   },
   {
    "duration": 137,
    "start_time": "2023-04-03T08:32:40.103Z"
   },
   {
    "duration": 13,
    "start_time": "2023-04-03T08:32:40.243Z"
   },
   {
    "duration": 125,
    "start_time": "2023-04-03T08:32:40.258Z"
   },
   {
    "duration": 123,
    "start_time": "2023-04-03T08:32:40.384Z"
   },
   {
    "duration": 48,
    "start_time": "2023-04-03T08:32:40.509Z"
   },
   {
    "duration": 38,
    "start_time": "2023-04-03T08:32:40.561Z"
   },
   {
    "duration": 44,
    "start_time": "2023-04-03T08:32:40.601Z"
   },
   {
    "duration": 183,
    "start_time": "2023-04-03T08:32:40.647Z"
   },
   {
    "duration": 15,
    "start_time": "2023-04-03T08:32:40.837Z"
   },
   {
    "duration": 27,
    "start_time": "2023-04-03T08:32:40.854Z"
   },
   {
    "duration": 33,
    "start_time": "2023-04-03T08:32:40.883Z"
   },
   {
    "duration": 533,
    "start_time": "2023-04-03T08:32:40.920Z"
   },
   {
    "duration": 4,
    "start_time": "2023-04-03T08:32:41.455Z"
   },
   {
    "duration": 44,
    "start_time": "2023-04-03T08:32:41.460Z"
   },
   {
    "duration": 16,
    "start_time": "2023-04-03T08:32:41.506Z"
   },
   {
    "duration": 49,
    "start_time": "2023-04-03T08:32:41.525Z"
   },
   {
    "duration": 43,
    "start_time": "2023-04-03T08:32:41.576Z"
   },
   {
    "duration": 71,
    "start_time": "2023-04-03T08:32:41.621Z"
   },
   {
    "duration": 89,
    "start_time": "2023-04-03T08:32:41.694Z"
   },
   {
    "duration": 24,
    "start_time": "2023-04-03T08:32:41.784Z"
   },
   {
    "duration": 68,
    "start_time": "2023-04-03T08:32:41.810Z"
   },
   {
    "duration": 11,
    "start_time": "2023-04-03T08:32:41.880Z"
   },
   {
    "duration": 49,
    "start_time": "2023-04-03T08:32:41.892Z"
   },
   {
    "duration": 100,
    "start_time": "2023-04-03T08:32:41.943Z"
   },
   {
    "duration": 18,
    "start_time": "2023-04-03T08:32:42.045Z"
   },
   {
    "duration": 46,
    "start_time": "2023-04-03T08:32:42.064Z"
   },
   {
    "duration": 113,
    "start_time": "2023-04-03T08:32:42.111Z"
   },
   {
    "duration": 8,
    "start_time": "2023-04-03T08:41:44.045Z"
   },
   {
    "duration": 88,
    "start_time": "2023-04-03T08:52:20.189Z"
   },
   {
    "duration": 101,
    "start_time": "2023-04-03T08:53:24.645Z"
   },
   {
    "duration": 187,
    "start_time": "2023-04-03T08:53:44.876Z"
   },
   {
    "duration": 153,
    "start_time": "2023-04-03T08:54:20.152Z"
   },
   {
    "duration": 199,
    "start_time": "2023-04-03T08:54:26.983Z"
   },
   {
    "duration": 157,
    "start_time": "2023-04-03T08:57:08.180Z"
   },
   {
    "duration": 16,
    "start_time": "2023-04-03T08:57:22.488Z"
   },
   {
    "duration": 17,
    "start_time": "2023-04-03T08:57:30.976Z"
   },
   {
    "duration": 15,
    "start_time": "2023-04-03T08:57:34.964Z"
   },
   {
    "duration": 4,
    "start_time": "2023-04-03T08:57:37.649Z"
   },
   {
    "duration": 221,
    "start_time": "2023-04-03T08:57:37.655Z"
   },
   {
    "duration": 22,
    "start_time": "2023-04-03T08:57:37.878Z"
   },
   {
    "duration": 58,
    "start_time": "2023-04-03T08:57:37.901Z"
   },
   {
    "duration": 33,
    "start_time": "2023-04-03T08:57:37.962Z"
   },
   {
    "duration": 56,
    "start_time": "2023-04-03T08:57:37.997Z"
   },
   {
    "duration": 25,
    "start_time": "2023-04-03T08:57:38.055Z"
   },
   {
    "duration": 87,
    "start_time": "2023-04-03T08:57:38.082Z"
   },
   {
    "duration": 20,
    "start_time": "2023-04-03T08:57:38.170Z"
   },
   {
    "duration": 156,
    "start_time": "2023-04-03T08:57:38.192Z"
   },
   {
    "duration": 98,
    "start_time": "2023-04-03T08:57:38.351Z"
   },
   {
    "duration": 33,
    "start_time": "2023-04-03T08:57:38.451Z"
   },
   {
    "duration": 43,
    "start_time": "2023-04-03T08:57:38.486Z"
   },
   {
    "duration": 37,
    "start_time": "2023-04-03T08:57:38.532Z"
   },
   {
    "duration": 135,
    "start_time": "2023-04-03T08:57:38.571Z"
   },
   {
    "duration": 21,
    "start_time": "2023-04-03T08:57:38.708Z"
   },
   {
    "duration": 31,
    "start_time": "2023-04-03T08:57:38.741Z"
   },
   {
    "duration": 32,
    "start_time": "2023-04-03T08:57:38.774Z"
   },
   {
    "duration": 789,
    "start_time": "2023-04-03T08:57:38.808Z"
   },
   {
    "duration": 6,
    "start_time": "2023-04-03T08:57:39.600Z"
   },
   {
    "duration": 49,
    "start_time": "2023-04-03T08:57:39.618Z"
   },
   {
    "duration": 4,
    "start_time": "2023-04-03T08:57:39.669Z"
   },
   {
    "duration": 59,
    "start_time": "2023-04-03T08:57:39.676Z"
   },
   {
    "duration": 32,
    "start_time": "2023-04-03T08:57:39.743Z"
   },
   {
    "duration": 67,
    "start_time": "2023-04-03T08:57:39.777Z"
   },
   {
    "duration": 91,
    "start_time": "2023-04-03T08:57:39.846Z"
   },
   {
    "duration": 29,
    "start_time": "2023-04-03T08:57:39.940Z"
   },
   {
    "duration": 55,
    "start_time": "2023-04-03T08:57:39.971Z"
   },
   {
    "duration": 24,
    "start_time": "2023-04-03T08:57:40.027Z"
   },
   {
    "duration": 14,
    "start_time": "2023-04-03T08:57:40.053Z"
   },
   {
    "duration": 52,
    "start_time": "2023-04-03T08:57:40.069Z"
   },
   {
    "duration": 937,
    "start_time": "2023-04-03T08:57:41.605Z"
   },
   {
    "duration": 132,
    "start_time": "2023-04-03T08:57:49.072Z"
   },
   {
    "duration": 123,
    "start_time": "2023-04-03T08:58:22.172Z"
   },
   {
    "duration": 122,
    "start_time": "2023-04-03T08:58:50.640Z"
   },
   {
    "duration": 125,
    "start_time": "2023-04-03T08:58:54.948Z"
   },
   {
    "duration": 6,
    "start_time": "2023-04-03T09:00:03.605Z"
   },
   {
    "duration": 239,
    "start_time": "2023-04-03T09:00:03.613Z"
   },
   {
    "duration": 19,
    "start_time": "2023-04-03T09:00:03.854Z"
   },
   {
    "duration": 8,
    "start_time": "2023-04-03T09:00:03.875Z"
   },
   {
    "duration": 15,
    "start_time": "2023-04-03T09:00:03.885Z"
   },
   {
    "duration": 48,
    "start_time": "2023-04-03T09:00:03.901Z"
   },
   {
    "duration": 75,
    "start_time": "2023-04-03T09:00:03.950Z"
   },
   {
    "duration": 216,
    "start_time": "2023-04-03T09:00:04.033Z"
   },
   {
    "duration": 11,
    "start_time": "2023-04-03T09:00:04.253Z"
   },
   {
    "duration": 94,
    "start_time": "2023-04-03T09:00:04.266Z"
   },
   {
    "duration": 92,
    "start_time": "2023-04-03T09:00:04.361Z"
   },
   {
    "duration": 28,
    "start_time": "2023-04-03T09:00:04.456Z"
   },
   {
    "duration": 57,
    "start_time": "2023-04-03T09:00:04.486Z"
   },
   {
    "duration": 24,
    "start_time": "2023-04-03T09:00:04.545Z"
   },
   {
    "duration": 136,
    "start_time": "2023-04-03T09:00:04.570Z"
   },
   {
    "duration": 22,
    "start_time": "2023-04-03T09:00:04.708Z"
   },
   {
    "duration": 34,
    "start_time": "2023-04-03T09:00:04.732Z"
   },
   {
    "duration": 41,
    "start_time": "2023-04-03T09:00:04.768Z"
   },
   {
    "duration": 517,
    "start_time": "2023-04-03T09:00:04.811Z"
   },
   {
    "duration": 10,
    "start_time": "2023-04-03T09:00:05.332Z"
   },
   {
    "duration": 59,
    "start_time": "2023-04-03T09:00:05.349Z"
   },
   {
    "duration": 3,
    "start_time": "2023-04-03T09:00:05.410Z"
   },
   {
    "duration": 81,
    "start_time": "2023-04-03T09:00:05.415Z"
   },
   {
    "duration": 50,
    "start_time": "2023-04-03T09:00:05.498Z"
   },
   {
    "duration": 70,
    "start_time": "2023-04-03T09:00:05.551Z"
   },
   {
    "duration": 77,
    "start_time": "2023-04-03T09:00:05.624Z"
   },
   {
    "duration": 31,
    "start_time": "2023-04-03T09:00:05.702Z"
   },
   {
    "duration": 65,
    "start_time": "2023-04-03T09:00:05.739Z"
   },
   {
    "duration": 10,
    "start_time": "2023-04-03T09:00:05.806Z"
   },
   {
    "duration": 66,
    "start_time": "2023-04-03T09:00:05.823Z"
   },
   {
    "duration": 104,
    "start_time": "2023-04-03T09:00:05.893Z"
   },
   {
    "duration": 152,
    "start_time": "2023-04-03T09:00:05.999Z"
   },
   {
    "duration": 9,
    "start_time": "2023-04-03T09:00:06.153Z"
   },
   {
    "duration": 8,
    "start_time": "2023-04-03T09:12:45.542Z"
   },
   {
    "duration": 220,
    "start_time": "2023-04-03T09:12:45.552Z"
   },
   {
    "duration": 20,
    "start_time": "2023-04-03T09:12:45.773Z"
   },
   {
    "duration": 13,
    "start_time": "2023-04-03T09:12:45.796Z"
   },
   {
    "duration": 55,
    "start_time": "2023-04-03T09:12:45.811Z"
   },
   {
    "duration": 14,
    "start_time": "2023-04-03T09:12:45.869Z"
   },
   {
    "duration": 24,
    "start_time": "2023-04-03T09:12:45.884Z"
   },
   {
    "duration": 99,
    "start_time": "2023-04-03T09:12:45.909Z"
   },
   {
    "duration": 29,
    "start_time": "2023-04-03T09:12:46.011Z"
   },
   {
    "duration": 97,
    "start_time": "2023-04-03T09:12:46.048Z"
   },
   {
    "duration": 94,
    "start_time": "2023-04-03T09:12:46.148Z"
   },
   {
    "duration": 32,
    "start_time": "2023-04-03T09:12:46.248Z"
   },
   {
    "duration": 46,
    "start_time": "2023-04-03T09:12:46.282Z"
   },
   {
    "duration": 28,
    "start_time": "2023-04-03T09:12:46.337Z"
   },
   {
    "duration": 148,
    "start_time": "2023-04-03T09:12:46.367Z"
   },
   {
    "duration": 13,
    "start_time": "2023-04-03T09:12:46.517Z"
   },
   {
    "duration": 70,
    "start_time": "2023-04-03T09:12:46.539Z"
   },
   {
    "duration": 86,
    "start_time": "2023-04-03T09:12:46.611Z"
   },
   {
    "duration": 571,
    "start_time": "2023-04-03T09:12:46.698Z"
   },
   {
    "duration": 4,
    "start_time": "2023-04-03T09:12:47.271Z"
   },
   {
    "duration": 63,
    "start_time": "2023-04-03T09:12:47.277Z"
   },
   {
    "duration": 21,
    "start_time": "2023-04-03T09:12:47.350Z"
   },
   {
    "duration": 96,
    "start_time": "2023-04-03T09:12:47.373Z"
   },
   {
    "duration": 37,
    "start_time": "2023-04-03T09:12:47.472Z"
   },
   {
    "duration": 101,
    "start_time": "2023-04-03T09:12:47.511Z"
   },
   {
    "duration": 101,
    "start_time": "2023-04-03T09:12:47.614Z"
   },
   {
    "duration": 51,
    "start_time": "2023-04-03T09:12:47.717Z"
   },
   {
    "duration": 52,
    "start_time": "2023-04-03T09:12:47.770Z"
   },
   {
    "duration": 50,
    "start_time": "2023-04-03T09:12:47.824Z"
   },
   {
    "duration": 50,
    "start_time": "2023-04-03T09:12:47.875Z"
   },
   {
    "duration": 86,
    "start_time": "2023-04-03T09:12:47.927Z"
   },
   {
    "duration": 154,
    "start_time": "2023-04-03T09:13:09.709Z"
   },
   {
    "duration": 184,
    "start_time": "2023-04-03T09:13:17.437Z"
   },
   {
    "duration": 100,
    "start_time": "2023-04-03T09:13:44.851Z"
   },
   {
    "duration": 20,
    "start_time": "2023-04-03T10:05:33.293Z"
   },
   {
    "duration": 26,
    "start_time": "2023-04-03T10:05:57.589Z"
   },
   {
    "duration": 32,
    "start_time": "2023-04-03T10:06:07.774Z"
   },
   {
    "duration": 20,
    "start_time": "2023-04-03T10:12:09.057Z"
   },
   {
    "duration": 30,
    "start_time": "2023-04-03T10:12:12.104Z"
   },
   {
    "duration": 28,
    "start_time": "2023-04-03T10:13:14.180Z"
   },
   {
    "duration": 40,
    "start_time": "2023-04-03T10:13:39.332Z"
   },
   {
    "duration": 4,
    "start_time": "2023-04-03T10:13:42.394Z"
   },
   {
    "duration": 4,
    "start_time": "2023-04-03T10:13:47.211Z"
   },
   {
    "duration": 4,
    "start_time": "2023-04-03T10:13:49.728Z"
   },
   {
    "duration": 4,
    "start_time": "2023-04-03T10:13:51.811Z"
   },
   {
    "duration": 5,
    "start_time": "2023-04-03T10:14:11.171Z"
   },
   {
    "duration": 4,
    "start_time": "2023-04-03T10:15:24.815Z"
   },
   {
    "duration": 5,
    "start_time": "2023-04-03T10:15:28.595Z"
   },
   {
    "duration": 4,
    "start_time": "2023-04-03T10:15:49.239Z"
   },
   {
    "duration": 4,
    "start_time": "2023-04-03T10:15:49.997Z"
   },
   {
    "duration": 4,
    "start_time": "2023-04-03T10:17:07.007Z"
   },
   {
    "duration": 5,
    "start_time": "2023-04-03T10:17:07.436Z"
   },
   {
    "duration": 45,
    "start_time": "2023-04-03T10:17:48.241Z"
   },
   {
    "duration": 3,
    "start_time": "2023-04-03T10:22:07.654Z"
   },
   {
    "duration": 5,
    "start_time": "2023-04-03T10:22:12.748Z"
   },
   {
    "duration": 3,
    "start_time": "2023-04-03T10:22:16.333Z"
   },
   {
    "duration": 5,
    "start_time": "2023-04-03T10:22:16.910Z"
   },
   {
    "duration": 4,
    "start_time": "2023-04-03T10:22:42.504Z"
   },
   {
    "duration": 6,
    "start_time": "2023-04-03T10:22:43.630Z"
   },
   {
    "duration": 4,
    "start_time": "2023-04-03T10:23:08.135Z"
   },
   {
    "duration": 9,
    "start_time": "2023-04-03T10:23:31.495Z"
   },
   {
    "duration": 5,
    "start_time": "2023-04-03T10:23:31.987Z"
   },
   {
    "duration": 43,
    "start_time": "2023-04-03T10:23:49.406Z"
   },
   {
    "duration": 6,
    "start_time": "2023-04-03T10:23:50.239Z"
   },
   {
    "duration": 4,
    "start_time": "2023-04-03T10:23:52.543Z"
   },
   {
    "duration": 5,
    "start_time": "2023-04-03T10:23:52.788Z"
   },
   {
    "duration": 6,
    "start_time": "2023-04-03T10:24:01.129Z"
   },
   {
    "duration": 5,
    "start_time": "2023-04-03T10:24:01.454Z"
   },
   {
    "duration": 5,
    "start_time": "2023-04-03T10:24:06.139Z"
   },
   {
    "duration": 8,
    "start_time": "2023-04-03T10:24:06.520Z"
   },
   {
    "duration": 3,
    "start_time": "2023-04-03T10:26:45.546Z"
   },
   {
    "duration": 4,
    "start_time": "2023-04-03T10:26:47.745Z"
   },
   {
    "duration": 3,
    "start_time": "2023-04-03T10:26:48.046Z"
   },
   {
    "duration": 46,
    "start_time": "2023-04-03T10:26:51.098Z"
   },
   {
    "duration": 35,
    "start_time": "2023-04-03T10:53:29.564Z"
   },
   {
    "duration": 39,
    "start_time": "2023-04-03T10:53:38.331Z"
   },
   {
    "duration": 87,
    "start_time": "2023-04-03T10:53:46.179Z"
   },
   {
    "duration": 90,
    "start_time": "2023-04-03T10:53:50.280Z"
   },
   {
    "duration": 39,
    "start_time": "2023-04-03T10:54:54.687Z"
   },
   {
    "duration": 38,
    "start_time": "2023-04-03T10:55:14.039Z"
   },
   {
    "duration": 41,
    "start_time": "2023-04-03T10:55:21.092Z"
   },
   {
    "duration": 47,
    "start_time": "2023-04-03T10:55:53.899Z"
   },
   {
    "duration": 48,
    "start_time": "2023-04-03T10:56:00.191Z"
   },
   {
    "duration": 63,
    "start_time": "2023-04-03T10:56:02.564Z"
   },
   {
    "duration": 37,
    "start_time": "2023-04-03T10:56:04.855Z"
   },
   {
    "duration": 41,
    "start_time": "2023-04-03T10:56:33.422Z"
   },
   {
    "duration": 37,
    "start_time": "2023-04-03T10:56:42.240Z"
   },
   {
    "duration": 47,
    "start_time": "2023-04-03T10:57:05.152Z"
   },
   {
    "duration": 44,
    "start_time": "2023-04-03T11:02:58.193Z"
   },
   {
    "duration": 13,
    "start_time": "2023-04-03T11:04:45.601Z"
   },
   {
    "duration": 26,
    "start_time": "2023-04-03T11:05:07.976Z"
   },
   {
    "duration": 32,
    "start_time": "2023-04-03T11:05:42.453Z"
   },
   {
    "duration": 22,
    "start_time": "2023-04-03T11:05:57.628Z"
   },
   {
    "duration": 20,
    "start_time": "2023-04-03T11:06:03.485Z"
   },
   {
    "duration": 44,
    "start_time": "2023-04-03T11:06:13.273Z"
   },
   {
    "duration": 51,
    "start_time": "2023-04-03T11:08:20.698Z"
   },
   {
    "duration": 47,
    "start_time": "2023-04-03T11:08:51.730Z"
   },
   {
    "duration": 44,
    "start_time": "2023-04-03T11:10:18.128Z"
   },
   {
    "duration": 6,
    "start_time": "2023-04-03T11:17:28.328Z"
   },
   {
    "duration": 5,
    "start_time": "2023-04-03T11:22:46.895Z"
   },
   {
    "duration": 40,
    "start_time": "2023-04-03T11:22:47.242Z"
   },
   {
    "duration": 31,
    "start_time": "2023-04-03T11:25:06.110Z"
   },
   {
    "duration": 76,
    "start_time": "2023-04-03T11:25:28.789Z"
   },
   {
    "duration": 127,
    "start_time": "2023-04-03T11:25:36.953Z"
   },
   {
    "duration": 261,
    "start_time": "2023-04-03T11:26:02.710Z"
   },
   {
    "duration": 194,
    "start_time": "2023-04-03T11:27:07.469Z"
   },
   {
    "duration": 217,
    "start_time": "2023-04-03T11:27:18.980Z"
   },
   {
    "duration": 189,
    "start_time": "2023-04-03T11:27:29.221Z"
   },
   {
    "duration": 6,
    "start_time": "2023-04-03T11:28:53.877Z"
   },
   {
    "duration": 171,
    "start_time": "2023-04-03T11:29:27.077Z"
   },
   {
    "duration": 5,
    "start_time": "2023-04-03T11:29:32.713Z"
   },
   {
    "duration": 186,
    "start_time": "2023-04-03T11:29:33.122Z"
   },
   {
    "duration": 4,
    "start_time": "2023-04-03T11:32:15.572Z"
   },
   {
    "duration": 38,
    "start_time": "2023-04-03T11:37:52.915Z"
   },
   {
    "duration": 5,
    "start_time": "2023-04-03T11:38:03.500Z"
   },
   {
    "duration": 188,
    "start_time": "2023-04-03T11:38:04.216Z"
   },
   {
    "duration": 200,
    "start_time": "2023-04-03T11:38:12.300Z"
   },
   {
    "duration": 191,
    "start_time": "2023-04-03T12:17:21.934Z"
   },
   {
    "duration": 187,
    "start_time": "2023-04-03T12:18:50.401Z"
   },
   {
    "duration": 126,
    "start_time": "2023-04-03T12:18:58.734Z"
   },
   {
    "duration": 115,
    "start_time": "2023-04-03T12:19:08.190Z"
   },
   {
    "duration": 39,
    "start_time": "2023-04-03T12:19:16.809Z"
   },
   {
    "duration": 55,
    "start_time": "2023-04-03T12:19:43.761Z"
   },
   {
    "duration": 5,
    "start_time": "2023-04-03T12:21:49.830Z"
   },
   {
    "duration": 237,
    "start_time": "2023-04-03T12:21:49.836Z"
   },
   {
    "duration": 21,
    "start_time": "2023-04-03T12:21:50.075Z"
   },
   {
    "duration": 4,
    "start_time": "2023-04-03T12:21:50.097Z"
   },
   {
    "duration": 29,
    "start_time": "2023-04-03T12:21:50.103Z"
   },
   {
    "duration": 21,
    "start_time": "2023-04-03T12:21:50.134Z"
   },
   {
    "duration": 21,
    "start_time": "2023-04-03T12:21:50.157Z"
   },
   {
    "duration": 111,
    "start_time": "2023-04-03T12:21:50.180Z"
   },
   {
    "duration": 9,
    "start_time": "2023-04-03T12:21:50.292Z"
   },
   {
    "duration": 98,
    "start_time": "2023-04-03T12:21:50.303Z"
   },
   {
    "duration": 97,
    "start_time": "2023-04-03T12:21:50.403Z"
   },
   {
    "duration": 49,
    "start_time": "2023-04-03T12:21:50.501Z"
   },
   {
    "duration": 32,
    "start_time": "2023-04-03T12:21:50.551Z"
   },
   {
    "duration": 36,
    "start_time": "2023-04-03T12:21:50.586Z"
   },
   {
    "duration": 138,
    "start_time": "2023-04-03T12:21:50.624Z"
   },
   {
    "duration": 8,
    "start_time": "2023-04-03T12:21:50.764Z"
   },
   {
    "duration": 24,
    "start_time": "2023-04-03T12:21:50.773Z"
   },
   {
    "duration": 46,
    "start_time": "2023-04-03T12:21:50.798Z"
   },
   {
    "duration": 468,
    "start_time": "2023-04-03T12:21:50.846Z"
   },
   {
    "duration": 5,
    "start_time": "2023-04-03T12:21:51.316Z"
   },
   {
    "duration": 51,
    "start_time": "2023-04-03T12:21:51.324Z"
   },
   {
    "duration": 13,
    "start_time": "2023-04-03T12:21:51.376Z"
   },
   {
    "duration": 83,
    "start_time": "2023-04-03T12:21:51.391Z"
   },
   {
    "duration": 27,
    "start_time": "2023-04-03T12:21:51.476Z"
   },
   {
    "duration": 69,
    "start_time": "2023-04-03T12:21:51.506Z"
   },
   {
    "duration": 80,
    "start_time": "2023-04-03T12:21:51.577Z"
   },
   {
    "duration": 23,
    "start_time": "2023-04-03T12:21:51.659Z"
   },
   {
    "duration": 61,
    "start_time": "2023-04-03T12:21:51.683Z"
   },
   {
    "duration": 11,
    "start_time": "2023-04-03T12:21:51.746Z"
   },
   {
    "duration": 17,
    "start_time": "2023-04-03T12:21:51.759Z"
   },
   {
    "duration": 55,
    "start_time": "2023-04-03T12:21:51.778Z"
   },
   {
    "duration": 32,
    "start_time": "2023-04-03T12:21:53.441Z"
   },
   {
    "duration": 196,
    "start_time": "2023-04-03T12:21:54.421Z"
   },
   {
    "duration": 76,
    "start_time": "2023-04-03T12:22:02.213Z"
   },
   {
    "duration": 13,
    "start_time": "2023-04-03T12:24:36.475Z"
   },
   {
    "duration": 5,
    "start_time": "2023-04-03T12:24:39.744Z"
   },
   {
    "duration": 112,
    "start_time": "2023-04-03T12:24:44.390Z"
   },
   {
    "duration": 77,
    "start_time": "2023-04-03T12:24:47.848Z"
   },
   {
    "duration": 72,
    "start_time": "2023-04-03T12:32:49.291Z"
   },
   {
    "duration": 5,
    "start_time": "2023-04-03T12:33:28.091Z"
   },
   {
    "duration": 330,
    "start_time": "2023-04-03T12:33:39.068Z"
   },
   {
    "duration": 8,
    "start_time": "2023-04-03T12:39:07.338Z"
   },
   {
    "duration": 189,
    "start_time": "2023-04-03T12:41:01.803Z"
   },
   {
    "duration": 94,
    "start_time": "2023-04-03T12:41:06.645Z"
   },
   {
    "duration": 94,
    "start_time": "2023-04-03T12:42:35.633Z"
   },
   {
    "duration": 9,
    "start_time": "2023-04-03T12:43:05.899Z"
   },
   {
    "duration": 5,
    "start_time": "2023-04-03T12:45:52.257Z"
   },
   {
    "duration": 15,
    "start_time": "2023-04-03T12:46:17.959Z"
   },
   {
    "duration": 14,
    "start_time": "2023-04-03T12:46:24.961Z"
   },
   {
    "duration": 96,
    "start_time": "2023-04-03T12:46:43.148Z"
   },
   {
    "duration": 97,
    "start_time": "2023-04-03T12:46:48.003Z"
   },
   {
    "duration": 13,
    "start_time": "2023-04-03T12:46:52.100Z"
   },
   {
    "duration": 60,
    "start_time": "2023-04-03T12:48:22.396Z"
   },
   {
    "duration": 66,
    "start_time": "2023-04-03T12:48:36.462Z"
   },
   {
    "duration": 87,
    "start_time": "2023-04-03T12:49:43.828Z"
   },
   {
    "duration": 65,
    "start_time": "2023-04-03T12:49:44.465Z"
   },
   {
    "duration": 65,
    "start_time": "2023-04-03T12:50:02.731Z"
   },
   {
    "duration": 63,
    "start_time": "2023-04-03T12:50:07.198Z"
   },
   {
    "duration": 4,
    "start_time": "2023-04-03T12:50:12.233Z"
   },
   {
    "duration": 206,
    "start_time": "2023-04-03T12:50:12.240Z"
   },
   {
    "duration": 22,
    "start_time": "2023-04-03T12:50:12.448Z"
   },
   {
    "duration": 4,
    "start_time": "2023-04-03T12:50:12.472Z"
   },
   {
    "duration": 13,
    "start_time": "2023-04-03T12:50:12.478Z"
   },
   {
    "duration": 34,
    "start_time": "2023-04-03T12:50:12.493Z"
   },
   {
    "duration": 22,
    "start_time": "2023-04-03T12:50:12.532Z"
   },
   {
    "duration": 87,
    "start_time": "2023-04-03T12:50:12.556Z"
   },
   {
    "duration": 58,
    "start_time": "2023-04-03T12:50:12.646Z"
   },
   {
    "duration": 108,
    "start_time": "2023-04-03T12:50:12.706Z"
   },
   {
    "duration": 105,
    "start_time": "2023-04-03T12:50:12.816Z"
   },
   {
    "duration": 48,
    "start_time": "2023-04-03T12:50:12.929Z"
   },
   {
    "duration": 58,
    "start_time": "2023-04-03T12:50:12.979Z"
   },
   {
    "duration": 23,
    "start_time": "2023-04-03T12:50:13.040Z"
   },
   {
    "duration": 176,
    "start_time": "2023-04-03T12:50:13.066Z"
   },
   {
    "duration": 12,
    "start_time": "2023-04-03T12:50:13.245Z"
   },
   {
    "duration": 51,
    "start_time": "2023-04-03T12:50:13.259Z"
   },
   {
    "duration": 49,
    "start_time": "2023-04-03T12:50:13.312Z"
   },
   {
    "duration": 478,
    "start_time": "2023-04-03T12:50:13.363Z"
   },
   {
    "duration": 4,
    "start_time": "2023-04-03T12:50:13.843Z"
   },
   {
    "duration": 43,
    "start_time": "2023-04-03T12:50:13.848Z"
   },
   {
    "duration": 3,
    "start_time": "2023-04-03T12:50:13.893Z"
   },
   {
    "duration": 60,
    "start_time": "2023-04-03T12:50:13.898Z"
   },
   {
    "duration": 26,
    "start_time": "2023-04-03T12:50:13.961Z"
   },
   {
    "duration": 59,
    "start_time": "2023-04-03T12:50:13.988Z"
   },
   {
    "duration": 81,
    "start_time": "2023-04-03T12:50:14.048Z"
   },
   {
    "duration": 24,
    "start_time": "2023-04-03T12:50:14.131Z"
   },
   {
    "duration": 43,
    "start_time": "2023-04-03T12:50:14.158Z"
   },
   {
    "duration": 29,
    "start_time": "2023-04-03T12:50:14.203Z"
   },
   {
    "duration": 28,
    "start_time": "2023-04-03T12:50:14.233Z"
   },
   {
    "duration": 44,
    "start_time": "2023-04-03T12:50:14.263Z"
   },
   {
    "duration": 38,
    "start_time": "2023-04-03T12:50:14.309Z"
   },
   {
    "duration": 202,
    "start_time": "2023-04-03T12:50:14.349Z"
   },
   {
    "duration": 83,
    "start_time": "2023-04-03T12:50:14.553Z"
   },
   {
    "duration": 38,
    "start_time": "2023-04-03T12:50:14.638Z"
   },
   {
    "duration": 5,
    "start_time": "2023-04-03T12:50:14.678Z"
   },
   {
    "duration": 106,
    "start_time": "2023-04-03T12:50:14.684Z"
   },
   {
    "duration": 62,
    "start_time": "2023-04-03T12:50:16.999Z"
   },
   {
    "duration": 93,
    "start_time": "2023-04-03T12:51:16.507Z"
   },
   {
    "duration": 62,
    "start_time": "2023-04-03T12:52:38.211Z"
   },
   {
    "duration": 67,
    "start_time": "2023-04-03T12:53:00.508Z"
   },
   {
    "duration": 7,
    "start_time": "2023-04-03T12:53:05.116Z"
   },
   {
    "duration": 219,
    "start_time": "2023-04-03T12:53:05.127Z"
   },
   {
    "duration": 22,
    "start_time": "2023-04-03T12:53:05.348Z"
   },
   {
    "duration": 3,
    "start_time": "2023-04-03T12:53:05.372Z"
   },
   {
    "duration": 14,
    "start_time": "2023-04-03T12:53:05.377Z"
   },
   {
    "duration": 44,
    "start_time": "2023-04-03T12:53:05.393Z"
   },
   {
    "duration": 24,
    "start_time": "2023-04-03T12:53:05.440Z"
   },
   {
    "duration": 84,
    "start_time": "2023-04-03T12:53:05.466Z"
   },
   {
    "duration": 9,
    "start_time": "2023-04-03T12:53:05.552Z"
   },
   {
    "duration": 97,
    "start_time": "2023-04-03T12:53:05.564Z"
   },
   {
    "duration": 104,
    "start_time": "2023-04-03T12:53:05.663Z"
   },
   {
    "duration": 31,
    "start_time": "2023-04-03T12:53:05.768Z"
   },
   {
    "duration": 49,
    "start_time": "2023-04-03T12:53:05.801Z"
   },
   {
    "duration": 23,
    "start_time": "2023-04-03T12:53:05.851Z"
   },
   {
    "duration": 158,
    "start_time": "2023-04-03T12:53:05.876Z"
   },
   {
    "duration": 9,
    "start_time": "2023-04-03T12:53:06.036Z"
   },
   {
    "duration": 32,
    "start_time": "2023-04-03T12:53:06.047Z"
   },
   {
    "duration": 55,
    "start_time": "2023-04-03T12:53:06.081Z"
   },
   {
    "duration": 482,
    "start_time": "2023-04-03T12:53:06.137Z"
   },
   {
    "duration": 5,
    "start_time": "2023-04-03T12:53:06.632Z"
   },
   {
    "duration": 51,
    "start_time": "2023-04-03T12:53:06.642Z"
   },
   {
    "duration": 5,
    "start_time": "2023-04-03T12:53:06.695Z"
   },
   {
    "duration": 59,
    "start_time": "2023-04-03T12:53:06.701Z"
   },
   {
    "duration": 29,
    "start_time": "2023-04-03T12:53:06.762Z"
   },
   {
    "duration": 70,
    "start_time": "2023-04-03T12:53:06.792Z"
   },
   {
    "duration": 79,
    "start_time": "2023-04-03T12:53:06.864Z"
   },
   {
    "duration": 26,
    "start_time": "2023-04-03T12:53:06.944Z"
   },
   {
    "duration": 79,
    "start_time": "2023-04-03T12:53:06.973Z"
   },
   {
    "duration": 11,
    "start_time": "2023-04-03T12:53:07.054Z"
   },
   {
    "duration": 18,
    "start_time": "2023-04-03T12:53:07.067Z"
   },
   {
    "duration": 51,
    "start_time": "2023-04-03T12:53:07.087Z"
   },
   {
    "duration": 39,
    "start_time": "2023-04-03T12:53:07.140Z"
   },
   {
    "duration": 219,
    "start_time": "2023-04-03T12:53:07.181Z"
   },
   {
    "duration": 105,
    "start_time": "2023-04-03T12:53:07.402Z"
   },
   {
    "duration": 53,
    "start_time": "2023-04-03T12:53:09.346Z"
   },
   {
    "duration": 84,
    "start_time": "2023-04-03T12:59:10.899Z"
   },
   {
    "duration": 90,
    "start_time": "2023-04-03T12:59:21.614Z"
   },
   {
    "duration": 15,
    "start_time": "2023-04-03T13:01:17.517Z"
   },
   {
    "duration": 4,
    "start_time": "2023-04-03T13:01:26.003Z"
   },
   {
    "duration": 6,
    "start_time": "2023-04-03T13:02:05.892Z"
   },
   {
    "duration": 90,
    "start_time": "2023-04-03T13:02:14.391Z"
   },
   {
    "duration": 123,
    "start_time": "2023-04-03T13:02:24.929Z"
   },
   {
    "duration": 87,
    "start_time": "2023-04-03T13:02:28.299Z"
   },
   {
    "duration": 13,
    "start_time": "2023-04-03T13:03:36.841Z"
   },
   {
    "duration": 300,
    "start_time": "2023-04-03T13:03:44.237Z"
   },
   {
    "duration": 263,
    "start_time": "2023-04-03T13:03:53.994Z"
   },
   {
    "duration": 3,
    "start_time": "2023-04-03T13:05:31.304Z"
   },
   {
    "duration": 251,
    "start_time": "2023-04-03T13:05:45.636Z"
   },
   {
    "duration": 3,
    "start_time": "2023-04-03T13:05:58.641Z"
   },
   {
    "duration": 43,
    "start_time": "2023-04-03T13:05:59.299Z"
   },
   {
    "duration": 3,
    "start_time": "2023-04-03T13:06:38.413Z"
   },
   {
    "duration": 265,
    "start_time": "2023-04-03T13:06:38.940Z"
   },
   {
    "duration": 102,
    "start_time": "2023-04-03T13:06:47.668Z"
   },
   {
    "duration": 3,
    "start_time": "2023-04-03T13:08:05.499Z"
   },
   {
    "duration": 269,
    "start_time": "2023-04-03T13:08:06.203Z"
   },
   {
    "duration": 125,
    "start_time": "2023-04-03T13:09:03.816Z"
   },
   {
    "duration": 4,
    "start_time": "2023-04-03T13:09:23.803Z"
   },
   {
    "duration": 278,
    "start_time": "2023-04-03T13:09:25.103Z"
   },
   {
    "duration": 4,
    "start_time": "2023-04-03T13:10:06.591Z"
   },
   {
    "duration": 281,
    "start_time": "2023-04-03T13:10:07.044Z"
   },
   {
    "duration": 4,
    "start_time": "2023-04-03T13:10:46.436Z"
   },
   {
    "duration": 256,
    "start_time": "2023-04-03T13:10:47.729Z"
   },
   {
    "duration": 266,
    "start_time": "2023-04-03T13:11:30.031Z"
   },
   {
    "duration": 3,
    "start_time": "2023-04-03T13:11:53.340Z"
   },
   {
    "duration": 267,
    "start_time": "2023-04-03T13:11:54.015Z"
   },
   {
    "duration": 271,
    "start_time": "2023-04-03T13:11:56.960Z"
   },
   {
    "duration": 261,
    "start_time": "2023-04-03T13:12:24.483Z"
   },
   {
    "duration": 95,
    "start_time": "2023-04-03T13:19:13.407Z"
   },
   {
    "duration": 88,
    "start_time": "2023-04-03T13:20:10.043Z"
   },
   {
    "duration": 90,
    "start_time": "2023-04-03T13:20:18.518Z"
   },
   {
    "duration": 88,
    "start_time": "2023-04-03T13:20:42.903Z"
   },
   {
    "duration": 12,
    "start_time": "2023-04-03T13:21:03.065Z"
   },
   {
    "duration": 707,
    "start_time": "2023-04-03T13:25:09.024Z"
   },
   {
    "duration": 73,
    "start_time": "2023-04-03T13:25:16.845Z"
   },
   {
    "duration": 80,
    "start_time": "2023-04-03T13:25:41.415Z"
   },
   {
    "duration": 76,
    "start_time": "2023-04-03T13:25:56.498Z"
   },
   {
    "duration": 92,
    "start_time": "2023-04-03T13:26:11.872Z"
   },
   {
    "duration": 33,
    "start_time": "2023-04-03T13:27:33.144Z"
   },
   {
    "duration": 19,
    "start_time": "2023-04-03T13:27:51.767Z"
   },
   {
    "duration": 25,
    "start_time": "2023-04-03T13:28:04.708Z"
   },
   {
    "duration": 4,
    "start_time": "2023-04-03T13:28:18.898Z"
   },
   {
    "duration": 207,
    "start_time": "2023-04-03T13:28:18.905Z"
   },
   {
    "duration": 31,
    "start_time": "2023-04-03T13:28:19.113Z"
   },
   {
    "duration": 9,
    "start_time": "2023-04-03T13:28:19.146Z"
   },
   {
    "duration": 21,
    "start_time": "2023-04-03T13:28:19.157Z"
   },
   {
    "duration": 12,
    "start_time": "2023-04-03T13:28:19.180Z"
   },
   {
    "duration": 38,
    "start_time": "2023-04-03T13:28:19.194Z"
   },
   {
    "duration": 102,
    "start_time": "2023-04-03T13:28:19.235Z"
   },
   {
    "duration": 9,
    "start_time": "2023-04-03T13:28:19.339Z"
   },
   {
    "duration": 106,
    "start_time": "2023-04-03T13:28:19.350Z"
   },
   {
    "duration": 101,
    "start_time": "2023-04-03T13:28:19.457Z"
   },
   {
    "duration": 36,
    "start_time": "2023-04-03T13:28:19.560Z"
   },
   {
    "duration": 66,
    "start_time": "2023-04-03T13:28:19.599Z"
   },
   {
    "duration": 19,
    "start_time": "2023-04-03T13:28:19.668Z"
   },
   {
    "duration": 147,
    "start_time": "2023-04-03T13:28:19.689Z"
   },
   {
    "duration": 7,
    "start_time": "2023-04-03T13:28:19.838Z"
   },
   {
    "duration": 28,
    "start_time": "2023-04-03T13:28:19.847Z"
   },
   {
    "duration": 54,
    "start_time": "2023-04-03T13:28:19.877Z"
   },
   {
    "duration": 468,
    "start_time": "2023-04-03T13:28:19.933Z"
   },
   {
    "duration": 5,
    "start_time": "2023-04-03T13:28:20.403Z"
   },
   {
    "duration": 41,
    "start_time": "2023-04-03T13:28:20.418Z"
   },
   {
    "duration": 4,
    "start_time": "2023-04-03T13:28:20.460Z"
   },
   {
    "duration": 77,
    "start_time": "2023-04-03T13:28:20.465Z"
   },
   {
    "duration": 27,
    "start_time": "2023-04-03T13:28:20.544Z"
   },
   {
    "duration": 75,
    "start_time": "2023-04-03T13:28:20.572Z"
   },
   {
    "duration": 59,
    "start_time": "2023-04-03T13:28:20.648Z"
   },
   {
    "duration": 36,
    "start_time": "2023-04-03T13:28:20.708Z"
   },
   {
    "duration": 44,
    "start_time": "2023-04-03T13:28:20.746Z"
   },
   {
    "duration": 39,
    "start_time": "2023-04-03T13:28:20.792Z"
   },
   {
    "duration": 29,
    "start_time": "2023-04-03T13:28:20.833Z"
   },
   {
    "duration": 40,
    "start_time": "2023-04-03T13:28:20.864Z"
   },
   {
    "duration": 39,
    "start_time": "2023-04-03T13:28:20.906Z"
   },
   {
    "duration": 185,
    "start_time": "2023-04-03T13:28:20.947Z"
   },
   {
    "duration": 70,
    "start_time": "2023-04-03T13:28:21.134Z"
   },
   {
    "duration": 106,
    "start_time": "2023-04-03T13:28:21.223Z"
   },
   {
    "duration": 9,
    "start_time": "2023-04-03T13:28:36.955Z"
   },
   {
    "duration": 76,
    "start_time": "2023-04-03T13:28:40.830Z"
   },
   {
    "duration": 94,
    "start_time": "2023-04-03T13:28:55.537Z"
   },
   {
    "duration": 5,
    "start_time": "2023-04-03T13:29:01.130Z"
   },
   {
    "duration": 239,
    "start_time": "2023-04-03T13:29:01.136Z"
   },
   {
    "duration": 20,
    "start_time": "2023-04-03T13:29:01.377Z"
   },
   {
    "duration": 41,
    "start_time": "2023-04-03T13:29:01.400Z"
   },
   {
    "duration": 41,
    "start_time": "2023-04-03T13:29:01.442Z"
   },
   {
    "duration": 50,
    "start_time": "2023-04-03T13:29:01.485Z"
   },
   {
    "duration": 71,
    "start_time": "2023-04-03T13:29:01.537Z"
   },
   {
    "duration": 119,
    "start_time": "2023-04-03T13:29:01.610Z"
   },
   {
    "duration": 9,
    "start_time": "2023-04-03T13:29:01.733Z"
   },
   {
    "duration": 133,
    "start_time": "2023-04-03T13:29:01.744Z"
   },
   {
    "duration": 111,
    "start_time": "2023-04-03T13:29:01.879Z"
   },
   {
    "duration": 45,
    "start_time": "2023-04-03T13:29:01.992Z"
   },
   {
    "duration": 42,
    "start_time": "2023-04-03T13:29:02.039Z"
   },
   {
    "duration": 48,
    "start_time": "2023-04-03T13:29:02.083Z"
   },
   {
    "duration": 150,
    "start_time": "2023-04-03T13:29:02.133Z"
   },
   {
    "duration": 8,
    "start_time": "2023-04-03T13:29:02.285Z"
   },
   {
    "duration": 47,
    "start_time": "2023-04-03T13:29:02.294Z"
   },
   {
    "duration": 39,
    "start_time": "2023-04-03T13:29:02.342Z"
   },
   {
    "duration": 523,
    "start_time": "2023-04-03T13:29:02.383Z"
   },
   {
    "duration": 14,
    "start_time": "2023-04-03T13:29:02.908Z"
   },
   {
    "duration": 49,
    "start_time": "2023-04-03T13:29:02.929Z"
   },
   {
    "duration": 31,
    "start_time": "2023-04-03T13:29:02.980Z"
   },
   {
    "duration": 95,
    "start_time": "2023-04-03T13:29:03.013Z"
   },
   {
    "duration": 36,
    "start_time": "2023-04-03T13:29:03.111Z"
   },
   {
    "duration": 99,
    "start_time": "2023-04-03T13:29:03.149Z"
   },
   {
    "duration": 69,
    "start_time": "2023-04-03T13:29:03.250Z"
   },
   {
    "duration": 26,
    "start_time": "2023-04-03T13:29:03.322Z"
   },
   {
    "duration": 41,
    "start_time": "2023-04-03T13:29:03.350Z"
   },
   {
    "duration": 46,
    "start_time": "2023-04-03T13:29:03.393Z"
   },
   {
    "duration": 40,
    "start_time": "2023-04-03T13:29:03.441Z"
   },
   {
    "duration": 51,
    "start_time": "2023-04-03T13:29:03.483Z"
   },
   {
    "duration": 35,
    "start_time": "2023-04-03T13:29:03.535Z"
   },
   {
    "duration": 190,
    "start_time": "2023-04-03T13:29:03.572Z"
   },
   {
    "duration": 74,
    "start_time": "2023-04-03T13:29:03.764Z"
   },
   {
    "duration": 100,
    "start_time": "2023-04-03T13:29:03.839Z"
   },
   {
    "duration": 8,
    "start_time": "2023-04-03T13:29:03.941Z"
   },
   {
    "duration": 78,
    "start_time": "2023-04-03T13:29:10.528Z"
   },
   {
    "duration": 8,
    "start_time": "2023-04-03T13:38:15.712Z"
   },
   {
    "duration": 84,
    "start_time": "2023-04-03T13:38:51.172Z"
   },
   {
    "duration": 13,
    "start_time": "2023-04-03T13:38:58.442Z"
   },
   {
    "duration": 14,
    "start_time": "2023-04-03T13:39:21.802Z"
   },
   {
    "duration": 6,
    "start_time": "2023-04-03T13:42:12.574Z"
   },
   {
    "duration": 4,
    "start_time": "2023-04-03T13:42:20.207Z"
   },
   {
    "duration": 44,
    "start_time": "2023-04-03T13:42:29.200Z"
   },
   {
    "duration": 7,
    "start_time": "2023-04-03T13:54:33.976Z"
   },
   {
    "duration": 2606,
    "start_time": "2023-04-03T13:54:38.777Z"
   },
   {
    "duration": 6,
    "start_time": "2023-04-03T13:54:43.197Z"
   },
   {
    "duration": 14,
    "start_time": "2023-04-03T13:55:17.130Z"
   },
   {
    "duration": 16,
    "start_time": "2023-04-03T13:55:28.406Z"
   },
   {
    "duration": 12,
    "start_time": "2023-04-03T13:56:40.413Z"
   },
   {
    "duration": 5,
    "start_time": "2023-04-03T13:59:40.985Z"
   },
   {
    "duration": 4,
    "start_time": "2023-04-03T13:59:44.596Z"
   },
   {
    "duration": 5,
    "start_time": "2023-04-03T13:59:47.977Z"
   },
   {
    "duration": 199,
    "start_time": "2023-04-03T13:59:47.984Z"
   },
   {
    "duration": 20,
    "start_time": "2023-04-03T13:59:48.185Z"
   },
   {
    "duration": 22,
    "start_time": "2023-04-03T13:59:48.207Z"
   },
   {
    "duration": 22,
    "start_time": "2023-04-03T13:59:48.232Z"
   },
   {
    "duration": 23,
    "start_time": "2023-04-03T13:59:48.256Z"
   },
   {
    "duration": 31,
    "start_time": "2023-04-03T13:59:48.281Z"
   },
   {
    "duration": 97,
    "start_time": "2023-04-03T13:59:48.314Z"
   },
   {
    "duration": 18,
    "start_time": "2023-04-03T13:59:48.413Z"
   },
   {
    "duration": 108,
    "start_time": "2023-04-03T13:59:48.434Z"
   },
   {
    "duration": 96,
    "start_time": "2023-04-03T13:59:48.544Z"
   },
   {
    "duration": 28,
    "start_time": "2023-04-03T13:59:48.642Z"
   },
   {
    "duration": 30,
    "start_time": "2023-04-03T13:59:48.672Z"
   },
   {
    "duration": 21,
    "start_time": "2023-04-03T13:59:48.736Z"
   },
   {
    "duration": 122,
    "start_time": "2023-04-03T13:59:48.759Z"
   },
   {
    "duration": 8,
    "start_time": "2023-04-03T13:59:48.884Z"
   },
   {
    "duration": 43,
    "start_time": "2023-04-03T13:59:48.894Z"
   },
   {
    "duration": 40,
    "start_time": "2023-04-03T13:59:48.939Z"
   },
   {
    "duration": 484,
    "start_time": "2023-04-03T13:59:48.981Z"
   },
   {
    "duration": 5,
    "start_time": "2023-04-03T13:59:49.467Z"
   },
   {
    "duration": 50,
    "start_time": "2023-04-03T13:59:49.474Z"
   },
   {
    "duration": 4,
    "start_time": "2023-04-03T13:59:49.531Z"
   },
   {
    "duration": 54,
    "start_time": "2023-04-03T13:59:49.537Z"
   },
   {
    "duration": 38,
    "start_time": "2023-04-03T13:59:49.593Z"
   },
   {
    "duration": 54,
    "start_time": "2023-04-03T13:59:49.633Z"
   },
   {
    "duration": 62,
    "start_time": "2023-04-03T13:59:49.689Z"
   },
   {
    "duration": 29,
    "start_time": "2023-04-03T13:59:49.753Z"
   },
   {
    "duration": 63,
    "start_time": "2023-04-03T13:59:49.784Z"
   },
   {
    "duration": 10,
    "start_time": "2023-04-03T13:59:49.849Z"
   },
   {
    "duration": 29,
    "start_time": "2023-04-03T13:59:49.861Z"
   },
   {
    "duration": 70,
    "start_time": "2023-04-03T13:59:49.892Z"
   },
   {
    "duration": 33,
    "start_time": "2023-04-03T13:59:49.964Z"
   },
   {
    "duration": 186,
    "start_time": "2023-04-03T13:59:50.000Z"
   },
   {
    "duration": 77,
    "start_time": "2023-04-03T13:59:50.188Z"
   },
   {
    "duration": 95,
    "start_time": "2023-04-03T13:59:50.267Z"
   },
   {
    "duration": 8,
    "start_time": "2023-04-03T13:59:50.363Z"
   },
   {
    "duration": 109,
    "start_time": "2023-04-03T13:59:50.372Z"
   },
   {
    "duration": 7,
    "start_time": "2023-04-03T13:59:50.482Z"
   },
   {
    "duration": 16,
    "start_time": "2023-04-03T13:59:50.491Z"
   },
   {
    "duration": 2000,
    "start_time": "2023-04-03T14:00:10.348Z"
   },
   {
    "duration": 5,
    "start_time": "2023-04-03T14:00:26.608Z"
   },
   {
    "duration": 21,
    "start_time": "2023-04-03T14:00:28.344Z"
   },
   {
    "duration": 8,
    "start_time": "2023-04-03T14:01:05.032Z"
   },
   {
    "duration": 16,
    "start_time": "2023-04-03T14:01:30.740Z"
   },
   {
    "duration": 9,
    "start_time": "2023-04-03T14:01:34.549Z"
   },
   {
    "duration": 13,
    "start_time": "2023-04-03T14:01:46.075Z"
   },
   {
    "duration": 9,
    "start_time": "2023-04-03T14:02:51.581Z"
   },
   {
    "duration": 88,
    "start_time": "2023-04-03T14:03:20.700Z"
   },
   {
    "duration": 41,
    "start_time": "2023-04-03T14:03:26.234Z"
   },
   {
    "duration": 16,
    "start_time": "2023-04-03T14:06:21.688Z"
   },
   {
    "duration": 14,
    "start_time": "2023-04-03T14:06:56.695Z"
   },
   {
    "duration": 6,
    "start_time": "2023-04-03T14:11:07.598Z"
   },
   {
    "duration": 10,
    "start_time": "2023-04-03T14:11:46.550Z"
   },
   {
    "duration": 6,
    "start_time": "2023-04-03T14:12:23.781Z"
   },
   {
    "duration": 8,
    "start_time": "2023-04-03T14:12:29.916Z"
   },
   {
    "duration": 36,
    "start_time": "2023-04-03T14:12:33.135Z"
   },
   {
    "duration": 5,
    "start_time": "2023-04-03T14:13:14.990Z"
   },
   {
    "duration": 12,
    "start_time": "2023-04-03T14:13:15.682Z"
   },
   {
    "duration": 4,
    "start_time": "2023-04-03T14:13:34.298Z"
   },
   {
    "duration": 56,
    "start_time": "2023-04-03T14:13:34.896Z"
   },
   {
    "duration": 53,
    "start_time": "2023-04-03T14:13:41.432Z"
   },
   {
    "duration": 57,
    "start_time": "2023-04-03T14:13:47.532Z"
   },
   {
    "duration": 60,
    "start_time": "2023-04-03T14:13:51.407Z"
   },
   {
    "duration": 61,
    "start_time": "2023-04-03T14:14:08.701Z"
   },
   {
    "duration": 5,
    "start_time": "2023-04-03T14:17:05.904Z"
   },
   {
    "duration": 234,
    "start_time": "2023-04-03T14:17:05.911Z"
   },
   {
    "duration": 23,
    "start_time": "2023-04-03T14:17:06.147Z"
   },
   {
    "duration": 35,
    "start_time": "2023-04-03T14:17:06.173Z"
   },
   {
    "duration": 41,
    "start_time": "2023-04-03T14:17:06.210Z"
   },
   {
    "duration": 14,
    "start_time": "2023-04-03T14:17:06.253Z"
   },
   {
    "duration": 31,
    "start_time": "2023-04-03T14:17:06.269Z"
   },
   {
    "duration": 89,
    "start_time": "2023-04-03T14:17:06.302Z"
   },
   {
    "duration": 24,
    "start_time": "2023-04-03T14:17:06.394Z"
   },
   {
    "duration": 136,
    "start_time": "2023-04-03T14:17:06.419Z"
   },
   {
    "duration": 107,
    "start_time": "2023-04-03T14:17:06.556Z"
   },
   {
    "duration": 31,
    "start_time": "2023-04-03T14:17:06.665Z"
   },
   {
    "duration": 62,
    "start_time": "2023-04-03T14:17:06.699Z"
   },
   {
    "duration": 24,
    "start_time": "2023-04-03T14:17:06.764Z"
   },
   {
    "duration": 166,
    "start_time": "2023-04-03T14:17:06.791Z"
   },
   {
    "duration": 8,
    "start_time": "2023-04-03T14:17:06.959Z"
   },
   {
    "duration": 67,
    "start_time": "2023-04-03T14:17:06.969Z"
   },
   {
    "duration": 36,
    "start_time": "2023-04-03T14:17:07.039Z"
   },
   {
    "duration": 537,
    "start_time": "2023-04-03T14:17:07.077Z"
   },
   {
    "duration": 6,
    "start_time": "2023-04-03T14:17:07.616Z"
   },
   {
    "duration": 68,
    "start_time": "2023-04-03T14:17:07.623Z"
   },
   {
    "duration": 4,
    "start_time": "2023-04-03T14:17:07.693Z"
   },
   {
    "duration": 64,
    "start_time": "2023-04-03T14:17:07.699Z"
   },
   {
    "duration": 28,
    "start_time": "2023-04-03T14:17:07.766Z"
   },
   {
    "duration": 73,
    "start_time": "2023-04-03T14:17:07.796Z"
   },
   {
    "duration": 81,
    "start_time": "2023-04-03T14:17:07.871Z"
   },
   {
    "duration": 26,
    "start_time": "2023-04-03T14:17:07.955Z"
   },
   {
    "duration": 70,
    "start_time": "2023-04-03T14:17:07.982Z"
   },
   {
    "duration": 11,
    "start_time": "2023-04-03T14:17:08.054Z"
   },
   {
    "duration": 20,
    "start_time": "2023-04-03T14:17:08.067Z"
   },
   {
    "duration": 70,
    "start_time": "2023-04-03T14:17:08.089Z"
   },
   {
    "duration": 36,
    "start_time": "2023-04-03T14:17:08.161Z"
   },
   {
    "duration": 203,
    "start_time": "2023-04-03T14:17:08.199Z"
   },
   {
    "duration": 88,
    "start_time": "2023-04-03T14:17:08.404Z"
   },
   {
    "duration": 110,
    "start_time": "2023-04-03T14:17:08.494Z"
   },
   {
    "duration": 20,
    "start_time": "2023-04-03T14:17:08.606Z"
   },
   {
    "duration": 132,
    "start_time": "2023-04-03T14:17:08.628Z"
   },
   {
    "duration": 6,
    "start_time": "2023-04-03T14:17:08.762Z"
   },
   {
    "duration": 35,
    "start_time": "2023-04-03T14:17:08.780Z"
   },
   {
    "duration": 35,
    "start_time": "2023-04-03T14:17:08.817Z"
   },
   {
    "duration": 55,
    "start_time": "2023-04-03T14:17:08.854Z"
   },
   {
    "duration": 69,
    "start_time": "2023-04-03T14:17:08.911Z"
   },
   {
    "duration": 62,
    "start_time": "2023-04-03T14:17:08.982Z"
   },
   {
    "duration": 62,
    "start_time": "2023-04-03T14:17:09.049Z"
   },
   {
    "duration": 4,
    "start_time": "2023-04-03T14:23:29.683Z"
   },
   {
    "duration": 5,
    "start_time": "2023-04-03T14:23:35.578Z"
   },
   {
    "duration": 243,
    "start_time": "2023-04-03T14:23:35.585Z"
   },
   {
    "duration": 28,
    "start_time": "2023-04-03T14:23:35.831Z"
   },
   {
    "duration": 38,
    "start_time": "2023-04-03T14:23:35.862Z"
   },
   {
    "duration": 48,
    "start_time": "2023-04-03T14:23:35.902Z"
   },
   {
    "duration": 59,
    "start_time": "2023-04-03T14:23:35.953Z"
   },
   {
    "duration": 106,
    "start_time": "2023-04-03T14:23:36.015Z"
   },
   {
    "duration": 135,
    "start_time": "2023-04-03T14:23:36.123Z"
   },
   {
    "duration": 9,
    "start_time": "2023-04-03T14:23:36.260Z"
   },
   {
    "duration": 104,
    "start_time": "2023-04-03T14:23:36.273Z"
   },
   {
    "duration": 116,
    "start_time": "2023-04-03T14:23:36.379Z"
   },
   {
    "duration": 50,
    "start_time": "2023-04-03T14:23:36.497Z"
   },
   {
    "duration": 76,
    "start_time": "2023-04-03T14:23:36.549Z"
   },
   {
    "duration": 45,
    "start_time": "2023-04-03T14:23:36.628Z"
   },
   {
    "duration": 151,
    "start_time": "2023-04-03T14:23:36.675Z"
   },
   {
    "duration": 15,
    "start_time": "2023-04-03T14:23:36.832Z"
   },
   {
    "duration": 4,
    "start_time": "2023-04-03T14:23:38.180Z"
   },
   {
    "duration": 203,
    "start_time": "2023-04-03T14:23:42.343Z"
   },
   {
    "duration": 222,
    "start_time": "2023-04-03T14:23:52.320Z"
   },
   {
    "duration": 569,
    "start_time": "2023-04-03T14:23:56.996Z"
   },
   {
    "duration": 308,
    "start_time": "2023-04-03T14:25:29.499Z"
   },
   {
    "duration": 312,
    "start_time": "2023-04-03T14:25:49.841Z"
   },
   {
    "duration": 346,
    "start_time": "2023-04-03T14:25:54.945Z"
   },
   {
    "duration": 342,
    "start_time": "2023-04-03T14:26:01.740Z"
   },
   {
    "duration": 20,
    "start_time": "2023-04-03T14:27:45.740Z"
   },
   {
    "duration": 4,
    "start_time": "2023-04-03T14:28:05.779Z"
   },
   {
    "duration": 196,
    "start_time": "2023-04-03T14:28:05.786Z"
   },
   {
    "duration": 21,
    "start_time": "2023-04-03T14:28:05.984Z"
   },
   {
    "duration": 27,
    "start_time": "2023-04-03T14:28:06.021Z"
   },
   {
    "duration": 21,
    "start_time": "2023-04-03T14:28:06.050Z"
   },
   {
    "duration": 18,
    "start_time": "2023-04-03T14:28:06.073Z"
   },
   {
    "duration": 52,
    "start_time": "2023-04-03T14:28:06.094Z"
   },
   {
    "duration": 95,
    "start_time": "2023-04-03T14:28:06.148Z"
   },
   {
    "duration": 10,
    "start_time": "2023-04-03T14:28:06.247Z"
   },
   {
    "duration": 155,
    "start_time": "2023-04-03T14:28:06.260Z"
   },
   {
    "duration": 92,
    "start_time": "2023-04-03T14:28:06.419Z"
   },
   {
    "duration": 49,
    "start_time": "2023-04-03T14:28:06.513Z"
   },
   {
    "duration": 32,
    "start_time": "2023-04-03T14:28:06.564Z"
   },
   {
    "duration": 51,
    "start_time": "2023-04-03T14:28:06.598Z"
   },
   {
    "duration": 143,
    "start_time": "2023-04-03T14:28:06.651Z"
   },
   {
    "duration": 8,
    "start_time": "2023-04-03T14:28:06.796Z"
   },
   {
    "duration": 330,
    "start_time": "2023-04-03T14:28:06.805Z"
   },
   {
    "duration": 25,
    "start_time": "2023-04-03T14:28:07.140Z"
   },
   {
    "duration": 59,
    "start_time": "2023-04-03T14:28:07.167Z"
   },
   {
    "duration": 456,
    "start_time": "2023-04-03T14:28:07.232Z"
   },
   {
    "duration": 4,
    "start_time": "2023-04-03T14:28:07.689Z"
   },
   {
    "duration": 74,
    "start_time": "2023-04-03T14:28:07.695Z"
   },
   {
    "duration": 4,
    "start_time": "2023-04-03T14:28:07.770Z"
   },
   {
    "duration": 81,
    "start_time": "2023-04-03T14:28:07.777Z"
   },
   {
    "duration": 32,
    "start_time": "2023-04-03T14:28:07.859Z"
   },
   {
    "duration": 69,
    "start_time": "2023-04-03T14:28:07.893Z"
   },
   {
    "duration": 81,
    "start_time": "2023-04-03T14:28:07.963Z"
   },
   {
    "duration": 24,
    "start_time": "2023-04-03T14:28:08.046Z"
   },
   {
    "duration": 48,
    "start_time": "2023-04-03T14:28:08.071Z"
   },
   {
    "duration": 29,
    "start_time": "2023-04-03T14:28:08.129Z"
   },
   {
    "duration": 22,
    "start_time": "2023-04-03T14:28:08.160Z"
   },
   {
    "duration": 89,
    "start_time": "2023-04-03T14:28:08.184Z"
   },
   {
    "duration": 36,
    "start_time": "2023-04-03T14:28:08.275Z"
   },
   {
    "duration": 198,
    "start_time": "2023-04-03T14:28:08.313Z"
   },
   {
    "duration": 80,
    "start_time": "2023-04-03T14:28:08.513Z"
   },
   {
    "duration": 105,
    "start_time": "2023-04-03T14:28:08.595Z"
   },
   {
    "duration": 20,
    "start_time": "2023-04-03T14:28:08.701Z"
   },
   {
    "duration": 112,
    "start_time": "2023-04-03T14:28:08.732Z"
   },
   {
    "duration": 6,
    "start_time": "2023-04-03T14:28:08.847Z"
   },
   {
    "duration": 16,
    "start_time": "2023-04-03T14:28:08.854Z"
   },
   {
    "duration": 5,
    "start_time": "2023-04-03T14:28:08.922Z"
   },
   {
    "duration": 116,
    "start_time": "2023-04-03T14:28:08.932Z"
   },
   {
    "duration": 107,
    "start_time": "2023-04-03T14:28:09.050Z"
   },
   {
    "duration": 174,
    "start_time": "2023-04-03T14:28:09.159Z"
   },
   {
    "duration": 112,
    "start_time": "2023-04-03T14:28:09.335Z"
   },
   {
    "duration": 58,
    "start_time": "2023-04-03T14:28:28.272Z"
   },
   {
    "duration": 4,
    "start_time": "2023-04-03T14:28:54.479Z"
   },
   {
    "duration": 204,
    "start_time": "2023-04-03T14:28:54.485Z"
   },
   {
    "duration": 31,
    "start_time": "2023-04-03T14:28:54.691Z"
   },
   {
    "duration": 12,
    "start_time": "2023-04-03T14:28:54.735Z"
   },
   {
    "duration": 44,
    "start_time": "2023-04-03T14:28:54.749Z"
   },
   {
    "duration": 19,
    "start_time": "2023-04-03T14:28:54.795Z"
   },
   {
    "duration": 57,
    "start_time": "2023-04-03T14:28:54.820Z"
   },
   {
    "duration": 94,
    "start_time": "2023-04-03T14:28:54.880Z"
   },
   {
    "duration": 10,
    "start_time": "2023-04-03T14:28:54.976Z"
   },
   {
    "duration": 118,
    "start_time": "2023-04-03T14:28:54.987Z"
   },
   {
    "duration": 103,
    "start_time": "2023-04-03T14:28:55.108Z"
   },
   {
    "duration": 56,
    "start_time": "2023-04-03T14:28:55.213Z"
   },
   {
    "duration": 69,
    "start_time": "2023-04-03T14:28:55.271Z"
   },
   {
    "duration": 31,
    "start_time": "2023-04-03T14:28:55.342Z"
   },
   {
    "duration": 157,
    "start_time": "2023-04-03T14:28:55.375Z"
   },
   {
    "duration": 9,
    "start_time": "2023-04-03T14:28:55.538Z"
   },
   {
    "duration": 295,
    "start_time": "2023-04-03T14:28:55.548Z"
   },
   {
    "duration": 21,
    "start_time": "2023-04-03T14:28:55.845Z"
   },
   {
    "duration": 31,
    "start_time": "2023-04-03T14:28:55.868Z"
   },
   {
    "duration": 723,
    "start_time": "2023-04-03T14:28:55.901Z"
   },
   {
    "duration": 7,
    "start_time": "2023-04-03T14:28:56.626Z"
   },
   {
    "duration": 97,
    "start_time": "2023-04-03T14:28:56.634Z"
   },
   {
    "duration": 5,
    "start_time": "2023-04-03T14:28:56.734Z"
   },
   {
    "duration": 118,
    "start_time": "2023-04-03T14:28:56.743Z"
   },
   {
    "duration": 81,
    "start_time": "2023-04-03T14:28:56.863Z"
   },
   {
    "duration": 119,
    "start_time": "2023-04-03T14:28:56.945Z"
   },
   {
    "duration": 185,
    "start_time": "2023-04-03T14:28:57.065Z"
   },
   {
    "duration": 80,
    "start_time": "2023-04-03T14:28:57.252Z"
   },
   {
    "duration": 114,
    "start_time": "2023-04-03T14:28:57.335Z"
   },
   {
    "duration": 75,
    "start_time": "2023-04-03T14:28:57.451Z"
   },
   {
    "duration": 35,
    "start_time": "2023-04-03T14:28:57.531Z"
   },
   {
    "duration": 75,
    "start_time": "2023-04-03T14:28:57.567Z"
   },
   {
    "duration": 94,
    "start_time": "2023-04-03T14:28:57.644Z"
   },
   {
    "duration": 584,
    "start_time": "2023-04-03T14:28:57.741Z"
   },
   {
    "duration": 140,
    "start_time": "2023-04-03T14:28:58.327Z"
   },
   {
    "duration": 131,
    "start_time": "2023-04-03T14:28:58.469Z"
   },
   {
    "duration": 26,
    "start_time": "2023-04-03T14:28:58.602Z"
   },
   {
    "duration": 105,
    "start_time": "2023-04-03T14:28:58.630Z"
   },
   {
    "duration": 7,
    "start_time": "2023-04-03T14:28:58.741Z"
   },
   {
    "duration": 29,
    "start_time": "2023-04-03T14:28:58.750Z"
   },
   {
    "duration": 31,
    "start_time": "2023-04-03T14:28:58.781Z"
   },
   {
    "duration": 92,
    "start_time": "2023-04-03T14:28:58.814Z"
   },
   {
    "duration": 61,
    "start_time": "2023-04-03T14:28:58.908Z"
   },
   {
    "duration": 76,
    "start_time": "2023-04-03T14:28:58.971Z"
   },
   {
    "duration": 51,
    "start_time": "2023-04-03T14:28:59.049Z"
   },
   {
    "duration": 57,
    "start_time": "2023-04-03T14:30:45.987Z"
   },
   {
    "duration": 55,
    "start_time": "2023-04-03T14:30:48.996Z"
   },
   {
    "duration": 5,
    "start_time": "2023-04-03T14:31:26.876Z"
   },
   {
    "duration": 194,
    "start_time": "2023-04-03T14:31:26.885Z"
   },
   {
    "duration": 23,
    "start_time": "2023-04-03T14:31:27.081Z"
   },
   {
    "duration": 9,
    "start_time": "2023-04-03T14:31:27.108Z"
   },
   {
    "duration": 11,
    "start_time": "2023-04-03T14:31:27.120Z"
   },
   {
    "duration": 23,
    "start_time": "2023-04-03T14:31:27.133Z"
   },
   {
    "duration": 23,
    "start_time": "2023-04-03T14:31:27.158Z"
   },
   {
    "duration": 103,
    "start_time": "2023-04-03T14:31:27.183Z"
   },
   {
    "duration": 10,
    "start_time": "2023-04-03T14:31:27.287Z"
   },
   {
    "duration": 109,
    "start_time": "2023-04-03T14:31:27.299Z"
   },
   {
    "duration": 125,
    "start_time": "2023-04-03T14:31:27.411Z"
   },
   {
    "duration": 34,
    "start_time": "2023-04-03T14:31:27.540Z"
   },
   {
    "duration": 82,
    "start_time": "2023-04-03T14:31:27.576Z"
   },
   {
    "duration": 20,
    "start_time": "2023-04-03T14:31:27.659Z"
   },
   {
    "duration": 150,
    "start_time": "2023-04-03T14:31:27.680Z"
   },
   {
    "duration": 10,
    "start_time": "2023-04-03T14:31:27.832Z"
   },
   {
    "duration": 300,
    "start_time": "2023-04-03T14:31:27.844Z"
   },
   {
    "duration": 20,
    "start_time": "2023-04-03T14:31:28.147Z"
   },
   {
    "duration": 30,
    "start_time": "2023-04-03T14:31:28.169Z"
   },
   {
    "duration": 492,
    "start_time": "2023-04-03T14:31:28.217Z"
   },
   {
    "duration": 26,
    "start_time": "2023-04-03T14:31:28.711Z"
   },
   {
    "duration": 51,
    "start_time": "2023-04-03T14:31:28.745Z"
   },
   {
    "duration": 3,
    "start_time": "2023-04-03T14:31:28.798Z"
   },
   {
    "duration": 69,
    "start_time": "2023-04-03T14:31:28.803Z"
   },
   {
    "duration": 27,
    "start_time": "2023-04-03T14:31:32.045Z"
   },
   {
    "duration": 370,
    "start_time": "2023-04-03T14:31:32.394Z"
   },
   {
    "duration": 4,
    "start_time": "2023-04-03T14:31:39.144Z"
   },
   {
    "duration": 59,
    "start_time": "2023-04-03T14:31:43.280Z"
   },
   {
    "duration": 5,
    "start_time": "2023-04-03T14:31:50.872Z"
   },
   {
    "duration": 4,
    "start_time": "2023-04-03T14:33:06.994Z"
   },
   {
    "duration": 237,
    "start_time": "2023-04-03T14:33:07.000Z"
   },
   {
    "duration": 24,
    "start_time": "2023-04-03T14:33:07.239Z"
   },
   {
    "duration": 19,
    "start_time": "2023-04-03T14:33:07.265Z"
   },
   {
    "duration": 76,
    "start_time": "2023-04-03T14:33:07.287Z"
   },
   {
    "duration": 14,
    "start_time": "2023-04-03T14:33:07.366Z"
   },
   {
    "duration": 47,
    "start_time": "2023-04-03T14:33:07.382Z"
   },
   {
    "duration": 111,
    "start_time": "2023-04-03T14:33:07.431Z"
   },
   {
    "duration": 32,
    "start_time": "2023-04-03T14:33:07.544Z"
   },
   {
    "duration": 114,
    "start_time": "2023-04-03T14:33:07.580Z"
   },
   {
    "duration": 105,
    "start_time": "2023-04-03T14:33:07.696Z"
   },
   {
    "duration": 54,
    "start_time": "2023-04-03T14:33:07.803Z"
   },
   {
    "duration": 38,
    "start_time": "2023-04-03T14:33:07.859Z"
   },
   {
    "duration": 28,
    "start_time": "2023-04-03T14:33:07.898Z"
   },
   {
    "duration": 159,
    "start_time": "2023-04-03T14:33:07.927Z"
   },
   {
    "duration": 7,
    "start_time": "2023-04-03T14:33:08.088Z"
   },
   {
    "duration": 319,
    "start_time": "2023-04-03T14:33:08.097Z"
   },
   {
    "duration": 30,
    "start_time": "2023-04-03T14:33:08.425Z"
   },
   {
    "duration": 47,
    "start_time": "2023-04-03T14:33:08.456Z"
   },
   {
    "duration": 476,
    "start_time": "2023-04-03T14:33:08.505Z"
   },
   {
    "duration": 4,
    "start_time": "2023-04-03T14:33:08.983Z"
   },
   {
    "duration": 64,
    "start_time": "2023-04-03T14:33:08.989Z"
   },
   {
    "duration": 15,
    "start_time": "2023-04-03T14:33:09.054Z"
   },
   {
    "duration": 74,
    "start_time": "2023-04-03T14:33:09.070Z"
   },
   {
    "duration": 78,
    "start_time": "2023-04-03T14:33:09.145Z"
   },
   {
    "duration": 120,
    "start_time": "2023-04-03T14:33:09.227Z"
   },
   {
    "duration": 113,
    "start_time": "2023-04-03T14:33:09.351Z"
   },
   {
    "duration": 35,
    "start_time": "2023-04-03T14:33:09.520Z"
   },
   {
    "duration": 103,
    "start_time": "2023-04-03T14:33:09.556Z"
   },
   {
    "duration": 72,
    "start_time": "2023-04-03T14:33:09.661Z"
   },
   {
    "duration": 51,
    "start_time": "2023-04-03T14:33:09.739Z"
   },
   {
    "duration": 137,
    "start_time": "2023-04-03T14:33:09.791Z"
   },
   {
    "duration": 104,
    "start_time": "2023-04-03T14:33:09.930Z"
   },
   {
    "duration": 525,
    "start_time": "2023-04-03T14:33:10.036Z"
   },
   {
    "duration": 266,
    "start_time": "2023-04-03T14:33:10.562Z"
   },
   {
    "duration": 9,
    "start_time": "2023-04-03T14:33:10.830Z"
   },
   {
    "duration": 223,
    "start_time": "2023-04-03T14:33:10.841Z"
   },
   {
    "duration": 14,
    "start_time": "2023-04-03T14:33:11.118Z"
   },
   {
    "duration": 78,
    "start_time": "2023-04-03T14:33:11.138Z"
   },
   {
    "duration": 35,
    "start_time": "2023-04-03T14:33:11.221Z"
   },
   {
    "duration": 102,
    "start_time": "2023-04-03T14:33:11.258Z"
   },
   {
    "duration": 170,
    "start_time": "2023-04-03T14:33:11.361Z"
   },
   {
    "duration": 119,
    "start_time": "2023-04-03T14:33:11.533Z"
   },
   {
    "duration": 109,
    "start_time": "2023-04-03T14:33:11.654Z"
   },
   {
    "duration": 5,
    "start_time": "2023-04-03T14:38:42.573Z"
   },
   {
    "duration": 215,
    "start_time": "2023-04-03T14:38:42.581Z"
   },
   {
    "duration": 33,
    "start_time": "2023-04-03T14:38:42.797Z"
   },
   {
    "duration": 4,
    "start_time": "2023-04-03T14:38:42.832Z"
   },
   {
    "duration": 16,
    "start_time": "2023-04-03T14:38:42.838Z"
   },
   {
    "duration": 17,
    "start_time": "2023-04-03T14:38:42.855Z"
   },
   {
    "duration": 27,
    "start_time": "2023-04-03T14:38:42.874Z"
   },
   {
    "duration": 96,
    "start_time": "2023-04-03T14:38:42.903Z"
   },
   {
    "duration": 18,
    "start_time": "2023-04-03T14:38:43.001Z"
   },
   {
    "duration": 101,
    "start_time": "2023-04-03T14:38:43.020Z"
   },
   {
    "duration": 100,
    "start_time": "2023-04-03T14:38:43.124Z"
   },
   {
    "duration": 31,
    "start_time": "2023-04-03T14:38:43.230Z"
   },
   {
    "duration": 33,
    "start_time": "2023-04-03T14:38:43.263Z"
   },
   {
    "duration": 38,
    "start_time": "2023-04-03T14:38:43.300Z"
   },
   {
    "duration": 143,
    "start_time": "2023-04-03T14:38:43.340Z"
   },
   {
    "duration": 8,
    "start_time": "2023-04-03T14:38:43.485Z"
   },
   {
    "duration": 308,
    "start_time": "2023-04-03T14:38:43.494Z"
   },
   {
    "duration": 33,
    "start_time": "2023-04-03T14:38:43.804Z"
   },
   {
    "duration": 31,
    "start_time": "2023-04-03T14:38:43.839Z"
   },
   {
    "duration": 459,
    "start_time": "2023-04-03T14:38:43.872Z"
   },
   {
    "duration": 3,
    "start_time": "2023-04-03T14:38:44.334Z"
   },
   {
    "duration": 48,
    "start_time": "2023-04-03T14:38:44.339Z"
   },
   {
    "duration": 3,
    "start_time": "2023-04-03T14:38:44.389Z"
   },
   {
    "duration": 68,
    "start_time": "2023-04-03T14:38:44.394Z"
   },
   {
    "duration": 30,
    "start_time": "2023-04-03T14:38:44.464Z"
   },
   {
    "duration": 76,
    "start_time": "2023-04-03T14:38:44.496Z"
   },
   {
    "duration": 66,
    "start_time": "2023-04-03T14:38:44.573Z"
   },
   {
    "duration": 24,
    "start_time": "2023-04-03T14:38:44.640Z"
   },
   {
    "duration": 71,
    "start_time": "2023-04-03T14:38:44.666Z"
   },
   {
    "duration": 30,
    "start_time": "2023-04-03T14:38:44.739Z"
   },
   {
    "duration": 77,
    "start_time": "2023-04-03T14:38:44.771Z"
   },
   {
    "duration": 77,
    "start_time": "2023-04-03T14:38:44.850Z"
   },
   {
    "duration": 35,
    "start_time": "2023-04-03T14:38:44.929Z"
   },
   {
    "duration": 397,
    "start_time": "2023-04-03T14:38:44.966Z"
   },
   {
    "duration": 198,
    "start_time": "2023-04-03T14:38:45.364Z"
   },
   {
    "duration": 68,
    "start_time": "2023-04-03T14:38:45.563Z"
   },
   {
    "duration": 206,
    "start_time": "2023-04-03T14:38:45.633Z"
   },
   {
    "duration": 6,
    "start_time": "2023-04-03T14:38:45.841Z"
   },
   {
    "duration": 82,
    "start_time": "2023-04-03T14:38:45.849Z"
   },
   {
    "duration": 17,
    "start_time": "2023-04-03T14:38:45.933Z"
   },
   {
    "duration": 182,
    "start_time": "2023-04-03T14:38:45.953Z"
   },
   {
    "duration": 103,
    "start_time": "2023-04-03T14:38:46.137Z"
   },
   {
    "duration": 109,
    "start_time": "2023-04-03T14:38:46.242Z"
   },
   {
    "duration": 112,
    "start_time": "2023-04-03T14:38:46.353Z"
   },
   {
    "duration": 5,
    "start_time": "2023-04-03T14:41:16.972Z"
   },
   {
    "duration": 194,
    "start_time": "2023-04-03T14:41:16.980Z"
   },
   {
    "duration": 25,
    "start_time": "2023-04-03T14:41:17.175Z"
   },
   {
    "duration": 55,
    "start_time": "2023-04-03T14:41:17.203Z"
   },
   {
    "duration": 25,
    "start_time": "2023-04-03T14:41:17.262Z"
   },
   {
    "duration": 21,
    "start_time": "2023-04-03T14:41:17.292Z"
   },
   {
    "duration": 50,
    "start_time": "2023-04-03T14:41:17.316Z"
   },
   {
    "duration": 102,
    "start_time": "2023-04-03T14:41:17.368Z"
   },
   {
    "duration": 12,
    "start_time": "2023-04-03T14:41:17.472Z"
   },
   {
    "duration": 107,
    "start_time": "2023-04-03T14:41:17.486Z"
   },
   {
    "duration": 106,
    "start_time": "2023-04-03T14:41:17.595Z"
   },
   {
    "duration": 55,
    "start_time": "2023-04-03T14:41:17.703Z"
   },
   {
    "duration": 33,
    "start_time": "2023-04-03T14:41:17.760Z"
   },
   {
    "duration": 48,
    "start_time": "2023-04-03T14:41:17.796Z"
   },
   {
    "duration": 139,
    "start_time": "2023-04-03T14:41:17.846Z"
   },
   {
    "duration": 8,
    "start_time": "2023-04-03T14:41:17.987Z"
   },
   {
    "duration": 339,
    "start_time": "2023-04-03T14:41:17.997Z"
   },
   {
    "duration": 29,
    "start_time": "2023-04-03T14:41:18.337Z"
   },
   {
    "duration": 32,
    "start_time": "2023-04-03T14:41:18.367Z"
   },
   {
    "duration": 503,
    "start_time": "2023-04-03T14:41:18.401Z"
   },
   {
    "duration": 14,
    "start_time": "2023-04-03T14:41:18.905Z"
   },
   {
    "duration": 49,
    "start_time": "2023-04-03T14:41:18.923Z"
   },
   {
    "duration": 4,
    "start_time": "2023-04-03T14:41:18.974Z"
   },
   {
    "duration": 53,
    "start_time": "2023-04-03T14:41:18.981Z"
   },
   {
    "duration": 59,
    "start_time": "2023-04-03T14:41:19.036Z"
   },
   {
    "duration": 58,
    "start_time": "2023-04-03T14:41:19.097Z"
   },
   {
    "duration": 66,
    "start_time": "2023-04-03T14:41:19.156Z"
   },
   {
    "duration": 30,
    "start_time": "2023-04-03T14:41:19.228Z"
   },
   {
    "duration": 44,
    "start_time": "2023-04-03T14:41:19.260Z"
   },
   {
    "duration": 19,
    "start_time": "2023-04-03T14:41:19.324Z"
   },
   {
    "duration": 12,
    "start_time": "2023-04-03T14:41:19.345Z"
   },
   {
    "duration": 37,
    "start_time": "2023-04-03T14:41:19.359Z"
   },
   {
    "duration": 62,
    "start_time": "2023-04-03T14:41:19.398Z"
   },
   {
    "duration": 194,
    "start_time": "2023-04-03T14:41:19.462Z"
   },
   {
    "duration": 106,
    "start_time": "2023-04-03T14:41:19.658Z"
   },
   {
    "duration": 9,
    "start_time": "2023-04-03T14:41:19.765Z"
   },
   {
    "duration": 109,
    "start_time": "2023-04-03T14:41:19.775Z"
   },
   {
    "duration": 6,
    "start_time": "2023-04-03T14:41:19.886Z"
   },
   {
    "duration": 36,
    "start_time": "2023-04-03T14:41:19.893Z"
   },
   {
    "duration": 29,
    "start_time": "2023-04-03T14:41:19.931Z"
   },
   {
    "duration": 70,
    "start_time": "2023-04-03T14:41:19.964Z"
   },
   {
    "duration": 77,
    "start_time": "2023-04-03T14:41:20.035Z"
   },
   {
    "duration": 78,
    "start_time": "2023-04-03T14:41:20.113Z"
   },
   {
    "duration": 110,
    "start_time": "2023-04-03T14:41:20.194Z"
   },
   {
    "duration": 4,
    "start_time": "2023-04-03T14:42:09.491Z"
   },
   {
    "duration": 200,
    "start_time": "2023-04-03T14:42:09.497Z"
   },
   {
    "duration": 44,
    "start_time": "2023-04-03T14:42:09.699Z"
   },
   {
    "duration": 6,
    "start_time": "2023-04-03T14:42:09.746Z"
   },
   {
    "duration": 12,
    "start_time": "2023-04-03T14:42:09.753Z"
   },
   {
    "duration": 22,
    "start_time": "2023-04-03T14:42:09.766Z"
   },
   {
    "duration": 23,
    "start_time": "2023-04-03T14:42:09.789Z"
   },
   {
    "duration": 84,
    "start_time": "2023-04-03T14:42:09.814Z"
   },
   {
    "duration": 29,
    "start_time": "2023-04-03T14:42:09.901Z"
   },
   {
    "duration": 99,
    "start_time": "2023-04-03T14:42:09.939Z"
   },
   {
    "duration": 98,
    "start_time": "2023-04-03T14:42:10.044Z"
   },
   {
    "duration": 31,
    "start_time": "2023-04-03T14:42:10.148Z"
   },
   {
    "duration": 47,
    "start_time": "2023-04-03T14:42:10.180Z"
   },
   {
    "duration": 26,
    "start_time": "2023-04-03T14:42:10.229Z"
   },
   {
    "duration": 134,
    "start_time": "2023-04-03T14:42:10.257Z"
   },
   {
    "duration": 7,
    "start_time": "2023-04-03T14:42:10.393Z"
   },
   {
    "duration": 307,
    "start_time": "2023-04-03T14:42:10.402Z"
   },
   {
    "duration": 31,
    "start_time": "2023-04-03T14:42:10.717Z"
   },
   {
    "duration": 47,
    "start_time": "2023-04-03T14:42:10.750Z"
   },
   {
    "duration": 486,
    "start_time": "2023-04-03T14:42:10.799Z"
   },
   {
    "duration": 5,
    "start_time": "2023-04-03T14:42:11.287Z"
   },
   {
    "duration": 57,
    "start_time": "2023-04-03T14:42:11.294Z"
   },
   {
    "duration": 4,
    "start_time": "2023-04-03T14:42:11.353Z"
   },
   {
    "duration": 75,
    "start_time": "2023-04-03T14:42:11.361Z"
   },
   {
    "duration": 26,
    "start_time": "2023-04-03T14:42:11.443Z"
   },
   {
    "duration": 63,
    "start_time": "2023-04-03T14:42:11.471Z"
   },
   {
    "duration": 60,
    "start_time": "2023-04-03T14:42:11.543Z"
   },
   {
    "duration": 34,
    "start_time": "2023-04-03T14:42:11.605Z"
   },
   {
    "duration": 43,
    "start_time": "2023-04-03T14:42:11.643Z"
   },
   {
    "duration": 17,
    "start_time": "2023-04-03T14:42:11.687Z"
   },
   {
    "duration": 26,
    "start_time": "2023-04-03T14:42:11.705Z"
   },
   {
    "duration": 60,
    "start_time": "2023-04-03T14:42:11.733Z"
   },
   {
    "duration": 64,
    "start_time": "2023-04-03T14:42:11.797Z"
   },
   {
    "duration": 221,
    "start_time": "2023-04-03T14:42:11.863Z"
   },
   {
    "duration": 109,
    "start_time": "2023-04-03T14:42:12.086Z"
   },
   {
    "duration": 9,
    "start_time": "2023-04-03T14:42:12.196Z"
   },
   {
    "duration": 111,
    "start_time": "2023-04-03T14:42:12.219Z"
   },
   {
    "duration": 8,
    "start_time": "2023-04-03T14:42:12.332Z"
   },
   {
    "duration": 14,
    "start_time": "2023-04-03T14:42:12.346Z"
   },
   {
    "duration": 13,
    "start_time": "2023-04-03T14:42:12.362Z"
   },
   {
    "duration": 82,
    "start_time": "2023-04-03T14:42:12.377Z"
   },
   {
    "duration": 80,
    "start_time": "2023-04-03T14:42:12.461Z"
   },
   {
    "duration": 85,
    "start_time": "2023-04-03T14:42:12.543Z"
   },
   {
    "duration": 113,
    "start_time": "2023-04-03T14:42:12.631Z"
   },
   {
    "duration": 5,
    "start_time": "2023-04-03T14:46:58.379Z"
   },
   {
    "duration": 220,
    "start_time": "2023-04-03T14:46:59.139Z"
   },
   {
    "duration": 25,
    "start_time": "2023-04-03T14:46:59.980Z"
   },
   {
    "duration": 3,
    "start_time": "2023-04-03T14:47:03.408Z"
   },
   {
    "duration": 20,
    "start_time": "2023-04-03T14:47:03.916Z"
   },
   {
    "duration": 10,
    "start_time": "2023-04-03T14:47:05.247Z"
   },
   {
    "duration": 24,
    "start_time": "2023-04-03T14:47:05.746Z"
   },
   {
    "duration": 95,
    "start_time": "2023-04-03T14:47:06.764Z"
   },
   {
    "duration": 11,
    "start_time": "2023-04-03T14:47:07.170Z"
   },
   {
    "duration": 102,
    "start_time": "2023-04-03T14:47:07.672Z"
   },
   {
    "duration": 114,
    "start_time": "2023-04-03T14:47:08.273Z"
   },
   {
    "duration": 45,
    "start_time": "2023-04-03T14:47:08.835Z"
   },
   {
    "duration": 53,
    "start_time": "2023-04-03T14:47:10.716Z"
   },
   {
    "duration": 21,
    "start_time": "2023-04-03T14:47:11.245Z"
   },
   {
    "duration": 155,
    "start_time": "2023-04-03T14:47:11.697Z"
   },
   {
    "duration": 14,
    "start_time": "2023-04-03T14:47:13.339Z"
   },
   {
    "duration": 311,
    "start_time": "2023-04-03T14:47:14.645Z"
   },
   {
    "duration": 20,
    "start_time": "2023-04-03T14:47:16.176Z"
   },
   {
    "duration": 33,
    "start_time": "2023-04-03T14:47:17.447Z"
   },
   {
    "duration": 823,
    "start_time": "2023-04-03T14:47:18.596Z"
   },
   {
    "duration": 4,
    "start_time": "2023-04-03T14:47:20.570Z"
   },
   {
    "duration": 47,
    "start_time": "2023-04-03T14:47:21.008Z"
   },
   {
    "duration": 4,
    "start_time": "2023-04-03T14:47:21.500Z"
   },
   {
    "duration": 55,
    "start_time": "2023-04-03T14:47:23.292Z"
   },
   {
    "duration": 37,
    "start_time": "2023-04-03T14:47:24.796Z"
   },
   {
    "duration": 51,
    "start_time": "2023-04-03T14:47:25.936Z"
   },
   {
    "duration": 93,
    "start_time": "2023-04-03T14:47:28.484Z"
   },
   {
    "duration": 28,
    "start_time": "2023-04-03T14:47:29.434Z"
   },
   {
    "duration": 76,
    "start_time": "2023-04-03T14:47:29.875Z"
   },
   {
    "duration": 12,
    "start_time": "2023-04-03T14:47:31.697Z"
   },
   {
    "duration": 16,
    "start_time": "2023-04-03T14:47:32.100Z"
   },
   {
    "duration": 43,
    "start_time": "2023-04-03T14:47:34.017Z"
   },
   {
    "duration": 54,
    "start_time": "2023-04-03T14:47:35.574Z"
   },
   {
    "duration": 232,
    "start_time": "2023-04-03T14:47:37.208Z"
   },
   {
    "duration": 133,
    "start_time": "2023-04-03T14:47:37.582Z"
   },
   {
    "duration": 12,
    "start_time": "2023-04-03T14:47:37.935Z"
   },
   {
    "duration": 94,
    "start_time": "2023-04-03T14:47:38.512Z"
   },
   {
    "duration": 5,
    "start_time": "2023-04-03T14:47:39.038Z"
   },
   {
    "duration": 18,
    "start_time": "2023-04-03T14:47:39.688Z"
   },
   {
    "duration": 4,
    "start_time": "2023-04-03T14:47:40.508Z"
   },
   {
    "duration": 57,
    "start_time": "2023-04-03T14:47:40.974Z"
   },
   {
    "duration": 59,
    "start_time": "2023-04-03T14:47:41.784Z"
   },
   {
    "duration": 58,
    "start_time": "2023-04-03T14:47:42.180Z"
   },
   {
    "duration": 66,
    "start_time": "2023-04-03T14:47:42.643Z"
   },
   {
    "duration": 1393,
    "start_time": "2023-04-03T14:54:57.095Z"
   },
   {
    "duration": 216,
    "start_time": "2023-04-03T14:54:58.490Z"
   },
   {
    "duration": 30,
    "start_time": "2023-04-03T14:54:58.708Z"
   },
   {
    "duration": 27,
    "start_time": "2023-04-03T14:54:58.740Z"
   },
   {
    "duration": 11,
    "start_time": "2023-04-03T14:54:58.768Z"
   },
   {
    "duration": 22,
    "start_time": "2023-04-03T14:54:58.780Z"
   },
   {
    "duration": 26,
    "start_time": "2023-04-03T14:54:58.804Z"
   },
   {
    "duration": 166,
    "start_time": "2023-04-03T14:54:58.835Z"
   },
   {
    "duration": 16,
    "start_time": "2023-04-03T14:54:59.003Z"
   },
   {
    "duration": 139,
    "start_time": "2023-04-03T14:54:59.023Z"
   },
   {
    "duration": 166,
    "start_time": "2023-04-03T14:54:59.164Z"
   },
   {
    "duration": 39,
    "start_time": "2023-04-03T14:54:59.337Z"
   },
   {
    "duration": 38,
    "start_time": "2023-04-03T14:54:59.378Z"
   },
   {
    "duration": 35,
    "start_time": "2023-04-03T14:54:59.418Z"
   },
   {
    "duration": 152,
    "start_time": "2023-04-03T14:54:59.455Z"
   },
   {
    "duration": 27,
    "start_time": "2023-04-03T14:54:59.609Z"
   },
   {
    "duration": 362,
    "start_time": "2023-04-03T14:54:59.646Z"
   },
   {
    "duration": 45,
    "start_time": "2023-04-03T14:55:00.010Z"
   },
   {
    "duration": 229,
    "start_time": "2023-04-03T14:55:00.056Z"
   },
   {
    "duration": 688,
    "start_time": "2023-04-03T14:55:00.287Z"
   },
   {
    "duration": 6,
    "start_time": "2023-04-03T14:55:00.978Z"
   },
   {
    "duration": 118,
    "start_time": "2023-04-03T14:55:00.985Z"
   },
   {
    "duration": 6,
    "start_time": "2023-04-03T14:55:01.105Z"
   },
   {
    "duration": 132,
    "start_time": "2023-04-03T14:55:01.113Z"
   },
   {
    "duration": 48,
    "start_time": "2023-04-03T14:55:01.246Z"
   },
   {
    "duration": 662,
    "start_time": "2023-04-03T14:55:01.297Z"
   },
   {
    "duration": 101,
    "start_time": "2023-04-03T14:55:01.962Z"
   },
   {
    "duration": 211,
    "start_time": "2023-04-03T14:55:02.066Z"
   },
   {
    "duration": 122,
    "start_time": "2023-04-03T14:55:02.279Z"
   },
   {
    "duration": 53,
    "start_time": "2023-04-03T14:55:02.403Z"
   },
   {
    "duration": 118,
    "start_time": "2023-04-03T14:55:02.458Z"
   },
   {
    "duration": 82,
    "start_time": "2023-04-03T14:55:02.578Z"
   },
   {
    "duration": 63,
    "start_time": "2023-04-03T14:55:02.662Z"
   },
   {
    "duration": 239,
    "start_time": "2023-04-03T14:55:02.727Z"
   },
   {
    "duration": 104,
    "start_time": "2023-04-03T14:55:02.968Z"
   },
   {
    "duration": 10,
    "start_time": "2023-04-03T14:55:03.074Z"
   },
   {
    "duration": 117,
    "start_time": "2023-04-03T14:55:03.086Z"
   },
   {
    "duration": 23,
    "start_time": "2023-04-03T14:55:03.205Z"
   },
   {
    "duration": 47,
    "start_time": "2023-04-03T14:55:03.232Z"
   },
   {
    "duration": 20,
    "start_time": "2023-04-03T14:55:03.281Z"
   },
   {
    "duration": 105,
    "start_time": "2023-04-03T14:55:03.303Z"
   },
   {
    "duration": 78,
    "start_time": "2023-04-03T14:55:03.409Z"
   },
   {
    "duration": 63,
    "start_time": "2023-04-03T14:55:03.490Z"
   },
   {
    "duration": 70,
    "start_time": "2023-04-03T14:55:03.555Z"
   },
   {
    "duration": 1306,
    "start_time": "2023-04-03T19:37:45.988Z"
   },
   {
    "duration": 175,
    "start_time": "2023-04-03T19:37:47.296Z"
   },
   {
    "duration": 28,
    "start_time": "2023-04-03T19:37:47.472Z"
   },
   {
    "duration": 3,
    "start_time": "2023-04-03T19:37:47.502Z"
   },
   {
    "duration": 10,
    "start_time": "2023-04-03T19:37:47.508Z"
   },
   {
    "duration": 15,
    "start_time": "2023-04-03T19:37:47.520Z"
   },
   {
    "duration": 62,
    "start_time": "2023-04-03T19:37:47.537Z"
   },
   {
    "duration": 127,
    "start_time": "2023-04-03T19:37:47.601Z"
   },
   {
    "duration": 17,
    "start_time": "2023-04-03T19:37:47.730Z"
   },
   {
    "duration": 117,
    "start_time": "2023-04-03T19:37:47.749Z"
   },
   {
    "duration": 152,
    "start_time": "2023-04-03T19:37:47.868Z"
   },
   {
    "duration": 43,
    "start_time": "2023-04-03T19:37:48.022Z"
   },
   {
    "duration": 51,
    "start_time": "2023-04-03T19:37:48.067Z"
   },
   {
    "duration": 33,
    "start_time": "2023-04-03T19:37:48.123Z"
   },
   {
    "duration": 192,
    "start_time": "2023-04-03T19:37:48.158Z"
   },
   {
    "duration": 7,
    "start_time": "2023-04-03T19:37:48.352Z"
   },
   {
    "duration": 319,
    "start_time": "2023-04-03T19:37:48.361Z"
   },
   {
    "duration": 34,
    "start_time": "2023-04-03T19:37:48.690Z"
   },
   {
    "duration": 74,
    "start_time": "2023-04-03T19:37:48.726Z"
   },
   {
    "duration": 631,
    "start_time": "2023-04-03T19:37:48.802Z"
   },
   {
    "duration": 7,
    "start_time": "2023-04-03T19:37:49.435Z"
   },
   {
    "duration": 63,
    "start_time": "2023-04-03T19:37:49.444Z"
   },
   {
    "duration": 4,
    "start_time": "2023-04-03T19:37:49.510Z"
   },
   {
    "duration": 80,
    "start_time": "2023-04-03T19:37:49.516Z"
   },
   {
    "duration": 48,
    "start_time": "2023-04-03T19:37:49.598Z"
   },
   {
    "duration": 809,
    "start_time": "2023-04-03T19:37:49.648Z"
   },
   {
    "duration": 140,
    "start_time": "2023-04-03T19:37:50.459Z"
   },
   {
    "duration": 30,
    "start_time": "2023-04-03T19:37:50.601Z"
   },
   {
    "duration": 89,
    "start_time": "2023-04-03T19:37:50.633Z"
   },
   {
    "duration": 11,
    "start_time": "2023-04-03T19:37:50.724Z"
   },
   {
    "duration": 13,
    "start_time": "2023-04-03T19:37:50.737Z"
   },
   {
    "duration": 68,
    "start_time": "2023-04-03T19:37:50.753Z"
   },
   {
    "duration": 41,
    "start_time": "2023-04-03T19:37:50.823Z"
   },
   {
    "duration": 233,
    "start_time": "2023-04-03T19:37:50.866Z"
   },
   {
    "duration": 107,
    "start_time": "2023-04-03T19:37:51.101Z"
   },
   {
    "duration": 8,
    "start_time": "2023-04-03T19:37:51.210Z"
   },
   {
    "duration": 82,
    "start_time": "2023-04-03T19:37:51.219Z"
   },
   {
    "duration": 4,
    "start_time": "2023-04-03T19:37:51.303Z"
   },
   {
    "duration": 28,
    "start_time": "2023-04-03T19:37:51.309Z"
   },
   {
    "duration": 7,
    "start_time": "2023-04-03T19:37:51.339Z"
   },
   {
    "duration": 90,
    "start_time": "2023-04-03T19:37:51.350Z"
   },
   {
    "duration": 81,
    "start_time": "2023-04-03T19:37:51.442Z"
   },
   {
    "duration": 77,
    "start_time": "2023-04-03T19:37:51.525Z"
   },
   {
    "duration": 51,
    "start_time": "2023-04-03T19:37:51.603Z"
   },
   {
    "duration": 14,
    "start_time": "2023-04-03T19:40:58.490Z"
   },
   {
    "duration": 22,
    "start_time": "2023-04-03T19:43:33.458Z"
   },
   {
    "duration": 678,
    "start_time": "2023-04-03T19:43:42.568Z"
   },
   {
    "duration": 1525,
    "start_time": "2023-04-04T04:31:33.965Z"
   },
   {
    "duration": 676,
    "start_time": "2023-04-04T04:31:35.492Z"
   },
   {
    "duration": 23,
    "start_time": "2023-04-04T04:31:36.169Z"
   },
   {
    "duration": 4,
    "start_time": "2023-04-04T04:31:36.195Z"
   },
   {
    "duration": 20,
    "start_time": "2023-04-04T04:31:36.201Z"
   },
   {
    "duration": 15,
    "start_time": "2023-04-04T04:31:36.223Z"
   },
   {
    "duration": 21,
    "start_time": "2023-04-04T04:31:36.240Z"
   },
   {
    "duration": 88,
    "start_time": "2023-04-04T04:31:36.263Z"
   },
   {
    "duration": 14,
    "start_time": "2023-04-04T04:31:36.353Z"
   },
   {
    "duration": 120,
    "start_time": "2023-04-04T04:31:36.370Z"
   },
   {
    "duration": 9,
    "start_time": "2023-04-04T04:31:45.630Z"
   },
   {
    "duration": 211,
    "start_time": "2023-04-04T04:32:02.494Z"
   },
   {
    "duration": 114,
    "start_time": "2023-04-04T04:32:07.446Z"
   },
   {
    "duration": 85,
    "start_time": "2023-04-04T04:32:17.965Z"
   },
   {
    "duration": 26,
    "start_time": "2023-04-04T04:32:27.124Z"
   },
   {
    "duration": 25,
    "start_time": "2023-04-04T04:32:33.365Z"
   },
   {
    "duration": 3,
    "start_time": "2023-04-04T04:32:41.878Z"
   },
   {
    "duration": 32,
    "start_time": "2023-04-04T04:35:21.153Z"
   },
   {
    "duration": 4,
    "start_time": "2023-04-04T04:39:12.199Z"
   },
   {
    "duration": 192,
    "start_time": "2023-04-04T04:39:12.205Z"
   },
   {
    "duration": 22,
    "start_time": "2023-04-04T04:39:12.399Z"
   },
   {
    "duration": 4,
    "start_time": "2023-04-04T04:39:12.423Z"
   },
   {
    "duration": 10,
    "start_time": "2023-04-04T04:39:12.429Z"
   },
   {
    "duration": 9,
    "start_time": "2023-04-04T04:39:12.441Z"
   },
   {
    "duration": 53,
    "start_time": "2023-04-04T04:39:12.452Z"
   },
   {
    "duration": 82,
    "start_time": "2023-04-04T04:39:12.507Z"
   },
   {
    "duration": 9,
    "start_time": "2023-04-04T04:39:12.591Z"
   },
   {
    "duration": 100,
    "start_time": "2023-04-04T04:39:12.602Z"
   },
   {
    "duration": 94,
    "start_time": "2023-04-04T04:39:12.704Z"
   },
   {
    "duration": 3,
    "start_time": "2023-04-04T04:39:12.800Z"
   },
   {
    "duration": 42,
    "start_time": "2023-04-04T04:39:12.806Z"
   },
   {
    "duration": 47,
    "start_time": "2023-04-04T04:39:12.850Z"
   },
   {
    "duration": 21,
    "start_time": "2023-04-04T04:39:12.898Z"
   },
   {
    "duration": 139,
    "start_time": "2023-04-04T04:39:12.920Z"
   },
   {
    "duration": 8,
    "start_time": "2023-04-04T04:39:13.061Z"
   },
   {
    "duration": 328,
    "start_time": "2023-04-04T04:39:13.070Z"
   },
   {
    "duration": 24,
    "start_time": "2023-04-04T04:39:13.399Z"
   },
   {
    "duration": 30,
    "start_time": "2023-04-04T04:39:13.425Z"
   },
   {
    "duration": 9,
    "start_time": "2023-04-04T04:39:30.952Z"
   },
   {
    "duration": 284,
    "start_time": "2023-04-04T04:39:48.551Z"
   },
   {
    "duration": 187,
    "start_time": "2023-04-04T04:40:05.430Z"
   },
   {
    "duration": 193,
    "start_time": "2023-04-04T04:40:09.219Z"
   },
   {
    "duration": 182,
    "start_time": "2023-04-04T04:40:11.795Z"
   },
   {
    "duration": 267,
    "start_time": "2023-04-04T04:40:25.311Z"
   },
   {
    "duration": 317,
    "start_time": "2023-04-04T04:40:27.727Z"
   },
   {
    "duration": 1597,
    "start_time": "2023-04-04T04:40:34.231Z"
   },
   {
    "duration": 104,
    "start_time": "2023-04-04T04:41:20.272Z"
   },
   {
    "duration": 607,
    "start_time": "2023-04-04T04:41:22.806Z"
   },
   {
    "duration": 789,
    "start_time": "2023-04-04T04:41:35.764Z"
   },
   {
    "duration": 614,
    "start_time": "2023-04-04T04:41:42.040Z"
   },
   {
    "duration": 959,
    "start_time": "2023-04-04T04:41:53.354Z"
   },
   {
    "duration": 834,
    "start_time": "2023-04-04T04:43:09.042Z"
   },
   {
    "duration": 1065,
    "start_time": "2023-04-04T04:43:16.077Z"
   },
   {
    "duration": 5,
    "start_time": "2023-04-04T04:45:44.573Z"
   },
   {
    "duration": 202,
    "start_time": "2023-04-04T04:45:44.582Z"
   },
   {
    "duration": 27,
    "start_time": "2023-04-04T04:45:44.786Z"
   },
   {
    "duration": 14,
    "start_time": "2023-04-04T04:45:44.814Z"
   },
   {
    "duration": 15,
    "start_time": "2023-04-04T04:45:44.830Z"
   },
   {
    "duration": 18,
    "start_time": "2023-04-04T04:45:44.847Z"
   },
   {
    "duration": 47,
    "start_time": "2023-04-04T04:45:44.868Z"
   },
   {
    "duration": 76,
    "start_time": "2023-04-04T04:45:44.917Z"
   },
   {
    "duration": 15,
    "start_time": "2023-04-04T04:45:44.994Z"
   },
   {
    "duration": 136,
    "start_time": "2023-04-04T04:45:45.011Z"
   },
   {
    "duration": 111,
    "start_time": "2023-04-04T04:45:45.149Z"
   },
   {
    "duration": 4,
    "start_time": "2023-04-04T04:45:45.262Z"
   },
   {
    "duration": 46,
    "start_time": "2023-04-04T04:45:45.267Z"
   },
   {
    "duration": 32,
    "start_time": "2023-04-04T04:45:45.316Z"
   },
   {
    "duration": 38,
    "start_time": "2023-04-04T04:45:45.350Z"
   },
   {
    "duration": 140,
    "start_time": "2023-04-04T04:45:45.390Z"
   },
   {
    "duration": 12,
    "start_time": "2023-04-04T04:45:45.531Z"
   },
   {
    "duration": 348,
    "start_time": "2023-04-04T04:45:45.547Z"
   },
   {
    "duration": 21,
    "start_time": "2023-04-04T04:45:45.897Z"
   },
   {
    "duration": 75,
    "start_time": "2023-04-04T04:45:45.920Z"
   },
   {
    "duration": 878,
    "start_time": "2023-04-04T04:45:45.998Z"
   },
   {
    "duration": 803,
    "start_time": "2023-04-04T04:45:46.877Z"
   },
   {
    "duration": 7,
    "start_time": "2023-04-04T04:45:47.682Z"
   },
   {
    "duration": 66,
    "start_time": "2023-04-04T04:45:47.692Z"
   },
   {
    "duration": 4,
    "start_time": "2023-04-04T04:46:13.656Z"
   },
   {
    "duration": 5,
    "start_time": "2023-04-04T04:46:19.592Z"
   },
   {
    "duration": 85,
    "start_time": "2023-04-04T04:47:46.294Z"
   },
   {
    "duration": 18,
    "start_time": "2023-04-04T04:48:51.419Z"
   },
   {
    "duration": 4,
    "start_time": "2023-04-04T04:48:57.857Z"
   },
   {
    "duration": 17,
    "start_time": "2023-04-04T04:49:11.243Z"
   },
   {
    "duration": 4,
    "start_time": "2023-04-04T04:49:11.669Z"
   },
   {
    "duration": 15,
    "start_time": "2023-04-04T04:49:32.722Z"
   },
   {
    "duration": 6,
    "start_time": "2023-04-04T04:49:39.883Z"
   },
   {
    "duration": 9,
    "start_time": "2023-04-04T04:51:42.015Z"
   },
   {
    "duration": 236,
    "start_time": "2023-04-04T04:51:42.026Z"
   },
   {
    "duration": 37,
    "start_time": "2023-04-04T04:51:42.264Z"
   },
   {
    "duration": 2,
    "start_time": "2023-04-04T04:51:42.304Z"
   },
   {
    "duration": 12,
    "start_time": "2023-04-04T04:51:42.308Z"
   },
   {
    "duration": 24,
    "start_time": "2023-04-04T04:51:42.322Z"
   },
   {
    "duration": 23,
    "start_time": "2023-04-04T04:51:42.347Z"
   },
   {
    "duration": 97,
    "start_time": "2023-04-04T04:51:42.372Z"
   },
   {
    "duration": 22,
    "start_time": "2023-04-04T04:51:42.471Z"
   },
   {
    "duration": 111,
    "start_time": "2023-04-04T04:51:42.504Z"
   },
   {
    "duration": 113,
    "start_time": "2023-04-04T04:51:42.618Z"
   },
   {
    "duration": 7,
    "start_time": "2023-04-04T04:51:42.736Z"
   },
   {
    "duration": 67,
    "start_time": "2023-04-04T04:51:42.745Z"
   },
   {
    "duration": 49,
    "start_time": "2023-04-04T04:51:42.814Z"
   },
   {
    "duration": 35,
    "start_time": "2023-04-04T04:51:42.865Z"
   },
   {
    "duration": 165,
    "start_time": "2023-04-04T04:51:42.902Z"
   },
   {
    "duration": 8,
    "start_time": "2023-04-04T04:51:43.069Z"
   },
   {
    "duration": 348,
    "start_time": "2023-04-04T04:51:43.078Z"
   },
   {
    "duration": 25,
    "start_time": "2023-04-04T04:51:43.430Z"
   },
   {
    "duration": 51,
    "start_time": "2023-04-04T04:51:43.456Z"
   },
   {
    "duration": 1111,
    "start_time": "2023-04-04T04:51:43.509Z"
   },
   {
    "duration": 694,
    "start_time": "2023-04-04T04:51:44.622Z"
   },
   {
    "duration": 5,
    "start_time": "2023-04-04T04:51:45.318Z"
   },
   {
    "duration": 44,
    "start_time": "2023-04-04T04:51:45.326Z"
   },
   {
    "duration": 701,
    "start_time": "2023-04-04T04:52:17.283Z"
   },
   {
    "duration": 4,
    "start_time": "2023-04-04T04:53:26.264Z"
   },
   {
    "duration": 232,
    "start_time": "2023-04-04T04:53:26.271Z"
   },
   {
    "duration": 38,
    "start_time": "2023-04-04T04:53:26.505Z"
   },
   {
    "duration": 4,
    "start_time": "2023-04-04T04:53:26.545Z"
   },
   {
    "duration": 10,
    "start_time": "2023-04-04T04:53:26.551Z"
   },
   {
    "duration": 11,
    "start_time": "2023-04-04T04:53:26.562Z"
   },
   {
    "duration": 46,
    "start_time": "2023-04-04T04:53:26.575Z"
   },
   {
    "duration": 99,
    "start_time": "2023-04-04T04:53:26.630Z"
   },
   {
    "duration": 9,
    "start_time": "2023-04-04T04:53:26.733Z"
   },
   {
    "duration": 95,
    "start_time": "2023-04-04T04:53:26.743Z"
   },
   {
    "duration": 100,
    "start_time": "2023-04-04T04:53:26.840Z"
   },
   {
    "duration": 3,
    "start_time": "2023-04-04T04:53:26.942Z"
   },
   {
    "duration": 50,
    "start_time": "2023-04-04T04:53:26.947Z"
   },
   {
    "duration": 45,
    "start_time": "2023-04-04T04:53:27.000Z"
   },
   {
    "duration": 19,
    "start_time": "2023-04-04T04:53:27.046Z"
   },
   {
    "duration": 168,
    "start_time": "2023-04-04T04:53:27.066Z"
   },
   {
    "duration": 8,
    "start_time": "2023-04-04T04:53:27.236Z"
   },
   {
    "duration": 460,
    "start_time": "2023-04-04T04:53:27.245Z"
   },
   {
    "duration": 24,
    "start_time": "2023-04-04T04:53:27.715Z"
   },
   {
    "duration": 30,
    "start_time": "2023-04-04T04:53:27.741Z"
   },
   {
    "duration": 915,
    "start_time": "2023-04-04T04:53:27.774Z"
   },
   {
    "duration": 665,
    "start_time": "2023-04-04T04:53:28.696Z"
   },
   {
    "duration": 3,
    "start_time": "2023-04-04T04:53:29.363Z"
   },
   {
    "duration": 58,
    "start_time": "2023-04-04T04:53:29.369Z"
   },
   {
    "duration": 16,
    "start_time": "2023-04-04T04:53:29.429Z"
   },
   {
    "duration": 4,
    "start_time": "2023-04-04T04:53:29.446Z"
   },
   {
    "duration": 79,
    "start_time": "2023-04-04T04:53:29.452Z"
   },
   {
    "duration": 28,
    "start_time": "2023-04-04T04:53:29.533Z"
   },
   {
    "duration": 613,
    "start_time": "2023-04-04T04:53:35.461Z"
   },
   {
    "duration": 68,
    "start_time": "2023-04-04T04:53:59.383Z"
   },
   {
    "duration": 58,
    "start_time": "2023-04-04T04:54:22.666Z"
   },
   {
    "duration": 35,
    "start_time": "2023-04-04T04:54:34.132Z"
   },
   {
    "duration": 14,
    "start_time": "2023-04-04T04:55:15.886Z"
   },
   {
    "duration": 155,
    "start_time": "2023-04-04T04:55:34.132Z"
   },
   {
    "duration": 152,
    "start_time": "2023-04-04T04:55:36.738Z"
   },
   {
    "duration": 157,
    "start_time": "2023-04-04T04:59:29.215Z"
   },
   {
    "duration": 87,
    "start_time": "2023-04-04T04:59:44.734Z"
   },
   {
    "duration": 13,
    "start_time": "2023-04-04T05:01:24.325Z"
   },
   {
    "duration": 6,
    "start_time": "2023-04-04T05:01:30.880Z"
   },
   {
    "duration": 258,
    "start_time": "2023-04-04T05:01:30.888Z"
   },
   {
    "duration": 23,
    "start_time": "2023-04-04T05:01:31.147Z"
   },
   {
    "duration": 58,
    "start_time": "2023-04-04T05:01:31.173Z"
   },
   {
    "duration": 59,
    "start_time": "2023-04-04T05:01:31.233Z"
   },
   {
    "duration": 45,
    "start_time": "2023-04-04T05:01:31.294Z"
   },
   {
    "duration": 66,
    "start_time": "2023-04-04T05:01:31.341Z"
   },
   {
    "duration": 119,
    "start_time": "2023-04-04T05:01:31.410Z"
   },
   {
    "duration": 43,
    "start_time": "2023-04-04T05:01:31.531Z"
   },
   {
    "duration": 126,
    "start_time": "2023-04-04T05:01:31.578Z"
   },
   {
    "duration": 97,
    "start_time": "2023-04-04T05:01:31.707Z"
   },
   {
    "duration": 3,
    "start_time": "2023-04-04T05:01:31.806Z"
   },
   {
    "duration": 48,
    "start_time": "2023-04-04T05:01:31.810Z"
   },
   {
    "duration": 36,
    "start_time": "2023-04-04T05:01:31.860Z"
   },
   {
    "duration": 18,
    "start_time": "2023-04-04T05:01:31.897Z"
   },
   {
    "duration": 139,
    "start_time": "2023-04-04T05:01:31.917Z"
   },
   {
    "duration": 11,
    "start_time": "2023-04-04T05:01:32.058Z"
   },
   {
    "duration": 426,
    "start_time": "2023-04-04T05:01:32.071Z"
   },
   {
    "duration": 22,
    "start_time": "2023-04-04T05:01:32.499Z"
   },
   {
    "duration": 70,
    "start_time": "2023-04-04T05:01:32.523Z"
   },
   {
    "duration": 877,
    "start_time": "2023-04-04T05:01:32.595Z"
   },
   {
    "duration": 682,
    "start_time": "2023-04-04T05:01:33.474Z"
   },
   {
    "duration": 5,
    "start_time": "2023-04-04T05:01:34.158Z"
   },
   {
    "duration": 43,
    "start_time": "2023-04-04T05:01:34.165Z"
   },
   {
    "duration": 40,
    "start_time": "2023-04-04T05:01:34.211Z"
   },
   {
    "duration": 12,
    "start_time": "2023-04-04T05:01:34.254Z"
   },
   {
    "duration": 71,
    "start_time": "2023-04-04T05:01:34.268Z"
   },
   {
    "duration": 27,
    "start_time": "2023-04-04T05:01:34.343Z"
   },
   {
    "duration": 233,
    "start_time": "2023-04-04T05:01:34.372Z"
   },
   {
    "duration": 202,
    "start_time": "2023-04-04T05:01:34.607Z"
   },
   {
    "duration": 77,
    "start_time": "2023-04-04T05:01:34.811Z"
   },
   {
    "duration": 25,
    "start_time": "2023-04-04T05:01:34.890Z"
   },
   {
    "duration": 61,
    "start_time": "2023-04-04T05:01:36.503Z"
   },
   {
    "duration": 5,
    "start_time": "2023-04-04T05:02:29.722Z"
   },
   {
    "duration": 226,
    "start_time": "2023-04-04T05:02:29.730Z"
   },
   {
    "duration": 36,
    "start_time": "2023-04-04T05:02:29.958Z"
   },
   {
    "duration": 4,
    "start_time": "2023-04-04T05:02:29.997Z"
   },
   {
    "duration": 23,
    "start_time": "2023-04-04T05:02:30.003Z"
   },
   {
    "duration": 21,
    "start_time": "2023-04-04T05:02:30.028Z"
   },
   {
    "duration": 41,
    "start_time": "2023-04-04T05:02:30.051Z"
   },
   {
    "duration": 74,
    "start_time": "2023-04-04T05:02:30.094Z"
   },
   {
    "duration": 19,
    "start_time": "2023-04-04T05:02:30.171Z"
   },
   {
    "duration": 105,
    "start_time": "2023-04-04T05:02:30.193Z"
   },
   {
    "duration": 98,
    "start_time": "2023-04-04T05:02:30.300Z"
   },
   {
    "duration": 4,
    "start_time": "2023-04-04T05:02:30.400Z"
   },
   {
    "duration": 96,
    "start_time": "2023-04-04T05:02:30.406Z"
   },
   {
    "duration": 46,
    "start_time": "2023-04-04T05:02:30.505Z"
   },
   {
    "duration": 43,
    "start_time": "2023-04-04T05:02:30.554Z"
   },
   {
    "duration": 251,
    "start_time": "2023-04-04T05:02:30.599Z"
   },
   {
    "duration": 12,
    "start_time": "2023-04-04T05:02:30.852Z"
   },
   {
    "duration": 297,
    "start_time": "2023-04-04T05:02:30.867Z"
   },
   {
    "duration": 30,
    "start_time": "2023-04-04T05:02:31.167Z"
   },
   {
    "duration": 45,
    "start_time": "2023-04-04T05:02:31.199Z"
   },
   {
    "duration": 881,
    "start_time": "2023-04-04T05:02:31.247Z"
   },
   {
    "duration": 783,
    "start_time": "2023-04-04T05:02:32.131Z"
   },
   {
    "duration": 5,
    "start_time": "2023-04-04T05:02:32.917Z"
   },
   {
    "duration": 57,
    "start_time": "2023-04-04T05:02:32.926Z"
   },
   {
    "duration": 19,
    "start_time": "2023-04-04T05:02:32.985Z"
   },
   {
    "duration": 4,
    "start_time": "2023-04-04T05:02:33.005Z"
   },
   {
    "duration": 52,
    "start_time": "2023-04-04T05:02:33.011Z"
   },
   {
    "duration": 48,
    "start_time": "2023-04-04T05:02:33.067Z"
   },
   {
    "duration": 88,
    "start_time": "2023-04-04T05:02:33.117Z"
   },
   {
    "duration": 191,
    "start_time": "2023-04-04T05:02:33.207Z"
   },
   {
    "duration": 88,
    "start_time": "2023-04-04T05:02:33.401Z"
   },
   {
    "duration": 37,
    "start_time": "2023-04-04T05:02:33.490Z"
   },
   {
    "duration": 75,
    "start_time": "2023-04-04T05:02:33.529Z"
   },
   {
    "duration": 9,
    "start_time": "2023-04-04T05:02:33.606Z"
   },
   {
    "duration": 6,
    "start_time": "2023-04-04T05:17:15.299Z"
   },
   {
    "duration": 4,
    "start_time": "2023-04-04T05:17:22.965Z"
   },
   {
    "duration": 199,
    "start_time": "2023-04-04T05:17:22.972Z"
   },
   {
    "duration": 24,
    "start_time": "2023-04-04T05:17:23.173Z"
   },
   {
    "duration": 25,
    "start_time": "2023-04-04T05:17:23.199Z"
   },
   {
    "duration": 22,
    "start_time": "2023-04-04T05:17:23.226Z"
   },
   {
    "duration": 12,
    "start_time": "2023-04-04T05:17:23.250Z"
   },
   {
    "duration": 23,
    "start_time": "2023-04-04T05:17:23.263Z"
   },
   {
    "duration": 100,
    "start_time": "2023-04-04T05:17:23.303Z"
   },
   {
    "duration": 10,
    "start_time": "2023-04-04T05:17:23.405Z"
   },
   {
    "duration": 102,
    "start_time": "2023-04-04T05:17:23.418Z"
   },
   {
    "duration": 101,
    "start_time": "2023-04-04T05:17:23.522Z"
   },
   {
    "duration": 3,
    "start_time": "2023-04-04T05:17:23.624Z"
   },
   {
    "duration": 41,
    "start_time": "2023-04-04T05:17:23.628Z"
   },
   {
    "duration": 51,
    "start_time": "2023-04-04T05:17:23.671Z"
   },
   {
    "duration": 29,
    "start_time": "2023-04-04T05:17:23.724Z"
   },
   {
    "duration": 164,
    "start_time": "2023-04-04T05:17:23.755Z"
   },
   {
    "duration": 9,
    "start_time": "2023-04-04T05:17:23.921Z"
   },
   {
    "duration": 311,
    "start_time": "2023-04-04T05:17:23.931Z"
   },
   {
    "duration": 20,
    "start_time": "2023-04-04T05:17:24.245Z"
   },
   {
    "duration": 52,
    "start_time": "2023-04-04T05:17:24.267Z"
   },
   {
    "duration": 913,
    "start_time": "2023-04-04T05:17:24.321Z"
   },
   {
    "duration": 840,
    "start_time": "2023-04-04T05:17:25.236Z"
   },
   {
    "duration": 25,
    "start_time": "2023-04-04T05:17:26.077Z"
   },
   {
    "duration": 29,
    "start_time": "2023-04-04T05:17:26.104Z"
   },
   {
    "duration": 16,
    "start_time": "2023-04-04T05:17:26.135Z"
   },
   {
    "duration": 3,
    "start_time": "2023-04-04T05:17:26.154Z"
   },
   {
    "duration": 68,
    "start_time": "2023-04-04T05:17:26.159Z"
   },
   {
    "duration": 28,
    "start_time": "2023-04-04T05:17:26.230Z"
   },
   {
    "duration": 67,
    "start_time": "2023-04-04T05:17:26.259Z"
   },
   {
    "duration": 199,
    "start_time": "2023-04-04T05:17:26.328Z"
   },
   {
    "duration": 77,
    "start_time": "2023-04-04T05:17:26.528Z"
   },
   {
    "duration": 24,
    "start_time": "2023-04-04T05:17:26.607Z"
   },
   {
    "duration": 71,
    "start_time": "2023-04-04T05:17:26.634Z"
   },
   {
    "duration": 12,
    "start_time": "2023-04-04T05:17:26.707Z"
   },
   {
    "duration": 6,
    "start_time": "2023-04-04T05:17:32.958Z"
   },
   {
    "duration": 19,
    "start_time": "2023-04-04T05:17:37.579Z"
   },
   {
    "duration": 5,
    "start_time": "2023-04-04T05:18:23.912Z"
   },
   {
    "duration": 8,
    "start_time": "2023-04-04T05:18:24.447Z"
   },
   {
    "duration": 6,
    "start_time": "2023-04-04T05:18:36.012Z"
   },
   {
    "duration": 8,
    "start_time": "2023-04-04T05:18:37.271Z"
   },
   {
    "duration": 4,
    "start_time": "2023-04-04T05:45:23.981Z"
   },
   {
    "duration": 181,
    "start_time": "2023-04-04T05:45:23.987Z"
   },
   {
    "duration": 21,
    "start_time": "2023-04-04T05:45:24.170Z"
   },
   {
    "duration": 3,
    "start_time": "2023-04-04T05:45:24.193Z"
   },
   {
    "duration": 12,
    "start_time": "2023-04-04T05:45:24.198Z"
   },
   {
    "duration": 11,
    "start_time": "2023-04-04T05:45:24.212Z"
   },
   {
    "duration": 21,
    "start_time": "2023-04-04T05:45:24.224Z"
   },
   {
    "duration": 93,
    "start_time": "2023-04-04T05:45:24.246Z"
   },
   {
    "duration": 10,
    "start_time": "2023-04-04T05:45:24.342Z"
   },
   {
    "duration": 93,
    "start_time": "2023-04-04T05:45:24.353Z"
   },
   {
    "duration": 94,
    "start_time": "2023-04-04T05:45:24.448Z"
   },
   {
    "duration": 3,
    "start_time": "2023-04-04T05:45:24.544Z"
   },
   {
    "duration": 40,
    "start_time": "2023-04-04T05:45:24.549Z"
   },
   {
    "duration": 34,
    "start_time": "2023-04-04T05:45:24.591Z"
   },
   {
    "duration": 22,
    "start_time": "2023-04-04T05:45:24.627Z"
   },
   {
    "duration": 154,
    "start_time": "2023-04-04T05:45:24.651Z"
   },
   {
    "duration": 8,
    "start_time": "2023-04-04T05:45:24.807Z"
   },
   {
    "duration": 287,
    "start_time": "2023-04-04T05:45:24.817Z"
   },
   {
    "duration": 20,
    "start_time": "2023-04-04T05:45:25.106Z"
   },
   {
    "duration": 30,
    "start_time": "2023-04-04T05:45:25.128Z"
   },
   {
    "duration": 973,
    "start_time": "2023-04-04T05:45:25.159Z"
   },
   {
    "duration": 589,
    "start_time": "2023-04-04T05:45:26.134Z"
   },
   {
    "duration": 3,
    "start_time": "2023-04-04T05:45:26.725Z"
   },
   {
    "duration": 31,
    "start_time": "2023-04-04T05:45:26.732Z"
   },
   {
    "duration": 32,
    "start_time": "2023-04-04T05:45:26.765Z"
   },
   {
    "duration": 4,
    "start_time": "2023-04-04T05:45:26.800Z"
   },
   {
    "duration": 42,
    "start_time": "2023-04-04T05:45:26.806Z"
   },
   {
    "duration": 44,
    "start_time": "2023-04-04T05:45:26.850Z"
   },
   {
    "duration": 44,
    "start_time": "2023-04-04T05:45:26.896Z"
   },
   {
    "duration": 179,
    "start_time": "2023-04-04T05:45:26.943Z"
   },
   {
    "duration": 64,
    "start_time": "2023-04-04T05:45:27.124Z"
   },
   {
    "duration": 23,
    "start_time": "2023-04-04T05:45:27.190Z"
   },
   {
    "duration": 46,
    "start_time": "2023-04-04T05:45:27.215Z"
   },
   {
    "duration": 33,
    "start_time": "2023-04-04T05:45:27.263Z"
   },
   {
    "duration": 8,
    "start_time": "2023-04-04T05:45:27.298Z"
   },
   {
    "duration": 11,
    "start_time": "2023-04-04T05:45:27.308Z"
   },
   {
    "duration": 12,
    "start_time": "2023-04-04T05:45:27.321Z"
   },
   {
    "duration": 59,
    "start_time": "2023-04-04T05:45:27.335Z"
   },
   {
    "duration": 38,
    "start_time": "2023-04-04T05:45:27.396Z"
   },
   {
    "duration": 197,
    "start_time": "2023-04-04T05:45:27.436Z"
   },
   {
    "duration": 100,
    "start_time": "2023-04-04T05:45:27.635Z"
   },
   {
    "duration": 9,
    "start_time": "2023-04-04T05:45:32.441Z"
   },
   {
    "duration": 258,
    "start_time": "2023-04-04T05:45:55.915Z"
   },
   {
    "duration": 9,
    "start_time": "2023-04-04T05:46:05.185Z"
   },
   {
    "duration": 5,
    "start_time": "2023-04-04T05:47:17.023Z"
   },
   {
    "duration": 9,
    "start_time": "2023-04-04T05:47:21.451Z"
   },
   {
    "duration": 6,
    "start_time": "2023-04-04T05:47:52.303Z"
   },
   {
    "duration": 3,
    "start_time": "2023-04-04T05:48:04.418Z"
   },
   {
    "duration": 9,
    "start_time": "2023-04-04T05:48:11.604Z"
   },
   {
    "duration": 4,
    "start_time": "2023-04-04T05:48:49.880Z"
   },
   {
    "duration": 9,
    "start_time": "2023-04-04T05:48:50.431Z"
   },
   {
    "duration": 5,
    "start_time": "2023-04-04T05:49:15.313Z"
   },
   {
    "duration": 1409,
    "start_time": "2023-04-04T05:49:30.505Z"
   },
   {
    "duration": 174,
    "start_time": "2023-04-04T05:49:31.916Z"
   },
   {
    "duration": 22,
    "start_time": "2023-04-04T05:49:32.092Z"
   },
   {
    "duration": 3,
    "start_time": "2023-04-04T05:49:32.116Z"
   },
   {
    "duration": 13,
    "start_time": "2023-04-04T05:49:32.120Z"
   },
   {
    "duration": 19,
    "start_time": "2023-04-04T05:49:32.135Z"
   },
   {
    "duration": 38,
    "start_time": "2023-04-04T05:49:32.156Z"
   },
   {
    "duration": 77,
    "start_time": "2023-04-04T05:49:32.196Z"
   },
   {
    "duration": 10,
    "start_time": "2023-04-04T05:49:32.287Z"
   },
   {
    "duration": 106,
    "start_time": "2023-04-04T05:49:32.300Z"
   },
   {
    "duration": 112,
    "start_time": "2023-04-04T05:49:32.407Z"
   },
   {
    "duration": 3,
    "start_time": "2023-04-04T05:49:32.521Z"
   },
   {
    "duration": 34,
    "start_time": "2023-04-04T05:49:32.525Z"
   },
   {
    "duration": 45,
    "start_time": "2023-04-04T05:49:32.561Z"
   },
   {
    "duration": 20,
    "start_time": "2023-04-04T05:49:32.608Z"
   },
   {
    "duration": 137,
    "start_time": "2023-04-04T05:49:32.630Z"
   },
   {
    "duration": 23,
    "start_time": "2023-04-04T05:49:32.768Z"
   },
   {
    "duration": 310,
    "start_time": "2023-04-04T05:49:32.792Z"
   },
   {
    "duration": 22,
    "start_time": "2023-04-04T05:49:33.104Z"
   },
   {
    "duration": 37,
    "start_time": "2023-04-04T05:49:33.127Z"
   },
   {
    "duration": 1007,
    "start_time": "2023-04-04T05:49:33.165Z"
   },
   {
    "duration": 582,
    "start_time": "2023-04-04T05:49:34.175Z"
   },
   {
    "duration": 4,
    "start_time": "2023-04-04T05:49:34.759Z"
   },
   {
    "duration": 49,
    "start_time": "2023-04-04T05:49:34.765Z"
   },
   {
    "duration": 21,
    "start_time": "2023-04-04T05:49:34.816Z"
   },
   {
    "duration": 17,
    "start_time": "2023-04-04T05:49:34.839Z"
   },
   {
    "duration": 56,
    "start_time": "2023-04-04T05:49:34.858Z"
   },
   {
    "duration": 26,
    "start_time": "2023-04-04T05:49:34.918Z"
   },
   {
    "duration": 511,
    "start_time": "2023-04-04T05:49:34.947Z"
   },
   {
    "duration": 234,
    "start_time": "2023-04-04T05:49:35.461Z"
   },
   {
    "duration": 65,
    "start_time": "2023-04-04T05:49:35.696Z"
   },
   {
    "duration": 38,
    "start_time": "2023-04-04T05:49:35.763Z"
   },
   {
    "duration": 43,
    "start_time": "2023-04-04T05:49:35.803Z"
   },
   {
    "duration": 20,
    "start_time": "2023-04-04T05:49:35.848Z"
   },
   {
    "duration": 23,
    "start_time": "2023-04-04T05:49:35.870Z"
   },
   {
    "duration": 27,
    "start_time": "2023-04-04T05:49:35.895Z"
   },
   {
    "duration": 25,
    "start_time": "2023-04-04T05:49:35.924Z"
   },
   {
    "duration": 53,
    "start_time": "2023-04-04T05:49:35.951Z"
   },
   {
    "duration": 37,
    "start_time": "2023-04-04T05:49:36.006Z"
   },
   {
    "duration": 194,
    "start_time": "2023-04-04T05:49:36.044Z"
   },
   {
    "duration": 266,
    "start_time": "2023-04-04T05:49:36.240Z"
   },
   {
    "duration": 10,
    "start_time": "2023-04-04T05:49:36.508Z"
   },
   {
    "duration": 11,
    "start_time": "2023-04-04T05:49:36.520Z"
   },
   {
    "duration": 20,
    "start_time": "2023-04-04T05:49:36.533Z"
   },
   {
    "duration": 17,
    "start_time": "2023-04-04T05:49:36.555Z"
   },
   {
    "duration": 8,
    "start_time": "2023-04-04T05:49:36.574Z"
   },
   {
    "duration": 22,
    "start_time": "2023-04-04T05:49:36.584Z"
   },
   {
    "duration": 12,
    "start_time": "2023-04-04T05:49:36.608Z"
   },
   {
    "duration": 65,
    "start_time": "2023-04-04T05:49:36.623Z"
   },
   {
    "duration": 47,
    "start_time": "2023-04-04T05:49:36.690Z"
   },
   {
    "duration": 72,
    "start_time": "2023-04-04T05:49:36.738Z"
   },
   {
    "duration": 55,
    "start_time": "2023-04-04T05:49:36.812Z"
   },
   {
    "duration": 5,
    "start_time": "2023-04-04T05:50:36.693Z"
   },
   {
    "duration": 14,
    "start_time": "2023-04-04T05:51:12.027Z"
   },
   {
    "duration": 13,
    "start_time": "2023-04-04T05:51:25.724Z"
   },
   {
    "duration": 4,
    "start_time": "2023-04-04T05:51:56.624Z"
   },
   {
    "duration": 55,
    "start_time": "2023-04-04T05:51:59.453Z"
   },
   {
    "duration": 50,
    "start_time": "2023-04-04T05:52:07.813Z"
   },
   {
    "duration": 47,
    "start_time": "2023-04-04T05:52:09.541Z"
   },
   {
    "duration": 48,
    "start_time": "2023-04-04T05:52:10.941Z"
   },
   {
    "duration": 66,
    "start_time": "2023-04-04T06:06:18.775Z"
   },
   {
    "duration": 183,
    "start_time": "2023-04-04T06:07:10.182Z"
   },
   {
    "duration": 6,
    "start_time": "2023-04-04T06:07:42.576Z"
   },
   {
    "duration": 6,
    "start_time": "2023-04-04T06:07:45.210Z"
   },
   {
    "duration": 13,
    "start_time": "2023-04-04T06:07:58.657Z"
   },
   {
    "duration": 11,
    "start_time": "2023-04-04T06:08:04.217Z"
   },
   {
    "duration": 12,
    "start_time": "2023-04-04T06:08:08.921Z"
   },
   {
    "duration": 8,
    "start_time": "2023-04-04T06:08:19.113Z"
   },
   {
    "duration": 10,
    "start_time": "2023-04-04T06:08:28.424Z"
   },
   {
    "duration": 21,
    "start_time": "2023-04-04T06:09:16.279Z"
   },
   {
    "duration": 36,
    "start_time": "2023-04-04T06:11:00.829Z"
   },
   {
    "duration": 6,
    "start_time": "2023-04-04T06:11:10.535Z"
   },
   {
    "duration": 195,
    "start_time": "2023-04-04T06:11:10.544Z"
   },
   {
    "duration": 21,
    "start_time": "2023-04-04T06:11:10.740Z"
   },
   {
    "duration": 3,
    "start_time": "2023-04-04T06:11:10.763Z"
   },
   {
    "duration": 38,
    "start_time": "2023-04-04T06:11:10.768Z"
   },
   {
    "duration": 13,
    "start_time": "2023-04-04T06:11:10.809Z"
   },
   {
    "duration": 24,
    "start_time": "2023-04-04T06:11:10.824Z"
   },
   {
    "duration": 73,
    "start_time": "2023-04-04T06:11:10.850Z"
   },
   {
    "duration": 18,
    "start_time": "2023-04-04T06:11:10.925Z"
   },
   {
    "duration": 91,
    "start_time": "2023-04-04T06:11:10.947Z"
   },
   {
    "duration": 100,
    "start_time": "2023-04-04T06:11:11.040Z"
   },
   {
    "duration": 4,
    "start_time": "2023-04-04T06:11:11.142Z"
   },
   {
    "duration": 46,
    "start_time": "2023-04-04T06:11:11.148Z"
   },
   {
    "duration": 38,
    "start_time": "2023-04-04T06:11:11.196Z"
   },
   {
    "duration": 19,
    "start_time": "2023-04-04T06:11:11.236Z"
   },
   {
    "duration": 146,
    "start_time": "2023-04-04T06:11:11.257Z"
   },
   {
    "duration": 8,
    "start_time": "2023-04-04T06:11:11.405Z"
   },
   {
    "duration": 286,
    "start_time": "2023-04-04T06:11:11.414Z"
   },
   {
    "duration": 20,
    "start_time": "2023-04-04T06:11:11.702Z"
   },
   {
    "duration": 32,
    "start_time": "2023-04-04T06:11:11.723Z"
   },
   {
    "duration": 953,
    "start_time": "2023-04-04T06:11:11.756Z"
   },
   {
    "duration": 629,
    "start_time": "2023-04-04T06:11:12.711Z"
   },
   {
    "duration": 4,
    "start_time": "2023-04-04T06:11:13.342Z"
   },
   {
    "duration": 59,
    "start_time": "2023-04-04T06:11:13.347Z"
   },
   {
    "duration": 26,
    "start_time": "2023-04-04T06:11:14.581Z"
   },
   {
    "duration": 7,
    "start_time": "2023-04-04T06:11:25.517Z"
   },
   {
    "duration": 11,
    "start_time": "2023-04-04T06:11:39.817Z"
   },
   {
    "duration": 5,
    "start_time": "2023-04-04T06:11:59.226Z"
   },
   {
    "duration": 9,
    "start_time": "2023-04-04T06:12:11.126Z"
   },
   {
    "duration": 4,
    "start_time": "2023-04-04T06:12:17.982Z"
   },
   {
    "duration": 8,
    "start_time": "2023-04-04T06:15:09.927Z"
   },
   {
    "duration": 17,
    "start_time": "2023-04-04T06:15:35.478Z"
   },
   {
    "duration": 4,
    "start_time": "2023-04-04T06:15:51.079Z"
   },
   {
    "duration": 17,
    "start_time": "2023-04-04T06:15:59.725Z"
   },
   {
    "duration": 7,
    "start_time": "2023-04-04T06:16:10.009Z"
   },
   {
    "duration": 6,
    "start_time": "2023-04-04T06:17:03.445Z"
   },
   {
    "duration": 6,
    "start_time": "2023-04-04T06:17:04.943Z"
   },
   {
    "duration": 5,
    "start_time": "2023-04-04T06:17:07.421Z"
   },
   {
    "duration": 28,
    "start_time": "2023-04-04T06:17:23.220Z"
   },
   {
    "duration": 8,
    "start_time": "2023-04-04T06:17:23.925Z"
   },
   {
    "duration": 4,
    "start_time": "2023-04-04T06:17:24.618Z"
   },
   {
    "duration": 4,
    "start_time": "2023-04-04T06:17:35.114Z"
   },
   {
    "duration": 205,
    "start_time": "2023-04-04T06:17:35.121Z"
   },
   {
    "duration": 22,
    "start_time": "2023-04-04T06:17:35.328Z"
   },
   {
    "duration": 3,
    "start_time": "2023-04-04T06:17:35.352Z"
   },
   {
    "duration": 15,
    "start_time": "2023-04-04T06:17:35.356Z"
   },
   {
    "duration": 16,
    "start_time": "2023-04-04T06:17:35.387Z"
   },
   {
    "duration": 29,
    "start_time": "2023-04-04T06:17:35.405Z"
   },
   {
    "duration": 83,
    "start_time": "2023-04-04T06:17:35.436Z"
   },
   {
    "duration": 10,
    "start_time": "2023-04-04T06:17:35.521Z"
   },
   {
    "duration": 110,
    "start_time": "2023-04-04T06:17:35.535Z"
   },
   {
    "duration": 105,
    "start_time": "2023-04-04T06:17:35.646Z"
   },
   {
    "duration": 3,
    "start_time": "2023-04-04T06:17:35.752Z"
   },
   {
    "duration": 75,
    "start_time": "2023-04-04T06:17:35.757Z"
   },
   {
    "duration": 46,
    "start_time": "2023-04-04T06:17:35.834Z"
   },
   {
    "duration": 114,
    "start_time": "2023-04-04T06:17:35.882Z"
   },
   {
    "duration": 153,
    "start_time": "2023-04-04T06:17:35.998Z"
   },
   {
    "duration": 8,
    "start_time": "2023-04-04T06:17:36.152Z"
   },
   {
    "duration": 292,
    "start_time": "2023-04-04T06:17:36.162Z"
   },
   {
    "duration": 22,
    "start_time": "2023-04-04T06:17:36.456Z"
   },
   {
    "duration": 42,
    "start_time": "2023-04-04T06:17:36.479Z"
   },
   {
    "duration": 956,
    "start_time": "2023-04-04T06:17:36.524Z"
   },
   {
    "duration": 578,
    "start_time": "2023-04-04T06:17:37.482Z"
   },
   {
    "duration": 4,
    "start_time": "2023-04-04T06:17:38.062Z"
   },
   {
    "duration": 30,
    "start_time": "2023-04-04T06:17:39.633Z"
   },
   {
    "duration": 5,
    "start_time": "2023-04-04T06:17:41.125Z"
   },
   {
    "duration": 42,
    "start_time": "2023-04-04T06:18:05.779Z"
   },
   {
    "duration": 42,
    "start_time": "2023-04-04T06:18:12.127Z"
   },
   {
    "duration": 37,
    "start_time": "2023-04-04T06:19:08.572Z"
   },
   {
    "duration": 8,
    "start_time": "2023-04-04T06:19:14.317Z"
   },
   {
    "duration": 3,
    "start_time": "2023-04-04T06:19:14.966Z"
   },
   {
    "duration": 30,
    "start_time": "2023-04-04T06:19:18.455Z"
   },
   {
    "duration": 4,
    "start_time": "2023-04-04T06:19:19.629Z"
   },
   {
    "duration": 5,
    "start_time": "2023-04-04T06:19:26.125Z"
   },
   {
    "duration": 176,
    "start_time": "2023-04-04T06:19:26.132Z"
   },
   {
    "duration": 29,
    "start_time": "2023-04-04T06:19:26.310Z"
   },
   {
    "duration": 3,
    "start_time": "2023-04-04T06:19:26.343Z"
   },
   {
    "duration": 12,
    "start_time": "2023-04-04T06:19:26.347Z"
   },
   {
    "duration": 30,
    "start_time": "2023-04-04T06:19:26.361Z"
   },
   {
    "duration": 21,
    "start_time": "2023-04-04T06:19:26.393Z"
   },
   {
    "duration": 85,
    "start_time": "2023-04-04T06:19:26.415Z"
   },
   {
    "duration": 159,
    "start_time": "2023-04-04T06:19:26.502Z"
   },
   {
    "duration": 87,
    "start_time": "2023-04-04T06:19:26.664Z"
   },
   {
    "duration": 101,
    "start_time": "2023-04-04T06:19:26.753Z"
   },
   {
    "duration": 3,
    "start_time": "2023-04-04T06:19:26.856Z"
   },
   {
    "duration": 44,
    "start_time": "2023-04-04T06:19:26.861Z"
   },
   {
    "duration": 30,
    "start_time": "2023-04-04T06:19:26.907Z"
   },
   {
    "duration": 19,
    "start_time": "2023-04-04T06:19:26.939Z"
   },
   {
    "duration": 133,
    "start_time": "2023-04-04T06:19:26.960Z"
   },
   {
    "duration": 7,
    "start_time": "2023-04-04T06:19:27.095Z"
   },
   {
    "duration": 286,
    "start_time": "2023-04-04T06:19:27.104Z"
   },
   {
    "duration": 19,
    "start_time": "2023-04-04T06:19:27.393Z"
   },
   {
    "duration": 32,
    "start_time": "2023-04-04T06:19:27.414Z"
   },
   {
    "duration": 991,
    "start_time": "2023-04-04T06:19:27.451Z"
   },
   {
    "duration": 578,
    "start_time": "2023-04-04T06:19:28.444Z"
   },
   {
    "duration": 5,
    "start_time": "2023-04-04T06:19:29.024Z"
   },
   {
    "duration": 30,
    "start_time": "2023-04-04T06:19:31.529Z"
   },
   {
    "duration": 4,
    "start_time": "2023-04-04T06:19:32.613Z"
   },
   {
    "duration": 8,
    "start_time": "2023-04-04T06:20:31.521Z"
   },
   {
    "duration": 4,
    "start_time": "2023-04-04T06:20:31.825Z"
   },
   {
    "duration": 1329,
    "start_time": "2023-04-04T06:21:20.283Z"
   },
   {
    "duration": 177,
    "start_time": "2023-04-04T06:21:21.614Z"
   },
   {
    "duration": 21,
    "start_time": "2023-04-04T06:21:21.792Z"
   },
   {
    "duration": 3,
    "start_time": "2023-04-04T06:21:21.815Z"
   },
   {
    "duration": 12,
    "start_time": "2023-04-04T06:21:21.819Z"
   },
   {
    "duration": 17,
    "start_time": "2023-04-04T06:21:21.832Z"
   },
   {
    "duration": 42,
    "start_time": "2023-04-04T06:21:21.851Z"
   },
   {
    "duration": 74,
    "start_time": "2023-04-04T06:21:21.895Z"
   },
   {
    "duration": 27,
    "start_time": "2023-04-04T06:21:21.971Z"
   },
   {
    "duration": 111,
    "start_time": "2023-04-04T06:21:22.001Z"
   },
   {
    "duration": 114,
    "start_time": "2023-04-04T06:21:22.114Z"
   },
   {
    "duration": 3,
    "start_time": "2023-04-04T06:21:22.229Z"
   },
   {
    "duration": 63,
    "start_time": "2023-04-04T06:21:22.234Z"
   },
   {
    "duration": 35,
    "start_time": "2023-04-04T06:21:22.298Z"
   },
   {
    "duration": 22,
    "start_time": "2023-04-04T06:21:22.335Z"
   },
   {
    "duration": 129,
    "start_time": "2023-04-04T06:21:22.359Z"
   },
   {
    "duration": 9,
    "start_time": "2023-04-04T06:21:22.490Z"
   },
   {
    "duration": 291,
    "start_time": "2023-04-04T06:21:22.500Z"
   },
   {
    "duration": 28,
    "start_time": "2023-04-04T06:21:22.793Z"
   },
   {
    "duration": 30,
    "start_time": "2023-04-04T06:21:22.823Z"
   },
   {
    "duration": 996,
    "start_time": "2023-04-04T06:21:22.854Z"
   },
   {
    "duration": 599,
    "start_time": "2023-04-04T06:21:23.852Z"
   },
   {
    "duration": 5,
    "start_time": "2023-04-04T06:21:24.453Z"
   },
   {
    "duration": 55,
    "start_time": "2023-04-04T06:21:24.459Z"
   },
   {
    "duration": 9,
    "start_time": "2023-04-04T06:21:24.516Z"
   },
   {
    "duration": 9,
    "start_time": "2023-04-04T06:21:24.527Z"
   },
   {
    "duration": 57,
    "start_time": "2023-04-04T06:21:24.538Z"
   },
   {
    "duration": 28,
    "start_time": "2023-04-04T06:21:24.599Z"
   },
   {
    "duration": 521,
    "start_time": "2023-04-04T06:21:24.630Z"
   },
   {
    "duration": 234,
    "start_time": "2023-04-04T06:21:25.153Z"
   },
   {
    "duration": 61,
    "start_time": "2023-04-04T06:21:25.389Z"
   },
   {
    "duration": 38,
    "start_time": "2023-04-04T06:21:25.451Z"
   },
   {
    "duration": 47,
    "start_time": "2023-04-04T06:21:25.491Z"
   },
   {
    "duration": 12,
    "start_time": "2023-04-04T06:21:25.539Z"
   },
   {
    "duration": 10,
    "start_time": "2023-04-04T06:21:25.552Z"
   },
   {
    "duration": 11,
    "start_time": "2023-04-04T06:21:25.587Z"
   },
   {
    "duration": 14,
    "start_time": "2023-04-04T06:21:25.599Z"
   },
   {
    "duration": 30,
    "start_time": "2023-04-04T06:21:25.615Z"
   },
   {
    "duration": 65,
    "start_time": "2023-04-04T06:21:25.647Z"
   },
   {
    "duration": 184,
    "start_time": "2023-04-04T06:21:25.713Z"
   },
   {
    "duration": 261,
    "start_time": "2023-04-04T06:21:25.898Z"
   },
   {
    "duration": 9,
    "start_time": "2023-04-04T06:21:26.160Z"
   },
   {
    "duration": 16,
    "start_time": "2023-04-04T06:21:26.171Z"
   },
   {
    "duration": 6,
    "start_time": "2023-04-04T06:21:26.189Z"
   },
   {
    "duration": 10,
    "start_time": "2023-04-04T06:21:26.196Z"
   },
   {
    "duration": 10,
    "start_time": "2023-04-04T06:21:26.208Z"
   },
   {
    "duration": 17,
    "start_time": "2023-04-04T06:21:26.220Z"
   },
   {
    "duration": 7,
    "start_time": "2023-04-04T06:21:26.239Z"
   },
   {
    "duration": 85,
    "start_time": "2023-04-04T06:21:26.247Z"
   },
   {
    "duration": 64,
    "start_time": "2023-04-04T06:21:26.333Z"
   },
   {
    "duration": 90,
    "start_time": "2023-04-04T06:21:26.399Z"
   },
   {
    "duration": 59,
    "start_time": "2023-04-04T06:21:26.491Z"
   },
   {
    "duration": 1149,
    "start_time": "2023-04-04T15:11:29.558Z"
   },
   {
    "duration": 164,
    "start_time": "2023-04-04T15:11:30.708Z"
   },
   {
    "duration": 20,
    "start_time": "2023-04-04T15:11:30.873Z"
   },
   {
    "duration": 34,
    "start_time": "2023-04-04T15:11:30.895Z"
   },
   {
    "duration": 74,
    "start_time": "2023-04-04T15:11:30.930Z"
   },
   {
    "duration": 27,
    "start_time": "2023-04-04T15:11:31.005Z"
   },
   {
    "duration": 83,
    "start_time": "2023-04-04T15:11:31.034Z"
   },
   {
    "duration": 109,
    "start_time": "2023-04-04T15:11:31.119Z"
   },
   {
    "duration": 42,
    "start_time": "2023-04-04T15:11:31.229Z"
   },
   {
    "duration": 133,
    "start_time": "2023-04-04T15:11:31.274Z"
   },
   {
    "duration": 96,
    "start_time": "2023-04-04T15:11:31.409Z"
   },
   {
    "duration": 3,
    "start_time": "2023-04-04T15:11:31.507Z"
   },
   {
    "duration": 54,
    "start_time": "2023-04-04T15:11:31.511Z"
   },
   {
    "duration": 30,
    "start_time": "2023-04-04T15:11:31.567Z"
   },
   {
    "duration": 22,
    "start_time": "2023-04-04T15:11:31.598Z"
   },
   {
    "duration": 119,
    "start_time": "2023-04-04T15:11:31.622Z"
   },
   {
    "duration": 7,
    "start_time": "2023-04-04T15:11:31.743Z"
   },
   {
    "duration": 296,
    "start_time": "2023-04-04T15:11:31.751Z"
   },
   {
    "duration": 17,
    "start_time": "2023-04-04T15:11:32.049Z"
   },
   {
    "duration": 50,
    "start_time": "2023-04-04T15:11:32.068Z"
   },
   {
    "duration": 827,
    "start_time": "2023-04-04T15:11:32.119Z"
   },
   {
    "duration": 525,
    "start_time": "2023-04-04T15:11:32.948Z"
   },
   {
    "duration": 4,
    "start_time": "2023-04-04T15:11:33.475Z"
   },
   {
    "duration": 39,
    "start_time": "2023-04-04T15:11:33.481Z"
   },
   {
    "duration": 15,
    "start_time": "2023-04-04T15:11:33.521Z"
   },
   {
    "duration": 5,
    "start_time": "2023-04-04T15:11:33.537Z"
   },
   {
    "duration": 42,
    "start_time": "2023-04-04T15:11:33.543Z"
   },
   {
    "duration": 24,
    "start_time": "2023-04-04T15:11:33.588Z"
   },
   {
    "duration": 640,
    "start_time": "2023-04-04T15:11:33.613Z"
   },
   {
    "duration": 225,
    "start_time": "2023-04-04T15:11:34.255Z"
   },
   {
    "duration": 64,
    "start_time": "2023-04-04T15:11:34.481Z"
   },
   {
    "duration": 21,
    "start_time": "2023-04-04T15:11:34.547Z"
   },
   {
    "duration": 40,
    "start_time": "2023-04-04T15:11:34.569Z"
   },
   {
    "duration": 38,
    "start_time": "2023-04-04T15:11:34.610Z"
   },
   {
    "duration": 36,
    "start_time": "2023-04-04T15:11:34.650Z"
   },
   {
    "duration": 23,
    "start_time": "2023-04-04T15:11:34.688Z"
   },
   {
    "duration": 20,
    "start_time": "2023-04-04T15:11:34.712Z"
   },
   {
    "duration": 33,
    "start_time": "2023-04-04T15:11:34.734Z"
   },
   {
    "duration": 34,
    "start_time": "2023-04-04T15:11:34.768Z"
   },
   {
    "duration": 205,
    "start_time": "2023-04-04T15:11:34.804Z"
   },
   {
    "duration": 232,
    "start_time": "2023-04-04T15:11:35.011Z"
   },
   {
    "duration": 8,
    "start_time": "2023-04-04T15:11:35.245Z"
   },
   {
    "duration": 12,
    "start_time": "2023-04-04T15:11:35.254Z"
   },
   {
    "duration": 9,
    "start_time": "2023-04-04T15:11:35.268Z"
   },
   {
    "duration": 25,
    "start_time": "2023-04-04T15:11:35.278Z"
   },
   {
    "duration": 7,
    "start_time": "2023-04-04T15:11:35.305Z"
   },
   {
    "duration": 18,
    "start_time": "2023-04-04T15:11:35.313Z"
   },
   {
    "duration": 12,
    "start_time": "2023-04-04T15:11:35.332Z"
   },
   {
    "duration": 48,
    "start_time": "2023-04-04T15:11:35.345Z"
   },
   {
    "duration": 57,
    "start_time": "2023-04-04T15:11:35.395Z"
   },
   {
    "duration": 44,
    "start_time": "2023-04-04T15:11:35.454Z"
   },
   {
    "duration": 59,
    "start_time": "2023-04-04T15:11:35.500Z"
   },
   {
    "duration": 1645,
    "start_time": "2023-04-20T07:10:03.568Z"
   },
   {
    "duration": 644,
    "start_time": "2023-04-20T07:10:05.216Z"
   },
   {
    "duration": 36,
    "start_time": "2023-04-20T07:10:05.863Z"
   },
   {
    "duration": 28,
    "start_time": "2023-04-20T07:10:05.904Z"
   },
   {
    "duration": 39,
    "start_time": "2023-04-20T07:10:05.935Z"
   },
   {
    "duration": 22,
    "start_time": "2023-04-20T07:10:05.976Z"
   },
   {
    "duration": 43,
    "start_time": "2023-04-20T07:10:06.003Z"
   },
   {
    "duration": 124,
    "start_time": "2023-04-20T07:10:06.048Z"
   },
   {
    "duration": 48,
    "start_time": "2023-04-20T07:10:06.175Z"
   },
   {
    "duration": 129,
    "start_time": "2023-04-20T07:10:06.227Z"
   },
   {
    "duration": 138,
    "start_time": "2023-04-20T07:10:06.359Z"
   },
   {
    "duration": 7,
    "start_time": "2023-04-20T07:10:06.499Z"
   },
   {
    "duration": 71,
    "start_time": "2023-04-20T07:10:06.509Z"
   },
   {
    "duration": 49,
    "start_time": "2023-04-20T07:10:06.582Z"
   },
   {
    "duration": 58,
    "start_time": "2023-04-20T07:10:06.634Z"
   },
   {
    "duration": 238,
    "start_time": "2023-04-20T07:10:06.696Z"
   },
   {
    "duration": 10,
    "start_time": "2023-04-20T07:10:06.936Z"
   },
   {
    "duration": 441,
    "start_time": "2023-04-20T07:10:06.948Z"
   },
   {
    "duration": 33,
    "start_time": "2023-04-20T07:10:07.391Z"
   },
   {
    "duration": 81,
    "start_time": "2023-04-20T07:10:07.426Z"
   },
   {
    "duration": 1352,
    "start_time": "2023-04-20T07:10:07.509Z"
   },
   {
    "duration": 770,
    "start_time": "2023-04-20T07:10:08.864Z"
   },
   {
    "duration": 7,
    "start_time": "2023-04-20T07:10:09.636Z"
   },
   {
    "duration": 81,
    "start_time": "2023-04-20T07:10:09.645Z"
   },
   {
    "duration": 11,
    "start_time": "2023-04-20T07:10:09.728Z"
   },
   {
    "duration": 65,
    "start_time": "2023-04-20T07:10:09.740Z"
   },
   {
    "duration": 77,
    "start_time": "2023-04-20T07:10:09.808Z"
   },
   {
    "duration": 37,
    "start_time": "2023-04-20T07:10:09.894Z"
   },
   {
    "duration": 686,
    "start_time": "2023-04-20T07:10:09.933Z"
   },
   {
    "duration": 322,
    "start_time": "2023-04-20T07:10:10.622Z"
   },
   {
    "duration": 105,
    "start_time": "2023-04-20T07:10:10.947Z"
   },
   {
    "duration": 36,
    "start_time": "2023-04-20T07:10:11.055Z"
   },
   {
    "duration": 72,
    "start_time": "2023-04-20T07:10:11.093Z"
   },
   {
    "duration": 25,
    "start_time": "2023-04-20T07:10:11.170Z"
   },
   {
    "duration": 47,
    "start_time": "2023-04-20T07:10:11.197Z"
   },
   {
    "duration": 15,
    "start_time": "2023-04-20T07:10:11.246Z"
   },
   {
    "duration": 12,
    "start_time": "2023-04-20T07:10:17.240Z"
   },
   {
    "duration": 15,
    "start_time": "2023-04-20T07:10:17.820Z"
   },
   {
    "duration": 1810,
    "start_time": "2023-05-26T10:35:02.511Z"
   },
   {
    "duration": 791,
    "start_time": "2023-05-26T10:35:04.323Z"
   },
   {
    "duration": 26,
    "start_time": "2023-05-26T10:35:05.115Z"
   },
   {
    "duration": 5,
    "start_time": "2023-05-26T10:35:05.143Z"
   },
   {
    "duration": 32,
    "start_time": "2023-05-26T10:35:05.160Z"
   },
   {
    "duration": 31,
    "start_time": "2023-05-26T10:35:05.194Z"
   },
   {
    "duration": 43,
    "start_time": "2023-05-26T10:35:05.227Z"
   },
   {
    "duration": 113,
    "start_time": "2023-05-26T10:35:05.272Z"
   },
   {
    "duration": 14,
    "start_time": "2023-05-26T10:35:05.388Z"
   },
   {
    "duration": 122,
    "start_time": "2023-05-26T10:35:05.404Z"
   },
   {
    "duration": 135,
    "start_time": "2023-05-26T10:35:05.527Z"
   },
   {
    "duration": 4,
    "start_time": "2023-05-26T10:35:05.664Z"
   },
   {
    "duration": 57,
    "start_time": "2023-05-26T10:35:05.670Z"
   },
   {
    "duration": 57,
    "start_time": "2023-05-26T10:35:05.733Z"
   },
   {
    "duration": 20,
    "start_time": "2023-05-26T10:35:05.793Z"
   },
   {
    "duration": 189,
    "start_time": "2023-05-26T10:35:05.815Z"
   },
   {
    "duration": 13,
    "start_time": "2023-05-26T10:35:06.006Z"
   },
   {
    "duration": 493,
    "start_time": "2023-05-26T10:35:06.022Z"
   },
   {
    "duration": 29,
    "start_time": "2023-05-26T10:35:06.518Z"
   },
   {
    "duration": 39,
    "start_time": "2023-05-26T10:35:06.550Z"
   },
   {
    "duration": 1267,
    "start_time": "2023-05-26T10:35:06.591Z"
   },
   {
    "duration": 762,
    "start_time": "2023-05-26T10:35:07.861Z"
   },
   {
    "duration": 6,
    "start_time": "2023-05-26T10:35:08.626Z"
   },
   {
    "duration": 57,
    "start_time": "2023-05-26T10:35:08.633Z"
   },
   {
    "duration": 9,
    "start_time": "2023-05-26T10:35:08.693Z"
   },
   {
    "duration": 11,
    "start_time": "2023-05-26T10:35:08.704Z"
   },
   {
    "duration": 73,
    "start_time": "2023-05-26T10:35:08.717Z"
   },
   {
    "duration": 49,
    "start_time": "2023-05-26T10:35:08.792Z"
   },
   {
    "duration": 776,
    "start_time": "2023-05-26T10:35:08.846Z"
   },
   {
    "duration": 271,
    "start_time": "2023-05-26T10:35:09.624Z"
   },
   {
    "duration": 108,
    "start_time": "2023-05-26T10:35:09.897Z"
   },
   {
    "duration": 55,
    "start_time": "2023-05-26T10:35:10.007Z"
   },
   {
    "duration": 56,
    "start_time": "2023-05-26T10:35:10.065Z"
   },
   {
    "duration": 38,
    "start_time": "2023-05-26T10:35:10.123Z"
   },
   {
    "duration": 9,
    "start_time": "2023-05-26T10:35:10.164Z"
   },
   {
    "duration": 16,
    "start_time": "2023-05-26T10:35:10.175Z"
   },
   {
    "duration": 25,
    "start_time": "2023-05-26T10:35:10.194Z"
   },
   {
    "duration": 67,
    "start_time": "2023-05-26T10:35:10.220Z"
   },
   {
    "duration": 73,
    "start_time": "2023-05-26T10:35:10.290Z"
   },
   {
    "duration": 233,
    "start_time": "2023-05-26T10:35:10.366Z"
   },
   {
    "duration": 279,
    "start_time": "2023-05-26T10:35:10.604Z"
   },
   {
    "duration": 15,
    "start_time": "2023-05-26T10:35:10.885Z"
   },
   {
    "duration": 11,
    "start_time": "2023-05-26T10:35:10.903Z"
   },
   {
    "duration": 7,
    "start_time": "2023-05-26T10:35:10.916Z"
   },
   {
    "duration": 35,
    "start_time": "2023-05-26T10:35:10.925Z"
   },
   {
    "duration": 12,
    "start_time": "2023-05-26T10:35:10.962Z"
   },
   {
    "duration": 30,
    "start_time": "2023-05-26T10:35:10.977Z"
   },
   {
    "duration": 7,
    "start_time": "2023-05-26T10:35:11.010Z"
   },
   {
    "duration": 92,
    "start_time": "2023-05-26T10:35:11.019Z"
   },
   {
    "duration": 72,
    "start_time": "2023-05-26T10:35:11.113Z"
   },
   {
    "duration": 77,
    "start_time": "2023-05-26T10:35:11.187Z"
   },
   {
    "duration": 95,
    "start_time": "2023-05-26T10:35:11.267Z"
   },
   {
    "duration": 1277,
    "start_time": "2023-05-26T15:49:18.037Z"
   },
   {
    "duration": 499,
    "start_time": "2023-05-26T15:49:19.316Z"
   },
   {
    "duration": 30,
    "start_time": "2023-05-26T15:49:19.817Z"
   },
   {
    "duration": 4,
    "start_time": "2023-05-26T15:49:19.850Z"
   },
   {
    "duration": 12,
    "start_time": "2023-05-26T15:49:19.855Z"
   },
   {
    "duration": 21,
    "start_time": "2023-05-26T15:49:19.868Z"
   },
   {
    "duration": 39,
    "start_time": "2023-05-26T15:49:19.891Z"
   },
   {
    "duration": 79,
    "start_time": "2023-05-26T15:49:19.932Z"
   },
   {
    "duration": 18,
    "start_time": "2023-05-26T15:49:20.025Z"
   },
   {
    "duration": 117,
    "start_time": "2023-05-26T15:49:20.048Z"
   },
   {
    "duration": 112,
    "start_time": "2023-05-26T15:49:20.166Z"
   },
   {
    "duration": 3,
    "start_time": "2023-05-26T15:49:20.279Z"
   },
   {
    "duration": 38,
    "start_time": "2023-05-26T15:49:20.284Z"
   },
   {
    "duration": 47,
    "start_time": "2023-05-26T15:49:20.324Z"
   },
   {
    "duration": 27,
    "start_time": "2023-05-26T15:49:20.372Z"
   },
   {
    "duration": 148,
    "start_time": "2023-05-26T15:49:20.401Z"
   },
   {
    "duration": 7,
    "start_time": "2023-05-26T15:49:20.551Z"
   },
   {
    "duration": 306,
    "start_time": "2023-05-26T15:49:20.560Z"
   },
   {
    "duration": 20,
    "start_time": "2023-05-26T15:49:20.868Z"
   },
   {
    "duration": 45,
    "start_time": "2023-05-26T15:49:20.889Z"
   },
   {
    "duration": 971,
    "start_time": "2023-05-26T15:49:20.936Z"
   },
   {
    "duration": 645,
    "start_time": "2023-05-26T15:49:21.909Z"
   },
   {
    "duration": 4,
    "start_time": "2023-05-26T15:49:22.556Z"
   },
   {
    "duration": 41,
    "start_time": "2023-05-26T15:49:22.562Z"
   },
   {
    "duration": 20,
    "start_time": "2023-05-26T15:49:22.605Z"
   },
   {
    "duration": 5,
    "start_time": "2023-05-26T15:49:22.626Z"
   },
   {
    "duration": 52,
    "start_time": "2023-05-26T15:49:22.632Z"
   },
   {
    "duration": 41,
    "start_time": "2023-05-26T15:49:22.688Z"
   },
   {
    "duration": 510,
    "start_time": "2023-05-26T15:49:22.731Z"
   },
   {
    "duration": 259,
    "start_time": "2023-05-26T15:49:23.242Z"
   },
   {
    "duration": 68,
    "start_time": "2023-05-26T15:49:23.503Z"
   },
   {
    "duration": 23,
    "start_time": "2023-05-26T15:49:23.573Z"
   },
   {
    "duration": 71,
    "start_time": "2023-05-26T15:49:23.598Z"
   },
   {
    "duration": 10,
    "start_time": "2023-05-26T15:49:23.670Z"
   },
   {
    "duration": 9,
    "start_time": "2023-05-26T15:49:23.682Z"
   },
   {
    "duration": 13,
    "start_time": "2023-05-26T15:49:23.692Z"
   },
   {
    "duration": 33,
    "start_time": "2023-05-26T15:49:23.706Z"
   },
   {
    "duration": 44,
    "start_time": "2023-05-26T15:49:23.740Z"
   },
   {
    "duration": 52,
    "start_time": "2023-05-26T15:49:23.786Z"
   },
   {
    "duration": 186,
    "start_time": "2023-05-26T15:49:23.839Z"
   },
   {
    "duration": 250,
    "start_time": "2023-05-26T15:49:24.027Z"
   },
   {
    "duration": 9,
    "start_time": "2023-05-26T15:49:24.279Z"
   },
   {
    "duration": 7,
    "start_time": "2023-05-26T15:49:24.290Z"
   },
   {
    "duration": 9,
    "start_time": "2023-05-26T15:49:24.299Z"
   },
   {
    "duration": 19,
    "start_time": "2023-05-26T15:49:24.309Z"
   },
   {
    "duration": 7,
    "start_time": "2023-05-26T15:49:24.330Z"
   },
   {
    "duration": 18,
    "start_time": "2023-05-26T15:49:24.339Z"
   },
   {
    "duration": 9,
    "start_time": "2023-05-26T15:49:24.359Z"
   },
   {
    "duration": 64,
    "start_time": "2023-05-26T15:49:24.369Z"
   },
   {
    "duration": 46,
    "start_time": "2023-05-26T15:49:24.435Z"
   },
   {
    "duration": 72,
    "start_time": "2023-05-26T15:49:24.483Z"
   },
   {
    "duration": 43,
    "start_time": "2023-05-26T15:49:24.556Z"
   },
   {
    "duration": 1243,
    "start_time": "2023-05-27T05:37:22.590Z"
   },
   {
    "duration": 549,
    "start_time": "2023-05-27T05:37:23.835Z"
   },
   {
    "duration": 20,
    "start_time": "2023-05-27T05:37:24.386Z"
   },
   {
    "duration": 3,
    "start_time": "2023-05-27T05:37:24.409Z"
   },
   {
    "duration": 17,
    "start_time": "2023-05-27T05:37:24.414Z"
   },
   {
    "duration": 16,
    "start_time": "2023-05-27T05:37:24.433Z"
   },
   {
    "duration": 18,
    "start_time": "2023-05-27T05:37:24.451Z"
   },
   {
    "duration": 80,
    "start_time": "2023-05-27T05:37:24.471Z"
   },
   {
    "duration": 15,
    "start_time": "2023-05-27T05:37:24.552Z"
   },
   {
    "duration": 91,
    "start_time": "2023-05-27T05:37:24.570Z"
   },
   {
    "duration": 99,
    "start_time": "2023-05-27T05:37:24.662Z"
   },
   {
    "duration": 3,
    "start_time": "2023-05-27T05:37:24.763Z"
   },
   {
    "duration": 31,
    "start_time": "2023-05-27T05:37:24.768Z"
   },
   {
    "duration": 42,
    "start_time": "2023-05-27T05:37:24.800Z"
   },
   {
    "duration": 18,
    "start_time": "2023-05-27T05:37:24.844Z"
   },
   {
    "duration": 122,
    "start_time": "2023-05-27T05:37:24.864Z"
   },
   {
    "duration": 8,
    "start_time": "2023-05-27T05:37:24.988Z"
   },
   {
    "duration": 292,
    "start_time": "2023-05-27T05:37:24.997Z"
   },
   {
    "duration": 18,
    "start_time": "2023-05-27T05:37:25.291Z"
   },
   {
    "duration": 40,
    "start_time": "2023-05-27T05:37:25.311Z"
   },
   {
    "duration": 928,
    "start_time": "2023-05-27T05:37:25.352Z"
   },
   {
    "duration": 559,
    "start_time": "2023-05-27T05:37:26.282Z"
   },
   {
    "duration": 5,
    "start_time": "2023-05-27T05:37:26.843Z"
   },
   {
    "duration": 34,
    "start_time": "2023-05-27T05:37:26.849Z"
   },
   {
    "duration": 8,
    "start_time": "2023-05-27T05:37:26.885Z"
   },
   {
    "duration": 6,
    "start_time": "2023-05-27T05:37:26.894Z"
   },
   {
    "duration": 64,
    "start_time": "2023-05-27T05:37:26.901Z"
   },
   {
    "duration": 28,
    "start_time": "2023-05-27T05:37:26.968Z"
   },
   {
    "duration": 496,
    "start_time": "2023-05-27T05:37:26.998Z"
   },
   {
    "duration": 197,
    "start_time": "2023-05-27T05:37:27.496Z"
   },
   {
    "duration": 67,
    "start_time": "2023-05-27T05:37:27.695Z"
   },
   {
    "duration": 22,
    "start_time": "2023-05-27T05:37:27.764Z"
   },
   {
    "duration": 60,
    "start_time": "2023-05-27T05:37:27.788Z"
   },
   {
    "duration": 10,
    "start_time": "2023-05-27T05:37:27.849Z"
   },
   {
    "duration": 14,
    "start_time": "2023-05-27T05:37:27.860Z"
   },
   {
    "duration": 15,
    "start_time": "2023-05-27T05:37:27.875Z"
   },
   {
    "duration": 14,
    "start_time": "2023-05-27T05:37:27.891Z"
   },
   {
    "duration": 47,
    "start_time": "2023-05-27T05:37:27.906Z"
   },
   {
    "duration": 35,
    "start_time": "2023-05-27T05:37:27.955Z"
   },
   {
    "duration": 192,
    "start_time": "2023-05-27T05:37:27.992Z"
   },
   {
    "duration": 279,
    "start_time": "2023-05-27T05:37:28.186Z"
   },
   {
    "duration": 9,
    "start_time": "2023-05-27T05:37:28.467Z"
   },
   {
    "duration": 9,
    "start_time": "2023-05-27T05:37:28.478Z"
   },
   {
    "duration": 9,
    "start_time": "2023-05-27T05:37:28.489Z"
   },
   {
    "duration": 14,
    "start_time": "2023-05-27T05:37:28.500Z"
   },
   {
    "duration": 26,
    "start_time": "2023-05-27T05:37:28.516Z"
   },
   {
    "duration": 17,
    "start_time": "2023-05-27T05:37:28.544Z"
   },
   {
    "duration": 34,
    "start_time": "2023-05-27T05:37:28.563Z"
   },
   {
    "duration": 59,
    "start_time": "2023-05-27T05:37:28.599Z"
   },
   {
    "duration": 46,
    "start_time": "2023-05-27T05:37:28.659Z"
   },
   {
    "duration": 60,
    "start_time": "2023-05-27T05:37:28.707Z"
   },
   {
    "duration": 46,
    "start_time": "2023-05-27T05:37:28.769Z"
   }
  ],
  "kernelspec": {
   "display_name": "Python 3 (ipykernel)",
   "language": "python",
   "name": "python3"
  },
  "language_info": {
   "codemirror_mode": {
    "name": "ipython",
    "version": 3
   },
   "file_extension": ".py",
   "mimetype": "text/x-python",
   "name": "python",
   "nbconvert_exporter": "python",
   "pygments_lexer": "ipython3",
   "version": "3.9.13"
  },
  "toc": {
   "base_numbering": 1,
   "nav_menu": {},
   "number_sections": true,
   "sideBar": true,
   "skip_h1_title": false,
   "title_cell": "Содержание",
   "title_sidebar": "Contents",
   "toc_cell": true,
   "toc_position": {
    "height": "calc(100% - 180px)",
    "left": "10px",
    "top": "150px",
    "width": "377.344px"
   },
   "toc_section_display": true,
   "toc_window_display": true
  }
 },
 "nbformat": 4,
 "nbformat_minor": 2
}
