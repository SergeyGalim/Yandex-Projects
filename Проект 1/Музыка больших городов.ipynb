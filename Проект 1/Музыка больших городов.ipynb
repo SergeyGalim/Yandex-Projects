{
 "cells": [
  {
   "cell_type": "markdown",
   "metadata": {},
   "source": [
    "<center><b><font size=\"5\">Проект 1: Музыка больших городов</font></b></center>"
   ]
  },
  {
   "cell_type": "markdown",
   "metadata": {
    "toc": true
   },
   "source": [
    "<h1>Содержание<span class=\"tocSkip\"></span></h1>\n",
    "<div class=\"toc\"><ul class=\"toc-item\"><li><span><a href=\"#Обзор-данных\" data-toc-modified-id=\"Обзор-данных-1\"><span class=\"toc-item-num\">1&nbsp;&nbsp;</span>Обзор данных</a></span></li><li><span><a href=\"#Предобработка-данных\" data-toc-modified-id=\"Предобработка-данных-2\"><span class=\"toc-item-num\">2&nbsp;&nbsp;</span>Предобработка данных</a></span><ul class=\"toc-item\"><li><span><a href=\"#Стиль-заголовков\" data-toc-modified-id=\"Стиль-заголовков-2.1\"><span class=\"toc-item-num\">2.1&nbsp;&nbsp;</span>Стиль заголовков</a></span></li><li><span><a href=\"#Пропуски-значений\" data-toc-modified-id=\"Пропуски-значений-2.2\"><span class=\"toc-item-num\">2.2&nbsp;&nbsp;</span>Пропуски значений</a></span></li><li><span><a href=\"#Дубликаты\" data-toc-modified-id=\"Дубликаты-2.3\"><span class=\"toc-item-num\">2.3&nbsp;&nbsp;</span>Дубликаты</a></span></li></ul></li><li><span><a href=\"#Проверка-гипотез\" data-toc-modified-id=\"Проверка-гипотез-3\"><span class=\"toc-item-num\">3&nbsp;&nbsp;</span>Проверка гипотез</a></span><ul class=\"toc-item\"><li><span><a href=\"#Сравнение-поведения-пользователей-двух-столиц\" data-toc-modified-id=\"Сравнение-поведения-пользователей-двух-столиц-3.1\"><span class=\"toc-item-num\">3.1&nbsp;&nbsp;</span>Сравнение поведения пользователей двух столиц</a></span></li><li><span><a href=\"#Музыка-в-начале-и-в-конце-недели\" data-toc-modified-id=\"Музыка-в-начале-и-в-конце-недели-3.2\"><span class=\"toc-item-num\">3.2&nbsp;&nbsp;</span>Музыка в начале и в конце недели</a></span></li><li><span><a href=\"#Жанровые-предпочтения-в-Москве-и-Петербурге\" data-toc-modified-id=\"Жанровые-предпочтения-в-Москве-и-Петербурге-3.3\"><span class=\"toc-item-num\">3.3&nbsp;&nbsp;</span>Жанровые предпочтения в Москве и Петербурге</a></span></li></ul></li><li><span><a href=\"#Итоги-исследования\" data-toc-modified-id=\"Итоги-исследования-4\"><span class=\"toc-item-num\">4&nbsp;&nbsp;</span>Итоги исследования</a></span></li></ul></div>"
   ]
  },
  {
   "cell_type": "markdown",
   "metadata": {
    "id": "Ml1hmfXC_Zcs",
    "tags": []
   },
   "source": [
    "## Обзор данных"
   ]
  },
  {
   "cell_type": "code",
   "execution_count": 1,
   "metadata": {
    "id": "AXN7PHPN_Zcs",
    "tags": []
   },
   "outputs": [],
   "source": [
    "# импортируем библиотеку pandas\n",
    "import pandas as pd"
   ]
  },
  {
   "cell_type": "code",
   "execution_count": 2,
   "metadata": {
    "id": "fFVu7vqh_Zct",
    "tags": []
   },
   "outputs": [],
   "source": [
    "# прочитаем файл с данными и сохраним в переменную df\n",
    "df = pd.read_csv('ya_mus_.csv')"
   ]
  },
  {
   "cell_type": "code",
   "execution_count": 3,
   "metadata": {
    "id": "oWTVX3gW_Zct",
    "tags": []
   },
   "outputs": [
    {
     "data": {
      "text/html": [
       "<div>\n",
       "<style scoped>\n",
       "    .dataframe tbody tr th:only-of-type {\n",
       "        vertical-align: middle;\n",
       "    }\n",
       "\n",
       "    .dataframe tbody tr th {\n",
       "        vertical-align: top;\n",
       "    }\n",
       "\n",
       "    .dataframe thead th {\n",
       "        text-align: right;\n",
       "    }\n",
       "</style>\n",
       "<table border=\"1\" class=\"dataframe\">\n",
       "  <thead>\n",
       "    <tr style=\"text-align: right;\">\n",
       "      <th></th>\n",
       "      <th>userID</th>\n",
       "      <th>Track</th>\n",
       "      <th>artist</th>\n",
       "      <th>genre</th>\n",
       "      <th>City</th>\n",
       "      <th>time</th>\n",
       "      <th>Day</th>\n",
       "    </tr>\n",
       "  </thead>\n",
       "  <tbody>\n",
       "    <tr>\n",
       "      <th>0</th>\n",
       "      <td>FFB692EC</td>\n",
       "      <td>Kamigata To Boots</td>\n",
       "      <td>The Mass Missile</td>\n",
       "      <td>rock</td>\n",
       "      <td>Saint-Petersburg</td>\n",
       "      <td>20:28:33</td>\n",
       "      <td>Wednesday</td>\n",
       "    </tr>\n",
       "    <tr>\n",
       "      <th>1</th>\n",
       "      <td>55204538</td>\n",
       "      <td>Delayed Because of Accident</td>\n",
       "      <td>Andreas Rönnberg</td>\n",
       "      <td>rock</td>\n",
       "      <td>Moscow</td>\n",
       "      <td>14:07:09</td>\n",
       "      <td>Friday</td>\n",
       "    </tr>\n",
       "    <tr>\n",
       "      <th>2</th>\n",
       "      <td>20EC38</td>\n",
       "      <td>Funiculì funiculà</td>\n",
       "      <td>Mario Lanza</td>\n",
       "      <td>pop</td>\n",
       "      <td>Saint-Petersburg</td>\n",
       "      <td>20:58:07</td>\n",
       "      <td>Wednesday</td>\n",
       "    </tr>\n",
       "    <tr>\n",
       "      <th>3</th>\n",
       "      <td>A3DD03C9</td>\n",
       "      <td>Dragons in the Sunset</td>\n",
       "      <td>Fire + Ice</td>\n",
       "      <td>folk</td>\n",
       "      <td>Saint-Petersburg</td>\n",
       "      <td>08:37:09</td>\n",
       "      <td>Monday</td>\n",
       "    </tr>\n",
       "    <tr>\n",
       "      <th>4</th>\n",
       "      <td>E2DC1FAE</td>\n",
       "      <td>Soul People</td>\n",
       "      <td>Space Echo</td>\n",
       "      <td>dance</td>\n",
       "      <td>Moscow</td>\n",
       "      <td>08:34:34</td>\n",
       "      <td>Monday</td>\n",
       "    </tr>\n",
       "    <tr>\n",
       "      <th>5</th>\n",
       "      <td>842029A1</td>\n",
       "      <td>Преданная</td>\n",
       "      <td>IMPERVTOR</td>\n",
       "      <td>rusrap</td>\n",
       "      <td>Saint-Petersburg</td>\n",
       "      <td>13:09:41</td>\n",
       "      <td>Friday</td>\n",
       "    </tr>\n",
       "    <tr>\n",
       "      <th>6</th>\n",
       "      <td>4CB90AA5</td>\n",
       "      <td>True</td>\n",
       "      <td>Roman Messer</td>\n",
       "      <td>dance</td>\n",
       "      <td>Moscow</td>\n",
       "      <td>13:00:07</td>\n",
       "      <td>Wednesday</td>\n",
       "    </tr>\n",
       "    <tr>\n",
       "      <th>7</th>\n",
       "      <td>F03E1C1F</td>\n",
       "      <td>Feeling This Way</td>\n",
       "      <td>Polina Griffith</td>\n",
       "      <td>dance</td>\n",
       "      <td>Moscow</td>\n",
       "      <td>20:47:49</td>\n",
       "      <td>Wednesday</td>\n",
       "    </tr>\n",
       "    <tr>\n",
       "      <th>8</th>\n",
       "      <td>8FA1D3BE</td>\n",
       "      <td>И вновь продолжается бой</td>\n",
       "      <td>NaN</td>\n",
       "      <td>ruspop</td>\n",
       "      <td>Moscow</td>\n",
       "      <td>09:17:40</td>\n",
       "      <td>Friday</td>\n",
       "    </tr>\n",
       "    <tr>\n",
       "      <th>9</th>\n",
       "      <td>E772D5C0</td>\n",
       "      <td>Pessimist</td>\n",
       "      <td>NaN</td>\n",
       "      <td>dance</td>\n",
       "      <td>Saint-Petersburg</td>\n",
       "      <td>21:20:49</td>\n",
       "      <td>Wednesday</td>\n",
       "    </tr>\n",
       "  </tbody>\n",
       "</table>\n",
       "</div>"
      ],
      "text/plain": [
       "     userID                        Track            artist   genre  \\\n",
       "0  FFB692EC            Kamigata To Boots  The Mass Missile    rock   \n",
       "1  55204538  Delayed Because of Accident  Andreas Rönnberg    rock   \n",
       "2    20EC38            Funiculì funiculà       Mario Lanza     pop   \n",
       "3  A3DD03C9        Dragons in the Sunset        Fire + Ice    folk   \n",
       "4  E2DC1FAE                  Soul People        Space Echo   dance   \n",
       "5  842029A1                    Преданная         IMPERVTOR  rusrap   \n",
       "6  4CB90AA5                         True      Roman Messer   dance   \n",
       "7  F03E1C1F             Feeling This Way   Polina Griffith   dance   \n",
       "8  8FA1D3BE     И вновь продолжается бой               NaN  ruspop   \n",
       "9  E772D5C0                    Pessimist               NaN   dance   \n",
       "\n",
       "             City        time        Day  \n",
       "0  Saint-Petersburg  20:28:33  Wednesday  \n",
       "1            Moscow  14:07:09     Friday  \n",
       "2  Saint-Petersburg  20:58:07  Wednesday  \n",
       "3  Saint-Petersburg  08:37:09     Monday  \n",
       "4            Moscow  08:34:34     Monday  \n",
       "5  Saint-Petersburg  13:09:41     Friday  \n",
       "6            Moscow  13:00:07  Wednesday  \n",
       "7            Moscow  20:47:49  Wednesday  \n",
       "8            Moscow  09:17:40     Friday  \n",
       "9  Saint-Petersburg  21:20:49  Wednesday  "
      ]
     },
     "execution_count": 3,
     "metadata": {},
     "output_type": "execute_result"
    }
   ],
   "source": [
    "# выведем первые 10 строк таблицы df\n",
    "df.head(10)"
   ]
  },
  {
   "cell_type": "code",
   "execution_count": 4,
   "metadata": {
    "id": "DSf2kIb-_Zct",
    "tags": []
   },
   "outputs": [
    {
     "name": "stdout",
     "output_type": "stream",
     "text": [
      "<class 'pandas.core.frame.DataFrame'>\n",
      "RangeIndex: 65079 entries, 0 to 65078\n",
      "Data columns (total 7 columns):\n",
      " #   Column    Non-Null Count  Dtype \n",
      "---  ------    --------------  ----- \n",
      " 0     userID  65079 non-null  object\n",
      " 1   Track     63848 non-null  object\n",
      " 2   artist    57876 non-null  object\n",
      " 3   genre     63881 non-null  object\n",
      " 4     City    65079 non-null  object\n",
      " 5   time      65079 non-null  object\n",
      " 6   Day       65079 non-null  object\n",
      "dtypes: object(7)\n",
      "memory usage: 3.5+ MB\n"
     ]
    }
   ],
   "source": [
    "# получим общую информацию о данных в таблице df\n",
    "df.info()"
   ]
  },
  {
   "cell_type": "markdown",
   "metadata": {
    "id": "TaQ2Iwbr_Zct",
    "tags": []
   },
   "source": [
    "Итак, в таблице семь столбцов. Тип данных во всех столбцах — `object`.\n",
    "\n",
    "Количество значений в столбцах различается. Значит, в данных есть пропущенные значения."
   ]
  },
  {
   "cell_type": "markdown",
   "metadata": {
    "id": "MCB6-dXG_Zct",
    "tags": []
   },
   "source": [
    "**Выводы**\n",
    "\n",
    "Предварительно можно утверждать, что данных достаточно для проверки гипотез. Но встречаются пропуски в данных, а в названиях колонок — расхождения с хорошим стилем.\n",
    "\n",
    "Чтобы двигаться дальше, нужно устранить проблемы в данных."
   ]
  },
  {
   "cell_type": "markdown",
   "metadata": {
    "id": "SjYF6Ub9_Zct",
    "tags": []
   },
   "source": [
    "## Предобработка данных\n"
   ]
  },
  {
   "cell_type": "markdown",
   "metadata": {
    "id": "dIaKXr29_Zct",
    "tags": [
     "start_task"
    ]
   },
   "source": [
    "### Стиль заголовков"
   ]
  },
  {
   "cell_type": "code",
   "execution_count": 6,
   "metadata": {
    "id": "oKOTdF_Q_Zct",
    "scrolled": true,
    "tags": []
   },
   "outputs": [
    {
     "data": {
      "text/plain": [
       "Index(['  userID', 'Track', 'artist', 'genre', '  City  ', 'time', 'Day'], dtype='object')"
      ]
     },
     "execution_count": 6,
     "metadata": {},
     "output_type": "execute_result"
    }
   ],
   "source": [
    "# выведем перечень названий столбцов таблицы df\n",
    "df.columns"
   ]
  },
  {
   "cell_type": "markdown",
   "metadata": {
    "id": "zj5534cv_Zct",
    "tags": [
     "start_task"
    ]
   },
   "source": [
    "Колонки названы не в соответствии с хорошим стилем. Переименуем следующим образом:\n",
    "* `'  userID'` → `'user_id'`;\n",
    "* `'Track'` → `'track'`;\n",
    "* `'  City  '` → `'city'`;\n",
    "* `'Day'` → `'day'`."
   ]
  },
  {
   "cell_type": "code",
   "execution_count": 7,
   "metadata": {
    "id": "ISlFqs5y_Zct",
    "tags": []
   },
   "outputs": [],
   "source": [
    "# переименование столбцов\n",
    "df = df.rename(columns={'  userID': 'user_id', 'Track': 'track', '  City  ': 'city', 'Day': 'day'})"
   ]
  },
  {
   "cell_type": "code",
   "execution_count": 8,
   "metadata": {
    "id": "d4NOAmTW_Zct",
    "tags": []
   },
   "outputs": [
    {
     "data": {
      "text/plain": [
       "Index(['user_id', 'track', 'artist', 'genre', 'city', 'time', 'day'], dtype='object')"
      ]
     },
     "execution_count": 8,
     "metadata": {},
     "output_type": "execute_result"
    }
   ],
   "source": [
    "# проверим результат\n",
    "df.columns"
   ]
  },
  {
   "cell_type": "markdown",
   "metadata": {
    "id": "5ISfbcfY_Zct",
    "tags": [
     "start_task"
    ]
   },
   "source": [
    "### Пропуски значений\n",
    "Посчитаем, сколько в таблице пропущенных значений. "
   ]
  },
  {
   "cell_type": "code",
   "execution_count": 9,
   "metadata": {
    "id": "RskX29qr_Zct",
    "tags": []
   },
   "outputs": [
    {
     "data": {
      "text/plain": [
       "user_id       0\n",
       "track      1231\n",
       "artist     7203\n",
       "genre      1198\n",
       "city          0\n",
       "time          0\n",
       "day           0\n",
       "dtype: int64"
      ]
     },
     "execution_count": 9,
     "metadata": {},
     "output_type": "execute_result"
    }
   ],
   "source": [
    "df.isna().sum()"
   ]
  },
  {
   "cell_type": "markdown",
   "metadata": {
    "id": "qubhgnlO_Zct",
    "tags": []
   },
   "source": [
    "Не все пропущенные значения влияют на исследование. Так в `track` и `artist` пропуски не важны для нашей работы. Достаточно заменить их явными обозначениями.\n",
    "\n",
    "Но пропуски в `genre` могут помешать сравнению музыкальных вкусов в Москве и Санкт-Петербурге. На практике было бы правильно установить причину пропусков и восстановить данные. Такой возможности нет в учебном проекте. Придётся:\n",
    "* заполнить и эти пропуски явными обозначениями;\n",
    "* оценить, насколько они повредят расчётам. "
   ]
  },
  {
   "cell_type": "markdown",
   "metadata": {
    "id": "fSv2laPA_Zct",
    "tags": [
     "start_task"
    ]
   },
   "source": [
    "Заменим пропущенные значения в столбцах `track`, `artist` и `genre` на строку `'unknown'`. Для этого создадим список `columns_to_replace`, переберем его элементы циклом `for` и для каждого столбца выполним замену пропущенных значений:"
   ]
  },
  {
   "cell_type": "code",
   "execution_count": 10,
   "metadata": {
    "id": "KplB5qWs_Zct",
    "tags": []
   },
   "outputs": [],
   "source": [
    "columns_to_replace = ['track', 'artist', 'genre']\n",
    "for column in columns_to_replace:\n",
    "    df[column] = df[column].fillna('unknown')"
   ]
  },
  {
   "cell_type": "markdown",
   "metadata": {
    "id": "Ilsm-MZo_Zct",
    "tags": [
     "start_task"
    ]
   },
   "source": [
    "Убедимся, что в таблице не осталось пропусков. Для этого ещё раз посчитаем пропущенные значения."
   ]
  },
  {
   "cell_type": "code",
   "execution_count": 11,
   "metadata": {
    "id": "Tq4nYRX4_Zct",
    "tags": []
   },
   "outputs": [
    {
     "data": {
      "text/plain": [
       "user_id    0\n",
       "track      0\n",
       "artist     0\n",
       "genre      0\n",
       "city       0\n",
       "time       0\n",
       "day        0\n",
       "dtype: int64"
      ]
     },
     "execution_count": 11,
     "metadata": {},
     "output_type": "execute_result"
    }
   ],
   "source": [
    "df.isna().sum()"
   ]
  },
  {
   "cell_type": "markdown",
   "metadata": {
    "id": "BWKRtBJ3_Zct",
    "tags": [
     "start_task"
    ]
   },
   "source": [
    "### Дубликаты"
   ]
  },
  {
   "cell_type": "code",
   "execution_count": 12,
   "metadata": {
    "id": "36eES_S0_Zct",
    "tags": []
   },
   "outputs": [
    {
     "data": {
      "text/plain": [
       "3826"
      ]
     },
     "execution_count": 12,
     "metadata": {},
     "output_type": "execute_result"
    }
   ],
   "source": [
    "# посчитаем количество явных дубликатов\n",
    "df.duplicated().sum()"
   ]
  },
  {
   "cell_type": "code",
   "execution_count": 13,
   "metadata": {
    "id": "exFHq6tt_Zct",
    "tags": []
   },
   "outputs": [],
   "source": [
    "# удалим явные дубликаты\n",
    "df = df.drop_duplicates()# удаление явных дубликатов"
   ]
  },
  {
   "cell_type": "code",
   "execution_count": 14,
   "metadata": {
    "id": "-8PuNWQ0_Zct",
    "tags": []
   },
   "outputs": [
    {
     "data": {
      "text/plain": [
       "0"
      ]
     },
     "execution_count": 14,
     "metadata": {},
     "output_type": "execute_result"
    }
   ],
   "source": [
    "# проверим отсутствие дубликатов\n",
    "df.duplicated().sum()"
   ]
  },
  {
   "cell_type": "markdown",
   "metadata": {
    "id": "QlFBsxAr_Zct",
    "tags": []
   },
   "source": [
    "Теперь избавимся от неявных дубликатов в колонке `genre`. Например, название одного и того же жанра может быть записано немного по-разному. Такие ошибки тоже повлияют на результат исследования."
   ]
  },
  {
   "cell_type": "markdown",
   "metadata": {
    "id": "eSjWwsOh_Zct",
    "tags": [
     "start_task"
    ]
   },
   "source": [
    "Выведем на экран список уникальных названий жанров, отсортированный в алфавитном порядке."
   ]
  },
  {
   "cell_type": "code",
   "execution_count": 15,
   "metadata": {
    "id": "JIUcqzZN_Zct",
    "tags": []
   },
   "outputs": [
    {
     "data": {
      "text/plain": [
       "array(['acid', 'acoustic', 'action', 'adult', 'africa', 'afrikaans',\n",
       "       'alternative', 'alternativepunk', 'ambient', 'americana',\n",
       "       'animated', 'anime', 'arabesk', 'arabic', 'arena',\n",
       "       'argentinetango', 'art', 'audiobook', 'author', 'avantgarde',\n",
       "       'axé', 'baile', 'balkan', 'beats', 'bigroom', 'black', 'bluegrass',\n",
       "       'blues', 'bollywood', 'bossa', 'brazilian', 'breakbeat', 'breaks',\n",
       "       'broadway', 'cantautori', 'cantopop', 'canzone', 'caribbean',\n",
       "       'caucasian', 'celtic', 'chamber', 'chanson', 'children', 'chill',\n",
       "       'chinese', 'choral', 'christian', 'christmas', 'classical',\n",
       "       'classicmetal', 'club', 'colombian', 'comedy', 'conjazz',\n",
       "       'contemporary', 'country', 'cuban', 'dance', 'dancehall',\n",
       "       'dancepop', 'dark', 'death', 'deep', 'deutschrock', 'deutschspr',\n",
       "       'dirty', 'disco', 'dnb', 'documentary', 'downbeat', 'downtempo',\n",
       "       'drum', 'dub', 'dubstep', 'eastern', 'easy', 'electronic',\n",
       "       'electropop', 'emo', 'entehno', 'epicmetal', 'estrada', 'ethnic',\n",
       "       'eurofolk', 'european', 'experimental', 'extrememetal', 'fado',\n",
       "       'fairytail', 'film', 'fitness', 'flamenco', 'folk', 'folklore',\n",
       "       'folkmetal', 'folkrock', 'folktronica', 'forró', 'frankreich',\n",
       "       'französisch', 'french', 'funk', 'future', 'gangsta', 'garage',\n",
       "       'german', 'ghazal', 'gitarre', 'glitch', 'gospel', 'gothic',\n",
       "       'grime', 'grunge', 'gypsy', 'handsup', \"hard'n'heavy\", 'hardcore',\n",
       "       'hardstyle', 'hardtechno', 'hip', 'hip-hop', 'hiphop',\n",
       "       'historisch', 'holiday', 'hop', 'horror', 'house', 'hymn', 'idm',\n",
       "       'independent', 'indian', 'indie', 'indipop', 'industrial',\n",
       "       'inspirational', 'instrumental', 'international', 'irish', 'jam',\n",
       "       'japanese', 'jazz', 'jewish', 'jpop', 'jungle', 'k-pop',\n",
       "       'karadeniz', 'karaoke', 'kayokyoku', 'korean', 'laiko', 'latin',\n",
       "       'latino', 'leftfield', 'local', 'lounge', 'loungeelectronic',\n",
       "       'lovers', 'malaysian', 'mandopop', 'marschmusik', 'meditative',\n",
       "       'mediterranean', 'melodic', 'metal', 'metalcore', 'mexican',\n",
       "       'middle', 'minimal', 'miscellaneous', 'modern', 'mood', 'mpb',\n",
       "       'muslim', 'native', 'neoklassik', 'neue', 'new', 'newage',\n",
       "       'newwave', 'nu', 'nujazz', 'numetal', 'oceania', 'old', 'opera',\n",
       "       'orchestral', 'other', 'piano', 'podcasts', 'pop', 'popdance',\n",
       "       'popelectronic', 'popeurodance', 'poprussian', 'post',\n",
       "       'posthardcore', 'postrock', 'power', 'progmetal', 'progressive',\n",
       "       'psychedelic', 'punjabi', 'punk', 'quebecois', 'ragga', 'ram',\n",
       "       'rancheras', 'rap', 'rave', 'reggae', 'reggaeton', 'regional',\n",
       "       'relax', 'religious', 'retro', 'rhythm', 'rnb', 'rnr', 'rock',\n",
       "       'rockabilly', 'rockalternative', 'rockindie', 'rockother',\n",
       "       'romance', 'roots', 'ruspop', 'rusrap', 'rusrock', 'russian',\n",
       "       'salsa', 'samba', 'scenic', 'schlager', 'self', 'sertanejo',\n",
       "       'shanson', 'shoegazing', 'showtunes', 'singer', 'ska', 'skarock',\n",
       "       'slow', 'smooth', 'soft', 'soul', 'soulful', 'sound', 'soundtrack',\n",
       "       'southern', 'specialty', 'speech', 'spiritual', 'sport',\n",
       "       'stonerrock', 'surf', 'swing', 'synthpop', 'synthrock',\n",
       "       'sängerportrait', 'tango', 'tanzorchester', 'taraftar', 'tatar',\n",
       "       'tech', 'techno', 'teen', 'thrash', 'top', 'traditional',\n",
       "       'tradjazz', 'trance', 'tribal', 'trip', 'triphop', 'tropical',\n",
       "       'türk', 'türkçe', 'ukrrock', 'unknown', 'urban', 'uzbek',\n",
       "       'variété', 'vi', 'videogame', 'vocal', 'western', 'world',\n",
       "       'worldbeat', 'ïîï', 'электроника'], dtype=object)"
      ]
     },
     "execution_count": 15,
     "metadata": {},
     "output_type": "execute_result"
    }
   ],
   "source": [
    "# отсортируем датафрейм по столбцу жанр в алфавитном порядке\n",
    "df = df.sort_values(by='genre')\n",
    "\n",
    "# выведем уникальные названия жанров\n",
    "df['genre'].unique()"
   ]
  },
  {
   "cell_type": "markdown",
   "metadata": {
    "id": "qej-Qmuo_Zct",
    "tags": [
     "start_task"
    ]
   },
   "source": [
    "В названии жанров обнраужены неявные дубликаты жанра `hiphop`. К ним относятся:\n",
    "* *hip*,\n",
    "* *hop*,\n",
    "* *hip-hop*.\n",
    "\n",
    "Чтобы очистить от них таблицу используем метод `replace()` с двумя аргументами: списком строк-дубликатов (включащий *hip*, *hop* и *hip-hop*) и строкой с правильным значением. Нужно исправить колонку `genre` в таблице `df`: заменить каждое значение из списка дубликатов на верное. Вместо `hip`, `hop` и `hip-hop` в таблице должно быть значение `hiphop`:"
   ]
  },
  {
   "cell_type": "code",
   "execution_count": 16,
   "metadata": {
    "id": "ErNDkmns_Zct",
    "tags": []
   },
   "outputs": [],
   "source": [
    "# создадим список с неявными дубликатами\n",
    "wrong_genre_name = ['hip', 'hop', 'hip-hop']\n",
    "\n",
    "# устраним неявные дубликаты\n",
    "df['genre'] = df['genre'].replace(wrong_genre_name, 'hiphop')"
   ]
  },
  {
   "cell_type": "code",
   "execution_count": 17,
   "metadata": {
    "id": "wvixALnFG15m",
    "tags": []
   },
   "outputs": [
    {
     "data": {
      "text/plain": [
       "array(['acid', 'acoustic', 'action', 'adult', 'africa', 'afrikaans',\n",
       "       'alternative', 'alternativepunk', 'ambient', 'americana',\n",
       "       'animated', 'anime', 'arabesk', 'arabic', 'arena',\n",
       "       'argentinetango', 'art', 'audiobook', 'author', 'avantgarde',\n",
       "       'axé', 'baile', 'balkan', 'beats', 'bigroom', 'black', 'bluegrass',\n",
       "       'blues', 'bollywood', 'bossa', 'brazilian', 'breakbeat', 'breaks',\n",
       "       'broadway', 'cantautori', 'cantopop', 'canzone', 'caribbean',\n",
       "       'caucasian', 'celtic', 'chamber', 'chanson', 'children', 'chill',\n",
       "       'chinese', 'choral', 'christian', 'christmas', 'classical',\n",
       "       'classicmetal', 'club', 'colombian', 'comedy', 'conjazz',\n",
       "       'contemporary', 'country', 'cuban', 'dance', 'dancehall',\n",
       "       'dancepop', 'dark', 'death', 'deep', 'deutschrock', 'deutschspr',\n",
       "       'dirty', 'disco', 'dnb', 'documentary', 'downbeat', 'downtempo',\n",
       "       'drum', 'dub', 'dubstep', 'eastern', 'easy', 'electronic',\n",
       "       'electropop', 'emo', 'entehno', 'epicmetal', 'estrada', 'ethnic',\n",
       "       'eurofolk', 'european', 'experimental', 'extrememetal', 'fado',\n",
       "       'fairytail', 'film', 'fitness', 'flamenco', 'folk', 'folklore',\n",
       "       'folkmetal', 'folkrock', 'folktronica', 'forró', 'frankreich',\n",
       "       'französisch', 'french', 'funk', 'future', 'gangsta', 'garage',\n",
       "       'german', 'ghazal', 'gitarre', 'glitch', 'gospel', 'gothic',\n",
       "       'grime', 'grunge', 'gypsy', 'handsup', \"hard'n'heavy\", 'hardcore',\n",
       "       'hardstyle', 'hardtechno', 'hiphop', 'historisch', 'holiday',\n",
       "       'horror', 'house', 'hymn', 'idm', 'independent', 'indian', 'indie',\n",
       "       'indipop', 'industrial', 'inspirational', 'instrumental',\n",
       "       'international', 'irish', 'jam', 'japanese', 'jazz', 'jewish',\n",
       "       'jpop', 'jungle', 'k-pop', 'karadeniz', 'karaoke', 'kayokyoku',\n",
       "       'korean', 'laiko', 'latin', 'latino', 'leftfield', 'local',\n",
       "       'lounge', 'loungeelectronic', 'lovers', 'malaysian', 'mandopop',\n",
       "       'marschmusik', 'meditative', 'mediterranean', 'melodic', 'metal',\n",
       "       'metalcore', 'mexican', 'middle', 'minimal', 'miscellaneous',\n",
       "       'modern', 'mood', 'mpb', 'muslim', 'native', 'neoklassik', 'neue',\n",
       "       'new', 'newage', 'newwave', 'nu', 'nujazz', 'numetal', 'oceania',\n",
       "       'old', 'opera', 'orchestral', 'other', 'piano', 'podcasts', 'pop',\n",
       "       'popdance', 'popelectronic', 'popeurodance', 'poprussian', 'post',\n",
       "       'posthardcore', 'postrock', 'power', 'progmetal', 'progressive',\n",
       "       'psychedelic', 'punjabi', 'punk', 'quebecois', 'ragga', 'ram',\n",
       "       'rancheras', 'rap', 'rave', 'reggae', 'reggaeton', 'regional',\n",
       "       'relax', 'religious', 'retro', 'rhythm', 'rnb', 'rnr', 'rock',\n",
       "       'rockabilly', 'rockalternative', 'rockindie', 'rockother',\n",
       "       'romance', 'roots', 'ruspop', 'rusrap', 'rusrock', 'russian',\n",
       "       'salsa', 'samba', 'scenic', 'schlager', 'self', 'sertanejo',\n",
       "       'shanson', 'shoegazing', 'showtunes', 'singer', 'ska', 'skarock',\n",
       "       'slow', 'smooth', 'soft', 'soul', 'soulful', 'sound', 'soundtrack',\n",
       "       'southern', 'specialty', 'speech', 'spiritual', 'sport',\n",
       "       'stonerrock', 'surf', 'swing', 'synthpop', 'synthrock',\n",
       "       'sängerportrait', 'tango', 'tanzorchester', 'taraftar', 'tatar',\n",
       "       'tech', 'techno', 'teen', 'thrash', 'top', 'traditional',\n",
       "       'tradjazz', 'trance', 'tribal', 'trip', 'triphop', 'tropical',\n",
       "       'türk', 'türkçe', 'ukrrock', 'unknown', 'urban', 'uzbek',\n",
       "       'variété', 'vi', 'videogame', 'vocal', 'western', 'world',\n",
       "       'worldbeat', 'ïîï', 'электроника'], dtype=object)"
      ]
     },
     "execution_count": 17,
     "metadata": {},
     "output_type": "execute_result"
    }
   ],
   "source": [
    "# проверим изменения\n",
    "df['genre'].unique()"
   ]
  },
  {
   "cell_type": "markdown",
   "metadata": {
    "id": "jz6a9-7HQUDd",
    "tags": []
   },
   "source": [
    "**Выводы**\n",
    "\n",
    "Предобработка обнаружила три проблемы в данных:\n",
    "\n",
    "- нарушения в стиле заголовков,\n",
    "- пропущенные значения,\n",
    "- дубликаты — явные и неявные.\n",
    "\n",
    "Были исправлены заголовки, чтобы упростить работу с таблицей. Без дубликатов исследование станет более точным.\n",
    "\n",
    "Пропущенные значения заменены на `'unknown'`. Ещё предстоит увидеть, не повредят ли исследованию пропуски в колонке `genre`.\n",
    "\n",
    "Теперь можно перейти к проверке гипотез. "
   ]
  },
  {
   "cell_type": "markdown",
   "metadata": {
    "id": "WttZHXH0SqKk",
    "tags": []
   },
   "source": [
    "## Проверка гипотез"
   ]
  },
  {
   "cell_type": "markdown",
   "metadata": {
    "id": "Im936VVi_Zcu",
    "tags": []
   },
   "source": [
    "### Сравнение поведения пользователей двух столиц"
   ]
  },
  {
   "cell_type": "markdown",
   "metadata": {
    "id": "nwt_MuaL_Zcu",
    "tags": []
   },
   "source": [
    "Первая гипотеза утверждает, что пользователи по-разному слушают музыку в Москве и Санкт-Петербурге. Проверим это предположение по данным о трёх днях недели — понедельнике, среде и пятнице. Для этого:\n",
    "\n",
    "* Разделим пользователей Москвы и Санкт-Петербурга.\n",
    "* Сравним, сколько треков послушала каждая группа пользователей в понедельник, среду и пятницу."
   ]
  },
  {
   "cell_type": "markdown",
   "metadata": {
    "id": "8Dw_YMmT_Zcu",
    "tags": [
     "start_task"
    ]
   },
   "source": [
    "Оценим активность пользователей в каждом городе. Сгруппируем данные по городу и посчитаем прослушивания в каждой группе."
   ]
  },
  {
   "cell_type": "code",
   "execution_count": 18,
   "metadata": {
    "id": "0_Qs96oh_Zcu",
    "tags": []
   },
   "outputs": [
    {
     "data": {
      "text/plain": [
       "city\n",
       "Moscow              42741\n",
       "Saint-Petersburg    18512\n",
       "Name: time, dtype: int64"
      ]
     },
     "execution_count": 18,
     "metadata": {},
     "output_type": "execute_result"
    }
   ],
   "source": [
    "df.groupby('city')['time'].count()"
   ]
  },
  {
   "cell_type": "markdown",
   "metadata": {
    "id": "dzli3w8o_Zcu",
    "tags": [
     "start_task"
    ]
   },
   "source": [
    "В Москве прослушиваний больше, чем в Петербурге. Из этого не следует, что московские пользователи чаще слушают музыку. Просто самих пользователей в Москве больше.\n",
    "\n",
    "\n",
    "Теперь сгруппируем данные по дню недели и посчитаем прослушивания в понедельник, среду и пятницу. В данных есть информация о прослушиваниях только за эти дни."
   ]
  },
  {
   "cell_type": "code",
   "execution_count": 19,
   "metadata": {
    "id": "uZMKjiJz_Zcu",
    "tags": []
   },
   "outputs": [
    {
     "data": {
      "text/plain": [
       "day\n",
       "Friday       21840\n",
       "Monday       21354\n",
       "Wednesday    18059\n",
       "Name: time, dtype: int64"
      ]
     },
     "execution_count": 19,
     "metadata": {},
     "output_type": "execute_result"
    }
   ],
   "source": [
    "# подсчитаем прослушивания в каждый из трёх дней\n",
    "df.groupby('day')['time'].count()"
   ]
  },
  {
   "cell_type": "markdown",
   "metadata": {
    "id": "cC2tNrlL_Zcu",
    "tags": []
   },
   "source": [
    "В среднем пользователи из двух городов менее активны по средам. Но картина может измениться, если рассмотреть каждый город в отдельности."
   ]
  },
  {
   "cell_type": "markdown",
   "metadata": {
    "id": "POzs8bGa_Zcu",
    "tags": [
     "start_task"
    ]
   },
   "source": [
    "Создадим функцию `number_tracks()`, которая посчитает прослушивания для заданного дня и города. Ей понадобятся два параметра:\n",
    "* день недели,\n",
    "* название города.\n",
    "\n",
    "В функции сохраним в переменную строки исходной таблицы, у которых значение:\n",
    "  * в колонке `day` равно параметру `day`,\n",
    "  * в колонке `city` равно параметру `city`.\n",
    "\n",
    "Для этого применим последовательную фильтрацию.\n",
    "\n",
    "Затем посчитаем значения в столбце `user_id` получившейся таблицы. Результат сохраним в новую переменную. Вернем эту переменную из функции."
   ]
  },
  {
   "cell_type": "code",
   "execution_count": 20,
   "metadata": {
    "id": "Nz3GdQB1_Zcu",
    "tags": []
   },
   "outputs": [],
   "source": [
    "def number_tracks(day, city):\n",
    "    track_list = df[df['day'] == day]\n",
    "    track_list = track_list[track_list['city'] == city]\n",
    "    track_list_count = track_list['track'].count()\n",
    "    return track_list_count"
   ]
  },
  {
   "cell_type": "markdown",
   "metadata": {
    "id": "ytf7xFrFJQ2r",
    "tags": [
     "start_task"
    ]
   },
   "source": [
    "Вызовем `number_tracks()` шесть раз, меняя значение параметров — так, чтобы получить данные для каждого города в каждый из трёх дней."
   ]
  },
  {
   "cell_type": "code",
   "execution_count": 21,
   "metadata": {
    "id": "rJcRATNQ_Zcu",
    "tags": []
   },
   "outputs": [
    {
     "data": {
      "text/plain": [
       "15740"
      ]
     },
     "execution_count": 21,
     "metadata": {},
     "output_type": "execute_result"
    }
   ],
   "source": [
    "# количество прослушиваний в Москве по понедельникам\n",
    "number_tracks('Monday', 'Moscow')"
   ]
  },
  {
   "cell_type": "code",
   "execution_count": 22,
   "metadata": {
    "id": "hq_ncZ5T_Zcu",
    "tags": []
   },
   "outputs": [
    {
     "data": {
      "text/plain": [
       "5614"
      ]
     },
     "execution_count": 22,
     "metadata": {},
     "output_type": "execute_result"
    }
   ],
   "source": [
    "# количество прослушиваний в Санкт-Петербурге по понедельникам\n",
    "number_tracks('Monday', 'Saint-Petersburg')"
   ]
  },
  {
   "cell_type": "code",
   "execution_count": 23,
   "metadata": {
    "id": "_NTy2VPU_Zcu",
    "tags": []
   },
   "outputs": [
    {
     "data": {
      "text/plain": [
       "11056"
      ]
     },
     "execution_count": 23,
     "metadata": {},
     "output_type": "execute_result"
    }
   ],
   "source": [
    "# количество прослушиваний в Москве по средам\n",
    "number_tracks('Wednesday', 'Moscow')"
   ]
  },
  {
   "cell_type": "code",
   "execution_count": 24,
   "metadata": {
    "id": "j2y3TAwo_Zcu",
    "tags": []
   },
   "outputs": [
    {
     "data": {
      "text/plain": [
       "7003"
      ]
     },
     "execution_count": 24,
     "metadata": {},
     "output_type": "execute_result"
    }
   ],
   "source": [
    "# количество прослушиваний в Санкт-Петербурге по средам\n",
    "number_tracks('Wednesday', 'Saint-Petersburg')"
   ]
  },
  {
   "cell_type": "code",
   "execution_count": 25,
   "metadata": {
    "id": "vYDw5u_K_Zcu",
    "tags": []
   },
   "outputs": [
    {
     "data": {
      "text/plain": [
       "15945"
      ]
     },
     "execution_count": 25,
     "metadata": {},
     "output_type": "execute_result"
    }
   ],
   "source": [
    "# количество прослушиваний в Москве по пятницам\n",
    "number_tracks('Friday', 'Moscow')"
   ]
  },
  {
   "cell_type": "code",
   "execution_count": 26,
   "metadata": {
    "id": "8_yzFtW3_Zcu",
    "tags": []
   },
   "outputs": [
    {
     "data": {
      "text/plain": [
       "5895"
      ]
     },
     "execution_count": 26,
     "metadata": {},
     "output_type": "execute_result"
    }
   ],
   "source": [
    "# количество прослушиваний в Санкт-Петербурге по пятницам\n",
    "number_tracks('Friday', 'Saint-Petersburg')"
   ]
  },
  {
   "cell_type": "markdown",
   "metadata": {
    "id": "7QXffbO-_Zcu",
    "tags": [
     "start_task"
    ]
   },
   "source": [
    "Создадим c помощью конструктора `pd.DataFrame` таблицу, где\n",
    "* названия колонок — `['city', 'monday', 'wednesday', 'friday']`;\n",
    "* данные — результаты, которые мы получили с помощью `number_tracks`."
   ]
  },
  {
   "cell_type": "code",
   "execution_count": 27,
   "metadata": {
    "id": "APAcLpOr_Zcu",
    "tags": []
   },
   "outputs": [
    {
     "data": {
      "text/html": [
       "<div>\n",
       "<style scoped>\n",
       "    .dataframe tbody tr th:only-of-type {\n",
       "        vertical-align: middle;\n",
       "    }\n",
       "\n",
       "    .dataframe tbody tr th {\n",
       "        vertical-align: top;\n",
       "    }\n",
       "\n",
       "    .dataframe thead th {\n",
       "        text-align: right;\n",
       "    }\n",
       "</style>\n",
       "<table border=\"1\" class=\"dataframe\">\n",
       "  <thead>\n",
       "    <tr style=\"text-align: right;\">\n",
       "      <th></th>\n",
       "      <th>city</th>\n",
       "      <th>monday</th>\n",
       "      <th>wednesday</th>\n",
       "      <th>friday</th>\n",
       "    </tr>\n",
       "  </thead>\n",
       "  <tbody>\n",
       "    <tr>\n",
       "      <th>0</th>\n",
       "      <td>Moscow</td>\n",
       "      <td>15740</td>\n",
       "      <td>11056</td>\n",
       "      <td>15945</td>\n",
       "    </tr>\n",
       "    <tr>\n",
       "      <th>1</th>\n",
       "      <td>Saint-Petersburg</td>\n",
       "      <td>5614</td>\n",
       "      <td>7003</td>\n",
       "      <td>5895</td>\n",
       "    </tr>\n",
       "  </tbody>\n",
       "</table>\n",
       "</div>"
      ],
      "text/plain": [
       "               city  monday  wednesday  friday\n",
       "0            Moscow   15740      11056   15945\n",
       "1  Saint-Petersburg    5614       7003    5895"
      ]
     },
     "execution_count": 27,
     "metadata": {},
     "output_type": "execute_result"
    }
   ],
   "source": [
    "columns = ['city', 'monday', 'wednesday', 'friday']\n",
    "data = [\n",
    "    ['Moscow', 15740, 11056, 15945],\n",
    "    ['Saint-Petersburg', 5614, 7003, 5895]\n",
    "]\n",
    "# выведем таблицу с результатами\n",
    "pd.DataFrame(data=data, columns=columns) "
   ]
  },
  {
   "cell_type": "markdown",
   "metadata": {
    "id": "-EgPIHYu_Zcu",
    "tags": []
   },
   "source": [
    "**Выводы**\n",
    "\n",
    "Данные показывают разницу поведения пользователей:\n",
    "\n",
    "- В Москве пик прослушиваний приходится на понедельник и пятницу, а в среду заметен спад.\n",
    "- В Петербурге, наоборот, больше слушают музыку по средам. Активность в понедельник и пятницу здесь почти в равной мере уступает среде.\n",
    "\n",
    "Значит, данные говорят в пользу первой гипотезы."
   ]
  },
  {
   "cell_type": "markdown",
   "metadata": {
    "id": "atZAxtq4_Zcu",
    "tags": []
   },
   "source": [
    "### Музыка в начале и в конце недели"
   ]
  },
  {
   "cell_type": "markdown",
   "metadata": {
    "id": "eXrQqXFH_Zcu",
    "tags": []
   },
   "source": [
    "Согласно второй гипотезе, утром в понедельник в Москве преобладают одни жанры, а в Петербурге — другие. Так же и вечером пятницы преобладают разные жанры — в зависимости от города."
   ]
  },
  {
   "cell_type": "markdown",
   "metadata": {
    "id": "S8UcW6Hw_Zcu",
    "tags": [
     "start_task"
    ]
   },
   "source": [
    "Сохраним таблицы с данными в две переменные:\n",
    "* по Москве — в `moscow_general`;\n",
    "* по Санкт-Петербургу — в `spb_general`."
   ]
  },
  {
   "cell_type": "code",
   "execution_count": 28,
   "metadata": {
    "id": "qeaFfM_P_Zcu",
    "tags": []
   },
   "outputs": [],
   "source": [
    "# создадим таблицу прослушиваний для Москвы\n",
    "moscow_general = df[df['city'] == 'Moscow']"
   ]
  },
  {
   "cell_type": "code",
   "execution_count": 29,
   "metadata": {
    "id": "ORaVRKto_Zcu",
    "tags": []
   },
   "outputs": [],
   "source": [
    "# создадим таблицу прослушиваний для Санкт-Петербурга\n",
    "spb_general = df[df['city'] == 'Saint-Petersburg']"
   ]
  },
  {
   "cell_type": "markdown",
   "metadata": {
    "id": "MEJV-CX2_Zcu",
    "tags": [
     "start_task"
    ]
   },
   "source": [
    "Создадим функцию `genre_weekday()` с четырьмя параметрами:\n",
    "* таблица (датафрейм) с данными,\n",
    "* день недели,\n",
    "* начальная временная метка в формате 'hh:mm', \n",
    "* последняя временная метка в формате 'hh:mm'.\n",
    "\n",
    "Функция должна вернуть информацию о топ-10 жанров тех треков, которые прослушивали в указанный день, в промежутке между двумя отметками времени."
   ]
  },
  {
   "cell_type": "code",
   "execution_count": 30,
   "metadata": {
    "id": "laJT9BYl_Zcu",
    "tags": []
   },
   "outputs": [],
   "source": [
    "def genre_weekday(df, day, time1, time2):\n",
    "    # последовательная фильтрация\n",
    "    # оставляем в genre_df только те строки df, у которых день равен day\n",
    "    genre_df = df[df['day'] == day]\n",
    "    # оставляем в genre_df только те строки genre_df, у которых время меньше time2\n",
    "    genre_df = genre_df[genre_df['time'] < time2]\n",
    "    # оставляем в genre_df только те строки genre_df, у которых время больше time1\n",
    "    genre_df = genre_df[genre_df['time'] > time1]\n",
    "    # сгруппируем отфильтрованный датафрейм по столбцу с названиями жанров, возьмём столбец genre и посчитаем кол-во строк для каждого жанра методом count()\n",
    "    genre_df_grouped = genre_df.groupby('genre')['genre'].count()\n",
    "    # отсортируем результат по убыванию (чтобы в начале Series оказались самые популярные жанры)\n",
    "    genre_df_sorted = genre_df_grouped.sort_values(ascending=False)\n",
    "    # вернём Series с 10 самыми популярными жанрами в указанный отрезок времени заданного дня\n",
    "    return genre_df_sorted[:10]"
   ]
  },
  {
   "cell_type": "markdown",
   "metadata": {
    "id": "la2s2_PF_Zcu",
    "tags": [
     "start_task"
    ]
   },
   "source": [
    "Cравним результаты функции `genre_weekday()` для Москвы и Санкт-Петербурга в понедельник утром (с 7:00 до 11:00) и в пятницу вечером (с 17:00 до 23:00):"
   ]
  },
  {
   "cell_type": "code",
   "execution_count": 31,
   "metadata": {
    "id": "yz7itPUQ_Zcu",
    "scrolled": true,
    "tags": []
   },
   "outputs": [
    {
     "data": {
      "text/plain": [
       "genre\n",
       "pop            781\n",
       "dance          549\n",
       "electronic     480\n",
       "rock           474\n",
       "hiphop         286\n",
       "ruspop         186\n",
       "world          181\n",
       "rusrap         175\n",
       "alternative    164\n",
       "unknown        161\n",
       "Name: genre, dtype: int64"
      ]
     },
     "execution_count": 31,
     "metadata": {},
     "output_type": "execute_result"
    }
   ],
   "source": [
    "# вызовем функцию для утра понедельника в Москве\n",
    "genre_weekday(moscow_general, 'Monday', '07:00', '11:00')"
   ]
  },
  {
   "cell_type": "code",
   "execution_count": 32,
   "metadata": {
    "id": "kwUcHPdy_Zcu",
    "tags": []
   },
   "outputs": [
    {
     "data": {
      "text/plain": [
       "genre\n",
       "pop            218\n",
       "dance          182\n",
       "rock           162\n",
       "electronic     147\n",
       "hiphop          80\n",
       "ruspop          64\n",
       "alternative     58\n",
       "rusrap          55\n",
       "jazz            44\n",
       "classical       40\n",
       "Name: genre, dtype: int64"
      ]
     },
     "execution_count": 32,
     "metadata": {},
     "output_type": "execute_result"
    }
   ],
   "source": [
    "# вызовем функцию для утра понедельника в Санкт-Петербурге\n",
    "genre_weekday(spb_general, 'Monday', '07:00', '11:00')"
   ]
  },
  {
   "cell_type": "code",
   "execution_count": 33,
   "metadata": {
    "id": "EzXVRE1o_Zcu",
    "tags": []
   },
   "outputs": [
    {
     "data": {
      "text/plain": [
       "genre\n",
       "pop            713\n",
       "rock           517\n",
       "dance          495\n",
       "electronic     482\n",
       "hiphop         273\n",
       "world          208\n",
       "ruspop         170\n",
       "alternative    163\n",
       "classical      163\n",
       "rusrap         142\n",
       "Name: genre, dtype: int64"
      ]
     },
     "execution_count": 33,
     "metadata": {},
     "output_type": "execute_result"
    }
   ],
   "source": [
    "# вызовем функцию для вечера пятницы в Москве\n",
    "genre_weekday(moscow_general, 'Friday', '17:00', '23:00')"
   ]
  },
  {
   "cell_type": "code",
   "execution_count": 34,
   "metadata": {
    "id": "JZaEKu5v_Zcu",
    "tags": []
   },
   "outputs": [
    {
     "data": {
      "text/plain": [
       "genre\n",
       "pop            256\n",
       "electronic     216\n",
       "rock           216\n",
       "dance          210\n",
       "hiphop          97\n",
       "alternative     63\n",
       "jazz            61\n",
       "classical       60\n",
       "rusrap          59\n",
       "world           54\n",
       "Name: genre, dtype: int64"
      ]
     },
     "execution_count": 34,
     "metadata": {},
     "output_type": "execute_result"
    }
   ],
   "source": [
    "# вызовем функцию для вечера пятницы в Санкт-Петербурге\n",
    "genre_weekday(spb_general, 'Friday', '17:00', '23:00')"
   ]
  },
  {
   "cell_type": "markdown",
   "metadata": {
    "id": "wrCe4MNX_Zcu",
    "tags": []
   },
   "source": [
    "**Выводы**\n",
    "\n",
    "Если сравнить топ-10 жанров в понедельник утром, можно сделать такие выводы:\n",
    "\n",
    "1. В Москве и Петербурге слушают похожую музыку. Единственное отличие — в московский рейтинг вошёл жанр “world”, а в петербургский — джаз и классика.\n",
    "\n",
    "2. В Москве пропущенных значений оказалось так много, что значение `'unknown'` заняло десятое место среди самых популярных жанров. Значит, пропущенные значения занимают существенную долю в данных и угрожают достоверности исследования.\n",
    "\n",
    "Вечер пятницы не меняет эту картину. Некоторые жанры поднимаются немного выше, другие спускаются, но в целом топ-10 остаётся тем же самым.\n",
    "\n",
    "Таким образом, вторая гипотеза подтвердилась лишь частично:\n",
    "* Пользователи слушают похожую музыку в начале недели и в конце.\n",
    "* Разница между Москвой и Петербургом не слишком выражена. В Москве чаще слушают русскую популярную музыку, в Петербурге — джаз.\n",
    "\n",
    "Однако пропуски в данных ставят под сомнение этот результат. В Москве их так много, что рейтинг топ-10 мог бы выглядеть иначе, если бы не утерянные  данные о жанрах."
   ]
  },
  {
   "cell_type": "markdown",
   "metadata": {
    "id": "JolODAqr_Zcu",
    "tags": []
   },
   "source": [
    "### Жанровые предпочтения в Москве и Петербурге\n",
    "\n",
    "Гипотеза: Петербург — столица рэпа, музыку этого жанра там слушают чаще, чем в Москве.  А Москва — город контрастов, в котором, тем не менее, преобладает поп-музыка."
   ]
  },
  {
   "cell_type": "markdown",
   "metadata": {
    "id": "DlegSvaT_Zcu",
    "tags": [
     "start_task"
    ]
   },
   "source": [
    "Сгруппируем таблицу `moscow_general` по жанру и посчитаем прослушивания треков каждого жанра методом `count()`. Затем отсортируем результат в порядке убывания и сохраним его в таблице `moscow_genres`."
   ]
  },
  {
   "cell_type": "code",
   "execution_count": 39,
   "metadata": {
    "id": "r19lIPke_Zcu",
    "tags": []
   },
   "outputs": [],
   "source": [
    "moscow_genres = moscow_general.groupby('genre')['genre'].count().sort_values(ascending=False)"
   ]
  },
  {
   "cell_type": "code",
   "execution_count": 40,
   "metadata": {
    "id": "WhCSooF8_Zcv",
    "tags": []
   },
   "outputs": [
    {
     "data": {
      "text/plain": [
       "genre\n",
       "pop            5892\n",
       "dance          4435\n",
       "rock           3965\n",
       "electronic     3786\n",
       "hiphop         2096\n",
       "classical      1616\n",
       "world          1432\n",
       "alternative    1379\n",
       "ruspop         1372\n",
       "rusrap         1161\n",
       "Name: genre, dtype: int64"
      ]
     },
     "execution_count": 40,
     "metadata": {},
     "output_type": "execute_result"
    }
   ],
   "source": [
    "# выведем первые 10 строк moscow_genres\n",
    "moscow_genres.head(10)"
   ]
  },
  {
   "cell_type": "markdown",
   "metadata": {
    "id": "cnPG2vnN_Zcv",
    "tags": [
     "start_task"
    ]
   },
   "source": [
    "Теперь повторим то же и для Санкт-Петербурга."
   ]
  },
  {
   "cell_type": "code",
   "execution_count": 42,
   "metadata": {
    "id": "gluLIpE7_Zcv",
    "tags": []
   },
   "outputs": [],
   "source": [
    "spb_genres = spb_general.groupby('genre')['genre'].count().sort_values(ascending=False)"
   ]
  },
  {
   "cell_type": "code",
   "execution_count": 43,
   "metadata": {
    "id": "uaGJHjVU_Zcv",
    "tags": []
   },
   "outputs": [
    {
     "data": {
      "text/plain": [
       "genre\n",
       "pop            2431\n",
       "dance          1932\n",
       "rock           1879\n",
       "electronic     1736\n",
       "hiphop          960\n",
       "alternative     649\n",
       "classical       646\n",
       "rusrap          564\n",
       "ruspop          538\n",
       "world           515\n",
       "Name: genre, dtype: int64"
      ]
     },
     "execution_count": 43,
     "metadata": {},
     "output_type": "execute_result"
    }
   ],
   "source": [
    "# выведем первые 10 строк spb_genres\n",
    "spb_genres.head(10)"
   ]
  },
  {
   "cell_type": "markdown",
   "metadata": {
    "id": "RY51YJYu_Zcv",
    "tags": []
   },
   "source": [
    "**Выводы**"
   ]
  },
  {
   "cell_type": "markdown",
   "metadata": {
    "id": "nVhnJEm__Zcv",
    "tags": []
   },
   "source": [
    "Гипотеза частично подтвердилась:\n",
    "* Поп-музыка — самый популярный жанр в Москве, как и предполагала гипотеза. Более того, в топ-10 жанров встречается близкий жанр — русская популярная музыка.\n",
    "* Вопреки ожиданиям, рэп одинаково популярен в Москве и Петербурге. \n"
   ]
  },
  {
   "cell_type": "markdown",
   "metadata": {
    "id": "ykKQ0N65_Zcv",
    "tags": []
   },
   "source": [
    "## Итоги исследования"
   ]
  },
  {
   "cell_type": "markdown",
   "metadata": {
    "id": "tjUwbHb3_Zcv",
    "tags": []
   },
   "source": [
    "Были проверены три гипотезы и установлено:\n",
    "\n",
    "1. День недели по-разному влияет на активность пользователей в Москве и Петербурге. \n",
    "\n",
    "Первая гипотеза полностью подтвердилась.\n",
    "\n",
    "2. Музыкальные предпочтения не сильно меняются в течение недели — будь то Москва или Петербург. Небольшие различия заметны в начале недели, по понедельникам:\n",
    "* в Москве слушают музыку жанра “world”,\n",
    "* в Петербурге — джаз и классику.\n",
    "\n",
    "Таким образом, вторая гипотеза подтвердилась лишь отчасти. Этот результат мог оказаться иным, если бы не пропуски в данных.\n",
    "\n",
    "3. Во вкусах пользователей Москвы и Петербурга больше общего, чем различий. Вопреки ожиданиям, предпочтения жанров в Петербурге напоминают московские.\n",
    "\n",
    "Третья гипотеза не подтвердилась. Если различия в предпочтениях и существуют, на основной массе пользователей они незаметны."
   ]
  }
 ],
 "metadata": {
  "ExecuteTimeLog": [
   {
    "duration": 406,
    "start_time": "2022-11-19T08:48:00.826Z"
   },
   {
    "duration": 167,
    "start_time": "2022-11-19T08:48:40.650Z"
   },
   {
    "duration": 17,
    "start_time": "2022-11-19T08:48:53.887Z"
   },
   {
    "duration": 26,
    "start_time": "2022-11-19T08:49:09.582Z"
   },
   {
    "duration": 25,
    "start_time": "2022-11-19T08:49:43.286Z"
   },
   {
    "duration": 75,
    "start_time": "2022-11-19T08:51:00.905Z"
   },
   {
    "duration": 2,
    "start_time": "2022-11-19T08:51:36.541Z"
   },
   {
    "duration": 2,
    "start_time": "2022-11-19T08:51:42.985Z"
   },
   {
    "duration": 5,
    "start_time": "2022-11-19T08:52:28.965Z"
   },
   {
    "duration": 20,
    "start_time": "2022-11-19T08:53:44.474Z"
   },
   {
    "duration": 4,
    "start_time": "2022-11-19T08:54:07.244Z"
   },
   {
    "duration": 10,
    "start_time": "2022-11-19T08:54:53.804Z"
   },
   {
    "duration": 4,
    "start_time": "2022-11-19T08:54:56.256Z"
   },
   {
    "duration": 37,
    "start_time": "2022-11-19T08:55:25.076Z"
   },
   {
    "duration": 75,
    "start_time": "2022-11-19T08:58:48.587Z"
   },
   {
    "duration": 11,
    "start_time": "2022-11-19T08:59:28.715Z"
   },
   {
    "duration": 3,
    "start_time": "2022-11-19T09:01:46.355Z"
   },
   {
    "duration": 204,
    "start_time": "2022-11-19T09:01:46.361Z"
   },
   {
    "duration": 10,
    "start_time": "2022-11-19T09:01:46.567Z"
   },
   {
    "duration": 33,
    "start_time": "2022-11-19T09:01:46.579Z"
   },
   {
    "duration": 2,
    "start_time": "2022-11-19T09:01:46.622Z"
   },
   {
    "duration": 7,
    "start_time": "2022-11-19T09:01:46.626Z"
   },
   {
    "duration": 14,
    "start_time": "2022-11-19T09:01:46.634Z"
   },
   {
    "duration": 7,
    "start_time": "2022-11-19T09:01:46.650Z"
   },
   {
    "duration": 31,
    "start_time": "2022-11-19T09:01:46.658Z"
   },
   {
    "duration": 20,
    "start_time": "2022-11-19T09:01:55.023Z"
   },
   {
    "duration": 24,
    "start_time": "2022-11-19T09:02:14.747Z"
   },
   {
    "duration": 11,
    "start_time": "2022-11-19T09:02:30.415Z"
   },
   {
    "duration": 67,
    "start_time": "2022-11-19T09:02:55.163Z"
   },
   {
    "duration": 8,
    "start_time": "2022-11-19T09:03:21.743Z"
   },
   {
    "duration": 71,
    "start_time": "2022-11-19T09:03:26.246Z"
   },
   {
    "duration": 80,
    "start_time": "2022-11-19T09:03:33.615Z"
   },
   {
    "duration": 65,
    "start_time": "2022-11-19T09:03:48.495Z"
   },
   {
    "duration": 41,
    "start_time": "2022-11-19T09:06:17.090Z"
   },
   {
    "duration": 45,
    "start_time": "2022-11-19T09:06:55.482Z"
   },
   {
    "duration": 45,
    "start_time": "2022-11-19T09:07:07.474Z"
   },
   {
    "duration": 42,
    "start_time": "2022-11-19T09:10:03.530Z"
   },
   {
    "duration": 37,
    "start_time": "2022-11-19T09:10:33.593Z"
   },
   {
    "duration": 9,
    "start_time": "2022-11-19T09:12:35.627Z"
   },
   {
    "duration": 8,
    "start_time": "2022-11-19T09:12:52.261Z"
   },
   {
    "duration": 9,
    "start_time": "2022-11-19T09:13:41.285Z"
   },
   {
    "duration": 13,
    "start_time": "2022-11-19T09:13:55.853Z"
   },
   {
    "duration": 7,
    "start_time": "2022-11-19T09:14:24.556Z"
   },
   {
    "duration": 384,
    "start_time": "2022-11-19T11:36:55.768Z"
   },
   {
    "duration": 242,
    "start_time": "2022-11-19T11:36:56.154Z"
   },
   {
    "duration": 20,
    "start_time": "2022-11-19T11:36:56.397Z"
   },
   {
    "duration": 42,
    "start_time": "2022-11-19T11:36:56.418Z"
   },
   {
    "duration": 10,
    "start_time": "2022-11-19T11:36:56.467Z"
   },
   {
    "duration": 7,
    "start_time": "2022-11-19T11:36:56.480Z"
   },
   {
    "duration": 24,
    "start_time": "2022-11-19T11:36:56.489Z"
   },
   {
    "duration": 4,
    "start_time": "2022-11-19T11:36:56.516Z"
   },
   {
    "duration": 36,
    "start_time": "2022-11-19T11:36:56.522Z"
   },
   {
    "duration": 30,
    "start_time": "2022-11-19T11:36:56.559Z"
   },
   {
    "duration": 42,
    "start_time": "2022-11-19T11:36:56.591Z"
   },
   {
    "duration": 98,
    "start_time": "2022-11-19T11:36:56.635Z"
   },
   {
    "duration": 82,
    "start_time": "2022-11-19T11:36:56.735Z"
   },
   {
    "duration": 64,
    "start_time": "2022-11-19T11:36:56.820Z"
   },
   {
    "duration": 60,
    "start_time": "2022-11-19T11:36:56.885Z"
   },
   {
    "duration": 10,
    "start_time": "2022-11-19T11:36:56.947Z"
   },
   {
    "duration": 7,
    "start_time": "2022-11-19T11:36:56.959Z"
   },
   {
    "duration": 54,
    "start_time": "2022-11-19T11:41:52.656Z"
   },
   {
    "duration": 79,
    "start_time": "2022-11-19T11:42:05.000Z"
   },
   {
    "duration": 48,
    "start_time": "2022-11-19T11:42:10.571Z"
   },
   {
    "duration": 15,
    "start_time": "2022-11-19T11:42:28.133Z"
   },
   {
    "duration": 13,
    "start_time": "2022-11-19T11:43:39.083Z"
   },
   {
    "duration": 3,
    "start_time": "2022-11-19T11:55:36.344Z"
   },
   {
    "duration": 11,
    "start_time": "2022-11-19T11:56:56.955Z"
   },
   {
    "duration": 8,
    "start_time": "2022-11-19T11:59:39.179Z"
   },
   {
    "duration": 15,
    "start_time": "2022-11-19T12:01:26.938Z"
   },
   {
    "duration": 4,
    "start_time": "2022-11-19T12:05:43.094Z"
   },
   {
    "duration": 10,
    "start_time": "2022-11-19T12:05:51.430Z"
   },
   {
    "duration": 3,
    "start_time": "2022-11-19T12:06:28.110Z"
   },
   {
    "duration": 9,
    "start_time": "2022-11-19T12:06:30.882Z"
   },
   {
    "duration": 5,
    "start_time": "2022-11-19T12:06:59.553Z"
   },
   {
    "duration": 11,
    "start_time": "2022-11-19T12:07:01.237Z"
   },
   {
    "duration": 4,
    "start_time": "2022-11-19T12:07:35.444Z"
   },
   {
    "duration": 11,
    "start_time": "2022-11-19T12:07:37.849Z"
   },
   {
    "duration": 5,
    "start_time": "2022-11-19T12:08:33.246Z"
   },
   {
    "duration": 15,
    "start_time": "2022-11-19T12:08:35.187Z"
   },
   {
    "duration": 7,
    "start_time": "2022-11-19T12:16:51.103Z"
   },
   {
    "duration": 627,
    "start_time": "2022-11-19T12:16:53.146Z"
   },
   {
    "duration": 4,
    "start_time": "2022-11-19T12:17:44.010Z"
   },
   {
    "duration": 3,
    "start_time": "2022-11-19T12:22:43.986Z"
   },
   {
    "duration": 38,
    "start_time": "2022-11-19T12:22:45.500Z"
   },
   {
    "duration": 4,
    "start_time": "2022-11-19T12:23:57.088Z"
   },
   {
    "duration": 17,
    "start_time": "2022-11-19T12:23:58.650Z"
   },
   {
    "duration": 15,
    "start_time": "2022-11-19T12:24:45.822Z"
   },
   {
    "duration": 2,
    "start_time": "2022-11-19T12:25:42.784Z"
   },
   {
    "duration": 179,
    "start_time": "2022-11-19T12:25:42.788Z"
   },
   {
    "duration": 12,
    "start_time": "2022-11-19T12:25:42.969Z"
   },
   {
    "duration": 36,
    "start_time": "2022-11-19T12:25:42.984Z"
   },
   {
    "duration": 3,
    "start_time": "2022-11-19T12:25:43.021Z"
   },
   {
    "duration": 21,
    "start_time": "2022-11-19T12:25:43.026Z"
   },
   {
    "duration": 18,
    "start_time": "2022-11-19T12:25:43.049Z"
   },
   {
    "duration": 7,
    "start_time": "2022-11-19T12:25:43.069Z"
   },
   {
    "duration": 41,
    "start_time": "2022-11-19T12:25:43.079Z"
   },
   {
    "duration": 35,
    "start_time": "2022-11-19T12:25:43.122Z"
   },
   {
    "duration": 25,
    "start_time": "2022-11-19T12:25:43.159Z"
   },
   {
    "duration": 85,
    "start_time": "2022-11-19T12:25:43.186Z"
   },
   {
    "duration": 77,
    "start_time": "2022-11-19T12:25:43.273Z"
   },
   {
    "duration": 64,
    "start_time": "2022-11-19T12:25:43.352Z"
   },
   {
    "duration": 48,
    "start_time": "2022-11-19T12:25:43.418Z"
   },
   {
    "duration": 10,
    "start_time": "2022-11-19T12:25:43.468Z"
   },
   {
    "duration": 9,
    "start_time": "2022-11-19T12:25:43.480Z"
   },
   {
    "duration": 16,
    "start_time": "2022-11-19T12:25:43.513Z"
   },
   {
    "duration": 13,
    "start_time": "2022-11-19T12:25:43.531Z"
   },
   {
    "duration": 4,
    "start_time": "2022-11-19T12:25:43.546Z"
   },
   {
    "duration": 25,
    "start_time": "2022-11-19T12:25:43.552Z"
   },
   {
    "duration": 43,
    "start_time": "2022-11-19T12:25:43.578Z"
   },
   {
    "duration": 15,
    "start_time": "2022-11-19T12:25:43.623Z"
   },
   {
    "duration": 15,
    "start_time": "2022-11-19T12:25:43.640Z"
   },
   {
    "duration": 17,
    "start_time": "2022-11-19T12:25:43.657Z"
   },
   {
    "duration": 16,
    "start_time": "2022-11-19T12:25:47.869Z"
   },
   {
    "duration": 8,
    "start_time": "2022-11-19T12:30:58.889Z"
   },
   {
    "duration": 10,
    "start_time": "2022-11-19T12:33:20.780Z"
   },
   {
    "duration": 9,
    "start_time": "2022-11-19T12:33:56.823Z"
   },
   {
    "duration": 12,
    "start_time": "2022-11-19T12:35:26.707Z"
   },
   {
    "duration": 9,
    "start_time": "2022-11-19T12:35:55.486Z"
   },
   {
    "duration": 49,
    "start_time": "2022-11-20T11:20:41.934Z"
   },
   {
    "duration": 403,
    "start_time": "2022-11-20T11:20:57.405Z"
   },
   {
    "duration": 240,
    "start_time": "2022-11-20T11:20:57.809Z"
   },
   {
    "duration": 17,
    "start_time": "2022-11-20T11:20:58.051Z"
   },
   {
    "duration": 36,
    "start_time": "2022-11-20T11:20:58.070Z"
   },
   {
    "duration": 2,
    "start_time": "2022-11-20T11:20:58.108Z"
   },
   {
    "duration": 6,
    "start_time": "2022-11-20T11:20:58.112Z"
   },
   {
    "duration": 13,
    "start_time": "2022-11-20T11:20:58.120Z"
   },
   {
    "duration": 5,
    "start_time": "2022-11-20T11:20:58.135Z"
   },
   {
    "duration": 26,
    "start_time": "2022-11-20T11:20:58.141Z"
   },
   {
    "duration": 18,
    "start_time": "2022-11-20T11:20:58.168Z"
   },
   {
    "duration": 24,
    "start_time": "2022-11-20T11:20:58.187Z"
   },
   {
    "duration": 80,
    "start_time": "2022-11-20T11:20:58.213Z"
   },
   {
    "duration": 75,
    "start_time": "2022-11-20T11:20:58.298Z"
   },
   {
    "duration": 66,
    "start_time": "2022-11-20T11:20:58.376Z"
   },
   {
    "duration": 47,
    "start_time": "2022-11-20T11:20:58.444Z"
   },
   {
    "duration": 10,
    "start_time": "2022-11-20T11:20:58.493Z"
   },
   {
    "duration": 7,
    "start_time": "2022-11-20T11:20:58.504Z"
   },
   {
    "duration": 35,
    "start_time": "2022-11-20T11:20:58.512Z"
   },
   {
    "duration": 12,
    "start_time": "2022-11-20T11:20:58.548Z"
   },
   {
    "duration": 4,
    "start_time": "2022-11-20T11:20:58.561Z"
   },
   {
    "duration": 28,
    "start_time": "2022-11-20T11:20:58.567Z"
   },
   {
    "duration": 14,
    "start_time": "2022-11-20T11:20:58.596Z"
   },
   {
    "duration": 34,
    "start_time": "2022-11-20T11:20:58.612Z"
   },
   {
    "duration": 14,
    "start_time": "2022-11-20T11:20:58.648Z"
   },
   {
    "duration": 28,
    "start_time": "2022-11-20T11:20:58.664Z"
   },
   {
    "duration": 15,
    "start_time": "2022-11-20T11:20:58.694Z"
   },
   {
    "duration": 31,
    "start_time": "2022-11-20T11:20:58.711Z"
   },
   {
    "duration": 28,
    "start_time": "2022-11-20T11:20:58.744Z"
   },
   {
    "duration": 18,
    "start_time": "2022-11-20T11:20:58.774Z"
   },
   {
    "duration": 92,
    "start_time": "2022-11-20T11:20:58.794Z"
   },
   {
    "duration": 0,
    "start_time": "2022-11-20T11:20:58.887Z"
   },
   {
    "duration": 0,
    "start_time": "2022-11-20T11:20:58.889Z"
   },
   {
    "duration": 0,
    "start_time": "2022-11-20T11:20:58.890Z"
   },
   {
    "duration": 0,
    "start_time": "2022-11-20T11:20:58.891Z"
   },
   {
    "duration": 0,
    "start_time": "2022-11-20T11:20:58.892Z"
   },
   {
    "duration": 0,
    "start_time": "2022-11-20T11:20:58.894Z"
   },
   {
    "duration": 0,
    "start_time": "2022-11-20T11:20:58.894Z"
   },
   {
    "duration": 0,
    "start_time": "2022-11-20T11:20:58.896Z"
   },
   {
    "duration": 4,
    "start_time": "2022-11-20T11:21:07.690Z"
   },
   {
    "duration": 4,
    "start_time": "2022-11-20T11:21:09.490Z"
   },
   {
    "duration": 14,
    "start_time": "2022-11-20T11:21:11.438Z"
   },
   {
    "duration": 10,
    "start_time": "2022-11-20T11:21:15.222Z"
   },
   {
    "duration": 26,
    "start_time": "2022-11-20T12:07:23.896Z"
   },
   {
    "duration": 5,
    "start_time": "2022-11-20T12:07:29.649Z"
   },
   {
    "duration": 34,
    "start_time": "2022-11-20T12:07:32.205Z"
   },
   {
    "duration": 4,
    "start_time": "2022-11-20T12:08:41.124Z"
   },
   {
    "duration": 22,
    "start_time": "2022-11-20T12:08:42.550Z"
   },
   {
    "duration": 11,
    "start_time": "2022-11-20T12:09:02.621Z"
   },
   {
    "duration": 17,
    "start_time": "2022-11-20T12:09:04.309Z"
   },
   {
    "duration": 11,
    "start_time": "2022-11-20T12:09:05.925Z"
   },
   {
    "duration": 9,
    "start_time": "2022-11-20T12:15:47.580Z"
   },
   {
    "duration": 9,
    "start_time": "2022-11-20T12:16:19.012Z"
   },
   {
    "duration": 8,
    "start_time": "2022-11-20T12:17:43.299Z"
   },
   {
    "duration": 3,
    "start_time": "2022-11-20T12:18:10.991Z"
   },
   {
    "duration": 8,
    "start_time": "2022-11-20T12:19:15.659Z"
   },
   {
    "duration": 8,
    "start_time": "2022-11-20T12:21:12.978Z"
   },
   {
    "duration": 3,
    "start_time": "2022-11-20T12:22:55.755Z"
   },
   {
    "duration": 4,
    "start_time": "2022-11-20T12:23:27.213Z"
   },
   {
    "duration": 8,
    "start_time": "2022-11-20T12:24:19.196Z"
   },
   {
    "duration": 12,
    "start_time": "2022-11-20T12:25:39.809Z"
   },
   {
    "duration": 12,
    "start_time": "2022-11-20T12:26:00.976Z"
   },
   {
    "duration": 5,
    "start_time": "2022-11-20T12:26:24.431Z"
   },
   {
    "duration": 5,
    "start_time": "2022-11-20T12:26:28.543Z"
   },
   {
    "duration": 9,
    "start_time": "2022-11-20T12:26:41.046Z"
   },
   {
    "duration": 3,
    "start_time": "2022-11-20T12:26:53.000Z"
   },
   {
    "duration": 3,
    "start_time": "2022-11-20T12:27:01.104Z"
   },
   {
    "duration": 7,
    "start_time": "2022-11-20T12:27:41.278Z"
   },
   {
    "duration": 8,
    "start_time": "2022-11-20T12:28:37.237Z"
   },
   {
    "duration": 2,
    "start_time": "2022-11-20T12:51:27.665Z"
   },
   {
    "duration": 8,
    "start_time": "2022-11-20T13:00:48.255Z"
   },
   {
    "duration": 8,
    "start_time": "2022-11-20T13:05:43.489Z"
   },
   {
    "duration": 8,
    "start_time": "2022-11-20T13:05:58.645Z"
   },
   {
    "duration": 7,
    "start_time": "2022-11-20T13:21:45.679Z"
   },
   {
    "duration": 416,
    "start_time": "2022-11-20T13:31:42.334Z"
   },
   {
    "duration": 169,
    "start_time": "2022-11-20T13:31:42.752Z"
   },
   {
    "duration": 18,
    "start_time": "2022-11-20T13:31:42.923Z"
   },
   {
    "duration": 40,
    "start_time": "2022-11-20T13:31:42.943Z"
   },
   {
    "duration": 15,
    "start_time": "2022-11-20T13:31:42.985Z"
   },
   {
    "duration": 21,
    "start_time": "2022-11-20T13:31:43.002Z"
   },
   {
    "duration": 41,
    "start_time": "2022-11-20T13:31:43.025Z"
   },
   {
    "duration": 41,
    "start_time": "2022-11-20T13:31:43.068Z"
   },
   {
    "duration": 43,
    "start_time": "2022-11-20T13:31:43.110Z"
   },
   {
    "duration": 30,
    "start_time": "2022-11-20T13:31:43.156Z"
   },
   {
    "duration": 30,
    "start_time": "2022-11-20T13:31:43.188Z"
   },
   {
    "duration": 72,
    "start_time": "2022-11-20T13:31:43.220Z"
   },
   {
    "duration": 70,
    "start_time": "2022-11-20T13:31:43.293Z"
   },
   {
    "duration": 59,
    "start_time": "2022-11-20T13:31:43.365Z"
   },
   {
    "duration": 51,
    "start_time": "2022-11-20T13:31:43.438Z"
   },
   {
    "duration": 35,
    "start_time": "2022-11-20T13:31:43.491Z"
   },
   {
    "duration": 41,
    "start_time": "2022-11-20T13:31:43.528Z"
   },
   {
    "duration": 24,
    "start_time": "2022-11-20T13:31:43.570Z"
   },
   {
    "duration": 24,
    "start_time": "2022-11-20T13:31:43.596Z"
   },
   {
    "duration": 4,
    "start_time": "2022-11-20T13:31:43.621Z"
   },
   {
    "duration": 46,
    "start_time": "2022-11-20T13:31:43.626Z"
   },
   {
    "duration": 32,
    "start_time": "2022-11-20T13:31:43.673Z"
   },
   {
    "duration": 13,
    "start_time": "2022-11-20T13:31:43.707Z"
   },
   {
    "duration": 19,
    "start_time": "2022-11-20T13:31:43.722Z"
   },
   {
    "duration": 40,
    "start_time": "2022-11-20T13:31:43.742Z"
   },
   {
    "duration": 24,
    "start_time": "2022-11-20T13:31:43.783Z"
   },
   {
    "duration": 32,
    "start_time": "2022-11-20T13:31:43.809Z"
   },
   {
    "duration": 25,
    "start_time": "2022-11-20T13:31:43.844Z"
   },
   {
    "duration": 24,
    "start_time": "2022-11-20T13:31:43.870Z"
   },
   {
    "duration": 19,
    "start_time": "2022-11-20T13:31:43.896Z"
   },
   {
    "duration": 56,
    "start_time": "2022-11-20T13:31:43.916Z"
   },
   {
    "duration": 20,
    "start_time": "2022-11-20T13:31:43.973Z"
   },
   {
    "duration": 30,
    "start_time": "2022-11-20T13:31:43.994Z"
   },
   {
    "duration": 35,
    "start_time": "2022-11-20T13:31:44.026Z"
   },
   {
    "duration": 20,
    "start_time": "2022-11-20T13:31:44.062Z"
   },
   {
    "duration": 9,
    "start_time": "2022-11-20T13:31:44.084Z"
   },
   {
    "duration": 36,
    "start_time": "2022-11-20T13:31:44.095Z"
   },
   {
    "duration": 14,
    "start_time": "2022-11-20T13:31:44.133Z"
   },
   {
    "duration": 8,
    "start_time": "2022-11-20T13:31:48.732Z"
   },
   {
    "duration": 6,
    "start_time": "2022-11-20T13:32:33.897Z"
   },
   {
    "duration": 67,
    "start_time": "2022-11-20T13:33:46.339Z"
   },
   {
    "duration": 6,
    "start_time": "2022-11-20T13:34:17.277Z"
   },
   {
    "duration": 6,
    "start_time": "2022-11-20T13:34:53.422Z"
   }
  ],
  "colab": {
   "collapsed_sections": [
    "E0vqbgi9ay0H",
    "VUC88oWjTJw2"
   ],
   "name": "automatization_template_upd4.ipynb",
   "provenance": []
  },
  "kernelspec": {
   "display_name": "Python 3 (ipykernel)",
   "language": "python",
   "name": "python3"
  },
  "language_info": {
   "codemirror_mode": {
    "name": "ipython",
    "version": 3
   },
   "file_extension": ".py",
   "mimetype": "text/x-python",
   "name": "python",
   "nbconvert_exporter": "python",
   "pygments_lexer": "ipython3",
   "version": "3.9.13"
  },
  "toc": {
   "base_numbering": 1,
   "nav_menu": {
    "height": "215px",
    "width": "403px"
   },
   "number_sections": true,
   "sideBar": true,
   "skip_h1_title": true,
   "title_cell": "Содержание",
   "title_sidebar": "Contents",
   "toc_cell": true,
   "toc_position": {
    "height": "751px",
    "left": "74px",
    "top": "111.125px",
    "width": "354.797px"
   },
   "toc_section_display": true,
   "toc_window_display": true
  }
 },
 "nbformat": 4,
 "nbformat_minor": 4
}
