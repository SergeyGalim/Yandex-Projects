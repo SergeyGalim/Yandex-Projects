{
 "cells": [
  {
   "cell_type": "markdown",
   "metadata": {},
   "source": [
    "<center><b><font size=\"5\">Проект 9: Принятие решений в бизнесе на основании A/B-теста</font></b></center>"
   ]
  },
  {
   "cell_type": "markdown",
   "metadata": {
    "toc": true
   },
   "source": [
    "<h1>Содержание<span class=\"tocSkip\"></span></h1>\n",
    "<div class=\"toc\"><ul class=\"toc-item\"><li><span><a href=\"#Приоритизация-гипотез\" data-toc-modified-id=\"Приоритизация-гипотез-1\"><span class=\"toc-item-num\">1&nbsp;&nbsp;</span>Приоритизация гипотез</a></span><ul class=\"toc-item\"><li><span><a href=\"#Применения-фрейворка-ICE-для-приоритизации-гипотез\" data-toc-modified-id=\"Применения-фрейворка-ICE-для-приоритизации-гипотез-1.1\"><span class=\"toc-item-num\">1.1&nbsp;&nbsp;</span>Применения фрейворка ICE для приоритизации гипотез</a></span></li><li><span><a href=\"#Применения-фрейворка-RCE-для-приоритизации-гипотез\" data-toc-modified-id=\"Применения-фрейворка-RCE-для-приоритизации-гипотез-1.2\"><span class=\"toc-item-num\">1.2&nbsp;&nbsp;</span>Применения фрейворка RCE для приоритизации гипотез</a></span></li></ul></li><li><span><a href=\"#Анализ-A/B-теста\" data-toc-modified-id=\"Анализ-A/B-теста-2\"><span class=\"toc-item-num\">2&nbsp;&nbsp;</span>Анализ A/B-теста</a></span><ul class=\"toc-item\"><li><span><a href=\"#График-кумулятивной-выручки-по-группам\" data-toc-modified-id=\"График-кумулятивной-выручки-по-группам-2.1\"><span class=\"toc-item-num\">2.1&nbsp;&nbsp;</span>График кумулятивной выручки по группам</a></span></li><li><span><a href=\"#График-кумулятивного-среднего-чека-по-группам\" data-toc-modified-id=\"График-кумулятивного-среднего-чека-по-группам-2.2\"><span class=\"toc-item-num\">2.2&nbsp;&nbsp;</span>График кумулятивного среднего чека по группам</a></span></li><li><span><a href=\"#График-относительного-изменения-кумулятивного-среднего-чека-группы-B-к-группе-A\" data-toc-modified-id=\"График-относительного-изменения-кумулятивного-среднего-чека-группы-B-к-группе-A-2.3\"><span class=\"toc-item-num\">2.3&nbsp;&nbsp;</span>График относительного изменения кумулятивного среднего чека группы B к группе A</a></span></li><li><span><a href=\"#График-кумулятивного-среднего-количества-заказов-на-посетителя-по-группам\" data-toc-modified-id=\"График-кумулятивного-среднего-количества-заказов-на-посетителя-по-группам-2.4\"><span class=\"toc-item-num\">2.4&nbsp;&nbsp;</span>График кумулятивного среднего количества заказов на посетителя по группам</a></span></li><li><span><a href=\"#График-относительного-изменения-кумулятивного-среднего-количества-заказов-на-посетителя-группы-B-к-группе-A\" data-toc-modified-id=\"График-относительного-изменения-кумулятивного-среднего-количества-заказов-на-посетителя-группы-B-к-группе-A-2.5\"><span class=\"toc-item-num\">2.5&nbsp;&nbsp;</span>График относительного изменения кумулятивного среднего количества заказов на посетителя группы B к группе A</a></span></li><li><span><a href=\"#Точечный-график-количества-заказов-по-пользователям\" data-toc-modified-id=\"Точечный-график-количества-заказов-по-пользователям-2.6\"><span class=\"toc-item-num\">2.6&nbsp;&nbsp;</span>Точечный график количества заказов по пользователям</a></span></li><li><span><a href=\"#95-й-и-99-й-перцентили-количества-заказов-на-пользователя\" data-toc-modified-id=\"95-й-и-99-й-перцентили-количества-заказов-на-пользователя-2.7\"><span class=\"toc-item-num\">2.7&nbsp;&nbsp;</span>95-й и 99-й перцентили количества заказов на пользователя</a></span></li><li><span><a href=\"#Точечный-график-стоимостей-заказов\" data-toc-modified-id=\"Точечный-график-стоимостей-заказов-2.8\"><span class=\"toc-item-num\">2.8&nbsp;&nbsp;</span>Точечный график стоимостей заказов</a></span></li><li><span><a href=\"#95-й-и-99-й-перцентили-стоимости-заказов\" data-toc-modified-id=\"95-й-и-99-й-перцентили-стоимости-заказов-2.9\"><span class=\"toc-item-num\">2.9&nbsp;&nbsp;</span>95-й и 99-й перцентили стоимости заказов</a></span></li><li><span><a href=\"#Статистическая-значимость-различий-в-среднем-количестве-заказов-на-посетителя-между-группами-по-«сырым»-данным\" data-toc-modified-id=\"Статистическая-значимость-различий-в-среднем-количестве-заказов-на-посетителя-между-группами-по-«сырым»-данным-2.10\"><span class=\"toc-item-num\">2.10&nbsp;&nbsp;</span>Статистическая значимость различий в среднем количестве заказов на посетителя между группами по «сырым» данным</a></span></li><li><span><a href=\"#Статистическая-значимость-различий-в-среднем-чеке-заказа-между-группами-по-«сырым»-данным\" data-toc-modified-id=\"Статистическая-значимость-различий-в-среднем-чеке-заказа-между-группами-по-«сырым»-данным-2.11\"><span class=\"toc-item-num\">2.11&nbsp;&nbsp;</span>Статистическая значимость различий в среднем чеке заказа между группами по «сырым» данным</a></span></li><li><span><a href=\"#Статистическая-значимость-различий-в-среднем-количестве-заказов-на-посетителя-между-группами-по-«очищенным»-данным\" data-toc-modified-id=\"Статистическая-значимость-различий-в-среднем-количестве-заказов-на-посетителя-между-группами-по-«очищенным»-данным-2.12\"><span class=\"toc-item-num\">2.12&nbsp;&nbsp;</span>Статистическая значимость различий в среднем количестве заказов на посетителя между группами по «очищенным» данным</a></span></li><li><span><a href=\"#Статистическая-значимость-различий-в-среднем-чеке-заказа-между-группами-по-«очищенным»-данным.\" data-toc-modified-id=\"Статистическая-значимость-различий-в-среднем-чеке-заказа-между-группами-по-«очищенным»-данным.-2.13\"><span class=\"toc-item-num\">2.13&nbsp;&nbsp;</span>Статистическая значимость различий в среднем чеке заказа между группами по «очищенным» данным.</a></span></li></ul></li><li><span><a href=\"#Вывод\" data-toc-modified-id=\"Вывод-3\"><span class=\"toc-item-num\">3&nbsp;&nbsp;</span>Вывод</a></span></li></ul></div>"
   ]
  },
  {
   "cell_type": "code",
   "execution_count": 53,
   "metadata": {},
   "outputs": [],
   "source": [
    "# загрузим необходимые для работы библиотеки\n",
    "import pandas as pd\n",
    "import matplotlib.pyplot as plt\n",
    "from matplotlib.pyplot import figure\n",
    "import datetime as dt\n",
    "import numpy as np\n",
    "import scipy.stats as stats\n",
    "pd.set_option('display.max_colwidth', None)"
   ]
  },
  {
   "cell_type": "markdown",
   "metadata": {},
   "source": [
    "### Приоритизация гипотез"
   ]
  },
  {
   "cell_type": "code",
   "execution_count": 54,
   "metadata": {},
   "outputs": [
    {
     "name": "stdout",
     "output_type": "stream",
     "text": [
      "<class 'pandas.core.frame.DataFrame'>\n",
      "RangeIndex: 9 entries, 0 to 8\n",
      "Data columns (total 5 columns):\n",
      " #   Column      Non-Null Count  Dtype \n",
      "---  ------      --------------  ----- \n",
      " 0   Hypothesis  9 non-null      object\n",
      " 1   Reach       9 non-null      int64 \n",
      " 2   Impact      9 non-null      int64 \n",
      " 3   Confidence  9 non-null      int64 \n",
      " 4   Efforts     9 non-null      int64 \n",
      "dtypes: int64(4), object(1)\n",
      "memory usage: 488.0+ bytes\n"
     ]
    }
   ],
   "source": [
    "# загрузим данные из датасета\n",
    "data = pd.read_csv('hypothesis.csv') \n",
    "\n",
    "# выведем общую информацию\n",
    "data.info() "
   ]
  },
  {
   "cell_type": "code",
   "execution_count": 55,
   "metadata": {},
   "outputs": [],
   "source": [
    "# приведем колонки к нижнему регистру\n",
    "data.columns = data.columns.str.lower()"
   ]
  },
  {
   "cell_type": "raw",
   "metadata": {},
   "source": [
    "Нулевых значений и пропусков нет, типы даннных соответствуют значениям в таблице, столбцы приведены к нижнему регистру. С датасетом можно работать"
   ]
  },
  {
   "cell_type": "code",
   "execution_count": 56,
   "metadata": {},
   "outputs": [
    {
     "data": {
      "text/html": [
       "<div>\n",
       "<style scoped>\n",
       "    .dataframe tbody tr th:only-of-type {\n",
       "        vertical-align: middle;\n",
       "    }\n",
       "\n",
       "    .dataframe tbody tr th {\n",
       "        vertical-align: top;\n",
       "    }\n",
       "\n",
       "    .dataframe thead th {\n",
       "        text-align: right;\n",
       "    }\n",
       "</style>\n",
       "<table border=\"1\" class=\"dataframe\">\n",
       "  <thead>\n",
       "    <tr style=\"text-align: right;\">\n",
       "      <th></th>\n",
       "      <th>hypothesis</th>\n",
       "      <th>reach</th>\n",
       "      <th>impact</th>\n",
       "      <th>confidence</th>\n",
       "      <th>efforts</th>\n",
       "    </tr>\n",
       "  </thead>\n",
       "  <tbody>\n",
       "    <tr>\n",
       "      <th>0</th>\n",
       "      <td>Добавить два новых канала привлечения трафика, что позволит привлекать на 30% больше пользователей</td>\n",
       "      <td>3</td>\n",
       "      <td>10</td>\n",
       "      <td>8</td>\n",
       "      <td>6</td>\n",
       "    </tr>\n",
       "    <tr>\n",
       "      <th>1</th>\n",
       "      <td>Запустить собственную службу доставки, что сократит срок доставки заказов</td>\n",
       "      <td>2</td>\n",
       "      <td>5</td>\n",
       "      <td>4</td>\n",
       "      <td>10</td>\n",
       "    </tr>\n",
       "    <tr>\n",
       "      <th>2</th>\n",
       "      <td>Добавить блоки рекомендаций товаров на сайт интернет магазина, чтобы повысить конверсию и средний чек заказа</td>\n",
       "      <td>8</td>\n",
       "      <td>3</td>\n",
       "      <td>7</td>\n",
       "      <td>3</td>\n",
       "    </tr>\n",
       "    <tr>\n",
       "      <th>3</th>\n",
       "      <td>Изменить структура категорий, что увеличит конверсию, т.к. пользователи быстрее найдут нужный товар</td>\n",
       "      <td>8</td>\n",
       "      <td>3</td>\n",
       "      <td>3</td>\n",
       "      <td>8</td>\n",
       "    </tr>\n",
       "    <tr>\n",
       "      <th>4</th>\n",
       "      <td>Изменить цвет фона главной страницы, чтобы увеличить вовлеченность пользователей</td>\n",
       "      <td>3</td>\n",
       "      <td>1</td>\n",
       "      <td>1</td>\n",
       "      <td>1</td>\n",
       "    </tr>\n",
       "    <tr>\n",
       "      <th>5</th>\n",
       "      <td>Добавить страницу отзывов клиентов о магазине, что позволит увеличить количество заказов</td>\n",
       "      <td>3</td>\n",
       "      <td>2</td>\n",
       "      <td>2</td>\n",
       "      <td>3</td>\n",
       "    </tr>\n",
       "    <tr>\n",
       "      <th>6</th>\n",
       "      <td>Показать на главной странице баннеры с актуальными акциями и распродажами, чтобы увеличить конверсию</td>\n",
       "      <td>5</td>\n",
       "      <td>3</td>\n",
       "      <td>8</td>\n",
       "      <td>3</td>\n",
       "    </tr>\n",
       "    <tr>\n",
       "      <th>7</th>\n",
       "      <td>Добавить форму подписки на все основные страницы, чтобы собрать базу клиентов для email-рассылок</td>\n",
       "      <td>10</td>\n",
       "      <td>7</td>\n",
       "      <td>8</td>\n",
       "      <td>5</td>\n",
       "    </tr>\n",
       "    <tr>\n",
       "      <th>8</th>\n",
       "      <td>Запустить акцию, дающую скидку на товар в день рождения</td>\n",
       "      <td>1</td>\n",
       "      <td>9</td>\n",
       "      <td>9</td>\n",
       "      <td>5</td>\n",
       "    </tr>\n",
       "  </tbody>\n",
       "</table>\n",
       "</div>"
      ],
      "text/plain": [
       "                                                                                                     hypothesis  \\\n",
       "0            Добавить два новых канала привлечения трафика, что позволит привлекать на 30% больше пользователей   \n",
       "1                                     Запустить собственную службу доставки, что сократит срок доставки заказов   \n",
       "2  Добавить блоки рекомендаций товаров на сайт интернет магазина, чтобы повысить конверсию и средний чек заказа   \n",
       "3           Изменить структура категорий, что увеличит конверсию, т.к. пользователи быстрее найдут нужный товар   \n",
       "4                              Изменить цвет фона главной страницы, чтобы увеличить вовлеченность пользователей   \n",
       "5                      Добавить страницу отзывов клиентов о магазине, что позволит увеличить количество заказов   \n",
       "6          Показать на главной странице баннеры с актуальными акциями и распродажами, чтобы увеличить конверсию   \n",
       "7              Добавить форму подписки на все основные страницы, чтобы собрать базу клиентов для email-рассылок   \n",
       "8                                                       Запустить акцию, дающую скидку на товар в день рождения   \n",
       "\n",
       "   reach  impact  confidence  efforts  \n",
       "0      3      10           8        6  \n",
       "1      2       5           4       10  \n",
       "2      8       3           7        3  \n",
       "3      8       3           3        8  \n",
       "4      3       1           1        1  \n",
       "5      3       2           2        3  \n",
       "6      5       3           8        3  \n",
       "7     10       7           8        5  \n",
       "8      1       9           9        5  "
      ]
     },
     "execution_count": 56,
     "metadata": {},
     "output_type": "execute_result"
    }
   ],
   "source": [
    "data"
   ]
  },
  {
   "cell_type": "markdown",
   "metadata": {},
   "source": [
    "#### Применения фрейворка ICE для приоритизации гипотез"
   ]
  },
  {
   "cell_type": "code",
   "execution_count": 57,
   "metadata": {},
   "outputs": [
    {
     "data": {
      "text/html": [
       "<div>\n",
       "<style scoped>\n",
       "    .dataframe tbody tr th:only-of-type {\n",
       "        vertical-align: middle;\n",
       "    }\n",
       "\n",
       "    .dataframe tbody tr th {\n",
       "        vertical-align: top;\n",
       "    }\n",
       "\n",
       "    .dataframe thead th {\n",
       "        text-align: right;\n",
       "    }\n",
       "</style>\n",
       "<table border=\"1\" class=\"dataframe\">\n",
       "  <thead>\n",
       "    <tr style=\"text-align: right;\">\n",
       "      <th></th>\n",
       "      <th>hypothesis</th>\n",
       "      <th>ice</th>\n",
       "    </tr>\n",
       "  </thead>\n",
       "  <tbody>\n",
       "    <tr>\n",
       "      <th>8</th>\n",
       "      <td>Запустить акцию, дающую скидку на товар в день рождения</td>\n",
       "      <td>16.20</td>\n",
       "    </tr>\n",
       "    <tr>\n",
       "      <th>0</th>\n",
       "      <td>Добавить два новых канала привлечения трафика, что позволит привлекать на 30% больше пользователей</td>\n",
       "      <td>13.33</td>\n",
       "    </tr>\n",
       "    <tr>\n",
       "      <th>7</th>\n",
       "      <td>Добавить форму подписки на все основные страницы, чтобы собрать базу клиентов для email-рассылок</td>\n",
       "      <td>11.20</td>\n",
       "    </tr>\n",
       "    <tr>\n",
       "      <th>6</th>\n",
       "      <td>Показать на главной странице баннеры с актуальными акциями и распродажами, чтобы увеличить конверсию</td>\n",
       "      <td>8.00</td>\n",
       "    </tr>\n",
       "    <tr>\n",
       "      <th>2</th>\n",
       "      <td>Добавить блоки рекомендаций товаров на сайт интернет магазина, чтобы повысить конверсию и средний чек заказа</td>\n",
       "      <td>7.00</td>\n",
       "    </tr>\n",
       "    <tr>\n",
       "      <th>1</th>\n",
       "      <td>Запустить собственную службу доставки, что сократит срок доставки заказов</td>\n",
       "      <td>2.00</td>\n",
       "    </tr>\n",
       "    <tr>\n",
       "      <th>5</th>\n",
       "      <td>Добавить страницу отзывов клиентов о магазине, что позволит увеличить количество заказов</td>\n",
       "      <td>1.33</td>\n",
       "    </tr>\n",
       "    <tr>\n",
       "      <th>3</th>\n",
       "      <td>Изменить структура категорий, что увеличит конверсию, т.к. пользователи быстрее найдут нужный товар</td>\n",
       "      <td>1.12</td>\n",
       "    </tr>\n",
       "    <tr>\n",
       "      <th>4</th>\n",
       "      <td>Изменить цвет фона главной страницы, чтобы увеличить вовлеченность пользователей</td>\n",
       "      <td>1.00</td>\n",
       "    </tr>\n",
       "  </tbody>\n",
       "</table>\n",
       "</div>"
      ],
      "text/plain": [
       "                                                                                                     hypothesis  \\\n",
       "8                                                       Запустить акцию, дающую скидку на товар в день рождения   \n",
       "0            Добавить два новых канала привлечения трафика, что позволит привлекать на 30% больше пользователей   \n",
       "7              Добавить форму подписки на все основные страницы, чтобы собрать базу клиентов для email-рассылок   \n",
       "6          Показать на главной странице баннеры с актуальными акциями и распродажами, чтобы увеличить конверсию   \n",
       "2  Добавить блоки рекомендаций товаров на сайт интернет магазина, чтобы повысить конверсию и средний чек заказа   \n",
       "1                                     Запустить собственную службу доставки, что сократит срок доставки заказов   \n",
       "5                      Добавить страницу отзывов клиентов о магазине, что позволит увеличить количество заказов   \n",
       "3           Изменить структура категорий, что увеличит конверсию, т.к. пользователи быстрее найдут нужный товар   \n",
       "4                              Изменить цвет фона главной страницы, чтобы увеличить вовлеченность пользователей   \n",
       "\n",
       "     ice  \n",
       "8  16.20  \n",
       "0  13.33  \n",
       "7  11.20  \n",
       "6   8.00  \n",
       "2   7.00  \n",
       "1   2.00  \n",
       "5   1.33  \n",
       "3   1.12  \n",
       "4   1.00  "
      ]
     },
     "execution_count": 57,
     "metadata": {},
     "output_type": "execute_result"
    }
   ],
   "source": [
    "data_ice = data.copy()\n",
    "data_ice['ice'] = (data_ice['impact'] * data_ice['confidence']) / data_ice['efforts']\n",
    "data_ice[['hypothesis', 'ice']].sort_values(by='ice', ascending=False).round(2)"
   ]
  },
  {
   "cell_type": "markdown",
   "metadata": {},
   "source": [
    "#### Применения фрейворка RCE для приоритизации гипотез"
   ]
  },
  {
   "cell_type": "code",
   "execution_count": 58,
   "metadata": {},
   "outputs": [
    {
     "data": {
      "text/html": [
       "<div>\n",
       "<style scoped>\n",
       "    .dataframe tbody tr th:only-of-type {\n",
       "        vertical-align: middle;\n",
       "    }\n",
       "\n",
       "    .dataframe tbody tr th {\n",
       "        vertical-align: top;\n",
       "    }\n",
       "\n",
       "    .dataframe thead th {\n",
       "        text-align: right;\n",
       "    }\n",
       "</style>\n",
       "<table border=\"1\" class=\"dataframe\">\n",
       "  <thead>\n",
       "    <tr style=\"text-align: right;\">\n",
       "      <th></th>\n",
       "      <th>hypothesis</th>\n",
       "      <th>rice</th>\n",
       "    </tr>\n",
       "  </thead>\n",
       "  <tbody>\n",
       "    <tr>\n",
       "      <th>7</th>\n",
       "      <td>Добавить форму подписки на все основные страницы, чтобы собрать базу клиентов для email-рассылок</td>\n",
       "      <td>112.0</td>\n",
       "    </tr>\n",
       "    <tr>\n",
       "      <th>2</th>\n",
       "      <td>Добавить блоки рекомендаций товаров на сайт интернет магазина, чтобы повысить конверсию и средний чек заказа</td>\n",
       "      <td>56.0</td>\n",
       "    </tr>\n",
       "    <tr>\n",
       "      <th>0</th>\n",
       "      <td>Добавить два новых канала привлечения трафика, что позволит привлекать на 30% больше пользователей</td>\n",
       "      <td>40.0</td>\n",
       "    </tr>\n",
       "    <tr>\n",
       "      <th>6</th>\n",
       "      <td>Показать на главной странице баннеры с актуальными акциями и распродажами, чтобы увеличить конверсию</td>\n",
       "      <td>40.0</td>\n",
       "    </tr>\n",
       "    <tr>\n",
       "      <th>8</th>\n",
       "      <td>Запустить акцию, дающую скидку на товар в день рождения</td>\n",
       "      <td>16.2</td>\n",
       "    </tr>\n",
       "    <tr>\n",
       "      <th>3</th>\n",
       "      <td>Изменить структура категорий, что увеличит конверсию, т.к. пользователи быстрее найдут нужный товар</td>\n",
       "      <td>9.0</td>\n",
       "    </tr>\n",
       "    <tr>\n",
       "      <th>1</th>\n",
       "      <td>Запустить собственную службу доставки, что сократит срок доставки заказов</td>\n",
       "      <td>4.0</td>\n",
       "    </tr>\n",
       "    <tr>\n",
       "      <th>5</th>\n",
       "      <td>Добавить страницу отзывов клиентов о магазине, что позволит увеличить количество заказов</td>\n",
       "      <td>4.0</td>\n",
       "    </tr>\n",
       "    <tr>\n",
       "      <th>4</th>\n",
       "      <td>Изменить цвет фона главной страницы, чтобы увеличить вовлеченность пользователей</td>\n",
       "      <td>3.0</td>\n",
       "    </tr>\n",
       "  </tbody>\n",
       "</table>\n",
       "</div>"
      ],
      "text/plain": [
       "                                                                                                     hypothesis  \\\n",
       "7              Добавить форму подписки на все основные страницы, чтобы собрать базу клиентов для email-рассылок   \n",
       "2  Добавить блоки рекомендаций товаров на сайт интернет магазина, чтобы повысить конверсию и средний чек заказа   \n",
       "0            Добавить два новых канала привлечения трафика, что позволит привлекать на 30% больше пользователей   \n",
       "6          Показать на главной странице баннеры с актуальными акциями и распродажами, чтобы увеличить конверсию   \n",
       "8                                                       Запустить акцию, дающую скидку на товар в день рождения   \n",
       "3           Изменить структура категорий, что увеличит конверсию, т.к. пользователи быстрее найдут нужный товар   \n",
       "1                                     Запустить собственную службу доставки, что сократит срок доставки заказов   \n",
       "5                      Добавить страницу отзывов клиентов о магазине, что позволит увеличить количество заказов   \n",
       "4                              Изменить цвет фона главной страницы, чтобы увеличить вовлеченность пользователей   \n",
       "\n",
       "    rice  \n",
       "7  112.0  \n",
       "2   56.0  \n",
       "0   40.0  \n",
       "6   40.0  \n",
       "8   16.2  \n",
       "3    9.0  \n",
       "1    4.0  \n",
       "5    4.0  \n",
       "4    3.0  "
      ]
     },
     "execution_count": 58,
     "metadata": {},
     "output_type": "execute_result"
    }
   ],
   "source": [
    "data_rice = data.copy()\n",
    "data_rice['rice'] = (data_rice['reach'] * data_rice['impact'] * data_rice['confidence']) / data_rice['efforts']\n",
    "data_rice[['hypothesis', 'rice']].sort_values(by='rice', ascending=False).round(2)"
   ]
  },
  {
   "cell_type": "markdown",
   "metadata": {},
   "source": [
    "При использовании разных фреймворков гипотезы 0, 2, 6, 7, 8 находядтся в первой 5-ке, но приоритизация изменилась. В RICE первой место занимает гипотеза 7, в то время как в ICE - гипотеза 8. Связано это с максимальным охватом гипотезы 7, равным 10."
   ]
  },
  {
   "cell_type": "markdown",
   "metadata": {},
   "source": [
    "### Анализ A/B-теста"
   ]
  },
  {
   "cell_type": "code",
   "execution_count": 59,
   "metadata": {},
   "outputs": [],
   "source": [
    "# загрузим данные\n",
    "orders = pd.read_csv('orders.csv')\n",
    "visitors = pd.read_csv('visitors.csv')"
   ]
  },
  {
   "cell_type": "code",
   "execution_count": 60,
   "metadata": {},
   "outputs": [
    {
     "name": "stdout",
     "output_type": "stream",
     "text": [
      "<class 'pandas.core.frame.DataFrame'>\n",
      "RangeIndex: 1197 entries, 0 to 1196\n",
      "Data columns (total 5 columns):\n",
      " #   Column         Non-Null Count  Dtype \n",
      "---  ------         --------------  ----- \n",
      " 0   transactionId  1197 non-null   int64 \n",
      " 1   visitorId      1197 non-null   int64 \n",
      " 2   date           1197 non-null   object\n",
      " 3   revenue        1197 non-null   int64 \n",
      " 4   group          1197 non-null   object\n",
      "dtypes: int64(3), object(2)\n",
      "memory usage: 46.9+ KB\n"
     ]
    },
    {
     "data": {
      "text/html": [
       "<div>\n",
       "<style scoped>\n",
       "    .dataframe tbody tr th:only-of-type {\n",
       "        vertical-align: middle;\n",
       "    }\n",
       "\n",
       "    .dataframe tbody tr th {\n",
       "        vertical-align: top;\n",
       "    }\n",
       "\n",
       "    .dataframe thead th {\n",
       "        text-align: right;\n",
       "    }\n",
       "</style>\n",
       "<table border=\"1\" class=\"dataframe\">\n",
       "  <thead>\n",
       "    <tr style=\"text-align: right;\">\n",
       "      <th></th>\n",
       "      <th>transactionId</th>\n",
       "      <th>visitorId</th>\n",
       "      <th>date</th>\n",
       "      <th>revenue</th>\n",
       "      <th>group</th>\n",
       "    </tr>\n",
       "  </thead>\n",
       "  <tbody>\n",
       "    <tr>\n",
       "      <th>0</th>\n",
       "      <td>3667963787</td>\n",
       "      <td>3312258926</td>\n",
       "      <td>2019-08-15</td>\n",
       "      <td>1650</td>\n",
       "      <td>B</td>\n",
       "    </tr>\n",
       "    <tr>\n",
       "      <th>1</th>\n",
       "      <td>2804400009</td>\n",
       "      <td>3642806036</td>\n",
       "      <td>2019-08-15</td>\n",
       "      <td>730</td>\n",
       "      <td>B</td>\n",
       "    </tr>\n",
       "    <tr>\n",
       "      <th>2</th>\n",
       "      <td>2961555356</td>\n",
       "      <td>4069496402</td>\n",
       "      <td>2019-08-15</td>\n",
       "      <td>400</td>\n",
       "      <td>A</td>\n",
       "    </tr>\n",
       "    <tr>\n",
       "      <th>3</th>\n",
       "      <td>3797467345</td>\n",
       "      <td>1196621759</td>\n",
       "      <td>2019-08-15</td>\n",
       "      <td>9759</td>\n",
       "      <td>B</td>\n",
       "    </tr>\n",
       "    <tr>\n",
       "      <th>4</th>\n",
       "      <td>2282983706</td>\n",
       "      <td>2322279887</td>\n",
       "      <td>2019-08-15</td>\n",
       "      <td>2308</td>\n",
       "      <td>B</td>\n",
       "    </tr>\n",
       "  </tbody>\n",
       "</table>\n",
       "</div>"
      ],
      "text/plain": [
       "   transactionId   visitorId        date  revenue group\n",
       "0     3667963787  3312258926  2019-08-15     1650     B\n",
       "1     2804400009  3642806036  2019-08-15      730     B\n",
       "2     2961555356  4069496402  2019-08-15      400     A\n",
       "3     3797467345  1196621759  2019-08-15     9759     B\n",
       "4     2282983706  2322279887  2019-08-15     2308     B"
      ]
     },
     "execution_count": 60,
     "metadata": {},
     "output_type": "execute_result"
    }
   ],
   "source": [
    "# выведем информацию и первые 5 строк\n",
    "orders.info()\n",
    "orders.head()"
   ]
  },
  {
   "cell_type": "code",
   "execution_count": 61,
   "metadata": {},
   "outputs": [
    {
     "name": "stdout",
     "output_type": "stream",
     "text": [
      "<class 'pandas.core.frame.DataFrame'>\n",
      "RangeIndex: 62 entries, 0 to 61\n",
      "Data columns (total 3 columns):\n",
      " #   Column    Non-Null Count  Dtype \n",
      "---  ------    --------------  ----- \n",
      " 0   date      62 non-null     object\n",
      " 1   group     62 non-null     object\n",
      " 2   visitors  62 non-null     int64 \n",
      "dtypes: int64(1), object(2)\n",
      "memory usage: 1.6+ KB\n"
     ]
    },
    {
     "data": {
      "text/html": [
       "<div>\n",
       "<style scoped>\n",
       "    .dataframe tbody tr th:only-of-type {\n",
       "        vertical-align: middle;\n",
       "    }\n",
       "\n",
       "    .dataframe tbody tr th {\n",
       "        vertical-align: top;\n",
       "    }\n",
       "\n",
       "    .dataframe thead th {\n",
       "        text-align: right;\n",
       "    }\n",
       "</style>\n",
       "<table border=\"1\" class=\"dataframe\">\n",
       "  <thead>\n",
       "    <tr style=\"text-align: right;\">\n",
       "      <th></th>\n",
       "      <th>date</th>\n",
       "      <th>group</th>\n",
       "      <th>visitors</th>\n",
       "    </tr>\n",
       "  </thead>\n",
       "  <tbody>\n",
       "    <tr>\n",
       "      <th>0</th>\n",
       "      <td>2019-08-01</td>\n",
       "      <td>A</td>\n",
       "      <td>719</td>\n",
       "    </tr>\n",
       "    <tr>\n",
       "      <th>1</th>\n",
       "      <td>2019-08-02</td>\n",
       "      <td>A</td>\n",
       "      <td>619</td>\n",
       "    </tr>\n",
       "    <tr>\n",
       "      <th>2</th>\n",
       "      <td>2019-08-03</td>\n",
       "      <td>A</td>\n",
       "      <td>507</td>\n",
       "    </tr>\n",
       "    <tr>\n",
       "      <th>3</th>\n",
       "      <td>2019-08-04</td>\n",
       "      <td>A</td>\n",
       "      <td>717</td>\n",
       "    </tr>\n",
       "    <tr>\n",
       "      <th>4</th>\n",
       "      <td>2019-08-05</td>\n",
       "      <td>A</td>\n",
       "      <td>756</td>\n",
       "    </tr>\n",
       "  </tbody>\n",
       "</table>\n",
       "</div>"
      ],
      "text/plain": [
       "         date group  visitors\n",
       "0  2019-08-01     A       719\n",
       "1  2019-08-02     A       619\n",
       "2  2019-08-03     A       507\n",
       "3  2019-08-04     A       717\n",
       "4  2019-08-05     A       756"
      ]
     },
     "execution_count": 61,
     "metadata": {},
     "output_type": "execute_result"
    }
   ],
   "source": [
    "visitors.info()\n",
    "visitors.head()"
   ]
  },
  {
   "cell_type": "markdown",
   "metadata": {},
   "source": [
    "В обоих датасетах отстутствую пропуски и нулевые значения, все названия столбцов приведены к нижнему регистру, но формат даты указан неправильно."
   ]
  },
  {
   "cell_type": "code",
   "execution_count": 62,
   "metadata": {},
   "outputs": [],
   "source": [
    "# изменим формат даты\n",
    "orders['date'] = orders['date'].map(lambda x: dt.datetime.strptime(x, '%Y-%m-%d'))\n",
    "visitors['date'] = visitors['date'].map(lambda x: dt.datetime.strptime(x, '%Y-%m-%d'))"
   ]
  },
  {
   "cell_type": "code",
   "execution_count": 63,
   "metadata": {},
   "outputs": [
    {
     "name": "stdout",
     "output_type": "stream",
     "text": [
      "<class 'pandas.core.frame.DataFrame'>\n",
      "RangeIndex: 1197 entries, 0 to 1196\n",
      "Data columns (total 5 columns):\n",
      " #   Column         Non-Null Count  Dtype         \n",
      "---  ------         --------------  -----         \n",
      " 0   transactionId  1197 non-null   int64         \n",
      " 1   visitorId      1197 non-null   int64         \n",
      " 2   date           1197 non-null   datetime64[ns]\n",
      " 3   revenue        1197 non-null   int64         \n",
      " 4   group          1197 non-null   object        \n",
      "dtypes: datetime64[ns](1), int64(3), object(1)\n",
      "memory usage: 46.9+ KB\n"
     ]
    },
    {
     "data": {
      "text/html": [
       "<div>\n",
       "<style scoped>\n",
       "    .dataframe tbody tr th:only-of-type {\n",
       "        vertical-align: middle;\n",
       "    }\n",
       "\n",
       "    .dataframe tbody tr th {\n",
       "        vertical-align: top;\n",
       "    }\n",
       "\n",
       "    .dataframe thead th {\n",
       "        text-align: right;\n",
       "    }\n",
       "</style>\n",
       "<table border=\"1\" class=\"dataframe\">\n",
       "  <thead>\n",
       "    <tr style=\"text-align: right;\">\n",
       "      <th></th>\n",
       "      <th>transactionId</th>\n",
       "      <th>visitorId</th>\n",
       "      <th>date</th>\n",
       "      <th>revenue</th>\n",
       "      <th>group</th>\n",
       "    </tr>\n",
       "  </thead>\n",
       "  <tbody>\n",
       "    <tr>\n",
       "      <th>0</th>\n",
       "      <td>3667963787</td>\n",
       "      <td>3312258926</td>\n",
       "      <td>2019-08-15</td>\n",
       "      <td>1650</td>\n",
       "      <td>B</td>\n",
       "    </tr>\n",
       "    <tr>\n",
       "      <th>1</th>\n",
       "      <td>2804400009</td>\n",
       "      <td>3642806036</td>\n",
       "      <td>2019-08-15</td>\n",
       "      <td>730</td>\n",
       "      <td>B</td>\n",
       "    </tr>\n",
       "    <tr>\n",
       "      <th>2</th>\n",
       "      <td>2961555356</td>\n",
       "      <td>4069496402</td>\n",
       "      <td>2019-08-15</td>\n",
       "      <td>400</td>\n",
       "      <td>A</td>\n",
       "    </tr>\n",
       "    <tr>\n",
       "      <th>3</th>\n",
       "      <td>3797467345</td>\n",
       "      <td>1196621759</td>\n",
       "      <td>2019-08-15</td>\n",
       "      <td>9759</td>\n",
       "      <td>B</td>\n",
       "    </tr>\n",
       "    <tr>\n",
       "      <th>4</th>\n",
       "      <td>2282983706</td>\n",
       "      <td>2322279887</td>\n",
       "      <td>2019-08-15</td>\n",
       "      <td>2308</td>\n",
       "      <td>B</td>\n",
       "    </tr>\n",
       "  </tbody>\n",
       "</table>\n",
       "</div>"
      ],
      "text/plain": [
       "   transactionId   visitorId       date  revenue group\n",
       "0     3667963787  3312258926 2019-08-15     1650     B\n",
       "1     2804400009  3642806036 2019-08-15      730     B\n",
       "2     2961555356  4069496402 2019-08-15      400     A\n",
       "3     3797467345  1196621759 2019-08-15     9759     B\n",
       "4     2282983706  2322279887 2019-08-15     2308     B"
      ]
     },
     "execution_count": 63,
     "metadata": {},
     "output_type": "execute_result"
    }
   ],
   "source": [
    "orders.info()\n",
    "orders.head()"
   ]
  },
  {
   "cell_type": "code",
   "execution_count": 64,
   "metadata": {},
   "outputs": [
    {
     "name": "stdout",
     "output_type": "stream",
     "text": [
      "<class 'pandas.core.frame.DataFrame'>\n",
      "RangeIndex: 62 entries, 0 to 61\n",
      "Data columns (total 3 columns):\n",
      " #   Column    Non-Null Count  Dtype         \n",
      "---  ------    --------------  -----         \n",
      " 0   date      62 non-null     datetime64[ns]\n",
      " 1   group     62 non-null     object        \n",
      " 2   visitors  62 non-null     int64         \n",
      "dtypes: datetime64[ns](1), int64(1), object(1)\n",
      "memory usage: 1.6+ KB\n"
     ]
    },
    {
     "data": {
      "text/html": [
       "<div>\n",
       "<style scoped>\n",
       "    .dataframe tbody tr th:only-of-type {\n",
       "        vertical-align: middle;\n",
       "    }\n",
       "\n",
       "    .dataframe tbody tr th {\n",
       "        vertical-align: top;\n",
       "    }\n",
       "\n",
       "    .dataframe thead th {\n",
       "        text-align: right;\n",
       "    }\n",
       "</style>\n",
       "<table border=\"1\" class=\"dataframe\">\n",
       "  <thead>\n",
       "    <tr style=\"text-align: right;\">\n",
       "      <th></th>\n",
       "      <th>date</th>\n",
       "      <th>group</th>\n",
       "      <th>visitors</th>\n",
       "    </tr>\n",
       "  </thead>\n",
       "  <tbody>\n",
       "    <tr>\n",
       "      <th>0</th>\n",
       "      <td>2019-08-01</td>\n",
       "      <td>A</td>\n",
       "      <td>719</td>\n",
       "    </tr>\n",
       "    <tr>\n",
       "      <th>1</th>\n",
       "      <td>2019-08-02</td>\n",
       "      <td>A</td>\n",
       "      <td>619</td>\n",
       "    </tr>\n",
       "    <tr>\n",
       "      <th>2</th>\n",
       "      <td>2019-08-03</td>\n",
       "      <td>A</td>\n",
       "      <td>507</td>\n",
       "    </tr>\n",
       "    <tr>\n",
       "      <th>3</th>\n",
       "      <td>2019-08-04</td>\n",
       "      <td>A</td>\n",
       "      <td>717</td>\n",
       "    </tr>\n",
       "    <tr>\n",
       "      <th>4</th>\n",
       "      <td>2019-08-05</td>\n",
       "      <td>A</td>\n",
       "      <td>756</td>\n",
       "    </tr>\n",
       "  </tbody>\n",
       "</table>\n",
       "</div>"
      ],
      "text/plain": [
       "        date group  visitors\n",
       "0 2019-08-01     A       719\n",
       "1 2019-08-02     A       619\n",
       "2 2019-08-03     A       507\n",
       "3 2019-08-04     A       717\n",
       "4 2019-08-05     A       756"
      ]
     },
     "execution_count": 64,
     "metadata": {},
     "output_type": "execute_result"
    }
   ],
   "source": [
    "visitors.info()\n",
    "visitors.head()"
   ]
  },
  {
   "cell_type": "markdown",
   "metadata": {},
   "source": [
    "Теперь с данными можно работать."
   ]
  },
  {
   "cell_type": "code",
   "execution_count": 65,
   "metadata": {},
   "outputs": [
    {
     "data": {
      "text/plain": [
       "B    640\n",
       "A    557\n",
       "Name: group, dtype: int64"
      ]
     },
     "metadata": {},
     "output_type": "display_data"
    },
    {
     "data": {
      "text/plain": [
       "A    31\n",
       "B    31\n",
       "Name: group, dtype: int64"
      ]
     },
     "execution_count": 65,
     "metadata": {},
     "output_type": "execute_result"
    }
   ],
   "source": [
    "# проверим, сколько групп участвуют в тесте\n",
    "display(orders['group'].value_counts())\n",
    "visitors['group'].value_counts()"
   ]
  },
  {
   "cell_type": "code",
   "execution_count": 66,
   "metadata": {},
   "outputs": [
    {
     "data": {
      "text/plain": [
       "(Timestamp('2019-08-01 00:00:00'), Timestamp('2019-08-31 00:00:00'))"
      ]
     },
     "execution_count": 66,
     "metadata": {},
     "output_type": "execute_result"
    }
   ],
   "source": [
    "# посмотрим, за какой период у нас данные\n",
    "orders['date'].min(), orders['date'].max()"
   ]
  },
  {
   "cell_type": "code",
   "execution_count": 67,
   "metadata": {},
   "outputs": [
    {
     "data": {
      "text/plain": [
       "visitorId      58\n",
       "group_count    58\n",
       "dtype: int64"
      ]
     },
     "execution_count": 67,
     "metadata": {},
     "output_type": "execute_result"
    }
   ],
   "source": [
    "# проверим, не попадают ли какие-то пользователи в обе группы\n",
    "visitor_group = orders.groupby('visitorId', as_index=False).agg({'group': 'nunique'})\n",
    "visitor_group.columns = ['visitorId', 'group_count']\n",
    "visitor_group.query('group_count > 1').count()"
   ]
  },
  {
   "cell_type": "markdown",
   "metadata": {},
   "source": [
    "В тесте участвуют только 2 группы. Тест проводился весь август 2019 года. При анализе таблицы заказов оказалось, что существуют клиенты, состоящие в двух группах одновременно. Это говорит об ошибке в сборе данных."
   ]
  },
  {
   "cell_type": "markdown",
   "metadata": {},
   "source": [
    "#### График кумулятивной выручки по группам"
   ]
  },
  {
   "cell_type": "code",
   "execution_count": 68,
   "metadata": {},
   "outputs": [],
   "source": [
    "# создаем массив уникальных пар значений дат и групп теста\n",
    "datesGroups = orders[['date','group']].drop_duplicates() "
   ]
  },
  {
   "cell_type": "code",
   "execution_count": 69,
   "metadata": {},
   "outputs": [
    {
     "data": {
      "text/html": [
       "<div>\n",
       "<style scoped>\n",
       "    .dataframe tbody tr th:only-of-type {\n",
       "        vertical-align: middle;\n",
       "    }\n",
       "\n",
       "    .dataframe tbody tr th {\n",
       "        vertical-align: top;\n",
       "    }\n",
       "\n",
       "    .dataframe thead th {\n",
       "        text-align: right;\n",
       "    }\n",
       "</style>\n",
       "<table border=\"1\" class=\"dataframe\">\n",
       "  <thead>\n",
       "    <tr style=\"text-align: right;\">\n",
       "      <th></th>\n",
       "      <th>date</th>\n",
       "      <th>group</th>\n",
       "    </tr>\n",
       "  </thead>\n",
       "  <tbody>\n",
       "    <tr>\n",
       "      <th>0</th>\n",
       "      <td>2019-08-15</td>\n",
       "      <td>B</td>\n",
       "    </tr>\n",
       "    <tr>\n",
       "      <th>2</th>\n",
       "      <td>2019-08-15</td>\n",
       "      <td>A</td>\n",
       "    </tr>\n",
       "    <tr>\n",
       "      <th>45</th>\n",
       "      <td>2019-08-16</td>\n",
       "      <td>A</td>\n",
       "    </tr>\n",
       "    <tr>\n",
       "      <th>47</th>\n",
       "      <td>2019-08-16</td>\n",
       "      <td>B</td>\n",
       "    </tr>\n",
       "    <tr>\n",
       "      <th>55</th>\n",
       "      <td>2019-08-01</td>\n",
       "      <td>A</td>\n",
       "    </tr>\n",
       "  </tbody>\n",
       "</table>\n",
       "</div>"
      ],
      "text/plain": [
       "         date group\n",
       "0  2019-08-15     B\n",
       "2  2019-08-15     A\n",
       "45 2019-08-16     A\n",
       "47 2019-08-16     B\n",
       "55 2019-08-01     A"
      ]
     },
     "execution_count": 69,
     "metadata": {},
     "output_type": "execute_result"
    }
   ],
   "source": [
    "datesGroups.head()"
   ]
  },
  {
   "cell_type": "code",
   "execution_count": 70,
   "metadata": {},
   "outputs": [],
   "source": [
    "# получаем агрегированные кумулятивные по дням данные о заказах \n",
    "ordersAggregated = datesGroups.apply(lambda x: orders[np.logical_and(orders['date'] <= x['date'], orders['group'] == x['group'])]\n",
    "                                     .agg({'date' : 'max', \n",
    "                                           'group' : 'max', \n",
    "                                           'transactionId' : 'nunique', \n",
    "                                           'visitorId' : 'nunique', \n",
    "                                           'revenue' : 'sum'}), axis=1)\\\n",
    ".sort_values(by=['date','group'])"
   ]
  },
  {
   "cell_type": "code",
   "execution_count": 71,
   "metadata": {},
   "outputs": [
    {
     "data": {
      "text/html": [
       "<div>\n",
       "<style scoped>\n",
       "    .dataframe tbody tr th:only-of-type {\n",
       "        vertical-align: middle;\n",
       "    }\n",
       "\n",
       "    .dataframe tbody tr th {\n",
       "        vertical-align: top;\n",
       "    }\n",
       "\n",
       "    .dataframe thead th {\n",
       "        text-align: right;\n",
       "    }\n",
       "</style>\n",
       "<table border=\"1\" class=\"dataframe\">\n",
       "  <thead>\n",
       "    <tr style=\"text-align: right;\">\n",
       "      <th></th>\n",
       "      <th>date</th>\n",
       "      <th>group</th>\n",
       "      <th>transactionId</th>\n",
       "      <th>visitorId</th>\n",
       "      <th>revenue</th>\n",
       "    </tr>\n",
       "  </thead>\n",
       "  <tbody>\n",
       "    <tr>\n",
       "      <th>55</th>\n",
       "      <td>2019-08-01</td>\n",
       "      <td>A</td>\n",
       "      <td>24</td>\n",
       "      <td>20</td>\n",
       "      <td>148579</td>\n",
       "    </tr>\n",
       "    <tr>\n",
       "      <th>66</th>\n",
       "      <td>2019-08-01</td>\n",
       "      <td>B</td>\n",
       "      <td>21</td>\n",
       "      <td>20</td>\n",
       "      <td>101217</td>\n",
       "    </tr>\n",
       "    <tr>\n",
       "      <th>175</th>\n",
       "      <td>2019-08-02</td>\n",
       "      <td>A</td>\n",
       "      <td>44</td>\n",
       "      <td>38</td>\n",
       "      <td>242401</td>\n",
       "    </tr>\n",
       "    <tr>\n",
       "      <th>173</th>\n",
       "      <td>2019-08-02</td>\n",
       "      <td>B</td>\n",
       "      <td>45</td>\n",
       "      <td>43</td>\n",
       "      <td>266748</td>\n",
       "    </tr>\n",
       "    <tr>\n",
       "      <th>291</th>\n",
       "      <td>2019-08-03</td>\n",
       "      <td>A</td>\n",
       "      <td>68</td>\n",
       "      <td>62</td>\n",
       "      <td>354874</td>\n",
       "    </tr>\n",
       "  </tbody>\n",
       "</table>\n",
       "</div>"
      ],
      "text/plain": [
       "          date group  transactionId  visitorId  revenue\n",
       "55  2019-08-01     A             24         20   148579\n",
       "66  2019-08-01     B             21         20   101217\n",
       "175 2019-08-02     A             44         38   242401\n",
       "173 2019-08-02     B             45         43   266748\n",
       "291 2019-08-03     A             68         62   354874"
      ]
     },
     "execution_count": 71,
     "metadata": {},
     "output_type": "execute_result"
    }
   ],
   "source": [
    "ordersAggregated.head()"
   ]
  },
  {
   "cell_type": "code",
   "execution_count": 72,
   "metadata": {},
   "outputs": [],
   "source": [
    "# получаем агрегированные кумулятивные по дням данные о посетителях интернет-магазина \n",
    "visitorsAggregated = datesGroups.apply(lambda x: visitors[np.logical_and(visitors['date'] <= x['date'], visitors['group'] == x['group'])]\n",
    "                                       .agg({'date' : 'max', \n",
    "                                             'group' : 'max', \n",
    "                                             'visitors' : 'sum'}), axis=1)\\\n",
    ".sort_values(by=['date','group'])"
   ]
  },
  {
   "cell_type": "code",
   "execution_count": 73,
   "metadata": {},
   "outputs": [
    {
     "data": {
      "text/html": [
       "<div>\n",
       "<style scoped>\n",
       "    .dataframe tbody tr th:only-of-type {\n",
       "        vertical-align: middle;\n",
       "    }\n",
       "\n",
       "    .dataframe tbody tr th {\n",
       "        vertical-align: top;\n",
       "    }\n",
       "\n",
       "    .dataframe thead th {\n",
       "        text-align: right;\n",
       "    }\n",
       "</style>\n",
       "<table border=\"1\" class=\"dataframe\">\n",
       "  <thead>\n",
       "    <tr style=\"text-align: right;\">\n",
       "      <th></th>\n",
       "      <th>date</th>\n",
       "      <th>group</th>\n",
       "      <th>visitors</th>\n",
       "    </tr>\n",
       "  </thead>\n",
       "  <tbody>\n",
       "    <tr>\n",
       "      <th>55</th>\n",
       "      <td>2019-08-01</td>\n",
       "      <td>A</td>\n",
       "      <td>719</td>\n",
       "    </tr>\n",
       "    <tr>\n",
       "      <th>66</th>\n",
       "      <td>2019-08-01</td>\n",
       "      <td>B</td>\n",
       "      <td>713</td>\n",
       "    </tr>\n",
       "    <tr>\n",
       "      <th>175</th>\n",
       "      <td>2019-08-02</td>\n",
       "      <td>A</td>\n",
       "      <td>1338</td>\n",
       "    </tr>\n",
       "    <tr>\n",
       "      <th>173</th>\n",
       "      <td>2019-08-02</td>\n",
       "      <td>B</td>\n",
       "      <td>1294</td>\n",
       "    </tr>\n",
       "    <tr>\n",
       "      <th>291</th>\n",
       "      <td>2019-08-03</td>\n",
       "      <td>A</td>\n",
       "      <td>1845</td>\n",
       "    </tr>\n",
       "  </tbody>\n",
       "</table>\n",
       "</div>"
      ],
      "text/plain": [
       "          date group  visitors\n",
       "55  2019-08-01     A       719\n",
       "66  2019-08-01     B       713\n",
       "175 2019-08-02     A      1338\n",
       "173 2019-08-02     B      1294\n",
       "291 2019-08-03     A      1845"
      ]
     },
     "execution_count": 73,
     "metadata": {},
     "output_type": "execute_result"
    }
   ],
   "source": [
    "visitorsAggregated.head()"
   ]
  },
  {
   "cell_type": "code",
   "execution_count": 74,
   "metadata": {},
   "outputs": [],
   "source": [
    "# объединяем кумулятивные данные в одной таблице и присваиваем ее столбцам понятные названия\n",
    "cumulativeData = ordersAggregated.merge(visitorsAggregated, left_on=['date', 'group'], right_on=['date', 'group'])"
   ]
  },
  {
   "cell_type": "code",
   "execution_count": 75,
   "metadata": {},
   "outputs": [],
   "source": [
    "cumulativeData.columns = ['date', 'group', 'orders', 'buyers', 'revenue', 'visitors']"
   ]
  },
  {
   "cell_type": "code",
   "execution_count": 76,
   "metadata": {},
   "outputs": [
    {
     "data": {
      "text/html": [
       "<div>\n",
       "<style scoped>\n",
       "    .dataframe tbody tr th:only-of-type {\n",
       "        vertical-align: middle;\n",
       "    }\n",
       "\n",
       "    .dataframe tbody tr th {\n",
       "        vertical-align: top;\n",
       "    }\n",
       "\n",
       "    .dataframe thead th {\n",
       "        text-align: right;\n",
       "    }\n",
       "</style>\n",
       "<table border=\"1\" class=\"dataframe\">\n",
       "  <thead>\n",
       "    <tr style=\"text-align: right;\">\n",
       "      <th></th>\n",
       "      <th>date</th>\n",
       "      <th>group</th>\n",
       "      <th>orders</th>\n",
       "      <th>buyers</th>\n",
       "      <th>revenue</th>\n",
       "      <th>visitors</th>\n",
       "    </tr>\n",
       "  </thead>\n",
       "  <tbody>\n",
       "    <tr>\n",
       "      <th>0</th>\n",
       "      <td>2019-08-01</td>\n",
       "      <td>A</td>\n",
       "      <td>24</td>\n",
       "      <td>20</td>\n",
       "      <td>148579</td>\n",
       "      <td>719</td>\n",
       "    </tr>\n",
       "    <tr>\n",
       "      <th>1</th>\n",
       "      <td>2019-08-01</td>\n",
       "      <td>B</td>\n",
       "      <td>21</td>\n",
       "      <td>20</td>\n",
       "      <td>101217</td>\n",
       "      <td>713</td>\n",
       "    </tr>\n",
       "    <tr>\n",
       "      <th>2</th>\n",
       "      <td>2019-08-02</td>\n",
       "      <td>A</td>\n",
       "      <td>44</td>\n",
       "      <td>38</td>\n",
       "      <td>242401</td>\n",
       "      <td>1338</td>\n",
       "    </tr>\n",
       "    <tr>\n",
       "      <th>3</th>\n",
       "      <td>2019-08-02</td>\n",
       "      <td>B</td>\n",
       "      <td>45</td>\n",
       "      <td>43</td>\n",
       "      <td>266748</td>\n",
       "      <td>1294</td>\n",
       "    </tr>\n",
       "    <tr>\n",
       "      <th>4</th>\n",
       "      <td>2019-08-03</td>\n",
       "      <td>A</td>\n",
       "      <td>68</td>\n",
       "      <td>62</td>\n",
       "      <td>354874</td>\n",
       "      <td>1845</td>\n",
       "    </tr>\n",
       "  </tbody>\n",
       "</table>\n",
       "</div>"
      ],
      "text/plain": [
       "        date group  orders  buyers  revenue  visitors\n",
       "0 2019-08-01     A      24      20   148579       719\n",
       "1 2019-08-01     B      21      20   101217       713\n",
       "2 2019-08-02     A      44      38   242401      1338\n",
       "3 2019-08-02     B      45      43   266748      1294\n",
       "4 2019-08-03     A      68      62   354874      1845"
      ]
     },
     "execution_count": 76,
     "metadata": {},
     "output_type": "execute_result"
    }
   ],
   "source": [
    "cumulativeData.head()"
   ]
  },
  {
   "cell_type": "code",
   "execution_count": 77,
   "metadata": {},
   "outputs": [],
   "source": [
    "# датафрейм с кумулятивным количеством заказов и кумулятивной выручкой по дням в группе А\n",
    "cumulativeRevenueA = cumulativeData[cumulativeData['group']=='A'][['date','revenue', 'orders']]"
   ]
  },
  {
   "cell_type": "code",
   "execution_count": 78,
   "metadata": {},
   "outputs": [],
   "source": [
    "# датафрейм с кумулятивным количеством заказов и кумулятивной выручкой по дням в группе B\n",
    "cumulativeRevenueB = cumulativeData[cumulativeData['group']=='B'][['date','revenue', 'orders']]"
   ]
  },
  {
   "cell_type": "code",
   "execution_count": 79,
   "metadata": {},
   "outputs": [
    {
     "data": {
      "image/png": "[encoded data removed]",
      "text/plain": [
       "<Figure size 800x600 with 1 Axes>"
      ]
     },
     "metadata": {},
     "output_type": "display_data"
    }
   ],
   "source": [
    "figure(figsize=(8, 6))\n",
    "# строим график выручки группы А\n",
    "plt.plot(cumulativeRevenueA['date'], cumulativeRevenueA['revenue'], label='A')\n",
    "\n",
    "# строим график выручки группы B\n",
    "plt.plot(cumulativeRevenueB['date'], cumulativeRevenueB['revenue'], label='B')\n",
    "\n",
    "plt.legend()\n",
    "plt.xlabel('Дата')\n",
    "plt.ylabel('Выручка')\n",
    "plt.xticks(rotation=45)\n",
    "plt.ticklabel_format(style='plain', axis='y')\n",
    "plt.title('Кумулятивная выручка по группам');"
   ]
  },
  {
   "cell_type": "markdown",
   "metadata": {},
   "source": [
    "Судя по графику 1-4 августа выручка групп A и B была примерно одинаковой, но с 5 августа выручка группы B была стабильно выше, кроме 13 августа, когда выручка 2 групп стала одинаковой. Под конец месяца выручка группы B стала значительно выше. В графике наблюдается резкий рост выручки группы B с 18 по 20 августа, что может говорить о резком возростании числа заказов, либо появлении дорогих заказов в выборке."
   ]
  },
  {
   "cell_type": "markdown",
   "metadata": {},
   "source": [
    "#### График кумулятивного среднего чека по группам"
   ]
  },
  {
   "cell_type": "code",
   "execution_count": 80,
   "metadata": {},
   "outputs": [
    {
     "data": {
      "image/png": "[encoded data removed]",
      "text/plain": [
       "<Figure size 800x600 with 1 Axes>"
      ]
     },
     "metadata": {},
     "output_type": "display_data"
    }
   ],
   "source": [
    "figure(figsize=(8, 6))\n",
    "# построим график кумулятивного среднего чека по группам\n",
    "plt.plot(cumulativeRevenueA['date'], cumulativeRevenueA['revenue']/cumulativeRevenueA['orders'], label='A')\n",
    "plt.plot(cumulativeRevenueB['date'], cumulativeRevenueB['revenue']/cumulativeRevenueB['orders'], label='B')\n",
    "plt.legend()\n",
    "plt.xlabel('Дата')\n",
    "plt.ylabel('Средний чек')\n",
    "plt.xticks(rotation=45)\n",
    "plt.ticklabel_format(style='plain', axis='y')\n",
    "plt.title('Кумулятивный средний чек по группам');"
   ]
  },
  {
   "cell_type": "markdown",
   "metadata": {},
   "source": [
    "Средний чек групп не равномерен. С 1 по 5 августа значение среднего чека для группы A снижается. После чего растет вплоть до 13 августа. С 14 августа средний чек группы A становится более равномерным, без резких всплесков. Средний чек группы B неравномерно растет до 17 августа, 18 августа наблюдается резкий скачок среднего чека группы B. Скорее всего в эту группу попали крупные заказы."
   ]
  },
  {
   "cell_type": "markdown",
   "metadata": {},
   "source": [
    "#### График относительного изменения кумулятивного среднего чека группы B к группе A"
   ]
  },
  {
   "cell_type": "code",
   "execution_count": 81,
   "metadata": {},
   "outputs": [
    {
     "data": {
      "text/html": [
       "<div>\n",
       "<style scoped>\n",
       "    .dataframe tbody tr th:only-of-type {\n",
       "        vertical-align: middle;\n",
       "    }\n",
       "\n",
       "    .dataframe tbody tr th {\n",
       "        vertical-align: top;\n",
       "    }\n",
       "\n",
       "    .dataframe thead th {\n",
       "        text-align: right;\n",
       "    }\n",
       "</style>\n",
       "<table border=\"1\" class=\"dataframe\">\n",
       "  <thead>\n",
       "    <tr style=\"text-align: right;\">\n",
       "      <th></th>\n",
       "      <th>date</th>\n",
       "      <th>revenueA</th>\n",
       "      <th>ordersA</th>\n",
       "      <th>revenueB</th>\n",
       "      <th>ordersB</th>\n",
       "    </tr>\n",
       "  </thead>\n",
       "  <tbody>\n",
       "    <tr>\n",
       "      <th>0</th>\n",
       "      <td>2019-08-01</td>\n",
       "      <td>148579</td>\n",
       "      <td>24</td>\n",
       "      <td>101217</td>\n",
       "      <td>21</td>\n",
       "    </tr>\n",
       "    <tr>\n",
       "      <th>1</th>\n",
       "      <td>2019-08-02</td>\n",
       "      <td>242401</td>\n",
       "      <td>44</td>\n",
       "      <td>266748</td>\n",
       "      <td>45</td>\n",
       "    </tr>\n",
       "    <tr>\n",
       "      <th>2</th>\n",
       "      <td>2019-08-03</td>\n",
       "      <td>354874</td>\n",
       "      <td>68</td>\n",
       "      <td>380996</td>\n",
       "      <td>61</td>\n",
       "    </tr>\n",
       "    <tr>\n",
       "      <th>3</th>\n",
       "      <td>2019-08-04</td>\n",
       "      <td>425699</td>\n",
       "      <td>84</td>\n",
       "      <td>489567</td>\n",
       "      <td>78</td>\n",
       "    </tr>\n",
       "    <tr>\n",
       "      <th>4</th>\n",
       "      <td>2019-08-05</td>\n",
       "      <td>549917</td>\n",
       "      <td>109</td>\n",
       "      <td>581995</td>\n",
       "      <td>101</td>\n",
       "    </tr>\n",
       "  </tbody>\n",
       "</table>\n",
       "</div>"
      ],
      "text/plain": [
       "        date  revenueA  ordersA  revenueB  ordersB\n",
       "0 2019-08-01    148579       24    101217       21\n",
       "1 2019-08-02    242401       44    266748       45\n",
       "2 2019-08-03    354874       68    380996       61\n",
       "3 2019-08-04    425699       84    489567       78\n",
       "4 2019-08-05    549917      109    581995      101"
      ]
     },
     "execution_count": 81,
     "metadata": {},
     "output_type": "execute_result"
    }
   ],
   "source": [
    "# собираем данные в одном датафрейме\n",
    "mergedCumulativeRevenue = cumulativeRevenueA.merge(cumulativeRevenueB, on='date', how='left', suffixes=['A', 'B'])\n",
    "mergedCumulativeRevenue.head()"
   ]
  },
  {
   "cell_type": "code",
   "execution_count": 82,
   "metadata": {},
   "outputs": [
    {
     "data": {
      "image/png": "[encoded data removed]",
      "text/plain": [
       "<Figure size 800x600 with 1 Axes>"
      ]
     },
     "metadata": {},
     "output_type": "display_data"
    }
   ],
   "source": [
    "figure(figsize=(8, 6))\n",
    "# построим график относительного изменения кумулятивного среднего чека группы B к группе A\n",
    "plt.plot(mergedCumulativeRevenue['date'], \n",
    "         (mergedCumulativeRevenue['revenueB']/mergedCumulativeRevenue['ordersB']) / \n",
    "         (mergedCumulativeRevenue['revenueA']/mergedCumulativeRevenue['ordersA']) - 1)\n",
    "plt.xticks(rotation=45)\n",
    "plt.xlabel('Дата')\n",
    "plt.ylabel('Отношение средних чеков')\n",
    "plt.title('Относительное изменение кумулятивного среднего чека группы B к группе A')\n",
    "plt.axhline(y=0, color='black', linestyle='--');"
   ]
  },
  {
   "cell_type": "markdown",
   "metadata": {},
   "source": [
    "В нескольких точках наблюдаются \"скачки\" различий кумулятивного среднего чека двух групп. Можно предположить, что в данных имеются аномальные значения, искажающие график."
   ]
  },
  {
   "cell_type": "markdown",
   "metadata": {},
   "source": [
    "#### График кумулятивного среднего количества заказов на посетителя по группам"
   ]
  },
  {
   "cell_type": "code",
   "execution_count": 83,
   "metadata": {},
   "outputs": [],
   "source": [
    "# создадим датафреймы с кумулятивным количеством заказов и кумулятивным количеством пользователей по группам\n",
    "cumulativeOrdersA = cumulativeData[cumulativeData['group'] == 'A'][['date', 'orders', 'visitors']]\n",
    "cumulativeOrdersB = cumulativeData[cumulativeData['group'] == 'B'][['date', 'orders', 'visitors']]"
   ]
  },
  {
   "cell_type": "code",
   "execution_count": 84,
   "metadata": {},
   "outputs": [
    {
     "data": {
      "image/png": "[encoded data removed]",
      "text/plain": [
       "<Figure size 800x600 with 1 Axes>"
      ]
     },
     "metadata": {},
     "output_type": "display_data"
    }
   ],
   "source": [
    "figure(figsize=(8, 6))\n",
    "# построим график кумулятивного среднего количества заказов на посетителя по группам \n",
    "plt.plot(cumulativeOrdersA['date'], cumulativeOrdersA['orders'] / cumulativeOrdersA['visitors'], label='A')\n",
    "plt.plot(cumulativeOrdersA['date'], cumulativeOrdersB['orders'] / cumulativeOrdersB['visitors'], label='B')\n",
    "plt.title('График кумулятивного среднего количества заказов на посетителя по группам')\n",
    "plt.xlabel('Дата')\n",
    "plt.ylabel('Среднее количество заказов')\n",
    "plt.xticks(rotation=45)\n",
    "plt.legend();"
   ]
  },
  {
   "cell_type": "markdown",
   "metadata": {},
   "source": [
    "График для обоих групп не равномерен. В начале заметен резкий рост и падение для обоих групп. Далее среднее количество заказов на посетителя группы A стремительно падает, группы B, наоборот, стремительно растет. С середины месяца резких изменений не происходило, значения оставались примерно на одном уровне. Среднее количество заказов группы В продолжает выигрывать до конца."
   ]
  },
  {
   "cell_type": "markdown",
   "metadata": {},
   "source": [
    "#### График относительного изменения кумулятивного среднего количества заказов на посетителя группы B к группе A"
   ]
  },
  {
   "cell_type": "code",
   "execution_count": 85,
   "metadata": {},
   "outputs": [
    {
     "data": {
      "text/html": [
       "<div>\n",
       "<style scoped>\n",
       "    .dataframe tbody tr th:only-of-type {\n",
       "        vertical-align: middle;\n",
       "    }\n",
       "\n",
       "    .dataframe tbody tr th {\n",
       "        vertical-align: top;\n",
       "    }\n",
       "\n",
       "    .dataframe thead th {\n",
       "        text-align: right;\n",
       "    }\n",
       "</style>\n",
       "<table border=\"1\" class=\"dataframe\">\n",
       "  <thead>\n",
       "    <tr style=\"text-align: right;\">\n",
       "      <th></th>\n",
       "      <th>date</th>\n",
       "      <th>ordersA</th>\n",
       "      <th>visitorsA</th>\n",
       "      <th>ordersB</th>\n",
       "      <th>visitorsB</th>\n",
       "    </tr>\n",
       "  </thead>\n",
       "  <tbody>\n",
       "    <tr>\n",
       "      <th>0</th>\n",
       "      <td>2019-08-01</td>\n",
       "      <td>24</td>\n",
       "      <td>719</td>\n",
       "      <td>21</td>\n",
       "      <td>713</td>\n",
       "    </tr>\n",
       "    <tr>\n",
       "      <th>1</th>\n",
       "      <td>2019-08-02</td>\n",
       "      <td>44</td>\n",
       "      <td>1338</td>\n",
       "      <td>45</td>\n",
       "      <td>1294</td>\n",
       "    </tr>\n",
       "    <tr>\n",
       "      <th>2</th>\n",
       "      <td>2019-08-03</td>\n",
       "      <td>68</td>\n",
       "      <td>1845</td>\n",
       "      <td>61</td>\n",
       "      <td>1803</td>\n",
       "    </tr>\n",
       "    <tr>\n",
       "      <th>3</th>\n",
       "      <td>2019-08-04</td>\n",
       "      <td>84</td>\n",
       "      <td>2562</td>\n",
       "      <td>78</td>\n",
       "      <td>2573</td>\n",
       "    </tr>\n",
       "    <tr>\n",
       "      <th>4</th>\n",
       "      <td>2019-08-05</td>\n",
       "      <td>109</td>\n",
       "      <td>3318</td>\n",
       "      <td>101</td>\n",
       "      <td>3280</td>\n",
       "    </tr>\n",
       "  </tbody>\n",
       "</table>\n",
       "</div>"
      ],
      "text/plain": [
       "        date  ordersA  visitorsA  ordersB  visitorsB\n",
       "0 2019-08-01       24        719       21        713\n",
       "1 2019-08-02       44       1338       45       1294\n",
       "2 2019-08-03       68       1845       61       1803\n",
       "3 2019-08-04       84       2562       78       2573\n",
       "4 2019-08-05      109       3318      101       3280"
      ]
     },
     "execution_count": 85,
     "metadata": {},
     "output_type": "execute_result"
    }
   ],
   "source": [
    "# объединим датафреймы с кумулятивным количеством заказов и кумулятивным количеством пользователей двух групп\n",
    "mergedCumulativeOrders = cumulativeOrdersA.merge(cumulativeOrdersB, on='date', how='left', suffixes=['A', 'B'])\n",
    "mergedCumulativeOrders.head()"
   ]
  },
  {
   "cell_type": "code",
   "execution_count": 86,
   "metadata": {},
   "outputs": [
    {
     "data": {
      "image/png": "[encoded data removed]",
      "text/plain": [
       "<Figure size 800x600 with 1 Axes>"
      ]
     },
     "metadata": {},
     "output_type": "display_data"
    }
   ],
   "source": [
    "figure(figsize=(8, 6))\n",
    "# построим график относительного изменения кумулятивного среднего количества заказов на посетителя группы B к группе A\n",
    "plt.plot(\n",
    "    mergedCumulativeOrders['date'], \n",
    "    (mergedCumulativeOrders['ordersB']/mergedCumulativeOrders['visitorsB']) / \n",
    "    (mergedCumulativeOrders['ordersA']/mergedCumulativeOrders['visitorsA']) - 1\n",
    ")\n",
    "plt.xticks(rotation=45)\n",
    "plt.xlabel('Дата')\n",
    "plt.ylabel('Отношение среднего \\nколичества заказов')\n",
    "plt.axhline(y=0, color='black', linestyle='--')\n",
    "plt.axhline(y=0.1, color='black', linestyle='--')\n",
    "plt.axhline(y=0.2, color='black', linestyle='--')\n",
    "plt.title('График относительного изменения кумулятивного среднего количества заказов на посетителя');"
   ]
  },
  {
   "cell_type": "markdown",
   "metadata": {},
   "source": [
    "Кумулятивное среднее количество заказов на посетителя группы B выше, чем у группы A. С 1 по 5 августа видны резкие скачки и падения. Относительное изменение среднего количества заказов установилась между значениями 0.1 и 0.2."
   ]
  },
  {
   "cell_type": "markdown",
   "metadata": {},
   "source": [
    "#### Точечный график количества заказов по пользователям"
   ]
  },
  {
   "cell_type": "code",
   "execution_count": 87,
   "metadata": {},
   "outputs": [],
   "source": [
    "# посчитаем количество заказов на пользователя\n",
    "orders_puser = orders.groupby('visitorId', as_index=False).agg({'transactionId': 'count'})\n",
    "orders_puser.columns = ['visitorId', 'orders_count']"
   ]
  },
  {
   "cell_type": "code",
   "execution_count": 88,
   "metadata": {},
   "outputs": [
    {
     "data": {
      "text/html": [
       "<div>\n",
       "<style scoped>\n",
       "    .dataframe tbody tr th:only-of-type {\n",
       "        vertical-align: middle;\n",
       "    }\n",
       "\n",
       "    .dataframe tbody tr th {\n",
       "        vertical-align: top;\n",
       "    }\n",
       "\n",
       "    .dataframe thead th {\n",
       "        text-align: right;\n",
       "    }\n",
       "</style>\n",
       "<table border=\"1\" class=\"dataframe\">\n",
       "  <thead>\n",
       "    <tr style=\"text-align: right;\">\n",
       "      <th></th>\n",
       "      <th>visitorId</th>\n",
       "      <th>orders_count</th>\n",
       "    </tr>\n",
       "  </thead>\n",
       "  <tbody>\n",
       "    <tr>\n",
       "      <th>0</th>\n",
       "      <td>5114589</td>\n",
       "      <td>1</td>\n",
       "    </tr>\n",
       "    <tr>\n",
       "      <th>1</th>\n",
       "      <td>6958315</td>\n",
       "      <td>1</td>\n",
       "    </tr>\n",
       "    <tr>\n",
       "      <th>2</th>\n",
       "      <td>8300375</td>\n",
       "      <td>2</td>\n",
       "    </tr>\n",
       "    <tr>\n",
       "      <th>3</th>\n",
       "      <td>11685486</td>\n",
       "      <td>1</td>\n",
       "    </tr>\n",
       "    <tr>\n",
       "      <th>4</th>\n",
       "      <td>39475350</td>\n",
       "      <td>1</td>\n",
       "    </tr>\n",
       "  </tbody>\n",
       "</table>\n",
       "</div>"
      ],
      "text/plain": [
       "   visitorId  orders_count\n",
       "0    5114589             1\n",
       "1    6958315             1\n",
       "2    8300375             2\n",
       "3   11685486             1\n",
       "4   39475350             1"
      ]
     },
     "execution_count": 88,
     "metadata": {},
     "output_type": "execute_result"
    }
   ],
   "source": [
    "orders_puser.head()"
   ]
  },
  {
   "cell_type": "code",
   "execution_count": 89,
   "metadata": {},
   "outputs": [
    {
     "data": {
      "image/png": "[encoded data removed]",
      "text/plain": [
       "<Figure size 640x480 with 1 Axes>"
      ]
     },
     "metadata": {},
     "output_type": "display_data"
    }
   ],
   "source": [
    "# построим точечный график количества заказов по пользователям\n",
    "plt.scatter(range(len(orders_puser['visitorId'])), orders_puser['orders_count'])\n",
    "plt.xlabel('Номер клиента')\n",
    "plt.ylabel('Количество заказов')\n",
    "plt.title('Точечный график количества заказов по пользователям');"
   ]
  },
  {
   "cell_type": "markdown",
   "metadata": {},
   "source": [
    "В основном на каждого пользователя приходится по 1 заказу. Но также встречаются пользователи более чем с 10 заказами."
   ]
  },
  {
   "cell_type": "markdown",
   "metadata": {},
   "source": [
    "#### 95-й и 99-й перцентили количества заказов на пользователя"
   ]
  },
  {
   "cell_type": "code",
   "execution_count": 90,
   "metadata": {},
   "outputs": [
    {
     "data": {
      "text/plain": [
       "array([2., 4.])"
      ]
     },
     "execution_count": 90,
     "metadata": {},
     "output_type": "execute_result"
    }
   ],
   "source": [
    "np.percentile(orders_puser['orders_count'], [95, 99])"
   ]
  },
  {
   "cell_type": "markdown",
   "metadata": {},
   "source": [
    "Только 5% пользователей имеет более 2 заказов, и только 1% - более 4. Более 2 заказов будем признавать аномальными значениями."
   ]
  },
  {
   "cell_type": "markdown",
   "metadata": {},
   "source": [
    "#### Точечный график стоимостей заказов"
   ]
  },
  {
   "cell_type": "code",
   "execution_count": 91,
   "metadata": {},
   "outputs": [],
   "source": [
    "# составим таблицу стоимости заказов\n",
    "revenue_porder = orders.groupby('transactionId', as_index=False).agg({'revenue': 'sum'})"
   ]
  },
  {
   "cell_type": "code",
   "execution_count": 92,
   "metadata": {},
   "outputs": [
    {
     "data": {
      "text/html": [
       "<div>\n",
       "<style scoped>\n",
       "    .dataframe tbody tr th:only-of-type {\n",
       "        vertical-align: middle;\n",
       "    }\n",
       "\n",
       "    .dataframe tbody tr th {\n",
       "        vertical-align: top;\n",
       "    }\n",
       "\n",
       "    .dataframe thead th {\n",
       "        text-align: right;\n",
       "    }\n",
       "</style>\n",
       "<table border=\"1\" class=\"dataframe\">\n",
       "  <thead>\n",
       "    <tr style=\"text-align: right;\">\n",
       "      <th></th>\n",
       "      <th>transactionId</th>\n",
       "      <th>revenue</th>\n",
       "    </tr>\n",
       "  </thead>\n",
       "  <tbody>\n",
       "    <tr>\n",
       "      <th>0</th>\n",
       "      <td>1062393</td>\n",
       "      <td>6420</td>\n",
       "    </tr>\n",
       "    <tr>\n",
       "      <th>1</th>\n",
       "      <td>4919758</td>\n",
       "      <td>2350</td>\n",
       "    </tr>\n",
       "    <tr>\n",
       "      <th>2</th>\n",
       "      <td>7210578</td>\n",
       "      <td>3739</td>\n",
       "    </tr>\n",
       "    <tr>\n",
       "      <th>3</th>\n",
       "      <td>8131427</td>\n",
       "      <td>4710</td>\n",
       "    </tr>\n",
       "    <tr>\n",
       "      <th>4</th>\n",
       "      <td>11068804</td>\n",
       "      <td>4790</td>\n",
       "    </tr>\n",
       "  </tbody>\n",
       "</table>\n",
       "</div>"
      ],
      "text/plain": [
       "   transactionId  revenue\n",
       "0        1062393     6420\n",
       "1        4919758     2350\n",
       "2        7210578     3739\n",
       "3        8131427     4710\n",
       "4       11068804     4790"
      ]
     },
     "execution_count": 92,
     "metadata": {},
     "output_type": "execute_result"
    }
   ],
   "source": [
    "revenue_porder.head()"
   ]
  },
  {
   "cell_type": "code",
   "execution_count": 93,
   "metadata": {},
   "outputs": [
    {
     "data": {
      "image/png": "[encoded data removed]",
      "text/plain": [
       "<Figure size 640x480 with 1 Axes>"
      ]
     },
     "metadata": {},
     "output_type": "display_data"
    }
   ],
   "source": [
    "# построим точечный график стоимости заказов\n",
    "plt.scatter(range(len(revenue_porder['transactionId'])), revenue_porder['revenue'])\n",
    "plt.ticklabel_format(style='plain')\n",
    "plt.xlabel('Номер заказа')\n",
    "plt.ylabel('Стоимость заказа')\n",
    "plt.title('Точечный график стоимости заказов');"
   ]
  },
  {
   "cell_type": "code",
   "execution_count": 94,
   "metadata": {},
   "outputs": [
    {
     "data": {
      "image/png": "[encoded data removed]",
      "text/plain": [
       "<Figure size 640x480 with 1 Axes>"
      ]
     },
     "metadata": {},
     "output_type": "display_data"
    }
   ],
   "source": [
    "# построим еще один график для рассмотрения основной части заказов\n",
    "plt.scatter(range(len(revenue_porder['transactionId'])), revenue_porder['revenue'])\n",
    "plt.ticklabel_format(style='plain')\n",
    "plt.ylim([0, 200000])\n",
    "plt.xlabel('Номер заказа')\n",
    "plt.ylabel('Стоимость заказа')\n",
    "plt.title('Точечный график стоимости заказов');"
   ]
  },
  {
   "cell_type": "markdown",
   "metadata": {},
   "source": [
    "Большинство заказов стоят менее 25 000. Но существуют заказы и за 200 000, и даже больше 1.2 млн."
   ]
  },
  {
   "cell_type": "markdown",
   "metadata": {},
   "source": [
    "#### 95-й и 99-й перцентили стоимости заказов"
   ]
  },
  {
   "cell_type": "code",
   "execution_count": 95,
   "metadata": {},
   "outputs": [
    {
     "data": {
      "text/plain": [
       "array([28000. , 58233.2])"
      ]
     },
     "execution_count": 95,
     "metadata": {},
     "output_type": "execute_result"
    }
   ],
   "source": [
    "np.percentile(revenue_porder['revenue'], [95, 99])"
   ]
  },
  {
   "cell_type": "markdown",
   "metadata": {},
   "source": [
    "Только 5% пользователей имеют заказ стоимостью более 28 000, и только 1% пользователей - более 58 233. В качесвте аномальных значений возьмем стоимость более 28 000."
   ]
  },
  {
   "cell_type": "markdown",
   "metadata": {},
   "source": [
    "####  Статистическая значимость различий в среднем количестве заказов на посетителя между группами по «сырым» данным"
   ]
  },
  {
   "cell_type": "markdown",
   "metadata": {},
   "source": [
    "Сформулируем гипотезы:\n",
    "    \n",
    "    H0: В среднем количестве заказов на посетителя между группами отсутствует различие\n",
    "    H1: В среднем количестве заказов на посетителя между группами присутствует различие\n",
    "\n",
    "Значение alpha: 0.05\n",
    "\n",
    "Использовать будем критерий Манна-Уитни."
   ]
  },
  {
   "cell_type": "code",
   "execution_count": 96,
   "metadata": {},
   "outputs": [],
   "source": [
    "ordersByUsersA = orders.query('group == \"A\"').groupby('visitorId', as_index=False).agg({'transactionId': 'count'})\n",
    "ordersByUsersB = orders.query('group == \"B\"').groupby('visitorId', as_index=False).agg({'transactionId': 'count'})"
   ]
  },
  {
   "cell_type": "code",
   "execution_count": 97,
   "metadata": {},
   "outputs": [],
   "source": [
    "ordersByUsersA.columns = ['visitorId', 'orders']\n",
    "ordersByUsersB.columns = ['visitorId', 'orders']"
   ]
  },
  {
   "cell_type": "code",
   "execution_count": 98,
   "metadata": {},
   "outputs": [
    {
     "data": {
      "text/html": [
       "<div>\n",
       "<style scoped>\n",
       "    .dataframe tbody tr th:only-of-type {\n",
       "        vertical-align: middle;\n",
       "    }\n",
       "\n",
       "    .dataframe tbody tr th {\n",
       "        vertical-align: top;\n",
       "    }\n",
       "\n",
       "    .dataframe thead th {\n",
       "        text-align: right;\n",
       "    }\n",
       "</style>\n",
       "<table border=\"1\" class=\"dataframe\">\n",
       "  <thead>\n",
       "    <tr style=\"text-align: right;\">\n",
       "      <th></th>\n",
       "      <th>visitorId</th>\n",
       "      <th>orders</th>\n",
       "    </tr>\n",
       "  </thead>\n",
       "  <tbody>\n",
       "    <tr>\n",
       "      <th>0</th>\n",
       "      <td>8300375</td>\n",
       "      <td>1</td>\n",
       "    </tr>\n",
       "    <tr>\n",
       "      <th>340</th>\n",
       "      <td>2912540959</td>\n",
       "      <td>1</td>\n",
       "    </tr>\n",
       "    <tr>\n",
       "      <th>339</th>\n",
       "      <td>2902041511</td>\n",
       "      <td>1</td>\n",
       "    </tr>\n",
       "    <tr>\n",
       "      <th>337</th>\n",
       "      <td>2888793654</td>\n",
       "      <td>1</td>\n",
       "    </tr>\n",
       "    <tr>\n",
       "      <th>336</th>\n",
       "      <td>2882903413</td>\n",
       "      <td>1</td>\n",
       "    </tr>\n",
       "    <tr>\n",
       "      <th>...</th>\n",
       "      <td>...</td>\n",
       "      <td>...</td>\n",
       "    </tr>\n",
       "    <tr>\n",
       "      <th>23</th>\n",
       "      <td>237748145</td>\n",
       "      <td>4</td>\n",
       "    </tr>\n",
       "    <tr>\n",
       "      <th>269</th>\n",
       "      <td>2378935119</td>\n",
       "      <td>4</td>\n",
       "    </tr>\n",
       "    <tr>\n",
       "      <th>278</th>\n",
       "      <td>2458001652</td>\n",
       "      <td>5</td>\n",
       "    </tr>\n",
       "    <tr>\n",
       "      <th>227</th>\n",
       "      <td>2038680547</td>\n",
       "      <td>5</td>\n",
       "    </tr>\n",
       "    <tr>\n",
       "      <th>499</th>\n",
       "      <td>4256040402</td>\n",
       "      <td>7</td>\n",
       "    </tr>\n",
       "  </tbody>\n",
       "</table>\n",
       "<p>503 rows × 2 columns</p>\n",
       "</div>"
      ],
      "text/plain": [
       "      visitorId  orders\n",
       "0       8300375       1\n",
       "340  2912540959       1\n",
       "339  2902041511       1\n",
       "337  2888793654       1\n",
       "336  2882903413       1\n",
       "..          ...     ...\n",
       "23    237748145       4\n",
       "269  2378935119       4\n",
       "278  2458001652       5\n",
       "227  2038680547       5\n",
       "499  4256040402       7\n",
       "\n",
       "[503 rows x 2 columns]"
      ]
     },
     "execution_count": 98,
     "metadata": {},
     "output_type": "execute_result"
    }
   ],
   "source": [
    "ordersByUsersA.sort_values(by='orders')"
   ]
  },
  {
   "cell_type": "code",
   "execution_count": 99,
   "metadata": {},
   "outputs": [],
   "source": [
    "visitorsDailyA = visitors.query('group == \"A\"').groupby('date', as_index=False).agg({'visitors': 'sum'})\n",
    "visitorsDailyB = visitors.query('group == \"B\"').groupby('date', as_index=False).agg({'visitors': 'sum'})"
   ]
  },
  {
   "cell_type": "code",
   "execution_count": 100,
   "metadata": {},
   "outputs": [
    {
     "name": "stdout",
     "output_type": "stream",
     "text": [
      "p-value: 0.017\n",
      "Различие в среднем количестве заказов: 0.138\n"
     ]
    }
   ],
   "source": [
    "sampleA = pd.concat(\n",
    "    [\n",
    "        ordersByUsersA['orders'],\n",
    "        pd.Series(\n",
    "            0,\n",
    "            index=np.arange(\n",
    "                visitorsDailyA['visitors'].sum() - len(ordersByUsersA['orders'])\n",
    "            ),\n",
    "            name='orders',\n",
    "        ),\n",
    "    ],\n",
    "    axis=0,\n",
    ")\n",
    "\n",
    "sampleB = pd.concat(\n",
    "    [\n",
    "        ordersByUsersB['orders'],\n",
    "        pd.Series(\n",
    "            0,\n",
    "            index=np.arange(\n",
    "                visitorsDailyB['visitors'].sum() - len(ordersByUsersB['orders'])\n",
    "            ),\n",
    "            name='orders',\n",
    "        ),\n",
    "    ],\n",
    "    axis=0,\n",
    ")\n",
    "\n",
    "print('p-value:', \"{0:.3f}\".format(stats.mannwhitneyu(sampleA, sampleB)[1]))\n",
    "print('Различие в среднем количестве заказов:', \"{0:.3f}\".format(sampleB.mean() / sampleA.mean() - 1))"
   ]
  },
  {
   "cell_type": "markdown",
   "metadata": {},
   "source": [
    "p-value значительное меньше 0.05, следовательно отвергаем нулевую гипотезу об отсутствии различий в среднем количестве заказов на посетителя между группами. Анализ \"сырых\" данных говорит о наличии статистически значимых различий. Среднее количество заказов на посетителя группы B на 14% больше, чем у группы A."
   ]
  },
  {
   "cell_type": "markdown",
   "metadata": {},
   "source": [
    "#### Статистическая значимость различий в среднем чеке заказа между группами по «сырым» данным"
   ]
  },
  {
   "cell_type": "markdown",
   "metadata": {},
   "source": [
    "Сформулируем гипотезы:\n",
    "    \n",
    "    H0: В среднем чеке заказа между группами отсутствует различие\n",
    "    H1: В среднем чеке заказа между группами присутствует различие\n",
    "\n",
    "Значение alpha: 0.05\n",
    "\n",
    "Использовать будем критерий Манна-Уитни."
   ]
  },
  {
   "cell_type": "code",
   "execution_count": 101,
   "metadata": {},
   "outputs": [
    {
     "name": "stdout",
     "output_type": "stream",
     "text": [
      "p-value: 0.729\n",
      "Отношение среднего чека группы B к группе A: 0.259\n"
     ]
    }
   ],
   "source": [
    "print('p-value: {0:.3f}'.format(stats.mannwhitneyu(orders[orders['group']=='A']['revenue'], orders[orders['group']=='B']['revenue'])[1]))\n",
    "print('Отношение среднего чека группы B к группе A: {0:.3f}'.format(orders[orders['group']=='B']['revenue'].mean()/orders[orders['group']=='A']['revenue'].mean()-1)) "
   ]
  },
  {
   "cell_type": "markdown",
   "metadata": {},
   "source": [
    "p-value больше 0.05, следовательно нельзя отвергать нулевую гипотезу об отстутсвии различий в среднем чеке заказа между группами. Средний чек группы B больше среднего чека группы A практически на 26%."
   ]
  },
  {
   "cell_type": "markdown",
   "metadata": {},
   "source": [
    "####  Статистическая значимость различий в среднем количестве заказов на посетителя между группами по «очищенным» данным"
   ]
  },
  {
   "cell_type": "code",
   "execution_count": 102,
   "metadata": {
    "scrolled": true
   },
   "outputs": [
    {
     "name": "stdout",
     "output_type": "stream",
     "text": [
      "1099    148427295\n",
      "18      199603092\n",
      "928     204675465\n",
      "23      237748145\n",
      "37      249864742\n",
      "Name: visitorId, dtype: int64\n",
      "74\n"
     ]
    }
   ],
   "source": [
    "# сделаем срез пользователей с более чем 2 заказами\n",
    "usersWithManyOrders = pd.concat(\n",
    "    [\n",
    "        ordersByUsersA[ordersByUsersA['orders'] > np.percentile(orders_puser['orders_count'], [95, 99])[0]]['visitorId'],\n",
    "        ordersByUsersB[ordersByUsersB['orders'] > np.percentile(orders_puser['orders_count'], [95, 99])[0]]['visitorId'],\n",
    "    ],\n",
    "    axis=0,\n",
    ")\n",
    "# сделаем срез заказов стоимостью более 28 000\n",
    "usersWithExpensiveOrders = orders[orders['revenue'] > np.percentile(revenue_porder['revenue'], [95, 99])[0]]['visitorId']\n",
    "# объединим отфильтрованные датафреймы с аномальными пользователями в один\n",
    "abnormalUsers = (\n",
    "    pd.concat([usersWithManyOrders, usersWithExpensiveOrders], axis=0)\n",
    "    .drop_duplicates()\n",
    "    .sort_values()\n",
    ")\n",
    "print(abnormalUsers.head(5))\n",
    "print(abnormalUsers.shape[0])"
   ]
  },
  {
   "cell_type": "code",
   "execution_count": 103,
   "metadata": {},
   "outputs": [
    {
     "name": "stdout",
     "output_type": "stream",
     "text": [
      "p-value: 0.013\n",
      "Различие в среднем количестве заказов: 0.173\n"
     ]
    }
   ],
   "source": [
    "# посчитаем статистическую значимость различий в среднем количестве заказов на посетителя между группами по «очищенным» данным\n",
    "sampleAFiltered = pd.concat(\n",
    "    [\n",
    "        ordersByUsersA[\n",
    "            np.logical_not(ordersByUsersA['visitorId'].isin(abnormalUsers))\n",
    "        ]['orders'],\n",
    "        pd.Series(\n",
    "            0,\n",
    "            index=np.arange(\n",
    "                visitorsDailyA['visitors'].sum() - len(ordersByUsersA['orders'])\n",
    "            ),\n",
    "            name='orders',\n",
    "        ),\n",
    "    ],\n",
    "    axis=0,\n",
    ")\n",
    "\n",
    "sampleBFiltered = pd.concat(\n",
    "    [\n",
    "        ordersByUsersB[\n",
    "            np.logical_not(ordersByUsersB['visitorId'].isin(abnormalUsers))\n",
    "        ]['orders'],\n",
    "        pd.Series(\n",
    "            0,\n",
    "            index=np.arange(\n",
    "                visitorsDailyB['visitors'].sum() - len(ordersByUsersB['orders'])\n",
    "            ),\n",
    "            name='orders',\n",
    "        ),\n",
    "    ],\n",
    "    axis=0,\n",
    ") \n",
    "\n",
    "print('p-value:', '{0:.3f}'.format(stats.mannwhitneyu(sampleAFiltered, sampleBFiltered)[1]))\n",
    "print('Различие в среднем количестве заказов:', '{0:.3f}'.format(sampleBFiltered.mean()/sampleAFiltered.mean()-1)) "
   ]
  },
  {
   "cell_type": "markdown",
   "metadata": {},
   "source": [
    "Результаты по среднему количеству заказов практически не изменились. Нулевая гипотеза об отсутствии разницы так же отвергается."
   ]
  },
  {
   "cell_type": "markdown",
   "metadata": {},
   "source": [
    "####  Статистическая значимость различий в среднем чеке заказа между группами по «очищенным» данным."
   ]
  },
  {
   "cell_type": "code",
   "execution_count": 104,
   "metadata": {},
   "outputs": [
    {
     "name": "stdout",
     "output_type": "stream",
     "text": [
      "p-value: 0.738\n",
      "Различие в среднем количестве заказов: -0.020\n"
     ]
    }
   ],
   "source": [
    "print(\n",
    "    'p-value:', '{0:.3f}'.format(\n",
    "        stats.mannwhitneyu(\n",
    "            orders[\n",
    "                np.logical_and(\n",
    "                    orders['group'] == 'A',\n",
    "                    np.logical_not(orders['visitorId'].isin(abnormalUsers)),\n",
    "                )\n",
    "            ]['revenue'],\n",
    "            orders[\n",
    "                np.logical_and(\n",
    "                    orders['group'] == 'B',\n",
    "                    np.logical_not(orders['visitorId'].isin(abnormalUsers)),\n",
    "                )\n",
    "            ]['revenue'],\n",
    "        )[1]\n",
    "    )\n",
    ")\n",
    "\n",
    "print(\n",
    "    'Различие в среднем количестве заказов:', \"{0:.3f}\".format(\n",
    "        orders[\n",
    "            np.logical_and(\n",
    "                orders['group'] == 'B',\n",
    "                np.logical_not(orders['visitorId'].isin(abnormalUsers)),\n",
    "            )\n",
    "        ]['revenue'].mean()\n",
    "        / orders[\n",
    "            np.logical_and(\n",
    "                orders['group'] == 'A',\n",
    "                np.logical_not(orders['visitorId'].isin(abnormalUsers)),\n",
    "            )\n",
    "        ]['revenue'].mean()\n",
    "        - 1\n",
    "    )\n",
    ") "
   ]
  },
  {
   "cell_type": "markdown",
   "metadata": {},
   "source": [
    "P-value практически не изменилась, но разница между группами сократилась с 25.9 до -0.02 процентных пункта. Средний чек группы B стал меньше среднего чека группы A, что говорит о большой влиянии аномальных значений при анализе \"сырых\" данных. Нулевая гипотеза об отстутствии разницы в среднем чеке заказа между группами не отвергается."
   ]
  },
  {
   "cell_type": "markdown",
   "metadata": {},
   "source": [
    "### Вывод"
   ]
  },
  {
   "cell_type": "markdown",
   "metadata": {},
   "source": [
    "В резуьтате проведения теста можно сформулировать следующие факты:\n",
    "\n",
    "    1) Присутстсвует статистически значимое различие между группами по среднему количеству заказов на пользователя как по \"сырым\", так и по \"очищенным\" данным;\n",
    "    2) Статистически значимое различие между средними чеками 2 групп отсутствует как по \"сырым\", так и по \"очищенным\" данным.\n",
    "    3) График различия среднего количества заказов между группами сообщает, что результаты группы B лучше результата группы A;\n",
    "    4) График различия среднего чека между группами колеблется, и сделать по нему выводы нельзя.\n",
    "\n",
    "На основании данных фактов приходим к выводу, что тест можно признать успешным, зафиксировав победу группы B."
   ]
  }
 ],
 "metadata": {
  "ExecuteTimeLog": [
   {
    "duration": 54,
    "start_time": "2023-03-26T07:49:01.747Z"
   },
   {
    "duration": 931,
    "start_time": "2023-03-26T07:58:06.109Z"
   },
   {
    "duration": 85,
    "start_time": "2023-03-26T07:58:26.897Z"
   },
   {
    "duration": 35,
    "start_time": "2023-03-26T07:58:53.056Z"
   },
   {
    "duration": 30,
    "start_time": "2023-03-26T07:58:57.901Z"
   },
   {
    "duration": 35,
    "start_time": "2023-03-26T07:59:04.433Z"
   },
   {
    "duration": 8,
    "start_time": "2023-03-26T08:00:27.624Z"
   },
   {
    "duration": 15,
    "start_time": "2023-03-26T08:02:51.412Z"
   },
   {
    "duration": 3,
    "start_time": "2023-03-26T08:05:57.924Z"
   },
   {
    "duration": 31,
    "start_time": "2023-03-26T08:06:00.151Z"
   },
   {
    "duration": 7,
    "start_time": "2023-03-26T08:06:01.639Z"
   },
   {
    "duration": 13,
    "start_time": "2023-03-26T08:06:16.972Z"
   },
   {
    "duration": 3,
    "start_time": "2023-03-26T08:07:10.887Z"
   },
   {
    "duration": 34,
    "start_time": "2023-03-26T08:07:10.893Z"
   },
   {
    "duration": 9,
    "start_time": "2023-03-26T08:07:10.929Z"
   },
   {
    "duration": 12,
    "start_time": "2023-03-26T08:07:13.007Z"
   },
   {
    "duration": 84,
    "start_time": "2023-03-26T08:07:59.711Z"
   },
   {
    "duration": 7,
    "start_time": "2023-03-26T08:08:04.902Z"
   },
   {
    "duration": 4,
    "start_time": "2023-03-26T08:08:19.752Z"
   },
   {
    "duration": 7,
    "start_time": "2023-03-26T08:08:24.195Z"
   },
   {
    "duration": 9,
    "start_time": "2023-03-26T08:08:33.471Z"
   },
   {
    "duration": 3,
    "start_time": "2023-03-26T08:09:04.046Z"
   },
   {
    "duration": 9,
    "start_time": "2023-03-26T08:09:05.630Z"
   },
   {
    "duration": 7,
    "start_time": "2023-03-26T08:09:30.447Z"
   },
   {
    "duration": 671,
    "start_time": "2023-03-26T08:09:31.538Z"
   },
   {
    "duration": 12,
    "start_time": "2023-03-26T08:09:48.894Z"
   },
   {
    "duration": 13,
    "start_time": "2023-03-26T08:09:52.806Z"
   },
   {
    "duration": 11,
    "start_time": "2023-03-26T08:10:02.786Z"
   },
   {
    "duration": 11,
    "start_time": "2023-03-26T08:12:37.086Z"
   },
   {
    "duration": 10,
    "start_time": "2023-03-26T08:13:14.561Z"
   },
   {
    "duration": 734,
    "start_time": "2023-03-26T08:13:39.601Z"
   },
   {
    "duration": 1638,
    "start_time": "2023-03-26T08:13:46.667Z"
   },
   {
    "duration": 9,
    "start_time": "2023-03-26T08:13:57.301Z"
   },
   {
    "duration": 13,
    "start_time": "2023-03-26T08:15:58.464Z"
   },
   {
    "duration": 15,
    "start_time": "2023-03-26T08:16:04.357Z"
   },
   {
    "duration": 12,
    "start_time": "2023-03-26T08:16:14.163Z"
   },
   {
    "duration": 14,
    "start_time": "2023-03-26T08:16:17.077Z"
   },
   {
    "duration": 8,
    "start_time": "2023-03-26T08:17:25.912Z"
   },
   {
    "duration": 165,
    "start_time": "2023-03-26T08:22:43.915Z"
   },
   {
    "duration": 18,
    "start_time": "2023-03-26T08:22:56.351Z"
   },
   {
    "duration": 15,
    "start_time": "2023-03-26T08:23:11.730Z"
   },
   {
    "duration": 3,
    "start_time": "2023-03-26T08:24:53.986Z"
   },
   {
    "duration": 7,
    "start_time": "2023-03-26T08:25:03.591Z"
   },
   {
    "duration": 7,
    "start_time": "2023-03-26T08:25:09.467Z"
   },
   {
    "duration": 4,
    "start_time": "2023-03-26T08:26:46.658Z"
   },
   {
    "duration": 677,
    "start_time": "2023-03-26T08:27:43.194Z"
   },
   {
    "duration": 15,
    "start_time": "2023-03-26T08:28:34.085Z"
   },
   {
    "duration": 170,
    "start_time": "2023-03-26T08:28:51.025Z"
   },
   {
    "duration": 3,
    "start_time": "2023-03-26T08:29:15.273Z"
   },
   {
    "duration": 37,
    "start_time": "2023-03-26T08:29:15.279Z"
   },
   {
    "duration": 3,
    "start_time": "2023-03-26T08:29:15.319Z"
   },
   {
    "duration": 8,
    "start_time": "2023-03-26T08:29:15.324Z"
   },
   {
    "duration": 15,
    "start_time": "2023-03-26T08:29:15.334Z"
   },
   {
    "duration": 15,
    "start_time": "2023-03-26T08:29:15.351Z"
   },
   {
    "duration": 50,
    "start_time": "2023-03-26T08:29:15.367Z"
   },
   {
    "duration": 20,
    "start_time": "2023-03-26T08:29:15.419Z"
   },
   {
    "duration": 15,
    "start_time": "2023-03-26T08:29:15.440Z"
   },
   {
    "duration": 15,
    "start_time": "2023-03-26T08:29:15.458Z"
   },
   {
    "duration": 15,
    "start_time": "2023-03-26T08:29:29.222Z"
   },
   {
    "duration": 18,
    "start_time": "2023-03-26T08:29:33.746Z"
   },
   {
    "duration": 29,
    "start_time": "2023-03-26T09:41:51.356Z"
   },
   {
    "duration": 16,
    "start_time": "2023-03-26T09:41:53.789Z"
   },
   {
    "duration": 14,
    "start_time": "2023-03-26T09:41:56.405Z"
   },
   {
    "duration": 6,
    "start_time": "2023-03-26T09:41:58.809Z"
   },
   {
    "duration": 109,
    "start_time": "2023-03-26T09:42:02.662Z"
   },
   {
    "duration": 12,
    "start_time": "2023-03-26T09:42:04.981Z"
   },
   {
    "duration": 9,
    "start_time": "2023-03-26T09:42:18.666Z"
   },
   {
    "duration": 11,
    "start_time": "2023-03-26T09:43:22.567Z"
   },
   {
    "duration": 10,
    "start_time": "2023-03-26T09:43:44.669Z"
   },
   {
    "duration": 30,
    "start_time": "2023-03-26T09:44:20.933Z"
   },
   {
    "duration": 942,
    "start_time": "2023-03-27T06:32:39.555Z"
   },
   {
    "duration": 87,
    "start_time": "2023-03-27T06:32:40.499Z"
   },
   {
    "duration": 4,
    "start_time": "2023-03-27T06:32:40.588Z"
   },
   {
    "duration": 17,
    "start_time": "2023-03-27T06:32:40.594Z"
   },
   {
    "duration": 18,
    "start_time": "2023-03-27T06:32:40.613Z"
   },
   {
    "duration": 15,
    "start_time": "2023-03-27T06:32:40.632Z"
   },
   {
    "duration": 174,
    "start_time": "2023-03-27T06:32:40.648Z"
   },
   {
    "duration": 18,
    "start_time": "2023-03-27T06:32:40.824Z"
   },
   {
    "duration": 31,
    "start_time": "2023-03-27T06:32:40.844Z"
   },
   {
    "duration": 20,
    "start_time": "2023-03-27T06:32:40.878Z"
   },
   {
    "duration": 47,
    "start_time": "2023-03-27T06:32:40.900Z"
   },
   {
    "duration": 33,
    "start_time": "2023-03-27T06:32:40.950Z"
   },
   {
    "duration": 21,
    "start_time": "2023-03-27T06:32:40.985Z"
   },
   {
    "duration": 28,
    "start_time": "2023-03-27T06:32:41.007Z"
   },
   {
    "duration": 18,
    "start_time": "2023-03-27T06:34:26.367Z"
   },
   {
    "duration": 8,
    "start_time": "2023-03-27T06:34:41.607Z"
   },
   {
    "duration": 12,
    "start_time": "2023-03-27T06:34:45.187Z"
   },
   {
    "duration": 9,
    "start_time": "2023-03-27T06:34:54.302Z"
   },
   {
    "duration": 14,
    "start_time": "2023-03-27T06:34:56.387Z"
   },
   {
    "duration": 14,
    "start_time": "2023-03-27T06:35:09.722Z"
   },
   {
    "duration": 9,
    "start_time": "2023-03-27T06:35:30.594Z"
   },
   {
    "duration": 10,
    "start_time": "2023-03-27T06:35:32.118Z"
   },
   {
    "duration": 4,
    "start_time": "2023-03-27T06:35:53.622Z"
   },
   {
    "duration": 9,
    "start_time": "2023-03-27T06:36:04.758Z"
   },
   {
    "duration": 3,
    "start_time": "2023-03-27T06:36:18.362Z"
   },
   {
    "duration": 52,
    "start_time": "2023-03-27T06:36:18.368Z"
   },
   {
    "duration": 4,
    "start_time": "2023-03-27T06:36:18.422Z"
   },
   {
    "duration": 20,
    "start_time": "2023-03-27T06:36:18.428Z"
   },
   {
    "duration": 17,
    "start_time": "2023-03-27T06:36:18.450Z"
   },
   {
    "duration": 28,
    "start_time": "2023-03-27T06:36:18.469Z"
   },
   {
    "duration": 60,
    "start_time": "2023-03-27T06:36:18.498Z"
   },
   {
    "duration": 17,
    "start_time": "2023-03-27T06:36:18.559Z"
   },
   {
    "duration": 29,
    "start_time": "2023-03-27T06:36:18.578Z"
   },
   {
    "duration": 27,
    "start_time": "2023-03-27T06:36:18.609Z"
   },
   {
    "duration": 26,
    "start_time": "2023-03-27T06:36:18.639Z"
   },
   {
    "duration": 32,
    "start_time": "2023-03-27T06:36:18.667Z"
   },
   {
    "duration": 14,
    "start_time": "2023-03-27T06:36:18.700Z"
   },
   {
    "duration": 26,
    "start_time": "2023-03-27T06:36:18.716Z"
   },
   {
    "duration": 20,
    "start_time": "2023-03-27T06:36:18.744Z"
   },
   {
    "duration": 17,
    "start_time": "2023-03-27T06:36:18.766Z"
   },
   {
    "duration": 21,
    "start_time": "2023-03-27T06:36:18.785Z"
   },
   {
    "duration": 4,
    "start_time": "2023-03-27T06:37:41.441Z"
   },
   {
    "duration": 39,
    "start_time": "2023-03-27T06:37:41.447Z"
   },
   {
    "duration": 4,
    "start_time": "2023-03-27T06:37:41.489Z"
   },
   {
    "duration": 13,
    "start_time": "2023-03-27T06:37:41.495Z"
   },
   {
    "duration": 22,
    "start_time": "2023-03-27T06:37:41.511Z"
   },
   {
    "duration": 16,
    "start_time": "2023-03-27T06:37:41.536Z"
   },
   {
    "duration": 64,
    "start_time": "2023-03-27T06:37:41.554Z"
   },
   {
    "duration": 17,
    "start_time": "2023-03-27T06:37:41.620Z"
   },
   {
    "duration": 24,
    "start_time": "2023-03-27T06:37:41.639Z"
   },
   {
    "duration": 24,
    "start_time": "2023-03-27T06:37:41.666Z"
   },
   {
    "duration": 47,
    "start_time": "2023-03-27T06:37:41.694Z"
   },
   {
    "duration": 24,
    "start_time": "2023-03-27T06:37:41.743Z"
   },
   {
    "duration": 19,
    "start_time": "2023-03-27T06:37:41.769Z"
   },
   {
    "duration": 23,
    "start_time": "2023-03-27T06:37:41.790Z"
   },
   {
    "duration": 20,
    "start_time": "2023-03-27T06:37:41.815Z"
   },
   {
    "duration": 8,
    "start_time": "2023-03-27T06:37:41.837Z"
   },
   {
    "duration": 11,
    "start_time": "2023-03-27T06:37:41.847Z"
   },
   {
    "duration": 11,
    "start_time": "2023-03-27T06:37:57.759Z"
   },
   {
    "duration": 13,
    "start_time": "2023-03-27T06:38:07.246Z"
   },
   {
    "duration": 3,
    "start_time": "2023-03-27T06:38:16.453Z"
   },
   {
    "duration": 42,
    "start_time": "2023-03-27T06:38:16.459Z"
   },
   {
    "duration": 3,
    "start_time": "2023-03-27T06:38:16.503Z"
   },
   {
    "duration": 11,
    "start_time": "2023-03-27T06:38:16.507Z"
   },
   {
    "duration": 18,
    "start_time": "2023-03-27T06:38:16.520Z"
   },
   {
    "duration": 22,
    "start_time": "2023-03-27T06:38:16.540Z"
   },
   {
    "duration": 66,
    "start_time": "2023-03-27T06:38:16.563Z"
   },
   {
    "duration": 21,
    "start_time": "2023-03-27T06:38:16.631Z"
   },
   {
    "duration": 29,
    "start_time": "2023-03-27T06:38:16.654Z"
   },
   {
    "duration": 17,
    "start_time": "2023-03-27T06:38:16.686Z"
   },
   {
    "duration": 43,
    "start_time": "2023-03-27T06:38:16.706Z"
   },
   {
    "duration": 22,
    "start_time": "2023-03-27T06:38:16.751Z"
   },
   {
    "duration": 9,
    "start_time": "2023-03-27T06:38:16.776Z"
   },
   {
    "duration": 58,
    "start_time": "2023-03-27T06:38:16.788Z"
   },
   {
    "duration": 11,
    "start_time": "2023-03-27T06:38:16.848Z"
   },
   {
    "duration": 7,
    "start_time": "2023-03-27T06:38:16.861Z"
   },
   {
    "duration": 15,
    "start_time": "2023-03-27T06:38:16.870Z"
   },
   {
    "duration": 135,
    "start_time": "2023-03-27T06:38:57.433Z"
   },
   {
    "duration": 46,
    "start_time": "2023-03-27T06:39:39.765Z"
   },
   {
    "duration": 4,
    "start_time": "2023-03-27T06:46:56.147Z"
   },
   {
    "duration": 40,
    "start_time": "2023-03-27T06:46:56.153Z"
   },
   {
    "duration": 3,
    "start_time": "2023-03-27T06:46:56.195Z"
   },
   {
    "duration": 11,
    "start_time": "2023-03-27T06:46:56.201Z"
   },
   {
    "duration": 15,
    "start_time": "2023-03-27T06:46:56.214Z"
   },
   {
    "duration": 31,
    "start_time": "2023-03-27T06:46:56.231Z"
   },
   {
    "duration": 59,
    "start_time": "2023-03-27T06:46:56.264Z"
   },
   {
    "duration": 25,
    "start_time": "2023-03-27T06:46:56.326Z"
   },
   {
    "duration": 23,
    "start_time": "2023-03-27T06:46:56.354Z"
   },
   {
    "duration": 505,
    "start_time": "2023-03-27T06:46:56.379Z"
   },
   {
    "duration": 0,
    "start_time": "2023-03-27T06:46:56.887Z"
   },
   {
    "duration": 0,
    "start_time": "2023-03-27T06:46:56.888Z"
   },
   {
    "duration": 0,
    "start_time": "2023-03-27T06:46:56.890Z"
   },
   {
    "duration": 0,
    "start_time": "2023-03-27T06:46:56.892Z"
   },
   {
    "duration": 0,
    "start_time": "2023-03-27T06:46:56.894Z"
   },
   {
    "duration": 1,
    "start_time": "2023-03-27T06:46:56.895Z"
   },
   {
    "duration": 0,
    "start_time": "2023-03-27T06:46:56.897Z"
   },
   {
    "duration": 0,
    "start_time": "2023-03-27T06:46:56.898Z"
   },
   {
    "duration": 13,
    "start_time": "2023-03-27T06:47:10.552Z"
   },
   {
    "duration": 4,
    "start_time": "2023-03-27T06:50:52.590Z"
   },
   {
    "duration": 34,
    "start_time": "2023-03-27T06:50:57.281Z"
   },
   {
    "duration": 4,
    "start_time": "2023-03-27T06:50:57.954Z"
   },
   {
    "duration": 8,
    "start_time": "2023-03-27T06:50:59.514Z"
   },
   {
    "duration": 13,
    "start_time": "2023-03-27T06:51:02.700Z"
   },
   {
    "duration": 17,
    "start_time": "2023-03-27T06:51:04.360Z"
   },
   {
    "duration": 80,
    "start_time": "2023-03-27T06:51:09.835Z"
   },
   {
    "duration": 17,
    "start_time": "2023-03-27T06:51:10.802Z"
   },
   {
    "duration": 19,
    "start_time": "2023-03-27T06:51:15.114Z"
   },
   {
    "duration": 4,
    "start_time": "2023-03-27T06:53:31.550Z"
   },
   {
    "duration": 59,
    "start_time": "2023-03-27T06:53:31.556Z"
   },
   {
    "duration": 3,
    "start_time": "2023-03-27T06:53:31.618Z"
   },
   {
    "duration": 67,
    "start_time": "2023-03-27T06:53:31.624Z"
   },
   {
    "duration": 39,
    "start_time": "2023-03-27T06:53:31.694Z"
   },
   {
    "duration": 49,
    "start_time": "2023-03-27T06:53:31.738Z"
   },
   {
    "duration": 85,
    "start_time": "2023-03-27T06:53:31.789Z"
   },
   {
    "duration": 16,
    "start_time": "2023-03-27T06:53:31.875Z"
   },
   {
    "duration": 34,
    "start_time": "2023-03-27T06:53:31.893Z"
   },
   {
    "duration": 46,
    "start_time": "2023-03-27T06:53:31.929Z"
   },
   {
    "duration": 38,
    "start_time": "2023-03-27T06:53:31.977Z"
   },
   {
    "duration": 63,
    "start_time": "2023-03-27T06:53:32.018Z"
   },
   {
    "duration": 7,
    "start_time": "2023-03-27T06:54:59.921Z"
   },
   {
    "duration": 27,
    "start_time": "2023-03-27T06:55:06.797Z"
   },
   {
    "duration": 169,
    "start_time": "2023-03-27T06:56:07.505Z"
   },
   {
    "duration": 9,
    "start_time": "2023-03-27T06:56:28.446Z"
   },
   {
    "duration": 9,
    "start_time": "2023-03-27T06:56:38.873Z"
   },
   {
    "duration": 134,
    "start_time": "2023-03-27T06:58:39.147Z"
   },
   {
    "duration": 15,
    "start_time": "2023-03-27T06:58:43.732Z"
   },
   {
    "duration": 10,
    "start_time": "2023-03-27T07:00:33.956Z"
   },
   {
    "duration": 5,
    "start_time": "2023-03-27T07:00:36.884Z"
   },
   {
    "duration": 10,
    "start_time": "2023-03-27T07:00:43.885Z"
   },
   {
    "duration": 11,
    "start_time": "2023-03-27T07:01:00.588Z"
   },
   {
    "duration": 6,
    "start_time": "2023-03-27T07:02:06.087Z"
   },
   {
    "duration": 5,
    "start_time": "2023-03-27T07:02:09.704Z"
   },
   {
    "duration": 274,
    "start_time": "2023-03-27T07:02:13.183Z"
   },
   {
    "duration": 230,
    "start_time": "2023-03-27T07:02:17.056Z"
   },
   {
    "duration": 206,
    "start_time": "2023-03-27T07:06:32.546Z"
   },
   {
    "duration": 223,
    "start_time": "2023-03-27T07:06:44.912Z"
   },
   {
    "duration": 257,
    "start_time": "2023-03-27T07:07:36.692Z"
   },
   {
    "duration": 633,
    "start_time": "2023-03-27T07:08:41.207Z"
   },
   {
    "duration": 222,
    "start_time": "2023-03-27T07:11:19.531Z"
   },
   {
    "duration": 184,
    "start_time": "2023-03-27T07:14:14.110Z"
   },
   {
    "duration": 236,
    "start_time": "2023-03-27T07:14:23.039Z"
   },
   {
    "duration": 213,
    "start_time": "2023-03-27T07:15:00.218Z"
   },
   {
    "duration": 236,
    "start_time": "2023-03-27T07:15:36.962Z"
   },
   {
    "duration": 213,
    "start_time": "2023-03-27T07:15:40.126Z"
   },
   {
    "duration": 12,
    "start_time": "2023-03-27T07:16:22.806Z"
   },
   {
    "duration": 5,
    "start_time": "2023-03-27T07:17:02.113Z"
   },
   {
    "duration": 263,
    "start_time": "2023-03-27T07:17:07.237Z"
   },
   {
    "duration": 241,
    "start_time": "2023-03-27T07:17:13.689Z"
   },
   {
    "duration": 340,
    "start_time": "2023-03-27T07:17:22.133Z"
   },
   {
    "duration": 305,
    "start_time": "2023-03-27T07:17:28.561Z"
   },
   {
    "duration": 280,
    "start_time": "2023-03-27T07:17:33.601Z"
   },
   {
    "duration": 231,
    "start_time": "2023-03-27T07:17:39.525Z"
   },
   {
    "duration": 484,
    "start_time": "2023-03-27T07:29:03.907Z"
   },
   {
    "duration": 228,
    "start_time": "2023-03-27T07:29:14.646Z"
   },
   {
    "duration": 207,
    "start_time": "2023-03-27T07:29:52.674Z"
   },
   {
    "duration": 210,
    "start_time": "2023-03-27T07:30:28.902Z"
   },
   {
    "duration": 229,
    "start_time": "2023-03-27T07:30:37.497Z"
   },
   {
    "duration": 168,
    "start_time": "2023-03-27T07:43:47.275Z"
   },
   {
    "duration": 177,
    "start_time": "2023-03-27T07:43:58.903Z"
   },
   {
    "duration": 13,
    "start_time": "2023-03-27T07:45:26.191Z"
   },
   {
    "duration": 17,
    "start_time": "2023-03-27T07:45:27.594Z"
   },
   {
    "duration": 30,
    "start_time": "2023-03-27T07:45:34.976Z"
   },
   {
    "duration": 193,
    "start_time": "2023-03-27T07:47:03.319Z"
   },
   {
    "duration": 198,
    "start_time": "2023-03-27T07:47:15.202Z"
   },
   {
    "duration": 209,
    "start_time": "2023-03-27T07:47:29.358Z"
   },
   {
    "duration": 245,
    "start_time": "2023-03-27T07:48:42.418Z"
   },
   {
    "duration": 209,
    "start_time": "2023-03-27T07:49:05.514Z"
   },
   {
    "duration": 267,
    "start_time": "2023-03-27T07:49:26.658Z"
   },
   {
    "duration": 474,
    "start_time": "2023-03-27T07:49:46.802Z"
   },
   {
    "duration": 892,
    "start_time": "2023-03-27T07:49:55.870Z"
   },
   {
    "duration": 239,
    "start_time": "2023-03-27T07:50:02.401Z"
   },
   {
    "duration": 383,
    "start_time": "2023-03-27T07:50:05.701Z"
   },
   {
    "duration": 9,
    "start_time": "2023-03-27T08:03:13.840Z"
   },
   {
    "duration": 8,
    "start_time": "2023-03-27T08:03:45.840Z"
   },
   {
    "duration": 8,
    "start_time": "2023-03-27T08:04:25.500Z"
   },
   {
    "duration": 8,
    "start_time": "2023-03-27T08:04:59.167Z"
   },
   {
    "duration": 232,
    "start_time": "2023-03-27T08:06:15.634Z"
   },
   {
    "duration": 196,
    "start_time": "2023-03-27T08:06:39.562Z"
   },
   {
    "duration": 241,
    "start_time": "2023-03-27T08:07:15.214Z"
   },
   {
    "duration": 232,
    "start_time": "2023-03-27T08:07:27.054Z"
   },
   {
    "duration": 14,
    "start_time": "2023-03-27T08:30:13.292Z"
   },
   {
    "duration": 12,
    "start_time": "2023-03-27T08:30:25.253Z"
   },
   {
    "duration": 253,
    "start_time": "2023-03-27T08:32:29.441Z"
   },
   {
    "duration": 244,
    "start_time": "2023-03-27T08:33:11.153Z"
   },
   {
    "duration": 384,
    "start_time": "2023-03-27T08:33:35.212Z"
   },
   {
    "duration": 368,
    "start_time": "2023-03-27T08:33:37.292Z"
   },
   {
    "duration": 12,
    "start_time": "2023-03-27T09:09:53.304Z"
   },
   {
    "duration": 13,
    "start_time": "2023-03-27T09:10:03.721Z"
   },
   {
    "duration": 15,
    "start_time": "2023-03-27T09:10:26.813Z"
   },
   {
    "duration": 17,
    "start_time": "2023-03-27T09:10:43.032Z"
   },
   {
    "duration": 117,
    "start_time": "2023-03-27T09:10:55.640Z"
   },
   {
    "duration": 13,
    "start_time": "2023-03-27T09:11:00.020Z"
   },
   {
    "duration": 6,
    "start_time": "2023-03-27T09:11:19.020Z"
   },
   {
    "duration": 2403,
    "start_time": "2023-03-27T09:12:02.224Z"
   },
   {
    "duration": 1579,
    "start_time": "2023-03-27T09:12:08.820Z"
   },
   {
    "duration": 8,
    "start_time": "2023-03-27T09:12:20.511Z"
   },
   {
    "duration": 121,
    "start_time": "2023-03-27T09:12:31.605Z"
   },
   {
    "duration": 116,
    "start_time": "2023-03-27T09:12:34.664Z"
   },
   {
    "duration": 7,
    "start_time": "2023-03-27T09:13:25.497Z"
   },
   {
    "duration": 8,
    "start_time": "2023-03-27T09:13:37.556Z"
   },
   {
    "duration": 119,
    "start_time": "2023-03-27T09:13:52.107Z"
   },
   {
    "duration": 9,
    "start_time": "2023-03-27T09:17:10.218Z"
   },
   {
    "duration": 8,
    "start_time": "2023-03-27T09:17:10.710Z"
   },
   {
    "duration": 131,
    "start_time": "2023-03-27T09:17:13.718Z"
   },
   {
    "duration": 119,
    "start_time": "2023-03-27T09:17:19.511Z"
   },
   {
    "duration": 6,
    "start_time": "2023-03-27T09:17:29.723Z"
   },
   {
    "duration": 8,
    "start_time": "2023-03-27T09:21:17.014Z"
   },
   {
    "duration": 11,
    "start_time": "2023-03-27T09:21:20.700Z"
   },
   {
    "duration": 146,
    "start_time": "2023-03-27T09:22:50.998Z"
   },
   {
    "duration": 151,
    "start_time": "2023-03-27T09:23:24.250Z"
   },
   {
    "duration": 140,
    "start_time": "2023-03-27T09:23:30.110Z"
   },
   {
    "duration": 126,
    "start_time": "2023-03-27T09:23:40.662Z"
   },
   {
    "duration": 5,
    "start_time": "2023-03-27T09:25:07.897Z"
   },
   {
    "duration": 6,
    "start_time": "2023-03-27T09:30:54.529Z"
   },
   {
    "duration": 13,
    "start_time": "2023-03-27T09:31:30.702Z"
   },
   {
    "duration": 7,
    "start_time": "2023-03-27T09:31:37.233Z"
   },
   {
    "duration": 14,
    "start_time": "2023-03-27T09:31:52.109Z"
   },
   {
    "duration": 3,
    "start_time": "2023-03-27T09:32:25.704Z"
   },
   {
    "duration": 4,
    "start_time": "2023-03-27T09:32:30.511Z"
   },
   {
    "duration": 4,
    "start_time": "2023-03-27T09:40:37.223Z"
   },
   {
    "duration": 9,
    "start_time": "2023-03-27T09:41:01.268Z"
   },
   {
    "duration": 11,
    "start_time": "2023-03-27T09:41:07.627Z"
   },
   {
    "duration": 11,
    "start_time": "2023-03-27T09:45:39.598Z"
   },
   {
    "duration": 9,
    "start_time": "2023-03-27T09:45:51.902Z"
   },
   {
    "duration": 14,
    "start_time": "2023-03-27T09:45:53.310Z"
   },
   {
    "duration": 10,
    "start_time": "2023-03-27T09:45:54.210Z"
   },
   {
    "duration": 15,
    "start_time": "2023-03-27T09:46:08.354Z"
   },
   {
    "duration": 9,
    "start_time": "2023-03-27T09:46:09.150Z"
   },
   {
    "duration": 1908,
    "start_time": "2023-03-27T09:46:48.199Z"
   },
   {
    "duration": 8,
    "start_time": "2023-03-27T09:47:26.302Z"
   },
   {
    "duration": 9,
    "start_time": "2023-03-27T09:50:11.727Z"
   },
   {
    "duration": 5,
    "start_time": "2023-03-27T09:50:18.806Z"
   },
   {
    "duration": 8,
    "start_time": "2023-03-27T09:51:47.502Z"
   },
   {
    "duration": 5,
    "start_time": "2023-03-27T09:51:50.296Z"
   },
   {
    "duration": 13,
    "start_time": "2023-03-27T09:54:53.045Z"
   },
   {
    "duration": 505,
    "start_time": "2023-03-27T09:55:12.630Z"
   },
   {
    "duration": 30,
    "start_time": "2023-03-27T09:55:16.794Z"
   },
   {
    "duration": 35,
    "start_time": "2023-03-27T09:59:16.805Z"
   },
   {
    "duration": 14,
    "start_time": "2023-03-27T10:06:12.797Z"
   },
   {
    "duration": 1374,
    "start_time": "2023-03-28T15:09:41.352Z"
   },
   {
    "duration": 71,
    "start_time": "2023-03-28T15:09:42.734Z"
   },
   {
    "duration": 3,
    "start_time": "2023-03-28T15:09:42.807Z"
   },
   {
    "duration": 17,
    "start_time": "2023-03-28T15:09:42.811Z"
   },
   {
    "duration": 29,
    "start_time": "2023-03-28T15:09:42.830Z"
   },
   {
    "duration": 14,
    "start_time": "2023-03-28T15:09:42.860Z"
   },
   {
    "duration": 127,
    "start_time": "2023-03-28T15:09:42.875Z"
   },
   {
    "duration": 16,
    "start_time": "2023-03-28T15:09:43.004Z"
   },
   {
    "duration": 27,
    "start_time": "2023-03-28T15:09:43.022Z"
   },
   {
    "duration": 20,
    "start_time": "2023-03-28T15:09:43.052Z"
   },
   {
    "duration": 17,
    "start_time": "2023-03-28T15:09:43.074Z"
   },
   {
    "duration": 47,
    "start_time": "2023-03-28T15:09:43.093Z"
   },
   {
    "duration": 8,
    "start_time": "2023-03-28T15:09:43.142Z"
   },
   {
    "duration": 8,
    "start_time": "2023-03-28T15:09:43.153Z"
   },
   {
    "duration": 247,
    "start_time": "2023-03-28T15:09:43.163Z"
   },
   {
    "duration": 9,
    "start_time": "2023-03-28T15:09:43.411Z"
   },
   {
    "duration": 154,
    "start_time": "2023-03-28T15:09:43.424Z"
   },
   {
    "duration": 8,
    "start_time": "2023-03-28T15:09:43.580Z"
   },
   {
    "duration": 7,
    "start_time": "2023-03-28T15:09:43.589Z"
   },
   {
    "duration": 4,
    "start_time": "2023-03-28T15:09:43.598Z"
   },
   {
    "duration": 15,
    "start_time": "2023-03-28T15:09:43.625Z"
   },
   {
    "duration": 6,
    "start_time": "2023-03-28T15:09:43.642Z"
   },
   {
    "duration": 16,
    "start_time": "2023-03-28T15:09:43.650Z"
   },
   {
    "duration": 298,
    "start_time": "2023-03-28T15:09:43.668Z"
   },
   {
    "duration": 211,
    "start_time": "2023-03-28T15:09:43.967Z"
   },
   {
    "duration": 12,
    "start_time": "2023-03-28T15:09:44.179Z"
   },
   {
    "duration": 378,
    "start_time": "2023-03-28T15:09:44.192Z"
   },
   {
    "duration": 6,
    "start_time": "2023-03-28T15:09:44.572Z"
   },
   {
    "duration": 232,
    "start_time": "2023-03-28T15:09:44.579Z"
   },
   {
    "duration": 17,
    "start_time": "2023-03-28T15:09:44.813Z"
   },
   {
    "duration": 312,
    "start_time": "2023-03-28T15:09:44.832Z"
   },
   {
    "duration": 7,
    "start_time": "2023-03-28T15:09:45.146Z"
   },
   {
    "duration": 7,
    "start_time": "2023-03-28T15:09:45.154Z"
   },
   {
    "duration": 137,
    "start_time": "2023-03-28T15:09:45.162Z"
   },
   {
    "duration": 5,
    "start_time": "2023-03-28T15:09:45.301Z"
   },
   {
    "duration": 18,
    "start_time": "2023-03-28T15:09:45.308Z"
   },
   {
    "duration": 8,
    "start_time": "2023-03-28T15:09:45.339Z"
   },
   {
    "duration": 141,
    "start_time": "2023-03-28T15:09:45.349Z"
   },
   {
    "duration": 6,
    "start_time": "2023-03-28T15:09:45.491Z"
   },
   {
    "duration": 26,
    "start_time": "2023-03-28T15:09:45.498Z"
   },
   {
    "duration": 6,
    "start_time": "2023-03-28T15:09:45.533Z"
   },
   {
    "duration": 9,
    "start_time": "2023-03-28T15:09:45.541Z"
   },
   {
    "duration": 16,
    "start_time": "2023-03-28T15:09:45.552Z"
   },
   {
    "duration": 28,
    "start_time": "2023-03-28T15:09:45.570Z"
   },
   {
    "duration": 15,
    "start_time": "2023-03-28T15:09:45.624Z"
   },
   {
    "duration": 882,
    "start_time": "2023-03-28T15:15:11.035Z"
   },
   {
    "duration": 9,
    "start_time": "2023-03-28T15:15:52.535Z"
   },
   {
    "duration": 728,
    "start_time": "2023-03-28T15:18:03.599Z"
   },
   {
    "duration": 25,
    "start_time": "2023-03-28T15:19:02.498Z"
   },
   {
    "duration": 14,
    "start_time": "2023-03-28T15:21:12.094Z"
   },
   {
    "duration": 4,
    "start_time": "2023-03-28T15:41:22.743Z"
   },
   {
    "duration": 30,
    "start_time": "2023-03-28T15:41:22.749Z"
   },
   {
    "duration": 4,
    "start_time": "2023-03-28T15:41:22.780Z"
   },
   {
    "duration": 9,
    "start_time": "2023-03-28T15:41:22.786Z"
   },
   {
    "duration": 13,
    "start_time": "2023-03-28T15:41:22.796Z"
   },
   {
    "duration": 24,
    "start_time": "2023-03-28T15:41:22.811Z"
   },
   {
    "duration": 40,
    "start_time": "2023-03-28T15:41:22.837Z"
   },
   {
    "duration": 15,
    "start_time": "2023-03-28T15:41:22.879Z"
   },
   {
    "duration": 16,
    "start_time": "2023-03-28T15:41:22.897Z"
   },
   {
    "duration": 25,
    "start_time": "2023-03-28T15:41:22.915Z"
   },
   {
    "duration": 22,
    "start_time": "2023-03-28T15:41:22.942Z"
   },
   {
    "duration": 17,
    "start_time": "2023-03-28T15:41:22.966Z"
   },
   {
    "duration": 45,
    "start_time": "2023-03-28T15:41:22.985Z"
   },
   {
    "duration": 16,
    "start_time": "2023-03-28T15:41:23.032Z"
   },
   {
    "duration": 187,
    "start_time": "2023-03-28T15:41:23.050Z"
   },
   {
    "duration": 8,
    "start_time": "2023-03-28T15:41:23.239Z"
   },
   {
    "duration": 132,
    "start_time": "2023-03-28T15:41:23.249Z"
   },
   {
    "duration": 7,
    "start_time": "2023-03-28T15:41:23.382Z"
   },
   {
    "duration": 8,
    "start_time": "2023-03-28T15:41:23.391Z"
   },
   {
    "duration": 24,
    "start_time": "2023-03-28T15:41:23.401Z"
   },
   {
    "duration": 14,
    "start_time": "2023-03-28T15:41:23.427Z"
   },
   {
    "duration": 6,
    "start_time": "2023-03-28T15:41:23.443Z"
   },
   {
    "duration": 5,
    "start_time": "2023-03-28T15:41:23.451Z"
   },
   {
    "duration": 217,
    "start_time": "2023-03-28T15:41:23.459Z"
   },
   {
    "duration": 238,
    "start_time": "2023-03-28T15:41:23.678Z"
   },
   {
    "duration": 14,
    "start_time": "2023-03-28T15:41:23.918Z"
   },
   {
    "duration": 304,
    "start_time": "2023-03-28T15:41:23.934Z"
   },
   {
    "duration": 7,
    "start_time": "2023-03-28T15:41:24.239Z"
   },
   {
    "duration": 225,
    "start_time": "2023-03-28T15:41:24.248Z"
   },
   {
    "duration": 13,
    "start_time": "2023-03-28T15:41:24.475Z"
   },
   {
    "duration": 324,
    "start_time": "2023-03-28T15:41:24.490Z"
   },
   {
    "duration": 14,
    "start_time": "2023-03-28T15:41:24.815Z"
   },
   {
    "duration": 10,
    "start_time": "2023-03-28T15:41:24.830Z"
   },
   {
    "duration": 147,
    "start_time": "2023-03-28T15:41:24.841Z"
   },
   {
    "duration": 5,
    "start_time": "2023-03-28T15:41:24.989Z"
   },
   {
    "duration": 7,
    "start_time": "2023-03-28T15:41:24.996Z"
   },
   {
    "duration": 7,
    "start_time": "2023-03-28T15:41:25.023Z"
   },
   {
    "duration": 153,
    "start_time": "2023-03-28T15:41:25.032Z"
   },
   {
    "duration": 5,
    "start_time": "2023-03-28T15:41:25.187Z"
   },
   {
    "duration": 31,
    "start_time": "2023-03-28T15:41:25.193Z"
   },
   {
    "duration": 3,
    "start_time": "2023-03-28T15:41:25.226Z"
   },
   {
    "duration": 18,
    "start_time": "2023-03-28T15:41:25.231Z"
   },
   {
    "duration": 17,
    "start_time": "2023-03-28T15:41:25.251Z"
   },
   {
    "duration": 255,
    "start_time": "2023-03-28T15:41:25.270Z"
   },
   {
    "duration": 10,
    "start_time": "2023-03-28T15:41:25.526Z"
   },
   {
    "duration": 32,
    "start_time": "2023-03-28T15:41:25.538Z"
   },
   {
    "duration": 33,
    "start_time": "2023-03-28T15:41:25.572Z"
   },
   {
    "duration": 23,
    "start_time": "2023-03-28T15:41:25.607Z"
   },
   {
    "duration": 1189,
    "start_time": "2023-03-28T15:52:38.635Z"
   },
   {
    "duration": 31,
    "start_time": "2023-03-28T15:52:39.827Z"
   },
   {
    "duration": 4,
    "start_time": "2023-03-28T15:52:39.859Z"
   },
   {
    "duration": 12,
    "start_time": "2023-03-28T15:52:39.866Z"
   },
   {
    "duration": 16,
    "start_time": "2023-03-28T15:52:39.880Z"
   },
   {
    "duration": 15,
    "start_time": "2023-03-28T15:52:39.898Z"
   },
   {
    "duration": 43,
    "start_time": "2023-03-28T15:52:39.914Z"
   },
   {
    "duration": 19,
    "start_time": "2023-03-28T15:52:39.958Z"
   },
   {
    "duration": 16,
    "start_time": "2023-03-28T15:52:39.978Z"
   },
   {
    "duration": 14,
    "start_time": "2023-03-28T15:52:39.997Z"
   },
   {
    "duration": 27,
    "start_time": "2023-03-28T15:52:40.013Z"
   },
   {
    "duration": 17,
    "start_time": "2023-03-28T15:52:40.062Z"
   },
   {
    "duration": 6,
    "start_time": "2023-03-28T15:52:40.081Z"
   },
   {
    "duration": 8,
    "start_time": "2023-03-28T15:52:40.089Z"
   },
   {
    "duration": 201,
    "start_time": "2023-03-28T15:52:40.098Z"
   },
   {
    "duration": 9,
    "start_time": "2023-03-28T15:52:40.301Z"
   },
   {
    "duration": 132,
    "start_time": "2023-03-28T15:52:40.312Z"
   },
   {
    "duration": 17,
    "start_time": "2023-03-28T15:52:40.446Z"
   },
   {
    "duration": 7,
    "start_time": "2023-03-28T15:52:40.465Z"
   },
   {
    "duration": 4,
    "start_time": "2023-03-28T15:52:40.473Z"
   },
   {
    "duration": 10,
    "start_time": "2023-03-28T15:52:40.478Z"
   },
   {
    "duration": 9,
    "start_time": "2023-03-28T15:52:40.489Z"
   },
   {
    "duration": 5,
    "start_time": "2023-03-28T15:52:40.501Z"
   },
   {
    "duration": 317,
    "start_time": "2023-03-28T15:52:40.507Z"
   },
   {
    "duration": 219,
    "start_time": "2023-03-28T15:52:40.826Z"
   },
   {
    "duration": 16,
    "start_time": "2023-03-28T15:52:41.047Z"
   },
   {
    "duration": 336,
    "start_time": "2023-03-28T15:52:41.065Z"
   },
   {
    "duration": 8,
    "start_time": "2023-03-28T15:52:41.406Z"
   },
   {
    "duration": 237,
    "start_time": "2023-03-28T15:52:41.416Z"
   },
   {
    "duration": 15,
    "start_time": "2023-03-28T15:52:41.656Z"
   },
   {
    "duration": 307,
    "start_time": "2023-03-28T15:52:41.673Z"
   },
   {
    "duration": 6,
    "start_time": "2023-03-28T15:52:41.982Z"
   },
   {
    "duration": 8,
    "start_time": "2023-03-28T15:52:41.990Z"
   },
   {
    "duration": 135,
    "start_time": "2023-03-28T15:52:42.000Z"
   },
   {
    "duration": 5,
    "start_time": "2023-03-28T15:52:42.137Z"
   },
   {
    "duration": 23,
    "start_time": "2023-03-28T15:52:42.144Z"
   },
   {
    "duration": 7,
    "start_time": "2023-03-28T15:52:42.169Z"
   },
   {
    "duration": 144,
    "start_time": "2023-03-28T15:52:42.178Z"
   },
   {
    "duration": 6,
    "start_time": "2023-03-28T15:52:42.325Z"
   },
   {
    "duration": 40,
    "start_time": "2023-03-28T15:52:42.333Z"
   },
   {
    "duration": 4,
    "start_time": "2023-03-28T15:52:42.375Z"
   },
   {
    "duration": 19,
    "start_time": "2023-03-28T15:52:42.381Z"
   },
   {
    "duration": 20,
    "start_time": "2023-03-28T15:52:42.402Z"
   },
   {
    "duration": 47,
    "start_time": "2023-03-28T15:52:42.424Z"
   },
   {
    "duration": 10,
    "start_time": "2023-03-28T15:52:42.473Z"
   },
   {
    "duration": 17,
    "start_time": "2023-03-28T15:52:42.485Z"
   },
   {
    "duration": 32,
    "start_time": "2023-03-28T15:52:42.504Z"
   },
   {
    "duration": 36,
    "start_time": "2023-03-28T15:52:42.538Z"
   },
   {
    "duration": 47,
    "start_time": "2023-03-29T08:22:52.525Z"
   },
   {
    "duration": 1183,
    "start_time": "2023-03-29T08:22:56.431Z"
   },
   {
    "duration": 86,
    "start_time": "2023-03-29T08:22:57.615Z"
   },
   {
    "duration": 2,
    "start_time": "2023-03-29T08:22:57.703Z"
   },
   {
    "duration": 18,
    "start_time": "2023-03-29T08:22:57.707Z"
   },
   {
    "duration": 12,
    "start_time": "2023-03-29T08:22:57.726Z"
   },
   {
    "duration": 10,
    "start_time": "2023-03-29T08:22:57.740Z"
   },
   {
    "duration": 148,
    "start_time": "2023-03-29T08:22:57.751Z"
   },
   {
    "duration": 14,
    "start_time": "2023-03-29T08:22:57.900Z"
   },
   {
    "duration": 12,
    "start_time": "2023-03-29T08:22:57.916Z"
   },
   {
    "duration": 20,
    "start_time": "2023-03-29T08:22:57.929Z"
   },
   {
    "duration": 24,
    "start_time": "2023-03-29T08:22:57.950Z"
   },
   {
    "duration": 13,
    "start_time": "2023-03-29T08:22:57.975Z"
   },
   {
    "duration": 6,
    "start_time": "2023-03-29T08:23:00.170Z"
   },
   {
    "duration": 6,
    "start_time": "2023-03-29T08:23:16.869Z"
   },
   {
    "duration": 8,
    "start_time": "2023-03-29T08:23:26.919Z"
   },
   {
    "duration": 4,
    "start_time": "2023-03-29T08:25:48.786Z"
   },
   {
    "duration": 5,
    "start_time": "2023-03-29T08:26:00.838Z"
   },
   {
    "duration": 114,
    "start_time": "2023-03-29T08:27:13.638Z"
   },
   {
    "duration": 72,
    "start_time": "2023-03-29T08:27:16.107Z"
   },
   {
    "duration": 5,
    "start_time": "2023-03-29T08:27:29.938Z"
   },
   {
    "duration": 8,
    "start_time": "2023-03-29T08:27:34.648Z"
   },
   {
    "duration": 3849,
    "start_time": "2023-03-29T08:35:00.107Z"
   },
   {
    "duration": 1495,
    "start_time": "2023-03-29T08:35:09.296Z"
   },
   {
    "duration": 6,
    "start_time": "2023-03-29T08:35:22.407Z"
   },
   {
    "duration": 9,
    "start_time": "2023-03-29T08:47:14.758Z"
   },
   {
    "duration": 6,
    "start_time": "2023-03-29T08:47:20.931Z"
   },
   {
    "duration": 5,
    "start_time": "2023-03-29T08:47:51.195Z"
   },
   {
    "duration": 5,
    "start_time": "2023-03-29T08:48:06.631Z"
   },
   {
    "duration": 7,
    "start_time": "2023-03-29T08:50:39.914Z"
   },
   {
    "duration": 6,
    "start_time": "2023-03-29T08:51:16.210Z"
   },
   {
    "duration": 4,
    "start_time": "2023-03-29T08:52:00.880Z"
   },
   {
    "duration": 4,
    "start_time": "2023-03-29T08:52:13.590Z"
   },
   {
    "duration": 6,
    "start_time": "2023-03-29T08:52:19.729Z"
   },
   {
    "duration": 4,
    "start_time": "2023-03-29T08:52:41.827Z"
   },
   {
    "duration": 6,
    "start_time": "2023-03-29T08:53:02.238Z"
   },
   {
    "duration": 4,
    "start_time": "2023-03-29T08:53:02.706Z"
   },
   {
    "duration": 10,
    "start_time": "2023-03-29T08:53:07.058Z"
   },
   {
    "duration": 1167,
    "start_time": "2023-03-29T08:53:16.042Z"
   },
   {
    "duration": 415,
    "start_time": "2023-03-29T08:53:17.211Z"
   },
   {
    "duration": 8,
    "start_time": "2023-03-29T08:53:28.662Z"
   },
   {
    "duration": 6,
    "start_time": "2023-03-29T08:54:03.690Z"
   },
   {
    "duration": 8,
    "start_time": "2023-03-29T08:54:04.246Z"
   },
   {
    "duration": 4,
    "start_time": "2023-03-29T08:54:43.443Z"
   },
   {
    "duration": 10,
    "start_time": "2023-03-29T08:54:49.065Z"
   },
   {
    "duration": 6,
    "start_time": "2023-03-29T08:54:55.854Z"
   },
   {
    "duration": 10,
    "start_time": "2023-03-29T08:56:03.640Z"
   },
   {
    "duration": 10,
    "start_time": "2023-03-29T08:56:11.653Z"
   },
   {
    "duration": 10,
    "start_time": "2023-03-29T08:58:13.037Z"
   },
   {
    "duration": 5,
    "start_time": "2023-03-29T08:59:25.517Z"
   },
   {
    "duration": 5288,
    "start_time": "2023-03-29T08:59:33.305Z"
   },
   {
    "duration": 3,
    "start_time": "2023-03-29T09:00:06.105Z"
   },
   {
    "duration": 31,
    "start_time": "2023-03-29T09:00:06.131Z"
   },
   {
    "duration": 3,
    "start_time": "2023-03-29T09:00:06.164Z"
   },
   {
    "duration": 18,
    "start_time": "2023-03-29T09:00:06.169Z"
   },
   {
    "duration": 25,
    "start_time": "2023-03-29T09:00:06.188Z"
   },
   {
    "duration": 16,
    "start_time": "2023-03-29T09:00:06.215Z"
   },
   {
    "duration": 64,
    "start_time": "2023-03-29T09:00:06.233Z"
   },
   {
    "duration": 16,
    "start_time": "2023-03-29T09:00:06.299Z"
   },
   {
    "duration": 41,
    "start_time": "2023-03-29T09:00:06.316Z"
   },
   {
    "duration": 44,
    "start_time": "2023-03-29T09:00:06.359Z"
   },
   {
    "duration": 40,
    "start_time": "2023-03-29T09:00:06.404Z"
   },
   {
    "duration": 48,
    "start_time": "2023-03-29T09:00:06.446Z"
   },
   {
    "duration": 34,
    "start_time": "2023-03-29T09:00:06.496Z"
   },
   {
    "duration": 27,
    "start_time": "2023-03-29T09:00:06.532Z"
   },
   {
    "duration": 19,
    "start_time": "2023-03-29T09:00:06.562Z"
   },
   {
    "duration": 27,
    "start_time": "2023-03-29T09:00:06.583Z"
   },
   {
    "duration": 10,
    "start_time": "2023-03-29T09:00:06.612Z"
   },
   {
    "duration": 26,
    "start_time": "2023-03-29T09:00:06.623Z"
   },
   {
    "duration": 17,
    "start_time": "2023-03-29T09:00:06.650Z"
   },
   {
    "duration": 9,
    "start_time": "2023-03-29T09:00:10.729Z"
   },
   {
    "duration": 15,
    "start_time": "2023-03-29T09:00:12.193Z"
   },
   {
    "duration": 6,
    "start_time": "2023-03-29T09:02:03.893Z"
   },
   {
    "duration": 8,
    "start_time": "2023-03-29T09:02:11.593Z"
   },
   {
    "duration": 3,
    "start_time": "2023-03-29T09:02:44.784Z"
   },
   {
    "duration": 31,
    "start_time": "2023-03-29T09:02:44.793Z"
   },
   {
    "duration": 3,
    "start_time": "2023-03-29T09:02:44.826Z"
   },
   {
    "duration": 14,
    "start_time": "2023-03-29T09:02:44.831Z"
   },
   {
    "duration": 25,
    "start_time": "2023-03-29T09:02:44.847Z"
   },
   {
    "duration": 16,
    "start_time": "2023-03-29T09:02:44.874Z"
   },
   {
    "duration": 68,
    "start_time": "2023-03-29T09:02:44.892Z"
   },
   {
    "duration": 13,
    "start_time": "2023-03-29T09:02:44.962Z"
   },
   {
    "duration": 28,
    "start_time": "2023-03-29T09:02:44.976Z"
   },
   {
    "duration": 22,
    "start_time": "2023-03-29T09:02:45.005Z"
   },
   {
    "duration": 17,
    "start_time": "2023-03-29T09:02:45.030Z"
   },
   {
    "duration": 28,
    "start_time": "2023-03-29T09:02:45.049Z"
   },
   {
    "duration": 16,
    "start_time": "2023-03-29T09:02:45.079Z"
   },
   {
    "duration": 16,
    "start_time": "2023-03-29T09:02:45.097Z"
   },
   {
    "duration": 4,
    "start_time": "2023-03-29T09:02:47.161Z"
   },
   {
    "duration": 10,
    "start_time": "2023-03-29T09:02:53.765Z"
   },
   {
    "duration": 13,
    "start_time": "2023-03-29T09:03:00.889Z"
   },
   {
    "duration": 16,
    "start_time": "2023-03-29T09:03:44.128Z"
   },
   {
    "duration": 15,
    "start_time": "2023-03-29T09:04:28.868Z"
   },
   {
    "duration": 4575,
    "start_time": "2023-03-29T09:04:46.932Z"
   },
   {
    "duration": 0,
    "start_time": "2023-03-29T09:04:51.508Z"
   },
   {
    "duration": 3,
    "start_time": "2023-03-29T09:05:07.368Z"
   },
   {
    "duration": 33,
    "start_time": "2023-03-29T09:05:07.374Z"
   },
   {
    "duration": 2,
    "start_time": "2023-03-29T09:05:07.409Z"
   },
   {
    "duration": 10,
    "start_time": "2023-03-29T09:05:07.413Z"
   },
   {
    "duration": 17,
    "start_time": "2023-03-29T09:05:07.426Z"
   },
   {
    "duration": 27,
    "start_time": "2023-03-29T09:05:07.445Z"
   },
   {
    "duration": 48,
    "start_time": "2023-03-29T09:05:07.474Z"
   },
   {
    "duration": 16,
    "start_time": "2023-03-29T09:05:07.523Z"
   },
   {
    "duration": 16,
    "start_time": "2023-03-29T09:05:07.540Z"
   },
   {
    "duration": 15,
    "start_time": "2023-03-29T09:05:07.557Z"
   },
   {
    "duration": 20,
    "start_time": "2023-03-29T09:05:07.575Z"
   },
   {
    "duration": 15,
    "start_time": "2023-03-29T09:05:07.597Z"
   },
   {
    "duration": 13,
    "start_time": "2023-03-29T09:05:07.613Z"
   },
   {
    "duration": 5,
    "start_time": "2023-03-29T09:05:07.628Z"
   },
   {
    "duration": 6,
    "start_time": "2023-03-29T09:05:22.045Z"
   },
   {
    "duration": 6,
    "start_time": "2023-03-29T09:06:17.460Z"
   },
   {
    "duration": 15,
    "start_time": "2023-03-29T09:06:27.990Z"
   },
   {
    "duration": 9,
    "start_time": "2023-03-29T09:06:37.961Z"
   },
   {
    "duration": 15,
    "start_time": "2023-03-29T09:06:44.581Z"
   },
   {
    "duration": 8,
    "start_time": "2023-03-29T09:06:51.645Z"
   },
   {
    "duration": 6,
    "start_time": "2023-03-29T09:06:56.556Z"
   },
   {
    "duration": 10,
    "start_time": "2023-03-29T09:07:16.630Z"
   },
   {
    "duration": 14,
    "start_time": "2023-03-29T09:07:22.743Z"
   },
   {
    "duration": 12,
    "start_time": "2023-03-29T09:07:54.744Z"
   },
   {
    "duration": 14,
    "start_time": "2023-03-29T09:08:21.252Z"
   },
   {
    "duration": 12,
    "start_time": "2023-03-29T09:08:36.048Z"
   },
   {
    "duration": 3,
    "start_time": "2023-03-29T09:08:56.933Z"
   },
   {
    "duration": 35,
    "start_time": "2023-03-29T09:08:56.938Z"
   },
   {
    "duration": 3,
    "start_time": "2023-03-29T09:08:56.975Z"
   },
   {
    "duration": 11,
    "start_time": "2023-03-29T09:08:56.980Z"
   },
   {
    "duration": 21,
    "start_time": "2023-03-29T09:08:56.994Z"
   },
   {
    "duration": 15,
    "start_time": "2023-03-29T09:08:57.017Z"
   },
   {
    "duration": 59,
    "start_time": "2023-03-29T09:08:57.034Z"
   },
   {
    "duration": 16,
    "start_time": "2023-03-29T09:08:57.095Z"
   },
   {
    "duration": 25,
    "start_time": "2023-03-29T09:08:57.112Z"
   },
   {
    "duration": 20,
    "start_time": "2023-03-29T09:08:57.140Z"
   },
   {
    "duration": 28,
    "start_time": "2023-03-29T09:08:57.162Z"
   },
   {
    "duration": 18,
    "start_time": "2023-03-29T09:08:57.192Z"
   },
   {
    "duration": 18,
    "start_time": "2023-03-29T09:08:57.212Z"
   },
   {
    "duration": 9,
    "start_time": "2023-03-29T09:08:57.232Z"
   },
   {
    "duration": 13,
    "start_time": "2023-03-29T09:09:14.260Z"
   },
   {
    "duration": 5,
    "start_time": "2023-03-29T09:09:30.133Z"
   },
   {
    "duration": 6,
    "start_time": "2023-03-29T09:09:30.832Z"
   },
   {
    "duration": 15,
    "start_time": "2023-03-29T09:09:39.196Z"
   },
   {
    "duration": 4,
    "start_time": "2023-03-29T09:10:40.162Z"
   },
   {
    "duration": 10,
    "start_time": "2023-03-29T09:10:52.880Z"
   },
   {
    "duration": 12,
    "start_time": "2023-03-29T09:11:14.127Z"
   },
   {
    "duration": 3,
    "start_time": "2023-03-29T09:11:23.734Z"
   },
   {
    "duration": 13,
    "start_time": "2023-03-29T09:11:30.333Z"
   },
   {
    "duration": 5,
    "start_time": "2023-03-29T09:11:52.834Z"
   },
   {
    "duration": 7,
    "start_time": "2023-03-29T09:11:53.534Z"
   },
   {
    "duration": 157,
    "start_time": "2023-03-29T09:11:54.372Z"
   },
   {
    "duration": 7,
    "start_time": "2023-03-29T09:11:55.604Z"
   },
   {
    "duration": 109,
    "start_time": "2023-03-29T09:11:56.734Z"
   },
   {
    "duration": 7,
    "start_time": "2023-03-29T09:11:57.900Z"
   },
   {
    "duration": 6,
    "start_time": "2023-03-29T09:11:59.596Z"
   },
   {
    "duration": 3,
    "start_time": "2023-03-29T09:12:00.036Z"
   },
   {
    "duration": 9,
    "start_time": "2023-03-29T09:12:00.592Z"
   },
   {
    "duration": 5,
    "start_time": "2023-03-29T09:12:01.684Z"
   },
   {
    "duration": 4,
    "start_time": "2023-03-29T09:12:02.083Z"
   },
   {
    "duration": 263,
    "start_time": "2023-03-29T09:12:02.476Z"
   },
   {
    "duration": 167,
    "start_time": "2023-03-29T09:12:07.208Z"
   },
   {
    "duration": 11,
    "start_time": "2023-03-29T09:12:12.017Z"
   },
   {
    "duration": 309,
    "start_time": "2023-03-29T09:12:13.279Z"
   },
   {
    "duration": 7,
    "start_time": "2023-03-29T09:12:15.876Z"
   },
   {
    "duration": 164,
    "start_time": "2023-03-29T09:12:17.276Z"
   },
   {
    "duration": 10,
    "start_time": "2023-03-29T09:12:28.384Z"
   },
   {
    "duration": 265,
    "start_time": "2023-03-29T09:12:28.931Z"
   },
   {
    "duration": 6,
    "start_time": "2023-03-29T09:12:34.937Z"
   },
   {
    "duration": 6,
    "start_time": "2023-03-29T09:12:36.056Z"
   },
   {
    "duration": 119,
    "start_time": "2023-03-29T09:12:37.572Z"
   },
   {
    "duration": 5,
    "start_time": "2023-03-29T09:13:02.547Z"
   },
   {
    "duration": 4,
    "start_time": "2023-03-29T09:19:30.631Z"
   },
   {
    "duration": 119,
    "start_time": "2023-03-29T09:19:30.637Z"
   },
   {
    "duration": 11,
    "start_time": "2023-03-29T09:19:30.758Z"
   },
   {
    "duration": 39,
    "start_time": "2023-03-29T09:19:30.770Z"
   },
   {
    "duration": 38,
    "start_time": "2023-03-29T09:19:30.811Z"
   },
   {
    "duration": 50,
    "start_time": "2023-03-29T09:19:30.850Z"
   },
   {
    "duration": 91,
    "start_time": "2023-03-29T09:19:30.902Z"
   },
   {
    "duration": 34,
    "start_time": "2023-03-29T09:19:30.995Z"
   },
   {
    "duration": 56,
    "start_time": "2023-03-29T09:19:31.030Z"
   },
   {
    "duration": 87,
    "start_time": "2023-03-29T09:19:31.088Z"
   },
   {
    "duration": 130,
    "start_time": "2023-03-29T09:19:31.178Z"
   },
   {
    "duration": 73,
    "start_time": "2023-03-29T09:19:31.309Z"
   },
   {
    "duration": 66,
    "start_time": "2023-03-29T09:19:31.383Z"
   },
   {
    "duration": 89,
    "start_time": "2023-03-29T09:19:31.450Z"
   },
   {
    "duration": 67,
    "start_time": "2023-03-29T09:19:31.541Z"
   },
   {
    "duration": 25,
    "start_time": "2023-03-29T09:19:31.609Z"
   },
   {
    "duration": 25,
    "start_time": "2023-03-29T09:19:31.635Z"
   },
   {
    "duration": 36,
    "start_time": "2023-03-29T09:19:31.661Z"
   },
   {
    "duration": 47,
    "start_time": "2023-03-29T09:19:31.699Z"
   },
   {
    "duration": 35,
    "start_time": "2023-03-29T09:19:31.747Z"
   },
   {
    "duration": 36,
    "start_time": "2023-03-29T09:19:31.783Z"
   },
   {
    "duration": 173,
    "start_time": "2023-03-29T09:19:31.820Z"
   },
   {
    "duration": 8,
    "start_time": "2023-03-29T09:19:31.995Z"
   },
   {
    "duration": 135,
    "start_time": "2023-03-29T09:19:32.004Z"
   },
   {
    "duration": 8,
    "start_time": "2023-03-29T09:19:32.141Z"
   },
   {
    "duration": 27,
    "start_time": "2023-03-29T09:19:32.151Z"
   },
   {
    "duration": 30,
    "start_time": "2023-03-29T09:19:32.179Z"
   },
   {
    "duration": 28,
    "start_time": "2023-03-29T09:19:32.211Z"
   },
   {
    "duration": 7,
    "start_time": "2023-03-29T09:19:32.244Z"
   },
   {
    "duration": 41,
    "start_time": "2023-03-29T09:19:32.252Z"
   },
   {
    "duration": 204,
    "start_time": "2023-03-29T09:19:32.295Z"
   },
   {
    "duration": 192,
    "start_time": "2023-03-29T09:19:32.501Z"
   },
   {
    "duration": 11,
    "start_time": "2023-03-29T09:19:32.695Z"
   },
   {
    "duration": 275,
    "start_time": "2023-03-29T09:19:32.708Z"
   },
   {
    "duration": 7,
    "start_time": "2023-03-29T09:19:32.986Z"
   },
   {
    "duration": 204,
    "start_time": "2023-03-29T09:19:32.995Z"
   },
   {
    "duration": 12,
    "start_time": "2023-03-29T09:19:33.200Z"
   },
   {
    "duration": 294,
    "start_time": "2023-03-29T09:19:33.214Z"
   },
   {
    "duration": 7,
    "start_time": "2023-03-29T09:19:33.510Z"
   },
   {
    "duration": 14,
    "start_time": "2023-03-29T09:19:33.518Z"
   },
   {
    "duration": 119,
    "start_time": "2023-03-29T09:19:33.534Z"
   },
   {
    "duration": 4,
    "start_time": "2023-03-29T09:19:33.655Z"
   },
   {
    "duration": 7,
    "start_time": "2023-03-29T09:19:33.671Z"
   },
   {
    "duration": 12,
    "start_time": "2023-03-29T09:19:33.680Z"
   },
   {
    "duration": 131,
    "start_time": "2023-03-29T09:19:33.694Z"
   },
   {
    "duration": 4,
    "start_time": "2023-03-29T09:19:33.827Z"
   },
   {
    "duration": 23,
    "start_time": "2023-03-29T09:19:33.832Z"
   },
   {
    "duration": 2,
    "start_time": "2023-03-29T09:19:33.856Z"
   },
   {
    "duration": 8,
    "start_time": "2023-03-29T09:19:33.872Z"
   },
   {
    "duration": 19,
    "start_time": "2023-03-29T09:19:33.882Z"
   },
   {
    "duration": 26,
    "start_time": "2023-03-29T09:19:33.902Z"
   },
   {
    "duration": 9,
    "start_time": "2023-03-29T09:19:33.930Z"
   },
   {
    "duration": 35,
    "start_time": "2023-03-29T09:19:33.940Z"
   },
   {
    "duration": 27,
    "start_time": "2023-03-29T09:19:33.976Z"
   },
   {
    "duration": 14,
    "start_time": "2023-03-29T09:19:34.005Z"
   },
   {
    "duration": 1472,
    "start_time": "2023-03-29T14:23:14.990Z"
   },
   {
    "duration": 99,
    "start_time": "2023-03-29T14:23:16.464Z"
   },
   {
    "duration": 3,
    "start_time": "2023-03-29T14:23:16.565Z"
   },
   {
    "duration": 27,
    "start_time": "2023-03-29T14:23:16.570Z"
   },
   {
    "duration": 22,
    "start_time": "2023-03-29T14:23:16.599Z"
   },
   {
    "duration": 14,
    "start_time": "2023-03-29T14:23:16.623Z"
   },
   {
    "duration": 235,
    "start_time": "2023-03-29T14:23:16.638Z"
   },
   {
    "duration": 17,
    "start_time": "2023-03-29T14:23:16.875Z"
   },
   {
    "duration": 22,
    "start_time": "2023-03-29T14:23:16.895Z"
   },
   {
    "duration": 55,
    "start_time": "2023-03-29T14:23:16.920Z"
   },
   {
    "duration": 35,
    "start_time": "2023-03-29T14:23:16.977Z"
   },
   {
    "duration": 31,
    "start_time": "2023-03-29T14:23:17.014Z"
   },
   {
    "duration": 14,
    "start_time": "2023-03-29T14:23:50.433Z"
   },
   {
    "duration": 3,
    "start_time": "2023-03-29T14:23:56.130Z"
   },
   {
    "duration": 72,
    "start_time": "2023-03-29T14:23:56.135Z"
   },
   {
    "duration": 11,
    "start_time": "2023-03-29T14:23:56.209Z"
   },
   {
    "duration": 59,
    "start_time": "2023-03-29T14:23:56.222Z"
   },
   {
    "duration": 20,
    "start_time": "2023-03-29T14:23:56.284Z"
   },
   {
    "duration": 24,
    "start_time": "2023-03-29T14:23:56.306Z"
   },
   {
    "duration": 51,
    "start_time": "2023-03-29T14:23:56.332Z"
   },
   {
    "duration": 17,
    "start_time": "2023-03-29T14:23:56.385Z"
   },
   {
    "duration": 29,
    "start_time": "2023-03-29T14:23:56.403Z"
   },
   {
    "duration": 13,
    "start_time": "2023-03-29T14:23:56.434Z"
   },
   {
    "duration": 18,
    "start_time": "2023-03-29T14:23:56.450Z"
   },
   {
    "duration": 17,
    "start_time": "2023-03-29T14:23:56.470Z"
   },
   {
    "duration": 35,
    "start_time": "2023-03-29T14:23:56.490Z"
   },
   {
    "duration": 16,
    "start_time": "2023-03-29T14:23:56.527Z"
   },
   {
    "duration": 5,
    "start_time": "2023-03-29T14:23:57.930Z"
   },
   {
    "duration": 13,
    "start_time": "2023-03-29T14:23:59.752Z"
   },
   {
    "duration": 8,
    "start_time": "2023-03-29T14:24:08.507Z"
   },
   {
    "duration": 12,
    "start_time": "2023-03-29T14:24:57.204Z"
   },
   {
    "duration": 3,
    "start_time": "2023-03-29T14:25:20.573Z"
   },
   {
    "duration": 60,
    "start_time": "2023-03-29T14:25:20.578Z"
   },
   {
    "duration": 4,
    "start_time": "2023-03-29T14:25:20.641Z"
   },
   {
    "duration": 24,
    "start_time": "2023-03-29T14:25:20.647Z"
   },
   {
    "duration": 28,
    "start_time": "2023-03-29T14:25:20.674Z"
   },
   {
    "duration": 34,
    "start_time": "2023-03-29T14:25:20.704Z"
   },
   {
    "duration": 64,
    "start_time": "2023-03-29T14:25:20.740Z"
   },
   {
    "duration": 16,
    "start_time": "2023-03-29T14:25:20.806Z"
   },
   {
    "duration": 21,
    "start_time": "2023-03-29T14:25:20.824Z"
   },
   {
    "duration": 21,
    "start_time": "2023-03-29T14:25:20.847Z"
   },
   {
    "duration": 36,
    "start_time": "2023-03-29T14:25:20.871Z"
   },
   {
    "duration": 42,
    "start_time": "2023-03-29T14:25:20.909Z"
   },
   {
    "duration": 35,
    "start_time": "2023-03-29T14:25:20.953Z"
   },
   {
    "duration": 16,
    "start_time": "2023-03-29T14:25:20.990Z"
   },
   {
    "duration": 41,
    "start_time": "2023-03-29T14:25:21.007Z"
   },
   {
    "duration": 12,
    "start_time": "2023-03-29T14:25:23.993Z"
   },
   {
    "duration": 17,
    "start_time": "2023-03-29T14:25:54.824Z"
   },
   {
    "duration": 5,
    "start_time": "2023-03-29T14:26:09.756Z"
   },
   {
    "duration": 8,
    "start_time": "2023-03-29T14:27:04.240Z"
   },
   {
    "duration": 3,
    "start_time": "2023-03-29T14:31:49.009Z"
   },
   {
    "duration": 39,
    "start_time": "2023-03-29T14:31:49.014Z"
   },
   {
    "duration": 3,
    "start_time": "2023-03-29T14:31:49.055Z"
   },
   {
    "duration": 11,
    "start_time": "2023-03-29T14:31:49.059Z"
   },
   {
    "duration": 14,
    "start_time": "2023-03-29T14:31:49.073Z"
   },
   {
    "duration": 33,
    "start_time": "2023-03-29T14:31:49.089Z"
   },
   {
    "duration": 49,
    "start_time": "2023-03-29T14:31:49.124Z"
   },
   {
    "duration": 19,
    "start_time": "2023-03-29T14:31:49.175Z"
   },
   {
    "duration": 30,
    "start_time": "2023-03-29T14:31:49.195Z"
   },
   {
    "duration": 20,
    "start_time": "2023-03-29T14:31:49.227Z"
   },
   {
    "duration": 19,
    "start_time": "2023-03-29T14:31:49.250Z"
   },
   {
    "duration": 18,
    "start_time": "2023-03-29T14:31:49.271Z"
   },
   {
    "duration": 34,
    "start_time": "2023-03-29T14:31:49.291Z"
   },
   {
    "duration": 9,
    "start_time": "2023-03-29T14:31:49.327Z"
   },
   {
    "duration": 28,
    "start_time": "2023-03-29T14:31:49.338Z"
   },
   {
    "duration": 14,
    "start_time": "2023-03-29T14:31:49.369Z"
   },
   {
    "duration": 35,
    "start_time": "2023-03-29T14:31:49.385Z"
   },
   {
    "duration": 15,
    "start_time": "2023-03-29T14:31:49.422Z"
   },
   {
    "duration": 15,
    "start_time": "2023-03-29T14:31:49.439Z"
   },
   {
    "duration": 175,
    "start_time": "2023-03-29T14:31:49.456Z"
   },
   {
    "duration": 8,
    "start_time": "2023-03-29T14:31:49.633Z"
   },
   {
    "duration": 135,
    "start_time": "2023-03-29T14:31:49.642Z"
   },
   {
    "duration": 9,
    "start_time": "2023-03-29T14:31:49.779Z"
   },
   {
    "duration": 22,
    "start_time": "2023-03-29T14:31:49.789Z"
   },
   {
    "duration": 23,
    "start_time": "2023-03-29T14:31:49.813Z"
   },
   {
    "duration": 18,
    "start_time": "2023-03-29T14:31:49.837Z"
   },
   {
    "duration": 13,
    "start_time": "2023-03-29T14:31:49.857Z"
   },
   {
    "duration": 16,
    "start_time": "2023-03-29T14:31:49.872Z"
   },
   {
    "duration": 308,
    "start_time": "2023-03-29T14:31:49.891Z"
   },
   {
    "duration": 209,
    "start_time": "2023-03-29T14:31:50.202Z"
   },
   {
    "duration": 14,
    "start_time": "2023-03-29T14:31:50.413Z"
   },
   {
    "duration": 328,
    "start_time": "2023-03-29T14:31:50.428Z"
   },
   {
    "duration": 6,
    "start_time": "2023-03-29T14:31:50.758Z"
   },
   {
    "duration": 224,
    "start_time": "2023-03-29T14:31:50.766Z"
   },
   {
    "duration": 13,
    "start_time": "2023-03-29T14:31:50.992Z"
   },
   {
    "duration": 310,
    "start_time": "2023-03-29T14:31:51.019Z"
   },
   {
    "duration": 9,
    "start_time": "2023-03-29T14:31:51.331Z"
   },
   {
    "duration": 14,
    "start_time": "2023-03-29T14:31:51.342Z"
   },
   {
    "duration": 165,
    "start_time": "2023-03-29T14:31:51.358Z"
   },
   {
    "duration": 6,
    "start_time": "2023-03-29T14:31:51.525Z"
   },
   {
    "duration": 22,
    "start_time": "2023-03-29T14:31:51.533Z"
   },
   {
    "duration": 29,
    "start_time": "2023-03-29T14:31:51.557Z"
   },
   {
    "duration": 146,
    "start_time": "2023-03-29T14:31:51.588Z"
   },
   {
    "duration": 7,
    "start_time": "2023-03-29T14:31:51.736Z"
   },
   {
    "duration": 29,
    "start_time": "2023-03-29T14:31:51.745Z"
   },
   {
    "duration": 14,
    "start_time": "2023-03-29T14:31:51.776Z"
   },
   {
    "duration": 27,
    "start_time": "2023-03-29T14:31:51.792Z"
   },
   {
    "duration": 25,
    "start_time": "2023-03-29T14:31:51.821Z"
   },
   {
    "duration": 54,
    "start_time": "2023-03-29T14:31:51.848Z"
   },
   {
    "duration": 18,
    "start_time": "2023-03-29T14:31:51.904Z"
   },
   {
    "duration": 20,
    "start_time": "2023-03-29T14:31:51.924Z"
   },
   {
    "duration": 64,
    "start_time": "2023-03-29T14:31:51.947Z"
   },
   {
    "duration": 14,
    "start_time": "2023-03-29T14:31:52.013Z"
   },
   {
    "duration": 273,
    "start_time": "2023-03-29T14:34:23.404Z"
   },
   {
    "duration": 210,
    "start_time": "2023-03-29T14:34:36.041Z"
   },
   {
    "duration": 214,
    "start_time": "2023-03-29T14:35:57.229Z"
   },
   {
    "duration": 214,
    "start_time": "2023-03-29T14:36:11.220Z"
   },
   {
    "duration": 203,
    "start_time": "2023-03-29T14:36:14.592Z"
   },
   {
    "duration": 223,
    "start_time": "2023-03-29T14:36:17.172Z"
   },
   {
    "duration": 214,
    "start_time": "2023-03-29T14:36:21.488Z"
   },
   {
    "duration": 209,
    "start_time": "2023-03-29T14:36:24.724Z"
   },
   {
    "duration": 205,
    "start_time": "2023-03-29T14:36:32.328Z"
   },
   {
    "duration": 210,
    "start_time": "2023-03-29T14:36:41.392Z"
   },
   {
    "duration": 342,
    "start_time": "2023-03-29T14:39:02.215Z"
   },
   {
    "duration": 202,
    "start_time": "2023-03-29T14:39:40.239Z"
   },
   {
    "duration": 12,
    "start_time": "2023-03-29T14:40:32.951Z"
   },
   {
    "duration": 255,
    "start_time": "2023-03-29T14:40:49.253Z"
   },
   {
    "duration": 66,
    "start_time": "2023-03-29T14:40:54.631Z"
   },
   {
    "duration": 452,
    "start_time": "2023-03-29T14:40:56.815Z"
   },
   {
    "duration": 318,
    "start_time": "2023-03-29T14:41:05.415Z"
   },
   {
    "duration": 309,
    "start_time": "2023-03-29T14:47:18.741Z"
   },
   {
    "duration": 333,
    "start_time": "2023-03-29T14:47:35.202Z"
   },
   {
    "duration": 307,
    "start_time": "2023-03-29T14:50:57.844Z"
   },
   {
    "duration": 296,
    "start_time": "2023-03-29T14:51:06.056Z"
   },
   {
    "duration": 370,
    "start_time": "2023-03-29T14:51:11.820Z"
   },
   {
    "duration": 153,
    "start_time": "2023-03-29T15:22:51.665Z"
   },
   {
    "duration": 166,
    "start_time": "2023-03-29T15:23:01.749Z"
   },
   {
    "duration": 338,
    "start_time": "2023-03-29T15:23:13.697Z"
   },
   {
    "duration": 229,
    "start_time": "2023-03-29T15:23:39.497Z"
   },
   {
    "duration": 333,
    "start_time": "2023-03-29T15:23:49.389Z"
   },
   {
    "duration": 219,
    "start_time": "2023-03-29T15:23:57.954Z"
   },
   {
    "duration": 209,
    "start_time": "2023-03-29T15:24:04.065Z"
   },
   {
    "duration": 15,
    "start_time": "2023-03-29T15:28:41.408Z"
   },
   {
    "duration": 1745,
    "start_time": "2023-03-29T15:31:58.748Z"
   },
   {
    "duration": 3,
    "start_time": "2023-03-29T15:32:19.392Z"
   },
   {
    "duration": 46,
    "start_time": "2023-03-29T15:32:19.397Z"
   },
   {
    "duration": 3,
    "start_time": "2023-03-29T15:32:19.445Z"
   },
   {
    "duration": 26,
    "start_time": "2023-03-29T15:32:19.450Z"
   },
   {
    "duration": 30,
    "start_time": "2023-03-29T15:32:19.478Z"
   },
   {
    "duration": 44,
    "start_time": "2023-03-29T15:32:19.510Z"
   },
   {
    "duration": 119,
    "start_time": "2023-03-29T15:32:19.556Z"
   },
   {
    "duration": 21,
    "start_time": "2023-03-29T15:32:19.677Z"
   },
   {
    "duration": 48,
    "start_time": "2023-03-29T15:32:19.700Z"
   },
   {
    "duration": 61,
    "start_time": "2023-03-29T15:32:19.750Z"
   },
   {
    "duration": 60,
    "start_time": "2023-03-29T15:32:19.815Z"
   },
   {
    "duration": 42,
    "start_time": "2023-03-29T15:32:19.877Z"
   },
   {
    "duration": 31,
    "start_time": "2023-03-29T15:32:19.921Z"
   },
   {
    "duration": 16,
    "start_time": "2023-03-29T15:32:19.954Z"
   },
   {
    "duration": 45,
    "start_time": "2023-03-29T15:32:19.972Z"
   },
   {
    "duration": 32,
    "start_time": "2023-03-29T15:32:20.020Z"
   },
   {
    "duration": 22,
    "start_time": "2023-03-29T15:32:20.055Z"
   },
   {
    "duration": 21,
    "start_time": "2023-03-29T15:32:20.079Z"
   },
   {
    "duration": 26,
    "start_time": "2023-03-29T15:32:20.103Z"
   },
   {
    "duration": 206,
    "start_time": "2023-03-29T15:32:20.132Z"
   },
   {
    "duration": 10,
    "start_time": "2023-03-29T15:32:20.340Z"
   },
   {
    "duration": 139,
    "start_time": "2023-03-29T15:32:20.352Z"
   },
   {
    "duration": 19,
    "start_time": "2023-03-29T15:32:20.493Z"
   },
   {
    "duration": 35,
    "start_time": "2023-03-29T15:32:20.514Z"
   },
   {
    "duration": 26,
    "start_time": "2023-03-29T15:32:20.551Z"
   },
   {
    "duration": 24,
    "start_time": "2023-03-29T15:32:20.579Z"
   },
   {
    "duration": 16,
    "start_time": "2023-03-29T15:32:20.605Z"
   },
   {
    "duration": 27,
    "start_time": "2023-03-29T15:32:20.623Z"
   },
   {
    "duration": 237,
    "start_time": "2023-03-29T15:32:20.655Z"
   },
   {
    "duration": 224,
    "start_time": "2023-03-29T15:32:20.895Z"
   },
   {
    "duration": 13,
    "start_time": "2023-03-29T15:32:21.121Z"
   },
   {
    "duration": 308,
    "start_time": "2023-03-29T15:32:21.135Z"
   },
   {
    "duration": 9,
    "start_time": "2023-03-29T15:32:21.446Z"
   },
   {
    "duration": 287,
    "start_time": "2023-03-29T15:32:21.458Z"
   },
   {
    "duration": 17,
    "start_time": "2023-03-29T15:32:21.747Z"
   },
   {
    "duration": 488,
    "start_time": "2023-03-29T15:32:21.766Z"
   },
   {
    "duration": 8,
    "start_time": "2023-03-29T15:32:22.256Z"
   },
   {
    "duration": 20,
    "start_time": "2023-03-29T15:32:22.265Z"
   },
   {
    "duration": 252,
    "start_time": "2023-03-29T15:32:22.287Z"
   },
   {
    "duration": 11,
    "start_time": "2023-03-29T15:32:22.541Z"
   },
   {
    "duration": 64,
    "start_time": "2023-03-29T15:32:22.554Z"
   },
   {
    "duration": 50,
    "start_time": "2023-03-29T15:32:22.620Z"
   },
   {
    "duration": 175,
    "start_time": "2023-03-29T15:32:22.672Z"
   },
   {
    "duration": 5,
    "start_time": "2023-03-29T15:32:22.848Z"
   },
   {
    "duration": 20,
    "start_time": "2023-03-29T15:32:22.855Z"
   },
   {
    "duration": 18,
    "start_time": "2023-03-29T15:32:22.877Z"
   },
   {
    "duration": 21,
    "start_time": "2023-03-29T15:32:22.897Z"
   },
   {
    "duration": 34,
    "start_time": "2023-03-29T15:32:22.920Z"
   },
   {
    "duration": 30,
    "start_time": "2023-03-29T15:32:25.799Z"
   },
   {
    "duration": 28,
    "start_time": "2023-03-29T15:33:02.733Z"
   },
   {
    "duration": 28,
    "start_time": "2023-03-29T15:33:08.871Z"
   },
   {
    "duration": 12,
    "start_time": "2023-03-29T15:34:25.426Z"
   },
   {
    "duration": 4,
    "start_time": "2023-03-29T15:35:41.632Z"
   },
   {
    "duration": 5,
    "start_time": "2023-03-29T15:36:28.766Z"
   },
   {
    "duration": 5,
    "start_time": "2023-03-29T15:37:03.234Z"
   },
   {
    "duration": 12,
    "start_time": "2023-03-29T15:37:18.418Z"
   },
   {
    "duration": 43,
    "start_time": "2023-03-29T15:38:18.254Z"
   },
   {
    "duration": 22,
    "start_time": "2023-03-29T15:38:47.962Z"
   },
   {
    "duration": 150,
    "start_time": "2023-03-29T15:44:43.188Z"
   },
   {
    "duration": 4,
    "start_time": "2023-03-29T15:45:31.088Z"
   },
   {
    "duration": 93,
    "start_time": "2023-03-29T15:45:31.094Z"
   },
   {
    "duration": 28,
    "start_time": "2023-03-29T15:45:31.190Z"
   },
   {
    "duration": 79,
    "start_time": "2023-03-29T15:45:31.220Z"
   },
   {
    "duration": 106,
    "start_time": "2023-03-29T15:45:31.303Z"
   },
   {
    "duration": 102,
    "start_time": "2023-03-29T15:45:31.412Z"
   },
   {
    "duration": 107,
    "start_time": "2023-03-29T15:45:31.516Z"
   },
   {
    "duration": 28,
    "start_time": "2023-03-29T15:45:31.624Z"
   },
   {
    "duration": 58,
    "start_time": "2023-03-29T15:45:31.654Z"
   },
   {
    "duration": 72,
    "start_time": "2023-03-29T15:45:31.715Z"
   },
   {
    "duration": 73,
    "start_time": "2023-03-29T15:45:31.790Z"
   },
   {
    "duration": 93,
    "start_time": "2023-03-29T15:45:31.865Z"
   },
   {
    "duration": 49,
    "start_time": "2023-03-29T15:45:31.961Z"
   },
   {
    "duration": 42,
    "start_time": "2023-03-29T15:45:32.012Z"
   },
   {
    "duration": 60,
    "start_time": "2023-03-29T15:45:32.056Z"
   },
   {
    "duration": 61,
    "start_time": "2023-03-29T15:45:32.117Z"
   },
   {
    "duration": 34,
    "start_time": "2023-03-29T15:45:32.180Z"
   },
   {
    "duration": 44,
    "start_time": "2023-03-29T15:45:32.216Z"
   },
   {
    "duration": 82,
    "start_time": "2023-03-29T15:45:32.262Z"
   },
   {
    "duration": 234,
    "start_time": "2023-03-29T15:45:32.346Z"
   },
   {
    "duration": 11,
    "start_time": "2023-03-29T15:45:32.582Z"
   },
   {
    "duration": 233,
    "start_time": "2023-03-29T15:45:32.595Z"
   },
   {
    "duration": 54,
    "start_time": "2023-03-29T15:45:32.830Z"
   },
   {
    "duration": 63,
    "start_time": "2023-03-29T15:45:32.886Z"
   },
   {
    "duration": 36,
    "start_time": "2023-03-29T15:45:32.951Z"
   },
   {
    "duration": 52,
    "start_time": "2023-03-29T15:45:32.989Z"
   },
   {
    "duration": 50,
    "start_time": "2023-03-29T15:45:33.043Z"
   },
   {
    "duration": 61,
    "start_time": "2023-03-29T15:45:33.095Z"
   },
   {
    "duration": 260,
    "start_time": "2023-03-29T15:45:33.160Z"
   },
   {
    "duration": 216,
    "start_time": "2023-03-29T15:45:33.422Z"
   },
   {
    "duration": 12,
    "start_time": "2023-03-29T15:45:33.640Z"
   },
   {
    "duration": 377,
    "start_time": "2023-03-29T15:45:33.654Z"
   },
   {
    "duration": 7,
    "start_time": "2023-03-29T15:45:34.032Z"
   },
   {
    "duration": 273,
    "start_time": "2023-03-29T15:45:34.041Z"
   },
   {
    "duration": 12,
    "start_time": "2023-03-29T15:45:34.317Z"
   },
   {
    "duration": 345,
    "start_time": "2023-03-29T15:45:34.331Z"
   },
   {
    "duration": 7,
    "start_time": "2023-03-29T15:45:34.679Z"
   },
   {
    "duration": 71,
    "start_time": "2023-03-29T15:45:34.688Z"
   },
   {
    "duration": 215,
    "start_time": "2023-03-29T15:45:34.761Z"
   },
   {
    "duration": 5,
    "start_time": "2023-03-29T15:45:34.978Z"
   },
   {
    "duration": 61,
    "start_time": "2023-03-29T15:45:34.985Z"
   },
   {
    "duration": 52,
    "start_time": "2023-03-29T15:45:35.048Z"
   },
   {
    "duration": 224,
    "start_time": "2023-03-29T15:45:35.103Z"
   },
   {
    "duration": 6,
    "start_time": "2023-03-29T15:45:35.329Z"
   },
   {
    "duration": 44,
    "start_time": "2023-03-29T15:45:35.336Z"
   },
   {
    "duration": 37,
    "start_time": "2023-03-29T15:45:35.381Z"
   },
   {
    "duration": 56,
    "start_time": "2023-03-29T15:45:35.420Z"
   },
   {
    "duration": 30,
    "start_time": "2023-03-29T15:45:35.478Z"
   },
   {
    "duration": 55,
    "start_time": "2023-03-29T15:45:35.511Z"
   },
   {
    "duration": 12,
    "start_time": "2023-03-29T15:45:35.567Z"
   },
   {
    "duration": 43,
    "start_time": "2023-03-29T15:45:35.581Z"
   },
   {
    "duration": 70,
    "start_time": "2023-03-29T15:45:35.625Z"
   },
   {
    "duration": 14,
    "start_time": "2023-03-29T15:45:35.697Z"
   },
   {
    "duration": 1298,
    "start_time": "2023-03-29T19:13:19.961Z"
   },
   {
    "duration": 33,
    "start_time": "2023-03-29T19:13:21.262Z"
   },
   {
    "duration": 9,
    "start_time": "2023-03-29T19:13:21.299Z"
   },
   {
    "duration": 21,
    "start_time": "2023-03-29T19:13:21.318Z"
   },
   {
    "duration": 20,
    "start_time": "2023-03-29T19:13:21.343Z"
   },
   {
    "duration": 15,
    "start_time": "2023-03-29T19:13:21.365Z"
   },
   {
    "duration": 62,
    "start_time": "2023-03-29T19:13:21.382Z"
   },
   {
    "duration": 21,
    "start_time": "2023-03-29T19:13:21.446Z"
   },
   {
    "duration": 26,
    "start_time": "2023-03-29T19:13:21.470Z"
   },
   {
    "duration": 32,
    "start_time": "2023-03-29T19:13:21.498Z"
   },
   {
    "duration": 25,
    "start_time": "2023-03-29T19:13:21.532Z"
   },
   {
    "duration": 19,
    "start_time": "2023-03-29T19:13:21.559Z"
   },
   {
    "duration": 30,
    "start_time": "2023-03-29T19:13:21.581Z"
   },
   {
    "duration": 7,
    "start_time": "2023-03-29T19:13:21.616Z"
   },
   {
    "duration": 17,
    "start_time": "2023-03-29T19:13:21.625Z"
   },
   {
    "duration": 18,
    "start_time": "2023-03-29T19:13:21.644Z"
   },
   {
    "duration": 9,
    "start_time": "2023-03-29T19:13:21.664Z"
   },
   {
    "duration": 37,
    "start_time": "2023-03-29T19:13:21.676Z"
   },
   {
    "duration": 14,
    "start_time": "2023-03-29T19:13:21.717Z"
   },
   {
    "duration": 245,
    "start_time": "2023-03-29T19:13:21.734Z"
   },
   {
    "duration": 12,
    "start_time": "2023-03-29T19:13:21.981Z"
   },
   {
    "duration": 182,
    "start_time": "2023-03-29T19:13:21.995Z"
   },
   {
    "duration": 11,
    "start_time": "2023-03-29T19:13:22.180Z"
   },
   {
    "duration": 25,
    "start_time": "2023-03-29T19:13:22.193Z"
   },
   {
    "duration": 10,
    "start_time": "2023-03-29T19:13:22.223Z"
   },
   {
    "duration": 14,
    "start_time": "2023-03-29T19:13:22.239Z"
   },
   {
    "duration": 9,
    "start_time": "2023-03-29T19:13:22.257Z"
   },
   {
    "duration": 8,
    "start_time": "2023-03-29T19:13:22.269Z"
   },
   {
    "duration": 413,
    "start_time": "2023-03-29T19:13:22.280Z"
   },
   {
    "duration": 347,
    "start_time": "2023-03-29T19:13:22.695Z"
   },
   {
    "duration": 18,
    "start_time": "2023-03-29T19:13:23.045Z"
   },
   {
    "duration": 380,
    "start_time": "2023-03-29T19:13:23.065Z"
   },
   {
    "duration": 7,
    "start_time": "2023-03-29T19:13:23.447Z"
   },
   {
    "duration": 375,
    "start_time": "2023-03-29T19:13:23.457Z"
   },
   {
    "duration": 19,
    "start_time": "2023-03-29T19:13:23.834Z"
   },
   {
    "duration": 436,
    "start_time": "2023-03-29T19:13:23.855Z"
   },
   {
    "duration": 18,
    "start_time": "2023-03-29T19:13:24.293Z"
   },
   {
    "duration": 12,
    "start_time": "2023-03-29T19:13:24.318Z"
   },
   {
    "duration": 230,
    "start_time": "2023-03-29T19:13:24.332Z"
   },
   {
    "duration": 6,
    "start_time": "2023-03-29T19:13:24.565Z"
   },
   {
    "duration": 31,
    "start_time": "2023-03-29T19:13:24.576Z"
   },
   {
    "duration": 20,
    "start_time": "2023-03-29T19:13:24.614Z"
   },
   {
    "duration": 219,
    "start_time": "2023-03-29T19:13:24.636Z"
   },
   {
    "duration": 10,
    "start_time": "2023-03-29T19:13:24.857Z"
   },
   {
    "duration": 38,
    "start_time": "2023-03-29T19:13:24.869Z"
   },
   {
    "duration": 8,
    "start_time": "2023-03-29T19:13:24.910Z"
   },
   {
    "duration": 23,
    "start_time": "2023-03-29T19:13:24.919Z"
   },
   {
    "duration": 23,
    "start_time": "2023-03-29T19:13:24.944Z"
   },
   {
    "duration": 49,
    "start_time": "2023-03-29T19:13:24.970Z"
   },
   {
    "duration": 10,
    "start_time": "2023-03-29T19:13:25.024Z"
   },
   {
    "duration": 27,
    "start_time": "2023-03-29T19:13:25.036Z"
   },
   {
    "duration": 41,
    "start_time": "2023-03-29T19:13:25.065Z"
   },
   {
    "duration": 26,
    "start_time": "2023-03-29T19:13:25.111Z"
   },
   {
    "duration": 1147,
    "start_time": "2023-03-30T05:56:31.020Z"
   },
   {
    "duration": 69,
    "start_time": "2023-03-30T05:56:32.169Z"
   },
   {
    "duration": 4,
    "start_time": "2023-03-30T05:56:32.240Z"
   },
   {
    "duration": 10,
    "start_time": "2023-03-30T05:56:32.247Z"
   },
   {
    "duration": 12,
    "start_time": "2023-03-30T05:56:32.258Z"
   },
   {
    "duration": 11,
    "start_time": "2023-03-30T05:56:32.272Z"
   },
   {
    "duration": 151,
    "start_time": "2023-03-30T05:56:32.285Z"
   },
   {
    "duration": 15,
    "start_time": "2023-03-30T05:56:32.437Z"
   },
   {
    "duration": 17,
    "start_time": "2023-03-30T05:56:32.454Z"
   },
   {
    "duration": 15,
    "start_time": "2023-03-30T05:56:32.474Z"
   },
   {
    "duration": 18,
    "start_time": "2023-03-30T05:56:32.491Z"
   },
   {
    "duration": 20,
    "start_time": "2023-03-30T05:56:32.511Z"
   },
   {
    "duration": 4,
    "start_time": "2023-03-30T05:57:15.663Z"
   },
   {
    "duration": 59,
    "start_time": "2023-03-30T05:57:15.669Z"
   },
   {
    "duration": 3,
    "start_time": "2023-03-30T05:57:15.730Z"
   },
   {
    "duration": 19,
    "start_time": "2023-03-30T05:57:15.735Z"
   },
   {
    "duration": 20,
    "start_time": "2023-03-30T05:57:15.756Z"
   },
   {
    "duration": 19,
    "start_time": "2023-03-30T05:57:15.778Z"
   },
   {
    "duration": 66,
    "start_time": "2023-03-30T05:57:15.798Z"
   },
   {
    "duration": 14,
    "start_time": "2023-03-30T05:57:15.865Z"
   },
   {
    "duration": 17,
    "start_time": "2023-03-30T05:57:15.880Z"
   },
   {
    "duration": 28,
    "start_time": "2023-03-30T05:57:15.899Z"
   },
   {
    "duration": 27,
    "start_time": "2023-03-30T05:57:15.929Z"
   },
   {
    "duration": 21,
    "start_time": "2023-03-30T05:57:15.957Z"
   },
   {
    "duration": 7,
    "start_time": "2023-03-30T05:57:19.396Z"
   },
   {
    "duration": 4,
    "start_time": "2023-03-30T05:57:27.436Z"
   },
   {
    "duration": 11,
    "start_time": "2023-03-30T05:57:58.928Z"
   },
   {
    "duration": 5,
    "start_time": "2023-03-30T05:59:25.548Z"
   },
   {
    "duration": 7,
    "start_time": "2023-03-30T05:59:25.979Z"
   },
   {
    "duration": 145,
    "start_time": "2023-03-30T05:59:26.672Z"
   },
   {
    "duration": 7,
    "start_time": "2023-03-30T05:59:28.108Z"
   },
   {
    "duration": 3,
    "start_time": "2023-03-30T05:59:31.496Z"
   },
   {
    "duration": 58,
    "start_time": "2023-03-30T05:59:31.501Z"
   },
   {
    "duration": 2,
    "start_time": "2023-03-30T05:59:31.561Z"
   },
   {
    "duration": 38,
    "start_time": "2023-03-30T05:59:31.564Z"
   },
   {
    "duration": 31,
    "start_time": "2023-03-30T05:59:31.603Z"
   },
   {
    "duration": 28,
    "start_time": "2023-03-30T05:59:31.635Z"
   },
   {
    "duration": 66,
    "start_time": "2023-03-30T05:59:31.664Z"
   },
   {
    "duration": 15,
    "start_time": "2023-03-30T05:59:31.732Z"
   },
   {
    "duration": 32,
    "start_time": "2023-03-30T05:59:31.749Z"
   },
   {
    "duration": 22,
    "start_time": "2023-03-30T05:59:31.783Z"
   },
   {
    "duration": 32,
    "start_time": "2023-03-30T05:59:31.807Z"
   },
   {
    "duration": 15,
    "start_time": "2023-03-30T05:59:31.841Z"
   },
   {
    "duration": 15,
    "start_time": "2023-03-30T05:59:31.858Z"
   },
   {
    "duration": 33,
    "start_time": "2023-03-30T05:59:31.875Z"
   },
   {
    "duration": 33,
    "start_time": "2023-03-30T05:59:31.909Z"
   },
   {
    "duration": 24,
    "start_time": "2023-03-30T05:59:31.943Z"
   },
   {
    "duration": 23,
    "start_time": "2023-03-30T05:59:31.969Z"
   },
   {
    "duration": 159,
    "start_time": "2023-03-30T05:59:31.994Z"
   },
   {
    "duration": 8,
    "start_time": "2023-03-30T05:59:32.154Z"
   },
   {
    "duration": 146,
    "start_time": "2023-03-30T05:59:32.163Z"
   },
   {
    "duration": 19,
    "start_time": "2023-03-30T05:59:32.311Z"
   },
   {
    "duration": 9,
    "start_time": "2023-03-30T05:59:32.332Z"
   },
   {
    "duration": 13,
    "start_time": "2023-03-30T05:59:32.343Z"
   },
   {
    "duration": 19,
    "start_time": "2023-03-30T05:59:32.357Z"
   },
   {
    "duration": 25,
    "start_time": "2023-03-30T05:59:32.378Z"
   },
   {
    "duration": 15,
    "start_time": "2023-03-30T05:59:32.405Z"
   },
   {
    "duration": 305,
    "start_time": "2023-03-30T05:59:32.422Z"
   },
   {
    "duration": 180,
    "start_time": "2023-03-30T05:59:32.728Z"
   },
   {
    "duration": 9,
    "start_time": "2023-03-30T05:59:32.911Z"
   },
   {
    "duration": 355,
    "start_time": "2023-03-30T05:59:32.922Z"
   },
   {
    "duration": 19,
    "start_time": "2023-03-30T05:59:33.279Z"
   },
   {
    "duration": 190,
    "start_time": "2023-03-30T05:59:33.300Z"
   },
   {
    "duration": 12,
    "start_time": "2023-03-30T05:59:33.492Z"
   },
   {
    "duration": 270,
    "start_time": "2023-03-30T05:59:33.505Z"
   },
   {
    "duration": 7,
    "start_time": "2023-03-30T05:59:33.777Z"
   },
   {
    "duration": 6,
    "start_time": "2023-03-30T05:59:33.785Z"
   },
   {
    "duration": 126,
    "start_time": "2023-03-30T05:59:33.792Z"
   },
   {
    "duration": 5,
    "start_time": "2023-03-30T05:59:33.919Z"
   },
   {
    "duration": 8,
    "start_time": "2023-03-30T05:59:33.925Z"
   },
   {
    "duration": 10,
    "start_time": "2023-03-30T05:59:33.934Z"
   },
   {
    "duration": 131,
    "start_time": "2023-03-30T05:59:33.945Z"
   },
   {
    "duration": 5,
    "start_time": "2023-03-30T05:59:34.078Z"
   },
   {
    "duration": 11,
    "start_time": "2023-03-30T05:59:34.085Z"
   },
   {
    "duration": 3,
    "start_time": "2023-03-30T05:59:34.098Z"
   },
   {
    "duration": 8,
    "start_time": "2023-03-30T05:59:34.102Z"
   },
   {
    "duration": 12,
    "start_time": "2023-03-30T05:59:34.111Z"
   },
   {
    "duration": 55,
    "start_time": "2023-03-30T05:59:34.124Z"
   },
   {
    "duration": 9,
    "start_time": "2023-03-30T05:59:34.180Z"
   },
   {
    "duration": 17,
    "start_time": "2023-03-30T05:59:34.190Z"
   },
   {
    "duration": 30,
    "start_time": "2023-03-30T05:59:34.208Z"
   },
   {
    "duration": 11,
    "start_time": "2023-03-30T05:59:34.240Z"
   },
   {
    "duration": 229,
    "start_time": "2023-03-30T06:03:28.575Z"
   },
   {
    "duration": 209,
    "start_time": "2023-03-30T06:04:20.247Z"
   },
   {
    "duration": 125,
    "start_time": "2023-03-30T06:04:24.792Z"
   },
   {
    "duration": 136,
    "start_time": "2023-03-30T06:04:43.518Z"
   },
   {
    "duration": 6,
    "start_time": "2023-03-30T06:05:52.410Z"
   },
   {
    "duration": 14,
    "start_time": "2023-03-30T06:06:24.517Z"
   },
   {
    "duration": 3,
    "start_time": "2023-03-30T06:06:24.883Z"
   },
   {
    "duration": 10,
    "start_time": "2023-03-30T06:06:25.246Z"
   },
   {
    "duration": 17,
    "start_time": "2023-03-30T06:06:25.974Z"
   },
   {
    "duration": 38,
    "start_time": "2023-03-30T06:06:29.922Z"
   },
   {
    "duration": 10,
    "start_time": "2023-03-30T06:06:56.554Z"
   },
   {
    "duration": 10,
    "start_time": "2023-03-30T06:07:17.670Z"
   },
   {
    "duration": 10,
    "start_time": "2023-03-30T06:07:39.839Z"
   },
   {
    "duration": 25,
    "start_time": "2023-03-30T06:08:13.826Z"
   },
   {
    "duration": 16,
    "start_time": "2023-03-30T06:09:10.620Z"
   },
   {
    "duration": 4,
    "start_time": "2023-03-30T06:10:43.804Z"
   },
   {
    "duration": 30,
    "start_time": "2023-03-30T06:10:43.811Z"
   },
   {
    "duration": 3,
    "start_time": "2023-03-30T06:10:43.842Z"
   },
   {
    "duration": 10,
    "start_time": "2023-03-30T06:10:43.847Z"
   },
   {
    "duration": 19,
    "start_time": "2023-03-30T06:10:43.858Z"
   },
   {
    "duration": 18,
    "start_time": "2023-03-30T06:10:43.879Z"
   },
   {
    "duration": 53,
    "start_time": "2023-03-30T06:10:43.899Z"
   },
   {
    "duration": 14,
    "start_time": "2023-03-30T06:10:43.954Z"
   },
   {
    "duration": 19,
    "start_time": "2023-03-30T06:10:43.970Z"
   },
   {
    "duration": 11,
    "start_time": "2023-03-30T06:10:43.991Z"
   },
   {
    "duration": 16,
    "start_time": "2023-03-30T06:10:44.003Z"
   },
   {
    "duration": 13,
    "start_time": "2023-03-30T06:10:44.021Z"
   },
   {
    "duration": 6,
    "start_time": "2023-03-30T06:10:44.035Z"
   },
   {
    "duration": 38,
    "start_time": "2023-03-30T06:10:44.043Z"
   },
   {
    "duration": 12,
    "start_time": "2023-03-30T06:10:44.083Z"
   },
   {
    "duration": 4,
    "start_time": "2023-03-30T06:10:44.096Z"
   },
   {
    "duration": 7,
    "start_time": "2023-03-30T06:10:44.102Z"
   },
   {
    "duration": 171,
    "start_time": "2023-03-30T06:10:44.110Z"
   },
   {
    "duration": 10,
    "start_time": "2023-03-30T06:10:44.282Z"
   },
   {
    "duration": 121,
    "start_time": "2023-03-30T06:10:44.296Z"
   },
   {
    "duration": 7,
    "start_time": "2023-03-30T06:10:44.418Z"
   },
   {
    "duration": 9,
    "start_time": "2023-03-30T06:10:44.427Z"
   },
   {
    "duration": 6,
    "start_time": "2023-03-30T06:10:44.438Z"
   },
   {
    "duration": 35,
    "start_time": "2023-03-30T06:10:44.449Z"
   },
   {
    "duration": 5,
    "start_time": "2023-03-30T06:10:44.485Z"
   },
   {
    "duration": 6,
    "start_time": "2023-03-30T06:10:44.491Z"
   },
   {
    "duration": 187,
    "start_time": "2023-03-30T06:10:44.499Z"
   },
   {
    "duration": 197,
    "start_time": "2023-03-30T06:10:44.687Z"
   },
   {
    "duration": 12,
    "start_time": "2023-03-30T06:10:44.885Z"
   },
   {
    "duration": 305,
    "start_time": "2023-03-30T06:10:44.898Z"
   },
   {
    "duration": 6,
    "start_time": "2023-03-30T06:10:45.205Z"
   },
   {
    "duration": 238,
    "start_time": "2023-03-30T06:10:45.213Z"
   },
   {
    "duration": 16,
    "start_time": "2023-03-30T06:10:45.453Z"
   },
   {
    "duration": 542,
    "start_time": "2023-03-30T06:10:45.474Z"
   },
   {
    "duration": 58,
    "start_time": "2023-03-30T06:10:46.018Z"
   },
   {
    "duration": 12,
    "start_time": "2023-03-30T06:10:46.079Z"
   },
   {
    "duration": 280,
    "start_time": "2023-03-30T06:10:46.092Z"
   },
   {
    "duration": 13,
    "start_time": "2023-03-30T06:10:46.373Z"
   },
   {
    "duration": 7,
    "start_time": "2023-03-30T06:10:46.387Z"
   },
   {
    "duration": 7,
    "start_time": "2023-03-30T06:10:46.395Z"
   },
   {
    "duration": 372,
    "start_time": "2023-03-30T06:10:46.404Z"
   },
   {
    "duration": 309,
    "start_time": "2023-03-30T06:10:46.782Z"
   },
   {
    "duration": 5,
    "start_time": "2023-03-30T06:10:47.094Z"
   },
   {
    "duration": 15,
    "start_time": "2023-03-30T06:10:47.100Z"
   },
   {
    "duration": 56,
    "start_time": "2023-03-30T06:10:47.116Z"
   },
   {
    "duration": 33,
    "start_time": "2023-03-30T06:10:47.173Z"
   },
   {
    "duration": 64,
    "start_time": "2023-03-30T06:10:47.208Z"
   },
   {
    "duration": 42,
    "start_time": "2023-03-30T06:10:47.276Z"
   },
   {
    "duration": 13,
    "start_time": "2023-03-30T06:10:47.368Z"
   },
   {
    "duration": 193,
    "start_time": "2023-03-30T06:10:47.383Z"
   },
   {
    "duration": 28,
    "start_time": "2023-03-30T06:10:47.577Z"
   },
   {
    "duration": 66,
    "start_time": "2023-03-30T06:10:47.606Z"
   },
   {
    "duration": 1284,
    "start_time": "2023-03-30T15:10:02.243Z"
   },
   {
    "duration": 51,
    "start_time": "2023-03-30T15:10:03.529Z"
   },
   {
    "duration": 43,
    "start_time": "2023-03-30T15:10:03.581Z"
   },
   {
    "duration": 50,
    "start_time": "2023-03-30T15:10:03.627Z"
   },
   {
    "duration": 69,
    "start_time": "2023-03-30T15:10:03.680Z"
   },
   {
    "duration": 104,
    "start_time": "2023-03-30T15:10:03.751Z"
   },
   {
    "duration": 92,
    "start_time": "2023-03-30T15:10:03.857Z"
   },
   {
    "duration": 16,
    "start_time": "2023-03-30T15:10:03.951Z"
   },
   {
    "duration": 58,
    "start_time": "2023-03-30T15:10:03.968Z"
   },
   {
    "duration": 42,
    "start_time": "2023-03-30T15:10:04.028Z"
   },
   {
    "duration": 74,
    "start_time": "2023-03-30T15:10:04.071Z"
   },
   {
    "duration": 30,
    "start_time": "2023-03-30T15:10:04.146Z"
   },
   {
    "duration": 22,
    "start_time": "2023-03-30T15:10:04.178Z"
   },
   {
    "duration": 38,
    "start_time": "2023-03-30T15:10:04.203Z"
   },
   {
    "duration": 67,
    "start_time": "2023-03-30T15:10:04.243Z"
   },
   {
    "duration": 49,
    "start_time": "2023-03-30T15:10:04.312Z"
   },
   {
    "duration": 28,
    "start_time": "2023-03-30T15:10:04.366Z"
   },
   {
    "duration": 210,
    "start_time": "2023-03-30T15:10:04.396Z"
   },
   {
    "duration": 11,
    "start_time": "2023-03-30T15:10:04.607Z"
   },
   {
    "duration": 141,
    "start_time": "2023-03-30T15:10:04.619Z"
   },
   {
    "duration": 21,
    "start_time": "2023-03-30T15:10:04.762Z"
   },
   {
    "duration": 24,
    "start_time": "2023-03-30T15:10:04.784Z"
   },
   {
    "duration": 10,
    "start_time": "2023-03-30T15:10:04.810Z"
   },
   {
    "duration": 42,
    "start_time": "2023-03-30T15:10:04.822Z"
   },
   {
    "duration": 37,
    "start_time": "2023-03-30T15:10:04.865Z"
   },
   {
    "duration": 21,
    "start_time": "2023-03-30T15:10:04.904Z"
   },
   {
    "duration": 352,
    "start_time": "2023-03-30T15:10:04.927Z"
   },
   {
    "duration": 227,
    "start_time": "2023-03-30T15:10:05.281Z"
   },
   {
    "duration": 10,
    "start_time": "2023-03-30T15:10:05.517Z"
   },
   {
    "duration": 363,
    "start_time": "2023-03-30T15:10:05.529Z"
   },
   {
    "duration": 7,
    "start_time": "2023-03-30T15:10:05.893Z"
   },
   {
    "duration": 251,
    "start_time": "2023-03-30T15:10:05.901Z"
   },
   {
    "duration": 11,
    "start_time": "2023-03-30T15:10:06.154Z"
   },
   {
    "duration": 374,
    "start_time": "2023-03-30T15:10:06.167Z"
   },
   {
    "duration": 8,
    "start_time": "2023-03-30T15:10:06.543Z"
   },
   {
    "duration": 12,
    "start_time": "2023-03-30T15:10:06.553Z"
   },
   {
    "duration": 171,
    "start_time": "2023-03-30T15:10:06.568Z"
   },
   {
    "duration": 5,
    "start_time": "2023-03-30T15:10:06.741Z"
   },
   {
    "duration": 20,
    "start_time": "2023-03-30T15:10:06.748Z"
   },
   {
    "duration": 11,
    "start_time": "2023-03-30T15:10:06.770Z"
   },
   {
    "duration": 163,
    "start_time": "2023-03-30T15:10:06.784Z"
   },
   {
    "duration": 176,
    "start_time": "2023-03-30T15:10:06.950Z"
   },
   {
    "duration": 6,
    "start_time": "2023-03-30T15:10:07.128Z"
   },
   {
    "duration": 31,
    "start_time": "2023-03-30T15:10:07.136Z"
   },
   {
    "duration": 6,
    "start_time": "2023-03-30T15:10:07.169Z"
   },
   {
    "duration": 30,
    "start_time": "2023-03-30T15:10:07.177Z"
   },
   {
    "duration": 27,
    "start_time": "2023-03-30T15:10:07.209Z"
   },
   {
    "duration": 104,
    "start_time": "2023-03-30T15:10:07.238Z"
   },
   {
    "duration": 10,
    "start_time": "2023-03-30T15:10:07.344Z"
   },
   {
    "duration": 11,
    "start_time": "2023-03-30T15:10:07.355Z"
   },
   {
    "duration": 56,
    "start_time": "2023-03-30T15:10:07.368Z"
   },
   {
    "duration": 14,
    "start_time": "2023-03-30T15:10:07.426Z"
   }
  ],
  "kernelspec": {
   "display_name": "Python 3 (ipykernel)",
   "language": "python",
   "name": "python3"
  },
  "language_info": {
   "codemirror_mode": {
    "name": "ipython",
    "version": 3
   },
   "file_extension": ".py",
   "mimetype": "text/x-python",
   "name": "python",
   "nbconvert_exporter": "python",
   "pygments_lexer": "ipython3",
   "version": "3.9.13"
  },
  "toc": {
   "base_numbering": 1,
   "nav_menu": {},
   "number_sections": true,
   "sideBar": true,
   "skip_h1_title": true,
   "title_cell": "Содержание",
   "title_sidebar": "Contents",
   "toc_cell": true,
   "toc_position": {
    "height": "calc(100% - 180px)",
    "left": "10px",
    "top": "150px",
    "width": "366.188px"
   },
   "toc_section_display": true,
   "toc_window_display": true
  }
 },
 "nbformat": 4,
 "nbformat_minor": 2
}
