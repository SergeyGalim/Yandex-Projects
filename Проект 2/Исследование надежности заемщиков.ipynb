{
 "cells": [
  {
   "cell_type": "markdown",
   "id": "444c9f1d",
   "metadata": {},
   "source": [
    "<center><b><font size=5>Проект 2: Исследование надежности заемщиков</font></b></center>"
   ]
  },
  {
   "cell_type": "markdown",
   "id": "953f7a4c",
   "metadata": {
    "toc": true
   },
   "source": [
    "<h1>Содержание<span class=\"tocSkip\"></span></h1>\n",
    "<div class=\"toc\"><ul class=\"toc-item\"><li><span><a href=\"#Предобработка-данных\" data-toc-modified-id=\"Предобработка-данных-1\"><span class=\"toc-item-num\">1&nbsp;&nbsp;</span>Предобработка данных</a></span><ul class=\"toc-item\"><li><span><a href=\"#Обработка-аномальных-значений\" data-toc-modified-id=\"Обработка-аномальных-значений-1.1\"><span class=\"toc-item-num\">1.1&nbsp;&nbsp;</span>Обработка аномальных значений</a></span></li><li><span><a href=\"#Удаление-пропусков\" data-toc-modified-id=\"Удаление-пропусков-1.2\"><span class=\"toc-item-num\">1.2&nbsp;&nbsp;</span>Удаление пропусков</a></span></li><li><span><a href=\"#Изменение-типов-данных\" data-toc-modified-id=\"Изменение-типов-данных-1.3\"><span class=\"toc-item-num\">1.3&nbsp;&nbsp;</span>Изменение типов данных</a></span></li><li><span><a href=\"#Обработка-дубликатов\" data-toc-modified-id=\"Обработка-дубликатов-1.4\"><span class=\"toc-item-num\">1.4&nbsp;&nbsp;</span>Обработка дубликатов</a></span></li></ul></li><li><span><a href=\"#Категоризация-данных\" data-toc-modified-id=\"Категоризация-данных-2\"><span class=\"toc-item-num\">2&nbsp;&nbsp;</span>Категоризация данных</a></span><ul class=\"toc-item\"><li><span><a href=\"#Категория-доходов\" data-toc-modified-id=\"Категория-доходов-2.1\"><span class=\"toc-item-num\">2.1&nbsp;&nbsp;</span>Категория доходов</a></span></li><li><span><a href=\"#Категория-покупок\" data-toc-modified-id=\"Категория-покупок-2.2\"><span class=\"toc-item-num\">2.2&nbsp;&nbsp;</span>Категория покупок</a></span></li></ul></li><li><span><a href=\"#Исследовательский-анализ-данных\" data-toc-modified-id=\"Исследовательский-анализ-данных-3\"><span class=\"toc-item-num\">3&nbsp;&nbsp;</span>Исследовательский анализ данных</a></span><ul class=\"toc-item\"><li><span><a href=\"#Зависимость-между-количеством-детей-и-возвратом-кредита-в-срок\" data-toc-modified-id=\"Зависимость-между-количеством-детей-и-возвратом-кредита-в-срок-3.1\"><span class=\"toc-item-num\">3.1&nbsp;&nbsp;</span>Зависимость между количеством детей и возвратом кредита в срок</a></span></li><li><span><a href=\"#Зависимость-между-семейным-положением-и-возвратом-кредита-в-срок\" data-toc-modified-id=\"Зависимость-между-семейным-положением-и-возвратом-кредита-в-срок-3.2\"><span class=\"toc-item-num\">3.2&nbsp;&nbsp;</span>Зависимость между семейным положением и возвратом кредита в срок</a></span></li><li><span><a href=\"#Зависимость-между-уровнем-дохода-и-возвратом-кредита-в-срок\" data-toc-modified-id=\"Зависимость-между-уровнем-дохода-и-возвратом-кредита-в-срок-3.3\"><span class=\"toc-item-num\">3.3&nbsp;&nbsp;</span>Зависимость между уровнем дохода и возвратом кредита в срок</a></span></li><li><span><a href=\"#Влияние-целей-кредита-на-его-возврат-в-срок\" data-toc-modified-id=\"Влияние-целей-кредита-на-его-возврат-в-срок-3.4\"><span class=\"toc-item-num\">3.4&nbsp;&nbsp;</span>Влияние целей кредита на его возврат в срок</a></span></li></ul></li><li><span><a href=\"#Общий-вывод\" data-toc-modified-id=\"Общий-вывод-4\"><span class=\"toc-item-num\">4&nbsp;&nbsp;</span>Общий вывод</a></span></li></ul></div>"
   ]
  },
  {
   "cell_type": "markdown",
   "id": "364a8754",
   "metadata": {
    "id": "744d7639"
   },
   "source": [
    "### Предобработка данных"
   ]
  },
  {
   "cell_type": "code",
   "execution_count": 103,
   "id": "7e883576",
   "metadata": {
    "id": "7bcf75c9"
   },
   "outputs": [],
   "source": [
    "# импортируем библиотеку\n",
    "import pandas as pd\n",
    "\n",
    "# загрузим данные \n",
    "data = pd.read_csv('data.csv')"
   ]
  },
  {
   "cell_type": "code",
   "execution_count": 104,
   "id": "b935975f",
   "metadata": {
    "id": "2a7cab99",
    "outputId": "1a8f3ef2-d323-4ec2-ddf7-89670b5944c4"
   },
   "outputs": [
    {
     "data": {
      "text/html": [
       "<div>\n",
       "<style scoped>\n",
       "    .dataframe tbody tr th:only-of-type {\n",
       "        vertical-align: middle;\n",
       "    }\n",
       "\n",
       "    .dataframe tbody tr th {\n",
       "        vertical-align: top;\n",
       "    }\n",
       "\n",
       "    .dataframe thead th {\n",
       "        text-align: right;\n",
       "    }\n",
       "</style>\n",
       "<table border=\"1\" class=\"dataframe\">\n",
       "  <thead>\n",
       "    <tr style=\"text-align: right;\">\n",
       "      <th></th>\n",
       "      <th>children</th>\n",
       "      <th>days_employed</th>\n",
       "      <th>dob_years</th>\n",
       "      <th>education</th>\n",
       "      <th>education_id</th>\n",
       "      <th>family_status</th>\n",
       "      <th>family_status_id</th>\n",
       "      <th>gender</th>\n",
       "      <th>income_type</th>\n",
       "      <th>debt</th>\n",
       "      <th>total_income</th>\n",
       "      <th>purpose</th>\n",
       "    </tr>\n",
       "  </thead>\n",
       "  <tbody>\n",
       "    <tr>\n",
       "      <th>0</th>\n",
       "      <td>1</td>\n",
       "      <td>-8437.673028</td>\n",
       "      <td>42</td>\n",
       "      <td>высшее</td>\n",
       "      <td>0</td>\n",
       "      <td>женат / замужем</td>\n",
       "      <td>0</td>\n",
       "      <td>F</td>\n",
       "      <td>сотрудник</td>\n",
       "      <td>0</td>\n",
       "      <td>253875.639453</td>\n",
       "      <td>покупка жилья</td>\n",
       "    </tr>\n",
       "    <tr>\n",
       "      <th>1</th>\n",
       "      <td>1</td>\n",
       "      <td>-4024.803754</td>\n",
       "      <td>36</td>\n",
       "      <td>среднее</td>\n",
       "      <td>1</td>\n",
       "      <td>женат / замужем</td>\n",
       "      <td>0</td>\n",
       "      <td>F</td>\n",
       "      <td>сотрудник</td>\n",
       "      <td>0</td>\n",
       "      <td>112080.014102</td>\n",
       "      <td>приобретение автомобиля</td>\n",
       "    </tr>\n",
       "    <tr>\n",
       "      <th>2</th>\n",
       "      <td>0</td>\n",
       "      <td>-5623.422610</td>\n",
       "      <td>33</td>\n",
       "      <td>Среднее</td>\n",
       "      <td>1</td>\n",
       "      <td>женат / замужем</td>\n",
       "      <td>0</td>\n",
       "      <td>M</td>\n",
       "      <td>сотрудник</td>\n",
       "      <td>0</td>\n",
       "      <td>145885.952297</td>\n",
       "      <td>покупка жилья</td>\n",
       "    </tr>\n",
       "    <tr>\n",
       "      <th>3</th>\n",
       "      <td>3</td>\n",
       "      <td>-4124.747207</td>\n",
       "      <td>32</td>\n",
       "      <td>среднее</td>\n",
       "      <td>1</td>\n",
       "      <td>женат / замужем</td>\n",
       "      <td>0</td>\n",
       "      <td>M</td>\n",
       "      <td>сотрудник</td>\n",
       "      <td>0</td>\n",
       "      <td>267628.550329</td>\n",
       "      <td>дополнительное образование</td>\n",
       "    </tr>\n",
       "    <tr>\n",
       "      <th>4</th>\n",
       "      <td>0</td>\n",
       "      <td>340266.072047</td>\n",
       "      <td>53</td>\n",
       "      <td>среднее</td>\n",
       "      <td>1</td>\n",
       "      <td>гражданский брак</td>\n",
       "      <td>1</td>\n",
       "      <td>F</td>\n",
       "      <td>пенсионер</td>\n",
       "      <td>0</td>\n",
       "      <td>158616.077870</td>\n",
       "      <td>сыграть свадьбу</td>\n",
       "    </tr>\n",
       "    <tr>\n",
       "      <th>5</th>\n",
       "      <td>0</td>\n",
       "      <td>-926.185831</td>\n",
       "      <td>27</td>\n",
       "      <td>высшее</td>\n",
       "      <td>0</td>\n",
       "      <td>гражданский брак</td>\n",
       "      <td>1</td>\n",
       "      <td>M</td>\n",
       "      <td>компаньон</td>\n",
       "      <td>0</td>\n",
       "      <td>255763.565419</td>\n",
       "      <td>покупка жилья</td>\n",
       "    </tr>\n",
       "    <tr>\n",
       "      <th>6</th>\n",
       "      <td>0</td>\n",
       "      <td>-2879.202052</td>\n",
       "      <td>43</td>\n",
       "      <td>высшее</td>\n",
       "      <td>0</td>\n",
       "      <td>женат / замужем</td>\n",
       "      <td>0</td>\n",
       "      <td>F</td>\n",
       "      <td>компаньон</td>\n",
       "      <td>0</td>\n",
       "      <td>240525.971920</td>\n",
       "      <td>операции с жильем</td>\n",
       "    </tr>\n",
       "    <tr>\n",
       "      <th>7</th>\n",
       "      <td>0</td>\n",
       "      <td>-152.779569</td>\n",
       "      <td>50</td>\n",
       "      <td>СРЕДНЕЕ</td>\n",
       "      <td>1</td>\n",
       "      <td>женат / замужем</td>\n",
       "      <td>0</td>\n",
       "      <td>M</td>\n",
       "      <td>сотрудник</td>\n",
       "      <td>0</td>\n",
       "      <td>135823.934197</td>\n",
       "      <td>образование</td>\n",
       "    </tr>\n",
       "    <tr>\n",
       "      <th>8</th>\n",
       "      <td>2</td>\n",
       "      <td>-6929.865299</td>\n",
       "      <td>35</td>\n",
       "      <td>ВЫСШЕЕ</td>\n",
       "      <td>0</td>\n",
       "      <td>гражданский брак</td>\n",
       "      <td>1</td>\n",
       "      <td>F</td>\n",
       "      <td>сотрудник</td>\n",
       "      <td>0</td>\n",
       "      <td>95856.832424</td>\n",
       "      <td>на проведение свадьбы</td>\n",
       "    </tr>\n",
       "    <tr>\n",
       "      <th>9</th>\n",
       "      <td>0</td>\n",
       "      <td>-2188.756445</td>\n",
       "      <td>41</td>\n",
       "      <td>среднее</td>\n",
       "      <td>1</td>\n",
       "      <td>женат / замужем</td>\n",
       "      <td>0</td>\n",
       "      <td>M</td>\n",
       "      <td>сотрудник</td>\n",
       "      <td>0</td>\n",
       "      <td>144425.938277</td>\n",
       "      <td>покупка жилья для семьи</td>\n",
       "    </tr>\n",
       "    <tr>\n",
       "      <th>10</th>\n",
       "      <td>2</td>\n",
       "      <td>-4171.483647</td>\n",
       "      <td>36</td>\n",
       "      <td>высшее</td>\n",
       "      <td>0</td>\n",
       "      <td>женат / замужем</td>\n",
       "      <td>0</td>\n",
       "      <td>M</td>\n",
       "      <td>компаньон</td>\n",
       "      <td>0</td>\n",
       "      <td>113943.491460</td>\n",
       "      <td>покупка недвижимости</td>\n",
       "    </tr>\n",
       "    <tr>\n",
       "      <th>11</th>\n",
       "      <td>0</td>\n",
       "      <td>-792.701887</td>\n",
       "      <td>40</td>\n",
       "      <td>среднее</td>\n",
       "      <td>1</td>\n",
       "      <td>женат / замужем</td>\n",
       "      <td>0</td>\n",
       "      <td>F</td>\n",
       "      <td>сотрудник</td>\n",
       "      <td>0</td>\n",
       "      <td>77069.234271</td>\n",
       "      <td>покупка коммерческой недвижимости</td>\n",
       "    </tr>\n",
       "    <tr>\n",
       "      <th>12</th>\n",
       "      <td>0</td>\n",
       "      <td>NaN</td>\n",
       "      <td>65</td>\n",
       "      <td>среднее</td>\n",
       "      <td>1</td>\n",
       "      <td>гражданский брак</td>\n",
       "      <td>1</td>\n",
       "      <td>M</td>\n",
       "      <td>пенсионер</td>\n",
       "      <td>0</td>\n",
       "      <td>NaN</td>\n",
       "      <td>сыграть свадьбу</td>\n",
       "    </tr>\n",
       "    <tr>\n",
       "      <th>13</th>\n",
       "      <td>0</td>\n",
       "      <td>-1846.641941</td>\n",
       "      <td>54</td>\n",
       "      <td>неоконченное высшее</td>\n",
       "      <td>2</td>\n",
       "      <td>женат / замужем</td>\n",
       "      <td>0</td>\n",
       "      <td>F</td>\n",
       "      <td>сотрудник</td>\n",
       "      <td>0</td>\n",
       "      <td>130458.228857</td>\n",
       "      <td>приобретение автомобиля</td>\n",
       "    </tr>\n",
       "    <tr>\n",
       "      <th>14</th>\n",
       "      <td>0</td>\n",
       "      <td>-1844.956182</td>\n",
       "      <td>56</td>\n",
       "      <td>высшее</td>\n",
       "      <td>0</td>\n",
       "      <td>гражданский брак</td>\n",
       "      <td>1</td>\n",
       "      <td>F</td>\n",
       "      <td>компаньон</td>\n",
       "      <td>1</td>\n",
       "      <td>165127.911772</td>\n",
       "      <td>покупка жилой недвижимости</td>\n",
       "    </tr>\n",
       "    <tr>\n",
       "      <th>15</th>\n",
       "      <td>1</td>\n",
       "      <td>-972.364419</td>\n",
       "      <td>26</td>\n",
       "      <td>среднее</td>\n",
       "      <td>1</td>\n",
       "      <td>женат / замужем</td>\n",
       "      <td>0</td>\n",
       "      <td>F</td>\n",
       "      <td>сотрудник</td>\n",
       "      <td>0</td>\n",
       "      <td>116820.904450</td>\n",
       "      <td>строительство собственной недвижимости</td>\n",
       "    </tr>\n",
       "    <tr>\n",
       "      <th>16</th>\n",
       "      <td>0</td>\n",
       "      <td>-1719.934226</td>\n",
       "      <td>35</td>\n",
       "      <td>среднее</td>\n",
       "      <td>1</td>\n",
       "      <td>женат / замужем</td>\n",
       "      <td>0</td>\n",
       "      <td>F</td>\n",
       "      <td>сотрудник</td>\n",
       "      <td>0</td>\n",
       "      <td>289202.704229</td>\n",
       "      <td>недвижимость</td>\n",
       "    </tr>\n",
       "    <tr>\n",
       "      <th>17</th>\n",
       "      <td>0</td>\n",
       "      <td>-2369.999720</td>\n",
       "      <td>33</td>\n",
       "      <td>высшее</td>\n",
       "      <td>0</td>\n",
       "      <td>гражданский брак</td>\n",
       "      <td>1</td>\n",
       "      <td>M</td>\n",
       "      <td>сотрудник</td>\n",
       "      <td>0</td>\n",
       "      <td>90410.586745</td>\n",
       "      <td>строительство недвижимости</td>\n",
       "    </tr>\n",
       "    <tr>\n",
       "      <th>18</th>\n",
       "      <td>0</td>\n",
       "      <td>400281.136913</td>\n",
       "      <td>53</td>\n",
       "      <td>среднее</td>\n",
       "      <td>1</td>\n",
       "      <td>вдовец / вдова</td>\n",
       "      <td>2</td>\n",
       "      <td>F</td>\n",
       "      <td>пенсионер</td>\n",
       "      <td>0</td>\n",
       "      <td>56823.777243</td>\n",
       "      <td>на покупку подержанного автомобиля</td>\n",
       "    </tr>\n",
       "    <tr>\n",
       "      <th>19</th>\n",
       "      <td>0</td>\n",
       "      <td>-10038.818549</td>\n",
       "      <td>48</td>\n",
       "      <td>СРЕДНЕЕ</td>\n",
       "      <td>1</td>\n",
       "      <td>в разводе</td>\n",
       "      <td>3</td>\n",
       "      <td>F</td>\n",
       "      <td>сотрудник</td>\n",
       "      <td>0</td>\n",
       "      <td>242831.107982</td>\n",
       "      <td>на покупку своего автомобиля</td>\n",
       "    </tr>\n",
       "  </tbody>\n",
       "</table>\n",
       "</div>"
      ],
      "text/plain": [
       "    children  days_employed  dob_years            education  education_id  \\\n",
       "0          1   -8437.673028         42               высшее             0   \n",
       "1          1   -4024.803754         36              среднее             1   \n",
       "2          0   -5623.422610         33              Среднее             1   \n",
       "3          3   -4124.747207         32              среднее             1   \n",
       "4          0  340266.072047         53              среднее             1   \n",
       "5          0    -926.185831         27               высшее             0   \n",
       "6          0   -2879.202052         43               высшее             0   \n",
       "7          0    -152.779569         50              СРЕДНЕЕ             1   \n",
       "8          2   -6929.865299         35               ВЫСШЕЕ             0   \n",
       "9          0   -2188.756445         41              среднее             1   \n",
       "10         2   -4171.483647         36               высшее             0   \n",
       "11         0    -792.701887         40              среднее             1   \n",
       "12         0            NaN         65              среднее             1   \n",
       "13         0   -1846.641941         54  неоконченное высшее             2   \n",
       "14         0   -1844.956182         56               высшее             0   \n",
       "15         1    -972.364419         26              среднее             1   \n",
       "16         0   -1719.934226         35              среднее             1   \n",
       "17         0   -2369.999720         33               высшее             0   \n",
       "18         0  400281.136913         53              среднее             1   \n",
       "19         0  -10038.818549         48              СРЕДНЕЕ             1   \n",
       "\n",
       "       family_status  family_status_id gender income_type  debt  \\\n",
       "0    женат / замужем                 0      F   сотрудник     0   \n",
       "1    женат / замужем                 0      F   сотрудник     0   \n",
       "2    женат / замужем                 0      M   сотрудник     0   \n",
       "3    женат / замужем                 0      M   сотрудник     0   \n",
       "4   гражданский брак                 1      F   пенсионер     0   \n",
       "5   гражданский брак                 1      M   компаньон     0   \n",
       "6    женат / замужем                 0      F   компаньон     0   \n",
       "7    женат / замужем                 0      M   сотрудник     0   \n",
       "8   гражданский брак                 1      F   сотрудник     0   \n",
       "9    женат / замужем                 0      M   сотрудник     0   \n",
       "10   женат / замужем                 0      M   компаньон     0   \n",
       "11   женат / замужем                 0      F   сотрудник     0   \n",
       "12  гражданский брак                 1      M   пенсионер     0   \n",
       "13   женат / замужем                 0      F   сотрудник     0   \n",
       "14  гражданский брак                 1      F   компаньон     1   \n",
       "15   женат / замужем                 0      F   сотрудник     0   \n",
       "16   женат / замужем                 0      F   сотрудник     0   \n",
       "17  гражданский брак                 1      M   сотрудник     0   \n",
       "18    вдовец / вдова                 2      F   пенсионер     0   \n",
       "19         в разводе                 3      F   сотрудник     0   \n",
       "\n",
       "     total_income                                 purpose  \n",
       "0   253875.639453                           покупка жилья  \n",
       "1   112080.014102                 приобретение автомобиля  \n",
       "2   145885.952297                           покупка жилья  \n",
       "3   267628.550329              дополнительное образование  \n",
       "4   158616.077870                         сыграть свадьбу  \n",
       "5   255763.565419                           покупка жилья  \n",
       "6   240525.971920                       операции с жильем  \n",
       "7   135823.934197                             образование  \n",
       "8    95856.832424                   на проведение свадьбы  \n",
       "9   144425.938277                 покупка жилья для семьи  \n",
       "10  113943.491460                    покупка недвижимости  \n",
       "11   77069.234271       покупка коммерческой недвижимости  \n",
       "12            NaN                         сыграть свадьбу  \n",
       "13  130458.228857                 приобретение автомобиля  \n",
       "14  165127.911772              покупка жилой недвижимости  \n",
       "15  116820.904450  строительство собственной недвижимости  \n",
       "16  289202.704229                            недвижимость  \n",
       "17   90410.586745              строительство недвижимости  \n",
       "18   56823.777243      на покупку подержанного автомобиля  \n",
       "19  242831.107982            на покупку своего автомобиля  "
      ]
     },
     "execution_count": 104,
     "metadata": {},
     "output_type": "execute_result"
    }
   ],
   "source": [
    "# выведем первые 20 строчек датафрейма\n",
    "data.head(20)"
   ]
  },
  {
   "cell_type": "code",
   "execution_count": 105,
   "id": "146395b5",
   "metadata": {
    "id": "2b757bca",
    "outputId": "15376089-8dad-46c9-b520-c05248d43158"
   },
   "outputs": [
    {
     "name": "stdout",
     "output_type": "stream",
     "text": [
      "<class 'pandas.core.frame.DataFrame'>\n",
      "RangeIndex: 21525 entries, 0 to 21524\n",
      "Data columns (total 12 columns):\n",
      " #   Column            Non-Null Count  Dtype  \n",
      "---  ------            --------------  -----  \n",
      " 0   children          21525 non-null  int64  \n",
      " 1   days_employed     19351 non-null  float64\n",
      " 2   dob_years         21525 non-null  int64  \n",
      " 3   education         21525 non-null  object \n",
      " 4   education_id      21525 non-null  int64  \n",
      " 5   family_status     21525 non-null  object \n",
      " 6   family_status_id  21525 non-null  int64  \n",
      " 7   gender            21525 non-null  object \n",
      " 8   income_type       21525 non-null  object \n",
      " 9   debt              21525 non-null  int64  \n",
      " 10  total_income      19351 non-null  float64\n",
      " 11  purpose           21525 non-null  object \n",
      "dtypes: float64(2), int64(5), object(5)\n",
      "memory usage: 2.0+ MB\n"
     ]
    }
   ],
   "source": [
    "# выведем основную информацию о датафрейме\n",
    "data.info()"
   ]
  },
  {
   "cell_type": "markdown",
   "id": "37fc3b5d",
   "metadata": {
    "id": "89da5ece"
   },
   "source": [
    "#### Обработка аномальных значений"
   ]
  },
  {
   "cell_type": "code",
   "execution_count": 106,
   "id": "d0bcdc6d",
   "metadata": {},
   "outputs": [
    {
     "data": {
      "text/html": [
       "<div>\n",
       "<style scoped>\n",
       "    .dataframe tbody tr th:only-of-type {\n",
       "        vertical-align: middle;\n",
       "    }\n",
       "\n",
       "    .dataframe tbody tr th {\n",
       "        vertical-align: top;\n",
       "    }\n",
       "\n",
       "    .dataframe thead th {\n",
       "        text-align: right;\n",
       "    }\n",
       "</style>\n",
       "<table border=\"1\" class=\"dataframe\">\n",
       "  <thead>\n",
       "    <tr style=\"text-align: right;\">\n",
       "      <th></th>\n",
       "      <th>children</th>\n",
       "      <th>days_employed</th>\n",
       "      <th>dob_years</th>\n",
       "      <th>education_id</th>\n",
       "      <th>family_status_id</th>\n",
       "      <th>debt</th>\n",
       "      <th>total_income</th>\n",
       "    </tr>\n",
       "  </thead>\n",
       "  <tbody>\n",
       "    <tr>\n",
       "      <th>count</th>\n",
       "      <td>21525.000000</td>\n",
       "      <td>19351.000000</td>\n",
       "      <td>21525.000000</td>\n",
       "      <td>21525.000000</td>\n",
       "      <td>21525.000000</td>\n",
       "      <td>21525.000000</td>\n",
       "      <td>1.935100e+04</td>\n",
       "    </tr>\n",
       "    <tr>\n",
       "      <th>mean</th>\n",
       "      <td>0.538908</td>\n",
       "      <td>63046.497661</td>\n",
       "      <td>43.293380</td>\n",
       "      <td>0.817236</td>\n",
       "      <td>0.972544</td>\n",
       "      <td>0.080883</td>\n",
       "      <td>1.674223e+05</td>\n",
       "    </tr>\n",
       "    <tr>\n",
       "      <th>std</th>\n",
       "      <td>1.381587</td>\n",
       "      <td>140827.311974</td>\n",
       "      <td>12.574584</td>\n",
       "      <td>0.548138</td>\n",
       "      <td>1.420324</td>\n",
       "      <td>0.272661</td>\n",
       "      <td>1.029716e+05</td>\n",
       "    </tr>\n",
       "    <tr>\n",
       "      <th>min</th>\n",
       "      <td>-1.000000</td>\n",
       "      <td>-18388.949901</td>\n",
       "      <td>0.000000</td>\n",
       "      <td>0.000000</td>\n",
       "      <td>0.000000</td>\n",
       "      <td>0.000000</td>\n",
       "      <td>2.066726e+04</td>\n",
       "    </tr>\n",
       "    <tr>\n",
       "      <th>25%</th>\n",
       "      <td>0.000000</td>\n",
       "      <td>-2747.423625</td>\n",
       "      <td>33.000000</td>\n",
       "      <td>1.000000</td>\n",
       "      <td>0.000000</td>\n",
       "      <td>0.000000</td>\n",
       "      <td>1.030532e+05</td>\n",
       "    </tr>\n",
       "    <tr>\n",
       "      <th>50%</th>\n",
       "      <td>0.000000</td>\n",
       "      <td>-1203.369529</td>\n",
       "      <td>42.000000</td>\n",
       "      <td>1.000000</td>\n",
       "      <td>0.000000</td>\n",
       "      <td>0.000000</td>\n",
       "      <td>1.450179e+05</td>\n",
       "    </tr>\n",
       "    <tr>\n",
       "      <th>75%</th>\n",
       "      <td>1.000000</td>\n",
       "      <td>-291.095954</td>\n",
       "      <td>53.000000</td>\n",
       "      <td>1.000000</td>\n",
       "      <td>1.000000</td>\n",
       "      <td>0.000000</td>\n",
       "      <td>2.034351e+05</td>\n",
       "    </tr>\n",
       "    <tr>\n",
       "      <th>max</th>\n",
       "      <td>20.000000</td>\n",
       "      <td>401755.400475</td>\n",
       "      <td>75.000000</td>\n",
       "      <td>4.000000</td>\n",
       "      <td>4.000000</td>\n",
       "      <td>1.000000</td>\n",
       "      <td>2.265604e+06</td>\n",
       "    </tr>\n",
       "  </tbody>\n",
       "</table>\n",
       "</div>"
      ],
      "text/plain": [
       "           children  days_employed     dob_years  education_id  \\\n",
       "count  21525.000000   19351.000000  21525.000000  21525.000000   \n",
       "mean       0.538908   63046.497661     43.293380      0.817236   \n",
       "std        1.381587  140827.311974     12.574584      0.548138   \n",
       "min       -1.000000  -18388.949901      0.000000      0.000000   \n",
       "25%        0.000000   -2747.423625     33.000000      1.000000   \n",
       "50%        0.000000   -1203.369529     42.000000      1.000000   \n",
       "75%        1.000000    -291.095954     53.000000      1.000000   \n",
       "max       20.000000  401755.400475     75.000000      4.000000   \n",
       "\n",
       "       family_status_id          debt  total_income  \n",
       "count      21525.000000  21525.000000  1.935100e+04  \n",
       "mean           0.972544      0.080883  1.674223e+05  \n",
       "std            1.420324      0.272661  1.029716e+05  \n",
       "min            0.000000      0.000000  2.066726e+04  \n",
       "25%            0.000000      0.000000  1.030532e+05  \n",
       "50%            0.000000      0.000000  1.450179e+05  \n",
       "75%            1.000000      0.000000  2.034351e+05  \n",
       "max            4.000000      1.000000  2.265604e+06  "
      ]
     },
     "execution_count": 106,
     "metadata": {},
     "output_type": "execute_result"
    }
   ],
   "source": [
    "# выведем описание таблицы\n",
    "data.describe()"
   ]
  },
  {
   "cell_type": "markdown",
   "id": "cd206034",
   "metadata": {
    "id": "57964554"
   },
   "source": [
    "К аномалиям можно отнести отрицательное и слишком большое (20) количество детей, отрицательное количество дней трудового стажа в столбце `days_employed`. \n",
    "\n",
    "Заменим отрицательные значения в столбце `days_employed` на положительные."
   ]
  },
  {
   "cell_type": "code",
   "execution_count": 107,
   "id": "627d5235",
   "metadata": {
    "id": "f6f055bf"
   },
   "outputs": [],
   "source": [
    "data['days_employed'] = data['days_employed'].abs()"
   ]
  },
  {
   "cell_type": "markdown",
   "id": "b0080f75",
   "metadata": {
    "id": "6107dd2f"
   },
   "source": [
    "Для каждого типа занятости выведем медианное значение трудового стажа в днях."
   ]
  },
  {
   "cell_type": "code",
   "execution_count": 108,
   "id": "45124435",
   "metadata": {
    "id": "85a5faf6",
    "outputId": "801ef80e-522b-4668-f34e-565af7432bcf"
   },
   "outputs": [
    {
     "data": {
      "text/plain": [
       "income_type\n",
       "безработный        366413.652744\n",
       "в декрете            3296.759962\n",
       "госслужащий          2689.368353\n",
       "компаньон            1547.382223\n",
       "пенсионер          365213.306266\n",
       "предприниматель       520.848083\n",
       "сотрудник            1574.202821\n",
       "студент               578.751554\n",
       "Name: days_employed, dtype: float64"
      ]
     },
     "execution_count": 108,
     "metadata": {},
     "output_type": "execute_result"
    }
   ],
   "source": [
    "data.groupby('income_type')['days_employed'].agg('median')"
   ]
  },
  {
   "cell_type": "markdown",
   "id": "5d0e3790",
   "metadata": {
    "id": "38d1a030"
   },
   "source": [
    "У двух типов (безработные и пенсионеры) получатся аномально большие значения. Исправить такие значения сложно, поэтому оставим их как есть. Тем более этот столбец не понадобится для исследования.\n",
    "\n",
    "Проверим какое количество данных занимают строки с аномальным количеством детей."
   ]
  },
  {
   "cell_type": "code",
   "execution_count": 109,
   "id": "ea32a058",
   "metadata": {},
   "outputs": [
    {
     "name": "stdout",
     "output_type": "stream",
     "text": [
      "Процент записей с аномальным количеством детей: 0.57\n"
     ]
    }
   ],
   "source": [
    "print('Процент записей с аномальным количеством детей: {}'.format(round(data.query('children == -1 or children == 20').shape[0] / data.shape[0] * 100, 2)))"
   ]
  },
  {
   "cell_type": "markdown",
   "id": "6f44994a",
   "metadata": {},
   "source": [
    "Записи с аномальным количеством детей составляют лишь пол процента. Такие данные можно удалить."
   ]
  },
  {
   "cell_type": "code",
   "execution_count": 110,
   "id": "f4a1fb2c",
   "metadata": {
    "id": "3ff9801d"
   },
   "outputs": [],
   "source": [
    "data = data[(data['children'] != -1) & (data['children'] != 20)]"
   ]
  },
  {
   "cell_type": "code",
   "execution_count": 111,
   "id": "3482517e",
   "metadata": {
    "id": "ad4fa8b7",
    "outputId": "b2097101-d49d-44d9-901b-32a65c9463d1"
   },
   "outputs": [
    {
     "data": {
      "text/plain": [
       "array([1, 0, 3, 2, 4, 5], dtype=int64)"
      ]
     },
     "execution_count": 111,
     "metadata": {},
     "output_type": "execute_result"
    }
   ],
   "source": [
    "# проверим изменения\n",
    "data['children'].unique()"
   ]
  },
  {
   "cell_type": "markdown",
   "id": "7eb2e8be",
   "metadata": {},
   "source": [
    "Аномалии удалены"
   ]
  },
  {
   "cell_type": "markdown",
   "id": "f90e4a02",
   "metadata": {
    "id": "02d92d53"
   },
   "source": [
    "#### Удаление пропусков"
   ]
  },
  {
   "cell_type": "code",
   "execution_count": 112,
   "id": "7789076e",
   "metadata": {
    "id": "7f9b2309",
    "outputId": "81f4d817-781c-465c-ed15-91ce4446810d"
   },
   "outputs": [
    {
     "data": {
      "text/plain": [
       "children               0\n",
       "days_employed       2162\n",
       "dob_years              0\n",
       "education              0\n",
       "education_id           0\n",
       "family_status          0\n",
       "family_status_id       0\n",
       "gender                 0\n",
       "income_type            0\n",
       "debt                   0\n",
       "total_income        2162\n",
       "purpose                0\n",
       "dtype: int64"
      ]
     },
     "execution_count": 112,
     "metadata": {},
     "output_type": "execute_result"
    }
   ],
   "source": [
    "# выведем количество пропущенных значений для каждого столбца\n",
    "data.isna().sum()"
   ]
  },
  {
   "cell_type": "markdown",
   "id": "d8a2ebcc",
   "metadata": {
    "id": "db86e27b"
   },
   "source": [
    "В двух столбцах есть пропущенные значения — `days_employed` и `total_income`. Второй столбец хранит данные о доходах. На сумму дохода сильнее всего влияет тип занятости, поэтому заполнить пропуски в этом столбце нужно медианным значением по каждому типу из столбца `income_type`. Например, у человека с типом занятости `сотрудник` пропуск в столбце `total_income` должен быть заполнен медианным доходом среди всех записей с тем же типом."
   ]
  },
  {
   "cell_type": "code",
   "execution_count": 113,
   "id": "78eef969",
   "metadata": {
    "id": "42006a93"
   },
   "outputs": [],
   "source": [
    "for t in data['income_type'].unique():\n",
    "    data.loc[(data['income_type'] == t) & (data['total_income'].isna()), 'total_income'] = \\\n",
    "    data.loc[(data['income_type'] == t), 'total_income'].median()"
   ]
  },
  {
   "cell_type": "markdown",
   "id": "a88fb83d",
   "metadata": {
    "id": "f4ea573f"
   },
   "source": [
    "Заполним пропуски в столбце `days_employed` медианными значениями по каждого типа занятости `income_type`."
   ]
  },
  {
   "cell_type": "code",
   "execution_count": 114,
   "id": "34248431",
   "metadata": {
    "id": "af6b1a7e"
   },
   "outputs": [],
   "source": [
    "for t in data['income_type'].unique():\n",
    "    data.loc[(data['income_type'] == t) & (data['days_employed'].isna()), 'days_employed'] = \\\n",
    "    data.loc[(data['income_type'] == t), 'days_employed'].median()"
   ]
  },
  {
   "cell_type": "code",
   "execution_count": 115,
   "id": "03339502",
   "metadata": {
    "id": "55f78bc2",
    "outputId": "8da1e4e1-358e-4e87-98c9-f261bce0a7b2"
   },
   "outputs": [
    {
     "data": {
      "text/plain": [
       "children            0\n",
       "days_employed       0\n",
       "dob_years           0\n",
       "education           0\n",
       "education_id        0\n",
       "family_status       0\n",
       "family_status_id    0\n",
       "gender              0\n",
       "income_type         0\n",
       "debt                0\n",
       "total_income        0\n",
       "purpose             0\n",
       "dtype: int64"
      ]
     },
     "execution_count": 115,
     "metadata": {},
     "output_type": "execute_result"
    }
   ],
   "source": [
    "# убедимся, что все пропуски заполнены\n",
    "data.isna().sum()"
   ]
  },
  {
   "cell_type": "markdown",
   "id": "7a3ae300",
   "metadata": {
    "id": "ddc81e43"
   },
   "source": [
    "#### Изменение типов данных"
   ]
  },
  {
   "cell_type": "markdown",
   "id": "09c81839",
   "metadata": {
    "id": "42d19d24"
   },
   "source": [
    "Заменим вещественный тип данных в столбце `total_income` на целочисленный."
   ]
  },
  {
   "cell_type": "code",
   "execution_count": 116,
   "id": "a4ba8813",
   "metadata": {
    "id": "920b65ad"
   },
   "outputs": [],
   "source": [
    "data['total_income'] = data['total_income'].astype(int)"
   ]
  },
  {
   "cell_type": "markdown",
   "id": "4078e271",
   "metadata": {
    "id": "80c420ba"
   },
   "source": [
    "#### Обработка дубликатов"
   ]
  },
  {
   "cell_type": "markdown",
   "id": "f9e8aa54",
   "metadata": {},
   "source": [
    "Обработаем неявные дубликаты в столбце `education`. В этом столбце есть одни и те же значения, но записанные по-разному: с использованием заглавных и строчных букв. Приведем их к нижнему регистру"
   ]
  },
  {
   "cell_type": "code",
   "execution_count": 117,
   "id": "92075fed",
   "metadata": {},
   "outputs": [],
   "source": [
    "data['education'] = data['education'].str.lower()"
   ]
  },
  {
   "cell_type": "code",
   "execution_count": 118,
   "id": "f8649a05",
   "metadata": {
    "id": "3ee445e4",
    "outputId": "9684deba-1934-42d1-99e1-cda61740f822"
   },
   "outputs": [
    {
     "data": {
      "text/plain": [
       "71"
      ]
     },
     "execution_count": 118,
     "metadata": {},
     "output_type": "execute_result"
    }
   ],
   "source": [
    "# выведем количество явных дубликатов\n",
    "data.duplicated().sum()"
   ]
  },
  {
   "cell_type": "code",
   "execution_count": 124,
   "id": "9266f65e",
   "metadata": {},
   "outputs": [
    {
     "name": "stdout",
     "output_type": "stream",
     "text": [
      "Процент явных дубликатов: 0.33174\n"
     ]
    }
   ],
   "source": [
    "print('Процент явных дубликатов: {}'.format(round(data.duplicated().sum() / data.shape[0] * 100, 5)))"
   ]
  },
  {
   "cell_type": "markdown",
   "id": "a26fc28f",
   "metadata": {},
   "source": [
    "Явные дубликаты составляют лишь 0.3% от общего количества записей. Их можно удалить."
   ]
  },
  {
   "cell_type": "code",
   "execution_count": 125,
   "id": "06cebd2b",
   "metadata": {
    "id": "8575fe05"
   },
   "outputs": [],
   "source": [
    "data = data.drop_duplicates()"
   ]
  },
  {
   "cell_type": "markdown",
   "id": "07c5f64d",
   "metadata": {
    "id": "9904cf55"
   },
   "source": [
    "### Категоризация данных"
   ]
  },
  {
   "cell_type": "markdown",
   "id": "d17901b2",
   "metadata": {},
   "source": [
    "#### Категория доходов"
   ]
  },
  {
   "cell_type": "markdown",
   "id": "a4a68a76",
   "metadata": {
    "id": "72fcc8a2"
   },
   "source": [
    "Создадим в датафрейме `data` столбец `total_income_category` с категориями:\n",
    "\n",
    "- 0–30000 — `'E'`;\n",
    "- 30001–50000 — `'D'`;\n",
    "- 50001–200000 — `'C'`;\n",
    "- 200001–1000000 — `'B'`;\n",
    "- 1000001 и выше — `'A'`."
   ]
  },
  {
   "cell_type": "code",
   "execution_count": 17,
   "id": "57081afc",
   "metadata": {
    "id": "e1771346"
   },
   "outputs": [],
   "source": [
    "# напишем функцию определения категорий\n",
    "def categorize_income(income):\n",
    "    try:\n",
    "        if 0 <= income <= 30000:\n",
    "            return 'E'\n",
    "        elif 30001 <= income <= 50000:\n",
    "            return 'D'\n",
    "        elif 50001 <= income <= 200000:\n",
    "            return 'C'\n",
    "        elif 200001 <= income <= 1000000:\n",
    "            return 'B'\n",
    "        elif income >= 1000001:\n",
    "            return 'A'\n",
    "    except:\n",
    "        pass"
   ]
  },
  {
   "cell_type": "code",
   "execution_count": 126,
   "id": "786742e1",
   "metadata": {
    "id": "d5f3586d"
   },
   "outputs": [],
   "source": [
    "# применим функцию к новому столбцу\n",
    "data['total_income_category'] = data['total_income'].apply(categorize_income)"
   ]
  },
  {
   "cell_type": "markdown",
   "id": "ef5e0e3c",
   "metadata": {},
   "source": [
    "#### Категория покупок"
   ]
  },
  {
   "cell_type": "markdown",
   "id": "f2a4cf18",
   "metadata": {
    "id": "dde49b5c"
   },
   "source": [
    "Выведем на экран перечень уникальных целей взятия кредита из столбца `purpose'."
   ]
  },
  {
   "cell_type": "code",
   "execution_count": 127,
   "id": "65c29ce1",
   "metadata": {
    "id": "f67ce9b3",
    "outputId": "673c12d9-7d7e-4ae0-9812-c622c89dd244"
   },
   "outputs": [
    {
     "data": {
      "text/plain": [
       "array(['покупка жилья', 'приобретение автомобиля',\n",
       "       'дополнительное образование', 'сыграть свадьбу',\n",
       "       'операции с жильем', 'образование', 'на проведение свадьбы',\n",
       "       'покупка жилья для семьи', 'покупка недвижимости',\n",
       "       'покупка коммерческой недвижимости', 'покупка жилой недвижимости',\n",
       "       'строительство собственной недвижимости', 'недвижимость',\n",
       "       'строительство недвижимости', 'на покупку подержанного автомобиля',\n",
       "       'на покупку своего автомобиля',\n",
       "       'операции с коммерческой недвижимостью',\n",
       "       'строительство жилой недвижимости', 'жилье',\n",
       "       'операции со своей недвижимостью', 'автомобили',\n",
       "       'заняться образованием', 'сделка с подержанным автомобилем',\n",
       "       'получение образования', 'автомобиль', 'свадьба',\n",
       "       'получение дополнительного образования', 'покупка своего жилья',\n",
       "       'операции с недвижимостью', 'получение высшего образования',\n",
       "       'свой автомобиль', 'сделка с автомобилем',\n",
       "       'профильное образование', 'высшее образование',\n",
       "       'покупка жилья для сдачи', 'на покупку автомобиля', 'ремонт жилью',\n",
       "       'заняться высшим образованием'], dtype=object)"
      ]
     },
     "execution_count": 127,
     "metadata": {},
     "output_type": "execute_result"
    }
   ],
   "source": [
    "data['purpose'].unique()"
   ]
  },
  {
   "cell_type": "markdown",
   "id": "2d679ad7",
   "metadata": {
    "id": "85d0aef0"
   },
   "source": [
    "Создадим функцию, которая на основании данных из столбца `purpose` сформирует новый столбец `purpose_category`, в который войдут следующие категории:\n",
    "\n",
    "- `'операции с автомобилем'`,\n",
    "- `'операции с недвижимостью'`,\n",
    "- `'проведение свадьбы'`,\n",
    "- `'получение образования'`."
   ]
  },
  {
   "cell_type": "code",
   "execution_count": 128,
   "id": "c852f782",
   "metadata": {
    "id": "e149fab4"
   },
   "outputs": [],
   "source": [
    "def categorize_purpose(row):\n",
    "    try:\n",
    "        if 'автом' in row:\n",
    "            return 'операции с автомобилем'\n",
    "        elif 'жил' in row or 'недвиж' in row:\n",
    "            return 'операции с недвижимостью'\n",
    "        elif 'свад' in row:\n",
    "            return 'проведение свадьбы'\n",
    "        elif 'образов' in row:\n",
    "            return 'получение образования'\n",
    "    except:\n",
    "        return 'нет категории'"
   ]
  },
  {
   "cell_type": "code",
   "execution_count": 129,
   "id": "faa28204",
   "metadata": {
    "id": "bf36e69b"
   },
   "outputs": [],
   "source": [
    "# применим функцию к новому столбцу\n",
    "data['purpose_category'] = data['purpose'].apply(categorize_purpose)"
   ]
  },
  {
   "cell_type": "markdown",
   "id": "ecd31c69",
   "metadata": {
    "id": "09b242bf"
   },
   "source": [
    "### Исследовательский анализ данных"
   ]
  },
  {
   "cell_type": "markdown",
   "id": "0fdf8090",
   "metadata": {
    "id": "c5d66278"
   },
   "source": [
    "#### Зависимость между количеством детей и возвратом кредита в срок"
   ]
  },
  {
   "cell_type": "code",
   "execution_count": 130,
   "id": "86a8c44d",
   "metadata": {
    "id": "2cacfc4a"
   },
   "outputs": [
    {
     "data": {
      "text/plain": [
       "array([1, 0, 3, 2, 4, 5], dtype=int64)"
      ]
     },
     "execution_count": 130,
     "metadata": {},
     "output_type": "execute_result"
    }
   ],
   "source": [
    "# просмотрим уникальные значения в столбце 'children'\n",
    "data['children'].unique()"
   ]
  },
  {
   "cell_type": "code",
   "execution_count": 131,
   "id": "16e2906e",
   "metadata": {},
   "outputs": [
    {
     "data": {
      "text/plain": [
       "array([0, 1], dtype=int64)"
      ]
     },
     "execution_count": 131,
     "metadata": {},
     "output_type": "execute_result"
    }
   ],
   "source": [
    "# проверим, нет ли в столбце 'debt' лишних данных\n",
    "data['debt'].unique()"
   ]
  },
  {
   "cell_type": "code",
   "execution_count": 132,
   "id": "d4745290",
   "metadata": {},
   "outputs": [],
   "source": [
    "# сгруппируем данные из таблицы data по количеству детей с нахождением среднего значения невыплаты кредита в срок\n",
    "data_child_debt = data.groupby('children')['debt'].agg(['sum', 'count', 'mean'])"
   ]
  },
  {
   "cell_type": "code",
   "execution_count": 133,
   "id": "1967edc5",
   "metadata": {},
   "outputs": [
    {
     "data": {
      "text/html": [
       "<div>\n",
       "<style scoped>\n",
       "    .dataframe tbody tr th:only-of-type {\n",
       "        vertical-align: middle;\n",
       "    }\n",
       "\n",
       "    .dataframe tbody tr th {\n",
       "        vertical-align: top;\n",
       "    }\n",
       "\n",
       "    .dataframe thead th {\n",
       "        text-align: right;\n",
       "    }\n",
       "</style>\n",
       "<table border=\"1\" class=\"dataframe\">\n",
       "  <thead>\n",
       "    <tr style=\"text-align: right;\">\n",
       "      <th></th>\n",
       "      <th>sum</th>\n",
       "      <th>count</th>\n",
       "      <th>mean</th>\n",
       "    </tr>\n",
       "    <tr>\n",
       "      <th>children</th>\n",
       "      <th></th>\n",
       "      <th></th>\n",
       "      <th></th>\n",
       "    </tr>\n",
       "  </thead>\n",
       "  <tbody>\n",
       "    <tr>\n",
       "      <th>0</th>\n",
       "      <td>1063</td>\n",
       "      <td>14091</td>\n",
       "      <td>0.075438</td>\n",
       "    </tr>\n",
       "    <tr>\n",
       "      <th>1</th>\n",
       "      <td>444</td>\n",
       "      <td>4808</td>\n",
       "      <td>0.092346</td>\n",
       "    </tr>\n",
       "    <tr>\n",
       "      <th>2</th>\n",
       "      <td>194</td>\n",
       "      <td>2052</td>\n",
       "      <td>0.094542</td>\n",
       "    </tr>\n",
       "    <tr>\n",
       "      <th>3</th>\n",
       "      <td>27</td>\n",
       "      <td>330</td>\n",
       "      <td>0.081818</td>\n",
       "    </tr>\n",
       "    <tr>\n",
       "      <th>4</th>\n",
       "      <td>4</td>\n",
       "      <td>41</td>\n",
       "      <td>0.097561</td>\n",
       "    </tr>\n",
       "    <tr>\n",
       "      <th>5</th>\n",
       "      <td>0</td>\n",
       "      <td>9</td>\n",
       "      <td>0.000000</td>\n",
       "    </tr>\n",
       "  </tbody>\n",
       "</table>\n",
       "</div>"
      ],
      "text/plain": [
       "           sum  count      mean\n",
       "children                       \n",
       "0         1063  14091  0.075438\n",
       "1          444   4808  0.092346\n",
       "2          194   2052  0.094542\n",
       "3           27    330  0.081818\n",
       "4            4     41  0.097561\n",
       "5            0      9  0.000000"
      ]
     },
     "execution_count": 133,
     "metadata": {},
     "output_type": "execute_result"
    }
   ],
   "source": [
    "# выведем таблицу на экран\n",
    "data_child_debt"
   ]
  },
  {
   "cell_type": "code",
   "execution_count": 26,
   "id": "a5433d61",
   "metadata": {},
   "outputs": [],
   "source": [
    "# переведем данные в новой таблице в проценты для более удобного восприятия информации\n",
    "data_child_debt['mean'] = data_child_debt['mean'].apply(lambda x: format(x, '.2%'))"
   ]
  },
  {
   "cell_type": "code",
   "execution_count": 27,
   "id": "dc43e64f",
   "metadata": {
    "scrolled": true
   },
   "outputs": [
    {
     "data": {
      "text/plain": [
       "children\n",
       "4    9.76%\n",
       "2    9.45%\n",
       "1    9.23%\n",
       "3    8.18%\n",
       "0    7.54%\n",
       "5    0.00%\n",
       "Name: mean, dtype: object"
      ]
     },
     "execution_count": 27,
     "metadata": {},
     "output_type": "execute_result"
    }
   ],
   "source": [
    "data_child_debt['mean'].sort_values(ascending=False)"
   ]
  },
  {
   "cell_type": "markdown",
   "id": "7606fbed",
   "metadata": {
    "deletable": false,
    "id": "3a6b99ec"
   },
   "source": [
    "**Вывод:** Проанализировав зависимость между количеством детей и возвратом кредита в срок, можно сделать вывод, что вероятность вернуть кредит у человека без детей выше, чем у тех, кто имеет 1-4 детей. Информации о клиентах с 5 детьми слишком мало (9 из более чем 20 тысячи записей), следовательно не стоит делать о таких клиентах каких-либо поспешных выводов. Те, у кого 3 ребенка, вовзращает кредит в срок чаще, чем те, у кого 1, 2 и 4 ребенка. Зависимость между количеством детей и возвратом кредита в срок присутствует"
   ]
  },
  {
   "cell_type": "markdown",
   "id": "d4db637f",
   "metadata": {
    "id": "97be82ca"
   },
   "source": [
    "#### Зависимость между семейным положением и возвратом кредита в срок"
   ]
  },
  {
   "cell_type": "code",
   "execution_count": 134,
   "id": "dc85895d",
   "metadata": {
    "id": "dc3f7ee8"
   },
   "outputs": [
    {
     "data": {
      "text/plain": [
       "array(['женат / замужем', 'гражданский брак', 'вдовец / вдова',\n",
       "       'в разводе', 'Не женат / не замужем'], dtype=object)"
      ]
     },
     "execution_count": 134,
     "metadata": {},
     "output_type": "execute_result"
    }
   ],
   "source": [
    "# просмотрим уникальные значения в столбце 'family_status' \n",
    "data['family_status'].unique() "
   ]
  },
  {
   "cell_type": "code",
   "execution_count": 135,
   "id": "f0b33f60",
   "metadata": {},
   "outputs": [],
   "source": [
    "# сгруппируем данные из таблицы data по семейному положению с нахождением суммы и количества значений невыплаты кредита в срок\n",
    "data_family_status = data.groupby('family_status')['debt'].agg(['sum', 'count']) "
   ]
  },
  {
   "cell_type": "code",
   "execution_count": 136,
   "id": "6fb2f32f",
   "metadata": {},
   "outputs": [
    {
     "data": {
      "text/html": [
       "<div>\n",
       "<style scoped>\n",
       "    .dataframe tbody tr th:only-of-type {\n",
       "        vertical-align: middle;\n",
       "    }\n",
       "\n",
       "    .dataframe tbody tr th {\n",
       "        vertical-align: top;\n",
       "    }\n",
       "\n",
       "    .dataframe thead th {\n",
       "        text-align: right;\n",
       "    }\n",
       "</style>\n",
       "<table border=\"1\" class=\"dataframe\">\n",
       "  <thead>\n",
       "    <tr style=\"text-align: right;\">\n",
       "      <th></th>\n",
       "      <th>sum</th>\n",
       "      <th>count</th>\n",
       "    </tr>\n",
       "    <tr>\n",
       "      <th>family_status</th>\n",
       "      <th></th>\n",
       "      <th></th>\n",
       "    </tr>\n",
       "  </thead>\n",
       "  <tbody>\n",
       "    <tr>\n",
       "      <th>Не женат / не замужем</th>\n",
       "      <td>273</td>\n",
       "      <td>2796</td>\n",
       "    </tr>\n",
       "    <tr>\n",
       "      <th>в разводе</th>\n",
       "      <td>84</td>\n",
       "      <td>1189</td>\n",
       "    </tr>\n",
       "    <tr>\n",
       "      <th>вдовец / вдова</th>\n",
       "      <td>63</td>\n",
       "      <td>951</td>\n",
       "    </tr>\n",
       "    <tr>\n",
       "      <th>гражданский брак</th>\n",
       "      <td>385</td>\n",
       "      <td>4134</td>\n",
       "    </tr>\n",
       "    <tr>\n",
       "      <th>женат / замужем</th>\n",
       "      <td>927</td>\n",
       "      <td>12261</td>\n",
       "    </tr>\n",
       "  </tbody>\n",
       "</table>\n",
       "</div>"
      ],
      "text/plain": [
       "                       sum  count\n",
       "family_status                    \n",
       "Не женат / не замужем  273   2796\n",
       "в разводе               84   1189\n",
       "вдовец / вдова          63    951\n",
       "гражданский брак       385   4134\n",
       "женат / замужем        927  12261"
      ]
     },
     "execution_count": 136,
     "metadata": {},
     "output_type": "execute_result"
    }
   ],
   "source": [
    "data_family_status"
   ]
  },
  {
   "cell_type": "code",
   "execution_count": 137,
   "id": "5a9e0084",
   "metadata": {},
   "outputs": [],
   "source": [
    "# найдем вероятность невозврата кредита в срок в отдельном столбце 'percent', поделив значения столбца 'sum' на 'count'\n",
    "data_family_status['percent'] = data_family_status['sum']/data_family_status['count'] "
   ]
  },
  {
   "cell_type": "code",
   "execution_count": 138,
   "id": "0cc4d58c",
   "metadata": {},
   "outputs": [],
   "source": [
    "# переведем данные в новом столбце в проценты для более удобного восприятия информации\n",
    "data_family_status['percent'] = data_family_status['percent'].apply(lambda x: format(x, '.2%')) "
   ]
  },
  {
   "cell_type": "code",
   "execution_count": 139,
   "id": "9eab8e64",
   "metadata": {},
   "outputs": [
    {
     "data": {
      "text/html": [
       "<div>\n",
       "<style scoped>\n",
       "    .dataframe tbody tr th:only-of-type {\n",
       "        vertical-align: middle;\n",
       "    }\n",
       "\n",
       "    .dataframe tbody tr th {\n",
       "        vertical-align: top;\n",
       "    }\n",
       "\n",
       "    .dataframe thead th {\n",
       "        text-align: right;\n",
       "    }\n",
       "</style>\n",
       "<table border=\"1\" class=\"dataframe\">\n",
       "  <thead>\n",
       "    <tr style=\"text-align: right;\">\n",
       "      <th></th>\n",
       "      <th>sum</th>\n",
       "      <th>count</th>\n",
       "      <th>percent</th>\n",
       "    </tr>\n",
       "    <tr>\n",
       "      <th>family_status</th>\n",
       "      <th></th>\n",
       "      <th></th>\n",
       "      <th></th>\n",
       "    </tr>\n",
       "  </thead>\n",
       "  <tbody>\n",
       "    <tr>\n",
       "      <th>Не женат / не замужем</th>\n",
       "      <td>273</td>\n",
       "      <td>2796</td>\n",
       "      <td>9.76%</td>\n",
       "    </tr>\n",
       "    <tr>\n",
       "      <th>гражданский брак</th>\n",
       "      <td>385</td>\n",
       "      <td>4134</td>\n",
       "      <td>9.31%</td>\n",
       "    </tr>\n",
       "    <tr>\n",
       "      <th>женат / замужем</th>\n",
       "      <td>927</td>\n",
       "      <td>12261</td>\n",
       "      <td>7.56%</td>\n",
       "    </tr>\n",
       "    <tr>\n",
       "      <th>в разводе</th>\n",
       "      <td>84</td>\n",
       "      <td>1189</td>\n",
       "      <td>7.06%</td>\n",
       "    </tr>\n",
       "    <tr>\n",
       "      <th>вдовец / вдова</th>\n",
       "      <td>63</td>\n",
       "      <td>951</td>\n",
       "      <td>6.62%</td>\n",
       "    </tr>\n",
       "  </tbody>\n",
       "</table>\n",
       "</div>"
      ],
      "text/plain": [
       "                       sum  count percent\n",
       "family_status                            \n",
       "Не женат / не замужем  273   2796   9.76%\n",
       "гражданский брак       385   4134   9.31%\n",
       "женат / замужем        927  12261   7.56%\n",
       "в разводе               84   1189   7.06%\n",
       "вдовец / вдова          63    951   6.62%"
      ]
     },
     "execution_count": 139,
     "metadata": {},
     "output_type": "execute_result"
    }
   ],
   "source": [
    "# отсортируем данные в таблице по вероятности невозврата кредита в срок по убыванию\n",
    "data_family_status.sort_values(by='percent', ascending=False) "
   ]
  },
  {
   "cell_type": "markdown",
   "id": "a109db8d",
   "metadata": {
    "deletable": false,
    "id": "1cef7837"
   },
   "source": [
    "**Вывод:** Кредитному отделу следует с осторожностью относиться к клиентам, которые не состоят или не состояли в браке. Согласно данным такие клиенты менее ответственные. Получается, что узаконенные отношения (включая и бывшие отношения) ведут к более ответственному отношению к своим обязательствам."
   ]
  },
  {
   "cell_type": "markdown",
   "id": "8e3fd5e2",
   "metadata": {
    "id": "1e8b2fca"
   },
   "source": [
    "#### Зависимость между уровнем дохода и возвратом кредита в срок"
   ]
  },
  {
   "cell_type": "code",
   "execution_count": 140,
   "id": "53a8753a",
   "metadata": {
    "id": "cd7e3720"
   },
   "outputs": [],
   "source": [
    "# создадим сводную таблицу с индексами 'total_income_category' и значениями 'debt', применив функции 'sum', 'count', 'mean'  \n",
    "data_pivot = data.pivot_table(index='total_income_category', values='debt', aggfunc=['sum', 'count', 'mean']) "
   ]
  },
  {
   "cell_type": "code",
   "execution_count": 141,
   "id": "2ae0b953",
   "metadata": {},
   "outputs": [
    {
     "data": {
      "text/html": [
       "<div>\n",
       "<style scoped>\n",
       "    .dataframe tbody tr th:only-of-type {\n",
       "        vertical-align: middle;\n",
       "    }\n",
       "\n",
       "    .dataframe tbody tr th {\n",
       "        vertical-align: top;\n",
       "    }\n",
       "\n",
       "    .dataframe thead tr th {\n",
       "        text-align: left;\n",
       "    }\n",
       "\n",
       "    .dataframe thead tr:last-of-type th {\n",
       "        text-align: right;\n",
       "    }\n",
       "</style>\n",
       "<table border=\"1\" class=\"dataframe\">\n",
       "  <thead>\n",
       "    <tr>\n",
       "      <th></th>\n",
       "      <th>sum</th>\n",
       "      <th>count</th>\n",
       "      <th>mean</th>\n",
       "    </tr>\n",
       "    <tr>\n",
       "      <th></th>\n",
       "      <th>debt</th>\n",
       "      <th>debt</th>\n",
       "      <th>debt</th>\n",
       "    </tr>\n",
       "    <tr>\n",
       "      <th>total_income_category</th>\n",
       "      <th></th>\n",
       "      <th></th>\n",
       "      <th></th>\n",
       "    </tr>\n",
       "  </thead>\n",
       "  <tbody>\n",
       "    <tr>\n",
       "      <th>A</th>\n",
       "      <td>2</td>\n",
       "      <td>25</td>\n",
       "      <td>0.080000</td>\n",
       "    </tr>\n",
       "    <tr>\n",
       "      <th>B</th>\n",
       "      <td>354</td>\n",
       "      <td>5014</td>\n",
       "      <td>0.070602</td>\n",
       "    </tr>\n",
       "    <tr>\n",
       "      <th>C</th>\n",
       "      <td>1353</td>\n",
       "      <td>15921</td>\n",
       "      <td>0.084982</td>\n",
       "    </tr>\n",
       "    <tr>\n",
       "      <th>D</th>\n",
       "      <td>21</td>\n",
       "      <td>349</td>\n",
       "      <td>0.060172</td>\n",
       "    </tr>\n",
       "    <tr>\n",
       "      <th>E</th>\n",
       "      <td>2</td>\n",
       "      <td>22</td>\n",
       "      <td>0.090909</td>\n",
       "    </tr>\n",
       "  </tbody>\n",
       "</table>\n",
       "</div>"
      ],
      "text/plain": [
       "                        sum  count      mean\n",
       "                       debt   debt      debt\n",
       "total_income_category                       \n",
       "A                         2     25  0.080000\n",
       "B                       354   5014  0.070602\n",
       "C                      1353  15921  0.084982\n",
       "D                        21    349  0.060172\n",
       "E                         2     22  0.090909"
      ]
     },
     "execution_count": 141,
     "metadata": {},
     "output_type": "execute_result"
    }
   ],
   "source": [
    "data_pivot"
   ]
  },
  {
   "cell_type": "code",
   "execution_count": 147,
   "id": "3e86bb2b",
   "metadata": {},
   "outputs": [],
   "source": [
    "# соединим названия столбцов в одну ячейку\n",
    "data_pivot.columns = [' '.join(col).strip() for col in data_pivot.columns.values] "
   ]
  },
  {
   "cell_type": "code",
   "execution_count": 148,
   "id": "92fa49ed",
   "metadata": {},
   "outputs": [
    {
     "data": {
      "text/html": [
       "<div>\n",
       "<style scoped>\n",
       "    .dataframe tbody tr th:only-of-type {\n",
       "        vertical-align: middle;\n",
       "    }\n",
       "\n",
       "    .dataframe tbody tr th {\n",
       "        vertical-align: top;\n",
       "    }\n",
       "\n",
       "    .dataframe thead th {\n",
       "        text-align: right;\n",
       "    }\n",
       "</style>\n",
       "<table border=\"1\" class=\"dataframe\">\n",
       "  <thead>\n",
       "    <tr style=\"text-align: right;\">\n",
       "      <th></th>\n",
       "      <th>sum debt</th>\n",
       "      <th>count debt</th>\n",
       "      <th>mean debt</th>\n",
       "    </tr>\n",
       "    <tr>\n",
       "      <th>total_income_category</th>\n",
       "      <th></th>\n",
       "      <th></th>\n",
       "      <th></th>\n",
       "    </tr>\n",
       "  </thead>\n",
       "  <tbody>\n",
       "    <tr>\n",
       "      <th>A</th>\n",
       "      <td>2</td>\n",
       "      <td>25</td>\n",
       "      <td>0.080000</td>\n",
       "    </tr>\n",
       "    <tr>\n",
       "      <th>B</th>\n",
       "      <td>354</td>\n",
       "      <td>5014</td>\n",
       "      <td>0.070602</td>\n",
       "    </tr>\n",
       "    <tr>\n",
       "      <th>C</th>\n",
       "      <td>1353</td>\n",
       "      <td>15921</td>\n",
       "      <td>0.084982</td>\n",
       "    </tr>\n",
       "    <tr>\n",
       "      <th>D</th>\n",
       "      <td>21</td>\n",
       "      <td>349</td>\n",
       "      <td>0.060172</td>\n",
       "    </tr>\n",
       "    <tr>\n",
       "      <th>E</th>\n",
       "      <td>2</td>\n",
       "      <td>22</td>\n",
       "      <td>0.090909</td>\n",
       "    </tr>\n",
       "  </tbody>\n",
       "</table>\n",
       "</div>"
      ],
      "text/plain": [
       "                       sum debt  count debt  mean debt\n",
       "total_income_category                                 \n",
       "A                             2          25   0.080000\n",
       "B                           354        5014   0.070602\n",
       "C                          1353       15921   0.084982\n",
       "D                            21         349   0.060172\n",
       "E                             2          22   0.090909"
      ]
     },
     "execution_count": 148,
     "metadata": {},
     "output_type": "execute_result"
    }
   ],
   "source": [
    "data_pivot"
   ]
  },
  {
   "cell_type": "code",
   "execution_count": 149,
   "id": "31ecb06d",
   "metadata": {},
   "outputs": [],
   "source": [
    "# переведем данные в новом столбце в проценты для более удобного восприятия информации\n",
    "data_pivot['mean debt'] = data_pivot['mean debt'].apply(lambda x: format(x, '.2%')) "
   ]
  },
  {
   "cell_type": "code",
   "execution_count": 150,
   "id": "9689a31c",
   "metadata": {
    "scrolled": false
   },
   "outputs": [
    {
     "data": {
      "text/html": [
       "<div>\n",
       "<style scoped>\n",
       "    .dataframe tbody tr th:only-of-type {\n",
       "        vertical-align: middle;\n",
       "    }\n",
       "\n",
       "    .dataframe tbody tr th {\n",
       "        vertical-align: top;\n",
       "    }\n",
       "\n",
       "    .dataframe thead th {\n",
       "        text-align: right;\n",
       "    }\n",
       "</style>\n",
       "<table border=\"1\" class=\"dataframe\">\n",
       "  <thead>\n",
       "    <tr style=\"text-align: right;\">\n",
       "      <th></th>\n",
       "      <th>sum debt</th>\n",
       "      <th>count debt</th>\n",
       "      <th>mean debt</th>\n",
       "    </tr>\n",
       "    <tr>\n",
       "      <th>total_income_category</th>\n",
       "      <th></th>\n",
       "      <th></th>\n",
       "      <th></th>\n",
       "    </tr>\n",
       "  </thead>\n",
       "  <tbody>\n",
       "    <tr>\n",
       "      <th>E</th>\n",
       "      <td>2</td>\n",
       "      <td>22</td>\n",
       "      <td>9.09%</td>\n",
       "    </tr>\n",
       "    <tr>\n",
       "      <th>C</th>\n",
       "      <td>1353</td>\n",
       "      <td>15921</td>\n",
       "      <td>8.50%</td>\n",
       "    </tr>\n",
       "    <tr>\n",
       "      <th>A</th>\n",
       "      <td>2</td>\n",
       "      <td>25</td>\n",
       "      <td>8.00%</td>\n",
       "    </tr>\n",
       "    <tr>\n",
       "      <th>B</th>\n",
       "      <td>354</td>\n",
       "      <td>5014</td>\n",
       "      <td>7.06%</td>\n",
       "    </tr>\n",
       "    <tr>\n",
       "      <th>D</th>\n",
       "      <td>21</td>\n",
       "      <td>349</td>\n",
       "      <td>6.02%</td>\n",
       "    </tr>\n",
       "  </tbody>\n",
       "</table>\n",
       "</div>"
      ],
      "text/plain": [
       "                       sum debt  count debt mean debt\n",
       "total_income_category                                \n",
       "E                             2          22     9.09%\n",
       "C                          1353       15921     8.50%\n",
       "A                             2          25     8.00%\n",
       "B                           354        5014     7.06%\n",
       "D                            21         349     6.02%"
      ]
     },
     "execution_count": 150,
     "metadata": {},
     "output_type": "execute_result"
    }
   ],
   "source": [
    "# отсортируем данные в таблице по вероятности невозврата кредита в срок по убыванию\n",
    "data_pivot.sort_values(by='mean debt', ascending=False) "
   ]
  },
  {
   "cell_type": "markdown",
   "id": "41a44187",
   "metadata": {},
   "source": [
    "Как видно из таблицы, данное деление на категории слишком сильно расщепляет кредиторов. Категории \"A\" и \"E\" имеют 22 и 25 значений в таблице соответственно. Проведем новую категоризацию данных, уменьшив количество категорий."
   ]
  },
  {
   "cell_type": "code",
   "execution_count": 151,
   "id": "42ce8833",
   "metadata": {},
   "outputs": [],
   "source": [
    "# создадим функцию, создующую 3 категории дохода: до 50000(низкий), от 50001 до 100000(высокий) и от 100001(высокий)\n",
    "def new_category(income): \n",
    "    if income <= 50000:\n",
    "        return 'низкий доход'\n",
    "    if 50001 <= income <= 100000:\n",
    "        return 'средний доход'\n",
    "    else:\n",
    "        return 'высокий доход'"
   ]
  },
  {
   "cell_type": "code",
   "execution_count": 152,
   "id": "76d6ed87",
   "metadata": {},
   "outputs": [],
   "source": [
    "# созадим новый столбец 'new_income_category' и применим новую функцию категоризации дохода\n",
    "data['new_income_category'] = data['total_income'].apply(new_category) "
   ]
  },
  {
   "cell_type": "code",
   "execution_count": 153,
   "id": "da282c87",
   "metadata": {},
   "outputs": [],
   "source": [
    "# создадим сводную таблицу с индексами 'new_income_category' и значениями 'debt', применив функции 'sum', 'count', 'mean'  \n",
    "data_pivot = data.pivot_table(index='new_income_category', values='debt', aggfunc=['sum', 'count', 'mean']) "
   ]
  },
  {
   "cell_type": "code",
   "execution_count": 154,
   "id": "d892cdf5",
   "metadata": {},
   "outputs": [],
   "source": [
    "# соединим названия столбцов в одну ячейку\n",
    "data_pivot.columns = [' '.join(col).strip() for col in data_pivot.columns.values] "
   ]
  },
  {
   "cell_type": "code",
   "execution_count": 155,
   "id": "76909f84",
   "metadata": {},
   "outputs": [],
   "source": [
    "# переведем данные в столбце 'mean debt' в проценты для более удобного восприятия информации\n",
    "data_pivot['mean debt'] = data_pivot['mean debt'].apply(lambda x: format(x, '.2%')) "
   ]
  },
  {
   "cell_type": "code",
   "execution_count": 156,
   "id": "7b85b463",
   "metadata": {},
   "outputs": [
    {
     "data": {
      "text/html": [
       "<div>\n",
       "<style scoped>\n",
       "    .dataframe tbody tr th:only-of-type {\n",
       "        vertical-align: middle;\n",
       "    }\n",
       "\n",
       "    .dataframe tbody tr th {\n",
       "        vertical-align: top;\n",
       "    }\n",
       "\n",
       "    .dataframe thead th {\n",
       "        text-align: right;\n",
       "    }\n",
       "</style>\n",
       "<table border=\"1\" class=\"dataframe\">\n",
       "  <thead>\n",
       "    <tr style=\"text-align: right;\">\n",
       "      <th></th>\n",
       "      <th>sum debt</th>\n",
       "      <th>count debt</th>\n",
       "      <th>mean debt</th>\n",
       "    </tr>\n",
       "    <tr>\n",
       "      <th>new_income_category</th>\n",
       "      <th></th>\n",
       "      <th></th>\n",
       "      <th></th>\n",
       "    </tr>\n",
       "  </thead>\n",
       "  <tbody>\n",
       "    <tr>\n",
       "      <th>высокий доход</th>\n",
       "      <td>1378</td>\n",
       "      <td>16887</td>\n",
       "      <td>8.16%</td>\n",
       "    </tr>\n",
       "    <tr>\n",
       "      <th>средний доход</th>\n",
       "      <td>331</td>\n",
       "      <td>4073</td>\n",
       "      <td>8.13%</td>\n",
       "    </tr>\n",
       "    <tr>\n",
       "      <th>низкий доход</th>\n",
       "      <td>23</td>\n",
       "      <td>371</td>\n",
       "      <td>6.20%</td>\n",
       "    </tr>\n",
       "  </tbody>\n",
       "</table>\n",
       "</div>"
      ],
      "text/plain": [
       "                     sum debt  count debt mean debt\n",
       "new_income_category                                \n",
       "высокий доход            1378       16887     8.16%\n",
       "средний доход             331        4073     8.13%\n",
       "низкий доход               23         371     6.20%"
      ]
     },
     "execution_count": 156,
     "metadata": {},
     "output_type": "execute_result"
    }
   ],
   "source": [
    "# отсортируем данные в таблице по вероятности невозврата кредита в срок по убыванию\n",
    "data_pivot.sort_values(by='mean debt', ascending=False) "
   ]
  },
  {
   "cell_type": "markdown",
   "id": "ce14308e",
   "metadata": {
    "deletable": false,
    "id": "e8593def"
   },
   "source": [
    "**Вывод:** У людей с низким доходом наименьшая вероятность невозврата кредита в срок. Связано это с нежеланием портить кредитную историю для одобрения дальнейших кредитов. Но, как видно из таблицы, кредиторов с низким доходом в разы меньше, чем со средним и высоким доходом, чьи вероятности просроченности кредитов практически равны."
   ]
  },
  {
   "cell_type": "markdown",
   "id": "4f28db72",
   "metadata": {
    "id": "99ecbd1f"
   },
   "source": [
    "#### Влияние целей кредита на его возврат в срок"
   ]
  },
  {
   "cell_type": "code",
   "execution_count": 157,
   "id": "d5e8ea0c",
   "metadata": {
    "id": "2b687290"
   },
   "outputs": [],
   "source": [
    "# создадим сводную таблицу с индексами 'purpose_category' и значениями 'debt', применив функции 'sum', 'count', 'mean'  \n",
    "data_pivot = data.pivot_table(index='purpose_category', values='debt', aggfunc=['sum', 'count', 'mean']) "
   ]
  },
  {
   "cell_type": "code",
   "execution_count": 158,
   "id": "20653b3e",
   "metadata": {},
   "outputs": [],
   "source": [
    "# соединим названия столбцов в одну ячейку\n",
    "data_pivot.columns = [' '.join(col).strip() for col in data_pivot.columns.values] "
   ]
  },
  {
   "cell_type": "code",
   "execution_count": 159,
   "id": "d5fb12cb",
   "metadata": {},
   "outputs": [],
   "source": [
    "# переведем данные в столбце 'mean debt' в проценты для более удобного восприятия информации\n",
    "data_pivot['mean debt'] = data_pivot['mean debt'].apply(lambda x: format(x, '.2%')) "
   ]
  },
  {
   "cell_type": "code",
   "execution_count": 160,
   "id": "05f28de6",
   "metadata": {},
   "outputs": [
    {
     "data": {
      "text/html": [
       "<div>\n",
       "<style scoped>\n",
       "    .dataframe tbody tr th:only-of-type {\n",
       "        vertical-align: middle;\n",
       "    }\n",
       "\n",
       "    .dataframe tbody tr th {\n",
       "        vertical-align: top;\n",
       "    }\n",
       "\n",
       "    .dataframe thead th {\n",
       "        text-align: right;\n",
       "    }\n",
       "</style>\n",
       "<table border=\"1\" class=\"dataframe\">\n",
       "  <thead>\n",
       "    <tr style=\"text-align: right;\">\n",
       "      <th></th>\n",
       "      <th>sum debt</th>\n",
       "      <th>count debt</th>\n",
       "      <th>mean debt</th>\n",
       "    </tr>\n",
       "    <tr>\n",
       "      <th>purpose_category</th>\n",
       "      <th></th>\n",
       "      <th></th>\n",
       "      <th></th>\n",
       "    </tr>\n",
       "  </thead>\n",
       "  <tbody>\n",
       "    <tr>\n",
       "      <th>операции с автомобилем</th>\n",
       "      <td>400</td>\n",
       "      <td>4279</td>\n",
       "      <td>9.35%</td>\n",
       "    </tr>\n",
       "    <tr>\n",
       "      <th>получение образования</th>\n",
       "      <td>369</td>\n",
       "      <td>3988</td>\n",
       "      <td>9.25%</td>\n",
       "    </tr>\n",
       "    <tr>\n",
       "      <th>проведение свадьбы</th>\n",
       "      <td>183</td>\n",
       "      <td>2313</td>\n",
       "      <td>7.91%</td>\n",
       "    </tr>\n",
       "    <tr>\n",
       "      <th>операции с недвижимостью</th>\n",
       "      <td>780</td>\n",
       "      <td>10751</td>\n",
       "      <td>7.26%</td>\n",
       "    </tr>\n",
       "  </tbody>\n",
       "</table>\n",
       "</div>"
      ],
      "text/plain": [
       "                          sum debt  count debt mean debt\n",
       "purpose_category                                        \n",
       "операции с автомобилем         400        4279     9.35%\n",
       "получение образования          369        3988     9.25%\n",
       "проведение свадьбы             183        2313     7.91%\n",
       "операции с недвижимостью       780       10751     7.26%"
      ]
     },
     "execution_count": 160,
     "metadata": {},
     "output_type": "execute_result"
    }
   ],
   "source": [
    "# отсортируем данные в таблице по вероятности невозврата кредита в срок по убыванию\n",
    "data_pivot.sort_values(by='mean debt', ascending=False) "
   ]
  },
  {
   "cell_type": "markdown",
   "id": "13d54b30",
   "metadata": {
    "deletable": false,
    "id": "b4bb2ce6"
   },
   "source": [
    "**Вывод:** \"Операции с недвижимостью\" является самой маловероятной для просроченности кредита целью, с учетом того, что количество кредитов для данной цели в разы больше других целей кредитования. Чаще всего невозврат кредитов срок происходит в категориях \"операции с автомобилем\" и \"получением образования\"."
   ]
  },
  {
   "cell_type": "markdown",
   "id": "806e10b6",
   "metadata": {
    "id": "6db5255a"
   },
   "source": [
    "### Общий вывод"
   ]
  },
  {
   "cell_type": "markdown",
   "id": "92ac591b",
   "metadata": {
    "id": "bad65432"
   },
   "source": [
    "    Было проведено исследование, чтобы выявить влияние разных факторов на погашение кредита в срок. Входные данные - статистика о платежеспособности клиентов. Результаты исследования будут учтены при построеннии модели кредитного скоринга - специальной системы, которая оценивает способность потенциального заемщика вернуть кредит банку.\n",
    "    Перед проведением исследования были поставлены следующие гипотезы:\n",
    "        - Гипотеза 1: \"Между количеством детей и возвратом кредита в срок есть зависимость\"\n",
    "        - Гипотеза 2: \"Между семейным положением и возвратом кредита в срок есть зависимость\"\n",
    "        - Гипотеза 3: \"Между уровнем дохода и возвратом кредита в срок есть зависимость\"\n",
    "        - Гипотеза 4: \"Между целью кредита и возвратом кредита в срок есть зависимость\"\n",
    "    В результате удалось выявить зависимости.\n",
    "    Гипотеза 1 подтверждена: *для более точных выводов необходимо больше данных по клиентам с 5 детьми.\n",
    "        •7.54% - доля просроченных кредитов у заемщиков без детей\n",
    "        •8.18% - доля просроченных кредитов у заемщиков с 3 детьми\n",
    "        •0% - доля просроченных кредитов у заемщиков с 5 детьми\n",
    "        •9.23-9.76% - доля просроченных кредитов у заемщиков с 1, 2 и 4 детьми\n",
    "    Рекомендация: провести дополнительное исследование на большей выборке данных.\n",
    "    Гипотеза 2 подтверждена:\n",
    "        •у не женатых клиентов(9.76%) и тех, у кого брак официально не зарегистрирован(9.31%), выше вероятность стать должниками\n",
    "        •те, кто был женат(7.06%), овдовел(6.62%) или женат в данный момент(7.56%), имеют более низкую вероятность стать должниками\n",
    "    Рекомендация: Между максимальным и минимальным процентов вероятности возврата кредита в срок всего 3%. Следовательно не стоит делать глобальных выводов из проверки данной гипотезы.\n",
    "    Гипотеза 3 частично подтверждена\n",
    "        •8.16% - доля просроченных кредитов у клиентов с высоким уровнем дохода\n",
    "        •8.13% - доля просроченных кредитов у клиентов со средним уровнем дохода\n",
    "        •6.20% - доля просроченных кредитов у клиентов с низким уровнем дохода\n",
    "    Рекомендация: провести дополнительное исследование на большей выборке данных (особенно про людей с низким и средним уровнем дохода)\n",
    "    Гипотеза 4 подтверждена\n",
    "        •7.26% - доля просроченных кредитов, целью которых были операции с недвижимостью\n",
    "        •7.91% - доля просроченных кредитов, целью которых были проведение свадьбы\n",
    "        •9.25% - доля просроченных кредитов, целью которых были получение образования\n",
    "        •9.35% - доля просроченных кредитов, целью которых были операции с автомобилем\n",
    "        Сделать выводы об идеальном заемщике в данном случае сложно, так как в большинстве проверок гипотез слишком мало данных об определенной категории клиентов, чтобы делать выводы о кредитоспособности этих клиентов."
   ]
  }
 ],
 "metadata": {
  "ExecuteTimeLog": [
   {
    "duration": 44,
    "start_time": "2022-12-06T08:09:40.470Z"
   },
   {
    "duration": 498,
    "start_time": "2022-12-06T08:09:45.706Z"
   },
   {
    "duration": 22,
    "start_time": "2022-12-06T08:09:46.206Z"
   },
   {
    "duration": 16,
    "start_time": "2022-12-06T08:09:46.229Z"
   },
   {
    "duration": 25,
    "start_time": "2022-12-06T08:09:46.247Z"
   },
   {
    "duration": 37,
    "start_time": "2022-12-06T08:09:46.273Z"
   },
   {
    "duration": 4,
    "start_time": "2022-12-06T08:09:46.312Z"
   },
   {
    "duration": 41,
    "start_time": "2022-12-06T08:09:46.317Z"
   },
   {
    "duration": 20,
    "start_time": "2022-12-06T08:09:46.359Z"
   },
   {
    "duration": 14,
    "start_time": "2022-12-06T08:09:46.381Z"
   },
   {
    "duration": 10,
    "start_time": "2022-12-06T08:09:46.397Z"
   },
   {
    "duration": 59,
    "start_time": "2022-12-06T08:09:46.409Z"
   },
   {
    "duration": 14,
    "start_time": "2022-12-06T08:09:46.470Z"
   },
   {
    "duration": 20,
    "start_time": "2022-12-06T08:09:46.486Z"
   },
   {
    "duration": 30,
    "start_time": "2022-12-06T08:09:46.508Z"
   },
   {
    "duration": 23,
    "start_time": "2022-12-06T08:09:46.539Z"
   },
   {
    "duration": 15,
    "start_time": "2022-12-06T08:09:46.563Z"
   },
   {
    "duration": 3,
    "start_time": "2022-12-06T08:09:46.580Z"
   },
   {
    "duration": 13,
    "start_time": "2022-12-06T08:09:46.584Z"
   },
   {
    "duration": 5,
    "start_time": "2022-12-06T08:09:46.599Z"
   },
   {
    "duration": 13,
    "start_time": "2022-12-06T08:09:46.605Z"
   },
   {
    "duration": 21,
    "start_time": "2022-12-06T08:09:46.620Z"
   },
   {
    "duration": 17,
    "start_time": "2022-12-06T08:09:49.277Z"
   },
   {
    "duration": 7,
    "start_time": "2022-12-06T08:10:49.968Z"
   },
   {
    "duration": 6,
    "start_time": "2022-12-06T08:13:12.109Z"
   },
   {
    "duration": 17,
    "start_time": "2022-12-06T08:13:37.036Z"
   },
   {
    "duration": 5,
    "start_time": "2022-12-06T08:14:25.416Z"
   },
   {
    "duration": 5,
    "start_time": "2022-12-06T08:15:49.660Z"
   },
   {
    "duration": 5,
    "start_time": "2022-12-06T08:16:42.662Z"
   },
   {
    "duration": 5,
    "start_time": "2022-12-06T08:17:03.232Z"
   },
   {
    "duration": 61,
    "start_time": "2022-12-06T08:45:34.390Z"
   },
   {
    "duration": 4,
    "start_time": "2022-12-06T08:45:38.646Z"
   },
   {
    "duration": 8,
    "start_time": "2022-12-06T08:45:52.779Z"
   },
   {
    "duration": 4,
    "start_time": "2022-12-06T08:46:06.234Z"
   },
   {
    "duration": 13,
    "start_time": "2022-12-06T08:46:06.694Z"
   },
   {
    "duration": 4,
    "start_time": "2022-12-06T08:46:54.949Z"
   },
   {
    "duration": 17,
    "start_time": "2022-12-06T08:46:55.950Z"
   },
   {
    "duration": 5,
    "start_time": "2022-12-06T08:48:26.010Z"
   },
   {
    "duration": 8,
    "start_time": "2022-12-06T08:48:26.462Z"
   },
   {
    "duration": 9,
    "start_time": "2022-12-06T08:48:27.661Z"
   },
   {
    "duration": 10,
    "start_time": "2022-12-06T08:48:28.469Z"
   },
   {
    "duration": 5,
    "start_time": "2022-12-06T08:48:29.510Z"
   },
   {
    "duration": 10,
    "start_time": "2022-12-06T08:48:30.035Z"
   },
   {
    "duration": 32,
    "start_time": "2022-12-06T08:50:23.837Z"
   },
   {
    "duration": 4,
    "start_time": "2022-12-06T08:50:50.365Z"
   },
   {
    "duration": 19,
    "start_time": "2022-12-06T08:50:51.001Z"
   },
   {
    "duration": 20,
    "start_time": "2022-12-06T09:02:10.764Z"
   },
   {
    "duration": 32,
    "start_time": "2022-12-06T09:02:24.133Z"
   },
   {
    "duration": 16,
    "start_time": "2022-12-06T09:03:01.001Z"
   },
   {
    "duration": 16,
    "start_time": "2022-12-06T09:03:04.286Z"
   },
   {
    "duration": 21,
    "start_time": "2022-12-06T09:03:35.029Z"
   },
   {
    "duration": 10,
    "start_time": "2022-12-06T09:04:44.364Z"
   },
   {
    "duration": 7,
    "start_time": "2022-12-06T09:04:44.820Z"
   },
   {
    "duration": 12,
    "start_time": "2022-12-06T09:05:04.884Z"
   },
   {
    "duration": 6,
    "start_time": "2022-12-06T09:05:05.896Z"
   },
   {
    "duration": 7,
    "start_time": "2022-12-06T09:12:41.213Z"
   },
   {
    "duration": 11,
    "start_time": "2022-12-06T09:15:34.530Z"
   },
   {
    "duration": 10,
    "start_time": "2022-12-06T09:15:58.174Z"
   },
   {
    "duration": 19,
    "start_time": "2022-12-06T09:18:44.209Z"
   },
   {
    "duration": 9,
    "start_time": "2022-12-06T09:19:11.169Z"
   },
   {
    "duration": 6,
    "start_time": "2022-12-06T09:19:20.368Z"
   },
   {
    "duration": 6,
    "start_time": "2022-12-06T09:19:21.113Z"
   },
   {
    "duration": 5,
    "start_time": "2022-12-06T09:20:55.580Z"
   },
   {
    "duration": 9,
    "start_time": "2022-12-06T09:21:02.685Z"
   },
   {
    "duration": 50,
    "start_time": "2022-12-06T09:21:19.170Z"
   },
   {
    "duration": 46,
    "start_time": "2022-12-06T09:24:50.648Z"
   },
   {
    "duration": 3,
    "start_time": "2022-12-06T09:25:06.422Z"
   },
   {
    "duration": 658,
    "start_time": "2022-12-06T09:25:34.960Z"
   },
   {
    "duration": 4,
    "start_time": "2022-12-06T09:26:28.156Z"
   },
   {
    "duration": 9,
    "start_time": "2022-12-06T09:26:35.479Z"
   },
   {
    "duration": 2,
    "start_time": "2022-12-06T09:26:43.088Z"
   },
   {
    "duration": 10,
    "start_time": "2022-12-06T09:26:43.765Z"
   },
   {
    "duration": 636,
    "start_time": "2022-12-06T09:27:11.257Z"
   },
   {
    "duration": 3,
    "start_time": "2022-12-06T09:31:00.742Z"
   },
   {
    "duration": 304,
    "start_time": "2022-12-06T09:31:32.880Z"
   },
   {
    "duration": 88,
    "start_time": "2022-12-06T09:32:05.697Z"
   },
   {
    "duration": 45,
    "start_time": "2022-12-06T09:32:12.200Z"
   },
   {
    "duration": 52,
    "start_time": "2022-12-06T09:32:16.500Z"
   },
   {
    "duration": 3,
    "start_time": "2022-12-06T09:32:41.230Z"
   },
   {
    "duration": 203,
    "start_time": "2022-12-06T09:32:42.519Z"
   },
   {
    "duration": 613,
    "start_time": "2022-12-06T09:33:08.189Z"
   },
   {
    "duration": 82,
    "start_time": "2022-12-06T09:33:42.664Z"
   },
   {
    "duration": 3,
    "start_time": "2022-12-06T09:34:09.182Z"
   },
   {
    "duration": 5,
    "start_time": "2022-12-06T09:34:25.694Z"
   },
   {
    "duration": 4,
    "start_time": "2022-12-06T09:35:09.370Z"
   },
   {
    "duration": 8,
    "start_time": "2022-12-06T09:35:12.285Z"
   },
   {
    "duration": 94,
    "start_time": "2022-12-06T09:38:29.789Z"
   },
   {
    "duration": 15,
    "start_time": "2022-12-06T09:38:29.885Z"
   },
   {
    "duration": 28,
    "start_time": "2022-12-06T09:38:29.902Z"
   },
   {
    "duration": 12,
    "start_time": "2022-12-06T09:38:29.933Z"
   },
   {
    "duration": 41,
    "start_time": "2022-12-06T09:38:29.946Z"
   },
   {
    "duration": 4,
    "start_time": "2022-12-06T09:38:29.988Z"
   },
   {
    "duration": 27,
    "start_time": "2022-12-06T09:38:29.994Z"
   },
   {
    "duration": 20,
    "start_time": "2022-12-06T09:38:30.023Z"
   },
   {
    "duration": 27,
    "start_time": "2022-12-06T09:38:30.045Z"
   },
   {
    "duration": 32,
    "start_time": "2022-12-06T09:38:30.075Z"
   },
   {
    "duration": 75,
    "start_time": "2022-12-06T09:38:30.109Z"
   },
   {
    "duration": 15,
    "start_time": "2022-12-06T09:38:30.186Z"
   },
   {
    "duration": 36,
    "start_time": "2022-12-06T09:38:30.202Z"
   },
   {
    "duration": 35,
    "start_time": "2022-12-06T09:38:30.240Z"
   },
   {
    "duration": 52,
    "start_time": "2022-12-06T09:38:30.277Z"
   },
   {
    "duration": 18,
    "start_time": "2022-12-06T09:38:30.330Z"
   },
   {
    "duration": 8,
    "start_time": "2022-12-06T09:38:30.350Z"
   },
   {
    "duration": 50,
    "start_time": "2022-12-06T09:38:30.360Z"
   },
   {
    "duration": 56,
    "start_time": "2022-12-06T09:38:30.412Z"
   },
   {
    "duration": 51,
    "start_time": "2022-12-06T09:38:30.469Z"
   },
   {
    "duration": 57,
    "start_time": "2022-12-06T09:38:30.521Z"
   },
   {
    "duration": 31,
    "start_time": "2022-12-06T09:38:30.580Z"
   },
   {
    "duration": 21,
    "start_time": "2022-12-06T09:38:30.613Z"
   },
   {
    "duration": 42,
    "start_time": "2022-12-06T09:38:30.636Z"
   },
   {
    "duration": 29,
    "start_time": "2022-12-06T09:38:30.680Z"
   },
   {
    "duration": 39,
    "start_time": "2022-12-06T09:38:30.710Z"
   },
   {
    "duration": 9,
    "start_time": "2022-12-06T09:38:32.592Z"
   },
   {
    "duration": 4,
    "start_time": "2022-12-06T09:42:47.619Z"
   },
   {
    "duration": 7,
    "start_time": "2022-12-06T09:42:57.567Z"
   },
   {
    "duration": 43,
    "start_time": "2022-12-07T04:53:11.245Z"
   },
   {
    "duration": 696,
    "start_time": "2022-12-07T04:53:15.713Z"
   },
   {
    "duration": 21,
    "start_time": "2022-12-07T04:53:16.411Z"
   },
   {
    "duration": 13,
    "start_time": "2022-12-07T04:53:16.433Z"
   },
   {
    "duration": 10,
    "start_time": "2022-12-07T04:53:16.448Z"
   },
   {
    "duration": 42,
    "start_time": "2022-12-07T04:53:16.460Z"
   },
   {
    "duration": 3,
    "start_time": "2022-12-07T04:53:16.504Z"
   },
   {
    "duration": 12,
    "start_time": "2022-12-07T04:53:16.509Z"
   },
   {
    "duration": 4,
    "start_time": "2022-12-07T04:53:16.523Z"
   },
   {
    "duration": 8,
    "start_time": "2022-12-07T04:53:16.529Z"
   },
   {
    "duration": 5,
    "start_time": "2022-12-07T04:53:16.540Z"
   },
   {
    "duration": 58,
    "start_time": "2022-12-07T04:53:16.546Z"
   },
   {
    "duration": 8,
    "start_time": "2022-12-07T04:53:16.605Z"
   },
   {
    "duration": 9,
    "start_time": "2022-12-07T04:53:16.615Z"
   },
   {
    "duration": 14,
    "start_time": "2022-12-07T04:53:16.626Z"
   },
   {
    "duration": 19,
    "start_time": "2022-12-07T04:53:16.642Z"
   },
   {
    "duration": 14,
    "start_time": "2022-12-07T04:53:16.662Z"
   },
   {
    "duration": 3,
    "start_time": "2022-12-07T04:53:16.677Z"
   },
   {
    "duration": 9,
    "start_time": "2022-12-07T04:53:16.697Z"
   },
   {
    "duration": 5,
    "start_time": "2022-12-07T04:53:16.707Z"
   },
   {
    "duration": 3,
    "start_time": "2022-12-07T04:53:16.714Z"
   },
   {
    "duration": 11,
    "start_time": "2022-12-07T04:53:16.718Z"
   },
   {
    "duration": 4,
    "start_time": "2022-12-07T04:53:16.730Z"
   },
   {
    "duration": 3,
    "start_time": "2022-12-07T04:53:16.736Z"
   },
   {
    "duration": 6,
    "start_time": "2022-12-07T04:53:16.741Z"
   },
   {
    "duration": 6,
    "start_time": "2022-12-07T04:53:16.748Z"
   },
   {
    "duration": 42,
    "start_time": "2022-12-07T04:53:16.755Z"
   },
   {
    "duration": 4,
    "start_time": "2022-12-07T04:53:16.798Z"
   },
   {
    "duration": 7,
    "start_time": "2022-12-07T04:53:16.804Z"
   },
   {
    "duration": 6,
    "start_time": "2022-12-07T04:53:18.629Z"
   },
   {
    "duration": 5,
    "start_time": "2022-12-07T04:54:51.229Z"
   },
   {
    "duration": 7,
    "start_time": "2022-12-07T04:54:52.597Z"
   },
   {
    "duration": 4,
    "start_time": "2022-12-07T04:54:54.169Z"
   },
   {
    "duration": 4,
    "start_time": "2022-12-07T04:54:54.629Z"
   },
   {
    "duration": 7,
    "start_time": "2022-12-07T04:54:55.205Z"
   },
   {
    "duration": 7,
    "start_time": "2022-12-07T04:54:59.104Z"
   },
   {
    "duration": 6,
    "start_time": "2022-12-07T04:55:02.137Z"
   },
   {
    "duration": 4,
    "start_time": "2022-12-07T04:55:43.504Z"
   },
   {
    "duration": 6,
    "start_time": "2022-12-07T04:55:47.149Z"
   },
   {
    "duration": 3,
    "start_time": "2022-12-07T04:56:28.505Z"
   },
   {
    "duration": 7,
    "start_time": "2022-12-07T04:56:49.056Z"
   },
   {
    "duration": 7,
    "start_time": "2022-12-07T04:57:02.169Z"
   },
   {
    "duration": 7,
    "start_time": "2022-12-07T04:57:06.524Z"
   },
   {
    "duration": 8,
    "start_time": "2022-12-07T04:57:09.764Z"
   },
   {
    "duration": 23,
    "start_time": "2022-12-07T05:07:13.263Z"
   },
   {
    "duration": 8,
    "start_time": "2022-12-07T05:07:20.686Z"
   },
   {
    "duration": 3,
    "start_time": "2022-12-07T05:10:29.582Z"
   },
   {
    "duration": 8,
    "start_time": "2022-12-07T05:10:35.909Z"
   },
   {
    "duration": 3,
    "start_time": "2022-12-07T05:11:39.170Z"
   },
   {
    "duration": 31,
    "start_time": "2022-12-07T05:12:04.897Z"
   },
   {
    "duration": 9,
    "start_time": "2022-12-07T05:12:12.377Z"
   },
   {
    "duration": 3,
    "start_time": "2022-12-07T05:18:38.276Z"
   },
   {
    "duration": 3,
    "start_time": "2022-12-07T05:19:32.299Z"
   },
   {
    "duration": 8,
    "start_time": "2022-12-07T05:20:09.151Z"
   },
   {
    "duration": 28,
    "start_time": "2022-12-07T05:20:40.503Z"
   },
   {
    "duration": 10,
    "start_time": "2022-12-07T05:20:45.352Z"
   },
   {
    "duration": 3,
    "start_time": "2022-12-07T05:21:16.279Z"
   },
   {
    "duration": 4,
    "start_time": "2022-12-07T05:21:33.534Z"
   },
   {
    "duration": 8,
    "start_time": "2022-12-07T05:21:41.593Z"
   },
   {
    "duration": 23,
    "start_time": "2022-12-07T05:26:11.662Z"
   },
   {
    "duration": 3,
    "start_time": "2022-12-07T05:26:26.380Z"
   },
   {
    "duration": 4,
    "start_time": "2022-12-07T05:26:51.402Z"
   },
   {
    "duration": 8,
    "start_time": "2022-12-07T05:27:09.374Z"
   },
   {
    "duration": 3,
    "start_time": "2022-12-07T05:27:29.322Z"
   },
   {
    "duration": 8,
    "start_time": "2022-12-07T05:27:30.194Z"
   },
   {
    "duration": 5,
    "start_time": "2022-12-07T05:50:25.589Z"
   },
   {
    "duration": 3,
    "start_time": "2022-12-07T06:01:28.567Z"
   },
   {
    "duration": 8,
    "start_time": "2022-12-07T06:02:28.987Z"
   },
   {
    "duration": 24,
    "start_time": "2022-12-07T06:03:07.258Z"
   },
   {
    "duration": 85,
    "start_time": "2022-12-07T06:05:04.786Z"
   },
   {
    "duration": 25,
    "start_time": "2022-12-07T06:05:04.874Z"
   },
   {
    "duration": 20,
    "start_time": "2022-12-07T06:05:04.901Z"
   },
   {
    "duration": 13,
    "start_time": "2022-12-07T06:05:04.924Z"
   },
   {
    "duration": 65,
    "start_time": "2022-12-07T06:05:04.938Z"
   },
   {
    "duration": 4,
    "start_time": "2022-12-07T06:05:05.005Z"
   },
   {
    "duration": 17,
    "start_time": "2022-12-07T06:05:05.011Z"
   },
   {
    "duration": 5,
    "start_time": "2022-12-07T06:05:05.029Z"
   },
   {
    "duration": 13,
    "start_time": "2022-12-07T06:05:05.035Z"
   },
   {
    "duration": 10,
    "start_time": "2022-12-07T06:05:05.050Z"
   },
   {
    "duration": 56,
    "start_time": "2022-12-07T06:05:05.061Z"
   },
   {
    "duration": 9,
    "start_time": "2022-12-07T06:05:05.119Z"
   },
   {
    "duration": 18,
    "start_time": "2022-12-07T06:05:05.130Z"
   },
   {
    "duration": 23,
    "start_time": "2022-12-07T06:05:05.150Z"
   },
   {
    "duration": 36,
    "start_time": "2022-12-07T06:05:05.175Z"
   },
   {
    "duration": 18,
    "start_time": "2022-12-07T06:05:05.213Z"
   },
   {
    "duration": 4,
    "start_time": "2022-12-07T06:05:05.233Z"
   },
   {
    "duration": 22,
    "start_time": "2022-12-07T06:05:05.238Z"
   },
   {
    "duration": 9,
    "start_time": "2022-12-07T06:05:05.262Z"
   },
   {
    "duration": 24,
    "start_time": "2022-12-07T06:05:05.273Z"
   },
   {
    "duration": 15,
    "start_time": "2022-12-07T06:05:05.299Z"
   },
   {
    "duration": 4,
    "start_time": "2022-12-07T06:05:05.316Z"
   },
   {
    "duration": 7,
    "start_time": "2022-12-07T06:05:05.321Z"
   },
   {
    "duration": 8,
    "start_time": "2022-12-07T06:05:05.329Z"
   },
   {
    "duration": 23,
    "start_time": "2022-12-07T06:05:05.339Z"
   },
   {
    "duration": 12,
    "start_time": "2022-12-07T06:05:05.363Z"
   },
   {
    "duration": 16,
    "start_time": "2022-12-07T06:05:05.376Z"
   },
   {
    "duration": 9,
    "start_time": "2022-12-07T06:05:05.395Z"
   },
   {
    "duration": 10,
    "start_time": "2022-12-07T06:05:05.406Z"
   },
   {
    "duration": 6,
    "start_time": "2022-12-07T06:05:05.418Z"
   },
   {
    "duration": 10,
    "start_time": "2022-12-07T06:05:05.425Z"
   },
   {
    "duration": 7,
    "start_time": "2022-12-07T06:05:05.437Z"
   },
   {
    "duration": 8,
    "start_time": "2022-12-07T06:05:05.446Z"
   },
   {
    "duration": 11,
    "start_time": "2022-12-07T06:05:05.455Z"
   },
   {
    "duration": 42,
    "start_time": "2022-12-07T06:05:05.467Z"
   },
   {
    "duration": 8,
    "start_time": "2022-12-07T06:05:05.510Z"
   },
   {
    "duration": 5,
    "start_time": "2022-12-07T06:05:05.519Z"
   },
   {
    "duration": 9,
    "start_time": "2022-12-07T06:05:05.525Z"
   },
   {
    "duration": 5,
    "start_time": "2022-12-07T06:05:05.536Z"
   },
   {
    "duration": 10,
    "start_time": "2022-12-07T06:05:05.542Z"
   },
   {
    "duration": 4,
    "start_time": "2022-12-07T06:05:05.554Z"
   },
   {
    "duration": 37,
    "start_time": "2022-12-07T06:05:05.560Z"
   },
   {
    "duration": 28,
    "start_time": "2022-12-07T06:05:05.599Z"
   },
   {
    "duration": 3,
    "start_time": "2022-12-07T06:05:05.629Z"
   },
   {
    "duration": 8,
    "start_time": "2022-12-07T06:05:05.633Z"
   },
   {
    "duration": 9,
    "start_time": "2022-12-07T06:05:05.643Z"
   },
   {
    "duration": 45,
    "start_time": "2022-12-07T06:05:05.654Z"
   },
   {
    "duration": 3,
    "start_time": "2022-12-07T06:05:05.702Z"
   },
   {
    "duration": 7,
    "start_time": "2022-12-07T06:05:05.707Z"
   },
   {
    "duration": 10,
    "start_time": "2022-12-07T06:05:05.715Z"
   },
   {
    "duration": 551,
    "start_time": "2022-12-07T15:21:15.917Z"
   },
   {
    "duration": 26,
    "start_time": "2022-12-07T15:21:16.470Z"
   },
   {
    "duration": 16,
    "start_time": "2022-12-07T15:21:16.498Z"
   },
   {
    "duration": 22,
    "start_time": "2022-12-07T15:21:16.517Z"
   },
   {
    "duration": 55,
    "start_time": "2022-12-07T15:21:16.541Z"
   },
   {
    "duration": 5,
    "start_time": "2022-12-07T15:21:16.598Z"
   },
   {
    "duration": 16,
    "start_time": "2022-12-07T15:21:16.605Z"
   },
   {
    "duration": 6,
    "start_time": "2022-12-07T15:21:16.623Z"
   },
   {
    "duration": 11,
    "start_time": "2022-12-07T15:21:16.631Z"
   },
   {
    "duration": 6,
    "start_time": "2022-12-07T15:21:16.644Z"
   },
   {
    "duration": 73,
    "start_time": "2022-12-07T15:21:16.652Z"
   },
   {
    "duration": 11,
    "start_time": "2022-12-07T15:21:16.728Z"
   },
   {
    "duration": 7,
    "start_time": "2022-12-07T15:21:16.740Z"
   },
   {
    "duration": 13,
    "start_time": "2022-12-07T15:21:16.749Z"
   },
   {
    "duration": 41,
    "start_time": "2022-12-07T15:21:16.764Z"
   },
   {
    "duration": 25,
    "start_time": "2022-12-07T15:21:16.807Z"
   },
   {
    "duration": 4,
    "start_time": "2022-12-07T15:21:16.835Z"
   },
   {
    "duration": 29,
    "start_time": "2022-12-07T15:21:16.841Z"
   },
   {
    "duration": 11,
    "start_time": "2022-12-07T15:21:16.872Z"
   },
   {
    "duration": 15,
    "start_time": "2022-12-07T15:21:16.884Z"
   },
   {
    "duration": 10,
    "start_time": "2022-12-07T15:21:16.901Z"
   },
   {
    "duration": 9,
    "start_time": "2022-12-07T15:21:16.913Z"
   },
   {
    "duration": 8,
    "start_time": "2022-12-07T15:21:16.923Z"
   },
   {
    "duration": 8,
    "start_time": "2022-12-07T15:21:16.933Z"
   },
   {
    "duration": 13,
    "start_time": "2022-12-07T15:21:16.943Z"
   },
   {
    "duration": 44,
    "start_time": "2022-12-07T15:21:16.958Z"
   },
   {
    "duration": 9,
    "start_time": "2022-12-07T15:21:17.005Z"
   },
   {
    "duration": 12,
    "start_time": "2022-12-07T15:21:17.019Z"
   },
   {
    "duration": 12,
    "start_time": "2022-12-07T15:21:17.033Z"
   },
   {
    "duration": 11,
    "start_time": "2022-12-07T15:21:17.047Z"
   },
   {
    "duration": 9,
    "start_time": "2022-12-07T15:21:17.060Z"
   },
   {
    "duration": 28,
    "start_time": "2022-12-07T15:21:17.071Z"
   },
   {
    "duration": 11,
    "start_time": "2022-12-07T15:21:17.101Z"
   },
   {
    "duration": 32,
    "start_time": "2022-12-07T15:21:17.115Z"
   },
   {
    "duration": 34,
    "start_time": "2022-12-07T15:21:17.149Z"
   },
   {
    "duration": 10,
    "start_time": "2022-12-07T15:21:17.186Z"
   },
   {
    "duration": 5,
    "start_time": "2022-12-07T15:21:17.198Z"
   },
   {
    "duration": 13,
    "start_time": "2022-12-07T15:21:17.205Z"
   },
   {
    "duration": 7,
    "start_time": "2022-12-07T15:21:17.223Z"
   },
   {
    "duration": 15,
    "start_time": "2022-12-07T15:21:17.232Z"
   },
   {
    "duration": 8,
    "start_time": "2022-12-07T15:21:17.249Z"
   },
   {
    "duration": 20,
    "start_time": "2022-12-07T15:21:17.258Z"
   },
   {
    "duration": 58,
    "start_time": "2022-12-07T15:21:17.280Z"
   },
   {
    "duration": 4,
    "start_time": "2022-12-07T15:21:17.340Z"
   },
   {
    "duration": 13,
    "start_time": "2022-12-07T15:21:17.346Z"
   },
   {
    "duration": 34,
    "start_time": "2022-12-07T15:21:17.361Z"
   },
   {
    "duration": 30,
    "start_time": "2022-12-07T15:21:17.397Z"
   },
   {
    "duration": 3,
    "start_time": "2022-12-07T15:21:17.429Z"
   },
   {
    "duration": 8,
    "start_time": "2022-12-07T15:21:17.434Z"
   },
   {
    "duration": 17,
    "start_time": "2022-12-07T15:21:17.445Z"
   },
   {
    "duration": 54,
    "start_time": "2022-12-09T07:41:44.450Z"
   },
   {
    "duration": 709,
    "start_time": "2022-12-09T07:41:49.692Z"
   },
   {
    "duration": 24,
    "start_time": "2022-12-09T07:41:50.404Z"
   },
   {
    "duration": 16,
    "start_time": "2022-12-09T07:41:50.429Z"
   },
   {
    "duration": 16,
    "start_time": "2022-12-09T07:41:50.448Z"
   },
   {
    "duration": 11,
    "start_time": "2022-12-09T07:41:50.477Z"
   },
   {
    "duration": 8,
    "start_time": "2022-12-09T07:41:50.489Z"
   },
   {
    "duration": 7,
    "start_time": "2022-12-09T07:41:50.499Z"
   },
   {
    "duration": 10,
    "start_time": "2022-12-09T07:41:50.508Z"
   },
   {
    "duration": 8,
    "start_time": "2022-12-09T07:41:50.520Z"
   },
   {
    "duration": 8,
    "start_time": "2022-12-09T07:41:50.531Z"
   },
   {
    "duration": 39,
    "start_time": "2022-12-09T07:41:50.540Z"
   },
   {
    "duration": 11,
    "start_time": "2022-12-09T07:41:50.581Z"
   },
   {
    "duration": 13,
    "start_time": "2022-12-09T07:41:50.594Z"
   },
   {
    "duration": 38,
    "start_time": "2022-12-09T07:41:50.609Z"
   },
   {
    "duration": 0,
    "start_time": "2022-12-09T07:41:50.651Z"
   },
   {
    "duration": 1,
    "start_time": "2022-12-09T07:41:50.652Z"
   },
   {
    "duration": 0,
    "start_time": "2022-12-09T07:41:50.654Z"
   },
   {
    "duration": 0,
    "start_time": "2022-12-09T07:41:50.677Z"
   },
   {
    "duration": 0,
    "start_time": "2022-12-09T07:41:50.679Z"
   },
   {
    "duration": 0,
    "start_time": "2022-12-09T07:41:50.681Z"
   },
   {
    "duration": 0,
    "start_time": "2022-12-09T07:41:50.682Z"
   },
   {
    "duration": 0,
    "start_time": "2022-12-09T07:41:50.684Z"
   },
   {
    "duration": 0,
    "start_time": "2022-12-09T07:41:50.685Z"
   },
   {
    "duration": 0,
    "start_time": "2022-12-09T07:41:50.687Z"
   },
   {
    "duration": 0,
    "start_time": "2022-12-09T07:41:50.688Z"
   },
   {
    "duration": 0,
    "start_time": "2022-12-09T07:41:50.690Z"
   },
   {
    "duration": 0,
    "start_time": "2022-12-09T07:41:50.691Z"
   },
   {
    "duration": 0,
    "start_time": "2022-12-09T07:41:50.693Z"
   },
   {
    "duration": 0,
    "start_time": "2022-12-09T07:41:50.694Z"
   },
   {
    "duration": 0,
    "start_time": "2022-12-09T07:41:50.696Z"
   },
   {
    "duration": 0,
    "start_time": "2022-12-09T07:41:50.697Z"
   },
   {
    "duration": 0,
    "start_time": "2022-12-09T07:41:50.699Z"
   },
   {
    "duration": 0,
    "start_time": "2022-12-09T07:41:50.700Z"
   },
   {
    "duration": 1,
    "start_time": "2022-12-09T07:41:50.701Z"
   },
   {
    "duration": 0,
    "start_time": "2022-12-09T07:41:50.703Z"
   },
   {
    "duration": 0,
    "start_time": "2022-12-09T07:41:50.705Z"
   },
   {
    "duration": 0,
    "start_time": "2022-12-09T07:41:50.706Z"
   },
   {
    "duration": 0,
    "start_time": "2022-12-09T07:41:50.707Z"
   },
   {
    "duration": 0,
    "start_time": "2022-12-09T07:41:50.709Z"
   },
   {
    "duration": 0,
    "start_time": "2022-12-09T07:41:50.710Z"
   },
   {
    "duration": 0,
    "start_time": "2022-12-09T07:41:50.711Z"
   },
   {
    "duration": 0,
    "start_time": "2022-12-09T07:41:50.712Z"
   },
   {
    "duration": 0,
    "start_time": "2022-12-09T07:41:50.713Z"
   },
   {
    "duration": 0,
    "start_time": "2022-12-09T07:41:50.714Z"
   },
   {
    "duration": 0,
    "start_time": "2022-12-09T07:41:50.715Z"
   },
   {
    "duration": 0,
    "start_time": "2022-12-09T07:41:50.716Z"
   },
   {
    "duration": 0,
    "start_time": "2022-12-09T07:41:50.716Z"
   },
   {
    "duration": 0,
    "start_time": "2022-12-09T07:41:50.717Z"
   },
   {
    "duration": 0,
    "start_time": "2022-12-09T07:41:50.717Z"
   },
   {
    "duration": 0,
    "start_time": "2022-12-09T07:41:50.718Z"
   },
   {
    "duration": 0,
    "start_time": "2022-12-09T07:41:50.718Z"
   },
   {
    "duration": 11,
    "start_time": "2022-12-09T07:41:55.947Z"
   },
   {
    "duration": 21,
    "start_time": "2022-12-09T07:42:00.191Z"
   },
   {
    "duration": 21,
    "start_time": "2022-12-09T07:42:18.935Z"
   },
   {
    "duration": 11,
    "start_time": "2022-12-09T07:42:29.074Z"
   },
   {
    "duration": 71,
    "start_time": "2022-12-09T07:42:34.442Z"
   },
   {
    "duration": 17,
    "start_time": "2022-12-09T07:42:34.515Z"
   },
   {
    "duration": 28,
    "start_time": "2022-12-09T07:42:34.534Z"
   },
   {
    "duration": 30,
    "start_time": "2022-12-09T07:42:34.565Z"
   },
   {
    "duration": 42,
    "start_time": "2022-12-09T07:42:34.597Z"
   },
   {
    "duration": 4,
    "start_time": "2022-12-09T07:42:34.641Z"
   },
   {
    "duration": 27,
    "start_time": "2022-12-09T07:42:34.647Z"
   },
   {
    "duration": 27,
    "start_time": "2022-12-09T07:42:34.676Z"
   },
   {
    "duration": 38,
    "start_time": "2022-12-09T07:42:34.704Z"
   },
   {
    "duration": 17,
    "start_time": "2022-12-09T07:42:34.744Z"
   },
   {
    "duration": 58,
    "start_time": "2022-12-09T07:42:34.763Z"
   },
   {
    "duration": 10,
    "start_time": "2022-12-09T07:42:34.823Z"
   },
   {
    "duration": 30,
    "start_time": "2022-12-09T07:42:34.834Z"
   },
   {
    "duration": 40,
    "start_time": "2022-12-09T07:42:34.865Z"
   },
   {
    "duration": 65,
    "start_time": "2022-12-09T07:42:34.907Z"
   },
   {
    "duration": 37,
    "start_time": "2022-12-09T07:42:34.973Z"
   },
   {
    "duration": 4,
    "start_time": "2022-12-09T07:42:35.011Z"
   },
   {
    "duration": 34,
    "start_time": "2022-12-09T07:42:35.016Z"
   },
   {
    "duration": 27,
    "start_time": "2022-12-09T07:42:35.052Z"
   },
   {
    "duration": 24,
    "start_time": "2022-12-09T07:42:35.081Z"
   },
   {
    "duration": 41,
    "start_time": "2022-12-09T07:42:35.106Z"
   },
   {
    "duration": 25,
    "start_time": "2022-12-09T07:42:35.149Z"
   },
   {
    "duration": 29,
    "start_time": "2022-12-09T07:42:35.176Z"
   },
   {
    "duration": 16,
    "start_time": "2022-12-09T07:42:35.207Z"
   },
   {
    "duration": 40,
    "start_time": "2022-12-09T07:42:35.225Z"
   },
   {
    "duration": 27,
    "start_time": "2022-12-09T07:42:35.266Z"
   },
   {
    "duration": 43,
    "start_time": "2022-12-09T07:42:35.294Z"
   },
   {
    "duration": 41,
    "start_time": "2022-12-09T07:42:35.341Z"
   },
   {
    "duration": 29,
    "start_time": "2022-12-09T07:42:35.384Z"
   },
   {
    "duration": 33,
    "start_time": "2022-12-09T07:42:35.414Z"
   },
   {
    "duration": 31,
    "start_time": "2022-12-09T07:42:35.448Z"
   },
   {
    "duration": 21,
    "start_time": "2022-12-09T07:42:35.480Z"
   },
   {
    "duration": 35,
    "start_time": "2022-12-09T07:42:35.503Z"
   },
   {
    "duration": 26,
    "start_time": "2022-12-09T07:42:35.539Z"
   },
   {
    "duration": 48,
    "start_time": "2022-12-09T07:42:35.567Z"
   },
   {
    "duration": 17,
    "start_time": "2022-12-09T07:42:35.616Z"
   },
   {
    "duration": 32,
    "start_time": "2022-12-09T07:42:35.635Z"
   },
   {
    "duration": 23,
    "start_time": "2022-12-09T07:42:35.669Z"
   },
   {
    "duration": 26,
    "start_time": "2022-12-09T07:42:35.694Z"
   },
   {
    "duration": 35,
    "start_time": "2022-12-09T07:42:35.722Z"
   },
   {
    "duration": 19,
    "start_time": "2022-12-09T07:42:35.759Z"
   },
   {
    "duration": 28,
    "start_time": "2022-12-09T07:42:35.780Z"
   },
   {
    "duration": 56,
    "start_time": "2022-12-09T07:42:35.809Z"
   },
   {
    "duration": 13,
    "start_time": "2022-12-09T07:42:35.867Z"
   },
   {
    "duration": 42,
    "start_time": "2022-12-09T07:42:35.883Z"
   },
   {
    "duration": 35,
    "start_time": "2022-12-09T07:42:35.927Z"
   },
   {
    "duration": 51,
    "start_time": "2022-12-09T07:42:35.964Z"
   },
   {
    "duration": 3,
    "start_time": "2022-12-09T07:42:36.017Z"
   },
   {
    "duration": 18,
    "start_time": "2022-12-09T07:42:36.022Z"
   },
   {
    "duration": 25,
    "start_time": "2022-12-09T07:42:36.042Z"
   },
   {
    "duration": 10,
    "start_time": "2022-12-09T07:43:06.091Z"
   },
   {
    "duration": 4,
    "start_time": "2022-12-09T07:43:12.240Z"
   },
   {
    "duration": 9,
    "start_time": "2022-12-09T07:43:15.314Z"
   },
   {
    "duration": 19,
    "start_time": "2022-12-09T07:50:48.882Z"
   },
   {
    "duration": 20,
    "start_time": "2022-12-09T07:50:57.477Z"
   },
   {
    "duration": 75,
    "start_time": "2022-12-09T07:51:16.713Z"
   },
   {
    "duration": 16,
    "start_time": "2022-12-09T07:51:16.790Z"
   },
   {
    "duration": 18,
    "start_time": "2022-12-09T07:51:16.808Z"
   },
   {
    "duration": 16,
    "start_time": "2022-12-09T07:51:16.828Z"
   },
   {
    "duration": 37,
    "start_time": "2022-12-09T07:51:16.845Z"
   },
   {
    "duration": 12,
    "start_time": "2022-12-09T07:51:16.884Z"
   },
   {
    "duration": 34,
    "start_time": "2022-12-09T07:51:16.898Z"
   },
   {
    "duration": 4,
    "start_time": "2022-12-09T07:51:16.934Z"
   },
   {
    "duration": 38,
    "start_time": "2022-12-09T07:51:16.940Z"
   },
   {
    "duration": 4,
    "start_time": "2022-12-09T07:51:16.981Z"
   },
   {
    "duration": 9,
    "start_time": "2022-12-09T07:51:16.987Z"
   },
   {
    "duration": 6,
    "start_time": "2022-12-09T07:51:16.998Z"
   },
   {
    "duration": 36,
    "start_time": "2022-12-09T07:51:17.006Z"
   },
   {
    "duration": 9,
    "start_time": "2022-12-09T07:51:17.044Z"
   },
   {
    "duration": 6,
    "start_time": "2022-12-09T07:51:17.077Z"
   },
   {
    "duration": 15,
    "start_time": "2022-12-09T07:51:17.085Z"
   },
   {
    "duration": 21,
    "start_time": "2022-12-09T07:51:17.102Z"
   },
   {
    "duration": 20,
    "start_time": "2022-12-09T07:51:17.125Z"
   },
   {
    "duration": 31,
    "start_time": "2022-12-09T07:51:17.147Z"
   },
   {
    "duration": 12,
    "start_time": "2022-12-09T07:51:17.181Z"
   },
   {
    "duration": 10,
    "start_time": "2022-12-09T07:51:17.195Z"
   },
   {
    "duration": 8,
    "start_time": "2022-12-09T07:51:17.208Z"
   },
   {
    "duration": 24,
    "start_time": "2022-12-09T07:51:17.218Z"
   },
   {
    "duration": 11,
    "start_time": "2022-12-09T07:51:17.244Z"
   },
   {
    "duration": 20,
    "start_time": "2022-12-09T07:51:17.257Z"
   },
   {
    "duration": 7,
    "start_time": "2022-12-09T07:51:17.279Z"
   },
   {
    "duration": 10,
    "start_time": "2022-12-09T07:51:17.287Z"
   },
   {
    "duration": 6,
    "start_time": "2022-12-09T07:51:17.300Z"
   },
   {
    "duration": 9,
    "start_time": "2022-12-09T07:51:17.307Z"
   },
   {
    "duration": 11,
    "start_time": "2022-12-09T07:51:17.318Z"
   },
   {
    "duration": 9,
    "start_time": "2022-12-09T07:51:17.331Z"
   },
   {
    "duration": 36,
    "start_time": "2022-12-09T07:51:17.342Z"
   },
   {
    "duration": 8,
    "start_time": "2022-12-09T07:51:17.380Z"
   },
   {
    "duration": 71,
    "start_time": "2022-12-09T07:51:17.389Z"
   },
   {
    "duration": 14,
    "start_time": "2022-12-09T07:51:17.462Z"
   },
   {
    "duration": 32,
    "start_time": "2022-12-09T07:51:17.477Z"
   },
   {
    "duration": 39,
    "start_time": "2022-12-09T07:51:17.511Z"
   },
   {
    "duration": 9,
    "start_time": "2022-12-09T07:51:17.552Z"
   },
   {
    "duration": 9,
    "start_time": "2022-12-09T07:51:17.562Z"
   },
   {
    "duration": 10,
    "start_time": "2022-12-09T07:51:17.573Z"
   },
   {
    "duration": 13,
    "start_time": "2022-12-09T07:51:17.585Z"
   },
   {
    "duration": 43,
    "start_time": "2022-12-09T07:51:17.600Z"
   },
   {
    "duration": 26,
    "start_time": "2022-12-09T07:51:17.645Z"
   },
   {
    "duration": 48,
    "start_time": "2022-12-09T07:51:17.673Z"
   },
   {
    "duration": 69,
    "start_time": "2022-12-09T07:51:17.723Z"
   },
   {
    "duration": 3,
    "start_time": "2022-12-09T07:51:17.794Z"
   },
   {
    "duration": 27,
    "start_time": "2022-12-09T07:51:17.799Z"
   },
   {
    "duration": 19,
    "start_time": "2022-12-09T07:51:17.828Z"
   },
   {
    "duration": 42,
    "start_time": "2022-12-09T07:51:17.849Z"
   },
   {
    "duration": 10,
    "start_time": "2022-12-09T07:51:17.893Z"
   },
   {
    "duration": 17,
    "start_time": "2022-12-09T07:51:17.905Z"
   },
   {
    "duration": 22,
    "start_time": "2022-12-09T07:51:17.923Z"
   },
   {
    "duration": 21,
    "start_time": "2022-12-09T07:51:28.837Z"
   },
   {
    "duration": 37,
    "start_time": "2022-12-09T07:51:51.429Z"
   },
   {
    "duration": 72,
    "start_time": "2022-12-09T07:52:00.144Z"
   },
   {
    "duration": 16,
    "start_time": "2022-12-09T07:52:00.218Z"
   },
   {
    "duration": 50,
    "start_time": "2022-12-09T07:52:00.236Z"
   },
   {
    "duration": 59,
    "start_time": "2022-12-09T07:52:00.288Z"
   },
   {
    "duration": 39,
    "start_time": "2022-12-09T07:52:00.348Z"
   },
   {
    "duration": 56,
    "start_time": "2022-12-09T07:52:00.389Z"
   },
   {
    "duration": 72,
    "start_time": "2022-12-09T07:52:00.447Z"
   },
   {
    "duration": 14,
    "start_time": "2022-12-09T07:52:00.521Z"
   },
   {
    "duration": 48,
    "start_time": "2022-12-09T07:52:00.537Z"
   },
   {
    "duration": 29,
    "start_time": "2022-12-09T07:52:00.588Z"
   },
   {
    "duration": 47,
    "start_time": "2022-12-09T07:52:00.619Z"
   },
   {
    "duration": 34,
    "start_time": "2022-12-09T07:52:00.668Z"
   },
   {
    "duration": 78,
    "start_time": "2022-12-09T07:52:00.703Z"
   },
   {
    "duration": 33,
    "start_time": "2022-12-09T07:52:00.783Z"
   },
   {
    "duration": 24,
    "start_time": "2022-12-09T07:52:00.818Z"
   },
   {
    "duration": 73,
    "start_time": "2022-12-09T07:52:00.844Z"
   },
   {
    "duration": 50,
    "start_time": "2022-12-09T07:52:00.919Z"
   },
   {
    "duration": 49,
    "start_time": "2022-12-09T07:52:00.971Z"
   },
   {
    "duration": 57,
    "start_time": "2022-12-09T07:52:01.022Z"
   },
   {
    "duration": 23,
    "start_time": "2022-12-09T07:52:01.081Z"
   },
   {
    "duration": 10,
    "start_time": "2022-12-09T07:52:01.105Z"
   },
   {
    "duration": 13,
    "start_time": "2022-12-09T07:52:01.117Z"
   },
   {
    "duration": 22,
    "start_time": "2022-12-09T07:52:01.132Z"
   },
   {
    "duration": 27,
    "start_time": "2022-12-09T07:52:01.156Z"
   },
   {
    "duration": 31,
    "start_time": "2022-12-09T07:52:01.185Z"
   },
   {
    "duration": 21,
    "start_time": "2022-12-09T07:52:01.218Z"
   },
   {
    "duration": 24,
    "start_time": "2022-12-09T07:52:01.241Z"
   },
   {
    "duration": 19,
    "start_time": "2022-12-09T07:52:01.269Z"
   },
   {
    "duration": 28,
    "start_time": "2022-12-09T07:52:01.289Z"
   },
   {
    "duration": 41,
    "start_time": "2022-12-09T07:52:01.319Z"
   },
   {
    "duration": 30,
    "start_time": "2022-12-09T07:52:01.362Z"
   },
   {
    "duration": 22,
    "start_time": "2022-12-09T07:52:01.394Z"
   },
   {
    "duration": 27,
    "start_time": "2022-12-09T07:52:01.417Z"
   },
   {
    "duration": 33,
    "start_time": "2022-12-09T07:52:01.445Z"
   },
   {
    "duration": 23,
    "start_time": "2022-12-09T07:52:01.480Z"
   },
   {
    "duration": 51,
    "start_time": "2022-12-09T07:52:01.505Z"
   },
   {
    "duration": 140,
    "start_time": "2022-12-09T07:52:01.557Z"
   },
   {
    "duration": 9,
    "start_time": "2022-12-09T07:52:01.700Z"
   },
   {
    "duration": 68,
    "start_time": "2022-12-09T07:52:01.710Z"
   },
   {
    "duration": 17,
    "start_time": "2022-12-09T07:52:01.780Z"
   },
   {
    "duration": 79,
    "start_time": "2022-12-09T07:52:01.799Z"
   },
   {
    "duration": 48,
    "start_time": "2022-12-09T07:52:01.880Z"
   },
   {
    "duration": 48,
    "start_time": "2022-12-09T07:52:01.930Z"
   },
   {
    "duration": 25,
    "start_time": "2022-12-09T07:52:01.980Z"
   },
   {
    "duration": 89,
    "start_time": "2022-12-09T07:52:02.007Z"
   },
   {
    "duration": 3,
    "start_time": "2022-12-09T07:52:02.098Z"
   },
   {
    "duration": 25,
    "start_time": "2022-12-09T07:52:02.103Z"
   },
   {
    "duration": 52,
    "start_time": "2022-12-09T07:52:02.131Z"
   },
   {
    "duration": 110,
    "start_time": "2022-12-09T07:52:02.185Z"
   },
   {
    "duration": 5,
    "start_time": "2022-12-09T07:52:02.297Z"
   },
   {
    "duration": 75,
    "start_time": "2022-12-09T07:52:02.304Z"
   },
   {
    "duration": 33,
    "start_time": "2022-12-09T07:52:02.381Z"
   },
   {
    "duration": 20,
    "start_time": "2022-12-09T07:52:13.325Z"
   },
   {
    "duration": 23,
    "start_time": "2022-12-09T07:52:14.988Z"
   },
   {
    "duration": 13,
    "start_time": "2022-12-09T07:52:17.117Z"
   },
   {
    "duration": 4,
    "start_time": "2022-12-09T07:52:43.013Z"
   },
   {
    "duration": 8,
    "start_time": "2022-12-09T07:52:44.149Z"
   },
   {
    "duration": 14,
    "start_time": "2022-12-09T07:52:46.712Z"
   },
   {
    "duration": 74,
    "start_time": "2022-12-09T07:52:49.160Z"
   },
   {
    "duration": 16,
    "start_time": "2022-12-09T07:52:49.236Z"
   },
   {
    "duration": 40,
    "start_time": "2022-12-09T07:52:49.253Z"
   },
   {
    "duration": 10,
    "start_time": "2022-12-09T07:52:49.295Z"
   },
   {
    "duration": 49,
    "start_time": "2022-12-09T07:52:49.306Z"
   },
   {
    "duration": 34,
    "start_time": "2022-12-09T07:52:49.357Z"
   },
   {
    "duration": 36,
    "start_time": "2022-12-09T07:52:49.393Z"
   },
   {
    "duration": 3,
    "start_time": "2022-12-09T07:52:49.431Z"
   },
   {
    "duration": 44,
    "start_time": "2022-12-09T07:52:49.436Z"
   },
   {
    "duration": 28,
    "start_time": "2022-12-09T07:52:49.483Z"
   },
   {
    "duration": 43,
    "start_time": "2022-12-09T07:52:49.512Z"
   },
   {
    "duration": 22,
    "start_time": "2022-12-09T07:52:49.557Z"
   },
   {
    "duration": 48,
    "start_time": "2022-12-09T07:52:49.581Z"
   },
   {
    "duration": 9,
    "start_time": "2022-12-09T07:52:49.631Z"
   },
   {
    "duration": 29,
    "start_time": "2022-12-09T07:52:49.641Z"
   },
   {
    "duration": 26,
    "start_time": "2022-12-09T07:52:49.672Z"
   },
   {
    "duration": 32,
    "start_time": "2022-12-09T07:52:49.700Z"
   },
   {
    "duration": 28,
    "start_time": "2022-12-09T07:52:49.734Z"
   },
   {
    "duration": 7,
    "start_time": "2022-12-09T07:52:49.764Z"
   },
   {
    "duration": 42,
    "start_time": "2022-12-09T07:52:49.773Z"
   },
   {
    "duration": 34,
    "start_time": "2022-12-09T07:52:49.816Z"
   },
   {
    "duration": 21,
    "start_time": "2022-12-09T07:52:49.852Z"
   },
   {
    "duration": 30,
    "start_time": "2022-12-09T07:52:49.875Z"
   },
   {
    "duration": 30,
    "start_time": "2022-12-09T07:52:49.907Z"
   },
   {
    "duration": 21,
    "start_time": "2022-12-09T07:52:49.938Z"
   },
   {
    "duration": 13,
    "start_time": "2022-12-09T07:52:49.961Z"
   },
   {
    "duration": 8,
    "start_time": "2022-12-09T07:52:49.976Z"
   },
   {
    "duration": 7,
    "start_time": "2022-12-09T07:52:49.987Z"
   },
   {
    "duration": 11,
    "start_time": "2022-12-09T07:52:49.996Z"
   },
   {
    "duration": 20,
    "start_time": "2022-12-09T07:52:50.009Z"
   },
   {
    "duration": 25,
    "start_time": "2022-12-09T07:52:50.031Z"
   },
   {
    "duration": 19,
    "start_time": "2022-12-09T07:52:50.058Z"
   },
   {
    "duration": 18,
    "start_time": "2022-12-09T07:52:50.078Z"
   },
   {
    "duration": 13,
    "start_time": "2022-12-09T07:52:50.098Z"
   },
   {
    "duration": 16,
    "start_time": "2022-12-09T07:52:50.113Z"
   },
   {
    "duration": 17,
    "start_time": "2022-12-09T07:52:50.130Z"
   },
   {
    "duration": 30,
    "start_time": "2022-12-09T07:52:50.148Z"
   },
   {
    "duration": 8,
    "start_time": "2022-12-09T07:52:50.180Z"
   },
   {
    "duration": 17,
    "start_time": "2022-12-09T07:52:50.191Z"
   },
   {
    "duration": 21,
    "start_time": "2022-12-09T07:52:50.210Z"
   },
   {
    "duration": 6,
    "start_time": "2022-12-09T07:52:50.233Z"
   },
   {
    "duration": 12,
    "start_time": "2022-12-09T07:52:50.241Z"
   },
   {
    "duration": 7,
    "start_time": "2022-12-09T07:52:50.255Z"
   },
   {
    "duration": 13,
    "start_time": "2022-12-09T07:52:50.264Z"
   },
   {
    "duration": 31,
    "start_time": "2022-12-09T07:52:50.279Z"
   },
   {
    "duration": 4,
    "start_time": "2022-12-09T07:52:50.311Z"
   },
   {
    "duration": 14,
    "start_time": "2022-12-09T07:52:50.316Z"
   },
   {
    "duration": 18,
    "start_time": "2022-12-09T07:52:50.332Z"
   },
   {
    "duration": 32,
    "start_time": "2022-12-09T07:52:50.351Z"
   },
   {
    "duration": 4,
    "start_time": "2022-12-09T07:52:50.384Z"
   },
   {
    "duration": 12,
    "start_time": "2022-12-09T07:52:50.389Z"
   },
   {
    "duration": 22,
    "start_time": "2022-12-09T07:52:50.402Z"
   },
   {
    "duration": 75,
    "start_time": "2022-12-09T07:53:15.533Z"
   },
   {
    "duration": 16,
    "start_time": "2022-12-09T07:53:15.610Z"
   },
   {
    "duration": 26,
    "start_time": "2022-12-09T07:53:15.628Z"
   },
   {
    "duration": 26,
    "start_time": "2022-12-09T07:53:15.656Z"
   },
   {
    "duration": 34,
    "start_time": "2022-12-09T07:53:15.683Z"
   },
   {
    "duration": 3,
    "start_time": "2022-12-09T07:53:15.719Z"
   },
   {
    "duration": 11,
    "start_time": "2022-12-09T07:53:15.724Z"
   },
   {
    "duration": 12,
    "start_time": "2022-12-09T07:53:15.737Z"
   },
   {
    "duration": 27,
    "start_time": "2022-12-09T07:53:15.750Z"
   },
   {
    "duration": 5,
    "start_time": "2022-12-09T07:53:15.780Z"
   },
   {
    "duration": 36,
    "start_time": "2022-12-09T07:53:15.787Z"
   },
   {
    "duration": 11,
    "start_time": "2022-12-09T07:53:15.825Z"
   },
   {
    "duration": 9,
    "start_time": "2022-12-09T07:53:15.838Z"
   },
   {
    "duration": 35,
    "start_time": "2022-12-09T07:53:15.849Z"
   },
   {
    "duration": 33,
    "start_time": "2022-12-09T07:53:15.887Z"
   },
   {
    "duration": 20,
    "start_time": "2022-12-09T07:53:15.922Z"
   },
   {
    "duration": 4,
    "start_time": "2022-12-09T07:53:15.944Z"
   },
   {
    "duration": 30,
    "start_time": "2022-12-09T07:53:15.949Z"
   },
   {
    "duration": 8,
    "start_time": "2022-12-09T07:53:15.981Z"
   },
   {
    "duration": 3,
    "start_time": "2022-12-09T07:53:15.991Z"
   },
   {
    "duration": 13,
    "start_time": "2022-12-09T07:53:15.996Z"
   },
   {
    "duration": 5,
    "start_time": "2022-12-09T07:53:16.010Z"
   },
   {
    "duration": 7,
    "start_time": "2022-12-09T07:53:16.016Z"
   },
   {
    "duration": 9,
    "start_time": "2022-12-09T07:53:16.024Z"
   },
   {
    "duration": 6,
    "start_time": "2022-12-09T07:53:16.035Z"
   },
   {
    "duration": 38,
    "start_time": "2022-12-09T07:53:16.042Z"
   },
   {
    "duration": 7,
    "start_time": "2022-12-09T07:53:16.082Z"
   },
   {
    "duration": 8,
    "start_time": "2022-12-09T07:53:16.092Z"
   },
   {
    "duration": 8,
    "start_time": "2022-12-09T07:53:16.102Z"
   },
   {
    "duration": 14,
    "start_time": "2022-12-09T07:53:16.111Z"
   },
   {
    "duration": 7,
    "start_time": "2022-12-09T07:53:16.127Z"
   },
   {
    "duration": 9,
    "start_time": "2022-12-09T07:53:16.136Z"
   },
   {
    "duration": 6,
    "start_time": "2022-12-09T07:53:16.147Z"
   },
   {
    "duration": 9,
    "start_time": "2022-12-09T07:53:16.177Z"
   },
   {
    "duration": 34,
    "start_time": "2022-12-09T07:53:16.187Z"
   },
   {
    "duration": 9,
    "start_time": "2022-12-09T07:53:16.223Z"
   },
   {
    "duration": 5,
    "start_time": "2022-12-09T07:53:16.234Z"
   },
   {
    "duration": 10,
    "start_time": "2022-12-09T07:53:16.241Z"
   },
   {
    "duration": 27,
    "start_time": "2022-12-09T07:53:16.253Z"
   },
   {
    "duration": 13,
    "start_time": "2022-12-09T07:53:16.282Z"
   },
   {
    "duration": 6,
    "start_time": "2022-12-09T07:53:16.296Z"
   },
   {
    "duration": 18,
    "start_time": "2022-12-09T07:53:16.303Z"
   },
   {
    "duration": 31,
    "start_time": "2022-12-09T07:53:16.323Z"
   },
   {
    "duration": 4,
    "start_time": "2022-12-09T07:53:16.355Z"
   },
   {
    "duration": 18,
    "start_time": "2022-12-09T07:53:16.360Z"
   },
   {
    "duration": 12,
    "start_time": "2022-12-09T07:53:16.379Z"
   },
   {
    "duration": 33,
    "start_time": "2022-12-09T07:53:16.392Z"
   },
   {
    "duration": 3,
    "start_time": "2022-12-09T07:53:16.427Z"
   },
   {
    "duration": 11,
    "start_time": "2022-12-09T07:53:16.432Z"
   },
   {
    "duration": 12,
    "start_time": "2022-12-09T07:53:16.445Z"
   },
   {
    "duration": 67,
    "start_time": "2022-12-09T08:14:31.564Z"
   },
   {
    "duration": 6,
    "start_time": "2022-12-09T08:32:09.829Z"
   },
   {
    "duration": 5,
    "start_time": "2022-12-09T08:32:10.893Z"
   },
   {
    "duration": 6,
    "start_time": "2022-12-09T08:32:25.701Z"
   },
   {
    "duration": 4,
    "start_time": "2022-12-09T08:32:43.897Z"
   },
   {
    "duration": 4,
    "start_time": "2022-12-09T08:32:44.257Z"
   },
   {
    "duration": 6,
    "start_time": "2022-12-09T08:32:56.441Z"
   },
   {
    "duration": 224,
    "start_time": "2022-12-09T08:34:12.989Z"
   },
   {
    "duration": 212,
    "start_time": "2022-12-09T08:34:20.985Z"
   },
   {
    "duration": 314,
    "start_time": "2022-12-09T08:34:28.274Z"
   },
   {
    "duration": 75,
    "start_time": "2022-12-09T08:34:40.588Z"
   },
   {
    "duration": 16,
    "start_time": "2022-12-09T08:34:40.665Z"
   },
   {
    "duration": 18,
    "start_time": "2022-12-09T08:34:40.683Z"
   },
   {
    "duration": 9,
    "start_time": "2022-12-09T08:34:40.703Z"
   },
   {
    "duration": 35,
    "start_time": "2022-12-09T08:34:40.714Z"
   },
   {
    "duration": 4,
    "start_time": "2022-12-09T08:34:40.751Z"
   },
   {
    "duration": 9,
    "start_time": "2022-12-09T08:34:40.778Z"
   },
   {
    "duration": 5,
    "start_time": "2022-12-09T08:34:40.788Z"
   },
   {
    "duration": 9,
    "start_time": "2022-12-09T08:34:40.794Z"
   },
   {
    "duration": 6,
    "start_time": "2022-12-09T08:34:40.806Z"
   },
   {
    "duration": 65,
    "start_time": "2022-12-09T08:34:40.814Z"
   },
   {
    "duration": 10,
    "start_time": "2022-12-09T08:34:40.880Z"
   },
   {
    "duration": 4,
    "start_time": "2022-12-09T08:34:40.892Z"
   },
   {
    "duration": 13,
    "start_time": "2022-12-09T08:34:40.898Z"
   },
   {
    "duration": 25,
    "start_time": "2022-12-09T08:34:40.913Z"
   },
   {
    "duration": 43,
    "start_time": "2022-12-09T08:34:40.941Z"
   },
   {
    "duration": 4,
    "start_time": "2022-12-09T08:34:40.986Z"
   },
   {
    "duration": 35,
    "start_time": "2022-12-09T08:34:40.992Z"
   },
   {
    "duration": 11,
    "start_time": "2022-12-09T08:34:41.028Z"
   },
   {
    "duration": 5,
    "start_time": "2022-12-09T08:34:41.041Z"
   },
   {
    "duration": 19,
    "start_time": "2022-12-09T08:34:41.048Z"
   },
   {
    "duration": 7,
    "start_time": "2022-12-09T08:34:41.069Z"
   },
   {
    "duration": 6,
    "start_time": "2022-12-09T08:34:41.078Z"
   },
   {
    "duration": 13,
    "start_time": "2022-12-09T08:34:41.085Z"
   },
   {
    "duration": 6,
    "start_time": "2022-12-09T08:34:41.100Z"
   },
   {
    "duration": 5,
    "start_time": "2022-12-09T08:34:41.108Z"
   },
   {
    "duration": 9,
    "start_time": "2022-12-09T08:34:41.115Z"
   },
   {
    "duration": 8,
    "start_time": "2022-12-09T08:34:41.128Z"
   },
   {
    "duration": 9,
    "start_time": "2022-12-09T08:34:41.138Z"
   },
   {
    "duration": 8,
    "start_time": "2022-12-09T08:34:41.177Z"
   },
   {
    "duration": 10,
    "start_time": "2022-12-09T08:34:41.186Z"
   },
   {
    "duration": 7,
    "start_time": "2022-12-09T08:34:41.198Z"
   },
   {
    "duration": 13,
    "start_time": "2022-12-09T08:34:41.206Z"
   },
   {
    "duration": 30,
    "start_time": "2022-12-09T08:34:41.221Z"
   },
   {
    "duration": 32,
    "start_time": "2022-12-09T08:34:41.253Z"
   },
   {
    "duration": 19,
    "start_time": "2022-12-09T08:34:41.287Z"
   },
   {
    "duration": 16,
    "start_time": "2022-12-09T08:34:41.308Z"
   },
   {
    "duration": 10,
    "start_time": "2022-12-09T08:34:41.326Z"
   },
   {
    "duration": 15,
    "start_time": "2022-12-09T08:34:41.338Z"
   },
   {
    "duration": 11,
    "start_time": "2022-12-09T08:34:41.355Z"
   },
   {
    "duration": 14,
    "start_time": "2022-12-09T08:34:41.367Z"
   },
   {
    "duration": 42,
    "start_time": "2022-12-09T08:34:41.382Z"
   },
   {
    "duration": 4,
    "start_time": "2022-12-09T08:34:41.425Z"
   },
   {
    "duration": 9,
    "start_time": "2022-12-09T08:34:41.430Z"
   },
   {
    "duration": 11,
    "start_time": "2022-12-09T08:34:41.441Z"
   },
   {
    "duration": 42,
    "start_time": "2022-12-09T08:34:41.454Z"
   },
   {
    "duration": 3,
    "start_time": "2022-12-09T08:34:41.498Z"
   },
   {
    "duration": 12,
    "start_time": "2022-12-09T08:34:41.503Z"
   },
   {
    "duration": 12,
    "start_time": "2022-12-09T08:34:41.516Z"
   },
   {
    "duration": 7,
    "start_time": "2022-12-09T08:39:32.100Z"
   },
   {
    "duration": 8,
    "start_time": "2022-12-09T08:39:32.843Z"
   },
   {
    "duration": 16,
    "start_time": "2022-12-09T08:39:36.255Z"
   },
   {
    "duration": 6,
    "start_time": "2022-12-09T08:39:45.148Z"
   },
   {
    "duration": 8,
    "start_time": "2022-12-09T08:39:46.783Z"
   },
   {
    "duration": 8,
    "start_time": "2022-12-09T08:39:48.687Z"
   },
   {
    "duration": 5,
    "start_time": "2022-12-09T08:39:55.584Z"
   },
   {
    "duration": 6,
    "start_time": "2022-12-09T08:40:12.471Z"
   },
   {
    "duration": 46,
    "start_time": "2022-12-09T08:59:07.350Z"
   },
   {
    "duration": 72,
    "start_time": "2022-12-09T08:59:29.245Z"
   },
   {
    "duration": 17,
    "start_time": "2022-12-09T08:59:29.319Z"
   },
   {
    "duration": 54,
    "start_time": "2022-12-09T08:59:29.338Z"
   },
   {
    "duration": 36,
    "start_time": "2022-12-09T08:59:29.394Z"
   },
   {
    "duration": 48,
    "start_time": "2022-12-09T08:59:29.432Z"
   },
   {
    "duration": 3,
    "start_time": "2022-12-09T08:59:29.482Z"
   },
   {
    "duration": 28,
    "start_time": "2022-12-09T08:59:29.487Z"
   },
   {
    "duration": 22,
    "start_time": "2022-12-09T08:59:29.517Z"
   },
   {
    "duration": 41,
    "start_time": "2022-12-09T08:59:29.540Z"
   },
   {
    "duration": 28,
    "start_time": "2022-12-09T08:59:29.584Z"
   },
   {
    "duration": 57,
    "start_time": "2022-12-09T08:59:29.614Z"
   },
   {
    "duration": 9,
    "start_time": "2022-12-09T08:59:29.673Z"
   },
   {
    "duration": 29,
    "start_time": "2022-12-09T08:59:29.684Z"
   },
   {
    "duration": 37,
    "start_time": "2022-12-09T08:59:29.714Z"
   },
   {
    "duration": 51,
    "start_time": "2022-12-09T08:59:29.753Z"
   },
   {
    "duration": 27,
    "start_time": "2022-12-09T08:59:29.806Z"
   },
   {
    "duration": 4,
    "start_time": "2022-12-09T08:59:29.834Z"
   },
   {
    "duration": 44,
    "start_time": "2022-12-09T08:59:29.840Z"
   },
   {
    "duration": 29,
    "start_time": "2022-12-09T08:59:29.886Z"
   },
   {
    "duration": 20,
    "start_time": "2022-12-09T08:59:29.916Z"
   },
   {
    "duration": 41,
    "start_time": "2022-12-09T08:59:29.938Z"
   },
   {
    "duration": 38,
    "start_time": "2022-12-09T08:59:29.981Z"
   },
   {
    "duration": 31,
    "start_time": "2022-12-09T08:59:30.021Z"
   },
   {
    "duration": 20,
    "start_time": "2022-12-09T08:59:30.054Z"
   },
   {
    "duration": 38,
    "start_time": "2022-12-09T08:59:30.076Z"
   },
   {
    "duration": 28,
    "start_time": "2022-12-09T08:59:30.116Z"
   },
   {
    "duration": 43,
    "start_time": "2022-12-09T08:59:30.146Z"
   },
   {
    "duration": 49,
    "start_time": "2022-12-09T08:59:30.192Z"
   },
   {
    "duration": 25,
    "start_time": "2022-12-09T08:59:30.243Z"
   },
   {
    "duration": 49,
    "start_time": "2022-12-09T08:59:30.270Z"
   },
   {
    "duration": 32,
    "start_time": "2022-12-09T08:59:30.321Z"
   },
   {
    "duration": 42,
    "start_time": "2022-12-09T08:59:30.354Z"
   },
   {
    "duration": 44,
    "start_time": "2022-12-09T08:59:30.398Z"
   },
   {
    "duration": 53,
    "start_time": "2022-12-09T08:59:30.444Z"
   },
   {
    "duration": 44,
    "start_time": "2022-12-09T08:59:30.499Z"
   },
   {
    "duration": 36,
    "start_time": "2022-12-09T08:59:30.545Z"
   },
   {
    "duration": 38,
    "start_time": "2022-12-09T08:59:30.583Z"
   },
   {
    "duration": 41,
    "start_time": "2022-12-09T08:59:30.623Z"
   },
   {
    "duration": 42,
    "start_time": "2022-12-09T08:59:30.665Z"
   },
   {
    "duration": 46,
    "start_time": "2022-12-09T08:59:30.708Z"
   },
   {
    "duration": 45,
    "start_time": "2022-12-09T08:59:30.756Z"
   },
   {
    "duration": 72,
    "start_time": "2022-12-09T08:59:30.803Z"
   },
   {
    "duration": 4,
    "start_time": "2022-12-09T08:59:30.877Z"
   },
   {
    "duration": 31,
    "start_time": "2022-12-09T08:59:30.882Z"
   },
   {
    "duration": 52,
    "start_time": "2022-12-09T08:59:30.915Z"
   },
   {
    "duration": 81,
    "start_time": "2022-12-09T08:59:30.968Z"
   },
   {
    "duration": 68,
    "start_time": "2022-12-09T08:59:31.050Z"
   },
   {
    "duration": 44,
    "start_time": "2022-12-09T08:59:31.120Z"
   },
   {
    "duration": 30,
    "start_time": "2022-12-09T08:59:31.166Z"
   },
   {
    "duration": 48,
    "start_time": "2022-12-09T08:59:31.198Z"
   },
   {
    "duration": 75,
    "start_time": "2022-12-09T08:59:54.950Z"
   }
  ],
  "colab": {
   "name": "dpp_template_part2.ipynb",
   "provenance": []
  },
  "kernelspec": {
   "display_name": "Python 3 (ipykernel)",
   "language": "python",
   "name": "python3"
  },
  "language_info": {
   "codemirror_mode": {
    "name": "ipython",
    "version": 3
   },
   "file_extension": ".py",
   "mimetype": "text/x-python",
   "name": "python",
   "nbconvert_exporter": "python",
   "pygments_lexer": "ipython3",
   "version": "3.9.13"
  },
  "toc": {
   "base_numbering": 1,
   "nav_menu": {},
   "number_sections": true,
   "sideBar": true,
   "skip_h1_title": true,
   "title_cell": "Содержание",
   "title_sidebar": "Contents",
   "toc_cell": true,
   "toc_position": {
    "height": "calc(100% - 180px)",
    "left": "10px",
    "top": "150px",
    "width": "165px"
   },
   "toc_section_display": true,
   "toc_window_display": true
  }
 },
 "nbformat": 4,
 "nbformat_minor": 5
}
